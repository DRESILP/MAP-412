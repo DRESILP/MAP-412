{
 "cells": [
  {
   "cell_type": "markdown",
   "metadata": {},
   "source": [
    "# Paul CALOT--PLAETEVOET\n",
    "# Rendu 1"
   ]
  },
  {
   "cell_type": "code",
   "execution_count": 1,
   "metadata": {},
   "outputs": [
    {
     "data": {
      "application/javascript": [
       "\n",
       "(function(root) {\n",
       "  function now() {\n",
       "    return new Date();\n",
       "  }\n",
       "\n",
       "  var force = true;\n",
       "\n",
       "  if (typeof (root._bokeh_onload_callbacks) === \"undefined\" || force === true) {\n",
       "    root._bokeh_onload_callbacks = [];\n",
       "    root._bokeh_is_loading = undefined;\n",
       "  }\n",
       "\n",
       "  var JS_MIME_TYPE = 'application/javascript';\n",
       "  var HTML_MIME_TYPE = 'text/html';\n",
       "  var EXEC_MIME_TYPE = 'application/vnd.bokehjs_exec.v0+json';\n",
       "  var CLASS_NAME = 'output_bokeh rendered_html';\n",
       "\n",
       "  /**\n",
       "   * Render data to the DOM node\n",
       "   */\n",
       "  function render(props, node) {\n",
       "    var script = document.createElement(\"script\");\n",
       "    node.appendChild(script);\n",
       "  }\n",
       "\n",
       "  /**\n",
       "   * Handle when an output is cleared or removed\n",
       "   */\n",
       "  function handleClearOutput(event, handle) {\n",
       "    var cell = handle.cell;\n",
       "\n",
       "    var id = cell.output_area._bokeh_element_id;\n",
       "    var server_id = cell.output_area._bokeh_server_id;\n",
       "    // Clean up Bokeh references\n",
       "    if (id != null && id in Bokeh.index) {\n",
       "      Bokeh.index[id].model.document.clear();\n",
       "      delete Bokeh.index[id];\n",
       "    }\n",
       "\n",
       "    if (server_id !== undefined) {\n",
       "      // Clean up Bokeh references\n",
       "      var cmd = \"from bokeh.io.state import curstate; print(curstate().uuid_to_server['\" + server_id + \"'].get_sessions()[0].document.roots[0]._id)\";\n",
       "      cell.notebook.kernel.execute(cmd, {\n",
       "        iopub: {\n",
       "          output: function(msg) {\n",
       "            var id = msg.content.text.trim();\n",
       "            if (id in Bokeh.index) {\n",
       "              Bokeh.index[id].model.document.clear();\n",
       "              delete Bokeh.index[id];\n",
       "            }\n",
       "          }\n",
       "        }\n",
       "      });\n",
       "      // Destroy server and session\n",
       "      var cmd = \"import bokeh.io.notebook as ion; ion.destroy_server('\" + server_id + \"')\";\n",
       "      cell.notebook.kernel.execute(cmd);\n",
       "    }\n",
       "  }\n",
       "\n",
       "  /**\n",
       "   * Handle when a new output is added\n",
       "   */\n",
       "  function handleAddOutput(event, handle) {\n",
       "    var output_area = handle.output_area;\n",
       "    var output = handle.output;\n",
       "\n",
       "    // limit handleAddOutput to display_data with EXEC_MIME_TYPE content only\n",
       "    if ((output.output_type != \"display_data\") || (!output.data.hasOwnProperty(EXEC_MIME_TYPE))) {\n",
       "      return\n",
       "    }\n",
       "\n",
       "    var toinsert = output_area.element.find(\".\" + CLASS_NAME.split(' ')[0]);\n",
       "\n",
       "    if (output.metadata[EXEC_MIME_TYPE][\"id\"] !== undefined) {\n",
       "      toinsert[toinsert.length - 1].firstChild.textContent = output.data[JS_MIME_TYPE];\n",
       "      // store reference to embed id on output_area\n",
       "      output_area._bokeh_element_id = output.metadata[EXEC_MIME_TYPE][\"id\"];\n",
       "    }\n",
       "    if (output.metadata[EXEC_MIME_TYPE][\"server_id\"] !== undefined) {\n",
       "      var bk_div = document.createElement(\"div\");\n",
       "      bk_div.innerHTML = output.data[HTML_MIME_TYPE];\n",
       "      var script_attrs = bk_div.children[0].attributes;\n",
       "      for (var i = 0; i < script_attrs.length; i++) {\n",
       "        toinsert[toinsert.length - 1].firstChild.setAttribute(script_attrs[i].name, script_attrs[i].value);\n",
       "      }\n",
       "      // store reference to server id on output_area\n",
       "      output_area._bokeh_server_id = output.metadata[EXEC_MIME_TYPE][\"server_id\"];\n",
       "    }\n",
       "  }\n",
       "\n",
       "  function register_renderer(events, OutputArea) {\n",
       "\n",
       "    function append_mime(data, metadata, element) {\n",
       "      // create a DOM node to render to\n",
       "      var toinsert = this.create_output_subarea(\n",
       "        metadata,\n",
       "        CLASS_NAME,\n",
       "        EXEC_MIME_TYPE\n",
       "      );\n",
       "      this.keyboard_manager.register_events(toinsert);\n",
       "      // Render to node\n",
       "      var props = {data: data, metadata: metadata[EXEC_MIME_TYPE]};\n",
       "      render(props, toinsert[toinsert.length - 1]);\n",
       "      element.append(toinsert);\n",
       "      return toinsert\n",
       "    }\n",
       "\n",
       "    /* Handle when an output is cleared or removed */\n",
       "    events.on('clear_output.CodeCell', handleClearOutput);\n",
       "    events.on('delete.Cell', handleClearOutput);\n",
       "\n",
       "    /* Handle when a new output is added */\n",
       "    events.on('output_added.OutputArea', handleAddOutput);\n",
       "\n",
       "    /**\n",
       "     * Register the mime type and append_mime function with output_area\n",
       "     */\n",
       "    OutputArea.prototype.register_mime_type(EXEC_MIME_TYPE, append_mime, {\n",
       "      /* Is output safe? */\n",
       "      safe: true,\n",
       "      /* Index of renderer in `output_area.display_order` */\n",
       "      index: 0\n",
       "    });\n",
       "  }\n",
       "\n",
       "  // register the mime type if in Jupyter Notebook environment and previously unregistered\n",
       "  if (root.Jupyter !== undefined) {\n",
       "    var events = require('base/js/events');\n",
       "    var OutputArea = require('notebook/js/outputarea').OutputArea;\n",
       "\n",
       "    if (OutputArea.prototype.mime_types().indexOf(EXEC_MIME_TYPE) == -1) {\n",
       "      register_renderer(events, OutputArea);\n",
       "    }\n",
       "  }\n",
       "\n",
       "  \n",
       "  if (typeof (root._bokeh_timeout) === \"undefined\" || force === true) {\n",
       "    root._bokeh_timeout = Date.now() + 5000;\n",
       "    root._bokeh_failed_load = false;\n",
       "  }\n",
       "\n",
       "  var NB_LOAD_WARNING = {'data': {'text/html':\n",
       "     \"<div style='background-color: #fdd'>\\n\"+\n",
       "     \"<p>\\n\"+\n",
       "     \"BokehJS does not appear to have successfully loaded. If loading BokehJS from CDN, this \\n\"+\n",
       "     \"may be due to a slow or bad network connection. Possible fixes:\\n\"+\n",
       "     \"</p>\\n\"+\n",
       "     \"<ul>\\n\"+\n",
       "     \"<li>re-rerun `output_notebook()` to attempt to load from CDN again, or</li>\\n\"+\n",
       "     \"<li>use INLINE resources instead, as so:</li>\\n\"+\n",
       "     \"</ul>\\n\"+\n",
       "     \"<code>\\n\"+\n",
       "     \"from bokeh.resources import INLINE\\n\"+\n",
       "     \"output_notebook(resources=INLINE)\\n\"+\n",
       "     \"</code>\\n\"+\n",
       "     \"</div>\"}};\n",
       "\n",
       "  function display_loaded() {\n",
       "    var el = document.getElementById(null);\n",
       "    if (el != null) {\n",
       "      el.textContent = \"BokehJS is loading...\";\n",
       "    }\n",
       "    if (root.Bokeh !== undefined) {\n",
       "      if (el != null) {\n",
       "        el.textContent = \"BokehJS \" + root.Bokeh.version + \" successfully loaded.\";\n",
       "      }\n",
       "    } else if (Date.now() < root._bokeh_timeout) {\n",
       "      setTimeout(display_loaded, 100)\n",
       "    }\n",
       "  }\n",
       "\n",
       "\n",
       "  function run_callbacks() {\n",
       "    try {\n",
       "      root._bokeh_onload_callbacks.forEach(function(callback) { callback() });\n",
       "    }\n",
       "    finally {\n",
       "      delete root._bokeh_onload_callbacks\n",
       "    }\n",
       "    console.info(\"Bokeh: all callbacks have finished\");\n",
       "  }\n",
       "\n",
       "  function load_libs(js_urls, callback) {\n",
       "    root._bokeh_onload_callbacks.push(callback);\n",
       "    if (root._bokeh_is_loading > 0) {\n",
       "      console.log(\"Bokeh: BokehJS is being loaded, scheduling callback at\", now());\n",
       "      return null;\n",
       "    }\n",
       "    if (js_urls == null || js_urls.length === 0) {\n",
       "      run_callbacks();\n",
       "      return null;\n",
       "    }\n",
       "    console.log(\"Bokeh: BokehJS not loaded, scheduling load and callback at\", now());\n",
       "    root._bokeh_is_loading = js_urls.length;\n",
       "    for (var i = 0; i < js_urls.length; i++) {\n",
       "      var url = js_urls[i];\n",
       "      var s = document.createElement('script');\n",
       "      s.src = url;\n",
       "      s.async = false;\n",
       "      s.onreadystatechange = s.onload = function() {\n",
       "        root._bokeh_is_loading--;\n",
       "        if (root._bokeh_is_loading === 0) {\n",
       "          console.log(\"Bokeh: all BokehJS libraries loaded\");\n",
       "          run_callbacks()\n",
       "        }\n",
       "      };\n",
       "      s.onerror = function() {\n",
       "        console.warn(\"failed to load library \" + url);\n",
       "      };\n",
       "      console.log(\"Bokeh: injecting script tag for BokehJS library: \", url);\n",
       "      document.getElementsByTagName(\"head\")[0].appendChild(s);\n",
       "    }\n",
       "  };\n",
       "\n",
       "  var js_urls = [\"https://cdn.pydata.org/bokeh/release/bokeh-1.0.4.min.js\", \"https://cdn.pydata.org/bokeh/release/bokeh-widgets-1.0.4.min.js\", \"https://cdn.pydata.org/bokeh/release/bokeh-tables-1.0.4.min.js\", \"https://cdn.pydata.org/bokeh/release/bokeh-gl-1.0.4.min.js\"];\n",
       "\n",
       "  var inline_js = [\n",
       "    function(Bokeh) {\n",
       "      Bokeh.set_log_level(\"info\");\n",
       "    },\n",
       "    \n",
       "    function(Bokeh) {\n",
       "      \n",
       "    },\n",
       "    function(Bokeh) {\n",
       "      console.log(\"Bokeh: injecting CSS: https://cdn.pydata.org/bokeh/release/bokeh-1.0.4.min.css\");\n",
       "      Bokeh.embed.inject_css(\"https://cdn.pydata.org/bokeh/release/bokeh-1.0.4.min.css\");\n",
       "      console.log(\"Bokeh: injecting CSS: https://cdn.pydata.org/bokeh/release/bokeh-widgets-1.0.4.min.css\");\n",
       "      Bokeh.embed.inject_css(\"https://cdn.pydata.org/bokeh/release/bokeh-widgets-1.0.4.min.css\");\n",
       "      console.log(\"Bokeh: injecting CSS: https://cdn.pydata.org/bokeh/release/bokeh-tables-1.0.4.min.css\");\n",
       "      Bokeh.embed.inject_css(\"https://cdn.pydata.org/bokeh/release/bokeh-tables-1.0.4.min.css\");\n",
       "    }\n",
       "  ];\n",
       "\n",
       "  function run_inline_js() {\n",
       "    \n",
       "    if ((root.Bokeh !== undefined) || (force === true)) {\n",
       "      for (var i = 0; i < inline_js.length; i++) {\n",
       "        inline_js[i].call(root, root.Bokeh);\n",
       "      }} else if (Date.now() < root._bokeh_timeout) {\n",
       "      setTimeout(run_inline_js, 100);\n",
       "    } else if (!root._bokeh_failed_load) {\n",
       "      console.log(\"Bokeh: BokehJS failed to load within specified timeout.\");\n",
       "      root._bokeh_failed_load = true;\n",
       "    } else if (force !== true) {\n",
       "      var cell = $(document.getElementById(null)).parents('.cell').data().cell;\n",
       "      cell.output_area.append_execute_result(NB_LOAD_WARNING)\n",
       "    }\n",
       "\n",
       "  }\n",
       "\n",
       "  if (root._bokeh_is_loading === 0) {\n",
       "    console.log(\"Bokeh: BokehJS loaded, going straight to plotting\");\n",
       "    run_inline_js();\n",
       "  } else {\n",
       "    load_libs(js_urls, function() {\n",
       "      console.log(\"Bokeh: BokehJS plotting callback run at\", now());\n",
       "      run_inline_js();\n",
       "    });\n",
       "  }\n",
       "}(window));"
      ],
      "application/vnd.bokehjs_load.v0+json": "\n(function(root) {\n  function now() {\n    return new Date();\n  }\n\n  var force = true;\n\n  if (typeof (root._bokeh_onload_callbacks) === \"undefined\" || force === true) {\n    root._bokeh_onload_callbacks = [];\n    root._bokeh_is_loading = undefined;\n  }\n\n  \n\n  \n  if (typeof (root._bokeh_timeout) === \"undefined\" || force === true) {\n    root._bokeh_timeout = Date.now() + 5000;\n    root._bokeh_failed_load = false;\n  }\n\n  var NB_LOAD_WARNING = {'data': {'text/html':\n     \"<div style='background-color: #fdd'>\\n\"+\n     \"<p>\\n\"+\n     \"BokehJS does not appear to have successfully loaded. If loading BokehJS from CDN, this \\n\"+\n     \"may be due to a slow or bad network connection. Possible fixes:\\n\"+\n     \"</p>\\n\"+\n     \"<ul>\\n\"+\n     \"<li>re-rerun `output_notebook()` to attempt to load from CDN again, or</li>\\n\"+\n     \"<li>use INLINE resources instead, as so:</li>\\n\"+\n     \"</ul>\\n\"+\n     \"<code>\\n\"+\n     \"from bokeh.resources import INLINE\\n\"+\n     \"output_notebook(resources=INLINE)\\n\"+\n     \"</code>\\n\"+\n     \"</div>\"}};\n\n  function display_loaded() {\n    var el = document.getElementById(null);\n    if (el != null) {\n      el.textContent = \"BokehJS is loading...\";\n    }\n    if (root.Bokeh !== undefined) {\n      if (el != null) {\n        el.textContent = \"BokehJS \" + root.Bokeh.version + \" successfully loaded.\";\n      }\n    } else if (Date.now() < root._bokeh_timeout) {\n      setTimeout(display_loaded, 100)\n    }\n  }\n\n\n  function run_callbacks() {\n    try {\n      root._bokeh_onload_callbacks.forEach(function(callback) { callback() });\n    }\n    finally {\n      delete root._bokeh_onload_callbacks\n    }\n    console.info(\"Bokeh: all callbacks have finished\");\n  }\n\n  function load_libs(js_urls, callback) {\n    root._bokeh_onload_callbacks.push(callback);\n    if (root._bokeh_is_loading > 0) {\n      console.log(\"Bokeh: BokehJS is being loaded, scheduling callback at\", now());\n      return null;\n    }\n    if (js_urls == null || js_urls.length === 0) {\n      run_callbacks();\n      return null;\n    }\n    console.log(\"Bokeh: BokehJS not loaded, scheduling load and callback at\", now());\n    root._bokeh_is_loading = js_urls.length;\n    for (var i = 0; i < js_urls.length; i++) {\n      var url = js_urls[i];\n      var s = document.createElement('script');\n      s.src = url;\n      s.async = false;\n      s.onreadystatechange = s.onload = function() {\n        root._bokeh_is_loading--;\n        if (root._bokeh_is_loading === 0) {\n          console.log(\"Bokeh: all BokehJS libraries loaded\");\n          run_callbacks()\n        }\n      };\n      s.onerror = function() {\n        console.warn(\"failed to load library \" + url);\n      };\n      console.log(\"Bokeh: injecting script tag for BokehJS library: \", url);\n      document.getElementsByTagName(\"head\")[0].appendChild(s);\n    }\n  };\n\n  var js_urls = [\"https://cdn.pydata.org/bokeh/release/bokeh-1.0.4.min.js\", \"https://cdn.pydata.org/bokeh/release/bokeh-widgets-1.0.4.min.js\", \"https://cdn.pydata.org/bokeh/release/bokeh-tables-1.0.4.min.js\", \"https://cdn.pydata.org/bokeh/release/bokeh-gl-1.0.4.min.js\"];\n\n  var inline_js = [\n    function(Bokeh) {\n      Bokeh.set_log_level(\"info\");\n    },\n    \n    function(Bokeh) {\n      \n    },\n    function(Bokeh) {\n      console.log(\"Bokeh: injecting CSS: https://cdn.pydata.org/bokeh/release/bokeh-1.0.4.min.css\");\n      Bokeh.embed.inject_css(\"https://cdn.pydata.org/bokeh/release/bokeh-1.0.4.min.css\");\n      console.log(\"Bokeh: injecting CSS: https://cdn.pydata.org/bokeh/release/bokeh-widgets-1.0.4.min.css\");\n      Bokeh.embed.inject_css(\"https://cdn.pydata.org/bokeh/release/bokeh-widgets-1.0.4.min.css\");\n      console.log(\"Bokeh: injecting CSS: https://cdn.pydata.org/bokeh/release/bokeh-tables-1.0.4.min.css\");\n      Bokeh.embed.inject_css(\"https://cdn.pydata.org/bokeh/release/bokeh-tables-1.0.4.min.css\");\n    }\n  ];\n\n  function run_inline_js() {\n    \n    if ((root.Bokeh !== undefined) || (force === true)) {\n      for (var i = 0; i < inline_js.length; i++) {\n        inline_js[i].call(root, root.Bokeh);\n      }} else if (Date.now() < root._bokeh_timeout) {\n      setTimeout(run_inline_js, 100);\n    } else if (!root._bokeh_failed_load) {\n      console.log(\"Bokeh: BokehJS failed to load within specified timeout.\");\n      root._bokeh_failed_load = true;\n    } else if (force !== true) {\n      var cell = $(document.getElementById(null)).parents('.cell').data().cell;\n      cell.output_area.append_execute_result(NB_LOAD_WARNING)\n    }\n\n  }\n\n  if (root._bokeh_is_loading === 0) {\n    console.log(\"Bokeh: BokehJS loaded, going straight to plotting\");\n    run_inline_js();\n  } else {\n    load_libs(js_urls, function() {\n      console.log(\"Bokeh: BokehJS plotting callback run at\", now());\n      run_inline_js();\n    });\n  }\n}(window));"
     },
     "metadata": {},
     "output_type": "display_data"
    }
   ],
   "source": [
    "import numpy as np\n",
    "\n",
    "from bokeh.io import show, output_notebook\n",
    "from bokeh.plotting import figure\n",
    "from bokeh.layouts import row\n",
    "output_notebook(hide_banner=True)\n",
    "\n",
    "from scipy.optimize import newton"
   ]
  },
  {
   "cell_type": "markdown",
   "metadata": {},
   "source": [
    "# Exercice 1 : Méthode de Newton"
   ]
  },
  {
   "cell_type": "markdown",
   "metadata": {},
   "source": [
    "### Implémentation de la méthode"
   ]
  },
  {
   "cell_type": "code",
   "execution_count": 2,
   "metadata": {},
   "outputs": [],
   "source": [
    "def my_newton(f, df, x0, xstar, tol=1.e-12, nitmax=50):\n",
    "   \n",
    "    # initialisation\n",
    "    x = np.zeros(nitmax+1)\n",
    "    x[0] = x0\n",
    "    \n",
    "    # iteration de Newton        \n",
    "    for i in range(1, nitmax+1):\n",
    "        x[i] = x[i-1] - f(x[i-1])/df(x[i-1])\n",
    "        if ( abs(x[i] - xstar) < tol) : break\n",
    "\n",
    "    return x[0:i+1]"
   ]
  },
  {
   "cell_type": "markdown",
   "metadata": {},
   "source": [
    "### Ordre de convergence"
   ]
  },
  {
   "cell_type": "markdown",
   "metadata": {},
   "source": [
    "Test de la fonction : $f(x) = e^x - 2$"
   ]
  },
  {
   "cell_type": "code",
   "execution_count": 3,
   "metadata": {},
   "outputs": [],
   "source": [
    "def f(x):\n",
    "    return np.exp(x) - 2\n",
    "\n",
    "def df(x):\n",
    "    return np.exp(x) "
   ]
  },
  {
   "cell_type": "code",
   "execution_count": 4,
   "metadata": {},
   "outputs": [
    {
     "name": "stdout",
     "output_type": "stream",
     "text": [
      "Convergence de l'algorithme de Newton en 5 itérations\n",
      "--> solution de f(x) = 0 obtenue pour  x = 0.6931471805600254\n"
     ]
    },
    {
     "data": {
      "text/html": [
       "\n",
       "\n",
       "\n",
       "\n",
       "\n",
       "\n",
       "  <div class=\"bk-root\" id=\"694a31be-8875-4213-aaf3-dcd030a2de87\" data-root-id=\"1111\"></div>\n"
      ]
     },
     "metadata": {},
     "output_type": "display_data"
    },
    {
     "data": {
      "application/javascript": [
       "(function(root) {\n",
       "  function embed_document(root) {\n",
       "    \n",
       "  var docs_json = {\"a0123ec2-73fb-4de6-8788-b12d58a06efe\":{\"roots\":{\"references\":[{\"attributes\":{\"children\":[{\"id\":\"1001\",\"subtype\":\"Figure\",\"type\":\"Plot\"},{\"id\":\"1056\",\"subtype\":\"Figure\",\"type\":\"Plot\"}]},\"id\":\"1111\",\"type\":\"Row\"},{\"attributes\":{\"items\":[{\"id\":\"1055\",\"type\":\"LegendItem\"}],\"plot\":{\"id\":\"1001\",\"subtype\":\"Figure\",\"type\":\"Plot\"}},\"id\":\"1054\",\"type\":\"Legend\"},{\"attributes\":{\"formatter\":{\"id\":\"1047\",\"type\":\"LogTickFormatter\"},\"plot\":{\"id\":\"1001\",\"subtype\":\"Figure\",\"type\":\"Plot\"},\"ticker\":{\"id\":\"1016\",\"type\":\"LogTicker\"}},\"id\":\"1015\",\"type\":\"LogAxis\"},{\"attributes\":{\"plot\":{\"id\":\"1001\",\"subtype\":\"Figure\",\"type\":\"Plot\"},\"ticker\":{\"id\":\"1011\",\"type\":\"BasicTicker\"}},\"id\":\"1014\",\"type\":\"Grid\"},{\"attributes\":{},\"id\":\"1126\",\"type\":\"UnionRenderers\"},{\"attributes\":{},\"id\":\"1011\",\"type\":\"BasicTicker\"},{\"attributes\":{},\"id\":\"1008\",\"type\":\"LogScale\"},{\"attributes\":{\"formatter\":{\"id\":\"1049\",\"type\":\"BasicTickFormatter\"},\"plot\":{\"id\":\"1001\",\"subtype\":\"Figure\",\"type\":\"Plot\"},\"ticker\":{\"id\":\"1011\",\"type\":\"BasicTicker\"}},\"id\":\"1010\",\"type\":\"LinearAxis\"},{\"attributes\":{},\"id\":\"1006\",\"type\":\"LinearScale\"},{\"attributes\":{},\"id\":\"1127\",\"type\":\"Selection\"},{\"attributes\":{},\"id\":\"1023\",\"type\":\"SaveTool\"},{\"attributes\":{},\"id\":\"1079\",\"type\":\"ResetTool\"},{\"attributes\":{},\"id\":\"1024\",\"type\":\"ResetTool\"},{\"attributes\":{},\"id\":\"1080\",\"type\":\"HelpTool\"},{\"attributes\":{\"active_drag\":\"auto\",\"active_inspect\":\"auto\",\"active_multi\":null,\"active_scroll\":\"auto\",\"active_tap\":\"auto\",\"tools\":[{\"id\":\"1075\",\"type\":\"PanTool\"},{\"id\":\"1076\",\"type\":\"WheelZoomTool\"},{\"id\":\"1077\",\"type\":\"BoxZoomTool\"},{\"id\":\"1078\",\"type\":\"SaveTool\"},{\"id\":\"1079\",\"type\":\"ResetTool\"},{\"id\":\"1080\",\"type\":\"HelpTool\"}]},\"id\":\"1081\",\"type\":\"Toolbar\"},{\"attributes\":{},\"id\":\"1025\",\"type\":\"HelpTool\"},{\"attributes\":{\"active_drag\":\"auto\",\"active_inspect\":\"auto\",\"active_multi\":null,\"active_scroll\":\"auto\",\"active_tap\":\"auto\",\"tools\":[{\"id\":\"1020\",\"type\":\"PanTool\"},{\"id\":\"1021\",\"type\":\"WheelZoomTool\"},{\"id\":\"1022\",\"type\":\"BoxZoomTool\"},{\"id\":\"1023\",\"type\":\"SaveTool\"},{\"id\":\"1024\",\"type\":\"ResetTool\"},{\"id\":\"1025\",\"type\":\"HelpTool\"}]},\"id\":\"1026\",\"type\":\"Toolbar\"},{\"attributes\":{\"bottom_units\":\"screen\",\"fill_alpha\":{\"value\":0.5},\"fill_color\":{\"value\":\"lightgrey\"},\"left_units\":\"screen\",\"level\":\"overlay\",\"line_alpha\":{\"value\":1.0},\"line_color\":{\"value\":\"black\"},\"line_dash\":[4,4],\"line_width\":{\"value\":2},\"plot\":null,\"render_mode\":\"css\",\"right_units\":\"screen\",\"top_units\":\"screen\"},\"id\":\"1083\",\"type\":\"BoxAnnotation\"},{\"attributes\":{\"bottom_units\":\"screen\",\"fill_alpha\":{\"value\":0.5},\"fill_color\":{\"value\":\"lightgrey\"},\"left_units\":\"screen\",\"level\":\"overlay\",\"line_alpha\":{\"value\":1.0},\"line_color\":{\"value\":\"black\"},\"line_dash\":[4,4],\"line_width\":{\"value\":2},\"plot\":null,\"render_mode\":\"css\",\"right_units\":\"screen\",\"top_units\":\"screen\"},\"id\":\"1028\",\"type\":\"BoxAnnotation\"},{\"attributes\":{\"source\":{\"id\":\"1090\",\"type\":\"ColumnDataSource\"}},\"id\":\"1094\",\"type\":\"CDSView\"},{\"attributes\":{\"below\":[{\"id\":\"1065\",\"type\":\"LogAxis\"}],\"left\":[{\"id\":\"1070\",\"type\":\"LogAxis\"}],\"plot_height\":300,\"plot_width\":490,\"renderers\":[{\"id\":\"1065\",\"type\":\"LogAxis\"},{\"id\":\"1069\",\"type\":\"Grid\"},{\"id\":\"1070\",\"type\":\"LogAxis\"},{\"id\":\"1074\",\"type\":\"Grid\"},{\"id\":\"1083\",\"type\":\"BoxAnnotation\"},{\"id\":\"1093\",\"type\":\"GlyphRenderer\"},{\"id\":\"1109\",\"type\":\"Legend\"},{\"id\":\"1098\",\"type\":\"GlyphRenderer\"}],\"title\":{\"id\":\"1100\",\"type\":\"Title\"},\"toolbar\":{\"id\":\"1081\",\"type\":\"Toolbar\"},\"x_range\":{\"id\":\"1057\",\"type\":\"DataRange1d\"},\"x_scale\":{\"id\":\"1061\",\"type\":\"LogScale\"},\"y_range\":{\"id\":\"1059\",\"type\":\"DataRange1d\"},\"y_scale\":{\"id\":\"1063\",\"type\":\"LogScale\"}},\"id\":\"1056\",\"subtype\":\"Figure\",\"type\":\"Plot\"},{\"attributes\":{\"fill_color\":{\"value\":\"red\"},\"line_color\":{\"value\":\"red\"},\"x\":{\"field\":\"x\"},\"y\":{\"field\":\"y\"}},\"id\":\"1041\",\"type\":\"X\"},{\"attributes\":{\"line_color\":\"red\",\"x\":{\"field\":\"x\"},\"y\":{\"field\":\"y\"}},\"id\":\"1096\",\"type\":\"Line\"},{\"attributes\":{\"fill_alpha\":{\"value\":0.1},\"fill_color\":{\"value\":\"#1f77b4\"},\"line_alpha\":{\"value\":0.1},\"line_color\":{\"value\":\"#1f77b4\"},\"x\":{\"field\":\"x\"},\"y\":{\"field\":\"y\"}},\"id\":\"1042\",\"type\":\"X\"},{\"attributes\":{\"line_alpha\":0.1,\"line_color\":\"#1f77b4\",\"x\":{\"field\":\"x\"},\"y\":{\"field\":\"y\"}},\"id\":\"1097\",\"type\":\"Line\"},{\"attributes\":{\"overlay\":{\"id\":\"1028\",\"type\":\"BoxAnnotation\"}},\"id\":\"1022\",\"type\":\"BoxZoomTool\"},{\"attributes\":{\"data_source\":{\"id\":\"1040\",\"type\":\"ColumnDataSource\"},\"glyph\":{\"id\":\"1041\",\"type\":\"X\"},\"hover_glyph\":null,\"muted_glyph\":null,\"nonselection_glyph\":{\"id\":\"1042\",\"type\":\"X\"},\"selection_glyph\":null,\"view\":{\"id\":\"1044\",\"type\":\"CDSView\"}},\"id\":\"1043\",\"type\":\"GlyphRenderer\"},{\"attributes\":{\"data_source\":{\"id\":\"1095\",\"type\":\"ColumnDataSource\"},\"glyph\":{\"id\":\"1096\",\"type\":\"Line\"},\"hover_glyph\":null,\"muted_glyph\":null,\"nonselection_glyph\":{\"id\":\"1097\",\"type\":\"Line\"},\"selection_glyph\":null,\"view\":{\"id\":\"1099\",\"type\":\"CDSView\"}},\"id\":\"1098\",\"type\":\"GlyphRenderer\"},{\"attributes\":{\"source\":{\"id\":\"1040\",\"type\":\"ColumnDataSource\"}},\"id\":\"1044\",\"type\":\"CDSView\"},{\"attributes\":{\"source\":{\"id\":\"1095\",\"type\":\"ColumnDataSource\"}},\"id\":\"1099\",\"type\":\"CDSView\"},{\"attributes\":{\"plot\":null,\"text\":\"\"},\"id\":\"1045\",\"type\":\"Title\"},{\"attributes\":{\"plot\":null,\"text\":\"\"},\"id\":\"1100\",\"type\":\"Title\"},{\"attributes\":{\"ticker\":null},\"id\":\"1047\",\"type\":\"LogTickFormatter\"},{\"attributes\":{\"ticker\":null},\"id\":\"1102\",\"type\":\"LogTickFormatter\"},{\"attributes\":{},\"id\":\"1049\",\"type\":\"BasicTickFormatter\"},{\"attributes\":{\"ticker\":null},\"id\":\"1104\",\"type\":\"LogTickFormatter\"},{\"attributes\":{},\"id\":\"1051\",\"type\":\"UnionRenderers\"},{\"attributes\":{},\"id\":\"1106\",\"type\":\"UnionRenderers\"},{\"attributes\":{},\"id\":\"1052\",\"type\":\"Selection\"},{\"attributes\":{},\"id\":\"1107\",\"type\":\"Selection\"},{\"attributes\":{\"items\":[{\"id\":\"1110\",\"type\":\"LegendItem\"}],\"plot\":{\"id\":\"1056\",\"subtype\":\"Figure\",\"type\":\"Plot\"}},\"id\":\"1109\",\"type\":\"Legend\"},{\"attributes\":{\"label\":{\"value\":\"erreur r\\u00e9siduelle\"},\"renderers\":[{\"id\":\"1043\",\"type\":\"GlyphRenderer\"}]},\"id\":\"1055\",\"type\":\"LegendItem\"},{\"attributes\":{\"label\":{\"value\":\"ordre 2\"},\"renderers\":[{\"id\":\"1098\",\"type\":\"GlyphRenderer\"}]},\"id\":\"1110\",\"type\":\"LegendItem\"},{\"attributes\":{\"num_minor_ticks\":10},\"id\":\"1016\",\"type\":\"LogTicker\"},{\"attributes\":{\"callback\":null,\"data\":{\"x\":{\"__ndarray__\":\"7zn6/kIu5j8ijAsCeqPTP5BUK3Mz0aU/AKy3L85UTT8AAODciOCaPg==\",\"dtype\":\"float64\",\"shape\":[5]},\"y\":{\"__ndarray__\":\"IowLAnqj0z+QVCtzM9GlPwCsty/OVE0/AADg3Ijgmj4AAAAAAJA2PQ==\",\"dtype\":\"float64\",\"shape\":[5]}},\"selected\":{\"id\":\"1107\",\"type\":\"Selection\"},\"selection_policy\":{\"id\":\"1106\",\"type\":\"UnionRenderers\"}},\"id\":\"1090\",\"type\":\"ColumnDataSource\"},{\"attributes\":{\"callback\":null},\"id\":\"1057\",\"type\":\"DataRange1d\"},{\"attributes\":{},\"id\":\"1131\",\"type\":\"UnionRenderers\"},{\"attributes\":{\"callback\":null},\"id\":\"1059\",\"type\":\"DataRange1d\"},{\"attributes\":{},\"id\":\"1132\",\"type\":\"Selection\"},{\"attributes\":{},\"id\":\"1061\",\"type\":\"LogScale\"},{\"attributes\":{},\"id\":\"1063\",\"type\":\"LogScale\"},{\"attributes\":{\"formatter\":{\"id\":\"1104\",\"type\":\"LogTickFormatter\"},\"plot\":{\"id\":\"1056\",\"subtype\":\"Figure\",\"type\":\"Plot\"},\"ticker\":{\"id\":\"1066\",\"type\":\"LogTicker\"}},\"id\":\"1065\",\"type\":\"LogAxis\"},{\"attributes\":{\"num_minor_ticks\":10},\"id\":\"1066\",\"type\":\"LogTicker\"},{\"attributes\":{\"plot\":{\"id\":\"1056\",\"subtype\":\"Figure\",\"type\":\"Plot\"},\"ticker\":{\"id\":\"1066\",\"type\":\"LogTicker\"}},\"id\":\"1069\",\"type\":\"Grid\"},{\"attributes\":{\"callback\":null,\"data\":{\"x\":[0,1,2,3,4,5],\"y\":{\"__ndarray__\":\"7zn6/kIu5j8ijAsCeqPTP5BUK3Mz0aU/AKy3L85UTT8AAODciOCaPgAAAAAAkDY9\",\"dtype\":\"float64\",\"shape\":[6]}},\"selected\":{\"id\":\"1052\",\"type\":\"Selection\"},\"selection_policy\":{\"id\":\"1051\",\"type\":\"UnionRenderers\"}},\"id\":\"1035\",\"type\":\"ColumnDataSource\"},{\"attributes\":{\"formatter\":{\"id\":\"1102\",\"type\":\"LogTickFormatter\"},\"plot\":{\"id\":\"1056\",\"subtype\":\"Figure\",\"type\":\"Plot\"},\"ticker\":{\"id\":\"1071\",\"type\":\"LogTicker\"}},\"id\":\"1070\",\"type\":\"LogAxis\"},{\"attributes\":{\"below\":[{\"id\":\"1010\",\"type\":\"LinearAxis\"}],\"left\":[{\"id\":\"1015\",\"type\":\"LogAxis\"}],\"plot_height\":300,\"plot_width\":490,\"renderers\":[{\"id\":\"1010\",\"type\":\"LinearAxis\"},{\"id\":\"1014\",\"type\":\"Grid\"},{\"id\":\"1015\",\"type\":\"LogAxis\"},{\"id\":\"1019\",\"type\":\"Grid\"},{\"id\":\"1028\",\"type\":\"BoxAnnotation\"},{\"id\":\"1038\",\"type\":\"GlyphRenderer\"},{\"id\":\"1054\",\"type\":\"Legend\"},{\"id\":\"1043\",\"type\":\"GlyphRenderer\"}],\"title\":{\"id\":\"1045\",\"type\":\"Title\"},\"toolbar\":{\"id\":\"1026\",\"type\":\"Toolbar\"},\"x_range\":{\"id\":\"1002\",\"type\":\"DataRange1d\"},\"x_scale\":{\"id\":\"1006\",\"type\":\"LinearScale\"},\"y_range\":{\"id\":\"1004\",\"type\":\"DataRange1d\"},\"y_scale\":{\"id\":\"1008\",\"type\":\"LogScale\"}},\"id\":\"1001\",\"subtype\":\"Figure\",\"type\":\"Plot\"},{\"attributes\":{\"source\":{\"id\":\"1035\",\"type\":\"ColumnDataSource\"}},\"id\":\"1039\",\"type\":\"CDSView\"},{\"attributes\":{\"num_minor_ticks\":10},\"id\":\"1071\",\"type\":\"LogTicker\"},{\"attributes\":{\"callback\":null},\"id\":\"1002\",\"type\":\"DataRange1d\"},{\"attributes\":{\"callback\":null},\"id\":\"1004\",\"type\":\"DataRange1d\"},{\"attributes\":{\"dimension\":1,\"plot\":{\"id\":\"1056\",\"subtype\":\"Figure\",\"type\":\"Plot\"},\"ticker\":{\"id\":\"1071\",\"type\":\"LogTicker\"}},\"id\":\"1074\",\"type\":\"Grid\"},{\"attributes\":{\"dimension\":1,\"plot\":{\"id\":\"1001\",\"subtype\":\"Figure\",\"type\":\"Plot\"},\"ticker\":{\"id\":\"1016\",\"type\":\"LogTicker\"}},\"id\":\"1019\",\"type\":\"Grid\"},{\"attributes\":{\"fill_alpha\":{\"value\":0.1},\"fill_color\":{\"value\":\"#1f77b4\"},\"line_alpha\":{\"value\":0.1},\"line_color\":{\"value\":\"#1f77b4\"},\"size\":{\"units\":\"screen\",\"value\":5},\"x\":{\"field\":\"x\"},\"y\":{\"field\":\"y\"}},\"id\":\"1092\",\"type\":\"X\"},{\"attributes\":{\"data_source\":{\"id\":\"1035\",\"type\":\"ColumnDataSource\"},\"glyph\":{\"id\":\"1036\",\"type\":\"X\"},\"hover_glyph\":null,\"muted_glyph\":null,\"nonselection_glyph\":{\"id\":\"1037\",\"type\":\"X\"},\"selection_glyph\":null,\"view\":{\"id\":\"1039\",\"type\":\"CDSView\"}},\"id\":\"1038\",\"type\":\"GlyphRenderer\"},{\"attributes\":{\"fill_color\":{\"value\":\"#1f77b4\"},\"line_color\":{\"value\":\"#1f77b4\"},\"size\":{\"units\":\"screen\",\"value\":5},\"x\":{\"field\":\"x\"},\"y\":{\"field\":\"y\"}},\"id\":\"1091\",\"type\":\"X\"},{\"attributes\":{\"callback\":null,\"data\":{\"x\":{\"__ndarray__\":\"7zn6/kIu5j8ijAsCeqPTP5BUK3Mz0aU/AKy3L85UTT8AAODciOCaPg==\",\"dtype\":\"float64\",\"shape\":[5]},\"y\":{\"__ndarray__\":\"jsWC/72/3j9Id2cOyBq4P2z7F1/Wv10/q/Indpbiqj5lm0nlBZNGPQ==\",\"dtype\":\"float64\",\"shape\":[5]}},\"selected\":{\"id\":\"1132\",\"type\":\"Selection\"},\"selection_policy\":{\"id\":\"1131\",\"type\":\"UnionRenderers\"}},\"id\":\"1095\",\"type\":\"ColumnDataSource\"},{\"attributes\":{\"data_source\":{\"id\":\"1090\",\"type\":\"ColumnDataSource\"},\"glyph\":{\"id\":\"1091\",\"type\":\"X\"},\"hover_glyph\":null,\"muted_glyph\":null,\"nonselection_glyph\":{\"id\":\"1092\",\"type\":\"X\"},\"selection_glyph\":null,\"view\":{\"id\":\"1094\",\"type\":\"CDSView\"}},\"id\":\"1093\",\"type\":\"GlyphRenderer\"},{\"attributes\":{\"fill_color\":{\"value\":\"#1f77b4\"},\"line_color\":{\"value\":\"#1f77b4\"},\"size\":{\"units\":\"screen\",\"value\":5},\"x\":{\"field\":\"x\"},\"y\":{\"field\":\"y\"}},\"id\":\"1036\",\"type\":\"X\"},{\"attributes\":{\"fill_alpha\":{\"value\":0.1},\"fill_color\":{\"value\":\"#1f77b4\"},\"line_alpha\":{\"value\":0.1},\"line_color\":{\"value\":\"#1f77b4\"},\"size\":{\"units\":\"screen\",\"value\":5},\"x\":{\"field\":\"x\"},\"y\":{\"field\":\"y\"}},\"id\":\"1037\",\"type\":\"X\"},{\"attributes\":{},\"id\":\"1075\",\"type\":\"PanTool\"},{\"attributes\":{\"callback\":null,\"data\":{\"x\":[0,1,2,3,4,5],\"y\":{\"__ndarray__\":\"AAAAAAAA8D+kXVEsKvzmPyClmiXoSbY/ACBBxCpYXT8AAEA3ieCqPgAAAAAAkEY9\",\"dtype\":\"float64\",\"shape\":[6]}},\"selected\":{\"id\":\"1127\",\"type\":\"Selection\"},\"selection_policy\":{\"id\":\"1126\",\"type\":\"UnionRenderers\"}},\"id\":\"1040\",\"type\":\"ColumnDataSource\"},{\"attributes\":{},\"id\":\"1020\",\"type\":\"PanTool\"},{\"attributes\":{},\"id\":\"1076\",\"type\":\"WheelZoomTool\"},{\"attributes\":{},\"id\":\"1021\",\"type\":\"WheelZoomTool\"},{\"attributes\":{\"overlay\":{\"id\":\"1083\",\"type\":\"BoxAnnotation\"}},\"id\":\"1077\",\"type\":\"BoxZoomTool\"},{\"attributes\":{},\"id\":\"1078\",\"type\":\"SaveTool\"}],\"root_ids\":[\"1111\"]},\"title\":\"Bokeh Application\",\"version\":\"1.0.4\"}};\n",
       "  var render_items = [{\"docid\":\"a0123ec2-73fb-4de6-8788-b12d58a06efe\",\"roots\":{\"1111\":\"694a31be-8875-4213-aaf3-dcd030a2de87\"}}];\n",
       "  root.Bokeh.embed.embed_items_notebook(docs_json, render_items);\n",
       "\n",
       "  }\n",
       "  if (root.Bokeh !== undefined) {\n",
       "    embed_document(root);\n",
       "  } else {\n",
       "    var attempts = 0;\n",
       "    var timer = setInterval(function(root) {\n",
       "      if (root.Bokeh !== undefined) {\n",
       "        embed_document(root);\n",
       "        clearInterval(timer);\n",
       "      }\n",
       "      attempts++;\n",
       "      if (attempts > 100) {\n",
       "        console.log(\"Bokeh: ERROR: Unable to run BokehJS code because BokehJS library is missing\");\n",
       "        clearInterval(timer);\n",
       "      }\n",
       "    }, 10, root)\n",
       "  }\n",
       "})(window);"
      ],
      "application/vnd.bokehjs_exec.v0+json": ""
     },
     "metadata": {
      "application/vnd.bokehjs_exec.v0+json": {
       "id": "1111"
      }
     },
     "output_type": "display_data"
    }
   ],
   "source": [
    "xstar = np.log(2)\n",
    "xsol = my_newton(f, df, x0=0., xstar=xstar, tol=1.e-12, nitmax=50)\n",
    "print(f\"Convergence de l'algorithme de Newton en {xsol.size-1} itérations\")\n",
    "print(f\"--> solution de f(x) = 0 obtenue pour  x = {xsol[-1]}\")\n",
    "\n",
    "err = np.abs(xsol - xstar)\n",
    "\n",
    "fig1 = figure(width=490, height=300, y_axis_type=\"log\")\n",
    "fig1.x(range(xsol.size), err, size=5)\n",
    "fig1.x(range(xsol.size),np.abs(f(xsol)),color='red',legend=\"erreur résiduelle\")\n",
    "\n",
    "fig2 = figure(width=490, height=300, x_axis_type=\"log\", y_axis_type=\"log\")\n",
    "fig2.x(err[:-1], err[1:], size=5)\n",
    "fig2.line(err[:-1], err[:-1]*err[:-1],  color=\"red\", legend=\"ordre 2\")\n",
    "\n",
    "show(row(fig1, fig2))"
   ]
  },
  {
   "cell_type": "markdown",
   "metadata": {},
   "source": [
    "Test de la fonction : $g(x) = \\displaystyle \\frac{x}{\\sqrt{1+x^2}}$"
   ]
  },
  {
   "cell_type": "code",
   "execution_count": 5,
   "metadata": {},
   "outputs": [],
   "source": [
    "def g(x):\n",
    "    return x/(np.sqrt(1+x*x))\n",
    "\n",
    "def dg(x):\n",
    "    return 1/(np.power(1+x*x, 1/3))"
   ]
  },
  {
   "cell_type": "code",
   "execution_count": 6,
   "metadata": {},
   "outputs": [
    {
     "name": "stdout",
     "output_type": "stream",
     "text": [
      "Convergence de l'algorithme de Newton en 3 itérations\n",
      "--> solution de g(x) = 0 obtenue pour  x = 1.73429995950318e-19\n"
     ]
    },
    {
     "data": {
      "text/html": [
       "\n",
       "\n",
       "\n",
       "\n",
       "\n",
       "\n",
       "  <div class=\"bk-root\" id=\"d9c1f22c-fa4f-46d1-81ea-89b317e16bb9\" data-root-id=\"1384\"></div>\n"
      ]
     },
     "metadata": {},
     "output_type": "display_data"
    },
    {
     "data": {
      "application/javascript": [
       "(function(root) {\n",
       "  function embed_document(root) {\n",
       "    \n",
       "  var docs_json = {\"dd783f64-9920-4938-98d3-c3ed85fde79b\":{\"roots\":{\"references\":[{\"attributes\":{\"children\":[{\"id\":\"1266\",\"subtype\":\"Figure\",\"type\":\"Plot\"},{\"id\":\"1329\",\"subtype\":\"Figure\",\"type\":\"Plot\"}]},\"id\":\"1384\",\"type\":\"Row\"},{\"attributes\":{},\"id\":\"1286\",\"type\":\"WheelZoomTool\"},{\"attributes\":{},\"id\":\"1285\",\"type\":\"PanTool\"},{\"attributes\":{\"fill_color\":{\"value\":\"#1f77b4\"},\"line_color\":{\"value\":\"#1f77b4\"},\"size\":{\"units\":\"screen\",\"value\":5},\"x\":{\"field\":\"x\"},\"y\":{\"field\":\"y\"}},\"id\":\"1301\",\"type\":\"X\"},{\"attributes\":{\"overlay\":{\"id\":\"1293\",\"type\":\"BoxAnnotation\"}},\"id\":\"1287\",\"type\":\"BoxZoomTool\"},{\"attributes\":{\"items\":[{\"id\":\"1313\",\"type\":\"LegendItem\"},{\"id\":\"1328\",\"type\":\"LegendItem\"}],\"plot\":{\"id\":\"1266\",\"subtype\":\"Figure\",\"type\":\"Plot\"}},\"id\":\"1312\",\"type\":\"Legend\"},{\"attributes\":{\"data_source\":{\"id\":\"1368\",\"type\":\"ColumnDataSource\"},\"glyph\":{\"id\":\"1369\",\"type\":\"Line\"},\"hover_glyph\":null,\"muted_glyph\":null,\"nonselection_glyph\":{\"id\":\"1370\",\"type\":\"Line\"},\"selection_glyph\":null,\"view\":{\"id\":\"1372\",\"type\":\"CDSView\"}},\"id\":\"1371\",\"type\":\"GlyphRenderer\"},{\"attributes\":{\"callback\":null,\"data\":{\"x\":[0,1,2,3],\"y\":{\"__ndarray__\":\"2e2/xSWf3D9f0GDuULCSP2Y21YXsALE+AAAAAACYCTw=\",\"dtype\":\"float64\",\"shape\":[4]}},\"selected\":{\"id\":\"1422\",\"type\":\"Selection\"},\"selection_policy\":{\"id\":\"1421\",\"type\":\"UnionRenderers\"}},\"id\":\"1314\",\"type\":\"ColumnDataSource\"},{\"attributes\":{\"num_minor_ticks\":10},\"id\":\"1281\",\"type\":\"LogTicker\"},{\"attributes\":{\"label\":{\"value\":\"erreur\"},\"renderers\":[{\"id\":\"1303\",\"type\":\"GlyphRenderer\"}]},\"id\":\"1313\",\"type\":\"LegendItem\"},{\"attributes\":{\"source\":{\"id\":\"1368\",\"type\":\"ColumnDataSource\"}},\"id\":\"1372\",\"type\":\"CDSView\"},{\"attributes\":{\"callback\":null,\"data\":{\"x\":[0,1,2,3],\"y\":{\"__ndarray__\":\"AAAAAAAA4D/wpJD2HLGSPwBA1YXsALE+AAAAAACYCTw=\",\"dtype\":\"float64\",\"shape\":[4]}},\"selected\":{\"id\":\"1326\",\"type\":\"Selection\"},\"selection_policy\":{\"id\":\"1325\",\"type\":\"UnionRenderers\"}},\"id\":\"1300\",\"type\":\"ColumnDataSource\"},{\"attributes\":{\"below\":[{\"id\":\"1338\",\"type\":\"LogAxis\"}],\"left\":[{\"id\":\"1343\",\"type\":\"LogAxis\"}],\"plot_height\":300,\"plot_width\":490,\"renderers\":[{\"id\":\"1338\",\"type\":\"LogAxis\"},{\"id\":\"1342\",\"type\":\"Grid\"},{\"id\":\"1343\",\"type\":\"LogAxis\"},{\"id\":\"1347\",\"type\":\"Grid\"},{\"id\":\"1356\",\"type\":\"BoxAnnotation\"},{\"id\":\"1366\",\"type\":\"GlyphRenderer\"},{\"id\":\"1382\",\"type\":\"Legend\"},{\"id\":\"1371\",\"type\":\"GlyphRenderer\"}],\"title\":{\"id\":\"1373\",\"type\":\"Title\"},\"toolbar\":{\"id\":\"1354\",\"type\":\"Toolbar\"},\"x_range\":{\"id\":\"1330\",\"type\":\"DataRange1d\"},\"x_scale\":{\"id\":\"1334\",\"type\":\"LogScale\"},\"y_range\":{\"id\":\"1332\",\"type\":\"DataRange1d\"},\"y_scale\":{\"id\":\"1336\",\"type\":\"LogScale\"}},\"id\":\"1329\",\"subtype\":\"Figure\",\"type\":\"Plot\"},{\"attributes\":{\"plot\":null,\"text\":\"\"},\"id\":\"1373\",\"type\":\"Title\"},{\"attributes\":{\"fill_color\":{\"value\":\"red\"},\"line_color\":{\"value\":\"red\"},\"x\":{\"field\":\"x\"},\"y\":{\"field\":\"y\"}},\"id\":\"1315\",\"type\":\"X\"},{\"attributes\":{\"ticker\":null},\"id\":\"1375\",\"type\":\"LogTickFormatter\"},{\"attributes\":{\"fill_alpha\":{\"value\":0.1},\"fill_color\":{\"value\":\"#1f77b4\"},\"line_alpha\":{\"value\":0.1},\"line_color\":{\"value\":\"#1f77b4\"},\"x\":{\"field\":\"x\"},\"y\":{\"field\":\"y\"}},\"id\":\"1316\",\"type\":\"X\"},{\"attributes\":{\"ticker\":null},\"id\":\"1377\",\"type\":\"LogTickFormatter\"},{\"attributes\":{\"data_source\":{\"id\":\"1314\",\"type\":\"ColumnDataSource\"},\"glyph\":{\"id\":\"1315\",\"type\":\"X\"},\"hover_glyph\":null,\"muted_glyph\":null,\"nonselection_glyph\":{\"id\":\"1316\",\"type\":\"X\"},\"selection_glyph\":null,\"view\":{\"id\":\"1318\",\"type\":\"CDSView\"}},\"id\":\"1317\",\"type\":\"GlyphRenderer\"},{\"attributes\":{},\"id\":\"1379\",\"type\":\"UnionRenderers\"},{\"attributes\":{\"source\":{\"id\":\"1314\",\"type\":\"ColumnDataSource\"}},\"id\":\"1318\",\"type\":\"CDSView\"},{\"attributes\":{},\"id\":\"1380\",\"type\":\"Selection\"},{\"attributes\":{\"dimension\":1,\"plot\":{\"id\":\"1266\",\"subtype\":\"Figure\",\"type\":\"Plot\"},\"ticker\":{\"id\":\"1281\",\"type\":\"LogTicker\"}},\"id\":\"1284\",\"type\":\"Grid\"},{\"attributes\":{\"items\":[{\"id\":\"1383\",\"type\":\"LegendItem\"}],\"plot\":{\"id\":\"1329\",\"subtype\":\"Figure\",\"type\":\"Plot\"}},\"id\":\"1382\",\"type\":\"Legend\"},{\"attributes\":{},\"id\":\"1326\",\"type\":\"Selection\"},{\"attributes\":{\"label\":{\"value\":\"erreur r\\u00e9siduelle\"},\"renderers\":[{\"id\":\"1317\",\"type\":\"GlyphRenderer\"}]},\"id\":\"1328\",\"type\":\"LegendItem\"},{\"attributes\":{\"label\":{\"value\":\"ordre 3\"},\"renderers\":[{\"id\":\"1371\",\"type\":\"GlyphRenderer\"}]},\"id\":\"1383\",\"type\":\"LegendItem\"},{\"attributes\":{\"callback\":null,\"data\":{\"x\":{\"__ndarray__\":\"AAAAAAAA4D/wpJD2HLGSPwBA1YXsALE+\",\"dtype\":\"float64\",\"shape\":[3]},\"y\":{\"__ndarray__\":\"8KSQ9hyxkj8AQNWF7ACxPgAAAAAAmAk8\",\"dtype\":\"float64\",\"shape\":[3]}},\"selected\":{\"id\":\"1380\",\"type\":\"Selection\"},\"selection_policy\":{\"id\":\"1379\",\"type\":\"UnionRenderers\"}},\"id\":\"1363\",\"type\":\"ColumnDataSource\"},{\"attributes\":{\"callback\":null},\"id\":\"1330\",\"type\":\"DataRange1d\"},{\"attributes\":{},\"id\":\"1421\",\"type\":\"UnionRenderers\"},{\"attributes\":{\"callback\":null},\"id\":\"1332\",\"type\":\"DataRange1d\"},{\"attributes\":{},\"id\":\"1422\",\"type\":\"Selection\"},{\"attributes\":{},\"id\":\"1334\",\"type\":\"LogScale\"},{\"attributes\":{},\"id\":\"1309\",\"type\":\"BasicTickFormatter\"},{\"attributes\":{},\"id\":\"1426\",\"type\":\"UnionRenderers\"},{\"attributes\":{\"ticker\":null},\"id\":\"1307\",\"type\":\"LogTickFormatter\"},{\"attributes\":{},\"id\":\"1271\",\"type\":\"LinearScale\"},{\"attributes\":{},\"id\":\"1336\",\"type\":\"LogScale\"},{\"attributes\":{},\"id\":\"1427\",\"type\":\"Selection\"},{\"attributes\":{\"formatter\":{\"id\":\"1377\",\"type\":\"LogTickFormatter\"},\"plot\":{\"id\":\"1329\",\"subtype\":\"Figure\",\"type\":\"Plot\"},\"ticker\":{\"id\":\"1339\",\"type\":\"LogTicker\"}},\"id\":\"1338\",\"type\":\"LogAxis\"},{\"attributes\":{\"num_minor_ticks\":10},\"id\":\"1339\",\"type\":\"LogTicker\"},{\"attributes\":{\"fill_alpha\":{\"value\":0.1},\"fill_color\":{\"value\":\"#1f77b4\"},\"line_alpha\":{\"value\":0.1},\"line_color\":{\"value\":\"#1f77b4\"},\"size\":{\"units\":\"screen\",\"value\":5},\"x\":{\"field\":\"x\"},\"y\":{\"field\":\"y\"}},\"id\":\"1302\",\"type\":\"X\"},{\"attributes\":{\"plot\":{\"id\":\"1329\",\"subtype\":\"Figure\",\"type\":\"Plot\"},\"ticker\":{\"id\":\"1339\",\"type\":\"LogTicker\"}},\"id\":\"1342\",\"type\":\"Grid\"},{\"attributes\":{\"data_source\":{\"id\":\"1300\",\"type\":\"ColumnDataSource\"},\"glyph\":{\"id\":\"1301\",\"type\":\"X\"},\"hover_glyph\":null,\"muted_glyph\":null,\"nonselection_glyph\":{\"id\":\"1302\",\"type\":\"X\"},\"selection_glyph\":null,\"view\":{\"id\":\"1304\",\"type\":\"CDSView\"}},\"id\":\"1303\",\"type\":\"GlyphRenderer\"},{\"attributes\":{},\"id\":\"1325\",\"type\":\"UnionRenderers\"},{\"attributes\":{\"below\":[{\"id\":\"1275\",\"type\":\"LinearAxis\"}],\"left\":[{\"id\":\"1280\",\"type\":\"LogAxis\"}],\"plot_height\":300,\"plot_width\":490,\"renderers\":[{\"id\":\"1275\",\"type\":\"LinearAxis\"},{\"id\":\"1279\",\"type\":\"Grid\"},{\"id\":\"1280\",\"type\":\"LogAxis\"},{\"id\":\"1284\",\"type\":\"Grid\"},{\"id\":\"1293\",\"type\":\"BoxAnnotation\"},{\"id\":\"1312\",\"type\":\"Legend\"},{\"id\":\"1303\",\"type\":\"GlyphRenderer\"},{\"id\":\"1317\",\"type\":\"GlyphRenderer\"}],\"title\":{\"id\":\"1305\",\"type\":\"Title\"},\"toolbar\":{\"id\":\"1291\",\"type\":\"Toolbar\"},\"x_range\":{\"id\":\"1267\",\"type\":\"DataRange1d\"},\"x_scale\":{\"id\":\"1271\",\"type\":\"LinearScale\"},\"y_range\":{\"id\":\"1269\",\"type\":\"DataRange1d\"},\"y_scale\":{\"id\":\"1273\",\"type\":\"LogScale\"}},\"id\":\"1266\",\"subtype\":\"Figure\",\"type\":\"Plot\"},{\"attributes\":{\"formatter\":{\"id\":\"1375\",\"type\":\"LogTickFormatter\"},\"plot\":{\"id\":\"1329\",\"subtype\":\"Figure\",\"type\":\"Plot\"},\"ticker\":{\"id\":\"1344\",\"type\":\"LogTicker\"}},\"id\":\"1343\",\"type\":\"LogAxis\"},{\"attributes\":{\"callback\":null},\"id\":\"1267\",\"type\":\"DataRange1d\"},{\"attributes\":{\"num_minor_ticks\":10},\"id\":\"1344\",\"type\":\"LogTicker\"},{\"attributes\":{},\"id\":\"1273\",\"type\":\"LogScale\"},{\"attributes\":{\"dimension\":1,\"plot\":{\"id\":\"1329\",\"subtype\":\"Figure\",\"type\":\"Plot\"},\"ticker\":{\"id\":\"1344\",\"type\":\"LogTicker\"}},\"id\":\"1347\",\"type\":\"Grid\"},{\"attributes\":{\"fill_alpha\":{\"value\":0.1},\"fill_color\":{\"value\":\"#1f77b4\"},\"line_alpha\":{\"value\":0.1},\"line_color\":{\"value\":\"#1f77b4\"},\"size\":{\"units\":\"screen\",\"value\":5},\"x\":{\"field\":\"x\"},\"y\":{\"field\":\"y\"}},\"id\":\"1365\",\"type\":\"X\"},{\"attributes\":{\"callback\":null},\"id\":\"1269\",\"type\":\"DataRange1d\"},{\"attributes\":{},\"id\":\"1288\",\"type\":\"SaveTool\"},{\"attributes\":{\"fill_color\":{\"value\":\"#1f77b4\"},\"line_color\":{\"value\":\"#1f77b4\"},\"size\":{\"units\":\"screen\",\"value\":5},\"x\":{\"field\":\"x\"},\"y\":{\"field\":\"y\"}},\"id\":\"1364\",\"type\":\"X\"},{\"attributes\":{\"callback\":null,\"data\":{\"x\":{\"__ndarray__\":\"AAAAAAAA4D/wpJD2HLGSPwBA1YXsALE+\",\"dtype\":\"float64\",\"shape\":[3]},\"y\":{\"__ndarray__\":\"AAAAAAAAwD8t2Tqop4LZPhPoyjQhNDM8\",\"dtype\":\"float64\",\"shape\":[3]}},\"selected\":{\"id\":\"1427\",\"type\":\"Selection\"},\"selection_policy\":{\"id\":\"1426\",\"type\":\"UnionRenderers\"}},\"id\":\"1368\",\"type\":\"ColumnDataSource\"},{\"attributes\":{\"active_drag\":\"auto\",\"active_inspect\":\"auto\",\"active_multi\":null,\"active_scroll\":\"auto\",\"active_tap\":\"auto\",\"tools\":[{\"id\":\"1285\",\"type\":\"PanTool\"},{\"id\":\"1286\",\"type\":\"WheelZoomTool\"},{\"id\":\"1287\",\"type\":\"BoxZoomTool\"},{\"id\":\"1288\",\"type\":\"SaveTool\"},{\"id\":\"1289\",\"type\":\"ResetTool\"},{\"id\":\"1290\",\"type\":\"HelpTool\"}]},\"id\":\"1291\",\"type\":\"Toolbar\"},{\"attributes\":{},\"id\":\"1348\",\"type\":\"PanTool\"},{\"attributes\":{},\"id\":\"1349\",\"type\":\"WheelZoomTool\"},{\"attributes\":{},\"id\":\"1276\",\"type\":\"BasicTicker\"},{\"attributes\":{\"overlay\":{\"id\":\"1356\",\"type\":\"BoxAnnotation\"}},\"id\":\"1350\",\"type\":\"BoxZoomTool\"},{\"attributes\":{\"formatter\":{\"id\":\"1309\",\"type\":\"BasicTickFormatter\"},\"plot\":{\"id\":\"1266\",\"subtype\":\"Figure\",\"type\":\"Plot\"},\"ticker\":{\"id\":\"1276\",\"type\":\"BasicTicker\"}},\"id\":\"1275\",\"type\":\"LinearAxis\"},{\"attributes\":{},\"id\":\"1351\",\"type\":\"SaveTool\"},{\"attributes\":{},\"id\":\"1352\",\"type\":\"ResetTool\"},{\"attributes\":{},\"id\":\"1353\",\"type\":\"HelpTool\"},{\"attributes\":{\"bottom_units\":\"screen\",\"fill_alpha\":{\"value\":0.5},\"fill_color\":{\"value\":\"lightgrey\"},\"left_units\":\"screen\",\"level\":\"overlay\",\"line_alpha\":{\"value\":1.0},\"line_color\":{\"value\":\"black\"},\"line_dash\":[4,4],\"line_width\":{\"value\":2},\"plot\":null,\"render_mode\":\"css\",\"right_units\":\"screen\",\"top_units\":\"screen\"},\"id\":\"1293\",\"type\":\"BoxAnnotation\"},{\"attributes\":{\"plot\":{\"id\":\"1266\",\"subtype\":\"Figure\",\"type\":\"Plot\"},\"ticker\":{\"id\":\"1276\",\"type\":\"BasicTicker\"}},\"id\":\"1279\",\"type\":\"Grid\"},{\"attributes\":{\"active_drag\":\"auto\",\"active_inspect\":\"auto\",\"active_multi\":null,\"active_scroll\":\"auto\",\"active_tap\":\"auto\",\"tools\":[{\"id\":\"1348\",\"type\":\"PanTool\"},{\"id\":\"1349\",\"type\":\"WheelZoomTool\"},{\"id\":\"1350\",\"type\":\"BoxZoomTool\"},{\"id\":\"1351\",\"type\":\"SaveTool\"},{\"id\":\"1352\",\"type\":\"ResetTool\"},{\"id\":\"1353\",\"type\":\"HelpTool\"}]},\"id\":\"1354\",\"type\":\"Toolbar\"},{\"attributes\":{\"data_source\":{\"id\":\"1363\",\"type\":\"ColumnDataSource\"},\"glyph\":{\"id\":\"1364\",\"type\":\"X\"},\"hover_glyph\":null,\"muted_glyph\":null,\"nonselection_glyph\":{\"id\":\"1365\",\"type\":\"X\"},\"selection_glyph\":null,\"view\":{\"id\":\"1367\",\"type\":\"CDSView\"}},\"id\":\"1366\",\"type\":\"GlyphRenderer\"},{\"attributes\":{\"formatter\":{\"id\":\"1307\",\"type\":\"LogTickFormatter\"},\"plot\":{\"id\":\"1266\",\"subtype\":\"Figure\",\"type\":\"Plot\"},\"ticker\":{\"id\":\"1281\",\"type\":\"LogTicker\"}},\"id\":\"1280\",\"type\":\"LogAxis\"},{\"attributes\":{\"bottom_units\":\"screen\",\"fill_alpha\":{\"value\":0.5},\"fill_color\":{\"value\":\"lightgrey\"},\"left_units\":\"screen\",\"level\":\"overlay\",\"line_alpha\":{\"value\":1.0},\"line_color\":{\"value\":\"black\"},\"line_dash\":[4,4],\"line_width\":{\"value\":2},\"plot\":null,\"render_mode\":\"css\",\"right_units\":\"screen\",\"top_units\":\"screen\"},\"id\":\"1356\",\"type\":\"BoxAnnotation\"},{\"attributes\":{},\"id\":\"1289\",\"type\":\"ResetTool\"},{\"attributes\":{\"source\":{\"id\":\"1363\",\"type\":\"ColumnDataSource\"}},\"id\":\"1367\",\"type\":\"CDSView\"},{\"attributes\":{},\"id\":\"1290\",\"type\":\"HelpTool\"},{\"attributes\":{\"plot\":null,\"text\":\"\"},\"id\":\"1305\",\"type\":\"Title\"},{\"attributes\":{\"line_color\":\"red\",\"x\":{\"field\":\"x\"},\"y\":{\"field\":\"y\"}},\"id\":\"1369\",\"type\":\"Line\"},{\"attributes\":{\"source\":{\"id\":\"1300\",\"type\":\"ColumnDataSource\"}},\"id\":\"1304\",\"type\":\"CDSView\"},{\"attributes\":{\"line_alpha\":0.1,\"line_color\":\"#1f77b4\",\"x\":{\"field\":\"x\"},\"y\":{\"field\":\"y\"}},\"id\":\"1370\",\"type\":\"Line\"}],\"root_ids\":[\"1384\"]},\"title\":\"Bokeh Application\",\"version\":\"1.0.4\"}};\n",
       "  var render_items = [{\"docid\":\"dd783f64-9920-4938-98d3-c3ed85fde79b\",\"roots\":{\"1384\":\"d9c1f22c-fa4f-46d1-81ea-89b317e16bb9\"}}];\n",
       "  root.Bokeh.embed.embed_items_notebook(docs_json, render_items);\n",
       "\n",
       "  }\n",
       "  if (root.Bokeh !== undefined) {\n",
       "    embed_document(root);\n",
       "  } else {\n",
       "    var attempts = 0;\n",
       "    var timer = setInterval(function(root) {\n",
       "      if (root.Bokeh !== undefined) {\n",
       "        embed_document(root);\n",
       "        clearInterval(timer);\n",
       "      }\n",
       "      attempts++;\n",
       "      if (attempts > 100) {\n",
       "        console.log(\"Bokeh: ERROR: Unable to run BokehJS code because BokehJS library is missing\");\n",
       "        clearInterval(timer);\n",
       "      }\n",
       "    }, 10, root)\n",
       "  }\n",
       "})(window);"
      ],
      "application/vnd.bokehjs_exec.v0+json": ""
     },
     "metadata": {
      "application/vnd.bokehjs_exec.v0+json": {
       "id": "1384"
      }
     },
     "output_type": "display_data"
    }
   ],
   "source": [
    "xstar = 0.\n",
    "xsol = my_newton(g, dg, x0=0.5, xstar=xstar, tol=1.e-15, nitmax=50)\n",
    "print(f\"Convergence de l'algorithme de Newton en {xsol.size-1} itérations\")\n",
    "print(f\"--> solution de g(x) = 0 obtenue pour  x = {xsol[-1]}\")\n",
    "\n",
    "err = np.abs(xsol - xstar)\n",
    "\n",
    "fig1 = figure(width=490, height=300, y_axis_type=\"log\")\n",
    "fig1.x(range(xsol.size), err, size=5,legend=\"erreur\")\n",
    "fig1.x(range(xsol.size),np.abs(g(xsol)),color='red',legend=\"erreur résiduelle\")\n",
    "\n",
    "fig2 = figure(width=490, height=300, x_axis_type=\"log\", y_axis_type=\"log\")\n",
    "fig2.x(err[:-1], err[1:], size=5)\n",
    "fig2.line(err[:-1], err[:-1]*err[:-1]*err[:-1],  color=\"red\", legend=\"ordre 3\")\n",
    "\n",
    "show(row(fig1, fig2))"
   ]
  },
  {
   "cell_type": "markdown",
   "metadata": {},
   "source": [
    "Test de la fonction : $h(x) = x^3$"
   ]
  },
  {
   "cell_type": "code",
   "execution_count": 7,
   "metadata": {},
   "outputs": [],
   "source": [
    "def h(x):\n",
    "    return x*x*x\n",
    "\n",
    "def dh(x):\n",
    "    return 3*x*x"
   ]
  },
  {
   "cell_type": "code",
   "execution_count": 8,
   "metadata": {},
   "outputs": [
    {
     "name": "stdout",
     "output_type": "stream",
     "text": [
      "Convergence de l'algorithme de Newton en 56 itérations\n",
      "--> solution de h(x) = 0 obtenue pour  x = 6.88429539855784e-11\n"
     ]
    },
    {
     "data": {
      "text/html": [
       "\n",
       "\n",
       "\n",
       "\n",
       "\n",
       "\n",
       "  <div class=\"bk-root\" id=\"f8e08586-c8ca-45ab-b878-000b16d1cb30\" data-root-id=\"1671\"></div>\n"
      ]
     },
     "metadata": {},
     "output_type": "display_data"
    },
    {
     "data": {
      "application/javascript": [
       "(function(root) {\n",
       "  function embed_document(root) {\n",
       "    \n",
       "  var docs_json = {\"24c0c3d8-6565-4e72-8176-f0dd66caae71\":{\"roots\":{\"references\":[{\"attributes\":{\"children\":[{\"id\":\"1561\",\"subtype\":\"Figure\",\"type\":\"Plot\"},{\"id\":\"1616\",\"subtype\":\"Figure\",\"type\":\"Plot\"}]},\"id\":\"1671\",\"type\":\"Row\"},{\"attributes\":{\"data_source\":{\"id\":\"1595\",\"type\":\"ColumnDataSource\"},\"glyph\":{\"id\":\"1596\",\"type\":\"X\"},\"hover_glyph\":null,\"muted_glyph\":null,\"nonselection_glyph\":{\"id\":\"1597\",\"type\":\"X\"},\"selection_glyph\":null,\"view\":{\"id\":\"1599\",\"type\":\"CDSView\"}},\"id\":\"1598\",\"type\":\"GlyphRenderer\"},{\"attributes\":{\"source\":{\"id\":\"1595\",\"type\":\"ColumnDataSource\"}},\"id\":\"1599\",\"type\":\"CDSView\"},{\"attributes\":{\"formatter\":{\"id\":\"1662\",\"type\":\"LogTickFormatter\"},\"plot\":{\"id\":\"1616\",\"subtype\":\"Figure\",\"type\":\"Plot\"},\"ticker\":{\"id\":\"1631\",\"type\":\"LogTicker\"}},\"id\":\"1630\",\"type\":\"LogAxis\"},{\"attributes\":{\"bottom_units\":\"screen\",\"fill_alpha\":{\"value\":0.5},\"fill_color\":{\"value\":\"lightgrey\"},\"left_units\":\"screen\",\"level\":\"overlay\",\"line_alpha\":{\"value\":1.0},\"line_color\":{\"value\":\"black\"},\"line_dash\":[4,4],\"line_width\":{\"value\":2},\"plot\":null,\"render_mode\":\"css\",\"right_units\":\"screen\",\"top_units\":\"screen\"},\"id\":\"1588\",\"type\":\"BoxAnnotation\"},{\"attributes\":{\"bottom_units\":\"screen\",\"fill_alpha\":{\"value\":0.5},\"fill_color\":{\"value\":\"lightgrey\"},\"left_units\":\"screen\",\"level\":\"overlay\",\"line_alpha\":{\"value\":1.0},\"line_color\":{\"value\":\"black\"},\"line_dash\":[4,4],\"line_width\":{\"value\":2},\"plot\":null,\"render_mode\":\"css\",\"right_units\":\"screen\",\"top_units\":\"screen\"},\"id\":\"1643\",\"type\":\"BoxAnnotation\"},{\"attributes\":{},\"id\":\"1580\",\"type\":\"PanTool\"},{\"attributes\":{\"source\":{\"id\":\"1650\",\"type\":\"ColumnDataSource\"}},\"id\":\"1654\",\"type\":\"CDSView\"},{\"attributes\":{},\"id\":\"1581\",\"type\":\"WheelZoomTool\"},{\"attributes\":{\"overlay\":{\"id\":\"1588\",\"type\":\"BoxAnnotation\"}},\"id\":\"1582\",\"type\":\"BoxZoomTool\"},{\"attributes\":{\"line_color\":\"red\",\"x\":{\"field\":\"x\"},\"y\":{\"field\":\"y\"}},\"id\":\"1656\",\"type\":\"Line\"},{\"attributes\":{},\"id\":\"1583\",\"type\":\"SaveTool\"},{\"attributes\":{\"line_alpha\":0.1,\"line_color\":\"#1f77b4\",\"x\":{\"field\":\"x\"},\"y\":{\"field\":\"y\"}},\"id\":\"1657\",\"type\":\"Line\"},{\"attributes\":{},\"id\":\"1584\",\"type\":\"ResetTool\"},{\"attributes\":{\"data_source\":{\"id\":\"1655\",\"type\":\"ColumnDataSource\"},\"glyph\":{\"id\":\"1656\",\"type\":\"Line\"},\"hover_glyph\":null,\"muted_glyph\":null,\"nonselection_glyph\":{\"id\":\"1657\",\"type\":\"Line\"},\"selection_glyph\":null,\"view\":{\"id\":\"1659\",\"type\":\"CDSView\"}},\"id\":\"1658\",\"type\":\"GlyphRenderer\"},{\"attributes\":{},\"id\":\"1585\",\"type\":\"HelpTool\"},{\"attributes\":{\"source\":{\"id\":\"1655\",\"type\":\"ColumnDataSource\"}},\"id\":\"1659\",\"type\":\"CDSView\"},{\"attributes\":{\"active_drag\":\"auto\",\"active_inspect\":\"auto\",\"active_multi\":null,\"active_scroll\":\"auto\",\"active_tap\":\"auto\",\"tools\":[{\"id\":\"1580\",\"type\":\"PanTool\"},{\"id\":\"1581\",\"type\":\"WheelZoomTool\"},{\"id\":\"1582\",\"type\":\"BoxZoomTool\"},{\"id\":\"1583\",\"type\":\"SaveTool\"},{\"id\":\"1584\",\"type\":\"ResetTool\"},{\"id\":\"1585\",\"type\":\"HelpTool\"}]},\"id\":\"1586\",\"type\":\"Toolbar\"},{\"attributes\":{\"plot\":null,\"text\":\"\"},\"id\":\"1660\",\"type\":\"Title\"},{\"attributes\":{\"source\":{\"id\":\"1600\",\"type\":\"ColumnDataSource\"}},\"id\":\"1604\",\"type\":\"CDSView\"},{\"attributes\":{\"plot\":null,\"text\":\"\"},\"id\":\"1605\",\"type\":\"Title\"},{\"attributes\":{\"ticker\":null},\"id\":\"1662\",\"type\":\"LogTickFormatter\"},{\"attributes\":{\"ticker\":null},\"id\":\"1607\",\"type\":\"LogTickFormatter\"},{\"attributes\":{\"ticker\":null},\"id\":\"1664\",\"type\":\"LogTickFormatter\"},{\"attributes\":{},\"id\":\"1609\",\"type\":\"BasicTickFormatter\"},{\"attributes\":{},\"id\":\"1666\",\"type\":\"UnionRenderers\"},{\"attributes\":{},\"id\":\"1611\",\"type\":\"UnionRenderers\"},{\"attributes\":{},\"id\":\"1667\",\"type\":\"Selection\"},{\"attributes\":{\"items\":[{\"id\":\"1670\",\"type\":\"LegendItem\"}],\"plot\":{\"id\":\"1616\",\"subtype\":\"Figure\",\"type\":\"Plot\"}},\"id\":\"1669\",\"type\":\"Legend\"},{\"attributes\":{},\"id\":\"1612\",\"type\":\"Selection\"},{\"attributes\":{\"items\":[{\"id\":\"1615\",\"type\":\"LegendItem\"}],\"plot\":{\"id\":\"1561\",\"subtype\":\"Figure\",\"type\":\"Plot\"}},\"id\":\"1614\",\"type\":\"Legend\"},{\"attributes\":{\"label\":{\"value\":\"ordre 1\"},\"renderers\":[{\"id\":\"1658\",\"type\":\"GlyphRenderer\"}]},\"id\":\"1670\",\"type\":\"LegendItem\"},{\"attributes\":{\"label\":{\"value\":\"erreur r\\u00e9siduelle\"},\"renderers\":[{\"id\":\"1603\",\"type\":\"GlyphRenderer\"}]},\"id\":\"1615\",\"type\":\"LegendItem\"},{\"attributes\":{\"callback\":null,\"data\":{\"x\":{\"__ndarray__\":\"AAAAAAAA4D9WVVVVVVXVPx3HcRzHccw/aS+hvYT2wj/i6db8sEi5P5dGj6gg27A/ygi/4IB5pj9jtv6AVvedP5h5VKs5+pM/y0wbj/eiij+HiGdf+sGBP14LitRNrXc/0rliG72Rbz+MJpdn0wtlPxDeHorED1w/YOlpsS21Uj+AjOJBkvFIP6pd7CsMoUA/43yQOhAsNj8vUWujFZAtP3SLR8JjtSM/8Lm0rS9HGj9K0c1zyoQRP7jBZ5q4Wwc/SgI1I/Yk/z7cViPCTsP0PtBzhK0Tr+s+4PcCybd04j7Wn662n5vYPjkVH8+/Z9A+9sZ+aarfxT5ICamMOCq9PtuwcAh7cbM+zutAC6TsqT6J8tVcbUihPgzux3s8C5c+EOhf+qW5jj4K8D/8w3uEPrjq//qvT3s+epyq/B81cj5Ne+NQ1UZoPoinl+A4L2A+C4of1kuUVT4OuNRyusVMPgnQjUx8LkM+t2oSZlCTOT4lRwxE4AwxPtxeELDVuyY+JSlrlcdPHj5uG/K4LzUUPpIkmPaU8Qo+YhgQT2P2AT7YdRUUL/P3PSCdHHDp7u89wGho9fBJ5T1WNouclmLcPQ==\",\"dtype\":\"float64\",\"shape\":[56]},\"y\":{\"__ndarray__\":\"VlVVVVVV1T8dx3Ecx3HMP2kvob2E9sI/4unW/LBIuT+XRo+oINuwP8oIv+CAeaY/Y7b+gFb3nT+YeVSrOfqTP8tMG4/3ooo/h4hnX/rBgT9eC4rUTa13P9K5Yhu9kW8/jCaXZ9MLZT8Q3h6KxA9cP2DpabEttVI/gIziQZLxSD+qXewrDKFAP+N8kDoQLDY/L1FroxWQLT90i0fCY7UjP/C5tK0vRxo/StHNc8qEET+4wWeauFsHP0oCNSP2JP8+3FYjwk7D9D7Qc4StE6/rPuD3Asm3dOI+1p+utp+b2D45FR/Pv2fQPvbGfmmq38U+SAmpjDgqvT7bsHAIe3GzPs7rQAuk7Kk+ifLVXG1IoT4M7sd7PAuXPhDoX/qluY4+CvA//MN7hD646v/6r097PnqcqvwfNXI+TXvjUNVGaD6Ip5fgOC9gPguKH9ZLlFU+DrjUcrrFTD4J0I1MfC5DPrdqEmZQkzk+JUcMROAMMT7cXhCw1bsmPiUpa5XHTx4+bhvyuC81FD6SJJj2lPEKPmIYEE9j9gE+2HUVFC/z9z0gnRxw6e7vPcBoaPXwSeU9VjaLnJZi3D3kzlxoZOzSPQ==\",\"dtype\":\"float64\",\"shape\":[56]}},\"selected\":{\"id\":\"1667\",\"type\":\"Selection\"},\"selection_policy\":{\"id\":\"1666\",\"type\":\"UnionRenderers\"}},\"id\":\"1650\",\"type\":\"ColumnDataSource\"},{\"attributes\":{\"callback\":null,\"data\":{\"x\":[0,1,2,3,4,5,6,7,8,9,10,11,12,13,14,15,16,17,18,19,20,21,22,23,24,25,26,27,28,29,30,31,32,33,34,35,36,37,38,39,40,41,42,43,44,45,46,47,48,49,50,51,52,53,54,55,56],\"y\":{\"__ndarray__\":\"AAAAAAAAwD9qL6G9hPaiP8gIv+CAeYY/yUwbj/eiaj/UuWIbvZFPP2LpabEttTI/6XyQOhAsFj/4ubStL0f6PlgCNSP2JN8+6vcCybd0wj4Bx35pqt+lPtjrQAuk7Ik+HOhf+qW5bj6CnKr8HzVSPhWKH9ZLlDU+xGoSZlCTGT40KWuVx0/+PWgYEE9j9uE9yGho9fBJxT06aSaLMDupPbR8QPpV5409MrIvzX64cT1oYYRIlgBVPY868lVA5Dg9sK3vP0yAHT2FNy+Ob3sBPQ+9qVw4uOQ8xncxsHuOyDx8hHOOpRqtPCz5OrMyP5E8mo/wytNwdDwf0LSR3jlYPGh7dx5dtjw8pT9jZ8UDITywxik4ZSoEPC6DMQBl5uc7qTweOW5TzDvnNnrfJMmwO9DFtlTp5JM7I4IRDwuUdzsW5sg31PFbO3NP8llOj0A7k41h3FygIzsCNkTfzEIHO5gQ34OKkes6URO9Hj9W0Do8bDWWvFyzOpPoD5+m8pY6YZiXlowyezpDbSp/9B1gOqM1WFQFGkM6zc3jiZSjJjpSI8L41dQKOpHBkKvXzO857QDk8zPY0jnGqyroklW2OUljkUJieJo5\",\"dtype\":\"float64\",\"shape\":[57]}},\"selected\":{\"id\":\"1731\",\"type\":\"Selection\"},\"selection_policy\":{\"id\":\"1730\",\"type\":\"UnionRenderers\"}},\"id\":\"1600\",\"type\":\"ColumnDataSource\"},{\"attributes\":{},\"id\":\"1730\",\"type\":\"UnionRenderers\"},{\"attributes\":{\"data_source\":{\"id\":\"1600\",\"type\":\"ColumnDataSource\"},\"glyph\":{\"id\":\"1601\",\"type\":\"X\"},\"hover_glyph\":null,\"muted_glyph\":null,\"nonselection_glyph\":{\"id\":\"1602\",\"type\":\"X\"},\"selection_glyph\":null,\"view\":{\"id\":\"1604\",\"type\":\"CDSView\"}},\"id\":\"1603\",\"type\":\"GlyphRenderer\"},{\"attributes\":{},\"id\":\"1731\",\"type\":\"Selection\"},{\"attributes\":{\"callback\":null},\"id\":\"1617\",\"type\":\"DataRange1d\"},{\"attributes\":{\"callback\":null},\"id\":\"1619\",\"type\":\"DataRange1d\"},{\"attributes\":{\"fill_color\":{\"value\":\"red\"},\"line_color\":{\"value\":\"red\"},\"x\":{\"field\":\"x\"},\"y\":{\"field\":\"y\"}},\"id\":\"1601\",\"type\":\"X\"},{\"attributes\":{},\"id\":\"1735\",\"type\":\"UnionRenderers\"},{\"attributes\":{},\"id\":\"1621\",\"type\":\"LogScale\"},{\"attributes\":{},\"id\":\"1736\",\"type\":\"Selection\"},{\"attributes\":{},\"id\":\"1623\",\"type\":\"LogScale\"},{\"attributes\":{\"below\":[{\"id\":\"1625\",\"type\":\"LogAxis\"}],\"left\":[{\"id\":\"1630\",\"type\":\"LogAxis\"}],\"plot_height\":300,\"plot_width\":490,\"renderers\":[{\"id\":\"1625\",\"type\":\"LogAxis\"},{\"id\":\"1629\",\"type\":\"Grid\"},{\"id\":\"1630\",\"type\":\"LogAxis\"},{\"id\":\"1634\",\"type\":\"Grid\"},{\"id\":\"1643\",\"type\":\"BoxAnnotation\"},{\"id\":\"1653\",\"type\":\"GlyphRenderer\"},{\"id\":\"1669\",\"type\":\"Legend\"},{\"id\":\"1658\",\"type\":\"GlyphRenderer\"}],\"title\":{\"id\":\"1660\",\"type\":\"Title\"},\"toolbar\":{\"id\":\"1641\",\"type\":\"Toolbar\"},\"x_range\":{\"id\":\"1617\",\"type\":\"DataRange1d\"},\"x_scale\":{\"id\":\"1621\",\"type\":\"LogScale\"},\"y_range\":{\"id\":\"1619\",\"type\":\"DataRange1d\"},\"y_scale\":{\"id\":\"1623\",\"type\":\"LogScale\"}},\"id\":\"1616\",\"subtype\":\"Figure\",\"type\":\"Plot\"},{\"attributes\":{\"formatter\":{\"id\":\"1664\",\"type\":\"LogTickFormatter\"},\"plot\":{\"id\":\"1616\",\"subtype\":\"Figure\",\"type\":\"Plot\"},\"ticker\":{\"id\":\"1626\",\"type\":\"LogTicker\"}},\"id\":\"1625\",\"type\":\"LogAxis\"},{\"attributes\":{\"fill_color\":{\"value\":\"#1f77b4\"},\"line_color\":{\"value\":\"#1f77b4\"},\"size\":{\"units\":\"screen\",\"value\":5},\"x\":{\"field\":\"x\"},\"y\":{\"field\":\"y\"}},\"id\":\"1596\",\"type\":\"X\"},{\"attributes\":{},\"id\":\"1568\",\"type\":\"LogScale\"},{\"attributes\":{\"num_minor_ticks\":10},\"id\":\"1626\",\"type\":\"LogTicker\"},{\"attributes\":{\"plot\":{\"id\":\"1616\",\"subtype\":\"Figure\",\"type\":\"Plot\"},\"ticker\":{\"id\":\"1626\",\"type\":\"LogTicker\"}},\"id\":\"1629\",\"type\":\"Grid\"},{\"attributes\":{\"fill_alpha\":{\"value\":0.1},\"fill_color\":{\"value\":\"#1f77b4\"},\"line_alpha\":{\"value\":0.1},\"line_color\":{\"value\":\"#1f77b4\"},\"size\":{\"units\":\"screen\",\"value\":5},\"x\":{\"field\":\"x\"},\"y\":{\"field\":\"y\"}},\"id\":\"1597\",\"type\":\"X\"},{\"attributes\":{\"num_minor_ticks\":10},\"id\":\"1631\",\"type\":\"LogTicker\"},{\"attributes\":{\"dimension\":1,\"plot\":{\"id\":\"1616\",\"subtype\":\"Figure\",\"type\":\"Plot\"},\"ticker\":{\"id\":\"1631\",\"type\":\"LogTicker\"}},\"id\":\"1634\",\"type\":\"Grid\"},{\"attributes\":{\"callback\":null,\"data\":{\"x\":[0,1,2,3,4,5,6,7,8,9,10,11,12,13,14,15,16,17,18,19,20,21,22,23,24,25,26,27,28,29,30,31,32,33,34,35,36,37,38,39,40,41,42,43,44,45,46,47,48,49,50,51,52,53,54,55,56],\"y\":{\"__ndarray__\":\"AAAAAAAA4D9WVVVVVVXVPx3HcRzHccw/aS+hvYT2wj/i6db8sEi5P5dGj6gg27A/ygi/4IB5pj9jtv6AVvedP5h5VKs5+pM/y0wbj/eiij+HiGdf+sGBP14LitRNrXc/0rliG72Rbz+MJpdn0wtlPxDeHorED1w/YOlpsS21Uj+AjOJBkvFIP6pd7CsMoUA/43yQOhAsNj8vUWujFZAtP3SLR8JjtSM/8Lm0rS9HGj9K0c1zyoQRP7jBZ5q4Wwc/SgI1I/Yk/z7cViPCTsP0PtBzhK0Tr+s+4PcCybd04j7Wn662n5vYPjkVH8+/Z9A+9sZ+aarfxT5ICamMOCq9PtuwcAh7cbM+zutAC6TsqT6J8tVcbUihPgzux3s8C5c+EOhf+qW5jj4K8D/8w3uEPrjq//qvT3s+epyq/B81cj5Ne+NQ1UZoPoinl+A4L2A+C4of1kuUVT4OuNRyusVMPgnQjUx8LkM+t2oSZlCTOT4lRwxE4AwxPtxeELDVuyY+JSlrlcdPHj5uG/K4LzUUPpIkmPaU8Qo+YhgQT2P2AT7YdRUUL/P3PSCdHHDp7u89wGho9fBJ5T1WNouclmLcPeTOXGhk7NI9\",\"dtype\":\"float64\",\"shape\":[57]}},\"selected\":{\"id\":\"1612\",\"type\":\"Selection\"},\"selection_policy\":{\"id\":\"1611\",\"type\":\"UnionRenderers\"}},\"id\":\"1595\",\"type\":\"ColumnDataSource\"},{\"attributes\":{\"below\":[{\"id\":\"1570\",\"type\":\"LinearAxis\"}],\"left\":[{\"id\":\"1575\",\"type\":\"LogAxis\"}],\"plot_height\":300,\"plot_width\":490,\"renderers\":[{\"id\":\"1570\",\"type\":\"LinearAxis\"},{\"id\":\"1574\",\"type\":\"Grid\"},{\"id\":\"1575\",\"type\":\"LogAxis\"},{\"id\":\"1579\",\"type\":\"Grid\"},{\"id\":\"1588\",\"type\":\"BoxAnnotation\"},{\"id\":\"1598\",\"type\":\"GlyphRenderer\"},{\"id\":\"1614\",\"type\":\"Legend\"},{\"id\":\"1603\",\"type\":\"GlyphRenderer\"}],\"title\":{\"id\":\"1605\",\"type\":\"Title\"},\"toolbar\":{\"id\":\"1586\",\"type\":\"Toolbar\"},\"x_range\":{\"id\":\"1562\",\"type\":\"DataRange1d\"},\"x_scale\":{\"id\":\"1566\",\"type\":\"LinearScale\"},\"y_range\":{\"id\":\"1564\",\"type\":\"DataRange1d\"},\"y_scale\":{\"id\":\"1568\",\"type\":\"LogScale\"}},\"id\":\"1561\",\"subtype\":\"Figure\",\"type\":\"Plot\"},{\"attributes\":{\"fill_alpha\":{\"value\":0.1},\"fill_color\":{\"value\":\"#1f77b4\"},\"line_alpha\":{\"value\":0.1},\"line_color\":{\"value\":\"#1f77b4\"},\"size\":{\"units\":\"screen\",\"value\":5},\"x\":{\"field\":\"x\"},\"y\":{\"field\":\"y\"}},\"id\":\"1652\",\"type\":\"X\"},{\"attributes\":{},\"id\":\"1566\",\"type\":\"LinearScale\"},{\"attributes\":{\"fill_color\":{\"value\":\"#1f77b4\"},\"line_color\":{\"value\":\"#1f77b4\"},\"size\":{\"units\":\"screen\",\"value\":5},\"x\":{\"field\":\"x\"},\"y\":{\"field\":\"y\"}},\"id\":\"1651\",\"type\":\"X\"},{\"attributes\":{\"callback\":null,\"data\":{\"x\":{\"__ndarray__\":\"AAAAAAAA4D9WVVVVVVXVPx3HcRzHccw/aS+hvYT2wj/i6db8sEi5P5dGj6gg27A/ygi/4IB5pj9jtv6AVvedP5h5VKs5+pM/y0wbj/eiij+HiGdf+sGBP14LitRNrXc/0rliG72Rbz+MJpdn0wtlPxDeHorED1w/YOlpsS21Uj+AjOJBkvFIP6pd7CsMoUA/43yQOhAsNj8vUWujFZAtP3SLR8JjtSM/8Lm0rS9HGj9K0c1zyoQRP7jBZ5q4Wwc/SgI1I/Yk/z7cViPCTsP0PtBzhK0Tr+s+4PcCybd04j7Wn662n5vYPjkVH8+/Z9A+9sZ+aarfxT5ICamMOCq9PtuwcAh7cbM+zutAC6TsqT6J8tVcbUihPgzux3s8C5c+EOhf+qW5jj4K8D/8w3uEPrjq//qvT3s+epyq/B81cj5Ne+NQ1UZoPoinl+A4L2A+C4of1kuUVT4OuNRyusVMPgnQjUx8LkM+t2oSZlCTOT4lRwxE4AwxPtxeELDVuyY+JSlrlcdPHj5uG/K4LzUUPpIkmPaU8Qo+YhgQT2P2AT7YdRUUL/P3PSCdHHDp7u89wGho9fBJ5T1WNouclmLcPQ==\",\"dtype\":\"float64\",\"shape\":[56]},\"y\":{\"__ndarray__\":\"AAAAAAAA4D9WVVVVVVXVPx3HcRzHccw/aS+hvYT2wj/i6db8sEi5P5dGj6gg27A/ygi/4IB5pj9jtv6AVvedP5h5VKs5+pM/y0wbj/eiij+HiGdf+sGBP14LitRNrXc/0rliG72Rbz+MJpdn0wtlPxDeHorED1w/YOlpsS21Uj+AjOJBkvFIP6pd7CsMoUA/43yQOhAsNj8vUWujFZAtP3SLR8JjtSM/8Lm0rS9HGj9K0c1zyoQRP7jBZ5q4Wwc/SgI1I/Yk/z7cViPCTsP0PtBzhK0Tr+s+4PcCybd04j7Wn662n5vYPjkVH8+/Z9A+9sZ+aarfxT5ICamMOCq9PtuwcAh7cbM+zutAC6TsqT6J8tVcbUihPgzux3s8C5c+EOhf+qW5jj4K8D/8w3uEPrjq//qvT3s+epyq/B81cj5Ne+NQ1UZoPoinl+A4L2A+C4of1kuUVT4OuNRyusVMPgnQjUx8LkM+t2oSZlCTOT4lRwxE4AwxPtxeELDVuyY+JSlrlcdPHj5uG/K4LzUUPpIkmPaU8Qo+YhgQT2P2AT7YdRUUL/P3PSCdHHDp7u89wGho9fBJ5T1WNouclmLcPQ==\",\"dtype\":\"float64\",\"shape\":[56]}},\"selected\":{\"id\":\"1736\",\"type\":\"Selection\"},\"selection_policy\":{\"id\":\"1735\",\"type\":\"UnionRenderers\"}},\"id\":\"1655\",\"type\":\"ColumnDataSource\"},{\"attributes\":{\"callback\":null},\"id\":\"1564\",\"type\":\"DataRange1d\"},{\"attributes\":{\"callback\":null},\"id\":\"1562\",\"type\":\"DataRange1d\"},{\"attributes\":{},\"id\":\"1635\",\"type\":\"PanTool\"},{\"attributes\":{\"fill_alpha\":{\"value\":0.1},\"fill_color\":{\"value\":\"#1f77b4\"},\"line_alpha\":{\"value\":0.1},\"line_color\":{\"value\":\"#1f77b4\"},\"x\":{\"field\":\"x\"},\"y\":{\"field\":\"y\"}},\"id\":\"1602\",\"type\":\"X\"},{\"attributes\":{},\"id\":\"1636\",\"type\":\"WheelZoomTool\"},{\"attributes\":{\"formatter\":{\"id\":\"1609\",\"type\":\"BasicTickFormatter\"},\"plot\":{\"id\":\"1561\",\"subtype\":\"Figure\",\"type\":\"Plot\"},\"ticker\":{\"id\":\"1571\",\"type\":\"BasicTicker\"}},\"id\":\"1570\",\"type\":\"LinearAxis\"},{\"attributes\":{\"overlay\":{\"id\":\"1643\",\"type\":\"BoxAnnotation\"}},\"id\":\"1637\",\"type\":\"BoxZoomTool\"},{\"attributes\":{},\"id\":\"1571\",\"type\":\"BasicTicker\"},{\"attributes\":{},\"id\":\"1638\",\"type\":\"SaveTool\"},{\"attributes\":{\"dimension\":1,\"plot\":{\"id\":\"1561\",\"subtype\":\"Figure\",\"type\":\"Plot\"},\"ticker\":{\"id\":\"1576\",\"type\":\"LogTicker\"}},\"id\":\"1579\",\"type\":\"Grid\"},{\"attributes\":{\"num_minor_ticks\":10},\"id\":\"1576\",\"type\":\"LogTicker\"},{\"attributes\":{},\"id\":\"1639\",\"type\":\"ResetTool\"},{\"attributes\":{\"plot\":{\"id\":\"1561\",\"subtype\":\"Figure\",\"type\":\"Plot\"},\"ticker\":{\"id\":\"1571\",\"type\":\"BasicTicker\"}},\"id\":\"1574\",\"type\":\"Grid\"},{\"attributes\":{},\"id\":\"1640\",\"type\":\"HelpTool\"},{\"attributes\":{\"formatter\":{\"id\":\"1607\",\"type\":\"LogTickFormatter\"},\"plot\":{\"id\":\"1561\",\"subtype\":\"Figure\",\"type\":\"Plot\"},\"ticker\":{\"id\":\"1576\",\"type\":\"LogTicker\"}},\"id\":\"1575\",\"type\":\"LogAxis\"},{\"attributes\":{\"active_drag\":\"auto\",\"active_inspect\":\"auto\",\"active_multi\":null,\"active_scroll\":\"auto\",\"active_tap\":\"auto\",\"tools\":[{\"id\":\"1635\",\"type\":\"PanTool\"},{\"id\":\"1636\",\"type\":\"WheelZoomTool\"},{\"id\":\"1637\",\"type\":\"BoxZoomTool\"},{\"id\":\"1638\",\"type\":\"SaveTool\"},{\"id\":\"1639\",\"type\":\"ResetTool\"},{\"id\":\"1640\",\"type\":\"HelpTool\"}]},\"id\":\"1641\",\"type\":\"Toolbar\"},{\"attributes\":{\"data_source\":{\"id\":\"1650\",\"type\":\"ColumnDataSource\"},\"glyph\":{\"id\":\"1651\",\"type\":\"X\"},\"hover_glyph\":null,\"muted_glyph\":null,\"nonselection_glyph\":{\"id\":\"1652\",\"type\":\"X\"},\"selection_glyph\":null,\"view\":{\"id\":\"1654\",\"type\":\"CDSView\"}},\"id\":\"1653\",\"type\":\"GlyphRenderer\"}],\"root_ids\":[\"1671\"]},\"title\":\"Bokeh Application\",\"version\":\"1.0.4\"}};\n",
       "  var render_items = [{\"docid\":\"24c0c3d8-6565-4e72-8176-f0dd66caae71\",\"roots\":{\"1671\":\"f8e08586-c8ca-45ab-b878-000b16d1cb30\"}}];\n",
       "  root.Bokeh.embed.embed_items_notebook(docs_json, render_items);\n",
       "\n",
       "  }\n",
       "  if (root.Bokeh !== undefined) {\n",
       "    embed_document(root);\n",
       "  } else {\n",
       "    var attempts = 0;\n",
       "    var timer = setInterval(function(root) {\n",
       "      if (root.Bokeh !== undefined) {\n",
       "        embed_document(root);\n",
       "        clearInterval(timer);\n",
       "      }\n",
       "      attempts++;\n",
       "      if (attempts > 100) {\n",
       "        console.log(\"Bokeh: ERROR: Unable to run BokehJS code because BokehJS library is missing\");\n",
       "        clearInterval(timer);\n",
       "      }\n",
       "    }, 10, root)\n",
       "  }\n",
       "})(window);"
      ],
      "application/vnd.bokehjs_exec.v0+json": ""
     },
     "metadata": {
      "application/vnd.bokehjs_exec.v0+json": {
       "id": "1671"
      }
     },
     "output_type": "display_data"
    }
   ],
   "source": [
    "xstar = 0.\n",
    "xsol = my_newton(h, dh, x0=0.5, xstar=xstar, tol=1.e-10, nitmax=100)\n",
    "print(f\"Convergence de l'algorithme de Newton en {xsol.size-1} itérations\")\n",
    "print(f\"--> solution de h(x) = 0 obtenue pour  x = {xsol[-1]}\")\n",
    "\n",
    "err = np.abs(xsol - xstar)\n",
    "\n",
    "fig1 = figure(width=490, height=300, y_axis_type=\"log\")\n",
    "fig1.x(range(xsol.size), err, size=5)\n",
    "fig1.x(range(xsol.size),np.abs(h(xsol)),color='red',legend=\"erreur résiduelle\")\n",
    "\n",
    "fig2 = figure(width=490, height=300, x_axis_type=\"log\", y_axis_type=\"log\")\n",
    "fig2.x(err[:-1], err[1:], size=5)\n",
    "fig2.line(err[:-1], err[:-1],  color=\"red\", legend=\"ordre 1\")\n",
    "\n",
    "\n",
    "show(row(fig1, fig2))\n"
   ]
  },
  {
   "cell_type": "markdown",
   "metadata": {},
   "source": [
    "On retrouve, pour la méthode de Newton, un ordre de convergence quadratique pour f, d'ordre 3 pour g et linéaire pour h. Cela confirme les résultats de la question Q2)b)."
   ]
  },
  {
   "cell_type": "markdown",
   "metadata": {},
   "source": [
    "On remarque que l'erreur résiduelle est pour f et g du même ordre de grandeur que l'erreur, en accord avec Q2)c). Pour h, on trouve une erreur résiduelle beaucoup plus faible. En effet:\n",
    "$ h(x_{n})=x_{n}^{3}=x_{*}^{3}+3x_{*}^{2}(x_{n}-x_{*})+3x_{*}(x_{n}-x_{*})^{2}+(x_{n}-x_{*})^{3}$\n",
    "D'où: $ |h(x_{n})|= \\epsilon_{n}^{3}\\ $. L'erreur au cube se confond donc avec l'erreur résiduelle, comme nous le voyons graphiquement."
   ]
  },
  {
   "cell_type": "code",
   "execution_count": 9,
   "metadata": {},
   "outputs": [
    {
     "name": "stdout",
     "output_type": "stream",
     "text": [
      "Convergence de l'algorithme de Newton de scipy en 6 itérations contre 5 pour my_newton\n",
      "--> solution de f(x) = 0 obtenue pour  x = 0.6931471805599453 contre x=0.6931471805600254. Rapport X_newton/X_my_newton = 0.9999999999998843 \n"
     ]
    }
   ],
   "source": [
    "# Pour f: \n",
    "xstar=np.log(2)\n",
    "Xsol=my_newton(f, df, x0=0., xstar=xstar, tol=1.e-12, nitmax=100)\n",
    "X=newton(f,0,df,full_output=True)\n",
    "print(f\"Convergence de l'algorithme de Newton de scipy en {X[1].iterations} itérations contre {Xsol.size-1} pour my_newton\")\n",
    "print(f\"--> solution de f(x) = 0 obtenue pour  x = {X[0]} contre x={Xsol[-1]}. Rapport X_newton/X_my_newton = {(X[0]/Xsol[-1])} \")\n"
   ]
  },
  {
   "cell_type": "code",
   "execution_count": 10,
   "metadata": {},
   "outputs": [
    {
     "name": "stdout",
     "output_type": "stream",
     "text": [
      "Convergence de l'algorithme de Newton de scipy en 4 itérations contre 3 pour my_newton\n",
      "--> solution de f(x) = 0 obtenue pour  x = 0.0 contre x=1.73429995950318e-19 pour my_newton. Rapport X_newton/X_my_newton = 0.0 \n"
     ]
    }
   ],
   "source": [
    "# Pour g: \n",
    "xstar=0.\n",
    "Xsol=my_newton(g, dg, x0=0.5, xstar=xstar, tol=1.e-12, nitmax=50)\n",
    "X=newton(g,0.5,dg,full_output=True)\n",
    "print(f\"Convergence de l'algorithme de Newton de scipy en {X[1].iterations} itérations contre {Xsol.size-1} pour my_newton\")\n",
    "print(f\"--> solution de f(x) = 0 obtenue pour  x = {X[0]} contre x={Xsol[-1]} pour my_newton. Rapport X_newton/X_my_newton = {(X[0]/Xsol[-1])} \")\n"
   ]
  },
  {
   "cell_type": "code",
   "execution_count": 11,
   "metadata": {},
   "outputs": [
    {
     "name": "stdout",
     "output_type": "stream",
     "text": [
      "Convergence de l'algorithme de Newton de scipy en 42 itérations contre 67 pour my_newton\n",
      "--> solution de f(x) = 0 obtenue pour  x = 2.0097272630703606e-08 contre x=7.958947640234638e-13 pour my_newton. Rapport X_newton/X_my_newton = 25251.16829404235 \n"
     ]
    }
   ],
   "source": [
    "# Pour h: \n",
    "xstar=0.\n",
    "Xsol=my_newton(h, dh, x0=0.5, xstar=xstar, tol=1.e-12, nitmax=100)\n",
    "X=newton(h,0.5,dh,full_output=True)\n",
    "print(f\"Convergence de l'algorithme de Newton de scipy en {X[1].iterations} itérations contre {Xsol.size-1} pour my_newton\")\n",
    "print(f\"--> solution de f(x) = 0 obtenue pour  x = {X[0]} contre x={Xsol[-1]} pour my_newton. Rapport X_newton/X_my_newton = {(X[0]/Xsol[-1])} \")\n"
   ]
  },
  {
   "cell_type": "markdown",
   "metadata": {},
   "source": [
    "**Comparer ces résultats avec la fonction newton de Scipy (https://docs.scipy.org/doc/scipy/reference/generated/scipy.optimize.newton.html)**"
   ]
  },
  {
   "cell_type": "markdown",
   "metadata": {},
   "source": [
    "Pour comparer les résultats de façon rigoureuse il faudrait adopter la même tolérance _xtol = 2e-12_. Remarquons également que le nombre maximum d'itérations est: _iter = 100_."
   ]
  },
  {
   "cell_type": "markdown",
   "metadata": {},
   "source": [
    "Les deux algorithmes proposent dans le premier cas presque la même solution en un nombre d'itérations équivalent. Pour g, l'algorithme de scipy renvoie 0 en 4 itérations. Il est possible qu'une méthode existe dans scipy.optimize.newton pour mettre à 0 la solution lorsqu'elle devient trop petite (selon une définition adaptée, liée à l'erreur machine). \n",
    "Le troisième cas propose une meilleure solution pour notre algorithme avec toutefois 25 itérations supplémentaires."
   ]
  },
  {
   "cell_type": "markdown",
   "metadata": {},
   "source": [
    "### Cas dégénérés"
   ]
  },
  {
   "cell_type": "markdown",
   "metadata": {},
   "source": [
    "**Implémenter l'algorithme de Newton modifié sous la forme $x_{n+1} = x_n-m\\frac{f(x_n)}{f'(x_n)} $**"
   ]
  },
  {
   "cell_type": "code",
   "execution_count": 12,
   "metadata": {},
   "outputs": [],
   "source": [
    "def my_newton_modif(f, df, m, x0, xstar, tol=1.e-12, nitmax=50):\n",
    "   \n",
    "    # initialisation\n",
    "    x = np.zeros(nitmax+1)\n",
    "    x[0] = x0\n",
    "    \n",
    "    # iteration du Newton modifié       \n",
    "    for i in range(1, nitmax+1):\n",
    "        x[i] = x[i-1] - m*f(x[i-1])/df(x[i-1])\n",
    "        if ( abs(x[i] - xstar) < tol) : break\n",
    "\n",
    "    return x[0:i+1]"
   ]
  },
  {
   "cell_type": "markdown",
   "metadata": {},
   "source": [
    "**Vérifier numériquement le taux de convergence de la méthode de Newton modifié pour la racine de la fonction : $k(x) = x^2(x^2+2)$. Commenter**"
   ]
  },
  {
   "cell_type": "code",
   "execution_count": 13,
   "metadata": {},
   "outputs": [],
   "source": [
    "def k(x):\n",
    "    return (x*x)*(x*x+2)\n",
    "\n",
    "def dk(x):\n",
    "    return 4*x*x*x + 4*x"
   ]
  },
  {
   "cell_type": "code",
   "execution_count": 14,
   "metadata": {},
   "outputs": [
    {
     "name": "stdout",
     "output_type": "stream",
     "text": [
      "Convergence de l'algorithme de Newton modifié en 3 itérations\n",
      "--> solution de k(x) = 0 obtenue pour  x = 1.2115933527723916e-13\n"
     ]
    },
    {
     "data": {
      "text/html": [
       "\n",
       "\n",
       "\n",
       "\n",
       "\n",
       "\n",
       "  <div class=\"bk-root\" id=\"1a72baef-3a81-45da-b322-437bfacd11c5\" data-root-id=\"1980\"></div>\n"
      ]
     },
     "metadata": {},
     "output_type": "display_data"
    },
    {
     "data": {
      "application/javascript": [
       "(function(root) {\n",
       "  function embed_document(root) {\n",
       "    \n",
       "  var docs_json = {\"0ec02f49-69bf-4b9c-b485-87d8c73f388d\":{\"roots\":{\"references\":[{\"attributes\":{\"children\":[{\"id\":\"1870\",\"subtype\":\"Figure\",\"type\":\"Plot\"},{\"id\":\"1925\",\"subtype\":\"Figure\",\"type\":\"Plot\"}]},\"id\":\"1980\",\"type\":\"Row\"},{\"attributes\":{\"fill_alpha\":{\"value\":0.1},\"fill_color\":{\"value\":\"#1f77b4\"},\"line_alpha\":{\"value\":0.1},\"line_color\":{\"value\":\"#1f77b4\"},\"size\":{\"units\":\"screen\",\"value\":5},\"x\":{\"field\":\"x\"},\"y\":{\"field\":\"y\"}},\"id\":\"1906\",\"type\":\"X\"},{\"attributes\":{},\"id\":\"1889\",\"type\":\"PanTool\"},{\"attributes\":{\"items\":[{\"id\":\"1979\",\"type\":\"LegendItem\"}],\"plot\":{\"id\":\"1925\",\"subtype\":\"Figure\",\"type\":\"Plot\"}},\"id\":\"1978\",\"type\":\"Legend\"},{\"attributes\":{},\"id\":\"1890\",\"type\":\"WheelZoomTool\"},{\"attributes\":{\"overlay\":{\"id\":\"1897\",\"type\":\"BoxAnnotation\"}},\"id\":\"1891\",\"type\":\"BoxZoomTool\"},{\"attributes\":{},\"id\":\"1892\",\"type\":\"SaveTool\"},{\"attributes\":{},\"id\":\"1893\",\"type\":\"ResetTool\"},{\"attributes\":{},\"id\":\"1894\",\"type\":\"HelpTool\"},{\"attributes\":{\"active_drag\":\"auto\",\"active_inspect\":\"auto\",\"active_multi\":null,\"active_scroll\":\"auto\",\"active_tap\":\"auto\",\"tools\":[{\"id\":\"1889\",\"type\":\"PanTool\"},{\"id\":\"1890\",\"type\":\"WheelZoomTool\"},{\"id\":\"1891\",\"type\":\"BoxZoomTool\"},{\"id\":\"1892\",\"type\":\"SaveTool\"},{\"id\":\"1893\",\"type\":\"ResetTool\"},{\"id\":\"1894\",\"type\":\"HelpTool\"}]},\"id\":\"1895\",\"type\":\"Toolbar\"},{\"attributes\":{\"data_source\":{\"id\":\"1904\",\"type\":\"ColumnDataSource\"},\"glyph\":{\"id\":\"1905\",\"type\":\"X\"},\"hover_glyph\":null,\"muted_glyph\":null,\"nonselection_glyph\":{\"id\":\"1906\",\"type\":\"X\"},\"selection_glyph\":null,\"view\":{\"id\":\"1908\",\"type\":\"CDSView\"}},\"id\":\"1907\",\"type\":\"GlyphRenderer\"},{\"attributes\":{\"bottom_units\":\"screen\",\"fill_alpha\":{\"value\":0.5},\"fill_color\":{\"value\":\"lightgrey\"},\"left_units\":\"screen\",\"level\":\"overlay\",\"line_alpha\":{\"value\":1.0},\"line_color\":{\"value\":\"black\"},\"line_dash\":[4,4],\"line_width\":{\"value\":2},\"plot\":null,\"render_mode\":\"css\",\"right_units\":\"screen\",\"top_units\":\"screen\"},\"id\":\"1897\",\"type\":\"BoxAnnotation\"},{\"attributes\":{\"source\":{\"id\":\"1904\",\"type\":\"ColumnDataSource\"}},\"id\":\"1908\",\"type\":\"CDSView\"},{\"attributes\":{\"below\":[{\"id\":\"1934\",\"type\":\"LogAxis\"}],\"left\":[{\"id\":\"1939\",\"type\":\"LogAxis\"}],\"plot_height\":300,\"plot_width\":490,\"renderers\":[{\"id\":\"1934\",\"type\":\"LogAxis\"},{\"id\":\"1938\",\"type\":\"Grid\"},{\"id\":\"1939\",\"type\":\"LogAxis\"},{\"id\":\"1943\",\"type\":\"Grid\"},{\"id\":\"1952\",\"type\":\"BoxAnnotation\"},{\"id\":\"1962\",\"type\":\"GlyphRenderer\"},{\"id\":\"1978\",\"type\":\"Legend\"},{\"id\":\"1967\",\"type\":\"GlyphRenderer\"}],\"title\":{\"id\":\"1969\",\"type\":\"Title\"},\"toolbar\":{\"id\":\"1950\",\"type\":\"Toolbar\"},\"x_range\":{\"id\":\"1926\",\"type\":\"DataRange1d\"},\"x_scale\":{\"id\":\"1930\",\"type\":\"LogScale\"},\"y_range\":{\"id\":\"1928\",\"type\":\"DataRange1d\"},\"y_scale\":{\"id\":\"1932\",\"type\":\"LogScale\"}},\"id\":\"1925\",\"subtype\":\"Figure\",\"type\":\"Plot\"},{\"attributes\":{\"fill_color\":{\"value\":\"red\"},\"line_color\":{\"value\":\"red\"},\"x\":{\"field\":\"x\"},\"y\":{\"field\":\"y\"}},\"id\":\"1910\",\"type\":\"X\"},{\"attributes\":{\"fill_alpha\":{\"value\":0.1},\"fill_color\":{\"value\":\"#1f77b4\"},\"line_alpha\":{\"value\":0.1},\"line_color\":{\"value\":\"#1f77b4\"},\"x\":{\"field\":\"x\"},\"y\":{\"field\":\"y\"}},\"id\":\"1911\",\"type\":\"X\"},{\"attributes\":{\"data_source\":{\"id\":\"1909\",\"type\":\"ColumnDataSource\"},\"glyph\":{\"id\":\"1910\",\"type\":\"X\"},\"hover_glyph\":null,\"muted_glyph\":null,\"nonselection_glyph\":{\"id\":\"1911\",\"type\":\"X\"},\"selection_glyph\":null,\"view\":{\"id\":\"1913\",\"type\":\"CDSView\"}},\"id\":\"1912\",\"type\":\"GlyphRenderer\"},{\"attributes\":{\"plot\":null,\"text\":\"\"},\"id\":\"1914\",\"type\":\"Title\"},{\"attributes\":{\"ticker\":null},\"id\":\"1916\",\"type\":\"LogTickFormatter\"},{\"attributes\":{},\"id\":\"1918\",\"type\":\"BasicTickFormatter\"},{\"attributes\":{},\"id\":\"1920\",\"type\":\"UnionRenderers\"},{\"attributes\":{},\"id\":\"1921\",\"type\":\"Selection\"},{\"attributes\":{\"items\":[{\"id\":\"1924\",\"type\":\"LegendItem\"}],\"plot\":{\"id\":\"1870\",\"subtype\":\"Figure\",\"type\":\"Plot\"}},\"id\":\"1923\",\"type\":\"Legend\"},{\"attributes\":{\"label\":{\"value\":\"erreur r\\u00e9siduelle\"},\"renderers\":[{\"id\":\"1912\",\"type\":\"GlyphRenderer\"}]},\"id\":\"1924\",\"type\":\"LegendItem\"},{\"attributes\":{\"source\":{\"id\":\"1909\",\"type\":\"ColumnDataSource\"}},\"id\":\"1913\",\"type\":\"CDSView\"},{\"attributes\":{\"callback\":null,\"data\":{\"x\":{\"__ndarray__\":\"AAAAAAAA4D+YmZmZmZmpPwAa4SnYVxA/\",\"dtype\":\"float64\",\"shape\":[3]},\"y\":{\"__ndarray__\":\"mJmZmZmZqT8AGuEp2FcQPwAAAKA5DUE9\",\"dtype\":\"float64\",\"shape\":[3]}},\"selected\":{\"id\":\"1976\",\"type\":\"Selection\"},\"selection_policy\":{\"id\":\"1975\",\"type\":\"UnionRenderers\"}},\"id\":\"1959\",\"type\":\"ColumnDataSource\"},{\"attributes\":{\"below\":[{\"id\":\"1879\",\"type\":\"LinearAxis\"}],\"left\":[{\"id\":\"1884\",\"type\":\"LogAxis\"}],\"plot_height\":300,\"plot_width\":490,\"renderers\":[{\"id\":\"1879\",\"type\":\"LinearAxis\"},{\"id\":\"1883\",\"type\":\"Grid\"},{\"id\":\"1884\",\"type\":\"LogAxis\"},{\"id\":\"1888\",\"type\":\"Grid\"},{\"id\":\"1897\",\"type\":\"BoxAnnotation\"},{\"id\":\"1907\",\"type\":\"GlyphRenderer\"},{\"id\":\"1923\",\"type\":\"Legend\"},{\"id\":\"1912\",\"type\":\"GlyphRenderer\"}],\"title\":{\"id\":\"1914\",\"type\":\"Title\"},\"toolbar\":{\"id\":\"1895\",\"type\":\"Toolbar\"},\"x_range\":{\"id\":\"1871\",\"type\":\"DataRange1d\"},\"x_scale\":{\"id\":\"1875\",\"type\":\"LinearScale\"},\"y_range\":{\"id\":\"1873\",\"type\":\"DataRange1d\"},\"y_scale\":{\"id\":\"1877\",\"type\":\"LogScale\"}},\"id\":\"1870\",\"subtype\":\"Figure\",\"type\":\"Plot\"},{\"attributes\":{\"callback\":null},\"id\":\"1871\",\"type\":\"DataRange1d\"},{\"attributes\":{\"callback\":null},\"id\":\"1926\",\"type\":\"DataRange1d\"},{\"attributes\":{\"callback\":null},\"id\":\"1873\",\"type\":\"DataRange1d\"},{\"attributes\":{\"callback\":null},\"id\":\"1928\",\"type\":\"DataRange1d\"},{\"attributes\":{},\"id\":\"1875\",\"type\":\"LinearScale\"},{\"attributes\":{},\"id\":\"1930\",\"type\":\"LogScale\"},{\"attributes\":{},\"id\":\"1877\",\"type\":\"LogScale\"},{\"attributes\":{},\"id\":\"1932\",\"type\":\"LogScale\"},{\"attributes\":{\"formatter\":{\"id\":\"1918\",\"type\":\"BasicTickFormatter\"},\"plot\":{\"id\":\"1870\",\"subtype\":\"Figure\",\"type\":\"Plot\"},\"ticker\":{\"id\":\"1880\",\"type\":\"BasicTicker\"}},\"id\":\"1879\",\"type\":\"LinearAxis\"},{\"attributes\":{\"formatter\":{\"id\":\"1973\",\"type\":\"LogTickFormatter\"},\"plot\":{\"id\":\"1925\",\"subtype\":\"Figure\",\"type\":\"Plot\"},\"ticker\":{\"id\":\"1935\",\"type\":\"LogTicker\"}},\"id\":\"1934\",\"type\":\"LogAxis\"},{\"attributes\":{},\"id\":\"1880\",\"type\":\"BasicTicker\"},{\"attributes\":{\"num_minor_ticks\":10},\"id\":\"1935\",\"type\":\"LogTicker\"},{\"attributes\":{\"plot\":{\"id\":\"1870\",\"subtype\":\"Figure\",\"type\":\"Plot\"},\"ticker\":{\"id\":\"1880\",\"type\":\"BasicTicker\"}},\"id\":\"1883\",\"type\":\"Grid\"},{\"attributes\":{\"plot\":{\"id\":\"1925\",\"subtype\":\"Figure\",\"type\":\"Plot\"},\"ticker\":{\"id\":\"1935\",\"type\":\"LogTicker\"}},\"id\":\"1938\",\"type\":\"Grid\"},{\"attributes\":{\"formatter\":{\"id\":\"1916\",\"type\":\"LogTickFormatter\"},\"plot\":{\"id\":\"1870\",\"subtype\":\"Figure\",\"type\":\"Plot\"},\"ticker\":{\"id\":\"1885\",\"type\":\"LogTicker\"}},\"id\":\"1884\",\"type\":\"LogAxis\"},{\"attributes\":{\"formatter\":{\"id\":\"1971\",\"type\":\"LogTickFormatter\"},\"plot\":{\"id\":\"1925\",\"subtype\":\"Figure\",\"type\":\"Plot\"},\"ticker\":{\"id\":\"1940\",\"type\":\"LogTicker\"}},\"id\":\"1939\",\"type\":\"LogAxis\"},{\"attributes\":{\"num_minor_ticks\":10},\"id\":\"1885\",\"type\":\"LogTicker\"},{\"attributes\":{\"num_minor_ticks\":10},\"id\":\"1940\",\"type\":\"LogTicker\"},{\"attributes\":{\"dimension\":1,\"plot\":{\"id\":\"1870\",\"subtype\":\"Figure\",\"type\":\"Plot\"},\"ticker\":{\"id\":\"1885\",\"type\":\"LogTicker\"}},\"id\":\"1888\",\"type\":\"Grid\"},{\"attributes\":{\"dimension\":1,\"plot\":{\"id\":\"1925\",\"subtype\":\"Figure\",\"type\":\"Plot\"},\"ticker\":{\"id\":\"1940\",\"type\":\"LogTicker\"}},\"id\":\"1943\",\"type\":\"Grid\"},{\"attributes\":{\"fill_color\":{\"value\":\"#1f77b4\"},\"line_color\":{\"value\":\"#1f77b4\"},\"size\":{\"units\":\"screen\",\"value\":5},\"x\":{\"field\":\"x\"},\"y\":{\"field\":\"y\"}},\"id\":\"1960\",\"type\":\"X\"},{\"attributes\":{\"fill_color\":{\"value\":\"#1f77b4\"},\"line_color\":{\"value\":\"#1f77b4\"},\"size\":{\"units\":\"screen\",\"value\":5},\"x\":{\"field\":\"x\"},\"y\":{\"field\":\"y\"}},\"id\":\"1905\",\"type\":\"X\"},{\"attributes\":{\"callback\":null,\"data\":{\"x\":{\"__ndarray__\":\"AAAAAAAA4D+YmZmZmZmpPwAa4SnYVxA/\",\"dtype\":\"float64\",\"shape\":[3]},\"y\":{\"__ndarray__\":\"AAAAAAAAwD/5qfHSTWIgP48bGrQ5DVE9\",\"dtype\":\"float64\",\"shape\":[3]}},\"selected\":{\"id\":\"2067\",\"type\":\"Selection\"},\"selection_policy\":{\"id\":\"2066\",\"type\":\"UnionRenderers\"}},\"id\":\"1964\",\"type\":\"ColumnDataSource\"},{\"attributes\":{\"callback\":null,\"data\":{\"x\":[0,1,2,3],\"y\":{\"__ndarray__\":\"AAAAAAAA4j+J22gAb4F0P+ZlfZ6SsUA+QIpzYiUsojo=\",\"dtype\":\"float64\",\"shape\":[4]}},\"selected\":{\"id\":\"2062\",\"type\":\"Selection\"},\"selection_policy\":{\"id\":\"2061\",\"type\":\"UnionRenderers\"}},\"id\":\"1909\",\"type\":\"ColumnDataSource\"},{\"attributes\":{\"fill_alpha\":{\"value\":0.1},\"fill_color\":{\"value\":\"#1f77b4\"},\"line_alpha\":{\"value\":0.1},\"line_color\":{\"value\":\"#1f77b4\"},\"size\":{\"units\":\"screen\",\"value\":5},\"x\":{\"field\":\"x\"},\"y\":{\"field\":\"y\"}},\"id\":\"1961\",\"type\":\"X\"},{\"attributes\":{},\"id\":\"1944\",\"type\":\"PanTool\"},{\"attributes\":{},\"id\":\"1945\",\"type\":\"WheelZoomTool\"},{\"attributes\":{\"overlay\":{\"id\":\"1952\",\"type\":\"BoxAnnotation\"}},\"id\":\"1946\",\"type\":\"BoxZoomTool\"},{\"attributes\":{},\"id\":\"1947\",\"type\":\"SaveTool\"},{\"attributes\":{},\"id\":\"1948\",\"type\":\"ResetTool\"},{\"attributes\":{},\"id\":\"1949\",\"type\":\"HelpTool\"},{\"attributes\":{\"active_drag\":\"auto\",\"active_inspect\":\"auto\",\"active_multi\":null,\"active_scroll\":\"auto\",\"active_tap\":\"auto\",\"tools\":[{\"id\":\"1944\",\"type\":\"PanTool\"},{\"id\":\"1945\",\"type\":\"WheelZoomTool\"},{\"id\":\"1946\",\"type\":\"BoxZoomTool\"},{\"id\":\"1947\",\"type\":\"SaveTool\"},{\"id\":\"1948\",\"type\":\"ResetTool\"},{\"id\":\"1949\",\"type\":\"HelpTool\"}]},\"id\":\"1950\",\"type\":\"Toolbar\"},{\"attributes\":{\"data_source\":{\"id\":\"1959\",\"type\":\"ColumnDataSource\"},\"glyph\":{\"id\":\"1960\",\"type\":\"X\"},\"hover_glyph\":null,\"muted_glyph\":null,\"nonselection_glyph\":{\"id\":\"1961\",\"type\":\"X\"},\"selection_glyph\":null,\"view\":{\"id\":\"1963\",\"type\":\"CDSView\"}},\"id\":\"1962\",\"type\":\"GlyphRenderer\"},{\"attributes\":{\"bottom_units\":\"screen\",\"fill_alpha\":{\"value\":0.5},\"fill_color\":{\"value\":\"lightgrey\"},\"left_units\":\"screen\",\"level\":\"overlay\",\"line_alpha\":{\"value\":1.0},\"line_color\":{\"value\":\"black\"},\"line_dash\":[4,4],\"line_width\":{\"value\":2},\"plot\":null,\"render_mode\":\"css\",\"right_units\":\"screen\",\"top_units\":\"screen\"},\"id\":\"1952\",\"type\":\"BoxAnnotation\"},{\"attributes\":{\"source\":{\"id\":\"1959\",\"type\":\"ColumnDataSource\"}},\"id\":\"1963\",\"type\":\"CDSView\"},{\"attributes\":{\"line_color\":\"red\",\"x\":{\"field\":\"x\"},\"y\":{\"field\":\"y\"}},\"id\":\"1965\",\"type\":\"Line\"},{\"attributes\":{\"line_alpha\":0.1,\"line_color\":\"#1f77b4\",\"x\":{\"field\":\"x\"},\"y\":{\"field\":\"y\"}},\"id\":\"1966\",\"type\":\"Line\"},{\"attributes\":{\"data_source\":{\"id\":\"1964\",\"type\":\"ColumnDataSource\"},\"glyph\":{\"id\":\"1965\",\"type\":\"Line\"},\"hover_glyph\":null,\"muted_glyph\":null,\"nonselection_glyph\":{\"id\":\"1966\",\"type\":\"Line\"},\"selection_glyph\":null,\"view\":{\"id\":\"1968\",\"type\":\"CDSView\"}},\"id\":\"1967\",\"type\":\"GlyphRenderer\"},{\"attributes\":{\"source\":{\"id\":\"1964\",\"type\":\"ColumnDataSource\"}},\"id\":\"1968\",\"type\":\"CDSView\"},{\"attributes\":{\"plot\":null,\"text\":\"\"},\"id\":\"1969\",\"type\":\"Title\"},{\"attributes\":{\"ticker\":null},\"id\":\"1971\",\"type\":\"LogTickFormatter\"},{\"attributes\":{\"ticker\":null},\"id\":\"1973\",\"type\":\"LogTickFormatter\"},{\"attributes\":{},\"id\":\"1975\",\"type\":\"UnionRenderers\"},{\"attributes\":{},\"id\":\"1976\",\"type\":\"Selection\"},{\"attributes\":{\"label\":{\"value\":\"ordre 3\"},\"renderers\":[{\"id\":\"1967\",\"type\":\"GlyphRenderer\"}]},\"id\":\"1979\",\"type\":\"LegendItem\"},{\"attributes\":{},\"id\":\"2061\",\"type\":\"UnionRenderers\"},{\"attributes\":{},\"id\":\"2062\",\"type\":\"Selection\"},{\"attributes\":{},\"id\":\"2066\",\"type\":\"UnionRenderers\"},{\"attributes\":{},\"id\":\"2067\",\"type\":\"Selection\"},{\"attributes\":{\"callback\":null,\"data\":{\"x\":[0,1,2,3],\"y\":{\"__ndarray__\":\"AAAAAAAA4D+YmZmZmZmpPwAa4SnYVxA/AAAAoDkNQT0=\",\"dtype\":\"float64\",\"shape\":[4]}},\"selected\":{\"id\":\"1921\",\"type\":\"Selection\"},\"selection_policy\":{\"id\":\"1920\",\"type\":\"UnionRenderers\"}},\"id\":\"1904\",\"type\":\"ColumnDataSource\"}],\"root_ids\":[\"1980\"]},\"title\":\"Bokeh Application\",\"version\":\"1.0.4\"}};\n",
       "  var render_items = [{\"docid\":\"0ec02f49-69bf-4b9c-b485-87d8c73f388d\",\"roots\":{\"1980\":\"1a72baef-3a81-45da-b322-437bfacd11c5\"}}];\n",
       "  root.Bokeh.embed.embed_items_notebook(docs_json, render_items);\n",
       "\n",
       "  }\n",
       "  if (root.Bokeh !== undefined) {\n",
       "    embed_document(root);\n",
       "  } else {\n",
       "    var attempts = 0;\n",
       "    var timer = setInterval(function(root) {\n",
       "      if (root.Bokeh !== undefined) {\n",
       "        embed_document(root);\n",
       "        clearInterval(timer);\n",
       "      }\n",
       "      attempts++;\n",
       "      if (attempts > 100) {\n",
       "        console.log(\"Bokeh: ERROR: Unable to run BokehJS code because BokehJS library is missing\");\n",
       "        clearInterval(timer);\n",
       "      }\n",
       "    }, 10, root)\n",
       "  }\n",
       "})(window);"
      ],
      "application/vnd.bokehjs_exec.v0+json": ""
     },
     "metadata": {
      "application/vnd.bokehjs_exec.v0+json": {
       "id": "1980"
      }
     },
     "output_type": "display_data"
    }
   ],
   "source": [
    "xstar = 0.\n",
    "xsol = my_newton_modif(k, dk,2, x0=0.5, xstar=xstar, tol=1.e-12, nitmax=100)\n",
    "print(f\"Convergence de l'algorithme de Newton modifié en {xsol.size-1} itérations\")\n",
    "print(f\"--> solution de k(x) = 0 obtenue pour  x = {xsol[-1]}\")\n",
    "\n",
    "err = np.abs(xsol - xstar)\n",
    "\n",
    "fig1 = figure(width=490, height=300, y_axis_type=\"log\")\n",
    "fig1.x(range(xsol.size), err, size=5)\n",
    "fig1.x(range(xsol.size),np.abs(k(xsol)),color='red',legend=\"erreur résiduelle\")\n",
    "\n",
    "fig2 = figure(width=490, height=300, x_axis_type=\"log\", y_axis_type=\"log\")\n",
    "fig2.x(err[:-1], err[1:], size=5)\n",
    "fig2.line(err[:-1], err[:-1]*err[:-1]*err[:-1],  color=\"red\", legend=\"ordre 3\")\n",
    "\n",
    "show(row(fig1, fig2))"
   ]
  },
  {
   "cell_type": "markdown",
   "metadata": {},
   "source": [
    "La multiplicité de la racine 0 de k est 2 (i.e. $k^{(2)}(0)$ est différent de 0). On prend alors m=2.\n",
    "De plus on obtient mathématiquement: $\\epsilon_{n+1} \\leq \\frac{\\epsilon_{n}^{3}}{2}$. La convergence sera donc au minimum cubique et les calculs numériques donnent bien un convergence d'ordre 3. Cela respecte la question 3)."
   ]
  },
  {
   "cell_type": "markdown",
   "metadata": {},
   "source": [
    "# Exercice 2 : Méthode de la sécante"
   ]
  },
  {
   "cell_type": "markdown",
   "metadata": {},
   "source": [
    "### Implémentation de la méthode"
   ]
  },
  {
   "cell_type": "code",
   "execution_count": 15,
   "metadata": {},
   "outputs": [],
   "source": [
    "def my_secante(f, x0, x1, xstar, tol=1.e-12, nitmax=50):\n",
    "   \n",
    "    # initialisation\n",
    "    x = np.zeros(nitmax+2)\n",
    "    x[0] = x0\n",
    "    x[1] = x1\n",
    "    \n",
    "    # iteration de la méthode de la sécante\n",
    "    for i in range(2, nitmax+1):\n",
    "        x[i] = x[i-1] - f(x[i-1])*(x[i-1]-x[i-2])/(f(x[i-1])-f(x[i-2]))\n",
    "        if ( abs(x[i] - xstar) < tol) : break\n",
    "\n",
    "\n",
    "    return x[0:i+2]"
   ]
  },
  {
   "cell_type": "code",
   "execution_count": 16,
   "metadata": {},
   "outputs": [
    {
     "name": "stdout",
     "output_type": "stream",
     "text": [
      "Convergence de l'algorithme de Newton en 7 itérations\n",
      "--> solution de f(x) = 0 obtenue pour  x = 0.0\n"
     ]
    },
    {
     "data": {
      "text/html": [
       "\n",
       "\n",
       "\n",
       "\n",
       "\n",
       "\n",
       "  <div class=\"bk-root\" id=\"ce7c5b75-c775-49aa-ab7d-6c19447d30c9\" data-root-id=\"2311\"></div>\n"
      ]
     },
     "metadata": {},
     "output_type": "display_data"
    },
    {
     "data": {
      "application/javascript": [
       "(function(root) {\n",
       "  function embed_document(root) {\n",
       "    \n",
       "  var docs_json = {\"6113cfcd-1074-4a20-a992-731a27d2c16a\":{\"roots\":{\"references\":[{\"attributes\":{\"children\":[{\"id\":\"2201\",\"subtype\":\"Figure\",\"type\":\"Plot\"},{\"id\":\"2256\",\"subtype\":\"Figure\",\"type\":\"Plot\"}]},\"id\":\"2311\",\"type\":\"Row\"},{\"attributes\":{\"items\":[{\"id\":\"2310\",\"type\":\"LegendItem\"}],\"plot\":{\"id\":\"2256\",\"subtype\":\"Figure\",\"type\":\"Plot\"}},\"id\":\"2309\",\"type\":\"Legend\"},{\"attributes\":{},\"id\":\"2252\",\"type\":\"Selection\"},{\"attributes\":{\"items\":[{\"id\":\"2255\",\"type\":\"LegendItem\"}],\"plot\":{\"id\":\"2201\",\"subtype\":\"Figure\",\"type\":\"Plot\"}},\"id\":\"2254\",\"type\":\"Legend\"},{\"attributes\":{\"label\":{\"value\":\"ordre (1+sqrt(5))/2\"},\"renderers\":[{\"id\":\"2298\",\"type\":\"GlyphRenderer\"}]},\"id\":\"2310\",\"type\":\"LegendItem\"},{\"attributes\":{\"label\":{\"value\":\"erreur r\\u00e9siduelle\"},\"renderers\":[{\"id\":\"2243\",\"type\":\"GlyphRenderer\"}]},\"id\":\"2255\",\"type\":\"LegendItem\"},{\"attributes\":{\"fill_color\":{\"value\":\"#1f77b4\"},\"line_color\":{\"value\":\"#1f77b4\"},\"size\":{\"units\":\"screen\",\"value\":5},\"x\":{\"field\":\"x\"},\"y\":{\"field\":\"y\"}},\"id\":\"2291\",\"type\":\"X\"},{\"attributes\":{\"callback\":null},\"id\":\"2257\",\"type\":\"DataRange1d\"},{\"attributes\":{},\"id\":\"2415\",\"type\":\"Selection\"},{\"attributes\":{\"callback\":null},\"id\":\"2259\",\"type\":\"DataRange1d\"},{\"attributes\":{},\"id\":\"2419\",\"type\":\"UnionRenderers\"},{\"attributes\":{},\"id\":\"2261\",\"type\":\"LogScale\"},{\"attributes\":{},\"id\":\"2420\",\"type\":\"Selection\"},{\"attributes\":{},\"id\":\"2263\",\"type\":\"LogScale\"},{\"attributes\":{\"formatter\":{\"id\":\"2304\",\"type\":\"LogTickFormatter\"},\"plot\":{\"id\":\"2256\",\"subtype\":\"Figure\",\"type\":\"Plot\"},\"ticker\":{\"id\":\"2266\",\"type\":\"LogTicker\"}},\"id\":\"2265\",\"type\":\"LogAxis\"},{\"attributes\":{\"bottom_units\":\"screen\",\"fill_alpha\":{\"value\":0.5},\"fill_color\":{\"value\":\"lightgrey\"},\"left_units\":\"screen\",\"level\":\"overlay\",\"line_alpha\":{\"value\":1.0},\"line_color\":{\"value\":\"black\"},\"line_dash\":[4,4],\"line_width\":{\"value\":2},\"plot\":null,\"render_mode\":\"css\",\"right_units\":\"screen\",\"top_units\":\"screen\"},\"id\":\"2228\",\"type\":\"BoxAnnotation\"},{\"attributes\":{\"num_minor_ticks\":10},\"id\":\"2266\",\"type\":\"LogTicker\"},{\"attributes\":{},\"id\":\"2414\",\"type\":\"UnionRenderers\"},{\"attributes\":{\"plot\":{\"id\":\"2256\",\"subtype\":\"Figure\",\"type\":\"Plot\"},\"ticker\":{\"id\":\"2266\",\"type\":\"LogTicker\"}},\"id\":\"2269\",\"type\":\"Grid\"},{\"attributes\":{\"fill_alpha\":{\"value\":0.1},\"fill_color\":{\"value\":\"#1f77b4\"},\"line_alpha\":{\"value\":0.1},\"line_color\":{\"value\":\"#1f77b4\"},\"size\":{\"units\":\"screen\",\"value\":5},\"x\":{\"field\":\"x\"},\"y\":{\"field\":\"y\"}},\"id\":\"2237\",\"type\":\"X\"},{\"attributes\":{\"formatter\":{\"id\":\"2302\",\"type\":\"LogTickFormatter\"},\"plot\":{\"id\":\"2256\",\"subtype\":\"Figure\",\"type\":\"Plot\"},\"ticker\":{\"id\":\"2271\",\"type\":\"LogTicker\"}},\"id\":\"2270\",\"type\":\"LogAxis\"},{\"attributes\":{\"below\":[{\"id\":\"2210\",\"type\":\"LinearAxis\"}],\"left\":[{\"id\":\"2215\",\"type\":\"LogAxis\"}],\"plot_height\":300,\"plot_width\":490,\"renderers\":[{\"id\":\"2210\",\"type\":\"LinearAxis\"},{\"id\":\"2214\",\"type\":\"Grid\"},{\"id\":\"2215\",\"type\":\"LogAxis\"},{\"id\":\"2219\",\"type\":\"Grid\"},{\"id\":\"2228\",\"type\":\"BoxAnnotation\"},{\"id\":\"2238\",\"type\":\"GlyphRenderer\"},{\"id\":\"2254\",\"type\":\"Legend\"},{\"id\":\"2243\",\"type\":\"GlyphRenderer\"}],\"title\":{\"id\":\"2245\",\"type\":\"Title\"},\"toolbar\":{\"id\":\"2226\",\"type\":\"Toolbar\"},\"x_range\":{\"id\":\"2202\",\"type\":\"DataRange1d\"},\"x_scale\":{\"id\":\"2206\",\"type\":\"LinearScale\"},\"y_range\":{\"id\":\"2204\",\"type\":\"DataRange1d\"},\"y_scale\":{\"id\":\"2208\",\"type\":\"LogScale\"}},\"id\":\"2201\",\"subtype\":\"Figure\",\"type\":\"Plot\"},{\"attributes\":{\"callback\":null},\"id\":\"2202\",\"type\":\"DataRange1d\"},{\"attributes\":{\"num_minor_ticks\":10},\"id\":\"2271\",\"type\":\"LogTicker\"},{\"attributes\":{\"callback\":null},\"id\":\"2204\",\"type\":\"DataRange1d\"},{\"attributes\":{\"dimension\":1,\"plot\":{\"id\":\"2256\",\"subtype\":\"Figure\",\"type\":\"Plot\"},\"ticker\":{\"id\":\"2271\",\"type\":\"LogTicker\"}},\"id\":\"2274\",\"type\":\"Grid\"},{\"attributes\":{},\"id\":\"2206\",\"type\":\"LinearScale\"},{\"attributes\":{\"data_source\":{\"id\":\"2290\",\"type\":\"ColumnDataSource\"},\"glyph\":{\"id\":\"2291\",\"type\":\"X\"},\"hover_glyph\":null,\"muted_glyph\":null,\"nonselection_glyph\":{\"id\":\"2292\",\"type\":\"X\"},\"selection_glyph\":null,\"view\":{\"id\":\"2294\",\"type\":\"CDSView\"}},\"id\":\"2293\",\"type\":\"GlyphRenderer\"},{\"attributes\":{\"fill_alpha\":{\"value\":0.1},\"fill_color\":{\"value\":\"#1f77b4\"},\"line_alpha\":{\"value\":0.1},\"line_color\":{\"value\":\"#1f77b4\"},\"size\":{\"units\":\"screen\",\"value\":5},\"x\":{\"field\":\"x\"},\"y\":{\"field\":\"y\"}},\"id\":\"2292\",\"type\":\"X\"},{\"attributes\":{},\"id\":\"2208\",\"type\":\"LogScale\"},{\"attributes\":{\"formatter\":{\"id\":\"2249\",\"type\":\"BasicTickFormatter\"},\"plot\":{\"id\":\"2201\",\"subtype\":\"Figure\",\"type\":\"Plot\"},\"ticker\":{\"id\":\"2211\",\"type\":\"BasicTicker\"}},\"id\":\"2210\",\"type\":\"LinearAxis\"},{\"attributes\":{},\"id\":\"2275\",\"type\":\"PanTool\"},{\"attributes\":{},\"id\":\"2211\",\"type\":\"BasicTicker\"},{\"attributes\":{},\"id\":\"2276\",\"type\":\"WheelZoomTool\"},{\"attributes\":{\"plot\":{\"id\":\"2201\",\"subtype\":\"Figure\",\"type\":\"Plot\"},\"ticker\":{\"id\":\"2211\",\"type\":\"BasicTicker\"}},\"id\":\"2214\",\"type\":\"Grid\"},{\"attributes\":{\"overlay\":{\"id\":\"2283\",\"type\":\"BoxAnnotation\"}},\"id\":\"2277\",\"type\":\"BoxZoomTool\"},{\"attributes\":{\"formatter\":{\"id\":\"2247\",\"type\":\"LogTickFormatter\"},\"plot\":{\"id\":\"2201\",\"subtype\":\"Figure\",\"type\":\"Plot\"},\"ticker\":{\"id\":\"2216\",\"type\":\"LogTicker\"}},\"id\":\"2215\",\"type\":\"LogAxis\"},{\"attributes\":{},\"id\":\"2278\",\"type\":\"SaveTool\"},{\"attributes\":{\"num_minor_ticks\":10},\"id\":\"2216\",\"type\":\"LogTicker\"},{\"attributes\":{},\"id\":\"2279\",\"type\":\"ResetTool\"},{\"attributes\":{\"dimension\":1,\"plot\":{\"id\":\"2201\",\"subtype\":\"Figure\",\"type\":\"Plot\"},\"ticker\":{\"id\":\"2216\",\"type\":\"LogTicker\"}},\"id\":\"2219\",\"type\":\"Grid\"},{\"attributes\":{},\"id\":\"2280\",\"type\":\"HelpTool\"},{\"attributes\":{\"source\":{\"id\":\"2235\",\"type\":\"ColumnDataSource\"}},\"id\":\"2239\",\"type\":\"CDSView\"},{\"attributes\":{\"active_drag\":\"auto\",\"active_inspect\":\"auto\",\"active_multi\":null,\"active_scroll\":\"auto\",\"active_tap\":\"auto\",\"tools\":[{\"id\":\"2275\",\"type\":\"PanTool\"},{\"id\":\"2276\",\"type\":\"WheelZoomTool\"},{\"id\":\"2277\",\"type\":\"BoxZoomTool\"},{\"id\":\"2278\",\"type\":\"SaveTool\"},{\"id\":\"2279\",\"type\":\"ResetTool\"},{\"id\":\"2280\",\"type\":\"HelpTool\"}]},\"id\":\"2281\",\"type\":\"Toolbar\"},{\"attributes\":{\"data_source\":{\"id\":\"2235\",\"type\":\"ColumnDataSource\"},\"glyph\":{\"id\":\"2236\",\"type\":\"X\"},\"hover_glyph\":null,\"muted_glyph\":null,\"nonselection_glyph\":{\"id\":\"2237\",\"type\":\"X\"},\"selection_glyph\":null,\"view\":{\"id\":\"2239\",\"type\":\"CDSView\"}},\"id\":\"2238\",\"type\":\"GlyphRenderer\"},{\"attributes\":{\"source\":{\"id\":\"2290\",\"type\":\"ColumnDataSource\"}},\"id\":\"2294\",\"type\":\"CDSView\"},{\"attributes\":{\"below\":[{\"id\":\"2265\",\"type\":\"LogAxis\"}],\"left\":[{\"id\":\"2270\",\"type\":\"LogAxis\"}],\"plot_height\":300,\"plot_width\":490,\"renderers\":[{\"id\":\"2265\",\"type\":\"LogAxis\"},{\"id\":\"2269\",\"type\":\"Grid\"},{\"id\":\"2270\",\"type\":\"LogAxis\"},{\"id\":\"2274\",\"type\":\"Grid\"},{\"id\":\"2283\",\"type\":\"BoxAnnotation\"},{\"id\":\"2293\",\"type\":\"GlyphRenderer\"},{\"id\":\"2309\",\"type\":\"Legend\"},{\"id\":\"2298\",\"type\":\"GlyphRenderer\"}],\"title\":{\"id\":\"2300\",\"type\":\"Title\"},\"toolbar\":{\"id\":\"2281\",\"type\":\"Toolbar\"},\"x_range\":{\"id\":\"2257\",\"type\":\"DataRange1d\"},\"x_scale\":{\"id\":\"2261\",\"type\":\"LogScale\"},\"y_range\":{\"id\":\"2259\",\"type\":\"DataRange1d\"},\"y_scale\":{\"id\":\"2263\",\"type\":\"LogScale\"}},\"id\":\"2256\",\"subtype\":\"Figure\",\"type\":\"Plot\"},{\"attributes\":{\"bottom_units\":\"screen\",\"fill_alpha\":{\"value\":0.5},\"fill_color\":{\"value\":\"lightgrey\"},\"left_units\":\"screen\",\"level\":\"overlay\",\"line_alpha\":{\"value\":1.0},\"line_color\":{\"value\":\"black\"},\"line_dash\":[4,4],\"line_width\":{\"value\":2},\"plot\":null,\"render_mode\":\"css\",\"right_units\":\"screen\",\"top_units\":\"screen\"},\"id\":\"2283\",\"type\":\"BoxAnnotation\"},{\"attributes\":{},\"id\":\"2220\",\"type\":\"PanTool\"},{\"attributes\":{},\"id\":\"2221\",\"type\":\"WheelZoomTool\"},{\"attributes\":{\"line_color\":\"red\",\"x\":{\"field\":\"x\"},\"y\":{\"field\":\"y\"}},\"id\":\"2296\",\"type\":\"Line\"},{\"attributes\":{\"callback\":null,\"data\":{\"x\":{\"__ndarray__\":\"EacnMbmP3z9Y/frUtFq7P+BhCSWAlZw/AFp5ClobWD8AALH2kqP1PgAAAHAvTlA+AAAAAAAMRj0=\",\"dtype\":\"float64\",\"shape\":[7]},\"y\":{\"__ndarray__\":\"3TrrR7Nj1D81XMWlD3ibP1L83UnkCmk/ocRkAGpo+z7qn8SOHCxcPgw5x9qvdE89CJ6ZDHUJojs=\",\"dtype\":\"float64\",\"shape\":[7]}},\"selected\":{\"id\":\"2420\",\"type\":\"Selection\"},\"selection_policy\":{\"id\":\"2419\",\"type\":\"UnionRenderers\"}},\"id\":\"2295\",\"type\":\"ColumnDataSource\"},{\"attributes\":{\"fill_color\":{\"value\":\"red\"},\"line_color\":{\"value\":\"red\"},\"x\":{\"field\":\"x\"},\"y\":{\"field\":\"y\"}},\"id\":\"2241\",\"type\":\"X\"},{\"attributes\":{\"line_alpha\":0.1,\"line_color\":\"#1f77b4\",\"x\":{\"field\":\"x\"},\"y\":{\"field\":\"y\"}},\"id\":\"2297\",\"type\":\"Line\"},{\"attributes\":{\"data_source\":{\"id\":\"2295\",\"type\":\"ColumnDataSource\"},\"glyph\":{\"id\":\"2296\",\"type\":\"Line\"},\"hover_glyph\":null,\"muted_glyph\":null,\"nonselection_glyph\":{\"id\":\"2297\",\"type\":\"Line\"},\"selection_glyph\":null,\"view\":{\"id\":\"2299\",\"type\":\"CDSView\"}},\"id\":\"2298\",\"type\":\"GlyphRenderer\"},{\"attributes\":{\"fill_alpha\":{\"value\":0.1},\"fill_color\":{\"value\":\"#1f77b4\"},\"line_alpha\":{\"value\":0.1},\"line_color\":{\"value\":\"#1f77b4\"},\"x\":{\"field\":\"x\"},\"y\":{\"field\":\"y\"}},\"id\":\"2242\",\"type\":\"X\"},{\"attributes\":{\"data_source\":{\"id\":\"2240\",\"type\":\"ColumnDataSource\"},\"glyph\":{\"id\":\"2241\",\"type\":\"X\"},\"hover_glyph\":null,\"muted_glyph\":null,\"nonselection_glyph\":{\"id\":\"2242\",\"type\":\"X\"},\"selection_glyph\":null,\"view\":{\"id\":\"2244\",\"type\":\"CDSView\"}},\"id\":\"2243\",\"type\":\"GlyphRenderer\"},{\"attributes\":{\"source\":{\"id\":\"2295\",\"type\":\"ColumnDataSource\"}},\"id\":\"2299\",\"type\":\"CDSView\"},{\"attributes\":{\"plot\":null,\"text\":\"\"},\"id\":\"2300\",\"type\":\"Title\"},{\"attributes\":{\"source\":{\"id\":\"2240\",\"type\":\"ColumnDataSource\"}},\"id\":\"2244\",\"type\":\"CDSView\"},{\"attributes\":{\"plot\":null,\"text\":\"\"},\"id\":\"2245\",\"type\":\"Title\"},{\"attributes\":{\"ticker\":null},\"id\":\"2302\",\"type\":\"LogTickFormatter\"},{\"attributes\":{\"ticker\":null},\"id\":\"2247\",\"type\":\"LogTickFormatter\"},{\"attributes\":{\"ticker\":null},\"id\":\"2304\",\"type\":\"LogTickFormatter\"},{\"attributes\":{},\"id\":\"2249\",\"type\":\"BasicTickFormatter\"},{\"attributes\":{},\"id\":\"2306\",\"type\":\"UnionRenderers\"},{\"attributes\":{},\"id\":\"2307\",\"type\":\"Selection\"},{\"attributes\":{},\"id\":\"2251\",\"type\":\"UnionRenderers\"},{\"attributes\":{\"active_drag\":\"auto\",\"active_inspect\":\"auto\",\"active_multi\":null,\"active_scroll\":\"auto\",\"active_tap\":\"auto\",\"tools\":[{\"id\":\"2220\",\"type\":\"PanTool\"},{\"id\":\"2221\",\"type\":\"WheelZoomTool\"},{\"id\":\"2222\",\"type\":\"BoxZoomTool\"},{\"id\":\"2223\",\"type\":\"SaveTool\"},{\"id\":\"2224\",\"type\":\"ResetTool\"},{\"id\":\"2225\",\"type\":\"HelpTool\"}]},\"id\":\"2226\",\"type\":\"Toolbar\"},{\"attributes\":{\"overlay\":{\"id\":\"2228\",\"type\":\"BoxAnnotation\"}},\"id\":\"2222\",\"type\":\"BoxZoomTool\"},{\"attributes\":{\"callback\":null,\"data\":{\"x\":[0,1,2,3,4,5,6,7],\"y\":{\"__ndarray__\":\"EacnMbmP3z9Y/frUtFq7P+BhCSWAlZw/AFp5ClobWD8AALH2kqP1PgAAAHAvTlA+AAAAAAAMRj3vOfr+Qi7mPw==\",\"dtype\":\"float64\",\"shape\":[8]}},\"selected\":{\"id\":\"2252\",\"type\":\"Selection\"},\"selection_policy\":{\"id\":\"2251\",\"type\":\"UnionRenderers\"}},\"id\":\"2235\",\"type\":\"ColumnDataSource\"},{\"attributes\":{\"callback\":null,\"data\":{\"x\":[0,1,2,3,4,5,6,7],\"y\":{\"__ndarray__\":\"5qZOw0Tq6D+QbuRvht7MP+CLYVBQMKw/APq9VNAWaD8AAK2YoaMFPwAAAG4vTmA+AAAAAAAMVj0AAAAAAADwPw==\",\"dtype\":\"float64\",\"shape\":[8]}},\"selected\":{\"id\":\"2415\",\"type\":\"Selection\"},\"selection_policy\":{\"id\":\"2414\",\"type\":\"UnionRenderers\"}},\"id\":\"2240\",\"type\":\"ColumnDataSource\"},{\"attributes\":{},\"id\":\"2224\",\"type\":\"ResetTool\"},{\"attributes\":{},\"id\":\"2225\",\"type\":\"HelpTool\"},{\"attributes\":{},\"id\":\"2223\",\"type\":\"SaveTool\"},{\"attributes\":{\"fill_color\":{\"value\":\"#1f77b4\"},\"line_color\":{\"value\":\"#1f77b4\"},\"size\":{\"units\":\"screen\",\"value\":5},\"x\":{\"field\":\"x\"},\"y\":{\"field\":\"y\"}},\"id\":\"2236\",\"type\":\"X\"},{\"attributes\":{\"callback\":null,\"data\":{\"x\":{\"__ndarray__\":\"EacnMbmP3z9Y/frUtFq7P+BhCSWAlZw/AFp5ClobWD8AALH2kqP1PgAAAHAvTlA+AAAAAAAMRj0=\",\"dtype\":\"float64\",\"shape\":[7]},\"y\":{\"__ndarray__\":\"WP361LRauz/gYQklgJWcPwBaeQpaG1g/AACx9pKj9T4AAABwL05QPgAAAAAADEY97zn6/kIu5j8=\",\"dtype\":\"float64\",\"shape\":[7]}},\"selected\":{\"id\":\"2307\",\"type\":\"Selection\"},\"selection_policy\":{\"id\":\"2306\",\"type\":\"UnionRenderers\"}},\"id\":\"2290\",\"type\":\"ColumnDataSource\"}],\"root_ids\":[\"2311\"]},\"title\":\"Bokeh Application\",\"version\":\"1.0.4\"}};\n",
       "  var render_items = [{\"docid\":\"6113cfcd-1074-4a20-a992-731a27d2c16a\",\"roots\":{\"2311\":\"ce7c5b75-c775-49aa-ab7d-6c19447d30c9\"}}];\n",
       "  root.Bokeh.embed.embed_items_notebook(docs_json, render_items);\n",
       "\n",
       "  }\n",
       "  if (root.Bokeh !== undefined) {\n",
       "    embed_document(root);\n",
       "  } else {\n",
       "    var attempts = 0;\n",
       "    var timer = setInterval(function(root) {\n",
       "      if (root.Bokeh !== undefined) {\n",
       "        embed_document(root);\n",
       "        clearInterval(timer);\n",
       "      }\n",
       "      attempts++;\n",
       "      if (attempts > 100) {\n",
       "        console.log(\"Bokeh: ERROR: Unable to run BokehJS code because BokehJS library is missing\");\n",
       "        clearInterval(timer);\n",
       "      }\n",
       "    }, 10, root)\n",
       "  }\n",
       "})(window);"
      ],
      "application/vnd.bokehjs_exec.v0+json": ""
     },
     "metadata": {
      "application/vnd.bokehjs_exec.v0+json": {
       "id": "2311"
      }
     },
     "output_type": "display_data"
    }
   ],
   "source": [
    "xstar = np.log(2)\n",
    "xsol = my_secante(f,x0=0.2, x1=0.8, xstar=xstar, tol=1.e-12, nitmax=100)\n",
    "print(f\"Convergence de l'algorithme de Newton en {xsol.size-1} itérations\")\n",
    "print(f\"--> solution de f(x) = 0 obtenue pour  x = {xsol[-1]}\")\n",
    "\n",
    "err = np.abs(xsol - xstar)\n",
    "\n",
    "fig1 = figure(width=490, height=300, y_axis_type=\"log\")\n",
    "fig1.x(range(xsol.size), err, size=5)\n",
    "fig1.x(range(xsol.size),np.abs(f(xsol)),color='red',legend=\"erreur résiduelle\")\n",
    "\n",
    "fig2 = figure(width=490, height=300, x_axis_type=\"log\", y_axis_type=\"log\")\n",
    "fig2.x(err[:-1], err[1:], size=5)\n",
    "rho=0.5*(1+np.sqrt(5))\n",
    "fig2.line(err[:-1], err[:-1]**rho,  color=\"red\", legend=\"ordre (1+sqrt(5))/2\")\n",
    "\n",
    "show(row(fig1, fig2))"
   ]
  },
  {
   "cell_type": "markdown",
   "metadata": {},
   "source": [
    "La fonction f vérifie les conditions d'application ($C^{2}$, $x_{*}$ non dégénéré et on commence sur un intervalle adéquat) de la méthode de la sécante, nous obtenons donc sans surprise une convergence superlinéaire en $\\rho$."
   ]
  },
  {
   "cell_type": "code",
   "execution_count": 17,
   "metadata": {},
   "outputs": [
    {
     "name": "stdout",
     "output_type": "stream",
     "text": [
      "Convergence de l'algorithme de la sécante en 6 itérations\n",
      "--> solution de g(x) = 0 obtenue pour  x = 0.0\n"
     ]
    },
    {
     "data": {
      "text/html": [
       "\n",
       "\n",
       "\n",
       "\n",
       "\n",
       "\n",
       "  <div class=\"bk-root\" id=\"18a06825-5572-409d-956b-9db6a2aa9eb8\" data-root-id=\"2664\"></div>\n"
      ]
     },
     "metadata": {},
     "output_type": "display_data"
    },
    {
     "data": {
      "application/javascript": [
       "(function(root) {\n",
       "  function embed_document(root) {\n",
       "    \n",
       "  var docs_json = {\"d9da1ec9-a5ec-43f5-9271-ebbacbfd2fda\":{\"roots\":{\"references\":[{\"attributes\":{\"children\":[{\"id\":\"2554\",\"subtype\":\"Figure\",\"type\":\"Plot\"},{\"id\":\"2609\",\"subtype\":\"Figure\",\"type\":\"Plot\"}]},\"id\":\"2664\",\"type\":\"Row\"},{\"attributes\":{\"formatter\":{\"id\":\"2602\",\"type\":\"BasicTickFormatter\"},\"plot\":{\"id\":\"2554\",\"subtype\":\"Figure\",\"type\":\"Plot\"},\"ticker\":{\"id\":\"2564\",\"type\":\"BasicTicker\"}},\"id\":\"2563\",\"type\":\"LinearAxis\"},{\"attributes\":{},\"id\":\"2561\",\"type\":\"LogScale\"},{\"attributes\":{},\"id\":\"2559\",\"type\":\"LinearScale\"},{\"attributes\":{\"active_drag\":\"auto\",\"active_inspect\":\"auto\",\"active_multi\":null,\"active_scroll\":\"auto\",\"active_tap\":\"auto\",\"tools\":[{\"id\":\"2573\",\"type\":\"PanTool\"},{\"id\":\"2574\",\"type\":\"WheelZoomTool\"},{\"id\":\"2575\",\"type\":\"BoxZoomTool\"},{\"id\":\"2576\",\"type\":\"SaveTool\"},{\"id\":\"2577\",\"type\":\"ResetTool\"},{\"id\":\"2578\",\"type\":\"HelpTool\"}]},\"id\":\"2579\",\"type\":\"Toolbar\"},{\"attributes\":{},\"id\":\"2578\",\"type\":\"HelpTool\"},{\"attributes\":{\"callback\":null},\"id\":\"2557\",\"type\":\"DataRange1d\"},{\"attributes\":{\"callback\":null,\"data\":{\"x\":[0,1,2,3,4,5,6],\"y\":{\"__ndarray__\":\"mpmZmZmZ2T+amZmZmZm5PyCekWmcKHc/ABWu/q7j+z4AAG9TnBP9PQAAAID8FQY8AAAAAAAAAAA=\",\"dtype\":\"float64\",\"shape\":[7]}},\"selected\":{\"id\":\"2605\",\"type\":\"Selection\"},\"selection_policy\":{\"id\":\"2604\",\"type\":\"UnionRenderers\"}},\"id\":\"2588\",\"type\":\"ColumnDataSource\"},{\"attributes\":{\"callback\":null},\"id\":\"2555\",\"type\":\"DataRange1d\"},{\"attributes\":{\"data_source\":{\"id\":\"2588\",\"type\":\"ColumnDataSource\"},\"glyph\":{\"id\":\"2589\",\"type\":\"X\"},\"hover_glyph\":null,\"muted_glyph\":null,\"nonselection_glyph\":{\"id\":\"2590\",\"type\":\"X\"},\"selection_glyph\":null,\"view\":{\"id\":\"2592\",\"type\":\"CDSView\"}},\"id\":\"2591\",\"type\":\"GlyphRenderer\"},{\"attributes\":{\"dimension\":1,\"plot\":{\"id\":\"2554\",\"subtype\":\"Figure\",\"type\":\"Plot\"},\"ticker\":{\"id\":\"2569\",\"type\":\"LogTicker\"}},\"id\":\"2572\",\"type\":\"Grid\"},{\"attributes\":{\"callback\":null,\"data\":{\"x\":[0,1,2,3,4,5,6],\"y\":{\"__ndarray__\":\"h7s+Zt3E1z9ViwZjE3m5P4UkeCeEKHc/kbaD/q7j+z4AAG9TnBP9PQAAAID8FQY8AAAAAAAAAAA=\",\"dtype\":\"float64\",\"shape\":[7]}},\"selected\":{\"id\":\"2790\",\"type\":\"Selection\"},\"selection_policy\":{\"id\":\"2789\",\"type\":\"UnionRenderers\"}},\"id\":\"2593\",\"type\":\"ColumnDataSource\"},{\"attributes\":{},\"id\":\"2577\",\"type\":\"ResetTool\"},{\"attributes\":{\"fill_color\":{\"value\":\"#1f77b4\"},\"line_color\":{\"value\":\"#1f77b4\"},\"size\":{\"units\":\"screen\",\"value\":5},\"x\":{\"field\":\"x\"},\"y\":{\"field\":\"y\"}},\"id\":\"2589\",\"type\":\"X\"},{\"attributes\":{\"fill_alpha\":{\"value\":0.1},\"fill_color\":{\"value\":\"#1f77b4\"},\"line_alpha\":{\"value\":0.1},\"line_color\":{\"value\":\"#1f77b4\"},\"size\":{\"units\":\"screen\",\"value\":5},\"x\":{\"field\":\"x\"},\"y\":{\"field\":\"y\"}},\"id\":\"2590\",\"type\":\"X\"},{\"attributes\":{},\"id\":\"2659\",\"type\":\"UnionRenderers\"},{\"attributes\":{\"plot\":{\"id\":\"2554\",\"subtype\":\"Figure\",\"type\":\"Plot\"},\"ticker\":{\"id\":\"2564\",\"type\":\"BasicTicker\"}},\"id\":\"2567\",\"type\":\"Grid\"},{\"attributes\":{},\"id\":\"2564\",\"type\":\"BasicTicker\"},{\"attributes\":{\"formatter\":{\"id\":\"2600\",\"type\":\"LogTickFormatter\"},\"plot\":{\"id\":\"2554\",\"subtype\":\"Figure\",\"type\":\"Plot\"},\"ticker\":{\"id\":\"2569\",\"type\":\"LogTicker\"}},\"id\":\"2568\",\"type\":\"LogAxis\"},{\"attributes\":{\"num_minor_ticks\":10},\"id\":\"2569\",\"type\":\"LogTicker\"},{\"attributes\":{},\"id\":\"2573\",\"type\":\"PanTool\"},{\"attributes\":{},\"id\":\"2632\",\"type\":\"ResetTool\"},{\"attributes\":{},\"id\":\"2574\",\"type\":\"WheelZoomTool\"},{\"attributes\":{},\"id\":\"2633\",\"type\":\"HelpTool\"},{\"attributes\":{\"overlay\":{\"id\":\"2581\",\"type\":\"BoxAnnotation\"}},\"id\":\"2575\",\"type\":\"BoxZoomTool\"},{\"attributes\":{\"active_drag\":\"auto\",\"active_inspect\":\"auto\",\"active_multi\":null,\"active_scroll\":\"auto\",\"active_tap\":\"auto\",\"tools\":[{\"id\":\"2628\",\"type\":\"PanTool\"},{\"id\":\"2629\",\"type\":\"WheelZoomTool\"},{\"id\":\"2630\",\"type\":\"BoxZoomTool\"},{\"id\":\"2631\",\"type\":\"SaveTool\"},{\"id\":\"2632\",\"type\":\"ResetTool\"},{\"id\":\"2633\",\"type\":\"HelpTool\"}]},\"id\":\"2634\",\"type\":\"Toolbar\"},{\"attributes\":{},\"id\":\"2576\",\"type\":\"SaveTool\"},{\"attributes\":{\"bottom_units\":\"screen\",\"fill_alpha\":{\"value\":0.5},\"fill_color\":{\"value\":\"lightgrey\"},\"left_units\":\"screen\",\"level\":\"overlay\",\"line_alpha\":{\"value\":1.0},\"line_color\":{\"value\":\"black\"},\"line_dash\":[4,4],\"line_width\":{\"value\":2},\"plot\":null,\"render_mode\":\"css\",\"right_units\":\"screen\",\"top_units\":\"screen\"},\"id\":\"2581\",\"type\":\"BoxAnnotation\"},{\"attributes\":{\"bottom_units\":\"screen\",\"fill_alpha\":{\"value\":0.5},\"fill_color\":{\"value\":\"lightgrey\"},\"left_units\":\"screen\",\"level\":\"overlay\",\"line_alpha\":{\"value\":1.0},\"line_color\":{\"value\":\"black\"},\"line_dash\":[4,4],\"line_width\":{\"value\":2},\"plot\":null,\"render_mode\":\"css\",\"right_units\":\"screen\",\"top_units\":\"screen\"},\"id\":\"2636\",\"type\":\"BoxAnnotation\"},{\"attributes\":{\"source\":{\"id\":\"2588\",\"type\":\"ColumnDataSource\"}},\"id\":\"2592\",\"type\":\"CDSView\"},{\"attributes\":{\"source\":{\"id\":\"2643\",\"type\":\"ColumnDataSource\"}},\"id\":\"2647\",\"type\":\"CDSView\"},{\"attributes\":{\"below\":[{\"id\":\"2618\",\"type\":\"LogAxis\"}],\"left\":[{\"id\":\"2623\",\"type\":\"LogAxis\"}],\"plot_height\":300,\"plot_width\":490,\"renderers\":[{\"id\":\"2618\",\"type\":\"LogAxis\"},{\"id\":\"2622\",\"type\":\"Grid\"},{\"id\":\"2623\",\"type\":\"LogAxis\"},{\"id\":\"2627\",\"type\":\"Grid\"},{\"id\":\"2636\",\"type\":\"BoxAnnotation\"},{\"id\":\"2646\",\"type\":\"GlyphRenderer\"},{\"id\":\"2662\",\"type\":\"Legend\"},{\"id\":\"2651\",\"type\":\"GlyphRenderer\"}],\"title\":{\"id\":\"2653\",\"type\":\"Title\"},\"toolbar\":{\"id\":\"2634\",\"type\":\"Toolbar\"},\"x_range\":{\"id\":\"2610\",\"type\":\"DataRange1d\"},\"x_scale\":{\"id\":\"2614\",\"type\":\"LogScale\"},\"y_range\":{\"id\":\"2612\",\"type\":\"DataRange1d\"},\"y_scale\":{\"id\":\"2616\",\"type\":\"LogScale\"}},\"id\":\"2609\",\"subtype\":\"Figure\",\"type\":\"Plot\"},{\"attributes\":{\"line_color\":\"red\",\"x\":{\"field\":\"x\"},\"y\":{\"field\":\"y\"}},\"id\":\"2649\",\"type\":\"Line\"},{\"attributes\":{\"fill_color\":{\"value\":\"red\"},\"line_color\":{\"value\":\"red\"},\"x\":{\"field\":\"x\"},\"y\":{\"field\":\"y\"}},\"id\":\"2594\",\"type\":\"X\"},{\"attributes\":{\"callback\":null,\"data\":{\"x\":{\"__ndarray__\":\"mpmZmZmZ2T+amZmZmZm5PyCekWmcKHc/ABWu/q7j+z4AAG9TnBP9PQAAAID8FQY8\",\"dtype\":\"float64\",\"shape\":[6]},\"y\":{\"__ndarray__\":\"fBSuR+F6xD98FK5H4XqEPwHGxWGUwgA/ygJATItOCD4k8tdbl2sKPADEYJaUfB44\",\"dtype\":\"float64\",\"shape\":[6]}},\"selected\":{\"id\":\"2795\",\"type\":\"Selection\"},\"selection_policy\":{\"id\":\"2794\",\"type\":\"UnionRenderers\"}},\"id\":\"2648\",\"type\":\"ColumnDataSource\"},{\"attributes\":{\"fill_alpha\":{\"value\":0.1},\"fill_color\":{\"value\":\"#1f77b4\"},\"line_alpha\":{\"value\":0.1},\"line_color\":{\"value\":\"#1f77b4\"},\"x\":{\"field\":\"x\"},\"y\":{\"field\":\"y\"}},\"id\":\"2595\",\"type\":\"X\"},{\"attributes\":{\"line_alpha\":0.1,\"line_color\":\"#1f77b4\",\"x\":{\"field\":\"x\"},\"y\":{\"field\":\"y\"}},\"id\":\"2650\",\"type\":\"Line\"},{\"attributes\":{\"data_source\":{\"id\":\"2593\",\"type\":\"ColumnDataSource\"},\"glyph\":{\"id\":\"2594\",\"type\":\"X\"},\"hover_glyph\":null,\"muted_glyph\":null,\"nonselection_glyph\":{\"id\":\"2595\",\"type\":\"X\"},\"selection_glyph\":null,\"view\":{\"id\":\"2597\",\"type\":\"CDSView\"}},\"id\":\"2596\",\"type\":\"GlyphRenderer\"},{\"attributes\":{\"data_source\":{\"id\":\"2648\",\"type\":\"ColumnDataSource\"},\"glyph\":{\"id\":\"2649\",\"type\":\"Line\"},\"hover_glyph\":null,\"muted_glyph\":null,\"nonselection_glyph\":{\"id\":\"2650\",\"type\":\"Line\"},\"selection_glyph\":null,\"view\":{\"id\":\"2652\",\"type\":\"CDSView\"}},\"id\":\"2651\",\"type\":\"GlyphRenderer\"},{\"attributes\":{\"source\":{\"id\":\"2593\",\"type\":\"ColumnDataSource\"}},\"id\":\"2597\",\"type\":\"CDSView\"},{\"attributes\":{\"source\":{\"id\":\"2648\",\"type\":\"ColumnDataSource\"}},\"id\":\"2652\",\"type\":\"CDSView\"},{\"attributes\":{\"plot\":null,\"text\":\"\"},\"id\":\"2598\",\"type\":\"Title\"},{\"attributes\":{\"plot\":null,\"text\":\"\"},\"id\":\"2653\",\"type\":\"Title\"},{\"attributes\":{\"ticker\":null},\"id\":\"2600\",\"type\":\"LogTickFormatter\"},{\"attributes\":{\"ticker\":null},\"id\":\"2655\",\"type\":\"LogTickFormatter\"},{\"attributes\":{},\"id\":\"2602\",\"type\":\"BasicTickFormatter\"},{\"attributes\":{\"ticker\":null},\"id\":\"2657\",\"type\":\"LogTickFormatter\"},{\"attributes\":{},\"id\":\"2604\",\"type\":\"UnionRenderers\"},{\"attributes\":{},\"id\":\"2660\",\"type\":\"Selection\"},{\"attributes\":{},\"id\":\"2605\",\"type\":\"Selection\"},{\"attributes\":{\"items\":[{\"id\":\"2663\",\"type\":\"LegendItem\"}],\"plot\":{\"id\":\"2609\",\"subtype\":\"Figure\",\"type\":\"Plot\"}},\"id\":\"2662\",\"type\":\"Legend\"},{\"attributes\":{\"items\":[{\"id\":\"2608\",\"type\":\"LegendItem\"}],\"plot\":{\"id\":\"2554\",\"subtype\":\"Figure\",\"type\":\"Plot\"}},\"id\":\"2607\",\"type\":\"Legend\"},{\"attributes\":{\"label\":{\"value\":\"2\"},\"renderers\":[{\"id\":\"2651\",\"type\":\"GlyphRenderer\"}]},\"id\":\"2663\",\"type\":\"LegendItem\"},{\"attributes\":{\"label\":{\"value\":\"erreur r\\u00e9siduelle\"},\"renderers\":[{\"id\":\"2596\",\"type\":\"GlyphRenderer\"}]},\"id\":\"2608\",\"type\":\"LegendItem\"},{\"attributes\":{\"callback\":null,\"data\":{\"x\":{\"__ndarray__\":\"mpmZmZmZ2T+amZmZmZm5PyCekWmcKHc/ABWu/q7j+z4AAG9TnBP9PQAAAID8FQY8\",\"dtype\":\"float64\",\"shape\":[6]},\"y\":{\"__ndarray__\":\"mpmZmZmZuT8gnpFpnCh3PwAVrv6u4/s+AABvU5wT/T0AAACA/BUGPAAAAAAAAAAA\",\"dtype\":\"float64\",\"shape\":[6]}},\"selected\":{\"id\":\"2660\",\"type\":\"Selection\"},\"selection_policy\":{\"id\":\"2659\",\"type\":\"UnionRenderers\"}},\"id\":\"2643\",\"type\":\"ColumnDataSource\"},{\"attributes\":{\"callback\":null},\"id\":\"2610\",\"type\":\"DataRange1d\"},{\"attributes\":{},\"id\":\"2790\",\"type\":\"Selection\"},{\"attributes\":{},\"id\":\"2794\",\"type\":\"UnionRenderers\"},{\"attributes\":{\"callback\":null},\"id\":\"2612\",\"type\":\"DataRange1d\"},{\"attributes\":{},\"id\":\"2795\",\"type\":\"Selection\"},{\"attributes\":{},\"id\":\"2614\",\"type\":\"LogScale\"},{\"attributes\":{},\"id\":\"2616\",\"type\":\"LogScale\"},{\"attributes\":{\"formatter\":{\"id\":\"2657\",\"type\":\"LogTickFormatter\"},\"plot\":{\"id\":\"2609\",\"subtype\":\"Figure\",\"type\":\"Plot\"},\"ticker\":{\"id\":\"2619\",\"type\":\"LogTicker\"}},\"id\":\"2618\",\"type\":\"LogAxis\"},{\"attributes\":{\"num_minor_ticks\":10},\"id\":\"2619\",\"type\":\"LogTicker\"},{\"attributes\":{\"plot\":{\"id\":\"2609\",\"subtype\":\"Figure\",\"type\":\"Plot\"},\"ticker\":{\"id\":\"2619\",\"type\":\"LogTicker\"}},\"id\":\"2622\",\"type\":\"Grid\"},{\"attributes\":{\"formatter\":{\"id\":\"2655\",\"type\":\"LogTickFormatter\"},\"plot\":{\"id\":\"2609\",\"subtype\":\"Figure\",\"type\":\"Plot\"},\"ticker\":{\"id\":\"2624\",\"type\":\"LogTicker\"}},\"id\":\"2623\",\"type\":\"LogAxis\"},{\"attributes\":{\"num_minor_ticks\":10},\"id\":\"2624\",\"type\":\"LogTicker\"},{\"attributes\":{\"dimension\":1,\"plot\":{\"id\":\"2609\",\"subtype\":\"Figure\",\"type\":\"Plot\"},\"ticker\":{\"id\":\"2624\",\"type\":\"LogTicker\"}},\"id\":\"2627\",\"type\":\"Grid\"},{\"attributes\":{\"fill_alpha\":{\"value\":0.1},\"fill_color\":{\"value\":\"#1f77b4\"},\"line_alpha\":{\"value\":0.1},\"line_color\":{\"value\":\"#1f77b4\"},\"size\":{\"units\":\"screen\",\"value\":5},\"x\":{\"field\":\"x\"},\"y\":{\"field\":\"y\"}},\"id\":\"2645\",\"type\":\"X\"},{\"attributes\":{\"fill_color\":{\"value\":\"#1f77b4\"},\"line_color\":{\"value\":\"#1f77b4\"},\"size\":{\"units\":\"screen\",\"value\":5},\"x\":{\"field\":\"x\"},\"y\":{\"field\":\"y\"}},\"id\":\"2644\",\"type\":\"X\"},{\"attributes\":{\"below\":[{\"id\":\"2563\",\"type\":\"LinearAxis\"}],\"left\":[{\"id\":\"2568\",\"type\":\"LogAxis\"}],\"plot_height\":300,\"plot_width\":490,\"renderers\":[{\"id\":\"2563\",\"type\":\"LinearAxis\"},{\"id\":\"2567\",\"type\":\"Grid\"},{\"id\":\"2568\",\"type\":\"LogAxis\"},{\"id\":\"2572\",\"type\":\"Grid\"},{\"id\":\"2581\",\"type\":\"BoxAnnotation\"},{\"id\":\"2591\",\"type\":\"GlyphRenderer\"},{\"id\":\"2607\",\"type\":\"Legend\"},{\"id\":\"2596\",\"type\":\"GlyphRenderer\"}],\"title\":{\"id\":\"2598\",\"type\":\"Title\"},\"toolbar\":{\"id\":\"2579\",\"type\":\"Toolbar\"},\"x_range\":{\"id\":\"2555\",\"type\":\"DataRange1d\"},\"x_scale\":{\"id\":\"2559\",\"type\":\"LinearScale\"},\"y_range\":{\"id\":\"2557\",\"type\":\"DataRange1d\"},\"y_scale\":{\"id\":\"2561\",\"type\":\"LogScale\"}},\"id\":\"2554\",\"subtype\":\"Figure\",\"type\":\"Plot\"},{\"attributes\":{\"data_source\":{\"id\":\"2643\",\"type\":\"ColumnDataSource\"},\"glyph\":{\"id\":\"2644\",\"type\":\"X\"},\"hover_glyph\":null,\"muted_glyph\":null,\"nonselection_glyph\":{\"id\":\"2645\",\"type\":\"X\"},\"selection_glyph\":null,\"view\":{\"id\":\"2647\",\"type\":\"CDSView\"}},\"id\":\"2646\",\"type\":\"GlyphRenderer\"},{\"attributes\":{},\"id\":\"2789\",\"type\":\"UnionRenderers\"},{\"attributes\":{},\"id\":\"2628\",\"type\":\"PanTool\"},{\"attributes\":{},\"id\":\"2629\",\"type\":\"WheelZoomTool\"},{\"attributes\":{\"overlay\":{\"id\":\"2636\",\"type\":\"BoxAnnotation\"}},\"id\":\"2630\",\"type\":\"BoxZoomTool\"},{\"attributes\":{},\"id\":\"2631\",\"type\":\"SaveTool\"}],\"root_ids\":[\"2664\"]},\"title\":\"Bokeh Application\",\"version\":\"1.0.4\"}};\n",
       "  var render_items = [{\"docid\":\"d9da1ec9-a5ec-43f5-9271-ebbacbfd2fda\",\"roots\":{\"2664\":\"18a06825-5572-409d-956b-9db6a2aa9eb8\"}}];\n",
       "  root.Bokeh.embed.embed_items_notebook(docs_json, render_items);\n",
       "\n",
       "  }\n",
       "  if (root.Bokeh !== undefined) {\n",
       "    embed_document(root);\n",
       "  } else {\n",
       "    var attempts = 0;\n",
       "    var timer = setInterval(function(root) {\n",
       "      if (root.Bokeh !== undefined) {\n",
       "        embed_document(root);\n",
       "        clearInterval(timer);\n",
       "      }\n",
       "      attempts++;\n",
       "      if (attempts > 100) {\n",
       "        console.log(\"Bokeh: ERROR: Unable to run BokehJS code because BokehJS library is missing\");\n",
       "        clearInterval(timer);\n",
       "      }\n",
       "    }, 10, root)\n",
       "  }\n",
       "})(window);"
      ],
      "application/vnd.bokehjs_exec.v0+json": ""
     },
     "metadata": {
      "application/vnd.bokehjs_exec.v0+json": {
       "id": "2664"
      }
     },
     "output_type": "display_data"
    }
   ],
   "source": [
    "xstar = 0.\n",
    "xsol = my_secante(g,x0=0.4, x1=-0.1, xstar=xstar, tol=1.e-15, nitmax=100)\n",
    "print(f\"Convergence de l'algorithme de la sécante en {xsol.size-1} itérations\")\n",
    "print(f\"--> solution de g(x) = 0 obtenue pour  x = {xsol[-1]}\")\n",
    "\n",
    "err = np.abs(xsol - xstar)\n",
    "\n",
    "fig1 = figure(width=490, height=300, y_axis_type=\"log\")\n",
    "fig1.x(range(xsol.size), err, size=5)\n",
    "fig1.x(range(xsol.size),np.abs(g(xsol)),color='red',legend=\"erreur résiduelle\")\n",
    "\n",
    "fig2 = figure(width=490, height=300, x_axis_type=\"log\", y_axis_type=\"log\")\n",
    "fig2.x(err[:-1], err[1:], size=5)\n",
    "rho=0.5*(1+np.sqrt(5))\n",
    "fig2.line(err[:-1], err[:-1]*err[:-1],  color=\"red\", legend=\"2\")\n",
    "\n",
    "show(row(fig1, fig2))"
   ]
  },
  {
   "cell_type": "markdown",
   "metadata": {},
   "source": [
    "Dans le cas de g, la convergence est supérieure à superlinéaire. Nous nous trouvons dans un cas quadratique (contre cubique dans l'exercice 1, avec la méthode de Newton). En effet,  \n",
    "# essayer de montrer qu'on retrouve une majoration qui permet une convergence quadratique."
   ]
  },
  {
   "cell_type": "code",
   "execution_count": 18,
   "metadata": {},
   "outputs": [
    {
     "name": "stdout",
     "output_type": "stream",
     "text": [
      "Convergence de l'algorithme de la sécante en 101 itérations\n",
      "--> solution de h(x) = 0 obtenue pour  x = 0.0\n"
     ]
    },
    {
     "data": {
      "text/html": [
       "\n",
       "\n",
       "\n",
       "\n",
       "\n",
       "\n",
       "  <div class=\"bk-root\" id=\"5bf82691-107a-4254-92ac-5116bac5b718\" data-root-id=\"3039\"></div>\n"
      ]
     },
     "metadata": {},
     "output_type": "display_data"
    },
    {
     "data": {
      "application/javascript": [
       "(function(root) {\n",
       "  function embed_document(root) {\n",
       "    \n",
       "  var docs_json = {\"69184398-3718-42f0-b37a-29f98df451c6\":{\"roots\":{\"references\":[{\"attributes\":{\"children\":[{\"id\":\"2929\",\"subtype\":\"Figure\",\"type\":\"Plot\"},{\"id\":\"2984\",\"subtype\":\"Figure\",\"type\":\"Plot\"}]},\"id\":\"3039\",\"type\":\"Row\"},{\"attributes\":{\"formatter\":{\"id\":\"2975\",\"type\":\"LogTickFormatter\"},\"plot\":{\"id\":\"2929\",\"subtype\":\"Figure\",\"type\":\"Plot\"},\"ticker\":{\"id\":\"2944\",\"type\":\"LogTicker\"}},\"id\":\"2943\",\"type\":\"LogAxis\"},{\"attributes\":{\"num_minor_ticks\":10},\"id\":\"2944\",\"type\":\"LogTicker\"},{\"attributes\":{},\"id\":\"3003\",\"type\":\"PanTool\"},{\"attributes\":{\"dimension\":1,\"plot\":{\"id\":\"2929\",\"subtype\":\"Figure\",\"type\":\"Plot\"},\"ticker\":{\"id\":\"2944\",\"type\":\"LogTicker\"}},\"id\":\"2947\",\"type\":\"Grid\"},{\"attributes\":{},\"id\":\"3004\",\"type\":\"WheelZoomTool\"},{\"attributes\":{\"fill_color\":{\"value\":\"red\"},\"line_color\":{\"value\":\"red\"},\"x\":{\"field\":\"x\"},\"y\":{\"field\":\"y\"}},\"id\":\"2969\",\"type\":\"X\"},{\"attributes\":{\"overlay\":{\"id\":\"3011\",\"type\":\"BoxAnnotation\"}},\"id\":\"3005\",\"type\":\"BoxZoomTool\"},{\"attributes\":{\"below\":[{\"id\":\"2993\",\"type\":\"LogAxis\"}],\"left\":[{\"id\":\"2998\",\"type\":\"LogAxis\"}],\"plot_height\":300,\"plot_width\":490,\"renderers\":[{\"id\":\"2993\",\"type\":\"LogAxis\"},{\"id\":\"2997\",\"type\":\"Grid\"},{\"id\":\"2998\",\"type\":\"LogAxis\"},{\"id\":\"3002\",\"type\":\"Grid\"},{\"id\":\"3011\",\"type\":\"BoxAnnotation\"},{\"id\":\"3021\",\"type\":\"GlyphRenderer\"},{\"id\":\"3037\",\"type\":\"Legend\"},{\"id\":\"3026\",\"type\":\"GlyphRenderer\"}],\"title\":{\"id\":\"3028\",\"type\":\"Title\"},\"toolbar\":{\"id\":\"3009\",\"type\":\"Toolbar\"},\"x_range\":{\"id\":\"2985\",\"type\":\"DataRange1d\"},\"x_scale\":{\"id\":\"2989\",\"type\":\"LogScale\"},\"y_range\":{\"id\":\"2987\",\"type\":\"DataRange1d\"},\"y_scale\":{\"id\":\"2991\",\"type\":\"LogScale\"}},\"id\":\"2984\",\"subtype\":\"Figure\",\"type\":\"Plot\"},{\"attributes\":{},\"id\":\"3006\",\"type\":\"SaveTool\"},{\"attributes\":{\"fill_alpha\":{\"value\":0.1},\"fill_color\":{\"value\":\"#1f77b4\"},\"line_alpha\":{\"value\":0.1},\"line_color\":{\"value\":\"#1f77b4\"},\"x\":{\"field\":\"x\"},\"y\":{\"field\":\"y\"}},\"id\":\"2970\",\"type\":\"X\"},{\"attributes\":{},\"id\":\"2948\",\"type\":\"PanTool\"},{\"attributes\":{},\"id\":\"3007\",\"type\":\"ResetTool\"},{\"attributes\":{},\"id\":\"3008\",\"type\":\"HelpTool\"},{\"attributes\":{},\"id\":\"2949\",\"type\":\"WheelZoomTool\"},{\"attributes\":{\"active_drag\":\"auto\",\"active_inspect\":\"auto\",\"active_multi\":null,\"active_scroll\":\"auto\",\"active_tap\":\"auto\",\"tools\":[{\"id\":\"3003\",\"type\":\"PanTool\"},{\"id\":\"3004\",\"type\":\"WheelZoomTool\"},{\"id\":\"3005\",\"type\":\"BoxZoomTool\"},{\"id\":\"3006\",\"type\":\"SaveTool\"},{\"id\":\"3007\",\"type\":\"ResetTool\"},{\"id\":\"3008\",\"type\":\"HelpTool\"}]},\"id\":\"3009\",\"type\":\"Toolbar\"},{\"attributes\":{\"overlay\":{\"id\":\"2956\",\"type\":\"BoxAnnotation\"}},\"id\":\"2950\",\"type\":\"BoxZoomTool\"},{\"attributes\":{\"source\":{\"id\":\"3023\",\"type\":\"ColumnDataSource\"}},\"id\":\"3027\",\"type\":\"CDSView\"},{\"attributes\":{\"data_source\":{\"id\":\"3018\",\"type\":\"ColumnDataSource\"},\"glyph\":{\"id\":\"3019\",\"type\":\"X\"},\"hover_glyph\":null,\"muted_glyph\":null,\"nonselection_glyph\":{\"id\":\"3020\",\"type\":\"X\"},\"selection_glyph\":null,\"view\":{\"id\":\"3022\",\"type\":\"CDSView\"}},\"id\":\"3021\",\"type\":\"GlyphRenderer\"},{\"attributes\":{},\"id\":\"2951\",\"type\":\"SaveTool\"},{\"attributes\":{\"plot\":{\"id\":\"2929\",\"subtype\":\"Figure\",\"type\":\"Plot\"},\"ticker\":{\"id\":\"2939\",\"type\":\"BasicTicker\"}},\"id\":\"2942\",\"type\":\"Grid\"},{\"attributes\":{\"bottom_units\":\"screen\",\"fill_alpha\":{\"value\":0.5},\"fill_color\":{\"value\":\"lightgrey\"},\"left_units\":\"screen\",\"level\":\"overlay\",\"line_alpha\":{\"value\":1.0},\"line_color\":{\"value\":\"black\"},\"line_dash\":[4,4],\"line_width\":{\"value\":2},\"plot\":null,\"render_mode\":\"css\",\"right_units\":\"screen\",\"top_units\":\"screen\"},\"id\":\"3011\",\"type\":\"BoxAnnotation\"},{\"attributes\":{},\"id\":\"2952\",\"type\":\"ResetTool\"},{\"attributes\":{\"callback\":null,\"data\":{\"x\":{\"__ndarray__\":\"mpmZmZmZ2T+amZmZmZm5Pxh6oRd6obc/HBmKdxFgsD/WRyNRg4OpP5rUXdMiBqM/1OxXr2zbnD9Qh6Lher6VPwYt13zybJA/UzrsJLzKiD95iWcKgbeCP9oECPu1QXw/hK2SgaZUdT+YcVhHGRpwPxgMyOpfT2g/2qpZ6OFZYj9CVYrMp7RbP2JltCUW6lQ/vWLHblyTTz9cMb3Y8tVHP+fTXIo5/kE/lngRu0UqOz+0dWj6n4E0PxrBTzKm9S4/3Op/ROVeJz/r0x6wWqQhP5IAfwSXoho/il14hDMbFD/if4+3A1sOP3YTbVEq6gY/4RGEtzxMAT9JnhYAjh36PpGaw6LGtvM++AeJmGXD7T6hN6RntnfmPqD84t3W9eA+MhdMdR2b2T7qV/xZT1TTPsNCk8O8Ls0+m+sEJ34Hxj48xPOMIKHAPgz9Pm04G7k+KNrK4MPzsj6eXDly+pysPnudRGh2maU+1hZRWRFOoD6Qi9Ax0p2YPmevuJ4alZI+ivzSJxAOjD6XGs47lC2FPmyIRgNC+X8+pnBfTN4ieD6HxDwrSjhyPsmHE7DvgWs+hFmr6MzDZD4SX5zbjllfPn+wioRQqlc+igLMTEndUT4QuaAdi/hKPu2ndOsVXEQ+TrpGXPm8Pj7Ut/reHDQ3PgWY7vcOhDE+kkSwyNRxKj4WK0X1ZPYjPugJMPVxIx4+On8wnDfAFj7y1llOkiwRPu5lrE2/7Qk+iJi06q+SAz66Kv5j6Yz9PSKhWjeVTvY97Y8OnsrW8D2aNd+LPWzpPakM1uLsMOM9YSaOslD53D3TRDBlKt/VPX/Ue2CvgtA9xqMkpELtyD3h5TsmEtHCPTyGdzWZaLw9UMHREuxxtT1xCqY5ODCwPZb3ovfBcKg9CosALhZzoj2wE5eKtNqbPX7brmTPBpU9LnWk7rm+jz0zsokmr/aHPcgE1KLvFoI9yuCgl5RPez2bg3K1yZ10PeoLayArIG89qbXWDv5+Zz2OUQ5clbxhPbx0uYgrx1o9lvbzlNA2VD0KWVFGtIROPW2QIcuiCUc9vlzGXv5jQT2X+BXPa0E6PQ==\",\"dtype\":\"float64\",\"shape\":[101]},\"y\":{\"__ndarray__\":\"mpmZmZmZ2T+amZmZmZm5Pxh6oRd6obc/HBmKdxFgsD/WRyNRg4OpP5rUXdMiBqM/1OxXr2zbnD9Qh6Lher6VPwYt13zybJA/UzrsJLzKiD95iWcKgbeCP9oECPu1QXw/hK2SgaZUdT+YcVhHGRpwPxgMyOpfT2g/2qpZ6OFZYj9CVYrMp7RbP2JltCUW6lQ/vWLHblyTTz9cMb3Y8tVHP+fTXIo5/kE/lngRu0UqOz+0dWj6n4E0PxrBTzKm9S4/3Op/ROVeJz/r0x6wWqQhP5IAfwSXoho/il14hDMbFD/if4+3A1sOP3YTbVEq6gY/4RGEtzxMAT9JnhYAjh36PpGaw6LGtvM++AeJmGXD7T6hN6RntnfmPqD84t3W9eA+MhdMdR2b2T7qV/xZT1TTPsNCk8O8Ls0+m+sEJ34Hxj48xPOMIKHAPgz9Pm04G7k+KNrK4MPzsj6eXDly+pysPnudRGh2maU+1hZRWRFOoD6Qi9Ax0p2YPmevuJ4alZI+ivzSJxAOjD6XGs47lC2FPmyIRgNC+X8+pnBfTN4ieD6HxDwrSjhyPsmHE7DvgWs+hFmr6MzDZD4SX5zbjllfPn+wioRQqlc+igLMTEndUT4QuaAdi/hKPu2ndOsVXEQ+TrpGXPm8Pj7Ut/reHDQ3PgWY7vcOhDE+kkSwyNRxKj4WK0X1ZPYjPugJMPVxIx4+On8wnDfAFj7y1llOkiwRPu5lrE2/7Qk+iJi06q+SAz66Kv5j6Yz9PSKhWjeVTvY97Y8OnsrW8D2aNd+LPWzpPakM1uLsMOM9YSaOslD53D3TRDBlKt/VPX/Ue2CvgtA9xqMkpELtyD3h5TsmEtHCPTyGdzWZaLw9UMHREuxxtT1xCqY5ODCwPZb3ovfBcKg9CosALhZzoj2wE5eKtNqbPX7brmTPBpU9LnWk7rm+jz0zsokmr/aHPcgE1KLvFoI9yuCgl5RPez2bg3K1yZ10PeoLayArIG89qbXWDv5+Zz2OUQ5clbxhPbx0uYgrx1o9lvbzlNA2VD0KWVFGtIROPW2QIcuiCUc9vlzGXv5jQT2X+BXPa0E6PQ==\",\"dtype\":\"float64\",\"shape\":[101]}},\"selected\":{\"id\":\"3192\",\"type\":\"Selection\"},\"selection_policy\":{\"id\":\"3191\",\"type\":\"UnionRenderers\"}},\"id\":\"3023\",\"type\":\"ColumnDataSource\"},{\"attributes\":{},\"id\":\"2953\",\"type\":\"HelpTool\"},{\"attributes\":{\"source\":{\"id\":\"3018\",\"type\":\"ColumnDataSource\"}},\"id\":\"3022\",\"type\":\"CDSView\"},{\"attributes\":{\"active_drag\":\"auto\",\"active_inspect\":\"auto\",\"active_multi\":null,\"active_scroll\":\"auto\",\"active_tap\":\"auto\",\"tools\":[{\"id\":\"2948\",\"type\":\"PanTool\"},{\"id\":\"2949\",\"type\":\"WheelZoomTool\"},{\"id\":\"2950\",\"type\":\"BoxZoomTool\"},{\"id\":\"2951\",\"type\":\"SaveTool\"},{\"id\":\"2952\",\"type\":\"ResetTool\"},{\"id\":\"2953\",\"type\":\"HelpTool\"}]},\"id\":\"2954\",\"type\":\"Toolbar\"},{\"attributes\":{},\"id\":\"2939\",\"type\":\"BasicTicker\"},{\"attributes\":{\"line_color\":\"red\",\"x\":{\"field\":\"x\"},\"y\":{\"field\":\"y\"}},\"id\":\"3024\",\"type\":\"Line\"},{\"attributes\":{\"bottom_units\":\"screen\",\"fill_alpha\":{\"value\":0.5},\"fill_color\":{\"value\":\"lightgrey\"},\"left_units\":\"screen\",\"level\":\"overlay\",\"line_alpha\":{\"value\":1.0},\"line_color\":{\"value\":\"black\"},\"line_dash\":[4,4],\"line_width\":{\"value\":2},\"plot\":null,\"render_mode\":\"css\",\"right_units\":\"screen\",\"top_units\":\"screen\"},\"id\":\"2956\",\"type\":\"BoxAnnotation\"},{\"attributes\":{\"data_source\":{\"id\":\"3023\",\"type\":\"ColumnDataSource\"},\"glyph\":{\"id\":\"3024\",\"type\":\"Line\"},\"hover_glyph\":null,\"muted_glyph\":null,\"nonselection_glyph\":{\"id\":\"3025\",\"type\":\"Line\"},\"selection_glyph\":null,\"view\":{\"id\":\"3027\",\"type\":\"CDSView\"}},\"id\":\"3026\",\"type\":\"GlyphRenderer\"},{\"attributes\":{\"line_alpha\":0.1,\"line_color\":\"#1f77b4\",\"x\":{\"field\":\"x\"},\"y\":{\"field\":\"y\"}},\"id\":\"3025\",\"type\":\"Line\"},{\"attributes\":{\"source\":{\"id\":\"2968\",\"type\":\"ColumnDataSource\"}},\"id\":\"2972\",\"type\":\"CDSView\"},{\"attributes\":{\"plot\":null,\"text\":\"\"},\"id\":\"2973\",\"type\":\"Title\"},{\"attributes\":{\"plot\":null,\"text\":\"\"},\"id\":\"3028\",\"type\":\"Title\"},{\"attributes\":{\"ticker\":null},\"id\":\"3032\",\"type\":\"LogTickFormatter\"},{\"attributes\":{\"ticker\":null},\"id\":\"2975\",\"type\":\"LogTickFormatter\"},{\"attributes\":{\"ticker\":null},\"id\":\"3030\",\"type\":\"LogTickFormatter\"},{\"attributes\":{},\"id\":\"2977\",\"type\":\"BasicTickFormatter\"},{\"attributes\":{},\"id\":\"2979\",\"type\":\"UnionRenderers\"},{\"attributes\":{},\"id\":\"3034\",\"type\":\"UnionRenderers\"},{\"attributes\":{\"items\":[{\"id\":\"3038\",\"type\":\"LegendItem\"}],\"plot\":{\"id\":\"2984\",\"subtype\":\"Figure\",\"type\":\"Plot\"}},\"id\":\"3037\",\"type\":\"Legend\"},{\"attributes\":{},\"id\":\"2980\",\"type\":\"Selection\"},{\"attributes\":{\"items\":[{\"id\":\"2983\",\"type\":\"LegendItem\"}],\"plot\":{\"id\":\"2929\",\"subtype\":\"Figure\",\"type\":\"Plot\"}},\"id\":\"2982\",\"type\":\"Legend\"},{\"attributes\":{},\"id\":\"3035\",\"type\":\"Selection\"},{\"attributes\":{\"label\":{\"value\":\"erreur r\\u00e9siduelle\"},\"renderers\":[{\"id\":\"2971\",\"type\":\"GlyphRenderer\"}]},\"id\":\"2983\",\"type\":\"LegendItem\"},{\"attributes\":{\"label\":{\"value\":\"1\"},\"renderers\":[{\"id\":\"3026\",\"type\":\"GlyphRenderer\"}]},\"id\":\"3038\",\"type\":\"LegendItem\"},{\"attributes\":{\"callback\":null,\"data\":{\"x\":{\"__ndarray__\":\"mpmZmZmZ2T+amZmZmZm5Pxh6oRd6obc/HBmKdxFgsD/WRyNRg4OpP5rUXdMiBqM/1OxXr2zbnD9Qh6Lher6VPwYt13zybJA/UzrsJLzKiD95iWcKgbeCP9oECPu1QXw/hK2SgaZUdT+YcVhHGRpwPxgMyOpfT2g/2qpZ6OFZYj9CVYrMp7RbP2JltCUW6lQ/vWLHblyTTz9cMb3Y8tVHP+fTXIo5/kE/lngRu0UqOz+0dWj6n4E0PxrBTzKm9S4/3Op/ROVeJz/r0x6wWqQhP5IAfwSXoho/il14hDMbFD/if4+3A1sOP3YTbVEq6gY/4RGEtzxMAT9JnhYAjh36PpGaw6LGtvM++AeJmGXD7T6hN6RntnfmPqD84t3W9eA+MhdMdR2b2T7qV/xZT1TTPsNCk8O8Ls0+m+sEJ34Hxj48xPOMIKHAPgz9Pm04G7k+KNrK4MPzsj6eXDly+pysPnudRGh2maU+1hZRWRFOoD6Qi9Ax0p2YPmevuJ4alZI+ivzSJxAOjD6XGs47lC2FPmyIRgNC+X8+pnBfTN4ieD6HxDwrSjhyPsmHE7DvgWs+hFmr6MzDZD4SX5zbjllfPn+wioRQqlc+igLMTEndUT4QuaAdi/hKPu2ndOsVXEQ+TrpGXPm8Pj7Ut/reHDQ3PgWY7vcOhDE+kkSwyNRxKj4WK0X1ZPYjPugJMPVxIx4+On8wnDfAFj7y1llOkiwRPu5lrE2/7Qk+iJi06q+SAz66Kv5j6Yz9PSKhWjeVTvY97Y8OnsrW8D2aNd+LPWzpPakM1uLsMOM9YSaOslD53D3TRDBlKt/VPX/Ue2CvgtA9xqMkpELtyD3h5TsmEtHCPTyGdzWZaLw9UMHREuxxtT1xCqY5ODCwPZb3ovfBcKg9CosALhZzoj2wE5eKtNqbPX7brmTPBpU9LnWk7rm+jz0zsokmr/aHPcgE1KLvFoI9yuCgl5RPez2bg3K1yZ10PeoLayArIG89qbXWDv5+Zz2OUQ5clbxhPbx0uYgrx1o9lvbzlNA2VD0KWVFGtIROPW2QIcuiCUc9vlzGXv5jQT2X+BXPa0E6PQ==\",\"dtype\":\"float64\",\"shape\":[101]},\"y\":{\"__ndarray__\":\"mpmZmZmZuT8YeqEXeqG3PxwZincRYLA/1kcjUYODqT+a1F3TIgajP9TsV69s25w/UIei4Xq+lT8GLdd88myQP1M67CS8yog/eYlnCoG3gj/aBAj7tUF8P4StkoGmVHU/mHFYRxkacD8YDMjqX09oP9qqWejhWWI/QlWKzKe0Wz9iZbQlFupUP71ix25ck08/XDG92PLVRz/n01yKOf5BP5Z4EbtFKjs/tHVo+p+BND8awU8ypvUuP9zqf0TlXic/69MesFqkIT+SAH8El6IaP4pdeIQzGxQ/4n+PtwNbDj92E21RKuoGP+ERhLc8TAE/SZ4WAI4d+j6RmsOixrbzPvgHiZhlw+0+oTekZ7Z35j6g/OLd1vXgPjIXTHUdm9k+6lf8WU9U0z7DQpPDvC7NPpvrBCd+B8Y+PMTzjCChwD4M/T5tOBu5PijayuDD87I+nlw5cvqcrD57nURodpmlPtYWUVkRTqA+kIvQMdKdmD5nr7ieGpWSPor80icQDow+lxrOO5QthT5siEYDQvl/PqZwX0zeIng+h8Q8K0o4cj7JhxOw74FrPoRZq+jMw2Q+El+c245ZXz5/sIqEUKpXPooCzExJ3VE+ELmgHYv4Sj7tp3TrFVxEPk66Rlz5vD4+1Lf63hw0Nz4FmO73DoQxPpJEsMjUcSo+FitF9WT2Iz7oCTD1cSMePjp/MJw3wBY+8tZZTpIsET7uZaxNv+0JPoiYtOqvkgM+uir+Y+mM/T0ioVo3lU72Pe2PDp7K1vA9mjXfiz1s6T2pDNbi7DDjPWEmjrJQ+dw900QwZSrf1T1/1Htgr4LQPcajJKRC7cg94eU7JhLRwj08hnc1mWi8PVDB0RLscbU9cQqmOTgwsD2W96L3wXCoPQqLAC4Wc6I9sBOXirTamz1+265kzwaVPS51pO65vo89M7KJJq/2hz3IBNSi7xaCPcrgoJeUT3s9m4NytcmddD3qC2sgKyBvPam11g7+fmc9jlEOXJW8YT28dLmIK8daPZb285TQNlQ9CllRRrSETj1tkCHLoglHPb5cxl7+Y0E9l/gVz2tBOj0AAAAAAAAAAA==\",\"dtype\":\"float64\",\"shape\":[101]}},\"selected\":{\"id\":\"3035\",\"type\":\"Selection\"},\"selection_policy\":{\"id\":\"3034\",\"type\":\"UnionRenderers\"}},\"id\":\"3018\",\"type\":\"ColumnDataSource\"},{\"attributes\":{\"fill_alpha\":{\"value\":0.1},\"fill_color\":{\"value\":\"#1f77b4\"},\"line_alpha\":{\"value\":0.1},\"line_color\":{\"value\":\"#1f77b4\"},\"size\":{\"units\":\"screen\",\"value\":5},\"x\":{\"field\":\"x\"},\"y\":{\"field\":\"y\"}},\"id\":\"3020\",\"type\":\"X\"},{\"attributes\":{\"callback\":null},\"id\":\"2985\",\"type\":\"DataRange1d\"},{\"attributes\":{\"callback\":null},\"id\":\"2987\",\"type\":\"DataRange1d\"},{\"attributes\":{},\"id\":\"2989\",\"type\":\"LogScale\"},{\"attributes\":{},\"id\":\"3187\",\"type\":\"Selection\"},{\"attributes\":{},\"id\":\"3191\",\"type\":\"UnionRenderers\"},{\"attributes\":{},\"id\":\"2991\",\"type\":\"LogScale\"},{\"attributes\":{},\"id\":\"2936\",\"type\":\"LogScale\"},{\"attributes\":{\"formatter\":{\"id\":\"3032\",\"type\":\"LogTickFormatter\"},\"plot\":{\"id\":\"2984\",\"subtype\":\"Figure\",\"type\":\"Plot\"},\"ticker\":{\"id\":\"2994\",\"type\":\"LogTicker\"}},\"id\":\"2993\",\"type\":\"LogAxis\"},{\"attributes\":{},\"id\":\"3192\",\"type\":\"Selection\"},{\"attributes\":{\"num_minor_ticks\":10},\"id\":\"2994\",\"type\":\"LogTicker\"},{\"attributes\":{\"formatter\":{\"id\":\"2977\",\"type\":\"BasicTickFormatter\"},\"plot\":{\"id\":\"2929\",\"subtype\":\"Figure\",\"type\":\"Plot\"},\"ticker\":{\"id\":\"2939\",\"type\":\"BasicTicker\"}},\"id\":\"2938\",\"type\":\"LinearAxis\"},{\"attributes\":{\"plot\":{\"id\":\"2984\",\"subtype\":\"Figure\",\"type\":\"Plot\"},\"ticker\":{\"id\":\"2994\",\"type\":\"LogTicker\"}},\"id\":\"2997\",\"type\":\"Grid\"},{\"attributes\":{\"formatter\":{\"id\":\"3030\",\"type\":\"LogTickFormatter\"},\"plot\":{\"id\":\"2984\",\"subtype\":\"Figure\",\"type\":\"Plot\"},\"ticker\":{\"id\":\"2999\",\"type\":\"LogTicker\"}},\"id\":\"2998\",\"type\":\"LogAxis\"},{\"attributes\":{\"callback\":null,\"data\":{\"x\":[0,1,2,3,4,5,6,7,8,9,10,11,12,13,14,15,16,17,18,19,20,21,22,23,24,25,26,27,28,29,30,31,32,33,34,35,36,37,38,39,40,41,42,43,44,45,46,47,48,49,50,51,52,53,54,55,56,57,58,59,60,61,62,63,64,65,66,67,68,69,70,71,72,73,74,75,76,77,78,79,80,81,82,83,84,85,86,87,88,89,90,91,92,93,94,95,96,97,98,99,100,101],\"y\":{\"__ndarray__\":\"/anx0k1isD/9qfHSTWJQP6pRUgzexUk/9rAGYwQnMT89nbElCjggP0fDL7f95Ao/NcCYgZN39z6Eqju3VxTkPi0zs7mcT9E+QFLPcw7DvT5NUFVL25ypPr2S70VRCJY+mdjbl7L0gj7Wx2nSy05wPmcqVYVdD1w+0dLk9PgjSD59I+R0wcQ0PuVrNDwb3iE+UJA44mK+Dj7Agbq1C3P6PQCDgCNDweY919/gEJaT0z0q722fkNfAPS3ZC2Sl+qw9yy8/v2fumD0/tug86HKFPVpDKR/vc3I9TjsFNi/AXz29xji71VBLPfE2EVcSgDc9pWnSRb43JD0e+jzcymQRPeEyRMel7f08QAF/1Ha/6TxdlJm+wybWPAm/kz6rDsM8jRoUrzZlsDxyK2CE4zWcPDcj2pAhRYg8lSsoAEfhdDyOY2hZpfZhPM85IdWb6E48TEs+9V6XOjw8sPBtg+AmPMcH4eF4rhM8zzYuCrLuADxg/2MDciLtO8BWSzelENk7TM9gV12QxTs/JxvhRo2yO+82e0zK6587YyJujVl2iztuaqSxWKB3O1/EQYmCU2Q7eCfDPK58UTvWeTUiwBY+O+N5pmrT4ik7BKlK3C9FFjscvAiD1ygDO3PT1g27e/A64IiP6qFc3Dq4EqaOdmbIOnoXSxn0/bQ6VcTfCVEPojqMGlXaDhOPOv95CxHku3o6sO4spu7/Zjog19KegMlTOjz8iznzBUE68KFqS3VKLToYVLi1ETMZOgh9oeb6rQU6YRI3ccGm8jntDQ2j0AvgOcmGVuUQnMs54/KRX8vAtzkTWQrvbG+kOdI3BmyylJE5IZNY8BJAfjkConKRYAZqOZcfB8LFY1Y5aH+BuSdDQzmOkkVZXpIwOQ2ceoaVgxw5h6l8U/mHCDk8foyUyBr1OBjnLpweKOI4kPsVLLw9zzjPJ7pUm+C6OPlFzwSFH6c4vxYze63kkzihUeZYVB2BOMHKXIevcm049O8Me61VWTioWD8iwctFOFN5SP9ewDI4Iz2ROtohIDizE7QJ/MELOLUoup1q4fc3mYiLq32L5Dd01xSX16zRNwAAAAAAAAAA\",\"dtype\":\"float64\",\"shape\":[102]}},\"selected\":{\"id\":\"3187\",\"type\":\"Selection\"},\"selection_policy\":{\"id\":\"3186\",\"type\":\"UnionRenderers\"}},\"id\":\"2968\",\"type\":\"ColumnDataSource\"},{\"attributes\":{\"num_minor_ticks\":10},\"id\":\"2999\",\"type\":\"LogTicker\"},{\"attributes\":{\"callback\":null,\"data\":{\"x\":[0,1,2,3,4,5,6,7,8,9,10,11,12,13,14,15,16,17,18,19,20,21,22,23,24,25,26,27,28,29,30,31,32,33,34,35,36,37,38,39,40,41,42,43,44,45,46,47,48,49,50,51,52,53,54,55,56,57,58,59,60,61,62,63,64,65,66,67,68,69,70,71,72,73,74,75,76,77,78,79,80,81,82,83,84,85,86,87,88,89,90,91,92,93,94,95,96,97,98,99,100,101],\"y\":{\"__ndarray__\":\"mpmZmZmZ2T+amZmZmZm5Pxh6oRd6obc/HBmKdxFgsD/WRyNRg4OpP5rUXdMiBqM/1OxXr2zbnD9Qh6Lher6VPwYt13zybJA/UzrsJLzKiD95iWcKgbeCP9oECPu1QXw/hK2SgaZUdT+YcVhHGRpwPxgMyOpfT2g/2qpZ6OFZYj9CVYrMp7RbP2JltCUW6lQ/vWLHblyTTz9cMb3Y8tVHP+fTXIo5/kE/lngRu0UqOz+0dWj6n4E0PxrBTzKm9S4/3Op/ROVeJz/r0x6wWqQhP5IAfwSXoho/il14hDMbFD/if4+3A1sOP3YTbVEq6gY/4RGEtzxMAT9JnhYAjh36PpGaw6LGtvM++AeJmGXD7T6hN6RntnfmPqD84t3W9eA+MhdMdR2b2T7qV/xZT1TTPsNCk8O8Ls0+m+sEJ34Hxj48xPOMIKHAPgz9Pm04G7k+KNrK4MPzsj6eXDly+pysPnudRGh2maU+1hZRWRFOoD6Qi9Ax0p2YPmevuJ4alZI+ivzSJxAOjD6XGs47lC2FPmyIRgNC+X8+pnBfTN4ieD6HxDwrSjhyPsmHE7DvgWs+hFmr6MzDZD4SX5zbjllfPn+wioRQqlc+igLMTEndUT4QuaAdi/hKPu2ndOsVXEQ+TrpGXPm8Pj7Ut/reHDQ3PgWY7vcOhDE+kkSwyNRxKj4WK0X1ZPYjPugJMPVxIx4+On8wnDfAFj7y1llOkiwRPu5lrE2/7Qk+iJi06q+SAz66Kv5j6Yz9PSKhWjeVTvY97Y8OnsrW8D2aNd+LPWzpPakM1uLsMOM9YSaOslD53D3TRDBlKt/VPX/Ue2CvgtA9xqMkpELtyD3h5TsmEtHCPTyGdzWZaLw9UMHREuxxtT1xCqY5ODCwPZb3ovfBcKg9CosALhZzoj2wE5eKtNqbPX7brmTPBpU9LnWk7rm+jz0zsokmr/aHPcgE1KLvFoI9yuCgl5RPez2bg3K1yZ10PeoLayArIG89qbXWDv5+Zz2OUQ5clbxhPbx0uYgrx1o9lvbzlNA2VD0KWVFGtIROPW2QIcuiCUc9vlzGXv5jQT2X+BXPa0E6PQAAAAAAAAAA\",\"dtype\":\"float64\",\"shape\":[102]}},\"selected\":{\"id\":\"2980\",\"type\":\"Selection\"},\"selection_policy\":{\"id\":\"2979\",\"type\":\"UnionRenderers\"}},\"id\":\"2963\",\"type\":\"ColumnDataSource\"},{\"attributes\":{\"callback\":null},\"id\":\"2932\",\"type\":\"DataRange1d\"},{\"attributes\":{\"dimension\":1,\"plot\":{\"id\":\"2984\",\"subtype\":\"Figure\",\"type\":\"Plot\"},\"ticker\":{\"id\":\"2999\",\"type\":\"LogTicker\"}},\"id\":\"3002\",\"type\":\"Grid\"},{\"attributes\":{},\"id\":\"2934\",\"type\":\"LinearScale\"},{\"attributes\":{\"callback\":null},\"id\":\"2930\",\"type\":\"DataRange1d\"},{\"attributes\":{\"fill_color\":{\"value\":\"#1f77b4\"},\"line_color\":{\"value\":\"#1f77b4\"},\"size\":{\"units\":\"screen\",\"value\":5},\"x\":{\"field\":\"x\"},\"y\":{\"field\":\"y\"}},\"id\":\"3019\",\"type\":\"X\"},{\"attributes\":{\"below\":[{\"id\":\"2938\",\"type\":\"LinearAxis\"}],\"left\":[{\"id\":\"2943\",\"type\":\"LogAxis\"}],\"plot_height\":300,\"plot_width\":490,\"renderers\":[{\"id\":\"2938\",\"type\":\"LinearAxis\"},{\"id\":\"2942\",\"type\":\"Grid\"},{\"id\":\"2943\",\"type\":\"LogAxis\"},{\"id\":\"2947\",\"type\":\"Grid\"},{\"id\":\"2956\",\"type\":\"BoxAnnotation\"},{\"id\":\"2966\",\"type\":\"GlyphRenderer\"},{\"id\":\"2982\",\"type\":\"Legend\"},{\"id\":\"2971\",\"type\":\"GlyphRenderer\"}],\"title\":{\"id\":\"2973\",\"type\":\"Title\"},\"toolbar\":{\"id\":\"2954\",\"type\":\"Toolbar\"},\"x_range\":{\"id\":\"2930\",\"type\":\"DataRange1d\"},\"x_scale\":{\"id\":\"2934\",\"type\":\"LinearScale\"},\"y_range\":{\"id\":\"2932\",\"type\":\"DataRange1d\"},\"y_scale\":{\"id\":\"2936\",\"type\":\"LogScale\"}},\"id\":\"2929\",\"subtype\":\"Figure\",\"type\":\"Plot\"},{\"attributes\":{},\"id\":\"3186\",\"type\":\"UnionRenderers\"},{\"attributes\":{\"fill_alpha\":{\"value\":0.1},\"fill_color\":{\"value\":\"#1f77b4\"},\"line_alpha\":{\"value\":0.1},\"line_color\":{\"value\":\"#1f77b4\"},\"size\":{\"units\":\"screen\",\"value\":5},\"x\":{\"field\":\"x\"},\"y\":{\"field\":\"y\"}},\"id\":\"2965\",\"type\":\"X\"},{\"attributes\":{\"source\":{\"id\":\"2963\",\"type\":\"ColumnDataSource\"}},\"id\":\"2967\",\"type\":\"CDSView\"},{\"attributes\":{\"fill_color\":{\"value\":\"#1f77b4\"},\"line_color\":{\"value\":\"#1f77b4\"},\"size\":{\"units\":\"screen\",\"value\":5},\"x\":{\"field\":\"x\"},\"y\":{\"field\":\"y\"}},\"id\":\"2964\",\"type\":\"X\"},{\"attributes\":{\"data_source\":{\"id\":\"2968\",\"type\":\"ColumnDataSource\"},\"glyph\":{\"id\":\"2969\",\"type\":\"X\"},\"hover_glyph\":null,\"muted_glyph\":null,\"nonselection_glyph\":{\"id\":\"2970\",\"type\":\"X\"},\"selection_glyph\":null,\"view\":{\"id\":\"2972\",\"type\":\"CDSView\"}},\"id\":\"2971\",\"type\":\"GlyphRenderer\"},{\"attributes\":{\"data_source\":{\"id\":\"2963\",\"type\":\"ColumnDataSource\"},\"glyph\":{\"id\":\"2964\",\"type\":\"X\"},\"hover_glyph\":null,\"muted_glyph\":null,\"nonselection_glyph\":{\"id\":\"2965\",\"type\":\"X\"},\"selection_glyph\":null,\"view\":{\"id\":\"2967\",\"type\":\"CDSView\"}},\"id\":\"2966\",\"type\":\"GlyphRenderer\"}],\"root_ids\":[\"3039\"]},\"title\":\"Bokeh Application\",\"version\":\"1.0.4\"}};\n",
       "  var render_items = [{\"docid\":\"69184398-3718-42f0-b37a-29f98df451c6\",\"roots\":{\"3039\":\"5bf82691-107a-4254-92ac-5116bac5b718\"}}];\n",
       "  root.Bokeh.embed.embed_items_notebook(docs_json, render_items);\n",
       "\n",
       "  }\n",
       "  if (root.Bokeh !== undefined) {\n",
       "    embed_document(root);\n",
       "  } else {\n",
       "    var attempts = 0;\n",
       "    var timer = setInterval(function(root) {\n",
       "      if (root.Bokeh !== undefined) {\n",
       "        embed_document(root);\n",
       "        clearInterval(timer);\n",
       "      }\n",
       "      attempts++;\n",
       "      if (attempts > 100) {\n",
       "        console.log(\"Bokeh: ERROR: Unable to run BokehJS code because BokehJS library is missing\");\n",
       "        clearInterval(timer);\n",
       "      }\n",
       "    }, 10, root)\n",
       "  }\n",
       "})(window);"
      ],
      "application/vnd.bokehjs_exec.v0+json": ""
     },
     "metadata": {
      "application/vnd.bokehjs_exec.v0+json": {
       "id": "3039"
      }
     },
     "output_type": "display_data"
    }
   ],
   "source": [
    "xstar = 0.\n",
    "xsol = my_secante(h,x0=0.4, x1=-0.1, xstar=xstar, tol=1.e-15, nitmax=100)\n",
    "print(f\"Convergence de l'algorithme de la sécante en {xsol.size-1} itérations\")\n",
    "print(f\"--> solution de h(x) = 0 obtenue pour  x = {xsol[-1]}\")\n",
    "\n",
    "err = np.abs(xsol - xstar)\n",
    "\n",
    "fig1 = figure(width=490, height=300, y_axis_type=\"log\")\n",
    "fig1.x(range(xsol.size), err, size=5)\n",
    "fig1.x(range(xsol.size),np.abs(h(xsol)),color='red',legend=\"erreur résiduelle\")\n",
    "\n",
    "fig2 = figure(width=490, height=300, x_axis_type=\"log\", y_axis_type=\"log\")\n",
    "fig2.x(err[:-1], err[1:], size=5)\n",
    "rho=0.5*(1+np.sqrt(5))\n",
    "fig2.line(err[:-1], err[:-1],  color=\"red\", legend=\"1\")\n",
    "\n",
    "show(row(fig1, fig2))"
   ]
  },
  {
   "cell_type": "code",
   "execution_count": 19,
   "metadata": {},
   "outputs": [
    {
     "name": "stdout",
     "output_type": "stream",
     "text": [
      "Convergence de l'algorithme de la sécante en 71 itérations\n",
      "--> solution de k(x) = 0 obtenue pour  x = 0.0\n"
     ]
    },
    {
     "data": {
      "text/html": [
       "\n",
       "\n",
       "\n",
       "\n",
       "\n",
       "\n",
       "  <div class=\"bk-root\" id=\"c2eac9ca-a469-4bcd-a9f9-4c8421bd3b81\" data-root-id=\"3436\"></div>\n"
      ]
     },
     "metadata": {},
     "output_type": "display_data"
    },
    {
     "data": {
      "application/javascript": [
       "(function(root) {\n",
       "  function embed_document(root) {\n",
       "    \n",
       "  var docs_json = {\"2fab488c-6801-48a6-b90d-bfe42b835d04\":{\"roots\":{\"references\":[{\"attributes\":{\"children\":[{\"id\":\"3326\",\"subtype\":\"Figure\",\"type\":\"Plot\"},{\"id\":\"3381\",\"subtype\":\"Figure\",\"type\":\"Plot\"}]},\"id\":\"3436\",\"type\":\"Row\"},{\"attributes\":{},\"id\":\"3605\",\"type\":\"UnionRenderers\"},{\"attributes\":{\"fill_alpha\":{\"value\":0.1},\"fill_color\":{\"value\":\"#1f77b4\"},\"line_alpha\":{\"value\":0.1},\"line_color\":{\"value\":\"#1f77b4\"},\"size\":{\"units\":\"screen\",\"value\":5},\"x\":{\"field\":\"x\"},\"y\":{\"field\":\"y\"}},\"id\":\"3362\",\"type\":\"X\"},{\"attributes\":{\"below\":[{\"id\":\"3335\",\"type\":\"LinearAxis\"}],\"left\":[{\"id\":\"3340\",\"type\":\"LogAxis\"}],\"plot_height\":300,\"plot_width\":490,\"renderers\":[{\"id\":\"3335\",\"type\":\"LinearAxis\"},{\"id\":\"3339\",\"type\":\"Grid\"},{\"id\":\"3340\",\"type\":\"LogAxis\"},{\"id\":\"3344\",\"type\":\"Grid\"},{\"id\":\"3353\",\"type\":\"BoxAnnotation\"},{\"id\":\"3363\",\"type\":\"GlyphRenderer\"},{\"id\":\"3379\",\"type\":\"Legend\"},{\"id\":\"3368\",\"type\":\"GlyphRenderer\"}],\"title\":{\"id\":\"3370\",\"type\":\"Title\"},\"toolbar\":{\"id\":\"3351\",\"type\":\"Toolbar\"},\"x_range\":{\"id\":\"3327\",\"type\":\"DataRange1d\"},\"x_scale\":{\"id\":\"3331\",\"type\":\"LinearScale\"},\"y_range\":{\"id\":\"3329\",\"type\":\"DataRange1d\"},\"y_scale\":{\"id\":\"3333\",\"type\":\"LogScale\"}},\"id\":\"3326\",\"subtype\":\"Figure\",\"type\":\"Plot\"},{\"attributes\":{\"callback\":null},\"id\":\"3327\",\"type\":\"DataRange1d\"},{\"attributes\":{\"callback\":null},\"id\":\"3329\",\"type\":\"DataRange1d\"},{\"attributes\":{},\"id\":\"3331\",\"type\":\"LinearScale\"},{\"attributes\":{},\"id\":\"3333\",\"type\":\"LogScale\"},{\"attributes\":{\"formatter\":{\"id\":\"3374\",\"type\":\"BasicTickFormatter\"},\"plot\":{\"id\":\"3326\",\"subtype\":\"Figure\",\"type\":\"Plot\"},\"ticker\":{\"id\":\"3336\",\"type\":\"BasicTicker\"}},\"id\":\"3335\",\"type\":\"LinearAxis\"},{\"attributes\":{},\"id\":\"3336\",\"type\":\"BasicTicker\"},{\"attributes\":{\"plot\":{\"id\":\"3326\",\"subtype\":\"Figure\",\"type\":\"Plot\"},\"ticker\":{\"id\":\"3336\",\"type\":\"BasicTicker\"}},\"id\":\"3339\",\"type\":\"Grid\"},{\"attributes\":{\"formatter\":{\"id\":\"3372\",\"type\":\"LogTickFormatter\"},\"plot\":{\"id\":\"3326\",\"subtype\":\"Figure\",\"type\":\"Plot\"},\"ticker\":{\"id\":\"3341\",\"type\":\"LogTicker\"}},\"id\":\"3340\",\"type\":\"LogAxis\"},{\"attributes\":{\"num_minor_ticks\":10},\"id\":\"3341\",\"type\":\"LogTicker\"},{\"attributes\":{\"dimension\":1,\"plot\":{\"id\":\"3326\",\"subtype\":\"Figure\",\"type\":\"Plot\"},\"ticker\":{\"id\":\"3341\",\"type\":\"LogTicker\"}},\"id\":\"3344\",\"type\":\"Grid\"},{\"attributes\":{\"source\":{\"id\":\"3360\",\"type\":\"ColumnDataSource\"}},\"id\":\"3364\",\"type\":\"CDSView\"},{\"attributes\":{\"data_source\":{\"id\":\"3360\",\"type\":\"ColumnDataSource\"},\"glyph\":{\"id\":\"3361\",\"type\":\"X\"},\"hover_glyph\":null,\"muted_glyph\":null,\"nonselection_glyph\":{\"id\":\"3362\",\"type\":\"X\"},\"selection_glyph\":null,\"view\":{\"id\":\"3364\",\"type\":\"CDSView\"}},\"id\":\"3363\",\"type\":\"GlyphRenderer\"},{\"attributes\":{\"below\":[{\"id\":\"3390\",\"type\":\"LogAxis\"}],\"left\":[{\"id\":\"3395\",\"type\":\"LogAxis\"}],\"plot_height\":300,\"plot_width\":490,\"renderers\":[{\"id\":\"3390\",\"type\":\"LogAxis\"},{\"id\":\"3394\",\"type\":\"Grid\"},{\"id\":\"3395\",\"type\":\"LogAxis\"},{\"id\":\"3399\",\"type\":\"Grid\"},{\"id\":\"3408\",\"type\":\"BoxAnnotation\"},{\"id\":\"3418\",\"type\":\"GlyphRenderer\"},{\"id\":\"3434\",\"type\":\"Legend\"},{\"id\":\"3423\",\"type\":\"GlyphRenderer\"}],\"title\":{\"id\":\"3425\",\"type\":\"Title\"},\"toolbar\":{\"id\":\"3406\",\"type\":\"Toolbar\"},\"x_range\":{\"id\":\"3382\",\"type\":\"DataRange1d\"},\"x_scale\":{\"id\":\"3386\",\"type\":\"LogScale\"},\"y_range\":{\"id\":\"3384\",\"type\":\"DataRange1d\"},\"y_scale\":{\"id\":\"3388\",\"type\":\"LogScale\"}},\"id\":\"3381\",\"subtype\":\"Figure\",\"type\":\"Plot\"},{\"attributes\":{},\"id\":\"3345\",\"type\":\"PanTool\"},{\"attributes\":{},\"id\":\"3346\",\"type\":\"WheelZoomTool\"},{\"attributes\":{\"overlay\":{\"id\":\"3353\",\"type\":\"BoxAnnotation\"}},\"id\":\"3347\",\"type\":\"BoxZoomTool\"},{\"attributes\":{},\"id\":\"3348\",\"type\":\"SaveTool\"},{\"attributes\":{},\"id\":\"3349\",\"type\":\"ResetTool\"},{\"attributes\":{},\"id\":\"3350\",\"type\":\"HelpTool\"},{\"attributes\":{\"fill_color\":{\"value\":\"red\"},\"line_color\":{\"value\":\"red\"},\"x\":{\"field\":\"x\"},\"y\":{\"field\":\"y\"}},\"id\":\"3366\",\"type\":\"X\"},{\"attributes\":{\"fill_alpha\":{\"value\":0.1},\"fill_color\":{\"value\":\"#1f77b4\"},\"line_alpha\":{\"value\":0.1},\"line_color\":{\"value\":\"#1f77b4\"},\"x\":{\"field\":\"x\"},\"y\":{\"field\":\"y\"}},\"id\":\"3367\",\"type\":\"X\"},{\"attributes\":{\"data_source\":{\"id\":\"3365\",\"type\":\"ColumnDataSource\"},\"glyph\":{\"id\":\"3366\",\"type\":\"X\"},\"hover_glyph\":null,\"muted_glyph\":null,\"nonselection_glyph\":{\"id\":\"3367\",\"type\":\"X\"},\"selection_glyph\":null,\"view\":{\"id\":\"3369\",\"type\":\"CDSView\"}},\"id\":\"3368\",\"type\":\"GlyphRenderer\"},{\"attributes\":{\"source\":{\"id\":\"3365\",\"type\":\"ColumnDataSource\"}},\"id\":\"3369\",\"type\":\"CDSView\"},{\"attributes\":{\"plot\":null,\"text\":\"\"},\"id\":\"3370\",\"type\":\"Title\"},{\"attributes\":{\"ticker\":null},\"id\":\"3372\",\"type\":\"LogTickFormatter\"},{\"attributes\":{\"fill_color\":{\"value\":\"#1f77b4\"},\"line_color\":{\"value\":\"#1f77b4\"},\"size\":{\"units\":\"screen\",\"value\":5},\"x\":{\"field\":\"x\"},\"y\":{\"field\":\"y\"}},\"id\":\"3361\",\"type\":\"X\"},{\"attributes\":{},\"id\":\"3374\",\"type\":\"BasicTickFormatter\"},{\"attributes\":{},\"id\":\"3376\",\"type\":\"UnionRenderers\"},{\"attributes\":{},\"id\":\"3377\",\"type\":\"Selection\"},{\"attributes\":{\"items\":[{\"id\":\"3380\",\"type\":\"LegendItem\"}],\"plot\":{\"id\":\"3326\",\"subtype\":\"Figure\",\"type\":\"Plot\"}},\"id\":\"3379\",\"type\":\"Legend\"},{\"attributes\":{\"label\":{\"value\":\"erreur r\\u00e9siduelle\"},\"renderers\":[{\"id\":\"3368\",\"type\":\"GlyphRenderer\"}]},\"id\":\"3380\",\"type\":\"LegendItem\"},{\"attributes\":{\"bottom_units\":\"screen\",\"fill_alpha\":{\"value\":0.5},\"fill_color\":{\"value\":\"lightgrey\"},\"left_units\":\"screen\",\"level\":\"overlay\",\"line_alpha\":{\"value\":1.0},\"line_color\":{\"value\":\"black\"},\"line_dash\":[4,4],\"line_width\":{\"value\":2},\"plot\":null,\"render_mode\":\"css\",\"right_units\":\"screen\",\"top_units\":\"screen\"},\"id\":\"3353\",\"type\":\"BoxAnnotation\"},{\"attributes\":{\"callback\":null,\"data\":{\"x\":{\"__ndarray__\":\"mpmZmZmZ2T+amZmZmZm5P1M1dueHwMA/akWk1P81rT/NG+g0BWukP2dM7EUWEJg/vZxlS81Ljj+Wn/hGY5iCP2CYCxYODHc/4KHiF4p1bD8/cP32e5hhP2zlCDYIv1U/+rZ/G6DhSj/C+7DF/JxAP+EU7IwGiTQ/7X5wTAViKT+weM5PAWAfP9KGdMYMZBM/0nzieuf3Bz/4jjLrZKD9PtI8Ht1pT/I+YtZaMvah5j5mbaEFu/nbPjaQjWExStE+rqAGRxNfxT7+K7b4nmq6PojcNpWHU7A+AlsOxy4upD5YjbfGwPGYPj7TzY451Y4+f3qg/kcOgz6UFVsg4413PiaRy7lZHW0+J6Xqhmz+YT7i0sFl2j1WPlfxJlD9fUs+3bNce7f9QD47e5SpiwA1Pt3YSZrG9Sk+oh3fuFALID5ydtXC69QTPqeJ0V1rgwg+esayT9hM/j3VTPBr/rnyPUjzhMezJec9wky3IJKc3D3QmVJu1a7RPeJlyWR528U9gJu372IEuz1CMNvZj7KwPXzWuCumo6Q9DhT7D/OCmT3SMe2OsoiPPUr2CJEzfYM9EHfI+/0WeD0I65JM0sZtPRYD/qopZ2I95M8pQ1G/Vj2TbKQlBB5MPTMzr2CeYEE9wnLqict6NT1I5+du4owqPTz+7KS0aCA9FtL1k1tIFD3FVMhrGxIJPcyeRng3/f48wApKX/8m8zwXKPkxcKznPNDaNRkdQ908XnW8SsMV0jziyvKcs1rGPA==\",\"dtype\":\"float64\",\"shape\":[71]},\"y\":{\"__ndarray__\":\"mpmZmZmZuT9TNXbnh8DAP2pFpNT/Na0/zRvoNAVrpD9nTOxFFhCYP72cZUvNS44/lp/4RmOYgj9gmAsWDgx3P+Ch4heKdWw/P3D99nuYYT9s5Qg2CL9VP/q2fxug4Uo/wvuwxfycQD/hFOyMBok0P+1+cEwFYik/sHjOTwFgHz/ShnTGDGQTP9J84nrn9wc/+I4y62Sg/T7SPB7daU/yPmLWWjL2oeY+Zm2hBbv52z42kI1hMUrRPq6gBkcTX8U+/iu2+J5quj6I3DaVh1OwPgJbDscuLqQ+WI23xsDxmD4+082OOdWOPn96oP5HDoM+lBVbIOONdz4mkcu5WR1tPiel6oZs/mE+4tLBZdo9Vj5X8SZQ/X1LPt2zXHu3/UA+O3uUqYsANT7d2EmaxvUpPqId37hQCyA+cnbVwuvUEz6nidFda4MIPnrGsk/YTP491Uzwa/658j1I84THsyXnPcJMtyCSnNw90JlSbtWu0T3iZclkedvFPYCbt+9iBLs9QjDb2Y+ysD181rgrpqOkPQ4U+w/zgpk90jHtjrKIjz1K9giRM32DPRB3yPv9Fng9COuSTNLGbT0WA/6qKWdiPeTPKUNRv1Y9k2ykJQQeTD0zM69gnmBBPcJy6onLejU9SOfnbuKMKj08/uyktGggPRbS9ZNbSBQ9xVTIaxsSCT3MnkZ4N/3+PMAKSl//JvM8Fyj5MXCs5zzQ2jUZHUPdPF51vErDFdI84srynLNaxjwAAAAAAAAAAA==\",\"dtype\":\"float64\",\"shape\":[71]}},\"selected\":{\"id\":\"3432\",\"type\":\"Selection\"},\"selection_policy\":{\"id\":\"3431\",\"type\":\"UnionRenderers\"}},\"id\":\"3415\",\"type\":\"ColumnDataSource\"},{\"attributes\":{\"callback\":null},\"id\":\"3382\",\"type\":\"DataRange1d\"},{\"attributes\":{},\"id\":\"3606\",\"type\":\"Selection\"},{\"attributes\":{\"callback\":null},\"id\":\"3384\",\"type\":\"DataRange1d\"},{\"attributes\":{},\"id\":\"3610\",\"type\":\"UnionRenderers\"},{\"attributes\":{},\"id\":\"3386\",\"type\":\"LogScale\"},{\"attributes\":{},\"id\":\"3611\",\"type\":\"Selection\"},{\"attributes\":{},\"id\":\"3388\",\"type\":\"LogScale\"},{\"attributes\":{},\"id\":\"3432\",\"type\":\"Selection\"},{\"attributes\":{\"formatter\":{\"id\":\"3429\",\"type\":\"LogTickFormatter\"},\"plot\":{\"id\":\"3381\",\"subtype\":\"Figure\",\"type\":\"Plot\"},\"ticker\":{\"id\":\"3391\",\"type\":\"LogTicker\"}},\"id\":\"3390\",\"type\":\"LogAxis\"},{\"attributes\":{\"active_drag\":\"auto\",\"active_inspect\":\"auto\",\"active_multi\":null,\"active_scroll\":\"auto\",\"active_tap\":\"auto\",\"tools\":[{\"id\":\"3345\",\"type\":\"PanTool\"},{\"id\":\"3346\",\"type\":\"WheelZoomTool\"},{\"id\":\"3347\",\"type\":\"BoxZoomTool\"},{\"id\":\"3348\",\"type\":\"SaveTool\"},{\"id\":\"3349\",\"type\":\"ResetTool\"},{\"id\":\"3350\",\"type\":\"HelpTool\"}]},\"id\":\"3351\",\"type\":\"Toolbar\"},{\"attributes\":{\"callback\":null,\"data\":{\"x\":[0,1,2,3,4,5,6,7,8,9,10,11,12,13,14,15,16,17,18,19,20,21,22,23,24,25,26,27,28,29,30,31,32,33,34,35,36,37,38,39,40,41,42,43,44,45,46,47,48,49,50,51,52,53,54,55,56,57,58,59,60,61,62,63,64,65,66,67,68,69,70,71],\"y\":{\"__ndarray__\":\"mpmZmZmZ2T+amZmZmZm5P1M1dueHwMA/akWk1P81rT/NG+g0BWukP2dM7EUWEJg/vZxlS81Ljj+Wn/hGY5iCP2CYCxYODHc/4KHiF4p1bD8/cP32e5hhP2zlCDYIv1U/+rZ/G6DhSj/C+7DF/JxAP+EU7IwGiTQ/7X5wTAViKT+weM5PAWAfP9KGdMYMZBM/0nzieuf3Bz/4jjLrZKD9PtI8Ht1pT/I+YtZaMvah5j5mbaEFu/nbPjaQjWExStE+rqAGRxNfxT7+K7b4nmq6PojcNpWHU7A+AlsOxy4upD5YjbfGwPGYPj7TzY451Y4+f3qg/kcOgz6UFVsg4413PiaRy7lZHW0+J6Xqhmz+YT7i0sFl2j1WPlfxJlD9fUs+3bNce7f9QD47e5SpiwA1Pt3YSZrG9Sk+oh3fuFALID5ydtXC69QTPqeJ0V1rgwg+esayT9hM/j3VTPBr/rnyPUjzhMezJec9wky3IJKc3D3QmVJu1a7RPeJlyWR528U9gJu372IEuz1CMNvZj7KwPXzWuCumo6Q9DhT7D/OCmT3SMe2OsoiPPUr2CJEzfYM9EHfI+/0WeD0I65JM0sZtPRYD/qopZ2I95M8pQ1G/Vj2TbKQlBB5MPTMzr2CeYEE9wnLqict6NT1I5+du4owqPTz+7KS0aCA9FtL1k1tIFD3FVMhrGxIJPcyeRng3/f48wApKX/8m8zwXKPkxcKznPNDaNRkdQ908XnW8SsMV0jziyvKcs1rGPAAAAAAAAAAA\",\"dtype\":\"float64\",\"shape\":[72]}},\"selected\":{\"id\":\"3377\",\"type\":\"Selection\"},\"selection_policy\":{\"id\":\"3376\",\"type\":\"UnionRenderers\"}},\"id\":\"3360\",\"type\":\"ColumnDataSource\"},{\"attributes\":{\"num_minor_ticks\":10},\"id\":\"3391\",\"type\":\"LogTicker\"},{\"attributes\":{\"plot\":{\"id\":\"3381\",\"subtype\":\"Figure\",\"type\":\"Plot\"},\"ticker\":{\"id\":\"3391\",\"type\":\"LogTicker\"}},\"id\":\"3394\",\"type\":\"Grid\"},{\"attributes\":{\"formatter\":{\"id\":\"3427\",\"type\":\"LogTickFormatter\"},\"plot\":{\"id\":\"3381\",\"subtype\":\"Figure\",\"type\":\"Plot\"},\"ticker\":{\"id\":\"3396\",\"type\":\"LogTicker\"}},\"id\":\"3395\",\"type\":\"LogAxis\"},{\"attributes\":{\"num_minor_ticks\":10},\"id\":\"3396\",\"type\":\"LogTicker\"},{\"attributes\":{\"dimension\":1,\"plot\":{\"id\":\"3381\",\"subtype\":\"Figure\",\"type\":\"Plot\"},\"ticker\":{\"id\":\"3396\",\"type\":\"LogTicker\"}},\"id\":\"3399\",\"type\":\"Grid\"},{\"attributes\":{\"fill_alpha\":{\"value\":0.1},\"fill_color\":{\"value\":\"#1f77b4\"},\"line_alpha\":{\"value\":0.1},\"line_color\":{\"value\":\"#1f77b4\"},\"size\":{\"units\":\"screen\",\"value\":5},\"x\":{\"field\":\"x\"},\"y\":{\"field\":\"y\"}},\"id\":\"3417\",\"type\":\"X\"},{\"attributes\":{\"fill_color\":{\"value\":\"#1f77b4\"},\"line_color\":{\"value\":\"#1f77b4\"},\"size\":{\"units\":\"screen\",\"value\":5},\"x\":{\"field\":\"x\"},\"y\":{\"field\":\"y\"}},\"id\":\"3416\",\"type\":\"X\"},{\"attributes\":{},\"id\":\"3400\",\"type\":\"PanTool\"},{\"attributes\":{},\"id\":\"3401\",\"type\":\"WheelZoomTool\"},{\"attributes\":{\"callback\":null,\"data\":{\"x\":[0,1,2,3,4,5,6,7,8,9,10,11,12,13,14,15,16,17,18,19,20,21,22,23,24,25,26,27,28,29,30,31,32,33,34,35,36,37,38,39,40,41,42,43,44,45,46,47,48,49,50,51,52,53,54,55,56,57,58,59,60,61,62,63,64,65,66,67,68,69,70,71],\"y\":{\"__ndarray__\":\"r9hfdk8e1j+/MJkqGJWUP6qj5NqQsKE//8Jp5Va1ej/yy52vphNqPxWSVedwGVI/EzdNKqKvPD8AeSsixZwlP66vtgJqmRA/R79VaGtP+T4WUdCQt1njPuLsrRZgjs0+Cl3OgtuUtj5IRjwB/j+hPs5OM/YlW4o+NF86jlQidD5FPzGWIsNePozFI/gPgEc+v6b5RN3zMT4p5+jc2m0bPhy+tVk49AQ+TMABQuYB8D3KaE+ECHXYPUlGrPgAr8I9RXR0j8eLrD2tm22Upc6VPVnGlj3DqIA9Xj0lP/pzaT2s102Ow3FTPTiIZrJYtT09qK/+u/exJj3yJFyea1YRPctNXYxNffo8xFpOV3Q85DxAAcK0B+vOPLEjGYKLnrc8EtWOOSYLojz03OihbpGLPNyF/v5lD3U8HK9TcqkWYDyVBvhjwZRIPI6uMsU8xzI8B/qfHs6wHDy2ZyqO7uoFPCWGftpevvA7KgybzP2U2Tu7F673+4rDO5e7UDfh2607l6dzjmfPljs6/3J56GyBO/u5xj2pn2o7FmIQp7NWVDs8yY7mIRM/O7Sm1S4uvSc7S8PGfo0iEjvb8aN6MLX7OtKQoem2KuU6jJ05j4cr0Dri26Zpo7S4Ov86HACY36I61eQbtATWjDoJhcU3XAd2OtmKMX4W1GA6/lkmLCy2STogxVkXVaQzOqRtArebAh46y2hAj/3sBjouvnh/goPxOeOjpX8xwto51uUbAhVxxDkUpyEccDuvOQAAAAAAAAAA\",\"dtype\":\"float64\",\"shape\":[72]}},\"selected\":{\"id\":\"3606\",\"type\":\"Selection\"},\"selection_policy\":{\"id\":\"3605\",\"type\":\"UnionRenderers\"}},\"id\":\"3365\",\"type\":\"ColumnDataSource\"},{\"attributes\":{\"overlay\":{\"id\":\"3408\",\"type\":\"BoxAnnotation\"}},\"id\":\"3402\",\"type\":\"BoxZoomTool\"},{\"attributes\":{},\"id\":\"3403\",\"type\":\"SaveTool\"},{\"attributes\":{},\"id\":\"3404\",\"type\":\"ResetTool\"},{\"attributes\":{},\"id\":\"3405\",\"type\":\"HelpTool\"},{\"attributes\":{\"active_drag\":\"auto\",\"active_inspect\":\"auto\",\"active_multi\":null,\"active_scroll\":\"auto\",\"active_tap\":\"auto\",\"tools\":[{\"id\":\"3400\",\"type\":\"PanTool\"},{\"id\":\"3401\",\"type\":\"WheelZoomTool\"},{\"id\":\"3402\",\"type\":\"BoxZoomTool\"},{\"id\":\"3403\",\"type\":\"SaveTool\"},{\"id\":\"3404\",\"type\":\"ResetTool\"},{\"id\":\"3405\",\"type\":\"HelpTool\"}]},\"id\":\"3406\",\"type\":\"Toolbar\"},{\"attributes\":{\"data_source\":{\"id\":\"3415\",\"type\":\"ColumnDataSource\"},\"glyph\":{\"id\":\"3416\",\"type\":\"X\"},\"hover_glyph\":null,\"muted_glyph\":null,\"nonselection_glyph\":{\"id\":\"3417\",\"type\":\"X\"},\"selection_glyph\":null,\"view\":{\"id\":\"3419\",\"type\":\"CDSView\"}},\"id\":\"3418\",\"type\":\"GlyphRenderer\"},{\"attributes\":{\"bottom_units\":\"screen\",\"fill_alpha\":{\"value\":0.5},\"fill_color\":{\"value\":\"lightgrey\"},\"left_units\":\"screen\",\"level\":\"overlay\",\"line_alpha\":{\"value\":1.0},\"line_color\":{\"value\":\"black\"},\"line_dash\":[4,4],\"line_width\":{\"value\":2},\"plot\":null,\"render_mode\":\"css\",\"right_units\":\"screen\",\"top_units\":\"screen\"},\"id\":\"3408\",\"type\":\"BoxAnnotation\"},{\"attributes\":{\"source\":{\"id\":\"3415\",\"type\":\"ColumnDataSource\"}},\"id\":\"3419\",\"type\":\"CDSView\"},{\"attributes\":{\"line_color\":\"red\",\"x\":{\"field\":\"x\"},\"y\":{\"field\":\"y\"}},\"id\":\"3421\",\"type\":\"Line\"},{\"attributes\":{\"callback\":null,\"data\":{\"x\":{\"__ndarray__\":\"mpmZmZmZ2T+amZmZmZm5P1M1dueHwMA/akWk1P81rT/NG+g0BWukP2dM7EUWEJg/vZxlS81Ljj+Wn/hGY5iCP2CYCxYODHc/4KHiF4p1bD8/cP32e5hhP2zlCDYIv1U/+rZ/G6DhSj/C+7DF/JxAP+EU7IwGiTQ/7X5wTAViKT+weM5PAWAfP9KGdMYMZBM/0nzieuf3Bz/4jjLrZKD9PtI8Ht1pT/I+YtZaMvah5j5mbaEFu/nbPjaQjWExStE+rqAGRxNfxT7+K7b4nmq6PojcNpWHU7A+AlsOxy4upD5YjbfGwPGYPj7TzY451Y4+f3qg/kcOgz6UFVsg4413PiaRy7lZHW0+J6Xqhmz+YT7i0sFl2j1WPlfxJlD9fUs+3bNce7f9QD47e5SpiwA1Pt3YSZrG9Sk+oh3fuFALID5ydtXC69QTPqeJ0V1rgwg+esayT9hM/j3VTPBr/rnyPUjzhMezJec9wky3IJKc3D3QmVJu1a7RPeJlyWR528U9gJu372IEuz1CMNvZj7KwPXzWuCumo6Q9DhT7D/OCmT3SMe2OsoiPPUr2CJEzfYM9EHfI+/0WeD0I65JM0sZtPRYD/qopZ2I95M8pQ1G/Vj2TbKQlBB5MPTMzr2CeYEE9wnLqict6NT1I5+du4owqPTz+7KS0aCA9FtL1k1tIFD3FVMhrGxIJPcyeRng3/f48wApKX/8m8zwXKPkxcKznPNDaNRkdQ908XnW8SsMV0jziyvKcs1rGPA==\",\"dtype\":\"float64\",\"shape\":[71]},\"y\":{\"__ndarray__\":\"mpmZmZmZ2T+amZmZmZm5P1M1dueHwMA/akWk1P81rT/NG+g0BWukP2dM7EUWEJg/vZxlS81Ljj+Wn/hGY5iCP2CYCxYODHc/4KHiF4p1bD8/cP32e5hhP2zlCDYIv1U/+rZ/G6DhSj/C+7DF/JxAP+EU7IwGiTQ/7X5wTAViKT+weM5PAWAfP9KGdMYMZBM/0nzieuf3Bz/4jjLrZKD9PtI8Ht1pT/I+YtZaMvah5j5mbaEFu/nbPjaQjWExStE+rqAGRxNfxT7+K7b4nmq6PojcNpWHU7A+AlsOxy4upD5YjbfGwPGYPj7TzY451Y4+f3qg/kcOgz6UFVsg4413PiaRy7lZHW0+J6Xqhmz+YT7i0sFl2j1WPlfxJlD9fUs+3bNce7f9QD47e5SpiwA1Pt3YSZrG9Sk+oh3fuFALID5ydtXC69QTPqeJ0V1rgwg+esayT9hM/j3VTPBr/rnyPUjzhMezJec9wky3IJKc3D3QmVJu1a7RPeJlyWR528U9gJu372IEuz1CMNvZj7KwPXzWuCumo6Q9DhT7D/OCmT3SMe2OsoiPPUr2CJEzfYM9EHfI+/0WeD0I65JM0sZtPRYD/qopZ2I95M8pQ1G/Vj2TbKQlBB5MPTMzr2CeYEE9wnLqict6NT1I5+du4owqPTz+7KS0aCA9FtL1k1tIFD3FVMhrGxIJPcyeRng3/f48wApKX/8m8zwXKPkxcKznPNDaNRkdQ908XnW8SsMV0jziyvKcs1rGPA==\",\"dtype\":\"float64\",\"shape\":[71]}},\"selected\":{\"id\":\"3611\",\"type\":\"Selection\"},\"selection_policy\":{\"id\":\"3610\",\"type\":\"UnionRenderers\"}},\"id\":\"3420\",\"type\":\"ColumnDataSource\"},{\"attributes\":{\"line_alpha\":0.1,\"line_color\":\"#1f77b4\",\"x\":{\"field\":\"x\"},\"y\":{\"field\":\"y\"}},\"id\":\"3422\",\"type\":\"Line\"},{\"attributes\":{\"data_source\":{\"id\":\"3420\",\"type\":\"ColumnDataSource\"},\"glyph\":{\"id\":\"3421\",\"type\":\"Line\"},\"hover_glyph\":null,\"muted_glyph\":null,\"nonselection_glyph\":{\"id\":\"3422\",\"type\":\"Line\"},\"selection_glyph\":null,\"view\":{\"id\":\"3424\",\"type\":\"CDSView\"}},\"id\":\"3423\",\"type\":\"GlyphRenderer\"},{\"attributes\":{\"source\":{\"id\":\"3420\",\"type\":\"ColumnDataSource\"}},\"id\":\"3424\",\"type\":\"CDSView\"},{\"attributes\":{\"plot\":null,\"text\":\"\"},\"id\":\"3425\",\"type\":\"Title\"},{\"attributes\":{\"ticker\":null},\"id\":\"3427\",\"type\":\"LogTickFormatter\"},{\"attributes\":{\"ticker\":null},\"id\":\"3429\",\"type\":\"LogTickFormatter\"},{\"attributes\":{},\"id\":\"3431\",\"type\":\"UnionRenderers\"},{\"attributes\":{\"items\":[{\"id\":\"3435\",\"type\":\"LegendItem\"}],\"plot\":{\"id\":\"3381\",\"subtype\":\"Figure\",\"type\":\"Plot\"}},\"id\":\"3434\",\"type\":\"Legend\"},{\"attributes\":{\"label\":{\"value\":\"ordre 1\"},\"renderers\":[{\"id\":\"3423\",\"type\":\"GlyphRenderer\"}]},\"id\":\"3435\",\"type\":\"LegendItem\"}],\"root_ids\":[\"3436\"]},\"title\":\"Bokeh Application\",\"version\":\"1.0.4\"}};\n",
       "  var render_items = [{\"docid\":\"2fab488c-6801-48a6-b90d-bfe42b835d04\",\"roots\":{\"3436\":\"c2eac9ca-a469-4bcd-a9f9-4c8421bd3b81\"}}];\n",
       "  root.Bokeh.embed.embed_items_notebook(docs_json, render_items);\n",
       "\n",
       "  }\n",
       "  if (root.Bokeh !== undefined) {\n",
       "    embed_document(root);\n",
       "  } else {\n",
       "    var attempts = 0;\n",
       "    var timer = setInterval(function(root) {\n",
       "      if (root.Bokeh !== undefined) {\n",
       "        embed_document(root);\n",
       "        clearInterval(timer);\n",
       "      }\n",
       "      attempts++;\n",
       "      if (attempts > 100) {\n",
       "        console.log(\"Bokeh: ERROR: Unable to run BokehJS code because BokehJS library is missing\");\n",
       "        clearInterval(timer);\n",
       "      }\n",
       "    }, 10, root)\n",
       "  }\n",
       "})(window);"
      ],
      "application/vnd.bokehjs_exec.v0+json": ""
     },
     "metadata": {
      "application/vnd.bokehjs_exec.v0+json": {
       "id": "3436"
      }
     },
     "output_type": "display_data"
    }
   ],
   "source": [
    "xstar = 0.\n",
    "xsol = my_secante(k,x0=0.4, x1=-0.1, xstar=xstar, tol=1.e-15, nitmax=100)\n",
    "print(f\"Convergence de l'algorithme de la sécante en {xsol.size-1} itérations\")\n",
    "print(f\"--> solution de k(x) = 0 obtenue pour  x = {xsol[-1]}\")\n",
    "\n",
    "err = np.abs(xsol - xstar)\n",
    "\n",
    "fig1 = figure(width=490, height=300, y_axis_type=\"log\")\n",
    "fig1.x(range(xsol.size), err, size=5)\n",
    "fig1.x(range(xsol.size),np.abs(k(xsol)),color='red',legend=\"erreur résiduelle\")\n",
    "\n",
    "fig2 = figure(width=490, height=300, x_axis_type=\"log\", y_axis_type=\"log\")\n",
    "fig2.x(err[:-1], err[1:], size=5)\n",
    "rho=0.5*(1+np.sqrt(5))\n",
    "fig2.line(err[:-1], err[:-1],  color=\"red\", legend=\"ordre 1\")\n",
    "\n",
    "show(row(fig1, fig2))"
   ]
  },
  {
   "cell_type": "markdown",
   "metadata": {},
   "source": [
    "Pour la fonction h (resp. k): 0 est dégénéré trois(resp. deux) fois. Par conséquent le théorème ne s'applique pas et on retrouve de la même façon que précédemment une convergence d'ordre 1."
   ]
  },
  {
   "cell_type": "markdown",
   "metadata": {},
   "source": [
    "# Dans la suite, on essaie de rajouter un paramètre m comme pour la méthode de newton:"
   ]
  },
  {
   "cell_type": "code",
   "execution_count": 20,
   "metadata": {},
   "outputs": [],
   "source": [
    "def my_secante_modif(f,m, x0, x1, xstar, tol=1.e-12, nitmax=50):\n",
    "   \n",
    "    # initialisation\n",
    "    x = np.zeros(nitmax+2)\n",
    "    x[0] = x0\n",
    "    x[1] = x1\n",
    "    \n",
    "    # iteration de la méthode de la sécante\n",
    "    for i in range(2, nitmax+1):\n",
    "        x[i] = x[i-1] - m*f(x[i-1])*(x[i-1]-x[i-2])/(f(x[i-1])-f(x[i-2]))\n",
    "        if ( abs(x[i] - xstar) < tol) : break\n",
    "\n",
    "\n",
    "    return x[0:i+2]"
   ]
  },
  {
   "cell_type": "code",
   "execution_count": 21,
   "metadata": {},
   "outputs": [
    {
     "name": "stdout",
     "output_type": "stream",
     "text": [
      "Convergence de l'algorithme de la sécante en 66 itérations\n",
      "--> solution de k(x) = 0 obtenue pour  x = 0.0\n"
     ]
    },
    {
     "data": {
      "text/html": [
       "\n",
       "\n",
       "\n",
       "\n",
       "\n",
       "\n",
       "  <div class=\"bk-root\" id=\"fc64aa72-29d5-4e3b-b4d7-2fd8c59253d1\" data-root-id=\"3855\"></div>\n"
      ]
     },
     "metadata": {},
     "output_type": "display_data"
    },
    {
     "data": {
      "application/javascript": [
       "(function(root) {\n",
       "  function embed_document(root) {\n",
       "    \n",
       "  var docs_json = {\"a559c9f1-8ed7-46da-8564-4cc9529992eb\":{\"roots\":{\"references\":[{\"attributes\":{\"children\":[{\"id\":\"3745\",\"subtype\":\"Figure\",\"type\":\"Plot\"},{\"id\":\"3800\",\"subtype\":\"Figure\",\"type\":\"Plot\"}]},\"id\":\"3855\",\"type\":\"Row\"},{\"attributes\":{\"formatter\":{\"id\":\"3791\",\"type\":\"LogTickFormatter\"},\"plot\":{\"id\":\"3745\",\"subtype\":\"Figure\",\"type\":\"Plot\"},\"ticker\":{\"id\":\"3760\",\"type\":\"LogTicker\"}},\"id\":\"3759\",\"type\":\"LogAxis\"},{\"attributes\":{\"callback\":null,\"data\":{\"x\":[0,1,2,3,4,5,6,7,8,9,10,11,12,13,14,15,16,17,18,19,20,21,22,23,24,25,26,27,28,29,30,31,32,33,34,35,36,37,38,39,40,41,42,43,44,45,46,47,48,49,50,51,52,53,54,55,56,57,58,59,60,61,62,63,64,65,66],\"y\":{\"__ndarray__\":\"mpmZmZmZ2T+amZmZmZm5P9mdHwJDtMQ/rDl8BPgIoz8ZZxk4BkCuP3zH8kSKbos/oBg76oC+lT8gN9O3o65zP+2qSEFdMX8/9JvK/mg6XD/qTHo6EV5mP8w7UZevPUQ/NAghl9gJUD/It/Cv+AYtP3C/roEfADc/yMbptE/QFD8CGC6CBn4gP/AHcwc82f0+fi3k2LqmBz/0/0/hE2flPuUf9St99fA+qDNZDnKxzj7wgureDFLYPmgH9hscArY+xpyuKlVwwT6QC+I4xo+fPjpCH943Aqk+6F37U4ehhj5CDPD9pu6RPjDekWwyOnA+nGpC9F63eT5w+wFQdUVXPtG0WtOLcGI+0GNVwL2vQD6QLNE8pnFKPsiXsrwG7ic+95Lijh32Mj6UrIiFnCgRPhgY0tgyMRs+SIBjM12b+D3SmgXQdn8DPlhmrtPmpOE9ekM+9ir26z04nctAm03JPRFsGveyDNQ9+DPMcLUksj2lfJ3XtcC8PSxi5WvkBJo99DnFKu6dpD3wxFrWIaiCPZyO2dv7kI09aJ0DPV3Baj2SOJRdRTN1PUixWTZGL1M9uzVKhiZnXj2UkhlFK4M7PR6vxFPWzEU9RB2IgD26Iz2fXfuGYEMvPYTUNyV1Sgw9qNUxqb9qFj34LsNnI0n0PBunl+HqEgA9OFs/lmIX3TxirG7XIA3nPAxoi2cU3MQ8AAAAAAAAAAA=\",\"dtype\":\"float64\",\"shape\":[67]}},\"selected\":{\"id\":\"3796\",\"type\":\"Selection\"},\"selection_policy\":{\"id\":\"3795\",\"type\":\"UnionRenderers\"}},\"id\":\"3779\",\"type\":\"ColumnDataSource\"},{\"attributes\":{},\"id\":\"3822\",\"type\":\"SaveTool\"},{\"attributes\":{},\"id\":\"4046\",\"type\":\"UnionRenderers\"},{\"attributes\":{\"num_minor_ticks\":10},\"id\":\"3760\",\"type\":\"LogTicker\"},{\"attributes\":{},\"id\":\"3823\",\"type\":\"ResetTool\"},{\"attributes\":{},\"id\":\"3769\",\"type\":\"HelpTool\"},{\"attributes\":{},\"id\":\"3824\",\"type\":\"HelpTool\"},{\"attributes\":{\"callback\":null,\"data\":{\"x\":[0,1,2,3,4,5,6,7,8,9,10,11,12,13,14,15,16,17,18,19,20,21,22,23,24,25,26,27,28,29,30,31,32,33,34,35,36,37,38,39,40,41,42,43,44,45,46,47,48,49,50,51,52,53,54,55,56,57,58,59,60,61,62,63,64,65,66],\"y\":{\"__ndarray__\":\"r9hfdk8e1j+/MJkqGJWUP+kFAEZPJKs//O5ru1OpZj9vFvSnUqV8P4OLoWyRhDc//+53PqOOTT+Vbq1VSTYIP9vXjp0qaB4/zujkx6Tm2D4A2c8O4ETvPj9LqR4lm6k+0kGcvrcTwD6iJ4hOpFR6Phkan1stiJA+cc2jX18TSz7lJiOt7f9gPhaVRoR/1xs+taThThF7MT6yAIY/LKHsPfLKKeWw+QE+lFo90o1wvT0wuVyw5XvSPZIQHZTNRY490hzOpMkBoz3KPp4GFiFfPewqbnJ3i3M9NQBzb0kBMD02pW+KChlEPWPHVYc4dQA9oUDLJJ+qFD3V85lmb+zQPO7/4EVSQOU8cWxE0AVnoTwiBUHEQdq1PN0FeTMU5XE8xByeTox4hjxdSlmws2ZCPGBX63FRG1c8XIcGHf7rEjyQ76WfscInPHQhyAoOdeM79rxMNM5u+DvENVfL/gG0O8F+Bn7JH8k7/5ZQduyShDvLUHjDxtWZO9E7zu7zJ1U7UajNSuqQajuyPCnpMsElO0o/82BZUTs7fYbl8Mde9jqqXgZhOhcMO0ZwyG7SAMc6nAP6u7Ti3DoEaxuvcqeXOqRlcwDxs606QAoc6MlSaDoabt/iGIt+OnGumkD6Ajk6YL7CRVdoTzoPI8nWJrgJOm/2IiHsJSA6bos6x3Ny2jlB1n+Y5JrwOUYDFjQGMqs5AAAAAAAAAAA=\",\"dtype\":\"float64\",\"shape\":[67]}},\"selected\":{\"id\":\"4047\",\"type\":\"Selection\"},\"selection_policy\":{\"id\":\"4046\",\"type\":\"UnionRenderers\"}},\"id\":\"3784\",\"type\":\"ColumnDataSource\"},{\"attributes\":{\"active_drag\":\"auto\",\"active_inspect\":\"auto\",\"active_multi\":null,\"active_scroll\":\"auto\",\"active_tap\":\"auto\",\"tools\":[{\"id\":\"3764\",\"type\":\"PanTool\"},{\"id\":\"3765\",\"type\":\"WheelZoomTool\"},{\"id\":\"3766\",\"type\":\"BoxZoomTool\"},{\"id\":\"3767\",\"type\":\"SaveTool\"},{\"id\":\"3768\",\"type\":\"ResetTool\"},{\"id\":\"3769\",\"type\":\"HelpTool\"}]},\"id\":\"3770\",\"type\":\"Toolbar\"},{\"attributes\":{\"below\":[{\"id\":\"3754\",\"type\":\"LinearAxis\"}],\"left\":[{\"id\":\"3759\",\"type\":\"LogAxis\"}],\"plot_height\":300,\"plot_width\":490,\"renderers\":[{\"id\":\"3754\",\"type\":\"LinearAxis\"},{\"id\":\"3758\",\"type\":\"Grid\"},{\"id\":\"3759\",\"type\":\"LogAxis\"},{\"id\":\"3763\",\"type\":\"Grid\"},{\"id\":\"3772\",\"type\":\"BoxAnnotation\"},{\"id\":\"3782\",\"type\":\"GlyphRenderer\"},{\"id\":\"3798\",\"type\":\"Legend\"},{\"id\":\"3787\",\"type\":\"GlyphRenderer\"}],\"title\":{\"id\":\"3789\",\"type\":\"Title\"},\"toolbar\":{\"id\":\"3770\",\"type\":\"Toolbar\"},\"x_range\":{\"id\":\"3746\",\"type\":\"DataRange1d\"},\"x_scale\":{\"id\":\"3750\",\"type\":\"LinearScale\"},\"y_range\":{\"id\":\"3748\",\"type\":\"DataRange1d\"},\"y_scale\":{\"id\":\"3752\",\"type\":\"LogScale\"}},\"id\":\"3745\",\"subtype\":\"Figure\",\"type\":\"Plot\"},{\"attributes\":{\"active_drag\":\"auto\",\"active_inspect\":\"auto\",\"active_multi\":null,\"active_scroll\":\"auto\",\"active_tap\":\"auto\",\"tools\":[{\"id\":\"3819\",\"type\":\"PanTool\"},{\"id\":\"3820\",\"type\":\"WheelZoomTool\"},{\"id\":\"3821\",\"type\":\"BoxZoomTool\"},{\"id\":\"3822\",\"type\":\"SaveTool\"},{\"id\":\"3823\",\"type\":\"ResetTool\"},{\"id\":\"3824\",\"type\":\"HelpTool\"}]},\"id\":\"3825\",\"type\":\"Toolbar\"},{\"attributes\":{\"bottom_units\":\"screen\",\"fill_alpha\":{\"value\":0.5},\"fill_color\":{\"value\":\"lightgrey\"},\"left_units\":\"screen\",\"level\":\"overlay\",\"line_alpha\":{\"value\":1.0},\"line_color\":{\"value\":\"black\"},\"line_dash\":[4,4],\"line_width\":{\"value\":2},\"plot\":null,\"render_mode\":\"css\",\"right_units\":\"screen\",\"top_units\":\"screen\"},\"id\":\"3772\",\"type\":\"BoxAnnotation\"},{\"attributes\":{\"bottom_units\":\"screen\",\"fill_alpha\":{\"value\":0.5},\"fill_color\":{\"value\":\"lightgrey\"},\"left_units\":\"screen\",\"level\":\"overlay\",\"line_alpha\":{\"value\":1.0},\"line_color\":{\"value\":\"black\"},\"line_dash\":[4,4],\"line_width\":{\"value\":2},\"plot\":null,\"render_mode\":\"css\",\"right_units\":\"screen\",\"top_units\":\"screen\"},\"id\":\"3827\",\"type\":\"BoxAnnotation\"},{\"attributes\":{\"source\":{\"id\":\"3779\",\"type\":\"ColumnDataSource\"}},\"id\":\"3783\",\"type\":\"CDSView\"},{\"attributes\":{\"source\":{\"id\":\"3834\",\"type\":\"ColumnDataSource\"}},\"id\":\"3838\",\"type\":\"CDSView\"},{\"attributes\":{\"below\":[{\"id\":\"3809\",\"type\":\"LogAxis\"}],\"left\":[{\"id\":\"3814\",\"type\":\"LogAxis\"}],\"plot_height\":300,\"plot_width\":490,\"renderers\":[{\"id\":\"3809\",\"type\":\"LogAxis\"},{\"id\":\"3813\",\"type\":\"Grid\"},{\"id\":\"3814\",\"type\":\"LogAxis\"},{\"id\":\"3818\",\"type\":\"Grid\"},{\"id\":\"3827\",\"type\":\"BoxAnnotation\"},{\"id\":\"3837\",\"type\":\"GlyphRenderer\"},{\"id\":\"3853\",\"type\":\"Legend\"},{\"id\":\"3842\",\"type\":\"GlyphRenderer\"}],\"title\":{\"id\":\"3844\",\"type\":\"Title\"},\"toolbar\":{\"id\":\"3825\",\"type\":\"Toolbar\"},\"x_range\":{\"id\":\"3801\",\"type\":\"DataRange1d\"},\"x_scale\":{\"id\":\"3805\",\"type\":\"LogScale\"},\"y_range\":{\"id\":\"3803\",\"type\":\"DataRange1d\"},\"y_scale\":{\"id\":\"3807\",\"type\":\"LogScale\"}},\"id\":\"3800\",\"subtype\":\"Figure\",\"type\":\"Plot\"},{\"attributes\":{\"line_color\":\"red\",\"x\":{\"field\":\"x\"},\"y\":{\"field\":\"y\"}},\"id\":\"3840\",\"type\":\"Line\"},{\"attributes\":{\"fill_color\":{\"value\":\"red\"},\"line_color\":{\"value\":\"red\"},\"x\":{\"field\":\"x\"},\"y\":{\"field\":\"y\"}},\"id\":\"3785\",\"type\":\"X\"},{\"attributes\":{\"callback\":null,\"data\":{\"x\":{\"__ndarray__\":\"mpmZmZmZ2T+amZmZmZm5P9mdHwJDtMQ/rDl8BPgIoz8ZZxk4BkCuP3zH8kSKbos/oBg76oC+lT8gN9O3o65zP+2qSEFdMX8/9JvK/mg6XD/qTHo6EV5mP8w7UZevPUQ/NAghl9gJUD/It/Cv+AYtP3C/roEfADc/yMbptE/QFD8CGC6CBn4gP/AHcwc82f0+fi3k2LqmBz/0/0/hE2flPuUf9St99fA+qDNZDnKxzj7wgureDFLYPmgH9hscArY+xpyuKlVwwT6QC+I4xo+fPjpCH943Aqk+6F37U4ehhj5CDPD9pu6RPjDekWwyOnA+nGpC9F63eT5w+wFQdUVXPtG0WtOLcGI+0GNVwL2vQD6QLNE8pnFKPsiXsrwG7ic+95Lijh32Mj6UrIiFnCgRPhgY0tgyMRs+SIBjM12b+D3SmgXQdn8DPlhmrtPmpOE9ekM+9ir26z04nctAm03JPRFsGveyDNQ9+DPMcLUksj2lfJ3XtcC8PSxi5WvkBJo99DnFKu6dpD3wxFrWIaiCPZyO2dv7kI09aJ0DPV3Baj2SOJRdRTN1PUixWTZGL1M9uzVKhiZnXj2UkhlFK4M7PR6vxFPWzEU9RB2IgD26Iz2fXfuGYEMvPYTUNyV1Sgw9qNUxqb9qFj34LsNnI0n0PBunl+HqEgA9OFs/lmIX3TxirG7XIA3nPAxoi2cU3MQ8\",\"dtype\":\"float64\",\"shape\":[66]},\"y\":{\"__ndarray__\":\"mpmZmZmZ2T+amZmZmZm5P9mdHwJDtMQ/rDl8BPgIoz8ZZxk4BkCuP3zH8kSKbos/oBg76oC+lT8gN9O3o65zP+2qSEFdMX8/9JvK/mg6XD/qTHo6EV5mP8w7UZevPUQ/NAghl9gJUD/It/Cv+AYtP3C/roEfADc/yMbptE/QFD8CGC6CBn4gP/AHcwc82f0+fi3k2LqmBz/0/0/hE2flPuUf9St99fA+qDNZDnKxzj7wgureDFLYPmgH9hscArY+xpyuKlVwwT6QC+I4xo+fPjpCH943Aqk+6F37U4ehhj5CDPD9pu6RPjDekWwyOnA+nGpC9F63eT5w+wFQdUVXPtG0WtOLcGI+0GNVwL2vQD6QLNE8pnFKPsiXsrwG7ic+95Lijh32Mj6UrIiFnCgRPhgY0tgyMRs+SIBjM12b+D3SmgXQdn8DPlhmrtPmpOE9ekM+9ir26z04nctAm03JPRFsGveyDNQ9+DPMcLUksj2lfJ3XtcC8PSxi5WvkBJo99DnFKu6dpD3wxFrWIaiCPZyO2dv7kI09aJ0DPV3Baj2SOJRdRTN1PUixWTZGL1M9uzVKhiZnXj2UkhlFK4M7PR6vxFPWzEU9RB2IgD26Iz2fXfuGYEMvPYTUNyV1Sgw9qNUxqb9qFj34LsNnI0n0PBunl+HqEgA9OFs/lmIX3TxirG7XIA3nPAxoi2cU3MQ8\",\"dtype\":\"float64\",\"shape\":[66]}},\"selected\":{\"id\":\"4052\",\"type\":\"Selection\"},\"selection_policy\":{\"id\":\"4051\",\"type\":\"UnionRenderers\"}},\"id\":\"3839\",\"type\":\"ColumnDataSource\"},{\"attributes\":{\"fill_alpha\":{\"value\":0.1},\"fill_color\":{\"value\":\"#1f77b4\"},\"line_alpha\":{\"value\":0.1},\"line_color\":{\"value\":\"#1f77b4\"},\"x\":{\"field\":\"x\"},\"y\":{\"field\":\"y\"}},\"id\":\"3786\",\"type\":\"X\"},{\"attributes\":{\"line_alpha\":0.1,\"line_color\":\"#1f77b4\",\"x\":{\"field\":\"x\"},\"y\":{\"field\":\"y\"}},\"id\":\"3841\",\"type\":\"Line\"},{\"attributes\":{\"data_source\":{\"id\":\"3784\",\"type\":\"ColumnDataSource\"},\"glyph\":{\"id\":\"3785\",\"type\":\"X\"},\"hover_glyph\":null,\"muted_glyph\":null,\"nonselection_glyph\":{\"id\":\"3786\",\"type\":\"X\"},\"selection_glyph\":null,\"view\":{\"id\":\"3788\",\"type\":\"CDSView\"}},\"id\":\"3787\",\"type\":\"GlyphRenderer\"},{\"attributes\":{\"data_source\":{\"id\":\"3839\",\"type\":\"ColumnDataSource\"},\"glyph\":{\"id\":\"3840\",\"type\":\"Line\"},\"hover_glyph\":null,\"muted_glyph\":null,\"nonselection_glyph\":{\"id\":\"3841\",\"type\":\"Line\"},\"selection_glyph\":null,\"view\":{\"id\":\"3843\",\"type\":\"CDSView\"}},\"id\":\"3842\",\"type\":\"GlyphRenderer\"},{\"attributes\":{\"source\":{\"id\":\"3784\",\"type\":\"ColumnDataSource\"}},\"id\":\"3788\",\"type\":\"CDSView\"},{\"attributes\":{\"source\":{\"id\":\"3839\",\"type\":\"ColumnDataSource\"}},\"id\":\"3843\",\"type\":\"CDSView\"},{\"attributes\":{\"plot\":null,\"text\":\"\"},\"id\":\"3844\",\"type\":\"Title\"},{\"attributes\":{\"plot\":null,\"text\":\"\"},\"id\":\"3789\",\"type\":\"Title\"},{\"attributes\":{\"ticker\":null},\"id\":\"3791\",\"type\":\"LogTickFormatter\"},{\"attributes\":{\"ticker\":null},\"id\":\"3846\",\"type\":\"LogTickFormatter\"},{\"attributes\":{},\"id\":\"3793\",\"type\":\"BasicTickFormatter\"},{\"attributes\":{\"ticker\":null},\"id\":\"3848\",\"type\":\"LogTickFormatter\"},{\"attributes\":{},\"id\":\"3795\",\"type\":\"UnionRenderers\"},{\"attributes\":{},\"id\":\"3850\",\"type\":\"UnionRenderers\"},{\"attributes\":{},\"id\":\"3796\",\"type\":\"Selection\"},{\"attributes\":{},\"id\":\"3851\",\"type\":\"Selection\"},{\"attributes\":{\"items\":[{\"id\":\"3854\",\"type\":\"LegendItem\"}],\"plot\":{\"id\":\"3800\",\"subtype\":\"Figure\",\"type\":\"Plot\"}},\"id\":\"3853\",\"type\":\"Legend\"},{\"attributes\":{\"items\":[{\"id\":\"3799\",\"type\":\"LegendItem\"}],\"plot\":{\"id\":\"3745\",\"subtype\":\"Figure\",\"type\":\"Plot\"}},\"id\":\"3798\",\"type\":\"Legend\"},{\"attributes\":{\"label\":{\"value\":\"erreur r\\u00e9siduelle\"},\"renderers\":[{\"id\":\"3787\",\"type\":\"GlyphRenderer\"}]},\"id\":\"3799\",\"type\":\"LegendItem\"},{\"attributes\":{\"label\":{\"value\":\"ordre 2\"},\"renderers\":[{\"id\":\"3842\",\"type\":\"GlyphRenderer\"}]},\"id\":\"3854\",\"type\":\"LegendItem\"},{\"attributes\":{\"callback\":null,\"data\":{\"x\":{\"__ndarray__\":\"mpmZmZmZ2T+amZmZmZm5P9mdHwJDtMQ/rDl8BPgIoz8ZZxk4BkCuP3zH8kSKbos/oBg76oC+lT8gN9O3o65zP+2qSEFdMX8/9JvK/mg6XD/qTHo6EV5mP8w7UZevPUQ/NAghl9gJUD/It/Cv+AYtP3C/roEfADc/yMbptE/QFD8CGC6CBn4gP/AHcwc82f0+fi3k2LqmBz/0/0/hE2flPuUf9St99fA+qDNZDnKxzj7wgureDFLYPmgH9hscArY+xpyuKlVwwT6QC+I4xo+fPjpCH943Aqk+6F37U4ehhj5CDPD9pu6RPjDekWwyOnA+nGpC9F63eT5w+wFQdUVXPtG0WtOLcGI+0GNVwL2vQD6QLNE8pnFKPsiXsrwG7ic+95Lijh32Mj6UrIiFnCgRPhgY0tgyMRs+SIBjM12b+D3SmgXQdn8DPlhmrtPmpOE9ekM+9ir26z04nctAm03JPRFsGveyDNQ9+DPMcLUksj2lfJ3XtcC8PSxi5WvkBJo99DnFKu6dpD3wxFrWIaiCPZyO2dv7kI09aJ0DPV3Baj2SOJRdRTN1PUixWTZGL1M9uzVKhiZnXj2UkhlFK4M7PR6vxFPWzEU9RB2IgD26Iz2fXfuGYEMvPYTUNyV1Sgw9qNUxqb9qFj34LsNnI0n0PBunl+HqEgA9OFs/lmIX3TxirG7XIA3nPAxoi2cU3MQ8\",\"dtype\":\"float64\",\"shape\":[66]},\"y\":{\"__ndarray__\":\"mpmZmZmZuT/ZnR8CQ7TEP6w5fAT4CKM/GWcZOAZArj98x/JEim6LP6AYO+qAvpU/IDfTt6Oucz/tqkhBXTF/P/Sbyv5oOlw/6kx6OhFeZj/MO1GXrz1EPzQIIZfYCVA/yLfwr/gGLT9wv66BHwA3P8jG6bRP0BQ/AhguggZ+ID/wB3MHPNn9Pn4t5Ni6pgc/9P9P4RNn5T7lH/UrffXwPqgzWQ5ysc4+8ILq3gxS2D5oB/YbHAK2PsacripVcME+kAviOMaPnz46Qh/eNwKpPuhd+1OHoYY+Qgzw/abukT4w3pFsMjpwPpxqQvRet3k+cPsBUHVFVz7RtFrTi3BiPtBjVcC9r0A+kCzRPKZxSj7Il7K8Bu4nPveS4o4d9jI+lKyIhZwoET4YGNLYMjEbPkiAYzNdm/g90poF0HZ/Az5YZq7T5qThPXpDPvYq9us9OJ3LQJtNyT0RbBr3sgzUPfgzzHC1JLI9pXyd17XAvD0sYuVr5ASaPfQ5xSrunaQ98MRa1iGogj2cjtnb+5CNPWidAz1dwWo9kjiUXUUzdT1IsVk2Ri9TPbs1SoYmZ149lJIZRSuDOz0er8RT1sxFPUQdiIA9uiM9n137hmBDLz2E1DcldUoMPajVMam/ahY9+C7DZyNJ9Dwbp5fh6hIAPThbP5ZiF908Yqxu1yAN5zwMaItnFNzEPAAAAAAAAAAA\",\"dtype\":\"float64\",\"shape\":[66]}},\"selected\":{\"id\":\"3851\",\"type\":\"Selection\"},\"selection_policy\":{\"id\":\"3850\",\"type\":\"UnionRenderers\"}},\"id\":\"3834\",\"type\":\"ColumnDataSource\"},{\"attributes\":{\"callback\":null},\"id\":\"3801\",\"type\":\"DataRange1d\"},{\"attributes\":{},\"id\":\"4047\",\"type\":\"Selection\"},{\"attributes\":{\"callback\":null},\"id\":\"3803\",\"type\":\"DataRange1d\"},{\"attributes\":{},\"id\":\"4051\",\"type\":\"UnionRenderers\"},{\"attributes\":{},\"id\":\"3805\",\"type\":\"LogScale\"},{\"attributes\":{},\"id\":\"4052\",\"type\":\"Selection\"},{\"attributes\":{},\"id\":\"3807\",\"type\":\"LogScale\"},{\"attributes\":{\"formatter\":{\"id\":\"3848\",\"type\":\"LogTickFormatter\"},\"plot\":{\"id\":\"3800\",\"subtype\":\"Figure\",\"type\":\"Plot\"},\"ticker\":{\"id\":\"3810\",\"type\":\"LogTicker\"}},\"id\":\"3809\",\"type\":\"LogAxis\"},{\"attributes\":{\"num_minor_ticks\":10},\"id\":\"3810\",\"type\":\"LogTicker\"},{\"attributes\":{\"plot\":{\"id\":\"3800\",\"subtype\":\"Figure\",\"type\":\"Plot\"},\"ticker\":{\"id\":\"3810\",\"type\":\"LogTicker\"}},\"id\":\"3813\",\"type\":\"Grid\"},{\"attributes\":{\"formatter\":{\"id\":\"3793\",\"type\":\"BasicTickFormatter\"},\"plot\":{\"id\":\"3745\",\"subtype\":\"Figure\",\"type\":\"Plot\"},\"ticker\":{\"id\":\"3755\",\"type\":\"BasicTicker\"}},\"id\":\"3754\",\"type\":\"LinearAxis\"},{\"attributes\":{\"formatter\":{\"id\":\"3846\",\"type\":\"LogTickFormatter\"},\"plot\":{\"id\":\"3800\",\"subtype\":\"Figure\",\"type\":\"Plot\"},\"ticker\":{\"id\":\"3815\",\"type\":\"LogTicker\"}},\"id\":\"3814\",\"type\":\"LogAxis\"},{\"attributes\":{\"num_minor_ticks\":10},\"id\":\"3815\",\"type\":\"LogTicker\"},{\"attributes\":{\"dimension\":1,\"plot\":{\"id\":\"3800\",\"subtype\":\"Figure\",\"type\":\"Plot\"},\"ticker\":{\"id\":\"3815\",\"type\":\"LogTicker\"}},\"id\":\"3818\",\"type\":\"Grid\"},{\"attributes\":{\"fill_alpha\":{\"value\":0.1},\"fill_color\":{\"value\":\"#1f77b4\"},\"line_alpha\":{\"value\":0.1},\"line_color\":{\"value\":\"#1f77b4\"},\"size\":{\"units\":\"screen\",\"value\":5},\"x\":{\"field\":\"x\"},\"y\":{\"field\":\"y\"}},\"id\":\"3836\",\"type\":\"X\"},{\"attributes\":{\"callback\":null},\"id\":\"3748\",\"type\":\"DataRange1d\"},{\"attributes\":{},\"id\":\"3755\",\"type\":\"BasicTicker\"},{\"attributes\":{\"fill_color\":{\"value\":\"#1f77b4\"},\"line_color\":{\"value\":\"#1f77b4\"},\"size\":{\"units\":\"screen\",\"value\":5},\"x\":{\"field\":\"x\"},\"y\":{\"field\":\"y\"}},\"id\":\"3835\",\"type\":\"X\"},{\"attributes\":{},\"id\":\"3752\",\"type\":\"LogScale\"},{\"attributes\":{},\"id\":\"3750\",\"type\":\"LinearScale\"},{\"attributes\":{\"data_source\":{\"id\":\"3834\",\"type\":\"ColumnDataSource\"},\"glyph\":{\"id\":\"3835\",\"type\":\"X\"},\"hover_glyph\":null,\"muted_glyph\":null,\"nonselection_glyph\":{\"id\":\"3836\",\"type\":\"X\"},\"selection_glyph\":null,\"view\":{\"id\":\"3838\",\"type\":\"CDSView\"}},\"id\":\"3837\",\"type\":\"GlyphRenderer\"},{\"attributes\":{\"plot\":{\"id\":\"3745\",\"subtype\":\"Figure\",\"type\":\"Plot\"},\"ticker\":{\"id\":\"3755\",\"type\":\"BasicTicker\"}},\"id\":\"3758\",\"type\":\"Grid\"},{\"attributes\":{},\"id\":\"3819\",\"type\":\"PanTool\"},{\"attributes\":{},\"id\":\"3820\",\"type\":\"WheelZoomTool\"},{\"attributes\":{\"callback\":null},\"id\":\"3746\",\"type\":\"DataRange1d\"},{\"attributes\":{\"overlay\":{\"id\":\"3827\",\"type\":\"BoxAnnotation\"}},\"id\":\"3821\",\"type\":\"BoxZoomTool\"},{\"attributes\":{},\"id\":\"3768\",\"type\":\"ResetTool\"},{\"attributes\":{\"fill_color\":{\"value\":\"#1f77b4\"},\"line_color\":{\"value\":\"#1f77b4\"},\"size\":{\"units\":\"screen\",\"value\":5},\"x\":{\"field\":\"x\"},\"y\":{\"field\":\"y\"}},\"id\":\"3780\",\"type\":\"X\"},{\"attributes\":{},\"id\":\"3765\",\"type\":\"WheelZoomTool\"},{\"attributes\":{\"data_source\":{\"id\":\"3779\",\"type\":\"ColumnDataSource\"},\"glyph\":{\"id\":\"3780\",\"type\":\"X\"},\"hover_glyph\":null,\"muted_glyph\":null,\"nonselection_glyph\":{\"id\":\"3781\",\"type\":\"X\"},\"selection_glyph\":null,\"view\":{\"id\":\"3783\",\"type\":\"CDSView\"}},\"id\":\"3782\",\"type\":\"GlyphRenderer\"},{\"attributes\":{\"overlay\":{\"id\":\"3772\",\"type\":\"BoxAnnotation\"}},\"id\":\"3766\",\"type\":\"BoxZoomTool\"},{\"attributes\":{},\"id\":\"3764\",\"type\":\"PanTool\"},{\"attributes\":{\"fill_alpha\":{\"value\":0.1},\"fill_color\":{\"value\":\"#1f77b4\"},\"line_alpha\":{\"value\":0.1},\"line_color\":{\"value\":\"#1f77b4\"},\"size\":{\"units\":\"screen\",\"value\":5},\"x\":{\"field\":\"x\"},\"y\":{\"field\":\"y\"}},\"id\":\"3781\",\"type\":\"X\"},{\"attributes\":{\"dimension\":1,\"plot\":{\"id\":\"3745\",\"subtype\":\"Figure\",\"type\":\"Plot\"},\"ticker\":{\"id\":\"3760\",\"type\":\"LogTicker\"}},\"id\":\"3763\",\"type\":\"Grid\"},{\"attributes\":{},\"id\":\"3767\",\"type\":\"SaveTool\"}],\"root_ids\":[\"3855\"]},\"title\":\"Bokeh Application\",\"version\":\"1.0.4\"}};\n",
       "  var render_items = [{\"docid\":\"a559c9f1-8ed7-46da-8564-4cc9529992eb\",\"roots\":{\"3855\":\"fc64aa72-29d5-4e3b-b4d7-2fd8c59253d1\"}}];\n",
       "  root.Bokeh.embed.embed_items_notebook(docs_json, render_items);\n",
       "\n",
       "  }\n",
       "  if (root.Bokeh !== undefined) {\n",
       "    embed_document(root);\n",
       "  } else {\n",
       "    var attempts = 0;\n",
       "    var timer = setInterval(function(root) {\n",
       "      if (root.Bokeh !== undefined) {\n",
       "        embed_document(root);\n",
       "        clearInterval(timer);\n",
       "      }\n",
       "      attempts++;\n",
       "      if (attempts > 100) {\n",
       "        console.log(\"Bokeh: ERROR: Unable to run BokehJS code because BokehJS library is missing\");\n",
       "        clearInterval(timer);\n",
       "      }\n",
       "    }, 10, root)\n",
       "  }\n",
       "})(window);"
      ],
      "application/vnd.bokehjs_exec.v0+json": ""
     },
     "metadata": {
      "application/vnd.bokehjs_exec.v0+json": {
       "id": "3855"
      }
     },
     "output_type": "display_data"
    }
   ],
   "source": [
    "xstar = 0.\n",
    "xsol = my_secante_modif(k,m=2,x0=0.4, x1=-0.1, xstar=xstar, tol=1.e-15, nitmax=100)\n",
    "print(f\"Convergence de l'algorithme de la sécante en {xsol.size-1} itérations\")\n",
    "print(f\"--> solution de k(x) = 0 obtenue pour  x = {xsol[-1]}\")\n",
    "\n",
    "err = np.abs(xsol - xstar)\n",
    "\n",
    "fig1 = figure(width=490, height=300, y_axis_type=\"log\")\n",
    "fig1.x(range(xsol.size), err, size=5)\n",
    "fig1.x(range(xsol.size),np.abs(k(xsol)),color='red',legend=\"erreur résiduelle\")\n",
    "\n",
    "fig2 = figure(width=490, height=300, x_axis_type=\"log\", y_axis_type=\"log\")\n",
    "fig2.x(err[:-1], err[1:], size=5)\n",
    "rho=0.5*(1+np.sqrt(5))\n",
    "fig2.line(err[:-1], err[:-1],  color=\"red\", legend=\"ordre 2\")\n",
    "\n",
    "show(row(fig1, fig2))"
   ]
  },
  {
   "cell_type": "markdown",
   "metadata": {},
   "source": [
    "# Expliquer pourquoi on observe une convergence linéaire. "
   ]
  },
  {
   "cell_type": "markdown",
   "metadata": {},
   "source": [
    "**Vérifier si la méthode de la sécante a un ordre de convergence d'au moins $\\rho  = \\displaystyle \\frac{\\sqrt{5}+1}{2}$ pour les fonctions $f(x)$, $g(x)$ et $h(x)$. Commenter.**"
   ]
  },
  {
   "cell_type": "markdown",
   "metadata": {},
   "source": []
  },
  {
   "cell_type": "markdown",
   "metadata": {},
   "source": [
    "# Exercice 3 : Bissection-Trissection-hybride"
   ]
  },
  {
   "cell_type": "markdown",
   "metadata": {},
   "source": [
    "### Implémentation de la méthode"
   ]
  },
  {
   "cell_type": "code",
   "execution_count": 22,
   "metadata": {},
   "outputs": [],
   "source": [
    "def my_bissection(f, a, b, xstar=None, tol=1.e-12, nitmax=50):\n",
    "   \n",
    "    # initialisation\n",
    "    x = np.zeros(nitmax+1)\n",
    "    x[0] = (a+b)/2\n",
    "    \n",
    "    # iteration de la méthode de bissection\n",
    "    for i in range(1,nitmax+1):\n",
    "        if f(x[i-1])*f(a)<0:\n",
    "            b=x[i-1]\n",
    "            x[i]=(a+x[i-1])/2\n",
    "        elif f(x[i-1])==0:\n",
    "            break\n",
    "        else:\n",
    "            a=x[i-1]\n",
    "            x[i]=(b+x[i-1]/2)\n",
    "        if abs(x[i]-xstar)<tol:\n",
    "            break\n",
    "    return x[0:i+1]"
   ]
  },
  {
   "cell_type": "markdown",
   "metadata": {},
   "source": [
    "**Tester la méthode avec la fonction $m(x) = ln(x)+2$. Commenter.**"
   ]
  },
  {
   "cell_type": "code",
   "execution_count": 23,
   "metadata": {},
   "outputs": [],
   "source": [
    "def m(x):\n",
    "    return np.log(x)+2"
   ]
  },
  {
   "cell_type": "code",
   "execution_count": 24,
   "metadata": {
    "scrolled": true
   },
   "outputs": [
    {
     "name": "stdout",
     "output_type": "stream",
     "text": [
      "Convergence de l'algorithme de la bissection en 100 itérations\n",
      "--> solution de m(x) = 0 obtenue pour  x = 0.20300325016406592\n"
     ]
    },
    {
     "data": {
      "text/html": [
       "\n",
       "\n",
       "\n",
       "\n",
       "\n",
       "\n",
       "  <div class=\"bk-root\" id=\"a8729bc1-2982-4ad3-bc8e-517823d01bc7\" data-root-id=\"4296\"></div>\n"
      ]
     },
     "metadata": {},
     "output_type": "display_data"
    },
    {
     "data": {
      "application/javascript": [
       "(function(root) {\n",
       "  function embed_document(root) {\n",
       "    \n",
       "  var docs_json = {\"1e817369-8520-477f-8f34-7fed38f69934\":{\"roots\":{\"references\":[{\"attributes\":{\"children\":[{\"id\":\"4186\",\"subtype\":\"Figure\",\"type\":\"Plot\"},{\"id\":\"4241\",\"subtype\":\"Figure\",\"type\":\"Plot\"}]},\"id\":\"4296\",\"type\":\"Row\"},{\"attributes\":{\"formatter\":{\"id\":\"4232\",\"type\":\"LogTickFormatter\"},\"plot\":{\"id\":\"4186\",\"subtype\":\"Figure\",\"type\":\"Plot\"},\"ticker\":{\"id\":\"4201\",\"type\":\"LogTicker\"}},\"id\":\"4200\",\"type\":\"LogAxis\"},{\"attributes\":{},\"id\":\"4265\",\"type\":\"HelpTool\"},{\"attributes\":{\"active_drag\":\"auto\",\"active_inspect\":\"auto\",\"active_multi\":null,\"active_scroll\":\"auto\",\"active_tap\":\"auto\",\"tools\":[{\"id\":\"4260\",\"type\":\"PanTool\"},{\"id\":\"4261\",\"type\":\"WheelZoomTool\"},{\"id\":\"4262\",\"type\":\"BoxZoomTool\"},{\"id\":\"4263\",\"type\":\"SaveTool\"},{\"id\":\"4264\",\"type\":\"ResetTool\"},{\"id\":\"4265\",\"type\":\"HelpTool\"}]},\"id\":\"4266\",\"type\":\"Toolbar\"},{\"attributes\":{\"num_minor_ticks\":10},\"id\":\"4201\",\"type\":\"LogTicker\"},{\"attributes\":{\"dimension\":1,\"plot\":{\"id\":\"4186\",\"subtype\":\"Figure\",\"type\":\"Plot\"},\"ticker\":{\"id\":\"4201\",\"type\":\"LogTicker\"}},\"id\":\"4204\",\"type\":\"Grid\"},{\"attributes\":{\"bottom_units\":\"screen\",\"fill_alpha\":{\"value\":0.5},\"fill_color\":{\"value\":\"lightgrey\"},\"left_units\":\"screen\",\"level\":\"overlay\",\"line_alpha\":{\"value\":1.0},\"line_color\":{\"value\":\"black\"},\"line_dash\":[4,4],\"line_width\":{\"value\":2},\"plot\":null,\"render_mode\":\"css\",\"right_units\":\"screen\",\"top_units\":\"screen\"},\"id\":\"4268\",\"type\":\"BoxAnnotation\"},{\"attributes\":{\"label\":{\"value\":\"erreur r\\u00e9siduelle\"},\"renderers\":[{\"id\":\"4228\",\"type\":\"GlyphRenderer\"}]},\"id\":\"4240\",\"type\":\"LegendItem\"},{\"attributes\":{\"fill_alpha\":{\"value\":0.1},\"fill_color\":{\"value\":\"#1f77b4\"},\"line_alpha\":{\"value\":0.1},\"line_color\":{\"value\":\"#1f77b4\"},\"size\":{\"units\":\"screen\",\"value\":5},\"x\":{\"field\":\"x\"},\"y\":{\"field\":\"y\"}},\"id\":\"4222\",\"type\":\"X\"},{\"attributes\":{\"source\":{\"id\":\"4275\",\"type\":\"ColumnDataSource\"}},\"id\":\"4279\",\"type\":\"CDSView\"},{\"attributes\":{\"fill_color\":{\"value\":\"#1f77b4\"},\"line_color\":{\"value\":\"#1f77b4\"},\"size\":{\"units\":\"screen\",\"value\":5},\"x\":{\"field\":\"x\"},\"y\":{\"field\":\"y\"}},\"id\":\"4221\",\"type\":\"X\"},{\"attributes\":{\"line_alpha\":0.1,\"line_color\":\"#1f77b4\",\"x\":{\"field\":\"x\"},\"y\":{\"field\":\"y\"}},\"id\":\"4282\",\"type\":\"Line\"},{\"attributes\":{},\"id\":\"4205\",\"type\":\"PanTool\"},{\"attributes\":{\"line_color\":\"red\",\"x\":{\"field\":\"x\"},\"y\":{\"field\":\"y\"}},\"id\":\"4281\",\"type\":\"Line\"},{\"attributes\":{\"callback\":null,\"data\":{\"x\":{\"__ndarray__\":\"bPc+M5ao1z9UTjnXL0a/P4BW/uko+Vk/ummSFHQyyD8Mbb7Cgf63P7BzFh+dlqc/AIHG19PGlj+gmyZJQSeFP8DQ5isc6HE/AHbO4qPTVj8AAH85KCwZP8SLQ67TqrE/BCw1pIikoT+AbBiQ8peRP4Dt3mfGfoE/gO9rF25McT+A84V2vedgP4D7uTRcHlA/ABhEYjMXPT8AWORTKcwmPwCwSW4qbAQ/AEC0BCbs/T5gJd3HSFSxPxzafAVqUqE/kEO8gKxOkT+AFjt3MUeBP2C8OGQ7OHE/AAg0Pk8aYT+Anyrydt5QPwDOF1rGZkA/AFjkU8ruLj8A0E2TRTEbPwDAIBI8tgM/AIAaP6QA0z4AgO30/CvpPoCqXPaRUrE/FAN1lshRoT9AtKXWNVCRP5AWB1cQTYE/QNvJV8VGcT+AZE9ZLzphPwB3WlwDIVE/AJxwYqvuQD8A5pxu+4kwPwDw6g03gR8/AEBNb7dbDD8A4BEyuBD2PgAANm9z9dI+AACleoZizz4AxAYX11KxP7jO+VGYUqE/IOTfxxpSkT8AD6yzH1GBP8BkRIspT3E/ABB1Oj1LYT8AZ9aYZENRPwAUmVWzM0E/AHAez1AUMT8AKCnCi9UgPwCQPqgBWBA/AMDS6Nq5/j4AAH4Zis3qPgAA1Xro9NI+AAAQ7Ckdmj4AACQ94R68Pj5emRujUrE/GCG4/IZSoT/QpvW+TlKRP0CycEPeUYE/IMlmTP1QcT8A91JeO09hP4BSK4K3S1E/AArcya9EQT8AeD1ZoDYxPwBUAHiBGiE/ABCGtUPiED8AgJEwyHEAPwDAUE2iIe8+AACsJcad2z4AAGPWDZbEPgAAQN90Gpo+AABUBUSYpT5IuEvEq1KxP6C1KfigUqE/ULDlX4tSkT+gpV0vYFKBP0CQTc4JUnE/gGUtDF1RYT8AEO2HA1BRPwBmbH9QTUE/ABBrbupHMT8AaGhMHj0hPwAQYwiGJxE/AGBYgFX8AD8AAENw9KXwPgAAMaBk8t8+AACGH1w/zT4AADAeS9m3PgAAEDdSGpo+AACg0zUWgT4=\",\"dtype\":\"float64\",\"shape\":[100]},\"y\":{\"__ndarray__\":\"bPc+M5ao1z9UTjnXL0a/P4BW/uko+Vk/ummSFHQyyD8Mbb7Cgf63P7BzFh+dlqc/AIHG19PGlj+gmyZJQSeFP8DQ5isc6HE/AHbO4qPTVj8AAH85KCwZP8SLQ67TqrE/BCw1pIikoT+AbBiQ8peRP4Dt3mfGfoE/gO9rF25McT+A84V2vedgP4D7uTRcHlA/ABhEYjMXPT8AWORTKcwmPwCwSW4qbAQ/AEC0BCbs/T5gJd3HSFSxPxzafAVqUqE/kEO8gKxOkT+AFjt3MUeBP2C8OGQ7OHE/AAg0Pk8aYT+Anyrydt5QPwDOF1rGZkA/AFjkU8ruLj8A0E2TRTEbPwDAIBI8tgM/AIAaP6QA0z4AgO30/CvpPoCqXPaRUrE/FAN1lshRoT9AtKXWNVCRP5AWB1cQTYE/QNvJV8VGcT+AZE9ZLzphPwB3WlwDIVE/AJxwYqvuQD8A5pxu+4kwPwDw6g03gR8/AEBNb7dbDD8A4BEyuBD2PgAANm9z9dI+AACleoZizz4AxAYX11KxP7jO+VGYUqE/IOTfxxpSkT8AD6yzH1GBP8BkRIspT3E/ABB1Oj1LYT8AZ9aYZENRPwAUmVWzM0E/AHAez1AUMT8AKCnCi9UgPwCQPqgBWBA/AMDS6Nq5/j4AAH4Zis3qPgAA1Xro9NI+AAAQ7Ckdmj4AACQ94R68Pj5emRujUrE/GCG4/IZSoT/QpvW+TlKRP0CycEPeUYE/IMlmTP1QcT8A91JeO09hP4BSK4K3S1E/AArcya9EQT8AeD1ZoDYxPwBUAHiBGiE/ABCGtUPiED8AgJEwyHEAPwDAUE2iIe8+AACsJcad2z4AAGPWDZbEPgAAQN90Gpo+AABUBUSYpT5IuEvEq1KxP6C1KfigUqE/ULDlX4tSkT+gpV0vYFKBP0CQTc4JUnE/gGUtDF1RYT8AEO2HA1BRPwBmbH9QTUE/ABBrbupHMT8AaGhMHj0hPwAQYwiGJxE/AGBYgFX8AD8AAENw9KXwPgAAMaBk8t8+AACGH1w/zT4AADAeS9m3PgAAEDdSGpo+AACg0zUWgT4=\",\"dtype\":\"float64\",\"shape\":[100]}},\"selected\":{\"id\":\"4515\",\"type\":\"Selection\"},\"selection_policy\":{\"id\":\"4514\",\"type\":\"UnionRenderers\"}},\"id\":\"4280\",\"type\":\"ColumnDataSource\"},{\"attributes\":{},\"id\":\"4206\",\"type\":\"WheelZoomTool\"},{\"attributes\":{\"data_source\":{\"id\":\"4280\",\"type\":\"ColumnDataSource\"},\"glyph\":{\"id\":\"4281\",\"type\":\"Line\"},\"hover_glyph\":null,\"muted_glyph\":null,\"nonselection_glyph\":{\"id\":\"4282\",\"type\":\"Line\"},\"selection_glyph\":null,\"view\":{\"id\":\"4284\",\"type\":\"CDSView\"}},\"id\":\"4283\",\"type\":\"GlyphRenderer\"},{\"attributes\":{\"overlay\":{\"id\":\"4213\",\"type\":\"BoxAnnotation\"}},\"id\":\"4207\",\"type\":\"BoxZoomTool\"},{\"attributes\":{},\"id\":\"4208\",\"type\":\"SaveTool\"},{\"attributes\":{\"source\":{\"id\":\"4280\",\"type\":\"ColumnDataSource\"}},\"id\":\"4284\",\"type\":\"CDSView\"},{\"attributes\":{\"plot\":null,\"text\":\"\"},\"id\":\"4285\",\"type\":\"Title\"},{\"attributes\":{},\"id\":\"4209\",\"type\":\"ResetTool\"},{\"attributes\":{},\"id\":\"4210\",\"type\":\"HelpTool\"},{\"attributes\":{\"ticker\":null},\"id\":\"4287\",\"type\":\"LogTickFormatter\"},{\"attributes\":{\"active_drag\":\"auto\",\"active_inspect\":\"auto\",\"active_multi\":null,\"active_scroll\":\"auto\",\"active_tap\":\"auto\",\"tools\":[{\"id\":\"4205\",\"type\":\"PanTool\"},{\"id\":\"4206\",\"type\":\"WheelZoomTool\"},{\"id\":\"4207\",\"type\":\"BoxZoomTool\"},{\"id\":\"4208\",\"type\":\"SaveTool\"},{\"id\":\"4209\",\"type\":\"ResetTool\"},{\"id\":\"4210\",\"type\":\"HelpTool\"}]},\"id\":\"4211\",\"type\":\"Toolbar\"},{\"attributes\":{\"data_source\":{\"id\":\"4220\",\"type\":\"ColumnDataSource\"},\"glyph\":{\"id\":\"4221\",\"type\":\"X\"},\"hover_glyph\":null,\"muted_glyph\":null,\"nonselection_glyph\":{\"id\":\"4222\",\"type\":\"X\"},\"selection_glyph\":null,\"view\":{\"id\":\"4224\",\"type\":\"CDSView\"}},\"id\":\"4223\",\"type\":\"GlyphRenderer\"},{\"attributes\":{\"ticker\":null},\"id\":\"4289\",\"type\":\"LogTickFormatter\"},{\"attributes\":{\"bottom_units\":\"screen\",\"fill_alpha\":{\"value\":0.5},\"fill_color\":{\"value\":\"lightgrey\"},\"left_units\":\"screen\",\"level\":\"overlay\",\"line_alpha\":{\"value\":1.0},\"line_color\":{\"value\":\"black\"},\"line_dash\":[4,4],\"line_width\":{\"value\":2},\"plot\":null,\"render_mode\":\"css\",\"right_units\":\"screen\",\"top_units\":\"screen\"},\"id\":\"4213\",\"type\":\"BoxAnnotation\"},{\"attributes\":{},\"id\":\"4291\",\"type\":\"UnionRenderers\"},{\"attributes\":{\"source\":{\"id\":\"4220\",\"type\":\"ColumnDataSource\"}},\"id\":\"4224\",\"type\":\"CDSView\"},{\"attributes\":{},\"id\":\"4292\",\"type\":\"Selection\"},{\"attributes\":{\"callback\":null},\"id\":\"4244\",\"type\":\"DataRange1d\"},{\"attributes\":{\"items\":[{\"id\":\"4295\",\"type\":\"LegendItem\"}],\"plot\":{\"id\":\"4241\",\"subtype\":\"Figure\",\"type\":\"Plot\"}},\"id\":\"4294\",\"type\":\"Legend\"},{\"attributes\":{\"label\":{\"value\":\"ordre 1\"},\"renderers\":[{\"id\":\"4283\",\"type\":\"GlyphRenderer\"}]},\"id\":\"4295\",\"type\":\"LegendItem\"},{\"attributes\":{},\"id\":\"4237\",\"type\":\"Selection\"},{\"attributes\":{\"fill_color\":{\"value\":\"red\"},\"line_color\":{\"value\":\"red\"},\"x\":{\"field\":\"x\"},\"y\":{\"field\":\"y\"}},\"id\":\"4226\",\"type\":\"X\"},{\"attributes\":{\"fill_alpha\":{\"value\":0.1},\"fill_color\":{\"value\":\"#1f77b4\"},\"line_alpha\":{\"value\":0.1},\"line_color\":{\"value\":\"#1f77b4\"},\"x\":{\"field\":\"x\"},\"y\":{\"field\":\"y\"}},\"id\":\"4227\",\"type\":\"X\"},{\"attributes\":{\"data_source\":{\"id\":\"4225\",\"type\":\"ColumnDataSource\"},\"glyph\":{\"id\":\"4226\",\"type\":\"X\"},\"hover_glyph\":null,\"muted_glyph\":null,\"nonselection_glyph\":{\"id\":\"4227\",\"type\":\"X\"},\"selection_glyph\":null,\"view\":{\"id\":\"4229\",\"type\":\"CDSView\"}},\"id\":\"4228\",\"type\":\"GlyphRenderer\"},{\"attributes\":{},\"id\":\"4510\",\"type\":\"Selection\"},{\"attributes\":{\"source\":{\"id\":\"4225\",\"type\":\"ColumnDataSource\"}},\"id\":\"4229\",\"type\":\"CDSView\"},{\"attributes\":{},\"id\":\"4514\",\"type\":\"UnionRenderers\"},{\"attributes\":{},\"id\":\"4246\",\"type\":\"LogScale\"},{\"attributes\":{\"items\":[{\"id\":\"4240\",\"type\":\"LegendItem\"}],\"plot\":{\"id\":\"4186\",\"subtype\":\"Figure\",\"type\":\"Plot\"}},\"id\":\"4239\",\"type\":\"Legend\"},{\"attributes\":{},\"id\":\"4248\",\"type\":\"LogScale\"},{\"attributes\":{},\"id\":\"4515\",\"type\":\"Selection\"},{\"attributes\":{\"formatter\":{\"id\":\"4289\",\"type\":\"LogTickFormatter\"},\"plot\":{\"id\":\"4241\",\"subtype\":\"Figure\",\"type\":\"Plot\"},\"ticker\":{\"id\":\"4251\",\"type\":\"LogTicker\"}},\"id\":\"4250\",\"type\":\"LogAxis\"},{\"attributes\":{\"num_minor_ticks\":10},\"id\":\"4251\",\"type\":\"LogTicker\"},{\"attributes\":{\"plot\":{\"id\":\"4241\",\"subtype\":\"Figure\",\"type\":\"Plot\"},\"ticker\":{\"id\":\"4251\",\"type\":\"LogTicker\"}},\"id\":\"4254\",\"type\":\"Grid\"},{\"attributes\":{\"formatter\":{\"id\":\"4287\",\"type\":\"LogTickFormatter\"},\"plot\":{\"id\":\"4241\",\"subtype\":\"Figure\",\"type\":\"Plot\"},\"ticker\":{\"id\":\"4256\",\"type\":\"LogTicker\"}},\"id\":\"4255\",\"type\":\"LogAxis\"},{\"attributes\":{\"num_minor_ticks\":10},\"id\":\"4256\",\"type\":\"LogTicker\"},{\"attributes\":{\"dimension\":1,\"plot\":{\"id\":\"4241\",\"subtype\":\"Figure\",\"type\":\"Plot\"},\"ticker\":{\"id\":\"4256\",\"type\":\"LogTicker\"}},\"id\":\"4259\",\"type\":\"Grid\"},{\"attributes\":{\"fill_alpha\":{\"value\":0.1},\"fill_color\":{\"value\":\"#1f77b4\"},\"line_alpha\":{\"value\":0.1},\"line_color\":{\"value\":\"#1f77b4\"},\"size\":{\"units\":\"screen\",\"value\":5},\"x\":{\"field\":\"x\"},\"y\":{\"field\":\"y\"}},\"id\":\"4277\",\"type\":\"X\"},{\"attributes\":{\"fill_color\":{\"value\":\"#1f77b4\"},\"line_color\":{\"value\":\"#1f77b4\"},\"size\":{\"units\":\"screen\",\"value\":5},\"x\":{\"field\":\"x\"},\"y\":{\"field\":\"y\"}},\"id\":\"4276\",\"type\":\"X\"},{\"attributes\":{\"data_source\":{\"id\":\"4275\",\"type\":\"ColumnDataSource\"},\"glyph\":{\"id\":\"4276\",\"type\":\"X\"},\"hover_glyph\":null,\"muted_glyph\":null,\"nonselection_glyph\":{\"id\":\"4277\",\"type\":\"X\"},\"selection_glyph\":null,\"view\":{\"id\":\"4279\",\"type\":\"CDSView\"}},\"id\":\"4278\",\"type\":\"GlyphRenderer\"},{\"attributes\":{},\"id\":\"4260\",\"type\":\"PanTool\"},{\"attributes\":{},\"id\":\"4261\",\"type\":\"WheelZoomTool\"},{\"attributes\":{\"overlay\":{\"id\":\"4268\",\"type\":\"BoxAnnotation\"}},\"id\":\"4262\",\"type\":\"BoxZoomTool\"},{\"attributes\":{},\"id\":\"4263\",\"type\":\"SaveTool\"},{\"attributes\":{},\"id\":\"4509\",\"type\":\"UnionRenderers\"},{\"attributes\":{},\"id\":\"4264\",\"type\":\"ResetTool\"},{\"attributes\":{\"plot\":{\"id\":\"4186\",\"subtype\":\"Figure\",\"type\":\"Plot\"},\"ticker\":{\"id\":\"4196\",\"type\":\"BasicTicker\"}},\"id\":\"4199\",\"type\":\"Grid\"},{\"attributes\":{\"plot\":null,\"text\":\"\"},\"id\":\"4230\",\"type\":\"Title\"},{\"attributes\":{\"callback\":null,\"data\":{\"x\":{\"__ndarray__\":\"bPc+M5ao1z9UTjnXL0a/P4BW/uko+Vk/ummSFHQyyD8Mbb7Cgf63P7BzFh+dlqc/AIHG19PGlj+gmyZJQSeFP8DQ5isc6HE/AHbO4qPTVj8AAH85KCwZP8SLQ67TqrE/BCw1pIikoT+AbBiQ8peRP4Dt3mfGfoE/gO9rF25McT+A84V2vedgP4D7uTRcHlA/ABhEYjMXPT8AWORTKcwmPwCwSW4qbAQ/AEC0BCbs/T5gJd3HSFSxPxzafAVqUqE/kEO8gKxOkT+AFjt3MUeBP2C8OGQ7OHE/AAg0Pk8aYT+Anyrydt5QPwDOF1rGZkA/AFjkU8ruLj8A0E2TRTEbPwDAIBI8tgM/AIAaP6QA0z4AgO30/CvpPoCqXPaRUrE/FAN1lshRoT9AtKXWNVCRP5AWB1cQTYE/QNvJV8VGcT+AZE9ZLzphPwB3WlwDIVE/AJxwYqvuQD8A5pxu+4kwPwDw6g03gR8/AEBNb7dbDD8A4BEyuBD2PgAANm9z9dI+AACleoZizz4AxAYX11KxP7jO+VGYUqE/IOTfxxpSkT8AD6yzH1GBP8BkRIspT3E/ABB1Oj1LYT8AZ9aYZENRPwAUmVWzM0E/AHAez1AUMT8AKCnCi9UgPwCQPqgBWBA/AMDS6Nq5/j4AAH4Zis3qPgAA1Xro9NI+AAAQ7Ckdmj4AACQ94R68Pj5emRujUrE/GCG4/IZSoT/QpvW+TlKRP0CycEPeUYE/IMlmTP1QcT8A91JeO09hP4BSK4K3S1E/AArcya9EQT8AeD1ZoDYxPwBUAHiBGiE/ABCGtUPiED8AgJEwyHEAPwDAUE2iIe8+AACsJcad2z4AAGPWDZbEPgAAQN90Gpo+AABUBUSYpT5IuEvEq1KxP6C1KfigUqE/ULDlX4tSkT+gpV0vYFKBP0CQTc4JUnE/gGUtDF1RYT8AEO2HA1BRPwBmbH9QTUE/ABBrbupHMT8AaGhMHj0hPwAQYwiGJxE/AGBYgFX8AD8AAENw9KXwPgAAMaBk8t8+AACGH1w/zT4AADAeS9m3PgAAEDdSGpo+AACg0zUWgT4=\",\"dtype\":\"float64\",\"shape\":[100]},\"y\":{\"__ndarray__\":\"VE451y9Gvz+AVv7pKPlZP7ppkhR0Msg/DG2+woH+tz+wcxYfnZanPwCBxtfTxpY/oJsmSUEnhT/A0OYrHOhxPwB2zuKj01Y/AAB/OSgsGT/Ei0Ou06qxPwQsNaSIpKE/gGwYkPKXkT+A7d5nxn6BP4DvaxduTHE/gPOFdr3nYD+A+7k0XB5QPwAYRGIzFz0/AFjkUynMJj8AsEluKmwEPwBAtAQm7P0+YCXdx0hUsT8c2nwFalKhP5BDvICsTpE/gBY7dzFHgT9gvDhkOzhxPwAIND5PGmE/gJ8q8nbeUD8AzhdaxmZAPwBY5FPK7i4/ANBNk0UxGz8AwCASPLYDPwCAGj+kANM+AIDt9Pwr6T6Aqlz2kVKxPxQDdZbIUaE/QLSl1jVQkT+QFgdXEE2BP0DbyVfFRnE/gGRPWS86YT8Ad1pcAyFRPwCccGKr7kA/AOacbvuJMD8A8OoNN4EfPwBATW+3Www/AOARMrgQ9j4AADZvc/XSPgAApXqGYs8+AMQGF9dSsT+4zvlRmFKhPyDk38caUpE/AA+ssx9RgT/AZESLKU9xPwAQdTo9S2E/AGfWmGRDUT8AFJlVszNBPwBwHs9QFDE/ACgpwovVID8AkD6oAVgQPwDA0ujauf4+AAB+GYrN6j4AANV66PTSPgAAEOwpHZo+AAAkPeEevD4+Xpkbo1KxPxghuPyGUqE/0Kb1vk5SkT9AsnBD3lGBPyDJZkz9UHE/APdSXjtPYT+AUiuCt0tRPwAK3MmvREE/AHg9WaA2MT8AVAB4gRohPwAQhrVD4hA/AICRMMhxAD8AwFBNoiHvPgAArCXGnds+AABj1g2WxD4AAEDfdBqaPgAAVAVEmKU+SLhLxKtSsT+gtSn4oFKhP1Cw5V+LUpE/oKVdL2BSgT9AkE3OCVJxP4BlLQxdUWE/ABDthwNQUT8AZmx/UE1BPwAQa27qRzE/AGhoTB49IT8AEGMIhicRPwBgWIBV/AA/AABDcPSl8D4AADGgZPLfPgAAhh9cP80+AAAwHkvZtz4AABA3UhqaPgAAoNM1FoE+VrLwGLBSsT8=\",\"dtype\":\"float64\",\"shape\":[100]}},\"selected\":{\"id\":\"4292\",\"type\":\"Selection\"},\"selection_policy\":{\"id\":\"4291\",\"type\":\"UnionRenderers\"}},\"id\":\"4275\",\"type\":\"ColumnDataSource\"},{\"attributes\":{\"callback\":null},\"id\":\"4242\",\"type\":\"DataRange1d\"},{\"attributes\":{},\"id\":\"4196\",\"type\":\"BasicTicker\"},{\"attributes\":{},\"id\":\"4193\",\"type\":\"LogScale\"},{\"attributes\":{\"ticker\":null},\"id\":\"4232\",\"type\":\"LogTickFormatter\"},{\"attributes\":{},\"id\":\"4191\",\"type\":\"LinearScale\"},{\"attributes\":{\"callback\":null},\"id\":\"4189\",\"type\":\"DataRange1d\"},{\"attributes\":{\"below\":[{\"id\":\"4250\",\"type\":\"LogAxis\"}],\"left\":[{\"id\":\"4255\",\"type\":\"LogAxis\"}],\"plot_height\":300,\"plot_width\":490,\"renderers\":[{\"id\":\"4250\",\"type\":\"LogAxis\"},{\"id\":\"4254\",\"type\":\"Grid\"},{\"id\":\"4255\",\"type\":\"LogAxis\"},{\"id\":\"4259\",\"type\":\"Grid\"},{\"id\":\"4268\",\"type\":\"BoxAnnotation\"},{\"id\":\"4278\",\"type\":\"GlyphRenderer\"},{\"id\":\"4294\",\"type\":\"Legend\"},{\"id\":\"4283\",\"type\":\"GlyphRenderer\"}],\"title\":{\"id\":\"4285\",\"type\":\"Title\"},\"toolbar\":{\"id\":\"4266\",\"type\":\"Toolbar\"},\"x_range\":{\"id\":\"4242\",\"type\":\"DataRange1d\"},\"x_scale\":{\"id\":\"4246\",\"type\":\"LogScale\"},\"y_range\":{\"id\":\"4244\",\"type\":\"DataRange1d\"},\"y_scale\":{\"id\":\"4248\",\"type\":\"LogScale\"}},\"id\":\"4241\",\"subtype\":\"Figure\",\"type\":\"Plot\"},{\"attributes\":{\"callback\":null,\"data\":{\"x\":[0,1,2,3,4,5,6,7,8,9,10,11,12,13,14,15,16,17,18,19,20,21,22,23,24,25,26,27,28,29,30,31,32,33,34,35,36,37,38,39,40,41,42,43,44,45,46,47,48,49,50,51,52,53,54,55,56,57,58,59,60,61,62,63,64,65,66,67,68,69,70,71,72,73,74,75,76,77,78,79,80,81,82,83,84,85,86,87,88,89,90,91,92,93,94,95,96,97,98,99,100],\"y\":{\"__ndarray__\":\"dnccLqAR9T/UgilPn5XkPwDnxiehIYg/4knq4f746z9a0AN19NbgP3h8s8E+wNI/kCjcqS16wz/wL7R7BtSyP2CHQCQVR6A/gK/gvsf5hD8A0N50JEJHP4xbkTlaX9o/CG+2troIzT8welzKsJi+P0CA4+PaVq8/QOPmHm93nz+AZp7mI/6OPwCMNK3nqn0/AMZmmjfTaj8AeKwuAQtVPwCwa9k03DI/AMBFh+ejKz8cIJPpIfXZP2B1IEmYj8w/wKIt/Hggvj+AE3LJPfauPwBj6uE/U58/AFv/7iRajz8AQcUEJwt/PwDi9BTwPW4/AHjss62LXD8AUKLNMBtJPwAgLnE3NDI/AIAfQRCNAT8AAJs9I0AXPwjZzIgF89k/iHUDtqmOzD9QITLm/iK+P0AAa/tyAK8/gGEg1kttnz8AF7r6IJSPPwAvwFcmhX8/AFj5/Ac4bz8AOMno/4VePwDwjzX8FU0/APDwjfcvOj8A4I++7mAkPwAAi0+6ggE/AACoHwz9/D54O1iqWvPZPyCi/rTcj8w/0CbqNRsmvj/g6ZMaggevP0CpBxVUfJ8/AH5xRiazjz8APsxuK8R/PwD0Y5cPt28/AHxnBQ6FXz8AoJwVGBVPPwBgsVQvLz4/AGC4gl5gLD8AgMP+PMEYPwAA2vg5ggE/AAAwVJ8eyD4AAEQ0KPnpPvxYNqYa89k/6DSJF8OPzD8ggv+JcCa+P0CIbGvNCK8/gCqm+pl/nz8AapdsabqPPwBosFlt038/AKJ6PFHWbz8AnBE7UMRfPwBAfftblE8/AHDF4nYuPz8AQCaFrV8uPwCA4vuawBw/AABa9LWBCT8AAEnniwPzPgAAIDUfHMg+AADgZhjy0z6A+RhQJfPZPzg+J33pj8w/UIu5F9Qmvj+AlZhNrwmvPwDK4fR6gZ8/AE0W8Em+jz8AM6WlTdt/PwA8zXYx5m8/AAh8gTDkXz8A4O5xPNRPPwCQO8VXrj8/ACCjRY9fLz8AQGx7fsAePwCAfvOcgQ0/AABi5nkD+z4AAKjMAwfmPgAAgDL/G8g+AACANlOQrz6k+GalKvPZPw==\",\"dtype\":\"float64\",\"shape\":[101]}},\"selected\":{\"id\":\"4510\",\"type\":\"Selection\"},\"selection_policy\":{\"id\":\"4509\",\"type\":\"UnionRenderers\"}},\"id\":\"4225\",\"type\":\"ColumnDataSource\"},{\"attributes\":{\"callback\":null},\"id\":\"4187\",\"type\":\"DataRange1d\"},{\"attributes\":{\"callback\":null,\"data\":{\"x\":[0,1,2,3,4,5,6,7,8,9,10,11,12,13,14,15,16,17,18,19,20,21,22,23,24,25,26,27,28,29,30,31,32,33,34,35,36,37,38,39,40,41,42,43,44,45,46,47,48,49,50,51,52,53,54,55,56,57,58,59,60,61,62,63,64,65,66,67,68,69,70,71,72,73,74,75,76,77,78,79,80,81,82,83,84,85,86,87,88,89,90,91,92,93,94,95,96,97,98,99,100],\"y\":{\"__ndarray__\":\"bPc+M5ao1z9UTjnXL0a/P4BW/uko+Vk/ummSFHQyyD8Mbb7Cgf63P7BzFh+dlqc/AIHG19PGlj+gmyZJQSeFP8DQ5isc6HE/AHbO4qPTVj8AAH85KCwZP8SLQ67TqrE/BCw1pIikoT+AbBiQ8peRP4Dt3mfGfoE/gO9rF25McT+A84V2vedgP4D7uTRcHlA/ABhEYjMXPT8AWORTKcwmPwCwSW4qbAQ/AEC0BCbs/T5gJd3HSFSxPxzafAVqUqE/kEO8gKxOkT+AFjt3MUeBP2C8OGQ7OHE/AAg0Pk8aYT+Anyrydt5QPwDOF1rGZkA/AFjkU8ruLj8A0E2TRTEbPwDAIBI8tgM/AIAaP6QA0z4AgO30/CvpPoCqXPaRUrE/FAN1lshRoT9AtKXWNVCRP5AWB1cQTYE/QNvJV8VGcT+AZE9ZLzphPwB3WlwDIVE/AJxwYqvuQD8A5pxu+4kwPwDw6g03gR8/AEBNb7dbDD8A4BEyuBD2PgAANm9z9dI+AACleoZizz4AxAYX11KxP7jO+VGYUqE/IOTfxxpSkT8AD6yzH1GBP8BkRIspT3E/ABB1Oj1LYT8AZ9aYZENRPwAUmVWzM0E/AHAez1AUMT8AKCnCi9UgPwCQPqgBWBA/AMDS6Nq5/j4AAH4Zis3qPgAA1Xro9NI+AAAQ7Ckdmj4AACQ94R68Pj5emRujUrE/GCG4/IZSoT/QpvW+TlKRP0CycEPeUYE/IMlmTP1QcT8A91JeO09hP4BSK4K3S1E/AArcya9EQT8AeD1ZoDYxPwBUAHiBGiE/ABCGtUPiED8AgJEwyHEAPwDAUE2iIe8+AACsJcad2z4AAGPWDZbEPgAAQN90Gpo+AABUBUSYpT5IuEvEq1KxP6C1KfigUqE/ULDlX4tSkT+gpV0vYFKBP0CQTc4JUnE/gGUtDF1RYT8AEO2HA1BRPwBmbH9QTUE/ABBrbupHMT8AaGhMHj0hPwAQYwiGJxE/AGBYgFX8AD8AAENw9KXwPgAAMaBk8t8+AACGH1w/zT4AADAeS9m3PgAAEDdSGpo+AACg0zUWgT5WsvAYsFKxPw==\",\"dtype\":\"float64\",\"shape\":[101]}},\"selected\":{\"id\":\"4237\",\"type\":\"Selection\"},\"selection_policy\":{\"id\":\"4236\",\"type\":\"UnionRenderers\"}},\"id\":\"4220\",\"type\":\"ColumnDataSource\"},{\"attributes\":{\"below\":[{\"id\":\"4195\",\"type\":\"LinearAxis\"}],\"left\":[{\"id\":\"4200\",\"type\":\"LogAxis\"}],\"plot_height\":300,\"plot_width\":490,\"renderers\":[{\"id\":\"4195\",\"type\":\"LinearAxis\"},{\"id\":\"4199\",\"type\":\"Grid\"},{\"id\":\"4200\",\"type\":\"LogAxis\"},{\"id\":\"4204\",\"type\":\"Grid\"},{\"id\":\"4213\",\"type\":\"BoxAnnotation\"},{\"id\":\"4223\",\"type\":\"GlyphRenderer\"},{\"id\":\"4239\",\"type\":\"Legend\"},{\"id\":\"4228\",\"type\":\"GlyphRenderer\"}],\"title\":{\"id\":\"4230\",\"type\":\"Title\"},\"toolbar\":{\"id\":\"4211\",\"type\":\"Toolbar\"},\"x_range\":{\"id\":\"4187\",\"type\":\"DataRange1d\"},\"x_scale\":{\"id\":\"4191\",\"type\":\"LinearScale\"},\"y_range\":{\"id\":\"4189\",\"type\":\"DataRange1d\"},\"y_scale\":{\"id\":\"4193\",\"type\":\"LogScale\"}},\"id\":\"4186\",\"subtype\":\"Figure\",\"type\":\"Plot\"},{\"attributes\":{},\"id\":\"4236\",\"type\":\"UnionRenderers\"},{\"attributes\":{},\"id\":\"4234\",\"type\":\"BasicTickFormatter\"},{\"attributes\":{\"formatter\":{\"id\":\"4234\",\"type\":\"BasicTickFormatter\"},\"plot\":{\"id\":\"4186\",\"subtype\":\"Figure\",\"type\":\"Plot\"},\"ticker\":{\"id\":\"4196\",\"type\":\"BasicTicker\"}},\"id\":\"4195\",\"type\":\"LinearAxis\"}],\"root_ids\":[\"4296\"]},\"title\":\"Bokeh Application\",\"version\":\"1.0.4\"}};\n",
       "  var render_items = [{\"docid\":\"1e817369-8520-477f-8f34-7fed38f69934\",\"roots\":{\"4296\":\"a8729bc1-2982-4ad3-bc8e-517823d01bc7\"}}];\n",
       "  root.Bokeh.embed.embed_items_notebook(docs_json, render_items);\n",
       "\n",
       "  }\n",
       "  if (root.Bokeh !== undefined) {\n",
       "    embed_document(root);\n",
       "  } else {\n",
       "    var attempts = 0;\n",
       "    var timer = setInterval(function(root) {\n",
       "      if (root.Bokeh !== undefined) {\n",
       "        embed_document(root);\n",
       "        clearInterval(timer);\n",
       "      }\n",
       "      attempts++;\n",
       "      if (attempts > 100) {\n",
       "        console.log(\"Bokeh: ERROR: Unable to run BokehJS code because BokehJS library is missing\");\n",
       "        clearInterval(timer);\n",
       "      }\n",
       "    }, 10, root)\n",
       "  }\n",
       "})(window);"
      ],
      "application/vnd.bokehjs_exec.v0+json": ""
     },
     "metadata": {
      "application/vnd.bokehjs_exec.v0+json": {
       "id": "4296"
      }
     },
     "output_type": "display_data"
    }
   ],
   "source": [
    "xstar = np.exp(-2)\n",
    "xsol = my_bissection(m,a=0.01, b=1, xstar=xstar, tol=1.e-15, nitmax=100)\n",
    "print(f\"Convergence de l'algorithme de la bissection en {xsol.size-1} itérations\")\n",
    "print(f\"--> solution de m(x) = 0 obtenue pour  x = {xsol[-1]}\")\n",
    "\n",
    "err = np.abs(xsol - xstar)\n",
    "\n",
    "fig1 = figure(width=490, height=300, y_axis_type=\"log\")\n",
    "fig1.x(range(xsol.size), err, size=5)\n",
    "fig1.x(range(xsol.size),np.abs(m(xsol)),color='red',legend=\"erreur résiduelle\")\n",
    "\n",
    "fig2 = figure(width=490, height=300, x_axis_type=\"log\", y_axis_type=\"log\")\n",
    "fig2.x(err[:-1], err[1:], size=5)\n",
    "rho=0.5*(1+np.sqrt(5))\n",
    "fig2.line(err[:-1], err[:-1],  color=\"red\", legend=\"ordre 1\")\n",
    "\n",
    "show(row(fig1, fig2))"
   ]
  },
  {
   "cell_type": "markdown",
   "metadata": {},
   "source": [
    "Cette méthode est linéaire. En effet, $\\epsilon_{n+1} \\leq \\frac{\\epsilon_{n}}{2}$."
   ]
  },
  {
   "cell_type": "markdown",
   "metadata": {},
   "source": [
    "### Bonus : algorithme hybride Bissection-Newton"
   ]
  },
  {
   "cell_type": "markdown",
   "metadata": {},
   "source": [
    "Considérer la fonction $f(x) = x^5-x+1$ sur l'intervalle $[-2.5,2.5]$.\n",
    "* Tester la méthode de Newton pour cette fonction avec $x_0=-1$ et $x_0=1$. En cas de non convergence, expliquer le comportement observé.\n",
    "* Tester votre algorithme hybride Bissection-Newton sur la fonction $f$. Représenter graphiquement la courbe de convergence et commenter le comportement de votre algorithme."
   ]
  },
  {
   "cell_type": "code",
   "execution_count": 25,
   "metadata": {},
   "outputs": [],
   "source": [
    "def my_newton2(f, df, x0, tol=1.e-12, nitmax=50): # on enlève le xstar\n",
    "   \n",
    "    # initialisation\n",
    "    x = np.zeros(nitmax+1)\n",
    "    x[0] = x0\n",
    "    \n",
    "    # iteration de Newton        \n",
    "    for i in range(1, nitmax+1):\n",
    "        x[i] = x[i-1] - f(x[i-1])/df(x[i-1])\n",
    "       \n",
    "        if ( abs(f(x[i])) < tol ): break\n",
    "            \n",
    "    return x[0:i+1]"
   ]
  },
  {
   "cell_type": "code",
   "execution_count": 26,
   "metadata": {},
   "outputs": [],
   "source": [
    "def f(x):\n",
    "    return x*x*x*x*x-x+1\n",
    "\n",
    "def df(x):\n",
    "    return 5*x*x*x*x-1"
   ]
  },
  {
   "cell_type": "code",
   "execution_count": 27,
   "metadata": {
    "scrolled": true
   },
   "outputs": [
    {
     "name": "stdout",
     "output_type": "stream",
     "text": [
      "Convergence de l'algorithme de Newton2 en 50 itérations\n",
      "--> solution de f(x) = 0 obtenue pour  x = -0.08335709970127181\n",
      "Itérations successives de xsol:  [ 1.          0.75       -0.08724832  1.00031005  0.75038738 -0.08256818\n",
      "  1.0002478   0.75030963 -0.08350399  1.00025941  0.75032414 -0.08332928\n",
      "  1.00025721  0.75032139 -0.08336235  1.00025763  0.75032191 -0.08335611\n",
      "  1.00025755  0.75032181 -0.08335729  1.00025756  0.75032183 -0.08335706\n",
      "  1.00025756  0.75032183 -0.08335711  1.00025756  0.75032183 -0.0833571\n",
      "  1.00025756  0.75032183 -0.0833571   1.00025756  0.75032183 -0.0833571\n",
      "  1.00025756  0.75032183 -0.0833571   1.00025756  0.75032183 -0.0833571\n",
      "  1.00025756  0.75032183 -0.0833571   1.00025756  0.75032183 -0.0833571\n",
      "  1.00025756  0.75032183 -0.0833571 ]\n"
     ]
    },
    {
     "data": {
      "text/html": [
       "\n",
       "\n",
       "\n",
       "\n",
       "\n",
       "\n",
       "  <div class=\"bk-root\" id=\"4da7792f-2cb6-47b3-a046-dfc37b63448a\" data-root-id=\"4743\"></div>\n"
      ]
     },
     "metadata": {},
     "output_type": "display_data"
    },
    {
     "data": {
      "application/javascript": [
       "(function(root) {\n",
       "  function embed_document(root) {\n",
       "    \n",
       "  var docs_json = {\"11ef06ec-414c-49b1-9dd7-7e50d59f04f4\":{\"roots\":{\"references\":[{\"attributes\":{\"children\":[{\"id\":\"4649\",\"subtype\":\"Figure\",\"type\":\"Plot\"},{\"id\":\"4704\",\"subtype\":\"Figure\",\"type\":\"Plot\"}]},\"id\":\"4743\",\"type\":\"Row\"},{\"attributes\":{\"label\":{\"value\":\"erreur r\\u00e9siduelle\"},\"renderers\":[{\"id\":\"4691\",\"type\":\"GlyphRenderer\"}]},\"id\":\"4703\",\"type\":\"LegendItem\"},{\"attributes\":{\"fill_color\":{\"value\":\"#1f77b4\"},\"line_color\":{\"value\":\"#1f77b4\"},\"size\":{\"units\":\"screen\",\"value\":5},\"x\":{\"field\":\"x\"},\"y\":{\"field\":\"y\"}},\"id\":\"4684\",\"type\":\"X\"},{\"attributes\":{\"formatter\":{\"id\":\"4697\",\"type\":\"BasicTickFormatter\"},\"plot\":{\"id\":\"4649\",\"subtype\":\"Figure\",\"type\":\"Plot\"},\"ticker\":{\"id\":\"4659\",\"type\":\"BasicTicker\"}},\"id\":\"4658\",\"type\":\"LinearAxis\"},{\"attributes\":{\"callback\":null,\"data\":{\"x\":[0,1,2,3,4,5,6,7,8,9,10,11,12,13,14,15,16,17,18,19,20,21,22,23,24,25,26,27,28,29,30,31,32,33,34,35,36,37,38,39,40,41,42,43,44,45,46,47,48,49,50],\"y\":{\"__ndarray__\":\"AAAAAAAA8D8AAAAAADDfPw65/zFZZfE/K2aPbxUF8D9UUTNUtDPfPwJtWvwuUvE/7osE/g8E8D98ci+V9TLfP2VyIQUEVvE/TMNewUAE8D/Am5MmGTPfPzSdht5MVfE/s1/OhTcE8D9GRoFqEjPfP5BJWIpvVfE/+RcRRDkE8D/6awWwEzPfPy/Qdf5oVfE/467D7zgE8D9yQIdyEzPfP/UCDDtqVfE/cy+w/zgE8D8cyCR+EzPfP1o3P/9pVfE/hCmu/DgE8D80GvN7EzPfP/3wigpqVfE/HZ0//TgE8D8EM118EzPfP2e3aAhqVfE/mSMk/TgE8D+OKEl8EzPfP+DkzwhqVfE/LlQp/TgE8D+q8Ux8EzPfP4dnvAhqVfE/N1ko/TgE8D+aOkx8EzPfP/8VwAhqVfE/pIgo/TgE8D8wXUx8EzPfP+9jvwhqVfE/rH8o/TgE8D+oVkx8EzPfP5mFvwhqVfE/WIEo/TgE8D/gV0x8EzPfP0l/vwhqVfE/CIEo/TgE8D+mV0x8EzPfP3iAvwhqVfE/\",\"dtype\":\"float64\",\"shape\":[51]}},\"selected\":{\"id\":\"4979\",\"type\":\"Selection\"},\"selection_policy\":{\"id\":\"4978\",\"type\":\"UnionRenderers\"}},\"id\":\"4688\",\"type\":\"ColumnDataSource\"},{\"attributes\":{},\"id\":\"4673\",\"type\":\"HelpTool\"},{\"attributes\":{},\"id\":\"4726\",\"type\":\"SaveTool\"},{\"attributes\":{\"plot\":null,\"text\":\"\"},\"id\":\"4966\",\"type\":\"Title\"},{\"attributes\":{\"callback\":null,\"data\":{\"x\":{\"__ndarray__\":\"jR8QV1Wr6z+NHxBXVavjP7wm4Jyefcw/Ww7Ijd+t6z8Zecu6ga7jP+RJ1LdC5Ms/TaOiA12t6z8BbgSx3q3jPyhNx9vsAsw/fWZnXXWt6z+zn04b/a3jP9BcHEwz/cs/tZglwXCt6z/JqyBZ963jPwyOzLtI/ss/aYD9n3Gt6z+ojXdv+K3jP2Dve1kU/ss/ga7kdXGt6z/L7OI6+K3jP/QSyj4e/ss/b0/YfXGt6z9If9FE+K3jP8AjRmAc/ss/SctXfHGt6z8OOfFC+K3jP9SGqboc/ss/IW2gfHGt6z9r8UtD+K3jPwCslqkc/ss/5bSSfHGt6z+EzjpD+K3jP9RK0Kwc/ss/VUyVfHGt6z8tCz5D+K3jP2RWNKwc/ss/A8+UfHGt6z+lbj1D+K3jP/jLUawc/ss/seaUfHGt6z84jD1D+K3jPxw7TKwc/ss/N+KUfHGt6z+hhj1D+K3jP4BITawc/ss/DeOUfHGt6z+thz1D+K3jPwAWTawc/ss/5eKUfHGt6z97hz1D+K3jPw==\",\"dtype\":\"float64\",\"shape\":[50]},\"y\":{\"__ndarray__\":\"jR8QV1Wr4z+8JuCcnn3MP1sOyI3fres/GXnLuoGu4z/kSdS3QuTLP02jogNdres/AW4Esd6t4z8oTcfb7ALMP31mZ111res/s59OG/2t4z/QXBxMM/3LP7WYJcFwres/yasgWfet4z8Mjsy7SP7LP2mA/Z9xres/qI13b/it4z9g73tZFP7LP4Gu5HVxres/y+ziOvit4z/0Eso+Hv7LP29P2H1xres/SH/RRPit4z/AI0ZgHP7LP0nLV3xxres/DjnxQvit4z/Uhqm6HP7LPyFtoHxxres/a/FLQ/it4z8ArJapHP7LP+W0knxxres/hM46Q/it4z/UStCsHP7LP1VMlXxxres/LQs+Q/it4z9kVjSsHP7LPwPPlHxxres/pW49Q/it4z/4y1GsHP7LP7HmlHxxres/OIw9Q/it4z8cO0ysHP7LPzfilHxxres/oYY9Q/it4z+ASE2sHP7LPw3jlHxxres/rYc9Q/it4z8AFk2sHP7LP+XilHxxres/e4c9Q/it4z90H02sHP7LPw==\",\"dtype\":\"float64\",\"shape\":[50]}},\"selected\":{\"id\":\"4982\",\"type\":\"Selection\"},\"selection_policy\":{\"id\":\"4981\",\"type\":\"UnionRenderers\"}},\"id\":\"4738\",\"type\":\"ColumnDataSource\"},{\"attributes\":{},\"id\":\"4659\",\"type\":\"BasicTicker\"},{\"attributes\":{},\"id\":\"4727\",\"type\":\"ResetTool\"},{\"attributes\":{\"data_source\":{\"id\":\"4688\",\"type\":\"ColumnDataSource\"},\"glyph\":{\"id\":\"4689\",\"type\":\"X\"},\"hover_glyph\":null,\"muted_glyph\":null,\"nonselection_glyph\":{\"id\":\"4690\",\"type\":\"X\"},\"selection_glyph\":null,\"view\":{\"id\":\"4692\",\"type\":\"CDSView\"}},\"id\":\"4691\",\"type\":\"GlyphRenderer\"},{\"attributes\":{\"plot\":{\"id\":\"4649\",\"subtype\":\"Figure\",\"type\":\"Plot\"},\"ticker\":{\"id\":\"4659\",\"type\":\"BasicTicker\"}},\"id\":\"4662\",\"type\":\"Grid\"},{\"attributes\":{\"callback\":null},\"id\":\"4705\",\"type\":\"DataRange1d\"},{\"attributes\":{},\"id\":\"4728\",\"type\":\"HelpTool\"},{\"attributes\":{\"formatter\":{\"id\":\"4695\",\"type\":\"LogTickFormatter\"},\"plot\":{\"id\":\"4649\",\"subtype\":\"Figure\",\"type\":\"Plot\"},\"ticker\":{\"id\":\"4664\",\"type\":\"LogTicker\"}},\"id\":\"4663\",\"type\":\"LogAxis\"},{\"attributes\":{\"callback\":null},\"id\":\"4707\",\"type\":\"DataRange1d\"},{\"attributes\":{\"active_drag\":\"auto\",\"active_inspect\":\"auto\",\"active_multi\":null,\"active_scroll\":\"auto\",\"active_tap\":\"auto\",\"tools\":[{\"id\":\"4723\",\"type\":\"PanTool\"},{\"id\":\"4724\",\"type\":\"WheelZoomTool\"},{\"id\":\"4725\",\"type\":\"BoxZoomTool\"},{\"id\":\"4726\",\"type\":\"SaveTool\"},{\"id\":\"4727\",\"type\":\"ResetTool\"},{\"id\":\"4728\",\"type\":\"HelpTool\"}]},\"id\":\"4729\",\"type\":\"Toolbar\"},{\"attributes\":{\"num_minor_ticks\":10},\"id\":\"4664\",\"type\":\"LogTicker\"},{\"attributes\":{},\"id\":\"4709\",\"type\":\"LogScale\"},{\"attributes\":{\"bottom_units\":\"screen\",\"fill_alpha\":{\"value\":0.5},\"fill_color\":{\"value\":\"lightgrey\"},\"left_units\":\"screen\",\"level\":\"overlay\",\"line_alpha\":{\"value\":1.0},\"line_color\":{\"value\":\"black\"},\"line_dash\":[4,4],\"line_width\":{\"value\":2},\"plot\":null,\"render_mode\":\"css\",\"right_units\":\"screen\",\"top_units\":\"screen\"},\"id\":\"4731\",\"type\":\"BoxAnnotation\"},{\"attributes\":{\"dimension\":1,\"plot\":{\"id\":\"4649\",\"subtype\":\"Figure\",\"type\":\"Plot\"},\"ticker\":{\"id\":\"4664\",\"type\":\"LogTicker\"}},\"id\":\"4667\",\"type\":\"Grid\"},{\"attributes\":{\"active_drag\":\"auto\",\"active_inspect\":\"auto\",\"active_multi\":null,\"active_scroll\":\"auto\",\"active_tap\":\"auto\",\"tools\":[{\"id\":\"4668\",\"type\":\"PanTool\"},{\"id\":\"4669\",\"type\":\"WheelZoomTool\"},{\"id\":\"4670\",\"type\":\"BoxZoomTool\"},{\"id\":\"4671\",\"type\":\"SaveTool\"},{\"id\":\"4672\",\"type\":\"ResetTool\"},{\"id\":\"4673\",\"type\":\"HelpTool\"}]},\"id\":\"4674\",\"type\":\"Toolbar\"},{\"attributes\":{},\"id\":\"4711\",\"type\":\"LogScale\"},{\"attributes\":{\"source\":{\"id\":\"4738\",\"type\":\"ColumnDataSource\"}},\"id\":\"4742\",\"type\":\"CDSView\"},{\"attributes\":{\"ticker\":null},\"id\":\"4695\",\"type\":\"LogTickFormatter\"},{\"attributes\":{\"formatter\":{\"id\":\"4974\",\"type\":\"LogTickFormatter\"},\"plot\":{\"id\":\"4704\",\"subtype\":\"Figure\",\"type\":\"Plot\"},\"ticker\":{\"id\":\"4714\",\"type\":\"LogTicker\"}},\"id\":\"4713\",\"type\":\"LogAxis\"},{\"attributes\":{\"callback\":null},\"id\":\"4652\",\"type\":\"DataRange1d\"},{\"attributes\":{\"plot\":null,\"text\":\"\"},\"id\":\"4693\",\"type\":\"Title\"},{\"attributes\":{\"below\":[{\"id\":\"4658\",\"type\":\"LinearAxis\"}],\"left\":[{\"id\":\"4663\",\"type\":\"LogAxis\"}],\"plot_height\":300,\"plot_width\":490,\"renderers\":[{\"id\":\"4658\",\"type\":\"LinearAxis\"},{\"id\":\"4662\",\"type\":\"Grid\"},{\"id\":\"4663\",\"type\":\"LogAxis\"},{\"id\":\"4667\",\"type\":\"Grid\"},{\"id\":\"4676\",\"type\":\"BoxAnnotation\"},{\"id\":\"4686\",\"type\":\"GlyphRenderer\"},{\"id\":\"4702\",\"type\":\"Legend\"},{\"id\":\"4691\",\"type\":\"GlyphRenderer\"}],\"title\":{\"id\":\"4693\",\"type\":\"Title\"},\"toolbar\":{\"id\":\"4674\",\"type\":\"Toolbar\"},\"x_range\":{\"id\":\"4650\",\"type\":\"DataRange1d\"},\"x_scale\":{\"id\":\"4654\",\"type\":\"LinearScale\"},\"y_range\":{\"id\":\"4652\",\"type\":\"DataRange1d\"},\"y_scale\":{\"id\":\"4656\",\"type\":\"LogScale\"}},\"id\":\"4649\",\"subtype\":\"Figure\",\"type\":\"Plot\"},{\"attributes\":{\"callback\":null,\"data\":{\"x\":[0,1,2,3,4,5,6,7,8,9,10,11,12,13,14,15,16,17,18,19,20,21,22,23,24,25,26,27,28,29,30,31,32,33,34,35,36,37,38,39,40,41,42,43,44,45,46,47,48,49,50],\"y\":{\"__ndarray__\":\"jR8QV1Wr6z+NHxBXVavjP7wm4Jyefcw/Ww7Ijd+t6z8Zecu6ga7jP+RJ1LdC5Ms/TaOiA12t6z8BbgSx3q3jPyhNx9vsAsw/fWZnXXWt6z+zn04b/a3jP9BcHEwz/cs/tZglwXCt6z/JqyBZ963jPwyOzLtI/ss/aYD9n3Gt6z+ojXdv+K3jP2Dve1kU/ss/ga7kdXGt6z/L7OI6+K3jP/QSyj4e/ss/b0/YfXGt6z9If9FE+K3jP8AjRmAc/ss/SctXfHGt6z8OOfFC+K3jP9SGqboc/ss/IW2gfHGt6z9r8UtD+K3jPwCslqkc/ss/5bSSfHGt6z+EzjpD+K3jP9RK0Kwc/ss/VUyVfHGt6z8tCz5D+K3jP2RWNKwc/ss/A8+UfHGt6z+lbj1D+K3jP/jLUawc/ss/seaUfHGt6z84jD1D+K3jPxw7TKwc/ss/N+KUfHGt6z+hhj1D+K3jP4BITawc/ss/DeOUfHGt6z+thz1D+K3jPwAWTawc/ss/5eKUfHGt6z97hz1D+K3jP3QfTawc/ss/\",\"dtype\":\"float64\",\"shape\":[51]}},\"selected\":{\"id\":\"4700\",\"type\":\"Selection\"},\"selection_policy\":{\"id\":\"4699\",\"type\":\"UnionRenderers\"}},\"id\":\"4683\",\"type\":\"ColumnDataSource\"},{\"attributes\":{\"bottom_units\":\"screen\",\"fill_alpha\":{\"value\":0.5},\"fill_color\":{\"value\":\"lightgrey\"},\"left_units\":\"screen\",\"level\":\"overlay\",\"line_alpha\":{\"value\":1.0},\"line_color\":{\"value\":\"black\"},\"line_dash\":[4,4],\"line_width\":{\"value\":2},\"plot\":null,\"render_mode\":\"css\",\"right_units\":\"screen\",\"top_units\":\"screen\"},\"id\":\"4676\",\"type\":\"BoxAnnotation\"},{\"attributes\":{\"fill_alpha\":{\"value\":0.1},\"fill_color\":{\"value\":\"#1f77b4\"},\"line_alpha\":{\"value\":0.1},\"line_color\":{\"value\":\"#1f77b4\"},\"x\":{\"field\":\"x\"},\"y\":{\"field\":\"y\"}},\"id\":\"4690\",\"type\":\"X\"},{\"attributes\":{\"fill_color\":{\"value\":\"red\"},\"line_color\":{\"value\":\"red\"},\"x\":{\"field\":\"x\"},\"y\":{\"field\":\"y\"}},\"id\":\"4689\",\"type\":\"X\"},{\"attributes\":{\"num_minor_ticks\":10},\"id\":\"4714\",\"type\":\"LogTicker\"},{\"attributes\":{\"plot\":{\"id\":\"4704\",\"subtype\":\"Figure\",\"type\":\"Plot\"},\"ticker\":{\"id\":\"4714\",\"type\":\"LogTicker\"}},\"id\":\"4717\",\"type\":\"Grid\"},{\"attributes\":{},\"id\":\"4668\",\"type\":\"PanTool\"},{\"attributes\":{\"ticker\":null},\"id\":\"4972\",\"type\":\"LogTickFormatter\"},{\"attributes\":{\"below\":[{\"id\":\"4713\",\"type\":\"LogAxis\"}],\"left\":[{\"id\":\"4718\",\"type\":\"LogAxis\"}],\"plot_height\":300,\"plot_width\":490,\"renderers\":[{\"id\":\"4713\",\"type\":\"LogAxis\"},{\"id\":\"4717\",\"type\":\"Grid\"},{\"id\":\"4718\",\"type\":\"LogAxis\"},{\"id\":\"4722\",\"type\":\"Grid\"},{\"id\":\"4731\",\"type\":\"BoxAnnotation\"},{\"id\":\"4741\",\"type\":\"GlyphRenderer\"}],\"title\":{\"id\":\"4966\",\"type\":\"Title\"},\"toolbar\":{\"id\":\"4729\",\"type\":\"Toolbar\"},\"x_range\":{\"id\":\"4705\",\"type\":\"DataRange1d\"},\"x_scale\":{\"id\":\"4709\",\"type\":\"LogScale\"},\"y_range\":{\"id\":\"4707\",\"type\":\"DataRange1d\"},\"y_scale\":{\"id\":\"4711\",\"type\":\"LogScale\"}},\"id\":\"4704\",\"subtype\":\"Figure\",\"type\":\"Plot\"},{\"attributes\":{},\"id\":\"4654\",\"type\":\"LinearScale\"},{\"attributes\":{},\"id\":\"4669\",\"type\":\"WheelZoomTool\"},{\"attributes\":{\"ticker\":null},\"id\":\"4974\",\"type\":\"LogTickFormatter\"},{\"attributes\":{\"num_minor_ticks\":10},\"id\":\"4719\",\"type\":\"LogTicker\"},{\"attributes\":{\"overlay\":{\"id\":\"4676\",\"type\":\"BoxAnnotation\"}},\"id\":\"4670\",\"type\":\"BoxZoomTool\"},{\"attributes\":{},\"id\":\"4978\",\"type\":\"UnionRenderers\"},{\"attributes\":{\"formatter\":{\"id\":\"4972\",\"type\":\"LogTickFormatter\"},\"plot\":{\"id\":\"4704\",\"subtype\":\"Figure\",\"type\":\"Plot\"},\"ticker\":{\"id\":\"4719\",\"type\":\"LogTicker\"}},\"id\":\"4718\",\"type\":\"LogAxis\"},{\"attributes\":{\"dimension\":1,\"plot\":{\"id\":\"4704\",\"subtype\":\"Figure\",\"type\":\"Plot\"},\"ticker\":{\"id\":\"4719\",\"type\":\"LogTicker\"}},\"id\":\"4722\",\"type\":\"Grid\"},{\"attributes\":{},\"id\":\"4671\",\"type\":\"SaveTool\"},{\"attributes\":{},\"id\":\"4979\",\"type\":\"Selection\"},{\"attributes\":{\"data_source\":{\"id\":\"4683\",\"type\":\"ColumnDataSource\"},\"glyph\":{\"id\":\"4684\",\"type\":\"X\"},\"hover_glyph\":null,\"muted_glyph\":null,\"nonselection_glyph\":{\"id\":\"4685\",\"type\":\"X\"},\"selection_glyph\":null,\"view\":{\"id\":\"4687\",\"type\":\"CDSView\"}},\"id\":\"4686\",\"type\":\"GlyphRenderer\"},{\"attributes\":{\"callback\":null},\"id\":\"4650\",\"type\":\"DataRange1d\"},{\"attributes\":{\"fill_alpha\":{\"value\":0.1},\"fill_color\":{\"value\":\"#1f77b4\"},\"line_alpha\":{\"value\":0.1},\"line_color\":{\"value\":\"#1f77b4\"},\"size\":{\"units\":\"screen\",\"value\":5},\"x\":{\"field\":\"x\"},\"y\":{\"field\":\"y\"}},\"id\":\"4740\",\"type\":\"X\"},{\"attributes\":{},\"id\":\"4672\",\"type\":\"ResetTool\"},{\"attributes\":{},\"id\":\"4981\",\"type\":\"UnionRenderers\"},{\"attributes\":{\"source\":{\"id\":\"4688\",\"type\":\"ColumnDataSource\"}},\"id\":\"4692\",\"type\":\"CDSView\"},{\"attributes\":{\"fill_color\":{\"value\":\"#1f77b4\"},\"line_color\":{\"value\":\"#1f77b4\"},\"size\":{\"units\":\"screen\",\"value\":5},\"x\":{\"field\":\"x\"},\"y\":{\"field\":\"y\"}},\"id\":\"4739\",\"type\":\"X\"},{\"attributes\":{},\"id\":\"4697\",\"type\":\"BasicTickFormatter\"},{\"attributes\":{},\"id\":\"4982\",\"type\":\"Selection\"},{\"attributes\":{\"fill_alpha\":{\"value\":0.1},\"fill_color\":{\"value\":\"#1f77b4\"},\"line_alpha\":{\"value\":0.1},\"line_color\":{\"value\":\"#1f77b4\"},\"size\":{\"units\":\"screen\",\"value\":5},\"x\":{\"field\":\"x\"},\"y\":{\"field\":\"y\"}},\"id\":\"4685\",\"type\":\"X\"},{\"attributes\":{\"source\":{\"id\":\"4683\",\"type\":\"ColumnDataSource\"}},\"id\":\"4687\",\"type\":\"CDSView\"},{\"attributes\":{},\"id\":\"4656\",\"type\":\"LogScale\"},{\"attributes\":{\"data_source\":{\"id\":\"4738\",\"type\":\"ColumnDataSource\"},\"glyph\":{\"id\":\"4739\",\"type\":\"X\"},\"hover_glyph\":null,\"muted_glyph\":null,\"nonselection_glyph\":{\"id\":\"4740\",\"type\":\"X\"},\"selection_glyph\":null,\"view\":{\"id\":\"4742\",\"type\":\"CDSView\"}},\"id\":\"4741\",\"type\":\"GlyphRenderer\"},{\"attributes\":{},\"id\":\"4699\",\"type\":\"UnionRenderers\"},{\"attributes\":{},\"id\":\"4723\",\"type\":\"PanTool\"},{\"attributes\":{},\"id\":\"4700\",\"type\":\"Selection\"},{\"attributes\":{},\"id\":\"4724\",\"type\":\"WheelZoomTool\"},{\"attributes\":{\"items\":[{\"id\":\"4703\",\"type\":\"LegendItem\"}],\"plot\":{\"id\":\"4649\",\"subtype\":\"Figure\",\"type\":\"Plot\"}},\"id\":\"4702\",\"type\":\"Legend\"},{\"attributes\":{\"overlay\":{\"id\":\"4731\",\"type\":\"BoxAnnotation\"}},\"id\":\"4725\",\"type\":\"BoxZoomTool\"}],\"root_ids\":[\"4743\"]},\"title\":\"Bokeh Application\",\"version\":\"1.0.4\"}};\n",
       "  var render_items = [{\"docid\":\"11ef06ec-414c-49b1-9dd7-7e50d59f04f4\",\"roots\":{\"4743\":\"4da7792f-2cb6-47b3-a046-dfc37b63448a\"}}];\n",
       "  root.Bokeh.embed.embed_items_notebook(docs_json, render_items);\n",
       "\n",
       "  }\n",
       "  if (root.Bokeh !== undefined) {\n",
       "    embed_document(root);\n",
       "  } else {\n",
       "    var attempts = 0;\n",
       "    var timer = setInterval(function(root) {\n",
       "      if (root.Bokeh !== undefined) {\n",
       "        embed_document(root);\n",
       "        clearInterval(timer);\n",
       "      }\n",
       "      attempts++;\n",
       "      if (attempts > 100) {\n",
       "        console.log(\"Bokeh: ERROR: Unable to run BokehJS code because BokehJS library is missing\");\n",
       "        clearInterval(timer);\n",
       "      }\n",
       "    }, 10, root)\n",
       "  }\n",
       "})(window);"
      ],
      "application/vnd.bokehjs_exec.v0+json": ""
     },
     "metadata": {
      "application/vnd.bokehjs_exec.v0+json": {
       "id": "4743"
      }
     },
     "output_type": "display_data"
    }
   ],
   "source": [
    "x0=1\n",
    "xsol = my_newton2(f, df, x0, tol=1.e-12, nitmax=50)\n",
    "print(f\"Convergence de l'algorithme de Newton2 en {xsol.size-1} itérations\")\n",
    "print(f\"--> solution de f(x) = 0 obtenue pour  x = {xsol[-1]}\")\n",
    "print(\"Itérations successives de xsol: \", xsol)\n",
    "\n",
    "err = np.abs(xsol - xstar)\n",
    "\n",
    "fig1 = figure(width=490, height=300, y_axis_type=\"log\")\n",
    "fig1.x(range(xsol.size), err, size=5)\n",
    "fig1.x(range(xsol.size),np.abs(f(xsol)),color='red',legend=\"erreur résiduelle\")\n",
    "\n",
    "fig2 = figure(width=490, height=300, x_axis_type=\"log\", y_axis_type=\"log\")\n",
    "fig2.x(err[:-1], err[1:], size=5)\n",
    "rho=0.5*(1+np.sqrt(5))\n",
    "#fig2.line(err[:-1], err[:-1]**rho,  color=\"red\", legend=\"ordre (1+sqrt(5))/2\")\n",
    "\n",
    "show(row(fig1, fig2))"
   ]
  },
  {
   "cell_type": "markdown",
   "metadata": {},
   "source": [
    "Dans le cas x0=1, on voit que l'algorithme ne converge pas (les erreurs sont constantes, la solution donnée \"0\" n'est pas valide). On remarque en effet que les itérations sont cycliques pour un cyles de longueur 3. Ainsi l'algorithme ne peut pas converger et est arrêté par le nombre maximal d'itérations qu'on a autorisé, ici 50.\n"
   ]
  },
  {
   "cell_type": "code",
   "execution_count": 28,
   "metadata": {},
   "outputs": [
    {
     "name": "stdout",
     "output_type": "stream",
     "text": [
      "Convergence de l'algorithme de Newton2 en 5 itérations\n",
      "--> solution de f(x) = 0 obtenue pour  x = -1.1673039782614396\n",
      "Itérations successives de xsol:  [-1.         -1.25       -1.17845939 -1.16753739 -1.16730408 -1.16730398]\n"
     ]
    },
    {
     "data": {
      "text/html": [
       "\n",
       "\n",
       "\n",
       "\n",
       "\n",
       "\n",
       "  <div class=\"bk-root\" id=\"64664126-80ef-4aa2-9533-6c74d6a31f84\" data-root-id=\"5104\"></div>\n"
      ]
     },
     "metadata": {},
     "output_type": "display_data"
    },
    {
     "data": {
      "application/javascript": [
       "(function(root) {\n",
       "  function embed_document(root) {\n",
       "    \n",
       "  var docs_json = {\"76d8a00e-ac55-4e63-a1e6-cf7494785f87\":{\"roots\":{\"references\":[{\"attributes\":{\"below\":[{\"id\":\"5113\",\"type\":\"LinearAxis\"}],\"left\":[{\"id\":\"5118\",\"type\":\"LogAxis\"}],\"plot_height\":300,\"plot_width\":490,\"renderers\":[{\"id\":\"5113\",\"type\":\"LinearAxis\"},{\"id\":\"5117\",\"type\":\"Grid\"},{\"id\":\"5118\",\"type\":\"LogAxis\"},{\"id\":\"5122\",\"type\":\"Grid\"},{\"id\":\"5131\",\"type\":\"BoxAnnotation\"},{\"id\":\"5141\",\"type\":\"GlyphRenderer\"},{\"id\":\"5157\",\"type\":\"Legend\"},{\"id\":\"5146\",\"type\":\"GlyphRenderer\"}],\"title\":{\"id\":\"5148\",\"type\":\"Title\"},\"toolbar\":{\"id\":\"5129\",\"type\":\"Toolbar\"},\"x_range\":{\"id\":\"5105\",\"type\":\"DataRange1d\"},\"x_scale\":{\"id\":\"5109\",\"type\":\"LinearScale\"},\"y_range\":{\"id\":\"5107\",\"type\":\"DataRange1d\"},\"y_scale\":{\"id\":\"5111\",\"type\":\"LogScale\"}},\"id\":\"5104\",\"subtype\":\"Figure\",\"type\":\"Plot\"},{\"attributes\":{\"callback\":null},\"id\":\"5107\",\"type\":\"DataRange1d\"},{\"attributes\":{\"items\":[{\"id\":\"5158\",\"type\":\"LegendItem\"}],\"plot\":{\"id\":\"5104\",\"subtype\":\"Figure\",\"type\":\"Plot\"}},\"id\":\"5157\",\"type\":\"Legend\"},{\"attributes\":{},\"id\":\"5127\",\"type\":\"ResetTool\"},{\"attributes\":{},\"id\":\"5123\",\"type\":\"PanTool\"},{\"attributes\":{},\"id\":\"5111\",\"type\":\"LogScale\"},{\"attributes\":{},\"id\":\"5109\",\"type\":\"LinearScale\"},{\"attributes\":{\"callback\":null,\"data\":{\"x\":[0,1,2,3,4,5],\"y\":{\"__ndarray__\":\"OvB3VFUq8j868HdUVSr2P0ILJZFNBfU/XPT8A5HY9D/4VDtgnNf0P2bqKUSc1/Q/\",\"dtype\":\"float64\",\"shape\":[6]}},\"selected\":{\"id\":\"5155\",\"type\":\"Selection\"},\"selection_policy\":{\"id\":\"5154\",\"type\":\"UnionRenderers\"}},\"id\":\"5138\",\"type\":\"ColumnDataSource\"},{\"attributes\":{\"fill_color\":{\"value\":\"red\"},\"line_color\":{\"value\":\"red\"},\"x\":{\"field\":\"x\"},\"y\":{\"field\":\"y\"}},\"id\":\"5144\",\"type\":\"X\"},{\"attributes\":{\"bottom_units\":\"screen\",\"fill_alpha\":{\"value\":0.5},\"fill_color\":{\"value\":\"lightgrey\"},\"left_units\":\"screen\",\"level\":\"overlay\",\"line_alpha\":{\"value\":1.0},\"line_color\":{\"value\":\"black\"},\"line_dash\":[4,4],\"line_width\":{\"value\":2},\"plot\":null,\"render_mode\":\"css\",\"right_units\":\"screen\",\"top_units\":\"screen\"},\"id\":\"5131\",\"type\":\"BoxAnnotation\"},{\"attributes\":{\"fill_alpha\":{\"value\":0.1},\"fill_color\":{\"value\":\"#1f77b4\"},\"line_alpha\":{\"value\":0.1},\"line_color\":{\"value\":\"#1f77b4\"},\"x\":{\"field\":\"x\"},\"y\":{\"field\":\"y\"}},\"id\":\"5145\",\"type\":\"X\"},{\"attributes\":{\"formatter\":{\"id\":\"5152\",\"type\":\"BasicTickFormatter\"},\"plot\":{\"id\":\"5104\",\"subtype\":\"Figure\",\"type\":\"Plot\"},\"ticker\":{\"id\":\"5114\",\"type\":\"BasicTicker\"}},\"id\":\"5113\",\"type\":\"LinearAxis\"},{\"attributes\":{\"overlay\":{\"id\":\"5131\",\"type\":\"BoxAnnotation\"}},\"id\":\"5125\",\"type\":\"BoxZoomTool\"},{\"attributes\":{\"num_minor_ticks\":10},\"id\":\"5119\",\"type\":\"LogTicker\"},{\"attributes\":{\"source\":{\"id\":\"5138\",\"type\":\"ColumnDataSource\"}},\"id\":\"5142\",\"type\":\"CDSView\"},{\"attributes\":{},\"id\":\"5128\",\"type\":\"HelpTool\"},{\"attributes\":{},\"id\":\"5152\",\"type\":\"BasicTickFormatter\"},{\"attributes\":{\"data_source\":{\"id\":\"5138\",\"type\":\"ColumnDataSource\"},\"glyph\":{\"id\":\"5139\",\"type\":\"X\"},\"hover_glyph\":null,\"muted_glyph\":null,\"nonselection_glyph\":{\"id\":\"5140\",\"type\":\"X\"},\"selection_glyph\":null,\"view\":{\"id\":\"5142\",\"type\":\"CDSView\"}},\"id\":\"5141\",\"type\":\"GlyphRenderer\"},{\"attributes\":{\"formatter\":{\"id\":\"5150\",\"type\":\"LogTickFormatter\"},\"plot\":{\"id\":\"5104\",\"subtype\":\"Figure\",\"type\":\"Plot\"},\"ticker\":{\"id\":\"5119\",\"type\":\"LogTicker\"}},\"id\":\"5118\",\"type\":\"LogAxis\"},{\"attributes\":{\"callback\":null,\"data\":{\"x\":[0,1,2,3,4,5],\"y\":{\"__ndarray__\":\"AAAAAAAA8D8AAAAAAKjpP/CTGNzIKrg/ADRiQAmxXz8AACCO8A+tPgAAAAAAWEg9\",\"dtype\":\"float64\",\"shape\":[6]}},\"selected\":{\"id\":\"5408\",\"type\":\"Selection\"},\"selection_policy\":{\"id\":\"5407\",\"type\":\"UnionRenderers\"}},\"id\":\"5143\",\"type\":\"ColumnDataSource\"},{\"attributes\":{},\"id\":\"5154\",\"type\":\"UnionRenderers\"},{\"attributes\":{},\"id\":\"5407\",\"type\":\"UnionRenderers\"},{\"attributes\":{\"plot\":{\"id\":\"5104\",\"subtype\":\"Figure\",\"type\":\"Plot\"},\"ticker\":{\"id\":\"5114\",\"type\":\"BasicTicker\"}},\"id\":\"5117\",\"type\":\"Grid\"},{\"attributes\":{},\"id\":\"5114\",\"type\":\"BasicTicker\"},{\"attributes\":{\"data_source\":{\"id\":\"5143\",\"type\":\"ColumnDataSource\"},\"glyph\":{\"id\":\"5144\",\"type\":\"X\"},\"hover_glyph\":null,\"muted_glyph\":null,\"nonselection_glyph\":{\"id\":\"5145\",\"type\":\"X\"},\"selection_glyph\":null,\"view\":{\"id\":\"5147\",\"type\":\"CDSView\"}},\"id\":\"5146\",\"type\":\"GlyphRenderer\"},{\"attributes\":{\"fill_color\":{\"value\":\"#1f77b4\"},\"line_color\":{\"value\":\"#1f77b4\"},\"size\":{\"units\":\"screen\",\"value\":5},\"x\":{\"field\":\"x\"},\"y\":{\"field\":\"y\"}},\"id\":\"5139\",\"type\":\"X\"},{\"attributes\":{},\"id\":\"5408\",\"type\":\"Selection\"},{\"attributes\":{\"plot\":null,\"text\":\"\"},\"id\":\"5148\",\"type\":\"Title\"},{\"attributes\":{\"fill_alpha\":{\"value\":0.1},\"fill_color\":{\"value\":\"#1f77b4\"},\"line_alpha\":{\"value\":0.1},\"line_color\":{\"value\":\"#1f77b4\"},\"size\":{\"units\":\"screen\",\"value\":5},\"x\":{\"field\":\"x\"},\"y\":{\"field\":\"y\"}},\"id\":\"5140\",\"type\":\"X\"},{\"attributes\":{\"dimension\":1,\"plot\":{\"id\":\"5104\",\"subtype\":\"Figure\",\"type\":\"Plot\"},\"ticker\":{\"id\":\"5119\",\"type\":\"LogTicker\"}},\"id\":\"5122\",\"type\":\"Grid\"},{\"attributes\":{\"ticker\":null},\"id\":\"5150\",\"type\":\"LogTickFormatter\"},{\"attributes\":{\"label\":{\"value\":\"erreur r\\u00e9siduelle\"},\"renderers\":[{\"id\":\"5146\",\"type\":\"GlyphRenderer\"}]},\"id\":\"5158\",\"type\":\"LegendItem\"},{\"attributes\":{},\"id\":\"5126\",\"type\":\"SaveTool\"},{\"attributes\":{},\"id\":\"5124\",\"type\":\"WheelZoomTool\"},{\"attributes\":{\"callback\":null},\"id\":\"5105\",\"type\":\"DataRange1d\"},{\"attributes\":{\"source\":{\"id\":\"5143\",\"type\":\"ColumnDataSource\"}},\"id\":\"5147\",\"type\":\"CDSView\"},{\"attributes\":{},\"id\":\"5155\",\"type\":\"Selection\"},{\"attributes\":{\"active_drag\":\"auto\",\"active_inspect\":\"auto\",\"active_multi\":null,\"active_scroll\":\"auto\",\"active_tap\":\"auto\",\"tools\":[{\"id\":\"5123\",\"type\":\"PanTool\"},{\"id\":\"5124\",\"type\":\"WheelZoomTool\"},{\"id\":\"5125\",\"type\":\"BoxZoomTool\"},{\"id\":\"5126\",\"type\":\"SaveTool\"},{\"id\":\"5127\",\"type\":\"ResetTool\"},{\"id\":\"5128\",\"type\":\"HelpTool\"}]},\"id\":\"5129\",\"type\":\"Toolbar\"}],\"root_ids\":[\"5104\"]},\"title\":\"Bokeh Application\",\"version\":\"1.0.4\"}};\n",
       "  var render_items = [{\"docid\":\"76d8a00e-ac55-4e63-a1e6-cf7494785f87\",\"roots\":{\"5104\":\"64664126-80ef-4aa2-9533-6c74d6a31f84\"}}];\n",
       "  root.Bokeh.embed.embed_items_notebook(docs_json, render_items);\n",
       "\n",
       "  }\n",
       "  if (root.Bokeh !== undefined) {\n",
       "    embed_document(root);\n",
       "  } else {\n",
       "    var attempts = 0;\n",
       "    var timer = setInterval(function(root) {\n",
       "      if (root.Bokeh !== undefined) {\n",
       "        embed_document(root);\n",
       "        clearInterval(timer);\n",
       "      }\n",
       "      attempts++;\n",
       "      if (attempts > 100) {\n",
       "        console.log(\"Bokeh: ERROR: Unable to run BokehJS code because BokehJS library is missing\");\n",
       "        clearInterval(timer);\n",
       "      }\n",
       "    }, 10, root)\n",
       "  }\n",
       "})(window);"
      ],
      "application/vnd.bokehjs_exec.v0+json": ""
     },
     "metadata": {
      "application/vnd.bokehjs_exec.v0+json": {
       "id": "5104"
      }
     },
     "output_type": "display_data"
    }
   ],
   "source": [
    "x0=-1\n",
    "xsol = my_newton2(f, df, x0, tol=1.e-12, nitmax=50)\n",
    "print(f\"Convergence de l'algorithme de Newton2 en {xsol.size-1} itérations\")\n",
    "print(f\"--> solution de f(x) = 0 obtenue pour  x = {xsol[-1]}\")\n",
    "\n",
    "err = np.abs(xsol - xstar)\n",
    "\n",
    "fig1 = figure(width=490, height=300, y_axis_type=\"log\")\n",
    "fig1.x(range(xsol.size), err, size=5)\n",
    "fig1.x(range(xsol.size),np.abs(f(xsol)),color='red',legend=\"erreur résiduelle\")\n",
    "\n",
    "print(\"Itérations successives de xsol: \", xsol)\n",
    "\n",
    "show(fig1)"
   ]
  },
  {
   "cell_type": "markdown",
   "metadata": {},
   "source": [
    "Dans l'autre cas, on obtient une solution en 5 itérations vers $x_{*}= -1.1673039782614396 $. "
   ]
  },
  {
   "cell_type": "code",
   "execution_count": 29,
   "metadata": {},
   "outputs": [],
   "source": [
    "def my_hybride(f, df, x0, m=1, tol=1.e-12, nitmax=50):\n",
    "    \n",
    "    # initialisation\n",
    "    x = np.zeros(nitmax+1)\n",
    "    x[0] = x0\n",
    "    \n",
    "    # iteration de la méthode de bissection\n",
    "    for i in range(1, nitmax+1):\n",
    "        x[i] = x[i-1] - m*f(x[i-1])/df(x[i-1])\n",
    "        \n",
    "        if (abs(f(x[i]))>abs(f(x[i-1])) and f(x[i])*f(x[i-1])>0): \n",
    "            # print ('je suis passé par la bijection')\n",
    "            c=(x[i]+x[i-1])/2\n",
    "            if f(c)*f(x[i])<0: \n",
    "                x[i-1]=c\n",
    "            elif f(c)==0:\n",
    "                x[i]=c\n",
    "            else:\n",
    "                x[i]=c\n",
    "                \n",
    "        if ( abs(f(x[i])) < tol ): break\n",
    "            \n",
    "    return x[0:i+1]"
   ]
  },
  {
   "cell_type": "code",
   "execution_count": 30,
   "metadata": {},
   "outputs": [
    {
     "name": "stdout",
     "output_type": "stream",
     "text": [
      "Convergence de l'algorithme hybride en 13 itérations\n",
      "--> solution de f(x) = 0 obtenue pour  x = -1.1673039782614187\n"
     ]
    },
    {
     "data": {
      "text/html": [
       "\n",
       "\n",
       "\n",
       "\n",
       "\n",
       "\n",
       "  <div class=\"bk-root\" id=\"1664b917-e87c-40f2-9d3b-adbd35f1c3df\" data-root-id=\"5586\"></div>\n"
      ]
     },
     "metadata": {},
     "output_type": "display_data"
    },
    {
     "data": {
      "application/javascript": [
       "(function(root) {\n",
       "  function embed_document(root) {\n",
       "    \n",
       "  var docs_json = {\"e55b49c0-269f-428d-beea-20e56a755e5e\":{\"roots\":{\"references\":[{\"attributes\":{\"children\":[{\"id\":\"5476\",\"subtype\":\"Figure\",\"type\":\"Plot\"},{\"id\":\"5531\",\"subtype\":\"Figure\",\"type\":\"Plot\"}]},\"id\":\"5586\",\"type\":\"Row\"},{\"attributes\":{},\"id\":\"5538\",\"type\":\"LogScale\"},{\"attributes\":{\"formatter\":{\"id\":\"5579\",\"type\":\"LogTickFormatter\"},\"plot\":{\"id\":\"5531\",\"subtype\":\"Figure\",\"type\":\"Plot\"},\"ticker\":{\"id\":\"5541\",\"type\":\"LogTicker\"}},\"id\":\"5540\",\"type\":\"LogAxis\"},{\"attributes\":{\"num_minor_ticks\":10},\"id\":\"5541\",\"type\":\"LogTicker\"},{\"attributes\":{\"below\":[{\"id\":\"5485\",\"type\":\"LinearAxis\"}],\"left\":[{\"id\":\"5490\",\"type\":\"LogAxis\"}],\"plot_height\":300,\"plot_width\":490,\"renderers\":[{\"id\":\"5485\",\"type\":\"LinearAxis\"},{\"id\":\"5489\",\"type\":\"Grid\"},{\"id\":\"5490\",\"type\":\"LogAxis\"},{\"id\":\"5494\",\"type\":\"Grid\"},{\"id\":\"5503\",\"type\":\"BoxAnnotation\"},{\"id\":\"5513\",\"type\":\"GlyphRenderer\"},{\"id\":\"5529\",\"type\":\"Legend\"},{\"id\":\"5518\",\"type\":\"GlyphRenderer\"}],\"title\":{\"id\":\"5520\",\"type\":\"Title\"},\"toolbar\":{\"id\":\"5501\",\"type\":\"Toolbar\"},\"x_range\":{\"id\":\"5477\",\"type\":\"DataRange1d\"},\"x_scale\":{\"id\":\"5481\",\"type\":\"LinearScale\"},\"y_range\":{\"id\":\"5479\",\"type\":\"DataRange1d\"},\"y_scale\":{\"id\":\"5483\",\"type\":\"LogScale\"}},\"id\":\"5476\",\"subtype\":\"Figure\",\"type\":\"Plot\"},{\"attributes\":{\"plot\":{\"id\":\"5531\",\"subtype\":\"Figure\",\"type\":\"Plot\"},\"ticker\":{\"id\":\"5541\",\"type\":\"LogTicker\"}},\"id\":\"5544\",\"type\":\"Grid\"},{\"attributes\":{\"formatter\":{\"id\":\"5577\",\"type\":\"LogTickFormatter\"},\"plot\":{\"id\":\"5531\",\"subtype\":\"Figure\",\"type\":\"Plot\"},\"ticker\":{\"id\":\"5546\",\"type\":\"LogTicker\"}},\"id\":\"5545\",\"type\":\"LogAxis\"},{\"attributes\":{\"callback\":null,\"data\":{\"x\":[0,1,2,3,4,5,6,7,8,9,10,11,12,13],\"y\":{\"__ndarray__\":\"Fv3Yd6NWAUAt+rHvRq3+P97vH7CX+vc/DPv313+0/T9Boy4wkFj8P+3/NXXkFfM/ruY7uWiq5z+0ev0c+WfZP5gYljK3ucQ/4EC6A3Qboz8AznW9mkpkPwAAZIzUk+g+AAAAABkf8j0AAAAAAIAXPQ==\",\"dtype\":\"float64\",\"shape\":[14]}},\"selected\":{\"id\":\"5527\",\"type\":\"Selection\"},\"selection_policy\":{\"id\":\"5526\",\"type\":\"UnionRenderers\"}},\"id\":\"5510\",\"type\":\"ColumnDataSource\"},{\"attributes\":{\"callback\":null},\"id\":\"5477\",\"type\":\"DataRange1d\"},{\"attributes\":{\"num_minor_ticks\":10},\"id\":\"5546\",\"type\":\"LogTicker\"},{\"attributes\":{\"dimension\":1,\"plot\":{\"id\":\"5476\",\"subtype\":\"Figure\",\"type\":\"Plot\"},\"ticker\":{\"id\":\"5491\",\"type\":\"LogTicker\"}},\"id\":\"5494\",\"type\":\"Grid\"},{\"attributes\":{\"dimension\":1,\"plot\":{\"id\":\"5531\",\"subtype\":\"Figure\",\"type\":\"Plot\"},\"ticker\":{\"id\":\"5546\",\"type\":\"LogTicker\"}},\"id\":\"5549\",\"type\":\"Grid\"},{\"attributes\":{\"fill_alpha\":{\"value\":0.1},\"fill_color\":{\"value\":\"#1f77b4\"},\"line_alpha\":{\"value\":0.1},\"line_color\":{\"value\":\"#1f77b4\"},\"size\":{\"units\":\"screen\",\"value\":5},\"x\":{\"field\":\"x\"},\"y\":{\"field\":\"y\"}},\"id\":\"5512\",\"type\":\"X\"},{\"attributes\":{\"fill_alpha\":{\"value\":0.1},\"fill_color\":{\"value\":\"#1f77b4\"},\"line_alpha\":{\"value\":0.1},\"line_color\":{\"value\":\"#1f77b4\"},\"size\":{\"units\":\"screen\",\"value\":5},\"x\":{\"field\":\"x\"},\"y\":{\"field\":\"y\"}},\"id\":\"5567\",\"type\":\"X\"},{\"attributes\":{\"fill_color\":{\"value\":\"#1f77b4\"},\"line_color\":{\"value\":\"#1f77b4\"},\"size\":{\"units\":\"screen\",\"value\":5},\"x\":{\"field\":\"x\"},\"y\":{\"field\":\"y\"}},\"id\":\"5511\",\"type\":\"X\"},{\"attributes\":{\"callback\":null,\"data\":{\"x\":[0,1,2,3,4,5,6,7,8,9,10,11,12,13],\"y\":{\"__ndarray__\":\"AAAAAAAA8D8AAAAAADDfP8Y6Mk4ahuU/7o7s6vfX3T/daisBA+pqQO8e8nPBd1FAFBQKmNlNNkCYKSCeNzUbQHBBm2qDH/0/uA2k6nA/1T8A9vJBPhyVPwBAR0jYchk/AAAAAM7DIj4AAAAAAACwPA==\",\"dtype\":\"float64\",\"shape\":[14]}},\"selected\":{\"id\":\"5853\",\"type\":\"Selection\"},\"selection_policy\":{\"id\":\"5852\",\"type\":\"UnionRenderers\"}},\"id\":\"5515\",\"type\":\"ColumnDataSource\"},{\"attributes\":{\"fill_color\":{\"value\":\"#1f77b4\"},\"line_color\":{\"value\":\"#1f77b4\"},\"size\":{\"units\":\"screen\",\"value\":5},\"x\":{\"field\":\"x\"},\"y\":{\"field\":\"y\"}},\"id\":\"5566\",\"type\":\"X\"},{\"attributes\":{},\"id\":\"5495\",\"type\":\"PanTool\"},{\"attributes\":{},\"id\":\"5550\",\"type\":\"PanTool\"},{\"attributes\":{},\"id\":\"5496\",\"type\":\"WheelZoomTool\"},{\"attributes\":{},\"id\":\"5551\",\"type\":\"WheelZoomTool\"},{\"attributes\":{\"overlay\":{\"id\":\"5503\",\"type\":\"BoxAnnotation\"}},\"id\":\"5497\",\"type\":\"BoxZoomTool\"},{\"attributes\":{\"overlay\":{\"id\":\"5558\",\"type\":\"BoxAnnotation\"}},\"id\":\"5552\",\"type\":\"BoxZoomTool\"},{\"attributes\":{},\"id\":\"5498\",\"type\":\"SaveTool\"},{\"attributes\":{},\"id\":\"5553\",\"type\":\"SaveTool\"},{\"attributes\":{},\"id\":\"5499\",\"type\":\"ResetTool\"},{\"attributes\":{},\"id\":\"5554\",\"type\":\"ResetTool\"},{\"attributes\":{\"active_drag\":\"auto\",\"active_inspect\":\"auto\",\"active_multi\":null,\"active_scroll\":\"auto\",\"active_tap\":\"auto\",\"tools\":[{\"id\":\"5550\",\"type\":\"PanTool\"},{\"id\":\"5551\",\"type\":\"WheelZoomTool\"},{\"id\":\"5552\",\"type\":\"BoxZoomTool\"},{\"id\":\"5553\",\"type\":\"SaveTool\"},{\"id\":\"5554\",\"type\":\"ResetTool\"},{\"id\":\"5555\",\"type\":\"HelpTool\"}]},\"id\":\"5556\",\"type\":\"Toolbar\"},{\"attributes\":{},\"id\":\"5500\",\"type\":\"HelpTool\"},{\"attributes\":{\"data_source\":{\"id\":\"5565\",\"type\":\"ColumnDataSource\"},\"glyph\":{\"id\":\"5566\",\"type\":\"X\"},\"hover_glyph\":null,\"muted_glyph\":null,\"nonselection_glyph\":{\"id\":\"5567\",\"type\":\"X\"},\"selection_glyph\":null,\"view\":{\"id\":\"5569\",\"type\":\"CDSView\"}},\"id\":\"5568\",\"type\":\"GlyphRenderer\"},{\"attributes\":{\"active_drag\":\"auto\",\"active_inspect\":\"auto\",\"active_multi\":null,\"active_scroll\":\"auto\",\"active_tap\":\"auto\",\"tools\":[{\"id\":\"5495\",\"type\":\"PanTool\"},{\"id\":\"5496\",\"type\":\"WheelZoomTool\"},{\"id\":\"5497\",\"type\":\"BoxZoomTool\"},{\"id\":\"5498\",\"type\":\"SaveTool\"},{\"id\":\"5499\",\"type\":\"ResetTool\"},{\"id\":\"5500\",\"type\":\"HelpTool\"}]},\"id\":\"5501\",\"type\":\"Toolbar\"},{\"attributes\":{\"bottom_units\":\"screen\",\"fill_alpha\":{\"value\":0.5},\"fill_color\":{\"value\":\"lightgrey\"},\"left_units\":\"screen\",\"level\":\"overlay\",\"line_alpha\":{\"value\":1.0},\"line_color\":{\"value\":\"black\"},\"line_dash\":[4,4],\"line_width\":{\"value\":2},\"plot\":null,\"render_mode\":\"css\",\"right_units\":\"screen\",\"top_units\":\"screen\"},\"id\":\"5558\",\"type\":\"BoxAnnotation\"},{\"attributes\":{\"data_source\":{\"id\":\"5510\",\"type\":\"ColumnDataSource\"},\"glyph\":{\"id\":\"5511\",\"type\":\"X\"},\"hover_glyph\":null,\"muted_glyph\":null,\"nonselection_glyph\":{\"id\":\"5512\",\"type\":\"X\"},\"selection_glyph\":null,\"view\":{\"id\":\"5514\",\"type\":\"CDSView\"}},\"id\":\"5513\",\"type\":\"GlyphRenderer\"},{\"attributes\":{\"bottom_units\":\"screen\",\"fill_alpha\":{\"value\":0.5},\"fill_color\":{\"value\":\"lightgrey\"},\"left_units\":\"screen\",\"level\":\"overlay\",\"line_alpha\":{\"value\":1.0},\"line_color\":{\"value\":\"black\"},\"line_dash\":[4,4],\"line_width\":{\"value\":2},\"plot\":null,\"render_mode\":\"css\",\"right_units\":\"screen\",\"top_units\":\"screen\"},\"id\":\"5503\",\"type\":\"BoxAnnotation\"},{\"attributes\":{\"source\":{\"id\":\"5565\",\"type\":\"ColumnDataSource\"}},\"id\":\"5569\",\"type\":\"CDSView\"},{\"attributes\":{\"source\":{\"id\":\"5510\",\"type\":\"ColumnDataSource\"}},\"id\":\"5514\",\"type\":\"CDSView\"},{\"attributes\":{\"below\":[{\"id\":\"5540\",\"type\":\"LogAxis\"}],\"left\":[{\"id\":\"5545\",\"type\":\"LogAxis\"}],\"plot_height\":300,\"plot_width\":490,\"renderers\":[{\"id\":\"5540\",\"type\":\"LogAxis\"},{\"id\":\"5544\",\"type\":\"Grid\"},{\"id\":\"5545\",\"type\":\"LogAxis\"},{\"id\":\"5549\",\"type\":\"Grid\"},{\"id\":\"5558\",\"type\":\"BoxAnnotation\"},{\"id\":\"5568\",\"type\":\"GlyphRenderer\"},{\"id\":\"5584\",\"type\":\"Legend\"},{\"id\":\"5573\",\"type\":\"GlyphRenderer\"}],\"title\":{\"id\":\"5575\",\"type\":\"Title\"},\"toolbar\":{\"id\":\"5556\",\"type\":\"Toolbar\"},\"x_range\":{\"id\":\"5532\",\"type\":\"DataRange1d\"},\"x_scale\":{\"id\":\"5536\",\"type\":\"LogScale\"},\"y_range\":{\"id\":\"5534\",\"type\":\"DataRange1d\"},\"y_scale\":{\"id\":\"5538\",\"type\":\"LogScale\"}},\"id\":\"5531\",\"subtype\":\"Figure\",\"type\":\"Plot\"},{\"attributes\":{\"line_color\":\"red\",\"x\":{\"field\":\"x\"},\"y\":{\"field\":\"y\"}},\"id\":\"5571\",\"type\":\"Line\"},{\"attributes\":{\"fill_color\":{\"value\":\"red\"},\"line_color\":{\"value\":\"red\"},\"x\":{\"field\":\"x\"},\"y\":{\"field\":\"y\"}},\"id\":\"5516\",\"type\":\"X\"},{\"attributes\":{\"line_alpha\":0.1,\"line_color\":\"#1f77b4\",\"x\":{\"field\":\"x\"},\"y\":{\"field\":\"y\"}},\"id\":\"5572\",\"type\":\"Line\"},{\"attributes\":{\"data_source\":{\"id\":\"5570\",\"type\":\"ColumnDataSource\"},\"glyph\":{\"id\":\"5571\",\"type\":\"Line\"},\"hover_glyph\":null,\"muted_glyph\":null,\"nonselection_glyph\":{\"id\":\"5572\",\"type\":\"Line\"},\"selection_glyph\":null,\"view\":{\"id\":\"5574\",\"type\":\"CDSView\"}},\"id\":\"5573\",\"type\":\"GlyphRenderer\"},{\"attributes\":{\"fill_alpha\":{\"value\":0.1},\"fill_color\":{\"value\":\"#1f77b4\"},\"line_alpha\":{\"value\":0.1},\"line_color\":{\"value\":\"#1f77b4\"},\"x\":{\"field\":\"x\"},\"y\":{\"field\":\"y\"}},\"id\":\"5517\",\"type\":\"X\"},{\"attributes\":{\"data_source\":{\"id\":\"5515\",\"type\":\"ColumnDataSource\"},\"glyph\":{\"id\":\"5516\",\"type\":\"X\"},\"hover_glyph\":null,\"muted_glyph\":null,\"nonselection_glyph\":{\"id\":\"5517\",\"type\":\"X\"},\"selection_glyph\":null,\"view\":{\"id\":\"5519\",\"type\":\"CDSView\"}},\"id\":\"5518\",\"type\":\"GlyphRenderer\"},{\"attributes\":{\"source\":{\"id\":\"5570\",\"type\":\"ColumnDataSource\"}},\"id\":\"5574\",\"type\":\"CDSView\"},{\"attributes\":{\"plot\":null,\"text\":\"\"},\"id\":\"5575\",\"type\":\"Title\"},{\"attributes\":{\"source\":{\"id\":\"5515\",\"type\":\"ColumnDataSource\"}},\"id\":\"5519\",\"type\":\"CDSView\"},{\"attributes\":{\"plot\":null,\"text\":\"\"},\"id\":\"5520\",\"type\":\"Title\"},{\"attributes\":{\"num_minor_ticks\":10},\"id\":\"5491\",\"type\":\"LogTicker\"},{\"attributes\":{\"ticker\":null},\"id\":\"5577\",\"type\":\"LogTickFormatter\"},{\"attributes\":{\"ticker\":null},\"id\":\"5522\",\"type\":\"LogTickFormatter\"},{\"attributes\":{\"ticker\":null},\"id\":\"5579\",\"type\":\"LogTickFormatter\"},{\"attributes\":{},\"id\":\"5524\",\"type\":\"BasicTickFormatter\"},{\"attributes\":{},\"id\":\"5581\",\"type\":\"UnionRenderers\"},{\"attributes\":{},\"id\":\"5526\",\"type\":\"UnionRenderers\"},{\"attributes\":{},\"id\":\"5582\",\"type\":\"Selection\"},{\"attributes\":{\"items\":[{\"id\":\"5585\",\"type\":\"LegendItem\"}],\"plot\":{\"id\":\"5531\",\"subtype\":\"Figure\",\"type\":\"Plot\"}},\"id\":\"5584\",\"type\":\"Legend\"},{\"attributes\":{},\"id\":\"5527\",\"type\":\"Selection\"},{\"attributes\":{\"items\":[{\"id\":\"5530\",\"type\":\"LegendItem\"}],\"plot\":{\"id\":\"5476\",\"subtype\":\"Figure\",\"type\":\"Plot\"}},\"id\":\"5529\",\"type\":\"Legend\"},{\"attributes\":{\"label\":{\"value\":\"ordre 2\"},\"renderers\":[{\"id\":\"5573\",\"type\":\"GlyphRenderer\"}]},\"id\":\"5585\",\"type\":\"LegendItem\"},{\"attributes\":{\"label\":{\"value\":\"erreur r\\u00e9siduelle\"},\"renderers\":[{\"id\":\"5518\",\"type\":\"GlyphRenderer\"}]},\"id\":\"5530\",\"type\":\"LegendItem\"},{\"attributes\":{\"callback\":null,\"data\":{\"x\":{\"__ndarray__\":\"Fv3Yd6NWAUAt+rHvRq3+P97vH7CX+vc/DPv313+0/T9Boy4wkFj8P+3/NXXkFfM/ruY7uWiq5z+0ev0c+WfZP5gYljK3ucQ/4EC6A3Qboz8AznW9mkpkPwAAZIzUk+g+AAAAABkf8j0=\",\"dtype\":\"float64\",\"shape\":[13]},\"y\":{\"__ndarray__\":\"Lfqx70at/j/e7x+wl/r3Pwz799d/tP0/QaMuMJBY/D/t/zV15BXzP67mO7loquc/tHr9HPln2T+YGJYyt7nEP+BAugN0G6M/AM51vZpKZD8AAGSM1JPoPgAAAAAZH/I9AAAAAACAFz0=\",\"dtype\":\"float64\",\"shape\":[13]}},\"selected\":{\"id\":\"5582\",\"type\":\"Selection\"},\"selection_policy\":{\"id\":\"5581\",\"type\":\"UnionRenderers\"}},\"id\":\"5565\",\"type\":\"ColumnDataSource\"},{\"attributes\":{\"callback\":null,\"data\":{\"x\":{\"__ndarray__\":\"Fv3Yd6NWAUAt+rHvRq3+P97vH7CX+vc/DPv313+0/T9Boy4wkFj8P+3/NXXkFfM/ruY7uWiq5z+0ev0c+WfZP5gYljK3ucQ/4EC6A3Qboz8AznW9mkpkPwAAZIzUk+g+AAAAABkf8j0=\",\"dtype\":\"float64\",\"shape\":[13]},\"y\":{\"__ndarray__\":\"1pN7gvDJEkAjqQpJj2gNQMrlHHLk9wFAwNyt1yGTC0AgUORv8RsJQHD90YocxPY/Q/BMBIKA4T/C+okQxyvEPz6iGqO12Jo/vCSwo2LRVj+RjNe23rvZPlWd48Bp4OI9ABAHsTSG9Ds=\",\"dtype\":\"float64\",\"shape\":[13]}},\"selected\":{\"id\":\"5858\",\"type\":\"Selection\"},\"selection_policy\":{\"id\":\"5857\",\"type\":\"UnionRenderers\"}},\"id\":\"5570\",\"type\":\"ColumnDataSource\"},{\"attributes\":{},\"id\":\"5853\",\"type\":\"Selection\"},{\"attributes\":{\"callback\":null},\"id\":\"5532\",\"type\":\"DataRange1d\"},{\"attributes\":{\"callback\":null},\"id\":\"5534\",\"type\":\"DataRange1d\"},{\"attributes\":{},\"id\":\"5857\",\"type\":\"UnionRenderers\"},{\"attributes\":{},\"id\":\"5858\",\"type\":\"Selection\"},{\"attributes\":{},\"id\":\"5536\",\"type\":\"LogScale\"},{\"attributes\":{},\"id\":\"5481\",\"type\":\"LinearScale\"},{\"attributes\":{\"callback\":null},\"id\":\"5479\",\"type\":\"DataRange1d\"},{\"attributes\":{},\"id\":\"5483\",\"type\":\"LogScale\"},{\"attributes\":{},\"id\":\"5852\",\"type\":\"UnionRenderers\"},{\"attributes\":{\"formatter\":{\"id\":\"5522\",\"type\":\"LogTickFormatter\"},\"plot\":{\"id\":\"5476\",\"subtype\":\"Figure\",\"type\":\"Plot\"},\"ticker\":{\"id\":\"5491\",\"type\":\"LogTicker\"}},\"id\":\"5490\",\"type\":\"LogAxis\"},{\"attributes\":{\"formatter\":{\"id\":\"5524\",\"type\":\"BasicTickFormatter\"},\"plot\":{\"id\":\"5476\",\"subtype\":\"Figure\",\"type\":\"Plot\"},\"ticker\":{\"id\":\"5486\",\"type\":\"BasicTicker\"}},\"id\":\"5485\",\"type\":\"LinearAxis\"},{\"attributes\":{\"plot\":{\"id\":\"5476\",\"subtype\":\"Figure\",\"type\":\"Plot\"},\"ticker\":{\"id\":\"5486\",\"type\":\"BasicTicker\"}},\"id\":\"5489\",\"type\":\"Grid\"},{\"attributes\":{},\"id\":\"5555\",\"type\":\"HelpTool\"},{\"attributes\":{},\"id\":\"5486\",\"type\":\"BasicTicker\"}],\"root_ids\":[\"5586\"]},\"title\":\"Bokeh Application\",\"version\":\"1.0.4\"}};\n",
       "  var render_items = [{\"docid\":\"e55b49c0-269f-428d-beea-20e56a755e5e\",\"roots\":{\"5586\":\"1664b917-e87c-40f2-9d3b-adbd35f1c3df\"}}];\n",
       "  root.Bokeh.embed.embed_items_notebook(docs_json, render_items);\n",
       "\n",
       "  }\n",
       "  if (root.Bokeh !== undefined) {\n",
       "    embed_document(root);\n",
       "  } else {\n",
       "    var attempts = 0;\n",
       "    var timer = setInterval(function(root) {\n",
       "      if (root.Bokeh !== undefined) {\n",
       "        embed_document(root);\n",
       "        clearInterval(timer);\n",
       "      }\n",
       "      attempts++;\n",
       "      if (attempts > 100) {\n",
       "        console.log(\"Bokeh: ERROR: Unable to run BokehJS code because BokehJS library is missing\");\n",
       "        clearInterval(timer);\n",
       "      }\n",
       "    }, 10, root)\n",
       "  }\n",
       "})(window);"
      ],
      "application/vnd.bokehjs_exec.v0+json": ""
     },
     "metadata": {
      "application/vnd.bokehjs_exec.v0+json": {
       "id": "5586"
      }
     },
     "output_type": "display_data"
    }
   ],
   "source": [
    "# Test du nouvel algorithme\n",
    "x0=1\n",
    "xsol = my_hybride(f, df, x0, tol=1.e-12, nitmax=50)\n",
    "print(f\"Convergence de l'algorithme hybride en {xsol.size-1} itérations\")\n",
    "print(f\"--> solution de f(x) = 0 obtenue pour  x = {xsol[-1]}\")\n",
    "# print(\"Itérations successives de xsol: \", xsol)\n",
    "\n",
    "xstar=-1.1673039782614396\n",
    "err = np.abs(xsol - xstar)\n",
    "\n",
    "fig1 = figure(width=490, height=300, y_axis_type=\"log\")\n",
    "fig1.x(range(xsol.size), err, size=5)\n",
    "fig1.x(range(xsol.size),np.abs(f(xsol)),color='red',legend=\"erreur résiduelle\")\n",
    "\n",
    "fig2 = figure(width=490, height=300, x_axis_type=\"log\", y_axis_type=\"log\")\n",
    "fig2.x(err[:-1], err[1:], size=5)\n",
    "fig2.line(err[:-1], err[:-1]*err[:-1],  color=\"red\", legend=\"ordre 2\")\n",
    "\n",
    "show(row(fig1, fig2))"
   ]
  },
  {
   "cell_type": "markdown",
   "metadata": {},
   "source": [
    "On obtient la convergence souhaitée d'ordre 2 asymptotiquement."
   ]
  }
 ],
 "metadata": {
  "@webio": {
   "lastCommId": null,
   "lastKernelId": null
  },
  "kernelspec": {
   "display_name": "Python 3",
   "language": "python",
   "name": "python3"
  },
  "language_info": {
   "codemirror_mode": {
    "name": "ipython",
    "version": 3
   },
   "file_extension": ".py",
   "mimetype": "text/x-python",
   "name": "python",
   "nbconvert_exporter": "python",
   "pygments_lexer": "ipython3",
   "version": "3.7.3"
  }
 },
 "nbformat": 4,
 "nbformat_minor": 2
}
