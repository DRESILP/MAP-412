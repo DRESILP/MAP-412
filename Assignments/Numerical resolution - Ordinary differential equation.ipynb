{
 "cells": [
  {
   "cell_type": "markdown",
   "metadata": {},
   "source": [
    "<div style=\"text-align: center; font-weight: bold; font-size: 300%\">MAP 412 - PC 5</div>                                                        <br />      \n",
    "<div style=\"text-align: center; font-size: 150%\">École Polytechnique</div><br />  \n",
    "<div style=\"text-align: center; font-size: 120%\">Paul Calot--Plaetevoet</div>"
   ]
  },
  {
   "cell_type": "code",
   "execution_count": 1,
   "metadata": {},
   "outputs": [
    {
     "data": {
      "application/javascript": [
       "\n",
       "(function(root) {\n",
       "  function now() {\n",
       "    return new Date();\n",
       "  }\n",
       "\n",
       "  var force = true;\n",
       "\n",
       "  if (typeof (root._bokeh_onload_callbacks) === \"undefined\" || force === true) {\n",
       "    root._bokeh_onload_callbacks = [];\n",
       "    root._bokeh_is_loading = undefined;\n",
       "  }\n",
       "\n",
       "  var JS_MIME_TYPE = 'application/javascript';\n",
       "  var HTML_MIME_TYPE = 'text/html';\n",
       "  var EXEC_MIME_TYPE = 'application/vnd.bokehjs_exec.v0+json';\n",
       "  var CLASS_NAME = 'output_bokeh rendered_html';\n",
       "\n",
       "  /**\n",
       "   * Render data to the DOM node\n",
       "   */\n",
       "  function render(props, node) {\n",
       "    var script = document.createElement(\"script\");\n",
       "    node.appendChild(script);\n",
       "  }\n",
       "\n",
       "  /**\n",
       "   * Handle when an output is cleared or removed\n",
       "   */\n",
       "  function handleClearOutput(event, handle) {\n",
       "    var cell = handle.cell;\n",
       "\n",
       "    var id = cell.output_area._bokeh_element_id;\n",
       "    var server_id = cell.output_area._bokeh_server_id;\n",
       "    // Clean up Bokeh references\n",
       "    if (id != null && id in Bokeh.index) {\n",
       "      Bokeh.index[id].model.document.clear();\n",
       "      delete Bokeh.index[id];\n",
       "    }\n",
       "\n",
       "    if (server_id !== undefined) {\n",
       "      // Clean up Bokeh references\n",
       "      var cmd = \"from bokeh.io.state import curstate; print(curstate().uuid_to_server['\" + server_id + \"'].get_sessions()[0].document.roots[0]._id)\";\n",
       "      cell.notebook.kernel.execute(cmd, {\n",
       "        iopub: {\n",
       "          output: function(msg) {\n",
       "            var id = msg.content.text.trim();\n",
       "            if (id in Bokeh.index) {\n",
       "              Bokeh.index[id].model.document.clear();\n",
       "              delete Bokeh.index[id];\n",
       "            }\n",
       "          }\n",
       "        }\n",
       "      });\n",
       "      // Destroy server and session\n",
       "      var cmd = \"import bokeh.io.notebook as ion; ion.destroy_server('\" + server_id + \"')\";\n",
       "      cell.notebook.kernel.execute(cmd);\n",
       "    }\n",
       "  }\n",
       "\n",
       "  /**\n",
       "   * Handle when a new output is added\n",
       "   */\n",
       "  function handleAddOutput(event, handle) {\n",
       "    var output_area = handle.output_area;\n",
       "    var output = handle.output;\n",
       "\n",
       "    // limit handleAddOutput to display_data with EXEC_MIME_TYPE content only\n",
       "    if ((output.output_type != \"display_data\") || (!output.data.hasOwnProperty(EXEC_MIME_TYPE))) {\n",
       "      return\n",
       "    }\n",
       "\n",
       "    var toinsert = output_area.element.find(\".\" + CLASS_NAME.split(' ')[0]);\n",
       "\n",
       "    if (output.metadata[EXEC_MIME_TYPE][\"id\"] !== undefined) {\n",
       "      toinsert[toinsert.length - 1].firstChild.textContent = output.data[JS_MIME_TYPE];\n",
       "      // store reference to embed id on output_area\n",
       "      output_area._bokeh_element_id = output.metadata[EXEC_MIME_TYPE][\"id\"];\n",
       "    }\n",
       "    if (output.metadata[EXEC_MIME_TYPE][\"server_id\"] !== undefined) {\n",
       "      var bk_div = document.createElement(\"div\");\n",
       "      bk_div.innerHTML = output.data[HTML_MIME_TYPE];\n",
       "      var script_attrs = bk_div.children[0].attributes;\n",
       "      for (var i = 0; i < script_attrs.length; i++) {\n",
       "        toinsert[toinsert.length - 1].firstChild.setAttribute(script_attrs[i].name, script_attrs[i].value);\n",
       "      }\n",
       "      // store reference to server id on output_area\n",
       "      output_area._bokeh_server_id = output.metadata[EXEC_MIME_TYPE][\"server_id\"];\n",
       "    }\n",
       "  }\n",
       "\n",
       "  function register_renderer(events, OutputArea) {\n",
       "\n",
       "    function append_mime(data, metadata, element) {\n",
       "      // create a DOM node to render to\n",
       "      var toinsert = this.create_output_subarea(\n",
       "        metadata,\n",
       "        CLASS_NAME,\n",
       "        EXEC_MIME_TYPE\n",
       "      );\n",
       "      this.keyboard_manager.register_events(toinsert);\n",
       "      // Render to node\n",
       "      var props = {data: data, metadata: metadata[EXEC_MIME_TYPE]};\n",
       "      render(props, toinsert[toinsert.length - 1]);\n",
       "      element.append(toinsert);\n",
       "      return toinsert\n",
       "    }\n",
       "\n",
       "    /* Handle when an output is cleared or removed */\n",
       "    events.on('clear_output.CodeCell', handleClearOutput);\n",
       "    events.on('delete.Cell', handleClearOutput);\n",
       "\n",
       "    /* Handle when a new output is added */\n",
       "    events.on('output_added.OutputArea', handleAddOutput);\n",
       "\n",
       "    /**\n",
       "     * Register the mime type and append_mime function with output_area\n",
       "     */\n",
       "    OutputArea.prototype.register_mime_type(EXEC_MIME_TYPE, append_mime, {\n",
       "      /* Is output safe? */\n",
       "      safe: true,\n",
       "      /* Index of renderer in `output_area.display_order` */\n",
       "      index: 0\n",
       "    });\n",
       "  }\n",
       "\n",
       "  // register the mime type if in Jupyter Notebook environment and previously unregistered\n",
       "  if (root.Jupyter !== undefined) {\n",
       "    var events = require('base/js/events');\n",
       "    var OutputArea = require('notebook/js/outputarea').OutputArea;\n",
       "\n",
       "    if (OutputArea.prototype.mime_types().indexOf(EXEC_MIME_TYPE) == -1) {\n",
       "      register_renderer(events, OutputArea);\n",
       "    }\n",
       "  }\n",
       "\n",
       "  \n",
       "  if (typeof (root._bokeh_timeout) === \"undefined\" || force === true) {\n",
       "    root._bokeh_timeout = Date.now() + 5000;\n",
       "    root._bokeh_failed_load = false;\n",
       "  }\n",
       "\n",
       "  var NB_LOAD_WARNING = {'data': {'text/html':\n",
       "     \"<div style='background-color: #fdd'>\\n\"+\n",
       "     \"<p>\\n\"+\n",
       "     \"BokehJS does not appear to have successfully loaded. If loading BokehJS from CDN, this \\n\"+\n",
       "     \"may be due to a slow or bad network connection. Possible fixes:\\n\"+\n",
       "     \"</p>\\n\"+\n",
       "     \"<ul>\\n\"+\n",
       "     \"<li>re-rerun `output_notebook()` to attempt to load from CDN again, or</li>\\n\"+\n",
       "     \"<li>use INLINE resources instead, as so:</li>\\n\"+\n",
       "     \"</ul>\\n\"+\n",
       "     \"<code>\\n\"+\n",
       "     \"from bokeh.resources import INLINE\\n\"+\n",
       "     \"output_notebook(resources=INLINE)\\n\"+\n",
       "     \"</code>\\n\"+\n",
       "     \"</div>\"}};\n",
       "\n",
       "  function display_loaded() {\n",
       "    var el = document.getElementById(null);\n",
       "    if (el != null) {\n",
       "      el.textContent = \"BokehJS is loading...\";\n",
       "    }\n",
       "    if (root.Bokeh !== undefined) {\n",
       "      if (el != null) {\n",
       "        el.textContent = \"BokehJS \" + root.Bokeh.version + \" successfully loaded.\";\n",
       "      }\n",
       "    } else if (Date.now() < root._bokeh_timeout) {\n",
       "      setTimeout(display_loaded, 100)\n",
       "    }\n",
       "  }\n",
       "\n",
       "\n",
       "  function run_callbacks() {\n",
       "    try {\n",
       "      root._bokeh_onload_callbacks.forEach(function(callback) { callback() });\n",
       "    }\n",
       "    finally {\n",
       "      delete root._bokeh_onload_callbacks\n",
       "    }\n",
       "    console.info(\"Bokeh: all callbacks have finished\");\n",
       "  }\n",
       "\n",
       "  function load_libs(js_urls, callback) {\n",
       "    root._bokeh_onload_callbacks.push(callback);\n",
       "    if (root._bokeh_is_loading > 0) {\n",
       "      console.log(\"Bokeh: BokehJS is being loaded, scheduling callback at\", now());\n",
       "      return null;\n",
       "    }\n",
       "    if (js_urls == null || js_urls.length === 0) {\n",
       "      run_callbacks();\n",
       "      return null;\n",
       "    }\n",
       "    console.log(\"Bokeh: BokehJS not loaded, scheduling load and callback at\", now());\n",
       "    root._bokeh_is_loading = js_urls.length;\n",
       "    for (var i = 0; i < js_urls.length; i++) {\n",
       "      var url = js_urls[i];\n",
       "      var s = document.createElement('script');\n",
       "      s.src = url;\n",
       "      s.async = false;\n",
       "      s.onreadystatechange = s.onload = function() {\n",
       "        root._bokeh_is_loading--;\n",
       "        if (root._bokeh_is_loading === 0) {\n",
       "          console.log(\"Bokeh: all BokehJS libraries loaded\");\n",
       "          run_callbacks()\n",
       "        }\n",
       "      };\n",
       "      s.onerror = function() {\n",
       "        console.warn(\"failed to load library \" + url);\n",
       "      };\n",
       "      console.log(\"Bokeh: injecting script tag for BokehJS library: \", url);\n",
       "      document.getElementsByTagName(\"head\")[0].appendChild(s);\n",
       "    }\n",
       "  };\n",
       "\n",
       "  var js_urls = [\"https://cdn.pydata.org/bokeh/release/bokeh-1.0.4.min.js\", \"https://cdn.pydata.org/bokeh/release/bokeh-widgets-1.0.4.min.js\", \"https://cdn.pydata.org/bokeh/release/bokeh-tables-1.0.4.min.js\", \"https://cdn.pydata.org/bokeh/release/bokeh-gl-1.0.4.min.js\"];\n",
       "\n",
       "  var inline_js = [\n",
       "    function(Bokeh) {\n",
       "      Bokeh.set_log_level(\"info\");\n",
       "    },\n",
       "    \n",
       "    function(Bokeh) {\n",
       "      \n",
       "    },\n",
       "    function(Bokeh) {\n",
       "      console.log(\"Bokeh: injecting CSS: https://cdn.pydata.org/bokeh/release/bokeh-1.0.4.min.css\");\n",
       "      Bokeh.embed.inject_css(\"https://cdn.pydata.org/bokeh/release/bokeh-1.0.4.min.css\");\n",
       "      console.log(\"Bokeh: injecting CSS: https://cdn.pydata.org/bokeh/release/bokeh-widgets-1.0.4.min.css\");\n",
       "      Bokeh.embed.inject_css(\"https://cdn.pydata.org/bokeh/release/bokeh-widgets-1.0.4.min.css\");\n",
       "      console.log(\"Bokeh: injecting CSS: https://cdn.pydata.org/bokeh/release/bokeh-tables-1.0.4.min.css\");\n",
       "      Bokeh.embed.inject_css(\"https://cdn.pydata.org/bokeh/release/bokeh-tables-1.0.4.min.css\");\n",
       "    }\n",
       "  ];\n",
       "\n",
       "  function run_inline_js() {\n",
       "    \n",
       "    if ((root.Bokeh !== undefined) || (force === true)) {\n",
       "      for (var i = 0; i < inline_js.length; i++) {\n",
       "        inline_js[i].call(root, root.Bokeh);\n",
       "      }} else if (Date.now() < root._bokeh_timeout) {\n",
       "      setTimeout(run_inline_js, 100);\n",
       "    } else if (!root._bokeh_failed_load) {\n",
       "      console.log(\"Bokeh: BokehJS failed to load within specified timeout.\");\n",
       "      root._bokeh_failed_load = true;\n",
       "    } else if (force !== true) {\n",
       "      var cell = $(document.getElementById(null)).parents('.cell').data().cell;\n",
       "      cell.output_area.append_execute_result(NB_LOAD_WARNING)\n",
       "    }\n",
       "\n",
       "  }\n",
       "\n",
       "  if (root._bokeh_is_loading === 0) {\n",
       "    console.log(\"Bokeh: BokehJS loaded, going straight to plotting\");\n",
       "    run_inline_js();\n",
       "  } else {\n",
       "    load_libs(js_urls, function() {\n",
       "      console.log(\"Bokeh: BokehJS plotting callback run at\", now());\n",
       "      run_inline_js();\n",
       "    });\n",
       "  }\n",
       "}(window));"
      ],
      "application/vnd.bokehjs_load.v0+json": "\n(function(root) {\n  function now() {\n    return new Date();\n  }\n\n  var force = true;\n\n  if (typeof (root._bokeh_onload_callbacks) === \"undefined\" || force === true) {\n    root._bokeh_onload_callbacks = [];\n    root._bokeh_is_loading = undefined;\n  }\n\n  \n\n  \n  if (typeof (root._bokeh_timeout) === \"undefined\" || force === true) {\n    root._bokeh_timeout = Date.now() + 5000;\n    root._bokeh_failed_load = false;\n  }\n\n  var NB_LOAD_WARNING = {'data': {'text/html':\n     \"<div style='background-color: #fdd'>\\n\"+\n     \"<p>\\n\"+\n     \"BokehJS does not appear to have successfully loaded. If loading BokehJS from CDN, this \\n\"+\n     \"may be due to a slow or bad network connection. Possible fixes:\\n\"+\n     \"</p>\\n\"+\n     \"<ul>\\n\"+\n     \"<li>re-rerun `output_notebook()` to attempt to load from CDN again, or</li>\\n\"+\n     \"<li>use INLINE resources instead, as so:</li>\\n\"+\n     \"</ul>\\n\"+\n     \"<code>\\n\"+\n     \"from bokeh.resources import INLINE\\n\"+\n     \"output_notebook(resources=INLINE)\\n\"+\n     \"</code>\\n\"+\n     \"</div>\"}};\n\n  function display_loaded() {\n    var el = document.getElementById(null);\n    if (el != null) {\n      el.textContent = \"BokehJS is loading...\";\n    }\n    if (root.Bokeh !== undefined) {\n      if (el != null) {\n        el.textContent = \"BokehJS \" + root.Bokeh.version + \" successfully loaded.\";\n      }\n    } else if (Date.now() < root._bokeh_timeout) {\n      setTimeout(display_loaded, 100)\n    }\n  }\n\n\n  function run_callbacks() {\n    try {\n      root._bokeh_onload_callbacks.forEach(function(callback) { callback() });\n    }\n    finally {\n      delete root._bokeh_onload_callbacks\n    }\n    console.info(\"Bokeh: all callbacks have finished\");\n  }\n\n  function load_libs(js_urls, callback) {\n    root._bokeh_onload_callbacks.push(callback);\n    if (root._bokeh_is_loading > 0) {\n      console.log(\"Bokeh: BokehJS is being loaded, scheduling callback at\", now());\n      return null;\n    }\n    if (js_urls == null || js_urls.length === 0) {\n      run_callbacks();\n      return null;\n    }\n    console.log(\"Bokeh: BokehJS not loaded, scheduling load and callback at\", now());\n    root._bokeh_is_loading = js_urls.length;\n    for (var i = 0; i < js_urls.length; i++) {\n      var url = js_urls[i];\n      var s = document.createElement('script');\n      s.src = url;\n      s.async = false;\n      s.onreadystatechange = s.onload = function() {\n        root._bokeh_is_loading--;\n        if (root._bokeh_is_loading === 0) {\n          console.log(\"Bokeh: all BokehJS libraries loaded\");\n          run_callbacks()\n        }\n      };\n      s.onerror = function() {\n        console.warn(\"failed to load library \" + url);\n      };\n      console.log(\"Bokeh: injecting script tag for BokehJS library: \", url);\n      document.getElementsByTagName(\"head\")[0].appendChild(s);\n    }\n  };\n\n  var js_urls = [\"https://cdn.pydata.org/bokeh/release/bokeh-1.0.4.min.js\", \"https://cdn.pydata.org/bokeh/release/bokeh-widgets-1.0.4.min.js\", \"https://cdn.pydata.org/bokeh/release/bokeh-tables-1.0.4.min.js\", \"https://cdn.pydata.org/bokeh/release/bokeh-gl-1.0.4.min.js\"];\n\n  var inline_js = [\n    function(Bokeh) {\n      Bokeh.set_log_level(\"info\");\n    },\n    \n    function(Bokeh) {\n      \n    },\n    function(Bokeh) {\n      console.log(\"Bokeh: injecting CSS: https://cdn.pydata.org/bokeh/release/bokeh-1.0.4.min.css\");\n      Bokeh.embed.inject_css(\"https://cdn.pydata.org/bokeh/release/bokeh-1.0.4.min.css\");\n      console.log(\"Bokeh: injecting CSS: https://cdn.pydata.org/bokeh/release/bokeh-widgets-1.0.4.min.css\");\n      Bokeh.embed.inject_css(\"https://cdn.pydata.org/bokeh/release/bokeh-widgets-1.0.4.min.css\");\n      console.log(\"Bokeh: injecting CSS: https://cdn.pydata.org/bokeh/release/bokeh-tables-1.0.4.min.css\");\n      Bokeh.embed.inject_css(\"https://cdn.pydata.org/bokeh/release/bokeh-tables-1.0.4.min.css\");\n    }\n  ];\n\n  function run_inline_js() {\n    \n    if ((root.Bokeh !== undefined) || (force === true)) {\n      for (var i = 0; i < inline_js.length; i++) {\n        inline_js[i].call(root, root.Bokeh);\n      }} else if (Date.now() < root._bokeh_timeout) {\n      setTimeout(run_inline_js, 100);\n    } else if (!root._bokeh_failed_load) {\n      console.log(\"Bokeh: BokehJS failed to load within specified timeout.\");\n      root._bokeh_failed_load = true;\n    } else if (force !== true) {\n      var cell = $(document.getElementById(null)).parents('.cell').data().cell;\n      cell.output_area.append_execute_result(NB_LOAD_WARNING)\n    }\n\n  }\n\n  if (root._bokeh_is_loading === 0) {\n    console.log(\"Bokeh: BokehJS loaded, going straight to plotting\");\n    run_inline_js();\n  } else {\n    load_libs(js_urls, function() {\n      console.log(\"Bokeh: BokehJS plotting callback run at\", now());\n      run_inline_js();\n    });\n  }\n}(window));"
     },
     "metadata": {},
     "output_type": "display_data"
    }
   ],
   "source": [
    "import numpy as np\n",
    "\n",
    "from bokeh.io import show, output_notebook\n",
    "from bokeh.plotting import figure\n",
    "from bokeh.layouts import row, column\n",
    "\n",
    "output_notebook(hide_banner=True)"
   ]
  },
  {
   "cell_type": "markdown",
   "metadata": {},
   "source": [
    "**Indiquez le temps de préparation de ce notebook :**"
   ]
  },
  {
   "cell_type": "markdown",
   "metadata": {},
   "source": [
    "# Méthode de Runge-Kutta"
   ]
  },
  {
   "cell_type": "markdown",
   "metadata": {},
   "source": [
    "## La méthode RK2"
   ]
  },
  {
   "cell_type": "markdown",
   "metadata": {},
   "source": [
    "**Implémenter la méthode RK2. Tester le cas $f(t,y)=y$, pour $t_0=0$, $y_0=1$ et $T=1,$.**"
   ]
  },
  {
   "cell_type": "code",
   "execution_count": 2,
   "metadata": {},
   "outputs": [],
   "source": [
    "def update_rk2(f, t, y, h):\n",
    "    \"\"\"retourne l'approximation yn+1 de y au temps tn+1 = tn + h avec une méthode de Runge-Kutta d'ordre 2\n",
    "    \n",
    "    Parameters\n",
    "    ----------\n",
    "    f : fonction f(t,y) second membre de l'EDO\n",
    "    t : temps tn\n",
    "    y : valeur de yn\n",
    "    h : pas de temps\n",
    "    \n",
    "    Returns\n",
    "    -------\n",
    "    ynp1 : valeur de yn+1\n",
    "    \"\"\"\n",
    "    ynp1=y+h*f(t+h*0.5,y+h*f(t,y)*0.5)\n",
    "    \n",
    "    return ynp1\n",
    "\n",
    "\n",
    "def rk2(f, tini, tend, nt, yini):\n",
    "    \"\"\"retourne le vecteur contenant les valeurs des yn en appelant update_rk2\n",
    "    \n",
    "    Parameters\n",
    "    ----------\n",
    "    f : fonction f(t,y) second membre de l'EDO\n",
    "    tini : temps initial\n",
    "    tend : temps final\n",
    "    nt : dimension du vecteur de sortie\n",
    "    yini : valeur initiale y(tini)\n",
    "    \n",
    "    Returns\n",
    "    -------\n",
    "    y : vecteur les nt valeurs yn\n",
    "    \"\"\"\n",
    "    \n",
    "    h=(tend-tini)/(nt-1) # attention nt est la dimension finale du vecteur. \n",
    "                     # Or pour n-1 intervalle il y a n points, il faut donc rentrer n-1 ici \n",
    "    t0=tini\n",
    "    \n",
    "    y=np.zeros(nt)\n",
    "    y[0]=yini\n",
    "    \n",
    "    for k in range(1,nt):\n",
    "        y[k]=update_rk2(f,t0,y[k-1],h)\n",
    "        t0=t0+h\n",
    "        \n",
    "    return y"
   ]
  },
  {
   "cell_type": "markdown",
   "metadata": {},
   "source": [
    "**Vérifier que l'erreur de convergence $\\max_{0\\leq n \\leq N } |y(t_n) - y_n| = O(h^2)$, c'est à dire que la méthode converge à l'ordre 2.**"
   ]
  },
  {
   "cell_type": "code",
   "execution_count": 3,
   "metadata": {},
   "outputs": [
    {
     "data": {
      "text/html": [
       "\n",
       "\n",
       "\n",
       "\n",
       "\n",
       "\n",
       "  <div class=\"bk-root\" id=\"94c6b85b-dc72-4702-ae62-1c81649884b8\" data-root-id=\"1002\"></div>\n"
      ]
     },
     "metadata": {},
     "output_type": "display_data"
    },
    {
     "data": {
      "application/javascript": [
       "(function(root) {\n",
       "  function embed_document(root) {\n",
       "    \n",
       "  var docs_json = {\"62d4f5e4-f2e7-48ae-9436-0743c73f16fe\":{\"roots\":{\"references\":[{\"attributes\":{\"below\":[{\"id\":\"1012\",\"type\":\"LinearAxis\"}],\"left\":[{\"id\":\"1017\",\"type\":\"LinearAxis\"}],\"plot_height\":400,\"plot_width\":990,\"renderers\":[{\"id\":\"1012\",\"type\":\"LinearAxis\"},{\"id\":\"1016\",\"type\":\"Grid\"},{\"id\":\"1017\",\"type\":\"LinearAxis\"},{\"id\":\"1021\",\"type\":\"Grid\"},{\"id\":\"1030\",\"type\":\"BoxAnnotation\"},{\"id\":\"1048\",\"type\":\"Legend\"},{\"id\":\"1040\",\"type\":\"GlyphRenderer\"},{\"id\":\"1053\",\"type\":\"GlyphRenderer\"}],\"title\":{\"id\":\"1001\",\"type\":\"Title\"},\"toolbar\":{\"id\":\"1028\",\"type\":\"Toolbar\"},\"x_range\":{\"id\":\"1004\",\"type\":\"DataRange1d\"},\"x_scale\":{\"id\":\"1008\",\"type\":\"LinearScale\"},\"y_range\":{\"id\":\"1006\",\"type\":\"DataRange1d\"},\"y_scale\":{\"id\":\"1010\",\"type\":\"LinearScale\"}},\"id\":\"1002\",\"subtype\":\"Figure\",\"type\":\"Plot\"},{\"attributes\":{\"callback\":null,\"data\":{\"x\":{\"__ndarray__\":\"AAAAAAAAAAAcx3Ecx3G8PxzHcRzHccw/VVVVVVVV1T8cx3Ecx3HcP3Icx3Ecx+E/VVVVVVVV5T84juM4juPoPxzHcRzHcew/AAAAAAAA8D8=\",\"dtype\":\"float64\",\"shape\":[10]},\"y\":{\"__ndarray__\":\"AAAAAAAA8D9hcc6sW+HxPxkkoPNI+/M/Ey26sW1U9j9HtcTEN/T4P5WO0Iv04vs/DCx6K+sp/z9duiH0vGkBQNX4AHqbdQNAaVcUiwq/BUA=\",\"dtype\":\"float64\",\"shape\":[10]}},\"selected\":{\"id\":\"1072\",\"type\":\"Selection\"},\"selection_policy\":{\"id\":\"1071\",\"type\":\"UnionRenderers\"}},\"id\":\"1050\",\"type\":\"ColumnDataSource\"},{\"attributes\":{\"line_alpha\":0.1,\"line_color\":\"#1f77b4\",\"x\":{\"field\":\"x\"},\"y\":{\"field\":\"y\"}},\"id\":\"1052\",\"type\":\"Line\"},{\"attributes\":{\"line_color\":\"red\",\"x\":{\"field\":\"x\"},\"y\":{\"field\":\"y\"}},\"id\":\"1038\",\"type\":\"Line\"},{\"attributes\":{\"data_source\":{\"id\":\"1050\",\"type\":\"ColumnDataSource\"},\"glyph\":{\"id\":\"1051\",\"type\":\"Line\"},\"hover_glyph\":null,\"muted_glyph\":null,\"nonselection_glyph\":{\"id\":\"1052\",\"type\":\"Line\"},\"selection_glyph\":null,\"view\":{\"id\":\"1054\",\"type\":\"CDSView\"}},\"id\":\"1053\",\"type\":\"GlyphRenderer\"},{\"attributes\":{},\"id\":\"1022\",\"type\":\"PanTool\"},{\"attributes\":{\"source\":{\"id\":\"1050\",\"type\":\"ColumnDataSource\"}},\"id\":\"1054\",\"type\":\"CDSView\"},{\"attributes\":{},\"id\":\"1023\",\"type\":\"WheelZoomTool\"},{\"attributes\":{},\"id\":\"1060\",\"type\":\"UnionRenderers\"},{\"attributes\":{\"overlay\":{\"id\":\"1030\",\"type\":\"BoxAnnotation\"}},\"id\":\"1024\",\"type\":\"BoxZoomTool\"},{\"attributes\":{},\"id\":\"1025\",\"type\":\"SaveTool\"},{\"attributes\":{},\"id\":\"1061\",\"type\":\"Selection\"},{\"attributes\":{\"callback\":null,\"data\":{\"x\":{\"__ndarray__\":\"AAAAAAAAAAAcx3Ecx3G8PxzHcRzHccw/VVVVVVVV1T8cx3Ecx3HcP3Icx3Ecx+E/VVVVVVVV5T84juM4juPoPxzHcRzHcew/AAAAAAAA8D8=\",\"dtype\":\"float64\",\"shape\":[10]},\"y\":{\"__ndarray__\":\"AAAAAAAA8D9c88MiZeDxP/YaLfwh+fM/TPDGN9JQ9j+wS/zo1+74PziwKdBy2/s/HNNaWtof/z/pV9JWLWMBQM3j1I46bQNAQoNJN4K0BUA=\",\"dtype\":\"float64\",\"shape\":[10]}},\"selected\":{\"id\":\"1061\",\"type\":\"Selection\"},\"selection_policy\":{\"id\":\"1060\",\"type\":\"UnionRenderers\"}},\"id\":\"1037\",\"type\":\"ColumnDataSource\"},{\"attributes\":{},\"id\":\"1026\",\"type\":\"ResetTool\"},{\"attributes\":{\"label\":{\"value\":\"Courbe th\\u00e9orique\"},\"renderers\":[{\"id\":\"1053\",\"type\":\"GlyphRenderer\"}]},\"id\":\"1063\",\"type\":\"LegendItem\"},{\"attributes\":{\"plot\":null,\"text\":\"Repr\\u00e9sentation pour Rk2 avec 10 points\"},\"id\":\"1001\",\"type\":\"Title\"},{\"attributes\":{\"callback\":null},\"id\":\"1004\",\"type\":\"DataRange1d\"},{\"attributes\":{},\"id\":\"1027\",\"type\":\"HelpTool\"},{\"attributes\":{},\"id\":\"1071\",\"type\":\"UnionRenderers\"},{\"attributes\":{\"callback\":null},\"id\":\"1006\",\"type\":\"DataRange1d\"},{\"attributes\":{\"active_drag\":\"auto\",\"active_inspect\":\"auto\",\"active_multi\":null,\"active_scroll\":\"auto\",\"active_tap\":\"auto\",\"tools\":[{\"id\":\"1022\",\"type\":\"PanTool\"},{\"id\":\"1023\",\"type\":\"WheelZoomTool\"},{\"id\":\"1024\",\"type\":\"BoxZoomTool\"},{\"id\":\"1025\",\"type\":\"SaveTool\"},{\"id\":\"1026\",\"type\":\"ResetTool\"},{\"id\":\"1027\",\"type\":\"HelpTool\"}]},\"id\":\"1028\",\"type\":\"Toolbar\"},{\"attributes\":{},\"id\":\"1072\",\"type\":\"Selection\"},{\"attributes\":{\"line_alpha\":0.1,\"line_color\":\"#1f77b4\",\"x\":{\"field\":\"x\"},\"y\":{\"field\":\"y\"}},\"id\":\"1039\",\"type\":\"Line\"},{\"attributes\":{\"bottom_units\":\"screen\",\"fill_alpha\":{\"value\":0.5},\"fill_color\":{\"value\":\"lightgrey\"},\"left_units\":\"screen\",\"level\":\"overlay\",\"line_alpha\":{\"value\":1.0},\"line_color\":{\"value\":\"black\"},\"line_dash\":[4,4],\"line_width\":{\"value\":2},\"plot\":null,\"render_mode\":\"css\",\"right_units\":\"screen\",\"top_units\":\"screen\"},\"id\":\"1030\",\"type\":\"BoxAnnotation\"},{\"attributes\":{},\"id\":\"1008\",\"type\":\"LinearScale\"},{\"attributes\":{\"data_source\":{\"id\":\"1037\",\"type\":\"ColumnDataSource\"},\"glyph\":{\"id\":\"1038\",\"type\":\"Line\"},\"hover_glyph\":null,\"muted_glyph\":null,\"nonselection_glyph\":{\"id\":\"1039\",\"type\":\"Line\"},\"selection_glyph\":null,\"view\":{\"id\":\"1041\",\"type\":\"CDSView\"}},\"id\":\"1040\",\"type\":\"GlyphRenderer\"},{\"attributes\":{},\"id\":\"1010\",\"type\":\"LinearScale\"},{\"attributes\":{\"source\":{\"id\":\"1037\",\"type\":\"ColumnDataSource\"}},\"id\":\"1041\",\"type\":\"CDSView\"},{\"attributes\":{\"formatter\":{\"id\":\"1043\",\"type\":\"BasicTickFormatter\"},\"plot\":{\"id\":\"1002\",\"subtype\":\"Figure\",\"type\":\"Plot\"},\"ticker\":{\"id\":\"1013\",\"type\":\"BasicTicker\"}},\"id\":\"1012\",\"type\":\"LinearAxis\"},{\"attributes\":{},\"id\":\"1043\",\"type\":\"BasicTickFormatter\"},{\"attributes\":{},\"id\":\"1013\",\"type\":\"BasicTicker\"},{\"attributes\":{},\"id\":\"1045\",\"type\":\"BasicTickFormatter\"},{\"attributes\":{\"plot\":{\"id\":\"1002\",\"subtype\":\"Figure\",\"type\":\"Plot\"},\"ticker\":{\"id\":\"1013\",\"type\":\"BasicTicker\"}},\"id\":\"1016\",\"type\":\"Grid\"},{\"attributes\":{\"items\":[{\"id\":\"1049\",\"type\":\"LegendItem\"},{\"id\":\"1063\",\"type\":\"LegendItem\"}],\"location\":\"top_left\",\"plot\":{\"id\":\"1002\",\"subtype\":\"Figure\",\"type\":\"Plot\"}},\"id\":\"1048\",\"type\":\"Legend\"},{\"attributes\":{\"formatter\":{\"id\":\"1045\",\"type\":\"BasicTickFormatter\"},\"plot\":{\"id\":\"1002\",\"subtype\":\"Figure\",\"type\":\"Plot\"},\"ticker\":{\"id\":\"1018\",\"type\":\"BasicTicker\"}},\"id\":\"1017\",\"type\":\"LinearAxis\"},{\"attributes\":{\"label\":{\"value\":\"Par Rk2\"},\"renderers\":[{\"id\":\"1040\",\"type\":\"GlyphRenderer\"}]},\"id\":\"1049\",\"type\":\"LegendItem\"},{\"attributes\":{},\"id\":\"1018\",\"type\":\"BasicTicker\"},{\"attributes\":{\"dimension\":1,\"plot\":{\"id\":\"1002\",\"subtype\":\"Figure\",\"type\":\"Plot\"},\"ticker\":{\"id\":\"1018\",\"type\":\"BasicTicker\"}},\"id\":\"1021\",\"type\":\"Grid\"},{\"attributes\":{\"line_color\":\"blue\",\"x\":{\"field\":\"x\"},\"y\":{\"field\":\"y\"}},\"id\":\"1051\",\"type\":\"Line\"}],\"root_ids\":[\"1002\"]},\"title\":\"Bokeh Application\",\"version\":\"1.0.4\"}};\n",
       "  var render_items = [{\"docid\":\"62d4f5e4-f2e7-48ae-9436-0743c73f16fe\",\"roots\":{\"1002\":\"94c6b85b-dc72-4702-ae62-1c81649884b8\"}}];\n",
       "  root.Bokeh.embed.embed_items_notebook(docs_json, render_items);\n",
       "\n",
       "  }\n",
       "  if (root.Bokeh !== undefined) {\n",
       "    embed_document(root);\n",
       "  } else {\n",
       "    var attempts = 0;\n",
       "    var timer = setInterval(function(root) {\n",
       "      if (root.Bokeh !== undefined) {\n",
       "        embed_document(root);\n",
       "        clearInterval(timer);\n",
       "      }\n",
       "      attempts++;\n",
       "      if (attempts > 100) {\n",
       "        console.log(\"Bokeh: ERROR: Unable to run BokehJS code because BokehJS library is missing\");\n",
       "        clearInterval(timer);\n",
       "      }\n",
       "    }, 10, root)\n",
       "  }\n",
       "})(window);"
      ],
      "application/vnd.bokehjs_exec.v0+json": ""
     },
     "metadata": {
      "application/vnd.bokehjs_exec.v0+json": {
       "id": "1002"
      }
     },
     "output_type": "display_data"
    },
    {
     "data": {
      "text/html": [
       "\n",
       "\n",
       "\n",
       "\n",
       "\n",
       "\n",
       "  <div class=\"bk-root\" id=\"9f53a7b4-d651-4371-b76c-f9c42772ddc4\" data-root-id=\"1135\"></div>\n"
      ]
     },
     "metadata": {},
     "output_type": "display_data"
    },
    {
     "data": {
      "application/javascript": [
       "(function(root) {\n",
       "  function embed_document(root) {\n",
       "    \n",
       "  var docs_json = {\"b56348e3-f98b-4ac5-a56d-20d587448e3e\":{\"roots\":{\"references\":[{\"attributes\":{\"below\":[{\"id\":\"1145\",\"type\":\"LogAxis\"}],\"left\":[{\"id\":\"1150\",\"type\":\"LogAxis\"}],\"plot_height\":400,\"plot_width\":990,\"renderers\":[{\"id\":\"1145\",\"type\":\"LogAxis\"},{\"id\":\"1149\",\"type\":\"Grid\"},{\"id\":\"1150\",\"type\":\"LogAxis\"},{\"id\":\"1154\",\"type\":\"Grid\"},{\"id\":\"1163\",\"type\":\"BoxAnnotation\"},{\"id\":\"1181\",\"type\":\"Legend\"},{\"id\":\"1173\",\"type\":\"GlyphRenderer\"},{\"id\":\"1186\",\"type\":\"GlyphRenderer\"},{\"id\":\"1191\",\"type\":\"GlyphRenderer\"},{\"id\":\"1207\",\"type\":\"GlyphRenderer\"},{\"id\":\"1212\",\"type\":\"GlyphRenderer\"}],\"title\":{\"id\":\"1134\",\"type\":\"Title\"},\"toolbar\":{\"id\":\"1161\",\"type\":\"Toolbar\"},\"x_range\":{\"id\":\"1137\",\"type\":\"DataRange1d\"},\"x_scale\":{\"id\":\"1141\",\"type\":\"LogScale\"},\"y_range\":{\"id\":\"1139\",\"type\":\"DataRange1d\"},\"y_scale\":{\"id\":\"1143\",\"type\":\"LogScale\"}},\"id\":\"1135\",\"subtype\":\"Figure\",\"type\":\"Plot\"},{\"attributes\":{\"fill_color\":{\"value\":\"red\"},\"line_color\":{\"value\":\"red\"},\"x\":{\"field\":\"x\"},\"y\":{\"field\":\"y\"}},\"id\":\"1171\",\"type\":\"X\"},{\"attributes\":{\"callback\":null,\"data\":{\"x\":{\"__ndarray__\":\"mpmZmZmZuT8RERERERGhPx3UQR3UQY0/exSuR+F6hD9PG+i0gU5rP7GpNOTcZ1c//Knx0k1iUD8=\",\"dtype\":\"float64\",\"shape\":[7]},\"y\":[0.004200981850821073,0.000490924280162286,9.147205934167957e-05,4.49658990882007e-05,5.021282743378208e-06,9.235954392394774e-07,4.5270728232793545e-07]},\"selected\":{\"id\":\"1199\",\"type\":\"Selection\"},\"selection_policy\":{\"id\":\"1198\",\"type\":\"UnionRenderers\"}},\"id\":\"1170\",\"type\":\"ColumnDataSource\"},{\"attributes\":{\"line_alpha\":0.1,\"line_color\":\"#1f77b4\",\"x\":{\"field\":\"x\"},\"y\":{\"field\":\"y\"}},\"id\":\"1185\",\"type\":\"Line\"},{\"attributes\":{\"line_alpha\":0.1,\"line_color\":\"#1f77b4\",\"x\":{\"field\":\"x\"},\"y\":{\"field\":\"y\"}},\"id\":\"1206\",\"type\":\"Line\"},{\"attributes\":{\"dimension\":1,\"plot\":{\"id\":\"1135\",\"subtype\":\"Figure\",\"type\":\"Plot\"},\"ticker\":{\"id\":\"1151\",\"type\":\"LogTicker\"}},\"id\":\"1154\",\"type\":\"Grid\"},{\"attributes\":{\"line_color\":\"#1f77b4\",\"x\":{\"field\":\"x\"},\"y\":{\"field\":\"y\"}},\"id\":\"1184\",\"type\":\"Line\"},{\"attributes\":{\"axis_label\":\"Erreur commise\",\"formatter\":{\"id\":\"1178\",\"type\":\"LogTickFormatter\"},\"plot\":{\"id\":\"1135\",\"subtype\":\"Figure\",\"type\":\"Plot\"},\"ticker\":{\"id\":\"1151\",\"type\":\"LogTicker\"}},\"id\":\"1150\",\"type\":\"LogAxis\"},{\"attributes\":{},\"id\":\"1233\",\"type\":\"UnionRenderers\"},{\"attributes\":{\"label\":{\"value\":\"Erreur pratique\"},\"renderers\":[{\"id\":\"1173\",\"type\":\"GlyphRenderer\"}]},\"id\":\"1182\",\"type\":\"LegendItem\"},{\"attributes\":{\"callback\":null,\"data\":{\"x\":{\"__ndarray__\":\"mpmZmZmZuT8RERERERGhPx3UQR3UQY0/exSuR+F6hD9PG+i0gU5rP7GpNOTcZ1c//Knx0k1iUD8=\",\"dtype\":\"float64\",\"shape\":[7]},\"y\":{\"__ndarray__\":\"fBSuR+F6hD/fvJp4VjRSP6UvPODXvyo/LUMc6+I2Gj8pWKd7O03nPiKP/aOeHsE+je21oPfGsD4=\",\"dtype\":\"float64\",\"shape\":[7]}},\"selected\":{\"id\":\"1234\",\"type\":\"Selection\"},\"selection_policy\":{\"id\":\"1233\",\"type\":\"UnionRenderers\"}},\"id\":\"1188\",\"type\":\"ColumnDataSource\"},{\"attributes\":{\"line_color\":\"#1f77b4\",\"x\":{\"field\":\"x\"},\"y\":{\"field\":\"y\"}},\"id\":\"1210\",\"type\":\"Line\"},{\"attributes\":{\"source\":{\"id\":\"1183\",\"type\":\"ColumnDataSource\"}},\"id\":\"1187\",\"type\":\"CDSView\"},{\"attributes\":{\"source\":{\"id\":\"1209\",\"type\":\"ColumnDataSource\"}},\"id\":\"1213\",\"type\":\"CDSView\"},{\"attributes\":{\"data_source\":{\"id\":\"1183\",\"type\":\"ColumnDataSource\"},\"glyph\":{\"id\":\"1184\",\"type\":\"Line\"},\"hover_glyph\":null,\"muted_glyph\":null,\"nonselection_glyph\":{\"id\":\"1185\",\"type\":\"Line\"},\"selection_glyph\":null,\"view\":{\"id\":\"1187\",\"type\":\"CDSView\"}},\"id\":\"1186\",\"type\":\"GlyphRenderer\"},{\"attributes\":{\"plot\":{\"id\":\"1135\",\"subtype\":\"Figure\",\"type\":\"Plot\"},\"ticker\":{\"id\":\"1146\",\"type\":\"LogTicker\"}},\"id\":\"1149\",\"type\":\"Grid\"},{\"attributes\":{\"data_source\":{\"id\":\"1209\",\"type\":\"ColumnDataSource\"},\"glyph\":{\"id\":\"1210\",\"type\":\"Line\"},\"hover_glyph\":null,\"muted_glyph\":null,\"nonselection_glyph\":{\"id\":\"1211\",\"type\":\"Line\"},\"selection_glyph\":null,\"view\":{\"id\":\"1213\",\"type\":\"CDSView\"}},\"id\":\"1212\",\"type\":\"GlyphRenderer\"},{\"attributes\":{\"data_source\":{\"id\":\"1188\",\"type\":\"ColumnDataSource\"},\"glyph\":{\"id\":\"1189\",\"type\":\"Line\"},\"hover_glyph\":null,\"muted_glyph\":null,\"nonselection_glyph\":{\"id\":\"1190\",\"type\":\"Line\"},\"selection_glyph\":null,\"view\":{\"id\":\"1192\",\"type\":\"CDSView\"}},\"id\":\"1191\",\"type\":\"GlyphRenderer\"},{\"attributes\":{\"num_minor_ticks\":10},\"id\":\"1146\",\"type\":\"LogTicker\"},{\"attributes\":{\"line_alpha\":0.1,\"line_color\":\"#1f77b4\",\"x\":{\"field\":\"x\"},\"y\":{\"field\":\"y\"}},\"id\":\"1211\",\"type\":\"Line\"},{\"attributes\":{\"line_alpha\":0.1,\"line_color\":\"#1f77b4\",\"x\":{\"field\":\"x\"},\"y\":{\"field\":\"y\"}},\"id\":\"1190\",\"type\":\"Line\"},{\"attributes\":{\"axis_label\":\"pas\",\"formatter\":{\"id\":\"1176\",\"type\":\"LogTickFormatter\"},\"plot\":{\"id\":\"1135\",\"subtype\":\"Figure\",\"type\":\"Plot\"},\"ticker\":{\"id\":\"1146\",\"type\":\"LogTicker\"}},\"id\":\"1145\",\"type\":\"LogAxis\"},{\"attributes\":{\"line_color\":\"green\",\"x\":{\"field\":\"x\"},\"y\":{\"field\":\"y\"}},\"id\":\"1189\",\"type\":\"Line\"},{\"attributes\":{\"callback\":null,\"data\":{\"x\":{\"__ndarray__\":\"mpmZmZmZuT8RERERERGhPx3UQR3UQY0/exSuR+F6hD9PG+i0gU5rP7GpNOTcZ1c//Knx0k1iUD8=\",\"dtype\":\"float64\",\"shape\":[7]},\"y\":{\"__ndarray__\":\"/anx0k1iUD8hdAvnBmsDP54VIaHidMg+ju21oPfGsD4t12XkVOJjPp8qLoIlCyk+ldYm6AsuET4=\",\"dtype\":\"float64\",\"shape\":[7]}},\"selected\":{\"id\":\"1236\",\"type\":\"Selection\"},\"selection_policy\":{\"id\":\"1235\",\"type\":\"UnionRenderers\"}},\"id\":\"1204\",\"type\":\"ColumnDataSource\"},{\"attributes\":{},\"id\":\"1143\",\"type\":\"LogScale\"},{\"attributes\":{\"items\":[{\"id\":\"1182\",\"type\":\"LegendItem\"},{\"id\":\"1203\",\"type\":\"LegendItem\"}],\"location\":\"top_left\",\"plot\":{\"id\":\"1135\",\"subtype\":\"Figure\",\"type\":\"Plot\"}},\"id\":\"1181\",\"type\":\"Legend\"},{\"attributes\":{},\"id\":\"1141\",\"type\":\"LogScale\"},{\"attributes\":{\"fill_alpha\":{\"value\":0.1},\"fill_color\":{\"value\":\"#1f77b4\"},\"line_alpha\":{\"value\":0.1},\"line_color\":{\"value\":\"#1f77b4\"},\"x\":{\"field\":\"x\"},\"y\":{\"field\":\"y\"}},\"id\":\"1172\",\"type\":\"X\"},{\"attributes\":{\"source\":{\"id\":\"1188\",\"type\":\"ColumnDataSource\"}},\"id\":\"1192\",\"type\":\"CDSView\"},{\"attributes\":{\"ticker\":null},\"id\":\"1176\",\"type\":\"LogTickFormatter\"},{\"attributes\":{\"callback\":null,\"data\":{\"x\":{\"__ndarray__\":\"mpmZmZmZuT8RERERERGhPx3UQR3UQY0/exSuR+F6hD9PG+i0gU5rP7GpNOTcZ1c//Knx0k1iUD8=\",\"dtype\":\"float64\",\"shape\":[7]},\"y\":{\"__ndarray__\":\"mpmZmZmZuT8RERERERGhPx3UQR3UQY0/exSuR+F6hD9PG+i0gU5rP7GpNOTcZ1c//Knx0k1iUD8=\",\"dtype\":\"float64\",\"shape\":[7]}},\"selected\":{\"id\":\"1201\",\"type\":\"Selection\"},\"selection_policy\":{\"id\":\"1200\",\"type\":\"UnionRenderers\"}},\"id\":\"1183\",\"type\":\"ColumnDataSource\"},{\"attributes\":{\"callback\":null},\"id\":\"1139\",\"type\":\"DataRange1d\"},{\"attributes\":{},\"id\":\"1235\",\"type\":\"UnionRenderers\"},{\"attributes\":{},\"id\":\"1200\",\"type\":\"UnionRenderers\"},{\"attributes\":{\"plot\":null,\"text\":\"Erreur commise sur Rk2\"},\"id\":\"1134\",\"type\":\"Title\"},{\"attributes\":{\"callback\":null},\"id\":\"1137\",\"type\":\"DataRange1d\"},{\"attributes\":{\"ticker\":null},\"id\":\"1178\",\"type\":\"LogTickFormatter\"},{\"attributes\":{},\"id\":\"1199\",\"type\":\"Selection\"},{\"attributes\":{},\"id\":\"1236\",\"type\":\"Selection\"},{\"attributes\":{},\"id\":\"1156\",\"type\":\"WheelZoomTool\"},{\"attributes\":{},\"id\":\"1198\",\"type\":\"UnionRenderers\"},{\"attributes\":{\"line_color\":\"#1f77b4\",\"x\":{\"field\":\"x\"},\"y\":{\"field\":\"y\"}},\"id\":\"1205\",\"type\":\"Line\"},{\"attributes\":{\"callback\":null,\"data\":{\"x\":{\"__ndarray__\":\"mpmZmZmZuT8RERERERGhPx3UQR3UQY0/exSuR+F6hD9PG+i0gU5rP7GpNOTcZ1c//Knx0k1iUD8=\",\"dtype\":\"float64\",\"shape\":[7]},\"y\":{\"__ndarray__\":\"LkMc6+I2Gj/Oaj/Dbba0PjHvFus8XGY+Ooww4o55RT7pNXLov/fgPWK0hrVLUZI9EuotgZmXcT0=\",\"dtype\":\"float64\",\"shape\":[7]}},\"selected\":{\"id\":\"1238\",\"type\":\"Selection\"},\"selection_policy\":{\"id\":\"1237\",\"type\":\"UnionRenderers\"}},\"id\":\"1209\",\"type\":\"ColumnDataSource\"},{\"attributes\":{},\"id\":\"1234\",\"type\":\"Selection\"},{\"attributes\":{},\"id\":\"1160\",\"type\":\"HelpTool\"},{\"attributes\":{},\"id\":\"1237\",\"type\":\"UnionRenderers\"},{\"attributes\":{\"source\":{\"id\":\"1170\",\"type\":\"ColumnDataSource\"}},\"id\":\"1174\",\"type\":\"CDSView\"},{\"attributes\":{},\"id\":\"1159\",\"type\":\"ResetTool\"},{\"attributes\":{\"data_source\":{\"id\":\"1170\",\"type\":\"ColumnDataSource\"},\"glyph\":{\"id\":\"1171\",\"type\":\"X\"},\"hover_glyph\":null,\"muted_glyph\":null,\"nonselection_glyph\":{\"id\":\"1172\",\"type\":\"X\"},\"selection_glyph\":null,\"view\":{\"id\":\"1174\",\"type\":\"CDSView\"}},\"id\":\"1173\",\"type\":\"GlyphRenderer\"},{\"attributes\":{\"label\":{\"value\":\"ordre 2\"},\"renderers\":[{\"id\":\"1191\",\"type\":\"GlyphRenderer\"}]},\"id\":\"1203\",\"type\":\"LegendItem\"},{\"attributes\":{},\"id\":\"1158\",\"type\":\"SaveTool\"},{\"attributes\":{},\"id\":\"1238\",\"type\":\"Selection\"},{\"attributes\":{},\"id\":\"1155\",\"type\":\"PanTool\"},{\"attributes\":{\"active_drag\":\"auto\",\"active_inspect\":\"auto\",\"active_multi\":null,\"active_scroll\":\"auto\",\"active_tap\":\"auto\",\"tools\":[{\"id\":\"1155\",\"type\":\"PanTool\"},{\"id\":\"1156\",\"type\":\"WheelZoomTool\"},{\"id\":\"1157\",\"type\":\"BoxZoomTool\"},{\"id\":\"1158\",\"type\":\"SaveTool\"},{\"id\":\"1159\",\"type\":\"ResetTool\"},{\"id\":\"1160\",\"type\":\"HelpTool\"}]},\"id\":\"1161\",\"type\":\"Toolbar\"},{\"attributes\":{\"num_minor_ticks\":10},\"id\":\"1151\",\"type\":\"LogTicker\"},{\"attributes\":{},\"id\":\"1201\",\"type\":\"Selection\"},{\"attributes\":{\"overlay\":{\"id\":\"1163\",\"type\":\"BoxAnnotation\"}},\"id\":\"1157\",\"type\":\"BoxZoomTool\"},{\"attributes\":{\"source\":{\"id\":\"1204\",\"type\":\"ColumnDataSource\"}},\"id\":\"1208\",\"type\":\"CDSView\"},{\"attributes\":{\"bottom_units\":\"screen\",\"fill_alpha\":{\"value\":0.5},\"fill_color\":{\"value\":\"lightgrey\"},\"left_units\":\"screen\",\"level\":\"overlay\",\"line_alpha\":{\"value\":1.0},\"line_color\":{\"value\":\"black\"},\"line_dash\":[4,4],\"line_width\":{\"value\":2},\"plot\":null,\"render_mode\":\"css\",\"right_units\":\"screen\",\"top_units\":\"screen\"},\"id\":\"1163\",\"type\":\"BoxAnnotation\"},{\"attributes\":{\"data_source\":{\"id\":\"1204\",\"type\":\"ColumnDataSource\"},\"glyph\":{\"id\":\"1205\",\"type\":\"Line\"},\"hover_glyph\":null,\"muted_glyph\":null,\"nonselection_glyph\":{\"id\":\"1206\",\"type\":\"Line\"},\"selection_glyph\":null,\"view\":{\"id\":\"1208\",\"type\":\"CDSView\"}},\"id\":\"1207\",\"type\":\"GlyphRenderer\"}],\"root_ids\":[\"1135\"]},\"title\":\"Bokeh Application\",\"version\":\"1.0.4\"}};\n",
       "  var render_items = [{\"docid\":\"b56348e3-f98b-4ac5-a56d-20d587448e3e\",\"roots\":{\"1135\":\"9f53a7b4-d651-4371-b76c-f9c42772ddc4\"}}];\n",
       "  root.Bokeh.embed.embed_items_notebook(docs_json, render_items);\n",
       "\n",
       "  }\n",
       "  if (root.Bokeh !== undefined) {\n",
       "    embed_document(root);\n",
       "  } else {\n",
       "    var attempts = 0;\n",
       "    var timer = setInterval(function(root) {\n",
       "      if (root.Bokeh !== undefined) {\n",
       "        embed_document(root);\n",
       "        clearInterval(timer);\n",
       "      }\n",
       "      attempts++;\n",
       "      if (attempts > 100) {\n",
       "        console.log(\"Bokeh: ERROR: Unable to run BokehJS code because BokehJS library is missing\");\n",
       "        clearInterval(timer);\n",
       "      }\n",
       "    }, 10, root)\n",
       "  }\n",
       "})(window);"
      ],
      "application/vnd.bokehjs_exec.v0+json": ""
     },
     "metadata": {
      "application/vnd.bokehjs_exec.v0+json": {
       "id": "1135"
      }
     },
     "output_type": "display_data"
    }
   ],
   "source": [
    "def f(t,y):\n",
    "    return y\n",
    "\n",
    "t0=0\n",
    "y0=1\n",
    "tf=1\n",
    "nt=10\n",
    "\n",
    "# un premier affichage\n",
    "T=np.linspace(t0,tf,nt)\n",
    "Yrk=rk2(f,t0,tf,nt,y0)\n",
    "Yth=np.exp(T)\n",
    "    \n",
    "fig1 = figure(width=990, height=400, title=\"Représentation pour Rk2 avec \"+ str(nt) + \" points\")\n",
    "fig1.line(T,Yrk,color='red',legend=\"Par Rk2\")\n",
    "fig1.line(T,Yth,color=\"blue\",legend=\"Courbe théorique\")\n",
    "\n",
    "fig1.legend.location = \"top_left\"\n",
    "show(fig1)\n",
    "\n",
    "# tracer de l'erreur max en fonction de h**2\n",
    "Nt=np.array([10,30,70,100,300,700,1000]) \n",
    "Err=[]\n",
    "H=[]\n",
    "for n in Nt:\n",
    "    T=np.linspace(t0,tf,n+1)\n",
    "    Yrk=rk2(f,t0,tf,n+1,y0)  # n+1 points, n intervalles\n",
    "    Yth=np.exp(T)\n",
    "    Err_n=abs(Yrk-Yth)\n",
    "    Err.append(np.max(Err_n))# on ne prend que le max\n",
    "    H.append((tf-t0)/n)\n",
    "H=np.array(H)\n",
    "\n",
    "\n",
    "fig = figure(width=990, height=400,x_axis_type=\"log\",y_axis_type=\"log\",title=\"Erreur commise sur Rk2\")\n",
    "fig.x(H, Err,legend=\"Erreur pratique\",color=\"red\")\n",
    "fig.xaxis.axis_label = \"pas\"\n",
    "fig.yaxis.axis_label = \"Erreur commise\"\n",
    "fig.legend.location = \"top_left\"\n",
    "\n",
    "# tracé de quelques droites: ordres 1, 2, 3 et 4 représentés ici\n",
    "fig.line(H,H)\n",
    "fig.line(H,H**2,color=\"green\",legend=\"ordre 2\")\n",
    "fig.line(H,H**3)\n",
    "fig.line(H,H**4)\n",
    "\n",
    "\n",
    "show(fig)"
   ]
  },
  {
   "cell_type": "markdown",
   "metadata": {},
   "source": [
    "On voit donc que la méthode de Runge-Kutta d'ordre permet déjà une convergence très rapide (on a pris 10 points sur le premier graphe) pour la fonction f utilisée. On a de plus, comme prévue théoriquement, une convergence d'ordre 2."
   ]
  },
  {
   "cell_type": "markdown",
   "metadata": {},
   "source": [
    "## La méthode RK4"
   ]
  },
  {
   "cell_type": "markdown",
   "metadata": {},
   "source": [
    "**Implémenter la méthode RK4 et vérifier numériquement sur le même exemple qu'à la question précédente.**\n",
    "\n",
    "La fonction $rk4$ est la même que $rk2$, sauf que l'on fait appel à $updaterk4$ à la place de $updaterk2$."
   ]
  },
  {
   "cell_type": "code",
   "execution_count": 4,
   "metadata": {},
   "outputs": [],
   "source": [
    "def update_rk4(f, t, y, h):\n",
    "    \"\"\"retourne l'approximation yn+1 de y au temps tn+1 = tn + h avec une méthode de Runge-Kutta d'ordre 4\n",
    "    \n",
    "    Parameters\n",
    "    ----------\n",
    "    f : fonction f(t,y) second membre de l'EDO\n",
    "    t : temps tn\n",
    "    y : valeur de yn\n",
    "    h : pas de temps\n",
    "    \n",
    "    Returns\n",
    "    -------\n",
    "    ynp1 : valeur de yn+1\n",
    "    \"\"\"\n",
    "    \n",
    "    # calcul des ki, i = 1,2,3,4\n",
    "    k1=f(t,y)\n",
    "    k2=f(t+h*0.5,y+h*k1*0.5)\n",
    "    k3=f(t+h*0.5,y+h*k2*0.5)\n",
    "    k4=f(t+h,y+h*k3)\n",
    "    \n",
    "    # calcul de ynp1\n",
    "    ynp1=y+h*(k1+2*k2+2*k3+k4)/6\n",
    "    \n",
    "    return ynp1\n",
    "\n",
    "\n",
    "def rk4(f, tini, tend, nt, yini):\n",
    "    \"\"\"retourne le vecteur contenant les valeurs des yn en appelant update_rk4\n",
    "    \n",
    "    Parameters\n",
    "    ----------\n",
    "    f : fonction f(t,y) second membre de l'EDO\n",
    "    tini : temps initial\n",
    "    tend : temps final\n",
    "    nt : dimension du vecteur de sortie\n",
    "    yini : valeur initiale y(tini)\n",
    "    \n",
    "    Returns\n",
    "    -------\n",
    "    y : vecteur les nt valeurs yn\n",
    "    \"\"\"  \n",
    "    h=(tend-tini)/(nt-1) # attention nt est la dimension finale du vecteur. \n",
    "                     # Or pour n-1 intervalle il y a n points, il faut donc rentrer n-1 ici \n",
    "    t0=tini\n",
    "    \n",
    "    y=np.zeros(nt)\n",
    "    y[0]=yini\n",
    "    \n",
    "    for k in range(1,nt):\n",
    "        y[k]=update_rk4(f,t0,y[k-1],h)\n",
    "        t0=t0+h\n",
    "        \n",
    "    return y"
   ]
  },
  {
   "cell_type": "markdown",
   "metadata": {},
   "source": [
    "**Vérifier que cette méthode est d'ordre 4.**\n",
    "\n",
    "On copie-colle le code précédemment utilisé en l'adaptant à l'utilisation de Rk4."
   ]
  },
  {
   "cell_type": "code",
   "execution_count": 5,
   "metadata": {},
   "outputs": [
    {
     "data": {
      "text/html": [
       "\n",
       "\n",
       "\n",
       "\n",
       "\n",
       "\n",
       "  <div class=\"bk-root\" id=\"938f7186-709b-4ff9-a4ad-bbff0cf09407\" data-root-id=\"1337\"></div>\n"
      ]
     },
     "metadata": {},
     "output_type": "display_data"
    },
    {
     "data": {
      "application/javascript": [
       "(function(root) {\n",
       "  function embed_document(root) {\n",
       "    \n",
       "  var docs_json = {\"d54f8829-af16-494a-9303-bdd8b7f8e59c\":{\"roots\":{\"references\":[{\"attributes\":{\"below\":[{\"id\":\"1347\",\"type\":\"LinearAxis\"}],\"left\":[{\"id\":\"1352\",\"type\":\"LinearAxis\"}],\"plot_height\":400,\"plot_width\":990,\"renderers\":[{\"id\":\"1347\",\"type\":\"LinearAxis\"},{\"id\":\"1351\",\"type\":\"Grid\"},{\"id\":\"1352\",\"type\":\"LinearAxis\"},{\"id\":\"1356\",\"type\":\"Grid\"},{\"id\":\"1365\",\"type\":\"BoxAnnotation\"},{\"id\":\"1383\",\"type\":\"Legend\"},{\"id\":\"1375\",\"type\":\"GlyphRenderer\"},{\"id\":\"1388\",\"type\":\"GlyphRenderer\"}],\"title\":{\"id\":\"1336\",\"type\":\"Title\"},\"toolbar\":{\"id\":\"1363\",\"type\":\"Toolbar\"},\"x_range\":{\"id\":\"1339\",\"type\":\"DataRange1d\"},\"x_scale\":{\"id\":\"1343\",\"type\":\"LinearScale\"},\"y_range\":{\"id\":\"1341\",\"type\":\"DataRange1d\"},\"y_scale\":{\"id\":\"1345\",\"type\":\"LinearScale\"}},\"id\":\"1337\",\"subtype\":\"Figure\",\"type\":\"Plot\"},{\"attributes\":{},\"id\":\"1362\",\"type\":\"HelpTool\"},{\"attributes\":{\"callback\":null},\"id\":\"1339\",\"type\":\"DataRange1d\"},{\"attributes\":{},\"id\":\"1433\",\"type\":\"Selection\"},{\"attributes\":{\"active_drag\":\"auto\",\"active_inspect\":\"auto\",\"active_multi\":null,\"active_scroll\":\"auto\",\"active_tap\":\"auto\",\"tools\":[{\"id\":\"1357\",\"type\":\"PanTool\"},{\"id\":\"1358\",\"type\":\"WheelZoomTool\"},{\"id\":\"1359\",\"type\":\"BoxZoomTool\"},{\"id\":\"1360\",\"type\":\"SaveTool\"},{\"id\":\"1361\",\"type\":\"ResetTool\"},{\"id\":\"1362\",\"type\":\"HelpTool\"}]},\"id\":\"1363\",\"type\":\"Toolbar\"},{\"attributes\":{\"callback\":null},\"id\":\"1341\",\"type\":\"DataRange1d\"},{\"attributes\":{},\"id\":\"1343\",\"type\":\"LinearScale\"},{\"attributes\":{\"bottom_units\":\"screen\",\"fill_alpha\":{\"value\":0.5},\"fill_color\":{\"value\":\"lightgrey\"},\"left_units\":\"screen\",\"level\":\"overlay\",\"line_alpha\":{\"value\":1.0},\"line_color\":{\"value\":\"black\"},\"line_dash\":[4,4],\"line_width\":{\"value\":2},\"plot\":null,\"render_mode\":\"css\",\"right_units\":\"screen\",\"top_units\":\"screen\"},\"id\":\"1365\",\"type\":\"BoxAnnotation\"},{\"attributes\":{},\"id\":\"1345\",\"type\":\"LinearScale\"},{\"attributes\":{\"data_source\":{\"id\":\"1372\",\"type\":\"ColumnDataSource\"},\"glyph\":{\"id\":\"1373\",\"type\":\"Line\"},\"hover_glyph\":null,\"muted_glyph\":null,\"nonselection_glyph\":{\"id\":\"1374\",\"type\":\"Line\"},\"selection_glyph\":null,\"view\":{\"id\":\"1376\",\"type\":\"CDSView\"}},\"id\":\"1375\",\"type\":\"GlyphRenderer\"},{\"attributes\":{\"formatter\":{\"id\":\"1378\",\"type\":\"BasicTickFormatter\"},\"plot\":{\"id\":\"1337\",\"subtype\":\"Figure\",\"type\":\"Plot\"},\"ticker\":{\"id\":\"1348\",\"type\":\"BasicTicker\"}},\"id\":\"1347\",\"type\":\"LinearAxis\"},{\"attributes\":{\"source\":{\"id\":\"1372\",\"type\":\"ColumnDataSource\"}},\"id\":\"1376\",\"type\":\"CDSView\"},{\"attributes\":{},\"id\":\"1348\",\"type\":\"BasicTicker\"},{\"attributes\":{},\"id\":\"1378\",\"type\":\"BasicTickFormatter\"},{\"attributes\":{\"plot\":{\"id\":\"1337\",\"subtype\":\"Figure\",\"type\":\"Plot\"},\"ticker\":{\"id\":\"1348\",\"type\":\"BasicTicker\"}},\"id\":\"1351\",\"type\":\"Grid\"},{\"attributes\":{},\"id\":\"1380\",\"type\":\"BasicTickFormatter\"},{\"attributes\":{\"formatter\":{\"id\":\"1380\",\"type\":\"BasicTickFormatter\"},\"plot\":{\"id\":\"1337\",\"subtype\":\"Figure\",\"type\":\"Plot\"},\"ticker\":{\"id\":\"1353\",\"type\":\"BasicTicker\"}},\"id\":\"1352\",\"type\":\"LinearAxis\"},{\"attributes\":{\"items\":[{\"id\":\"1384\",\"type\":\"LegendItem\"},{\"id\":\"1398\",\"type\":\"LegendItem\"}],\"location\":\"top_left\",\"plot\":{\"id\":\"1337\",\"subtype\":\"Figure\",\"type\":\"Plot\"}},\"id\":\"1383\",\"type\":\"Legend\"},{\"attributes\":{},\"id\":\"1353\",\"type\":\"BasicTicker\"},{\"attributes\":{\"label\":{\"value\":\"Par Rk4\"},\"renderers\":[{\"id\":\"1375\",\"type\":\"GlyphRenderer\"}]},\"id\":\"1384\",\"type\":\"LegendItem\"},{\"attributes\":{\"dimension\":1,\"plot\":{\"id\":\"1337\",\"subtype\":\"Figure\",\"type\":\"Plot\"},\"ticker\":{\"id\":\"1353\",\"type\":\"BasicTicker\"}},\"id\":\"1356\",\"type\":\"Grid\"},{\"attributes\":{},\"id\":\"1432\",\"type\":\"UnionRenderers\"},{\"attributes\":{\"line_color\":\"blue\",\"x\":{\"field\":\"x\"},\"y\":{\"field\":\"y\"}},\"id\":\"1386\",\"type\":\"Line\"},{\"attributes\":{\"line_color\":\"red\",\"x\":{\"field\":\"x\"},\"y\":{\"field\":\"y\"}},\"id\":\"1373\",\"type\":\"Line\"},{\"attributes\":{\"callback\":null,\"data\":{\"x\":{\"__ndarray__\":\"AAAAAAAAAAAcx3Ecx3G8PxzHcRzHccw/VVVVVVVV1T8cx3Ecx3HcP3Icx3Ecx+E/VVVVVVVV5T84juM4juPoPxzHcRzHcew/AAAAAAAA8D8=\",\"dtype\":\"float64\",\"shape\":[10]},\"y\":{\"__ndarray__\":\"AAAAAAAA8D9hcc6sW+HxPxkkoPNI+/M/Ey26sW1U9j9HtcTEN/T4P5WO0Iv04vs/DCx6K+sp/z9duiH0vGkBQNX4AHqbdQNAaVcUiwq/BUA=\",\"dtype\":\"float64\",\"shape\":[10]}},\"selected\":{\"id\":\"1433\",\"type\":\"Selection\"},\"selection_policy\":{\"id\":\"1432\",\"type\":\"UnionRenderers\"}},\"id\":\"1385\",\"type\":\"ColumnDataSource\"},{\"attributes\":{\"line_alpha\":0.1,\"line_color\":\"#1f77b4\",\"x\":{\"field\":\"x\"},\"y\":{\"field\":\"y\"}},\"id\":\"1387\",\"type\":\"Line\"},{\"attributes\":{\"line_alpha\":0.1,\"line_color\":\"#1f77b4\",\"x\":{\"field\":\"x\"},\"y\":{\"field\":\"y\"}},\"id\":\"1374\",\"type\":\"Line\"},{\"attributes\":{\"data_source\":{\"id\":\"1385\",\"type\":\"ColumnDataSource\"},\"glyph\":{\"id\":\"1386\",\"type\":\"Line\"},\"hover_glyph\":null,\"muted_glyph\":null,\"nonselection_glyph\":{\"id\":\"1387\",\"type\":\"Line\"},\"selection_glyph\":null,\"view\":{\"id\":\"1389\",\"type\":\"CDSView\"}},\"id\":\"1388\",\"type\":\"GlyphRenderer\"},{\"attributes\":{},\"id\":\"1357\",\"type\":\"PanTool\"},{\"attributes\":{\"source\":{\"id\":\"1385\",\"type\":\"ColumnDataSource\"}},\"id\":\"1389\",\"type\":\"CDSView\"},{\"attributes\":{},\"id\":\"1358\",\"type\":\"WheelZoomTool\"},{\"attributes\":{},\"id\":\"1395\",\"type\":\"UnionRenderers\"},{\"attributes\":{\"overlay\":{\"id\":\"1365\",\"type\":\"BoxAnnotation\"}},\"id\":\"1359\",\"type\":\"BoxZoomTool\"},{\"attributes\":{\"plot\":null,\"text\":\"Repr\\u00e9sentation pour Rk4 avec 10 points\"},\"id\":\"1336\",\"type\":\"Title\"},{\"attributes\":{},\"id\":\"1360\",\"type\":\"SaveTool\"},{\"attributes\":{},\"id\":\"1396\",\"type\":\"Selection\"},{\"attributes\":{\"label\":{\"value\":\"Courbe th\\u00e9orique\"},\"renderers\":[{\"id\":\"1388\",\"type\":\"GlyphRenderer\"}]},\"id\":\"1398\",\"type\":\"LegendItem\"},{\"attributes\":{},\"id\":\"1361\",\"type\":\"ResetTool\"},{\"attributes\":{\"callback\":null,\"data\":{\"x\":{\"__ndarray__\":\"AAAAAAAAAAAcx3Ecx3G8PxzHcRzHccw/VVVVVVVV1T8cx3Ecx3HcP3Icx3Ecx+E/VVVVVVVV5T84juM4juPoPxzHcRzHcew/AAAAAAAA8D8=\",\"dtype\":\"float64\",\"shape\":[10]},\"y\":{\"__ndarray__\":\"AAAAAAAA8D8Y3zWGW+HxP0CwXJ1I+/M/1SggIW1U9j8B7U7tNvT4P1K41l7z4vs/kpXcl+kp/z8nNwXtu2kBQOqe9ymadQNAtoGc5Ai/BUA=\",\"dtype\":\"float64\",\"shape\":[10]}},\"selected\":{\"id\":\"1396\",\"type\":\"Selection\"},\"selection_policy\":{\"id\":\"1395\",\"type\":\"UnionRenderers\"}},\"id\":\"1372\",\"type\":\"ColumnDataSource\"}],\"root_ids\":[\"1337\"]},\"title\":\"Bokeh Application\",\"version\":\"1.0.4\"}};\n",
       "  var render_items = [{\"docid\":\"d54f8829-af16-494a-9303-bdd8b7f8e59c\",\"roots\":{\"1337\":\"938f7186-709b-4ff9-a4ad-bbff0cf09407\"}}];\n",
       "  root.Bokeh.embed.embed_items_notebook(docs_json, render_items);\n",
       "\n",
       "  }\n",
       "  if (root.Bokeh !== undefined) {\n",
       "    embed_document(root);\n",
       "  } else {\n",
       "    var attempts = 0;\n",
       "    var timer = setInterval(function(root) {\n",
       "      if (root.Bokeh !== undefined) {\n",
       "        embed_document(root);\n",
       "        clearInterval(timer);\n",
       "      }\n",
       "      attempts++;\n",
       "      if (attempts > 100) {\n",
       "        console.log(\"Bokeh: ERROR: Unable to run BokehJS code because BokehJS library is missing\");\n",
       "        clearInterval(timer);\n",
       "      }\n",
       "    }, 10, root)\n",
       "  }\n",
       "})(window);"
      ],
      "application/vnd.bokehjs_exec.v0+json": ""
     },
     "metadata": {
      "application/vnd.bokehjs_exec.v0+json": {
       "id": "1337"
      }
     },
     "output_type": "display_data"
    },
    {
     "data": {
      "text/html": [
       "\n",
       "\n",
       "\n",
       "\n",
       "\n",
       "\n",
       "  <div class=\"bk-root\" id=\"1c640618-6ef3-4e94-9db1-252dddb13a08\" data-root-id=\"1496\"></div>\n"
      ]
     },
     "metadata": {},
     "output_type": "display_data"
    },
    {
     "data": {
      "application/javascript": [
       "(function(root) {\n",
       "  function embed_document(root) {\n",
       "    \n",
       "  var docs_json = {\"e7cdf112-446d-4f06-8016-7e01d1ffed47\":{\"roots\":{\"references\":[{\"attributes\":{\"below\":[{\"id\":\"1506\",\"type\":\"LogAxis\"}],\"left\":[{\"id\":\"1511\",\"type\":\"LogAxis\"}],\"plot_height\":400,\"plot_width\":990,\"renderers\":[{\"id\":\"1506\",\"type\":\"LogAxis\"},{\"id\":\"1510\",\"type\":\"Grid\"},{\"id\":\"1511\",\"type\":\"LogAxis\"},{\"id\":\"1515\",\"type\":\"Grid\"},{\"id\":\"1524\",\"type\":\"BoxAnnotation\"},{\"id\":\"1542\",\"type\":\"Legend\"},{\"id\":\"1534\",\"type\":\"GlyphRenderer\"},{\"id\":\"1547\",\"type\":\"GlyphRenderer\"},{\"id\":\"1552\",\"type\":\"GlyphRenderer\"},{\"id\":\"1568\",\"type\":\"GlyphRenderer\"}],\"title\":{\"id\":\"1495\",\"type\":\"Title\"},\"toolbar\":{\"id\":\"1522\",\"type\":\"Toolbar\"},\"x_range\":{\"id\":\"1498\",\"type\":\"DataRange1d\"},\"x_scale\":{\"id\":\"1502\",\"type\":\"LogScale\"},\"y_range\":{\"id\":\"1500\",\"type\":\"DataRange1d\"},\"y_scale\":{\"id\":\"1504\",\"type\":\"LogScale\"}},\"id\":\"1496\",\"subtype\":\"Figure\",\"type\":\"Plot\"},{\"attributes\":{},\"id\":\"1561\",\"type\":\"UnionRenderers\"},{\"attributes\":{},\"id\":\"1520\",\"type\":\"ResetTool\"},{\"attributes\":{},\"id\":\"1560\",\"type\":\"Selection\"},{\"attributes\":{},\"id\":\"1519\",\"type\":\"SaveTool\"},{\"attributes\":{\"callback\":null,\"data\":{\"x\":{\"__ndarray__\":\"mpmZmZmZuT8RERERERGhPx3UQR3UQY0/exSuR+F6hD9PG+i0gU5rP7GpNOTcZ1c//Knx0k1iUD8=\",\"dtype\":\"float64\",\"shape\":[7]},\"y\":[2.0843238792700447e-06,2.7200024010909374e-08,9.32289356825322e-10,2.2464119453502462e-10,2.7888802378583932e-12,9.370282327836321e-14,2.0872192862952943e-14]},\"selected\":{\"id\":\"1560\",\"type\":\"Selection\"},\"selection_policy\":{\"id\":\"1559\",\"type\":\"UnionRenderers\"}},\"id\":\"1531\",\"type\":\"ColumnDataSource\"},{\"attributes\":{\"callback\":null,\"data\":{\"x\":{\"__ndarray__\":\"mpmZmZmZuT8RERERERGhPx3UQR3UQY0/exSuR+F6hD9PG+i0gU5rP7GpNOTcZ1c//Knx0k1iUD8=\",\"dtype\":\"float64\",\"shape\":[7]},\"y\":{\"__ndarray__\":\"/anx0k1iUD8hdAvnBmsDP54VIaHidMg+ju21oPfGsD4t12XkVOJjPp8qLoIlCyk+ldYm6AsuET4=\",\"dtype\":\"float64\",\"shape\":[7]}},\"selected\":{\"id\":\"1562\",\"type\":\"Selection\"},\"selection_policy\":{\"id\":\"1561\",\"type\":\"UnionRenderers\"}},\"id\":\"1544\",\"type\":\"ColumnDataSource\"},{\"attributes\":{},\"id\":\"1559\",\"type\":\"UnionRenderers\"},{\"attributes\":{\"overlay\":{\"id\":\"1524\",\"type\":\"BoxAnnotation\"}},\"id\":\"1518\",\"type\":\"BoxZoomTool\"},{\"attributes\":{\"fill_color\":{\"value\":\"red\"},\"line_color\":{\"value\":\"red\"},\"x\":{\"field\":\"x\"},\"y\":{\"field\":\"y\"}},\"id\":\"1532\",\"type\":\"X\"},{\"attributes\":{\"source\":{\"id\":\"1549\",\"type\":\"ColumnDataSource\"}},\"id\":\"1553\",\"type\":\"CDSView\"},{\"attributes\":{},\"id\":\"1615\",\"type\":\"UnionRenderers\"},{\"attributes\":{},\"id\":\"1521\",\"type\":\"HelpTool\"},{\"attributes\":{\"callback\":null,\"data\":{\"x\":{\"__ndarray__\":\"mpmZmZmZuT8RERERERGhPx3UQR3UQY0/exSuR+F6hD9PG+i0gU5rP7GpNOTcZ1c//Knx0k1iUD8=\",\"dtype\":\"float64\",\"shape\":[7]},\"y\":{\"__ndarray__\":\"LkMc6+I2Gj/Oaj/Dbba0PjHvFus8XGY+Ooww4o55RT7pNXLov/fgPWK0hrVLUZI9EuotgZmXcT0=\",\"dtype\":\"float64\",\"shape\":[7]}},\"selected\":{\"id\":\"1616\",\"type\":\"Selection\"},\"selection_policy\":{\"id\":\"1615\",\"type\":\"UnionRenderers\"}},\"id\":\"1549\",\"type\":\"ColumnDataSource\"},{\"attributes\":{\"data_source\":{\"id\":\"1549\",\"type\":\"ColumnDataSource\"},\"glyph\":{\"id\":\"1550\",\"type\":\"Line\"},\"hover_glyph\":null,\"muted_glyph\":null,\"nonselection_glyph\":{\"id\":\"1551\",\"type\":\"Line\"},\"selection_glyph\":null,\"view\":{\"id\":\"1553\",\"type\":\"CDSView\"}},\"id\":\"1552\",\"type\":\"GlyphRenderer\"},{\"attributes\":{\"label\":{\"value\":\"Erreur pratique\"},\"renderers\":[{\"id\":\"1534\",\"type\":\"GlyphRenderer\"}]},\"id\":\"1543\",\"type\":\"LegendItem\"},{\"attributes\":{\"items\":[{\"id\":\"1543\",\"type\":\"LegendItem\"},{\"id\":\"1564\",\"type\":\"LegendItem\"}],\"location\":\"top_left\",\"plot\":{\"id\":\"1496\",\"subtype\":\"Figure\",\"type\":\"Plot\"}},\"id\":\"1542\",\"type\":\"Legend\"},{\"attributes\":{\"plot\":null,\"text\":\"Erreur commise sur Rk4\"},\"id\":\"1495\",\"type\":\"Title\"},{\"attributes\":{\"callback\":null},\"id\":\"1498\",\"type\":\"DataRange1d\"},{\"attributes\":{\"label\":{\"value\":\"ordre 4\"},\"renderers\":[{\"id\":\"1552\",\"type\":\"GlyphRenderer\"}]},\"id\":\"1564\",\"type\":\"LegendItem\"},{\"attributes\":{\"bottom_units\":\"screen\",\"fill_alpha\":{\"value\":0.5},\"fill_color\":{\"value\":\"lightgrey\"},\"left_units\":\"screen\",\"level\":\"overlay\",\"line_alpha\":{\"value\":1.0},\"line_color\":{\"value\":\"black\"},\"line_dash\":[4,4],\"line_width\":{\"value\":2},\"plot\":null,\"render_mode\":\"css\",\"right_units\":\"screen\",\"top_units\":\"screen\"},\"id\":\"1524\",\"type\":\"BoxAnnotation\"},{\"attributes\":{},\"id\":\"1562\",\"type\":\"Selection\"},{\"attributes\":{\"axis_label\":\"pas\",\"formatter\":{\"id\":\"1537\",\"type\":\"LogTickFormatter\"},\"plot\":{\"id\":\"1496\",\"subtype\":\"Figure\",\"type\":\"Plot\"},\"ticker\":{\"id\":\"1507\",\"type\":\"LogTicker\"}},\"id\":\"1506\",\"type\":\"LogAxis\"},{\"attributes\":{\"line_alpha\":0.1,\"line_color\":\"#1f77b4\",\"x\":{\"field\":\"x\"},\"y\":{\"field\":\"y\"}},\"id\":\"1567\",\"type\":\"Line\"},{\"attributes\":{\"source\":{\"id\":\"1531\",\"type\":\"ColumnDataSource\"}},\"id\":\"1535\",\"type\":\"CDSView\"},{\"attributes\":{\"num_minor_ticks\":10},\"id\":\"1507\",\"type\":\"LogTicker\"},{\"attributes\":{\"line_color\":\"#1f77b4\",\"x\":{\"field\":\"x\"},\"y\":{\"field\":\"y\"}},\"id\":\"1566\",\"type\":\"Line\"},{\"attributes\":{\"ticker\":null},\"id\":\"1539\",\"type\":\"LogTickFormatter\"},{\"attributes\":{\"num_minor_ticks\":10},\"id\":\"1512\",\"type\":\"LogTicker\"},{\"attributes\":{\"data_source\":{\"id\":\"1531\",\"type\":\"ColumnDataSource\"},\"glyph\":{\"id\":\"1532\",\"type\":\"X\"},\"hover_glyph\":null,\"muted_glyph\":null,\"nonselection_glyph\":{\"id\":\"1533\",\"type\":\"X\"},\"selection_glyph\":null,\"view\":{\"id\":\"1535\",\"type\":\"CDSView\"}},\"id\":\"1534\",\"type\":\"GlyphRenderer\"},{\"attributes\":{\"active_drag\":\"auto\",\"active_inspect\":\"auto\",\"active_multi\":null,\"active_scroll\":\"auto\",\"active_tap\":\"auto\",\"tools\":[{\"id\":\"1516\",\"type\":\"PanTool\"},{\"id\":\"1517\",\"type\":\"WheelZoomTool\"},{\"id\":\"1518\",\"type\":\"BoxZoomTool\"},{\"id\":\"1519\",\"type\":\"SaveTool\"},{\"id\":\"1520\",\"type\":\"ResetTool\"},{\"id\":\"1521\",\"type\":\"HelpTool\"}]},\"id\":\"1522\",\"type\":\"Toolbar\"},{\"attributes\":{\"plot\":{\"id\":\"1496\",\"subtype\":\"Figure\",\"type\":\"Plot\"},\"ticker\":{\"id\":\"1507\",\"type\":\"LogTicker\"}},\"id\":\"1510\",\"type\":\"Grid\"},{\"attributes\":{\"data_source\":{\"id\":\"1565\",\"type\":\"ColumnDataSource\"},\"glyph\":{\"id\":\"1566\",\"type\":\"Line\"},\"hover_glyph\":null,\"muted_glyph\":null,\"nonselection_glyph\":{\"id\":\"1567\",\"type\":\"Line\"},\"selection_glyph\":null,\"view\":{\"id\":\"1569\",\"type\":\"CDSView\"}},\"id\":\"1568\",\"type\":\"GlyphRenderer\"},{\"attributes\":{\"axis_label\":\"Erreur commise\",\"formatter\":{\"id\":\"1539\",\"type\":\"LogTickFormatter\"},\"plot\":{\"id\":\"1496\",\"subtype\":\"Figure\",\"type\":\"Plot\"},\"ticker\":{\"id\":\"1512\",\"type\":\"LogTicker\"}},\"id\":\"1511\",\"type\":\"LogAxis\"},{\"attributes\":{},\"id\":\"1617\",\"type\":\"UnionRenderers\"},{\"attributes\":{\"line_color\":\"green\",\"x\":{\"field\":\"x\"},\"y\":{\"field\":\"y\"}},\"id\":\"1550\",\"type\":\"Line\"},{\"attributes\":{\"dimension\":1,\"plot\":{\"id\":\"1496\",\"subtype\":\"Figure\",\"type\":\"Plot\"},\"ticker\":{\"id\":\"1512\",\"type\":\"LogTicker\"}},\"id\":\"1515\",\"type\":\"Grid\"},{\"attributes\":{\"source\":{\"id\":\"1565\",\"type\":\"ColumnDataSource\"}},\"id\":\"1569\",\"type\":\"CDSView\"},{\"attributes\":{\"callback\":null,\"data\":{\"x\":{\"__ndarray__\":\"mpmZmZmZuT8RERERERGhPx3UQR3UQY0/exSuR+F6hD9PG+i0gU5rP7GpNOTcZ1c//Knx0k1iUD8=\",\"dtype\":\"float64\",\"shape\":[7]},\"y\":{\"__ndarray__\":\"8mjjiLX45D7bYP+L7BdmPpt7T8iWcQQ+vL3X2d982z0lfiItVfVcPcn3ZQ/Fy/o8Flbnnq8D0jw=\",\"dtype\":\"float64\",\"shape\":[7]}},\"selected\":{\"id\":\"1618\",\"type\":\"Selection\"},\"selection_policy\":{\"id\":\"1617\",\"type\":\"UnionRenderers\"}},\"id\":\"1565\",\"type\":\"ColumnDataSource\"},{\"attributes\":{\"fill_alpha\":{\"value\":0.1},\"fill_color\":{\"value\":\"#1f77b4\"},\"line_alpha\":{\"value\":0.1},\"line_color\":{\"value\":\"#1f77b4\"},\"x\":{\"field\":\"x\"},\"y\":{\"field\":\"y\"}},\"id\":\"1533\",\"type\":\"X\"},{\"attributes\":{},\"id\":\"1516\",\"type\":\"PanTool\"},{\"attributes\":{},\"id\":\"1616\",\"type\":\"Selection\"},{\"attributes\":{\"source\":{\"id\":\"1544\",\"type\":\"ColumnDataSource\"}},\"id\":\"1548\",\"type\":\"CDSView\"},{\"attributes\":{},\"id\":\"1504\",\"type\":\"LogScale\"},{\"attributes\":{\"ticker\":null},\"id\":\"1537\",\"type\":\"LogTickFormatter\"},{\"attributes\":{\"data_source\":{\"id\":\"1544\",\"type\":\"ColumnDataSource\"},\"glyph\":{\"id\":\"1545\",\"type\":\"Line\"},\"hover_glyph\":null,\"muted_glyph\":null,\"nonselection_glyph\":{\"id\":\"1546\",\"type\":\"Line\"},\"selection_glyph\":null,\"view\":{\"id\":\"1548\",\"type\":\"CDSView\"}},\"id\":\"1547\",\"type\":\"GlyphRenderer\"},{\"attributes\":{},\"id\":\"1502\",\"type\":\"LogScale\"},{\"attributes\":{},\"id\":\"1517\",\"type\":\"WheelZoomTool\"},{\"attributes\":{\"line_alpha\":0.1,\"line_color\":\"#1f77b4\",\"x\":{\"field\":\"x\"},\"y\":{\"field\":\"y\"}},\"id\":\"1546\",\"type\":\"Line\"},{\"attributes\":{},\"id\":\"1618\",\"type\":\"Selection\"},{\"attributes\":{\"callback\":null},\"id\":\"1500\",\"type\":\"DataRange1d\"},{\"attributes\":{\"line_color\":\"#1f77b4\",\"x\":{\"field\":\"x\"},\"y\":{\"field\":\"y\"}},\"id\":\"1545\",\"type\":\"Line\"},{\"attributes\":{\"line_alpha\":0.1,\"line_color\":\"#1f77b4\",\"x\":{\"field\":\"x\"},\"y\":{\"field\":\"y\"}},\"id\":\"1551\",\"type\":\"Line\"}],\"root_ids\":[\"1496\"]},\"title\":\"Bokeh Application\",\"version\":\"1.0.4\"}};\n",
       "  var render_items = [{\"docid\":\"e7cdf112-446d-4f06-8016-7e01d1ffed47\",\"roots\":{\"1496\":\"1c640618-6ef3-4e94-9db1-252dddb13a08\"}}];\n",
       "  root.Bokeh.embed.embed_items_notebook(docs_json, render_items);\n",
       "\n",
       "  }\n",
       "  if (root.Bokeh !== undefined) {\n",
       "    embed_document(root);\n",
       "  } else {\n",
       "    var attempts = 0;\n",
       "    var timer = setInterval(function(root) {\n",
       "      if (root.Bokeh !== undefined) {\n",
       "        embed_document(root);\n",
       "        clearInterval(timer);\n",
       "      }\n",
       "      attempts++;\n",
       "      if (attempts > 100) {\n",
       "        console.log(\"Bokeh: ERROR: Unable to run BokehJS code because BokehJS library is missing\");\n",
       "        clearInterval(timer);\n",
       "      }\n",
       "    }, 10, root)\n",
       "  }\n",
       "})(window);"
      ],
      "application/vnd.bokehjs_exec.v0+json": ""
     },
     "metadata": {
      "application/vnd.bokehjs_exec.v0+json": {
       "id": "1496"
      }
     },
     "output_type": "display_data"
    }
   ],
   "source": [
    "def f(t,y):\n",
    "    return y\n",
    "\n",
    "t0=0\n",
    "y0=1\n",
    "tf=1\n",
    "nt=10\n",
    "\n",
    "# un premier affichage\n",
    "T=np.linspace(t0,tf,nt)\n",
    "Yrk=rk4(f,t0,tf,nt,y0)\n",
    "Yth=np.exp(T)\n",
    "    \n",
    "fig1 = figure(width=990, height=400, title=\"Représentation pour Rk4 avec \"+ str(nt) + \" points\")\n",
    "fig1.line(T,Yrk,color='red',legend=\"Par Rk4\")\n",
    "fig1.line(T,Yth,color=\"blue\",legend=\"Courbe théorique\")\n",
    "\n",
    "fig1.legend.location = \"top_left\"\n",
    "show(fig1)\n",
    "\n",
    "# tracer de l'erreur max en fonction de h**2\n",
    "Nt=np.array([10,30,70,100,300,700,1000]) \n",
    "Err=[]\n",
    "H=[]\n",
    "for n in Nt:\n",
    "    T=np.linspace(t0,tf,n+1)\n",
    "    Yrk=rk4(f,t0,tf,n+1,y0)  # n+1 points, n intervalles\n",
    "    Yth=np.exp(T)\n",
    "    Err_n=abs(Yrk-Yth)\n",
    "    Err.append(np.max(Err_n))# on ne prend que le max\n",
    "    H.append((tf-t0)/n)\n",
    "H=np.array(H)\n",
    "\n",
    "\n",
    "fig = figure(width=990, height=400,x_axis_type=\"log\",y_axis_type=\"log\",title=\"Erreur commise sur Rk4\")\n",
    "fig.x(H, Err,legend=\"Erreur pratique\",color=\"red\")\n",
    "fig.xaxis.axis_label = \"pas\"\n",
    "fig.yaxis.axis_label = \"Erreur commise\"\n",
    "fig.legend.location = \"top_left\"\n",
    "\n",
    "# tracé de quelques droites: ordres 1, 2, 3 et 4 représentés ici\n",
    "\n",
    "fig.line(H,H**3)\n",
    "fig.line(H,H**4,color=\"green\",legend=\"ordre 4\")\n",
    "fig.line(H,H**5)\n",
    "\n",
    "\n",
    "show(fig)"
   ]
  },
  {
   "cell_type": "markdown",
   "metadata": {},
   "source": [
    "On a de plus, comme prévue théoriquement, une convergence d'ordre 2."
   ]
  },
  {
   "cell_type": "markdown",
   "metadata": {},
   "source": [
    "## Tableau de Butcher "
   ]
  },
  {
   "cell_type": "markdown",
   "metadata": {},
   "source": [
    "**Bonus : Implémenter une méthode de Runge-Kutta générale explicite utilisant le tableau de Butcher. On implementera une fonction update_rk qui retourne $y_{n+1}$ étant données $f,t_n,y_n,h$ et les tableaux $A,B,C$ stockant respectivement les coefficients $(a_{ij})_{1 \\leq i,j \\leq p}$, $(b_j)_{j=1,...,p}$ et $(c_i)_{i=1,...,p}$ décrits dans le sujet de la PC.**"
   ]
  },
  {
   "cell_type": "code",
   "execution_count": 6,
   "metadata": {},
   "outputs": [],
   "source": [
    "def update_rk(f, t, y, h, A, B, C):\n",
    "    \"\"\"retourne l'approximation yn+1 de y au temps tn+1 = tn + h avec une méthode de Runge-Kutta \n",
    "    \n",
    "    Parameters\n",
    "    ----------\n",
    "    f : fonction f(t,y) second membre de l'EDO\n",
    "    t : temps tn\n",
    "    y : valeur de yn\n",
    "    h : pas de temps\n",
    "    A : matrice A du tableau de Butcher (incluant les zéros)\n",
    "    B : vecteur B du tableau de Butcher \n",
    "    C : vecteur C du tableau de Butcher (incluant c1 = 0)\n",
    "    \n",
    "    Returns\n",
    "    -------\n",
    "    ynp1 : valeur de yn+1\n",
    "    \"\"\"\n",
    "\n",
    "    #...\n",
    "    \n",
    "    return ynp1\n",
    "\n",
    "\n",
    "def rk(f, tini, tend, nt, yini, A, B, C):\n",
    "    \"\"\"retourne le vecteur contenant les valeurs des yn en appelant update_rk\n",
    "       \n",
    "    \n",
    "    Parameters\n",
    "    ----------\n",
    "    f : fonction f(t,y) second membre de l'EDO\n",
    "    tini : temps initial\n",
    "    tend : temps final\n",
    "    nt : dimension du vecteur de sortie\n",
    "    yini : valeur initiale y(tini)\n",
    "    A : matrice A du tableau de Butcher (incluant les zéros)\n",
    "    B : vecteur B du tableau de Butcher \n",
    "    C : vecteur C du tableau de Butcher (incluant c1 = 0)\n",
    "\n",
    "    \n",
    "    Returns\n",
    "    -------\n",
    "    y : vecteur les nt valeurs yn\n",
    "    \"\"\"\n",
    "\n",
    "    #...\n",
    "    \n",
    "    return y"
   ]
  },
  {
   "cell_type": "markdown",
   "metadata": {},
   "source": [
    "**Bonus : Tester avec les tableaux de Butcher correspondant aux méthodes rk2 et rk4 déjà implémentés. Vérifier que vous obtenez les mêmes résultats sur le cas $f(t,y)=y$.**"
   ]
  },
  {
   "cell_type": "code",
   "execution_count": null,
   "metadata": {},
   "outputs": [],
   "source": []
  },
  {
   "cell_type": "markdown",
   "metadata": {},
   "source": [
    "# Un système conservatif"
   ]
  },
  {
   "cell_type": "markdown",
   "metadata": {},
   "source": [
    "On considère l'oscillateur harmonique :\n",
    "\\begin{equation}\n",
    "\\left\\{\n",
    "\\begin{aligned}\n",
    "q'&=p\\\\\n",
    "p'&=-q.\n",
    "\\end{aligned}\n",
    "\\right.\n",
    "\\end{equation}"
   ]
  },
  {
   "cell_type": "markdown",
   "metadata": {},
   "source": [
    "Avant tout chose, on connait la solution d'un oscillateur harmonique: \n",
    "$$ q: t \\rightarrow  sin(t) $$ dans notre cas et pour nos conditions initiales $y_0= \\begin{bmatrix}\n",
    "    0 \\\\ 1\n",
    "  \\end{bmatrix} $ à $t_0=0$. "
   ]
  },
  {
   "cell_type": "markdown",
   "metadata": {},
   "source": [
    "## Schéma d'Euler explicite et implicite\n",
    "\n",
    "**Implémenter les schémas d'Euler explicite et implicite pour le système précédent.**"
   ]
  },
  {
   "cell_type": "markdown",
   "metadata": {},
   "source": [
    "Le schéma d'Euler explicite répond à: $$ y_{n+1}=y_{n}+hf(t_n,y_{n}) \\space \\space \\space avec \\space y_{n}= [q_n,p_n]^\\top \\space et \\space f\\big(t,\\begin{bmatrix}\n",
    "    q \\\\ p\n",
    "  \\end{bmatrix}\\big)= \\begin{bmatrix}\n",
    "    q' \\\\ p'\n",
    "  \\end{bmatrix} =\\begin{bmatrix}\n",
    "    p \\\\ -q\n",
    "  \\end{bmatrix}\\space ici.$$\n",
    "<br>\n",
    "Pour obtenir le schéma implicite, il faut travailler un peu plus puisqu'il répond à: $$ y_{n+1}=y_{n}+hf(t_{n+1},y_{n+1}) $$\n",
    "Il faut pouvoir isoler $y_{n+1}$ si nous voulons nous en sortir. On résout en $\\begin{bmatrix}\n",
    "    q_{n+1} \\\\ p_{n+1}\n",
    "  \\end{bmatrix}$ le système suivant:  $$\\begin{bmatrix}\n",
    "    q_{n+1} \\\\ p_{n+1}\n",
    "  \\end{bmatrix}=\\begin{bmatrix}\n",
    "    q_{n} \\\\ p_{n}\n",
    "  \\end{bmatrix}+hf(t_{n+1},\\begin{bmatrix}\n",
    "    q_{n+1} \\\\ p_{n+1}\n",
    "  \\end{bmatrix})= \\begin{bmatrix}\n",
    "    q_{n} \\\\ p_{n}\n",
    "  \\end{bmatrix}+h\\begin{bmatrix}\n",
    "    p_{n+1} \\\\ -q_{n+1} \n",
    "  \\end{bmatrix}$$ <br> qui est un système linéaire de 2 équations à 2 inconnus. \n",
    " <br><br> On fait alors l'opération suivante sur les lignes du système: $ L1 \\leftarrow L1 + h L2 $ qui permet d'avoir $q_{n+1}$ dont on injecte l'expression dans $L2$:\n",
    " $$ \\begin{bmatrix}\n",
    "    q_{n+1} \\\\p_{n+1} \n",
    "  \\end{bmatrix} = \\begin{bmatrix}\n",
    "    \\frac{1}{1+h^2} (q_n + h p_n) \n",
    "    \\\\ \\frac{1}{1+h^2} (-h q_n + (1+h^2-h^2) p_n)\n",
    "  \\end{bmatrix} = \\frac{1}{1+h^2} \\begin{bmatrix}\n",
    "    1 & h \\\\ -h & 1 \n",
    "  \\end{bmatrix}  \\begin{bmatrix}\n",
    "    q_{n} \\\\ p_{n} \n",
    "  \\end{bmatrix}\n",
    " = A \\begin{bmatrix}\n",
    "    q_{n} \\\\ p_{n} \n",
    "  \\end{bmatrix} $$"
   ]
  },
  {
   "cell_type": "code",
   "execution_count": 7,
   "metadata": {},
   "outputs": [],
   "source": [
    "def euler_explicite(f, tini, tend, nt, yini): # attention cette fois yini est de dimension 2\n",
    "    h=(tend-tini)/(nt-1)\n",
    "    t0=tini\n",
    "    \n",
    "    y=np.zeros((nt,2))\n",
    "    y[0]=yini\n",
    "    \n",
    "    for k in range(1,nt):\n",
    "        y[k]=y[k-1]+h*f(t0,y[k-1])\n",
    "        t0=t0+h\n",
    "\n",
    "    return y\n",
    "    \n",
    "def euler_implicite(A, tini, tend, nt, yini): # y réfléchir au calme\n",
    "    h=(tend-tini)/(nt-1)\n",
    "    t0=tini\n",
    "    \n",
    "    y=np.zeros((nt,2))\n",
    "    y[0]=yini\n",
    "    \n",
    "    for k in range(1,nt):\n",
    "        y[k]=np.dot(A,y[k-1]) \n",
    "        t0=t0+h\n",
    "\n",
    "    return y"
   ]
  },
  {
   "cell_type": "markdown",
   "metadata": {},
   "source": [
    "**Représenter les solutions $q_n$ et $p_n$ obtenues, ainsi que l'hamiltonien $\\mathcal{H}(q_n,p_n)$ associé. On pourra tracer $q$ et $p$ en fonction du temps, mais aussi tracer la solution dans le plan de phase $(q,p)$. Commenter les résultats obtenus.**"
   ]
  },
  {
   "cell_type": "code",
   "execution_count": 8,
   "metadata": {},
   "outputs": [
    {
     "data": {
      "text/html": [
       "\n",
       "\n",
       "\n",
       "\n",
       "\n",
       "\n",
       "  <div class=\"bk-root\" id=\"01a550ac-a697-41b7-b359-1d07ceb2afc2\" data-root-id=\"2020\"></div>\n"
      ]
     },
     "metadata": {},
     "output_type": "display_data"
    },
    {
     "data": {
      "application/javascript": [
       "(function(root) {\n",
       "  function embed_document(root) {\n",
       "    \n",
       "  var docs_json = {\"f8c9879c-35d7-440e-8854-53d680b7687a\":{\"roots\":{\"references\":[{\"attributes\":{\"children\":[{\"id\":\"1705\",\"subtype\":\"Figure\",\"type\":\"Plot\"},{\"id\":\"1784\",\"subtype\":\"Figure\",\"type\":\"Plot\"}]},\"id\":\"2020\",\"type\":\"Row\"},{\"attributes\":{\"label\":{\"value\":\"solution exacte\"},\"renderers\":[{\"id\":\"1770\",\"type\":\"GlyphRenderer\"}]},\"id\":\"1782\",\"type\":\"LegendItem\"},{\"attributes\":{\"bottom_units\":\"screen\",\"fill_alpha\":{\"value\":0.5},\"fill_color\":{\"value\":\"lightgrey\"},\"left_units\":\"screen\",\"level\":\"overlay\",\"line_alpha\":{\"value\":1.0},\"line_color\":{\"value\":\"black\"},\"line_dash\":[4,4],\"line_width\":{\"value\":2},\"plot\":null,\"render_mode\":\"css\",\"right_units\":\"screen\",\"top_units\":\"screen\"},\"id\":\"1733\",\"type\":\"BoxAnnotation\"},{\"attributes\":{\"data_source\":{\"id\":\"1819\",\"type\":\"ColumnDataSource\"},\"glyph\":{\"id\":\"1820\",\"type\":\"X\"},\"hover_glyph\":null,\"muted_glyph\":null,\"nonselection_glyph\":{\"id\":\"1821\",\"type\":\"X\"},\"selection_glyph\":null,\"view\":{\"id\":\"1823\",\"type\":\"CDSView\"}},\"id\":\"1822\",\"type\":\"GlyphRenderer\"},{\"attributes\":{},\"id\":\"1804\",\"type\":\"PanTool\"},{\"attributes\":{\"source\":{\"id\":\"1740\",\"type\":\"ColumnDataSource\"}},\"id\":\"1744\",\"type\":\"CDSView\"},{\"attributes\":{},\"id\":\"1805\",\"type\":\"WheelZoomTool\"},{\"attributes\":{},\"id\":\"1746\",\"type\":\"BasicTickFormatter\"},{\"attributes\":{\"overlay\":{\"id\":\"1812\",\"type\":\"BoxAnnotation\"}},\"id\":\"1806\",\"type\":\"BoxZoomTool\"},{\"attributes\":{},\"id\":\"1748\",\"type\":\"BasicTickFormatter\"},{\"attributes\":{},\"id\":\"1807\",\"type\":\"SaveTool\"},{\"attributes\":{\"items\":[{\"id\":\"1752\",\"type\":\"LegendItem\"},{\"id\":\"1766\",\"type\":\"LegendItem\"},{\"id\":\"1782\",\"type\":\"LegendItem\"}],\"location\":\"bottom_left\",\"plot\":{\"id\":\"1705\",\"subtype\":\"Figure\",\"type\":\"Plot\"}},\"id\":\"1751\",\"type\":\"Legend\"},{\"attributes\":{},\"id\":\"1808\",\"type\":\"ResetTool\"},{\"attributes\":{\"label\":{\"value\":\"Euler Explicite\"},\"renderers\":[{\"id\":\"1743\",\"type\":\"GlyphRenderer\"}]},\"id\":\"1752\",\"type\":\"LegendItem\"},{\"attributes\":{},\"id\":\"1809\",\"type\":\"HelpTool\"},{\"attributes\":{\"active_drag\":\"auto\",\"active_inspect\":\"auto\",\"active_multi\":null,\"active_scroll\":\"auto\",\"active_tap\":\"auto\",\"tools\":[{\"id\":\"1804\",\"type\":\"PanTool\"},{\"id\":\"1805\",\"type\":\"WheelZoomTool\"},{\"id\":\"1806\",\"type\":\"BoxZoomTool\"},{\"id\":\"1807\",\"type\":\"SaveTool\"},{\"id\":\"1808\",\"type\":\"ResetTool\"},{\"id\":\"1809\",\"type\":\"HelpTool\"}]},\"id\":\"1810\",\"type\":\"Toolbar\"},{\"attributes\":{\"callback\":null,\"data\":{\"x\":{\"__ndarray__\":\"AAAAAAAAAAAxb2dIzNu5PzFvZ0jM28k/ZZNNNtlk0z8xb2dIzNvZP3+lQK1fKeA/ZZNNNtlk4z9LgVq/UqDmPzFvZ0jM2+k/F1100UUX7T9/pUCtXynwP3Icx3Ecx/E/ZZNNNtlk8z9YCtT6lQL1P0uBWr9SoPY/Pvjggw8++D8xb2dIzNv5PyTm7QyJefs/F1100UUX/T8K1PqVArX+P3+lQK1fKQBA+OCDDz74AEByHMdxHMcBQOtXCtT6lQJAZZNNNtlkA0DezpCYtzMEQFgK1PqVAgVA0UUXXXTRBUBLgVq/UqAGQMS8nSExbwdAPvjggw8+CEC3MyTm7QwJQDFvZ0jM2wlAq6qqqqqqCkAk5u0MiXkLQJ4hMW9nSAxAF1100UUXDUCRmLczJOYNQArU+pUCtQ5AhA8++OCDD0B/pUCtXykQQDtDYt7OkBBA+OCDDz74EEC1fqVArV8RQHIcx3EcxxFALrrooosuEkDrVwrU+pUSQKj1KwVq/RJAZZNNNtlkE0AiMW9nSMwTQN7OkJi3MxRAm2yyySabFEBYCtT6lQIVQBWo9SsFahVA0UUXXXTRFUCO4ziO4zgWQEuBWr9SoBZACB988MEHF0DEvJ0hMW8XQIFav1Kg1hdAPvjggw8+GED7lQK1fqUYQLczJObtDBlAdNFFF110GUAxb2dIzNsZQO4MiXk7QxpAq6qqqqqqGkBnSMzbGRIbQCTm7QyJeRtA4YMPPvjgG0CeITFvZ0gcQFq/UqDWrxxAF1100UUXHUDU+pUCtX4dQJGYtzMk5h1ATTbZZJNNHkAK1PqVArUeQMdxHMdxHB9AhA8++OCDH0BArV8pUOsfQH+lQK1fKSBAXXTRRRddIEA7Q2LezpAgQBoS83aGxCBA+OCDDz74IEDXrxSo9SshQLV+pUCtXyFAk0022WSTIUByHMdxHMchQFDrVwrU+iFALrrooosuIkANiXk7Q2IiQOtXCtT6lSJAyiabbLLJIkCo9SsFav0iQIbEvJ0hMSNAZZNNNtlkI0BDYt7OkJgjQCIxb2dIzCNAAAAAAAAAJEA=\",\"dtype\":\"float64\",\"shape\":[100]},\"y\":{\"__ndarray__\":\"AAAAAAAAAABWWTD1i9C5P1FTX5rcrsk/gsOxNjYZ0z9VYwJ3JinZPxcA895s994/joZ7TnE64j/qrfXjmcnkP2ssuWGCIuc/Iswnjgo/6T+RI+TArxnrP1BTS0Sbrew/3oUw9q727T8Xi+UGkPHuP/kGhbqvm+8/OPqkFVLz7z8TWwZkkvfvP5TacY1lqO8/kSusMpoG7z8wOzaS1hPuPz2qWDqU0uw/jV22kxlG6z8pMUFVcXLpP4gS3/dfXOc/1MdGRVcJ5T/m1IwiaH/iP8q16nZlit8/8e22b6rD2T9j8JxQsrnTPwFWfWl/+Mo/+7miP25uvD8ew57TVQ2FP7c2U+b2Mbe/NJcb8IdkyL+cMtDaNXjSv4gGHUH0jdi/BM5I1Z1j3r8dASM//PThv5J0Xo5MieS/fMX9lQTo5r9AD0Xy9Arpv5gfWUKK7Oq/hEBctduH7L9UjGrat9jtv9nTBZKv2+6/Gw5iBB+O778QwS6FNO7vv7NU4lL1+u+/vLAjJUC0778fSaaDzRrvv6PqleQtMO6/ehV7l8X27L+nYD+HxnHrv2I/nOMnpem/D922x5uV57/CVOv4gkjlv1aewt3ew+K/ZCe00UEO4L8DKjT9e13av93iNNGlWdS/wgS4cmdBzL8fFrKmiwu/v2He8+4MDZW/u4zZNsGStD+7ZD9aihnHP7P36Je11tE/W/DDABjy1z9jyIBZ/M7dP8e6gdUKr+E/qWzMAXFI5D//7Lop6KzmP7yvSOox1ug/Al+5UKq+6j+T7POSVmHsP14AZw7yue0/UWGMa/nE7j/0lfnIs3/vP+x2ENY56O8/b1zFynr97z+a4IMvP7/vP+dX8G0pLu8/1DgMKbRL7j8lnQ9hLhrtP1CyCm21nOs/N08I2izX6T+2POhENM7nPxy7bUkbh+U/z6j/pdMH4z+wXUa44VbgP6UpR/aW9to/VbjOZAz51D8WLl/Qi4nNP2bQXAjp08A//1m7LN2Snz/o7+kO/fKxv37G6czszcW/VIdizLk00b98w03tlVXXvzzw4HCMOd2/Uk/z9Z5o4b8=\",\"dtype\":\"float64\",\"shape\":[100]}},\"selected\":{\"id\":\"2086\",\"type\":\"Selection\"},\"selection_policy\":{\"id\":\"2085\",\"type\":\"UnionRenderers\"}},\"id\":\"1767\",\"type\":\"ColumnDataSource\"},{\"attributes\":{\"fill_color\":{\"value\":\"blue\"},\"line_color\":{\"value\":\"blue\"},\"x\":{\"field\":\"x\"},\"y\":{\"field\":\"y\"}},\"id\":\"1754\",\"type\":\"X\"},{\"attributes\":{\"bottom_units\":\"screen\",\"fill_alpha\":{\"value\":0.5},\"fill_color\":{\"value\":\"lightgrey\"},\"left_units\":\"screen\",\"level\":\"overlay\",\"line_alpha\":{\"value\":1.0},\"line_color\":{\"value\":\"black\"},\"line_dash\":[4,4],\"line_width\":{\"value\":2},\"plot\":null,\"render_mode\":\"css\",\"right_units\":\"screen\",\"top_units\":\"screen\"},\"id\":\"1812\",\"type\":\"BoxAnnotation\"},{\"attributes\":{\"fill_alpha\":{\"value\":0.1},\"fill_color\":{\"value\":\"#1f77b4\"},\"line_alpha\":{\"value\":0.1},\"line_color\":{\"value\":\"#1f77b4\"},\"x\":{\"field\":\"x\"},\"y\":{\"field\":\"y\"}},\"id\":\"1755\",\"type\":\"X\"},{\"attributes\":{\"data_source\":{\"id\":\"1753\",\"type\":\"ColumnDataSource\"},\"glyph\":{\"id\":\"1754\",\"type\":\"X\"},\"hover_glyph\":null,\"muted_glyph\":null,\"nonselection_glyph\":{\"id\":\"1755\",\"type\":\"X\"},\"selection_glyph\":null,\"view\":{\"id\":\"1757\",\"type\":\"CDSView\"}},\"id\":\"1756\",\"type\":\"GlyphRenderer\"},{\"attributes\":{\"source\":{\"id\":\"1819\",\"type\":\"ColumnDataSource\"}},\"id\":\"1823\",\"type\":\"CDSView\"},{\"attributes\":{\"source\":{\"id\":\"1753\",\"type\":\"ColumnDataSource\"}},\"id\":\"1757\",\"type\":\"CDSView\"},{\"attributes\":{},\"id\":\"1825\",\"type\":\"BasicTickFormatter\"},{\"attributes\":{},\"id\":\"1827\",\"type\":\"BasicTickFormatter\"},{\"attributes\":{},\"id\":\"1763\",\"type\":\"UnionRenderers\"},{\"attributes\":{\"fill_alpha\":{\"value\":0.1},\"fill_color\":{\"value\":\"#1f77b4\"},\"line_alpha\":{\"value\":0.1},\"line_color\":{\"value\":\"#1f77b4\"},\"x\":{\"field\":\"x\"},\"y\":{\"field\":\"y\"}},\"id\":\"1742\",\"type\":\"X\"},{\"attributes\":{\"below\":[{\"id\":\"1715\",\"type\":\"LinearAxis\"}],\"left\":[{\"id\":\"1720\",\"type\":\"LinearAxis\"}],\"plot_height\":300,\"plot_width\":500,\"renderers\":[{\"id\":\"1715\",\"type\":\"LinearAxis\"},{\"id\":\"1719\",\"type\":\"Grid\"},{\"id\":\"1720\",\"type\":\"LinearAxis\"},{\"id\":\"1724\",\"type\":\"Grid\"},{\"id\":\"1733\",\"type\":\"BoxAnnotation\"},{\"id\":\"1751\",\"type\":\"Legend\"},{\"id\":\"1743\",\"type\":\"GlyphRenderer\"},{\"id\":\"1756\",\"type\":\"GlyphRenderer\"},{\"id\":\"1770\",\"type\":\"GlyphRenderer\"}],\"title\":{\"id\":\"1704\",\"type\":\"Title\"},\"toolbar\":{\"id\":\"1731\",\"type\":\"Toolbar\"},\"x_range\":{\"id\":\"1707\",\"type\":\"DataRange1d\"},\"x_scale\":{\"id\":\"1711\",\"type\":\"LinearScale\"},\"y_range\":{\"id\":\"1709\",\"type\":\"DataRange1d\"},\"y_scale\":{\"id\":\"1713\",\"type\":\"LinearScale\"}},\"id\":\"1705\",\"subtype\":\"Figure\",\"type\":\"Plot\"},{\"attributes\":{\"items\":[{\"id\":\"1831\",\"type\":\"LegendItem\"},{\"id\":\"1845\",\"type\":\"LegendItem\"},{\"id\":\"1861\",\"type\":\"LegendItem\"}],\"location\":\"bottom_left\",\"plot\":{\"id\":\"1784\",\"subtype\":\"Figure\",\"type\":\"Plot\"}},\"id\":\"1830\",\"type\":\"Legend\"},{\"attributes\":{},\"id\":\"1764\",\"type\":\"Selection\"},{\"attributes\":{\"label\":{\"value\":\"Euler Implicite\"},\"renderers\":[{\"id\":\"1756\",\"type\":\"GlyphRenderer\"}]},\"id\":\"1766\",\"type\":\"LegendItem\"},{\"attributes\":{\"label\":{\"value\":\"Euler Explicite\"},\"renderers\":[{\"id\":\"1822\",\"type\":\"GlyphRenderer\"}]},\"id\":\"1831\",\"type\":\"LegendItem\"},{\"attributes\":{\"plot\":null,\"text\":\"Position par Euler explicite : 100 points\"},\"id\":\"1704\",\"type\":\"Title\"},{\"attributes\":{\"callback\":null,\"data\":{\"x\":{\"__ndarray__\":\"AAAAAAAAAAAxb2dIzNu5PzFvZ0jM28k/ZZNNNtlk0z8xb2dIzNvZP3+lQK1fKeA/ZZNNNtlk4z9LgVq/UqDmPzFvZ0jM2+k/F1100UUX7T9/pUCtXynwP3Icx3Ecx/E/ZZNNNtlk8z9YCtT6lQL1P0uBWr9SoPY/Pvjggw8++D8xb2dIzNv5PyTm7QyJefs/F1100UUX/T8K1PqVArX+P3+lQK1fKQBA+OCDDz74AEByHMdxHMcBQOtXCtT6lQJAZZNNNtlkA0DezpCYtzMEQFgK1PqVAgVA0UUXXXTRBUBLgVq/UqAGQMS8nSExbwdAPvjggw8+CEC3MyTm7QwJQDFvZ0jM2wlAq6qqqqqqCkAk5u0MiXkLQJ4hMW9nSAxAF1100UUXDUCRmLczJOYNQArU+pUCtQ5AhA8++OCDD0B/pUCtXykQQDtDYt7OkBBA+OCDDz74EEC1fqVArV8RQHIcx3EcxxFALrrooosuEkDrVwrU+pUSQKj1KwVq/RJAZZNNNtlkE0AiMW9nSMwTQN7OkJi3MxRAm2yyySabFEBYCtT6lQIVQBWo9SsFahVA0UUXXXTRFUCO4ziO4zgWQEuBWr9SoBZACB988MEHF0DEvJ0hMW8XQIFav1Kg1hdAPvjggw8+GED7lQK1fqUYQLczJObtDBlAdNFFF110GUAxb2dIzNsZQO4MiXk7QxpAq6qqqqqqGkBnSMzbGRIbQCTm7QyJeRtA4YMPPvjgG0CeITFvZ0gcQFq/UqDWrxxAF1100UUXHUDU+pUCtX4dQJGYtzMk5h1ATTbZZJNNHkAK1PqVArUeQMdxHMdxHB9AhA8++OCDH0BArV8pUOsfQH+lQK1fKSBAXXTRRRddIEA7Q2LezpAgQBoS83aGxCBA+OCDDz74IEDXrxSo9SshQLV+pUCtXyFAk0022WSTIUByHMdxHMchQFDrVwrU+iFALrrooosuIkANiXk7Q2IiQOtXCtT6lSJAyiabbLLJIkCo9SsFav0iQIbEvJ0hMSNAZZNNNtlkI0BDYt7OkJgjQCIxb2dIzCNAAAAAAAAAJEA=\",\"dtype\":\"float64\",\"shape\":[100]},\"y\":{\"__ndarray__\":\"AAAAAAAAAAAxb2dIzNu5PzFvZ0jM28k/XhUUhfZT0z8Yd4GDQZjZP2+6CYkQqt8/NrpkmoK84j8JBICBonrlP2iZHgfSB+g/H9gQPOdc6j/mMQMFOHPsP1GMsNCsRO4/Rp0yANLL7z8BMEjo84HwP4RrCUx49PA/NAjolt478T/Rch2r+1bxPxaCKAoVRfE/a4IW4uMF8T+ImaH0lpnwP6/OK1DTAPA/I788q2d57j8eb5QSj53sP9oPEWAdcuo/Uy0Deu375z+KXkcvqkDlP7ry2IjBRuI/8IGu+Ksq3j8vZjpBW2jXPx4rKhY/V9A/NYmaBv4Rwj+4aIU9BgGZP9jgPureAbi/XgK6nCkqy78e7b+pBBrVv5wjgHV6e9y/jJVrJunS4b+dGJJ64kLlv/vzVZVNhOi/PFOn/S+O679iLJvUCFjuv+V+fST0bPC/hKSa5kKG8b8+zzZpqnTyv0xWVOdLNfO/CDL3q7jF878btFiR+SP0v+nLZluVTvS/Pe352ZVE9L8ZOSnCiwX0vyY4VDGRkfO/eX7Uz0rp8r++nseM5w3yv4Ij+u8eAfG/PnJLBVyK77+Hy8umpbnsv3sd7DqNlum/NOvePW0o5r+MWZlad3fiv2QAoWtCGd2/MJvSDR7j1L8KdxjE8MHIv3RZk0EhQq2/XiAdZxXDtD8gzCy7uCbMP5rD26hk6NY/55WbDamY3z9SWqbjiwbkP/4Uiox/F+g/0ADBxyT06z+eBr2j3JHvPzg7OWdIc/E/oTSVqWf08j9U7rx58kf0Px3dc+n6afU/Xgs4GApX9j9QKbp2Kgz3PyNyXtPwhvc/koH3FITF9z/AcRiMo8b3Pw/bzcarifc/0E091pkO9z99l4/5DFb2PyL5maVGYfU/GDfr5Cgy9D94fygQM8vyP2Ga+OJ8L/E/iAId7F/F7j82HVhW/9HqP9hWTTg/juY/kQsPRHEE4j8KARA1cn/aPxxJ3K7il9A/NFXxxnOsuT8kjJNvAWivvxGWdSjCq8y/f6E/8IC02L/Iq46T13bhv+JKPvMqc+a/CrjClOBB678=\",\"dtype\":\"float64\",\"shape\":[100]}},\"selected\":{\"id\":\"1764\",\"type\":\"Selection\"},\"selection_policy\":{\"id\":\"1763\",\"type\":\"UnionRenderers\"}},\"id\":\"1740\",\"type\":\"ColumnDataSource\"},{\"attributes\":{\"fill_alpha\":{\"value\":0.1},\"fill_color\":{\"value\":\"#1f77b4\"},\"line_alpha\":{\"value\":0.1},\"line_color\":{\"value\":\"#1f77b4\"},\"x\":{\"field\":\"x\"},\"y\":{\"field\":\"y\"}},\"id\":\"1821\",\"type\":\"X\"},{\"attributes\":{\"callback\":null,\"data\":{\"x\":{\"__ndarray__\":\"AAAAAAAAAAAxb2dIzNu5PzFvZ0jM28k/ZZNNNtlk0z8xb2dIzNvZP3+lQK1fKeA/ZZNNNtlk4z9LgVq/UqDmPzFvZ0jM2+k/F1100UUX7T9/pUCtXynwP3Icx3Ecx/E/ZZNNNtlk8z9YCtT6lQL1P0uBWr9SoPY/Pvjggw8++D8xb2dIzNv5PyTm7QyJefs/F1100UUX/T8K1PqVArX+P3+lQK1fKQBA+OCDDz74AEByHMdxHMcBQOtXCtT6lQJAZZNNNtlkA0DezpCYtzMEQFgK1PqVAgVA0UUXXXTRBUBLgVq/UqAGQMS8nSExbwdAPvjggw8+CEC3MyTm7QwJQDFvZ0jM2wlAq6qqqqqqCkAk5u0MiXkLQJ4hMW9nSAxAF1100UUXDUCRmLczJOYNQArU+pUCtQ5AhA8++OCDD0B/pUCtXykQQDtDYt7OkBBA+OCDDz74EEC1fqVArV8RQHIcx3EcxxFALrrooosuEkDrVwrU+pUSQKj1KwVq/RJAZZNNNtlkE0AiMW9nSMwTQN7OkJi3MxRAm2yyySabFEBYCtT6lQIVQBWo9SsFahVA0UUXXXTRFUCO4ziO4zgWQEuBWr9SoBZACB988MEHF0DEvJ0hMW8XQIFav1Kg1hdAPvjggw8+GED7lQK1fqUYQLczJObtDBlAdNFFF110GUAxb2dIzNsZQO4MiXk7QxpAq6qqqqqqGkBnSMzbGRIbQCTm7QyJeRtA4YMPPvjgG0CeITFvZ0gcQFq/UqDWrxxAF1100UUXHUDU+pUCtX4dQJGYtzMk5h1ATTbZZJNNHkAK1PqVArUeQMdxHMdxHB9AhA8++OCDH0BArV8pUOsfQH+lQK1fKSBAXXTRRRddIEA7Q2LezpAgQBoS83aGxCBA+OCDDz74IEDXrxSo9SshQLV+pUCtXyFAk0022WSTIUByHMdxHMchQFDrVwrU+iFALrrooosuIkANiXk7Q2IiQOtXCtT6lSJAyiabbLLJIkCo9SsFav0iQIbEvJ0hMSNAZZNNNtlkI0BDYt7OkJgjQCIxb2dIzCNAAAAAAAAAJEA=\",\"dtype\":\"float64\",\"shape\":[100]},\"y\":{\"__ndarray__\":\"AAAAAAAA8D9stRluPtbvP/RmmLFmWe8/yNmrmb6K7j90bjl5YWztPzbnWqc6Aew/j8z94P1M6j92c4WfHVToPyaJpn2/G+Y/HRvGyK6p4z/FGOphTQThPwuuYysGZdw/P1edLVd31j+/pAmUBk/QP2iwSFdM+MM/7bevprZ5rD9YkKJzFDinv17aVrxRq8K/yDeLfeVXz79b+k5oVtnVvxmrjs+0zdu/rIhO3MG84L/ZPI8i+2bjv2WKJcqR3uW/xHL7hxUd6L/miO4Dqxzqv7oIvSEb2Ou/+5JWneBK7b8KVQvXM3Huvxmpz7AUSO+/xNrVYlLN77/eiQ4zkf/vvwtJpABO3u+/bCgymt9p77+JFDjbdaPuv/xDHJMWje2/BTrPPZgp7L+SFtmbmnzqvyQrJD19iui/WpkzF1RY5r+HI49E2uvjv6b++Q9jS+G/urT55JL73L+St69evBTXvzfBGnmp8dC/pYFip7xExb+nyBvUSd2wv99gn3XR9aE/DwVx2NVdwT+otT/F5BDOP6zH8VS+OtU/GTxc6aI12z+D75puwnTgP50A1B/BI+M/I3FapMyg5T+KsJ5zZuXnPyn1T1Oj6+k/rRO9yTqu6z/bvXbnlCjtPwarN0TWVu4/Lo/JD+o17z+6zqEcisPvP7BzOc9E/u8/9UWj4oDl7z82sIr4fnnvPyeNh/BYu+4/+g5/CP+s7T9bjJHNMlHsP3YFyep/q+o/e8ZN6DLA6D92IkfzTZTmPxjSr8t7LeQ/a6g6+gCS4T/04MDpVpHdP3FYjrmBsdc/PNe1B9eT0T9M9n2umZDGP/wzgItDfbM/Ct4dLyRmmb9yg/qw4Q/AvyRGstcTycy/ubDKPZOb1L/MSuOV1Jzav76WZQtRLOC/VVMgkgLg4r8R1we4cWLlv2gZDOQRree/jfWqIui56b9ryVnBmoPrv1i8GUV/Be2/IOTFl6Y77r/r3VNM5yLvvxPBO9/luO+/YY1+3Rr8778NpTzi1uvvv/o5cmBEiO+/UxkvNGfS7r8I82r8Gcztv4T5X0QJeOy/H2sMiazZ6r8=\",\"dtype\":\"float64\",\"shape\":[100]}},\"selected\":{\"id\":\"2093\",\"type\":\"Selection\"},\"selection_policy\":{\"id\":\"2092\",\"type\":\"UnionRenderers\"}},\"id\":\"1846\",\"type\":\"ColumnDataSource\"},{\"attributes\":{},\"id\":\"2085\",\"type\":\"UnionRenderers\"},{\"attributes\":{\"below\":[{\"id\":\"1794\",\"type\":\"LinearAxis\"}],\"left\":[{\"id\":\"1799\",\"type\":\"LinearAxis\"}],\"plot_height\":300,\"plot_width\":500,\"renderers\":[{\"id\":\"1794\",\"type\":\"LinearAxis\"},{\"id\":\"1798\",\"type\":\"Grid\"},{\"id\":\"1799\",\"type\":\"LinearAxis\"},{\"id\":\"1803\",\"type\":\"Grid\"},{\"id\":\"1812\",\"type\":\"BoxAnnotation\"},{\"id\":\"1830\",\"type\":\"Legend\"},{\"id\":\"1822\",\"type\":\"GlyphRenderer\"},{\"id\":\"1835\",\"type\":\"GlyphRenderer\"},{\"id\":\"1849\",\"type\":\"GlyphRenderer\"}],\"title\":{\"id\":\"1783\",\"type\":\"Title\"},\"toolbar\":{\"id\":\"1810\",\"type\":\"Toolbar\"},\"x_range\":{\"id\":\"1786\",\"type\":\"DataRange1d\"},\"x_scale\":{\"id\":\"1790\",\"type\":\"LinearScale\"},\"y_range\":{\"id\":\"1788\",\"type\":\"DataRange1d\"},\"y_scale\":{\"id\":\"1792\",\"type\":\"LinearScale\"}},\"id\":\"1784\",\"subtype\":\"Figure\",\"type\":\"Plot\"},{\"attributes\":{\"fill_color\":{\"value\":\"blue\"},\"line_color\":{\"value\":\"blue\"},\"x\":{\"field\":\"x\"},\"y\":{\"field\":\"y\"}},\"id\":\"1833\",\"type\":\"X\"},{\"attributes\":{},\"id\":\"2086\",\"type\":\"Selection\"},{\"attributes\":{\"callback\":null},\"id\":\"1707\",\"type\":\"DataRange1d\"},{\"attributes\":{\"fill_color\":{\"value\":\"green\"},\"line_color\":{\"value\":\"green\"},\"x\":{\"field\":\"x\"},\"y\":{\"field\":\"y\"}},\"id\":\"1768\",\"type\":\"X\"},{\"attributes\":{\"fill_alpha\":{\"value\":0.1},\"fill_color\":{\"value\":\"#1f77b4\"},\"line_alpha\":{\"value\":0.1},\"line_color\":{\"value\":\"#1f77b4\"},\"x\":{\"field\":\"x\"},\"y\":{\"field\":\"y\"}},\"id\":\"1834\",\"type\":\"X\"},{\"attributes\":{},\"id\":\"2092\",\"type\":\"UnionRenderers\"},{\"attributes\":{\"fill_alpha\":{\"value\":0.1},\"fill_color\":{\"value\":\"#1f77b4\"},\"line_alpha\":{\"value\":0.1},\"line_color\":{\"value\":\"#1f77b4\"},\"x\":{\"field\":\"x\"},\"y\":{\"field\":\"y\"}},\"id\":\"1769\",\"type\":\"X\"},{\"attributes\":{\"callback\":null},\"id\":\"1709\",\"type\":\"DataRange1d\"},{\"attributes\":{\"data_source\":{\"id\":\"1832\",\"type\":\"ColumnDataSource\"},\"glyph\":{\"id\":\"1833\",\"type\":\"X\"},\"hover_glyph\":null,\"muted_glyph\":null,\"nonselection_glyph\":{\"id\":\"1834\",\"type\":\"X\"},\"selection_glyph\":null,\"view\":{\"id\":\"1836\",\"type\":\"CDSView\"}},\"id\":\"1835\",\"type\":\"GlyphRenderer\"},{\"attributes\":{},\"id\":\"2093\",\"type\":\"Selection\"},{\"attributes\":{},\"id\":\"1711\",\"type\":\"LinearScale\"},{\"attributes\":{\"data_source\":{\"id\":\"1767\",\"type\":\"ColumnDataSource\"},\"glyph\":{\"id\":\"1768\",\"type\":\"X\"},\"hover_glyph\":null,\"muted_glyph\":null,\"nonselection_glyph\":{\"id\":\"1769\",\"type\":\"X\"},\"selection_glyph\":null,\"view\":{\"id\":\"1771\",\"type\":\"CDSView\"}},\"id\":\"1770\",\"type\":\"GlyphRenderer\"},{\"attributes\":{\"source\":{\"id\":\"1832\",\"type\":\"ColumnDataSource\"}},\"id\":\"1836\",\"type\":\"CDSView\"},{\"attributes\":{},\"id\":\"1713\",\"type\":\"LinearScale\"},{\"attributes\":{\"source\":{\"id\":\"1767\",\"type\":\"ColumnDataSource\"}},\"id\":\"1771\",\"type\":\"CDSView\"},{\"attributes\":{},\"id\":\"1842\",\"type\":\"UnionRenderers\"},{\"attributes\":{\"axis_label\":\"temps\",\"formatter\":{\"id\":\"1746\",\"type\":\"BasicTickFormatter\"},\"plot\":{\"id\":\"1705\",\"subtype\":\"Figure\",\"type\":\"Plot\"},\"ticker\":{\"id\":\"1716\",\"type\":\"BasicTicker\"}},\"id\":\"1715\",\"type\":\"LinearAxis\"},{\"attributes\":{},\"id\":\"1779\",\"type\":\"UnionRenderers\"},{\"attributes\":{},\"id\":\"1843\",\"type\":\"Selection\"},{\"attributes\":{},\"id\":\"1716\",\"type\":\"BasicTicker\"},{\"attributes\":{},\"id\":\"1780\",\"type\":\"Selection\"},{\"attributes\":{\"label\":{\"value\":\"Euler Implicite\"},\"renderers\":[{\"id\":\"1835\",\"type\":\"GlyphRenderer\"}]},\"id\":\"1845\",\"type\":\"LegendItem\"},{\"attributes\":{\"plot\":{\"id\":\"1705\",\"subtype\":\"Figure\",\"type\":\"Plot\"},\"ticker\":{\"id\":\"1716\",\"type\":\"BasicTicker\"}},\"id\":\"1719\",\"type\":\"Grid\"},{\"attributes\":{\"callback\":null,\"data\":{\"x\":{\"__ndarray__\":\"AAAAAAAAAAAxb2dIzNu5PzFvZ0jM28k/ZZNNNtlk0z8xb2dIzNvZP3+lQK1fKeA/ZZNNNtlk4z9LgVq/UqDmPzFvZ0jM2+k/F1100UUX7T9/pUCtXynwP3Icx3Ecx/E/ZZNNNtlk8z9YCtT6lQL1P0uBWr9SoPY/Pvjggw8++D8xb2dIzNv5PyTm7QyJefs/F1100UUX/T8K1PqVArX+P3+lQK1fKQBA+OCDDz74AEByHMdxHMcBQOtXCtT6lQJAZZNNNtlkA0DezpCYtzMEQFgK1PqVAgVA0UUXXXTRBUBLgVq/UqAGQMS8nSExbwdAPvjggw8+CEC3MyTm7QwJQDFvZ0jM2wlAq6qqqqqqCkAk5u0MiXkLQJ4hMW9nSAxAF1100UUXDUCRmLczJOYNQArU+pUCtQ5AhA8++OCDD0B/pUCtXykQQDtDYt7OkBBA+OCDDz74EEC1fqVArV8RQHIcx3EcxxFALrrooosuEkDrVwrU+pUSQKj1KwVq/RJAZZNNNtlkE0AiMW9nSMwTQN7OkJi3MxRAm2yyySabFEBYCtT6lQIVQBWo9SsFahVA0UUXXXTRFUCO4ziO4zgWQEuBWr9SoBZACB988MEHF0DEvJ0hMW8XQIFav1Kg1hdAPvjggw8+GED7lQK1fqUYQLczJObtDBlAdNFFF110GUAxb2dIzNsZQO4MiXk7QxpAq6qqqqqqGkBnSMzbGRIbQCTm7QyJeRtA4YMPPvjgG0CeITFvZ0gcQFq/UqDWrxxAF1100UUXHUDU+pUCtX4dQJGYtzMk5h1ATTbZZJNNHkAK1PqVArUeQMdxHMdxHB9AhA8++OCDH0BArV8pUOsfQH+lQK1fKSBAXXTRRRddIEA7Q2LezpAgQBoS83aGxCBA+OCDDz74IEDXrxSo9SshQLV+pUCtXyFAk0022WSTIUByHMdxHMchQFDrVwrU+iFALrrooosuIkANiXk7Q2IiQOtXCtT6lSJAyiabbLLJIkCo9SsFav0iQIbEvJ0hMSNAZZNNNtlkI0BDYt7OkJgjQCIxb2dIzCNAAAAAAAAAJEA=\",\"dtype\":\"float64\",\"shape\":[100]},\"y\":{\"__ndarray__\":\"AAAAAAAA8D8AAAAAAADwP/ucVqxqrO8/8dYDBUAF7z+HgGJbWgvuPwo/KFJuwOw/QsEnowgn6z8oLdWqiULpP645Xr8eF+c/Mt/4Xrmp5D/zy81GBADiP8JPDxOtQN4/7UINhEkj2D+KAeQH4bbRP05GRcPYFsY/RpFz58rGsD+8tLbIACemv8Pl98vOjMO/izmvIbPA0L+XLdKjdqHXvyYwRyh4Vt6/mX61TeBm4r/t+3qa5Xrlv6BCVjLaXui//EtDyrMK67/txN6i5XbtvwCTnYh1nO+/GCsMxoe68L/KK8gdjH3xv7ntFZXeFPK/Ms2nyoF+8r8fvnR+6rjyvzWuNcQEw/K/8AfICzic8r95IOLxaUTyv1X/kM7/u/G/xwgl+t4D8b8QsXzEax3wvzpi8jsOFe6/K0yh6RWb678YmbSZitLov4KCpzbkweW/lOfg5mdw4r/jsPdOLszdv3r9/Z05V9a/jgqRkOAozb+g7VHSMV26v8i2QLrGvpg/6IfE97iAwz/RWFlnwvDRPwLsweGvB9o/fef+leD34D84uxeH6snkPz8HIVuib+g/sSVWdA3f6z/cB8D4pA7vP+C4Z/G3+vA//pDL8Y1F8j9JmkhpCmTzP61t+DTNUvQ/LpMkCeoO9T89fWFC8ZX1P+fOFoj35fU/LWptKZz99T9RFLIgDtz1P0v1jawPgfU/sMX8cfjs9D+fdZodtiD0P4RCtn7LHfM/iemFGk7m8T9+6c454nzwP7Owtu5qye0/DJASs+9C6j/FRFkKp27mPwzHkjfGVeI/FNVTa5sE3D9q3ZxU4v3SP9csJxj1W8M/gPj5WNA7Zj9rOOBvp9zCv9M/XDaTCdO/NGdFiTCM3L9xP/8Xiu7iv2Rot4Czcee/AWcP22nD67/0txrl49fvvzqSDcPs0fG/itXBS1GO87+G704uKhz1vwVbNKzudva/rnZcmo+a978INPM4g4P4vwcVr83PLvm/R1+d4RSa+b+N3b8Gk8P5v//FWA0yqvm/au+XlIVN+b9ZIHLmz634vyDptRIDzPe/U3vmQcCp9r8=\",\"dtype\":\"float64\",\"shape\":[100]}},\"selected\":{\"id\":\"1843\",\"type\":\"Selection\"},\"selection_policy\":{\"id\":\"1842\",\"type\":\"UnionRenderers\"}},\"id\":\"1819\",\"type\":\"ColumnDataSource\"},{\"attributes\":{\"plot\":null,\"text\":\"Vitesse par Euler explicite : 100 points\"},\"id\":\"1783\",\"type\":\"Title\"},{\"attributes\":{\"axis_label\":\"position\",\"formatter\":{\"id\":\"1748\",\"type\":\"BasicTickFormatter\"},\"plot\":{\"id\":\"1705\",\"subtype\":\"Figure\",\"type\":\"Plot\"},\"ticker\":{\"id\":\"1721\",\"type\":\"BasicTicker\"}},\"id\":\"1720\",\"type\":\"LinearAxis\"},{\"attributes\":{\"callback\":null},\"id\":\"1786\",\"type\":\"DataRange1d\"},{\"attributes\":{},\"id\":\"1721\",\"type\":\"BasicTicker\"},{\"attributes\":{\"fill_color\":{\"value\":\"green\"},\"line_color\":{\"value\":\"green\"},\"x\":{\"field\":\"x\"},\"y\":{\"field\":\"y\"}},\"id\":\"1847\",\"type\":\"X\"},{\"attributes\":{\"dimension\":1,\"plot\":{\"id\":\"1705\",\"subtype\":\"Figure\",\"type\":\"Plot\"},\"ticker\":{\"id\":\"1721\",\"type\":\"BasicTicker\"}},\"id\":\"1724\",\"type\":\"Grid\"},{\"attributes\":{\"callback\":null},\"id\":\"1788\",\"type\":\"DataRange1d\"},{\"attributes\":{\"fill_alpha\":{\"value\":0.1},\"fill_color\":{\"value\":\"#1f77b4\"},\"line_alpha\":{\"value\":0.1},\"line_color\":{\"value\":\"#1f77b4\"},\"x\":{\"field\":\"x\"},\"y\":{\"field\":\"y\"}},\"id\":\"1848\",\"type\":\"X\"},{\"attributes\":{},\"id\":\"1790\",\"type\":\"LinearScale\"},{\"attributes\":{\"data_source\":{\"id\":\"1846\",\"type\":\"ColumnDataSource\"},\"glyph\":{\"id\":\"1847\",\"type\":\"X\"},\"hover_glyph\":null,\"muted_glyph\":null,\"nonselection_glyph\":{\"id\":\"1848\",\"type\":\"X\"},\"selection_glyph\":null,\"view\":{\"id\":\"1850\",\"type\":\"CDSView\"}},\"id\":\"1849\",\"type\":\"GlyphRenderer\"},{\"attributes\":{\"fill_color\":{\"value\":\"red\"},\"line_color\":{\"value\":\"red\"},\"x\":{\"field\":\"x\"},\"y\":{\"field\":\"y\"}},\"id\":\"1741\",\"type\":\"X\"},{\"attributes\":{},\"id\":\"1792\",\"type\":\"LinearScale\"},{\"attributes\":{\"source\":{\"id\":\"1846\",\"type\":\"ColumnDataSource\"}},\"id\":\"1850\",\"type\":\"CDSView\"},{\"attributes\":{\"callback\":null,\"data\":{\"x\":{\"__ndarray__\":\"AAAAAAAAAAAxb2dIzNu5PzFvZ0jM28k/ZZNNNtlk0z8xb2dIzNvZP3+lQK1fKeA/ZZNNNtlk4z9LgVq/UqDmPzFvZ0jM2+k/F1100UUX7T9/pUCtXynwP3Icx3Ecx/E/ZZNNNtlk8z9YCtT6lQL1P0uBWr9SoPY/Pvjggw8++D8xb2dIzNv5PyTm7QyJefs/F1100UUX/T8K1PqVArX+P3+lQK1fKQBA+OCDDz74AEByHMdxHMcBQOtXCtT6lQJAZZNNNtlkA0DezpCYtzMEQFgK1PqVAgVA0UUXXXTRBUBLgVq/UqAGQMS8nSExbwdAPvjggw8+CEC3MyTm7QwJQDFvZ0jM2wlAq6qqqqqqCkAk5u0MiXkLQJ4hMW9nSAxAF1100UUXDUCRmLczJOYNQArU+pUCtQ5AhA8++OCDD0B/pUCtXykQQDtDYt7OkBBA+OCDDz74EEC1fqVArV8RQHIcx3EcxxFALrrooosuEkDrVwrU+pUSQKj1KwVq/RJAZZNNNtlkE0AiMW9nSMwTQN7OkJi3MxRAm2yyySabFEBYCtT6lQIVQBWo9SsFahVA0UUXXXTRFUCO4ziO4zgWQEuBWr9SoBZACB988MEHF0DEvJ0hMW8XQIFav1Kg1hdAPvjggw8+GED7lQK1fqUYQLczJObtDBlAdNFFF110GUAxb2dIzNsZQO4MiXk7QxpAq6qqqqqqGkBnSMzbGRIbQCTm7QyJeRtA4YMPPvjgG0CeITFvZ0gcQFq/UqDWrxxAF1100UUXHUDU+pUCtX4dQJGYtzMk5h1ATTbZZJNNHkAK1PqVArUeQMdxHMdxHB9AhA8++OCDH0BArV8pUOsfQH+lQK1fKSBAXXTRRRddIEA7Q2LezpAgQBoS83aGxCBA+OCDDz74IEDXrxSo9SshQLV+pUCtXyFAk0022WSTIUByHMdxHMchQFDrVwrU+iFALrrooosuIkANiXk7Q2IiQOtXCtT6lSJAyiabbLLJIkCo9SsFav0iQIbEvJ0hMSNAZZNNNtlkI0BDYt7OkJgjQCIxb2dIzCNAAAAAAAAAJEA=\",\"dtype\":\"float64\",\"shape\":[100]},\"y\":{\"__ndarray__\":\"AAAAAAAAAAC3Q3km8Ji5P1es+OPAVsk/lsXsiIy/0j/KKsdJh5PYPyK6/wXlGN4/dzy4TRWh4T+te9DwdgHkP2kxtID5J+Y/tMuCOaMP6D/C0BC0KbTpP3uQhDj7Ees/UbtSG0Ym7D+wDaIW/u7sPw+Adpffau0/7CNm+3CZ7T/JBfbAAXvtP5lFBrKnEO0/hqLcFDpc7D/e81b1SmDrP00Pj5weIOo/erqzUaGf6D9UnQODW+PmP8nIpXlk8OQ/HF6GvlPM4j/uYF1ZMX3gPxgtJivKEtw/wiyW9Unv1j/TVPJQxp3RPxy9+RPtWMg/aahBi/2muj8Q2ZVg1kCSPwCLG+NBWbG/EsgFH5tuw7+QfUdLhuLNv58mlLgS99O/hA9Ch0a82L90hTQVMDXdv4uTwS2Cq+C/N59lsvqL4r+gQEyMpDfkvzhATIG2quW/b/8gdQPi5r8FEiMMAdvnv9G2CJjMk+i/fM1eRi4L6b91SQKNmkDpvz5Dd9UxNOm/c9WBbL7m6L9sWdK/sFnov2so3/cZj+e/qQ0fAKWJ5r/T9bYTjkzlv3CzSeiY2+O/yzzpkwU74r9MySVOhG/gv+WOs11Q/Ny/pMcnH7LY2L8uzLpsiX/Uv7LfPMg9+c+/Ih7BRRG4xr/if5j3KKi6v3yvrWJJL5+/bF6dDdHnpT9aCbtz12a9P4ZLE7IGr8c/M+YlohUr0D9id9AtqknUP5BWQ0cjKdg/7VcjjSDA2z9rsmVGFQbfP52QGi2u+eA/78uo3qRA4j8SmjaXHFXjP6EPMRHNNOQ/bs1ZZPzd5D/8JEYMgk/lP6k2IG/IiOU/GOiX5MyJ5T89I9JAHlPlPzmC8erZ5eQ/i8KCiqdD5D9U2J9as27jPxaC9TSnaeI/LaH4aaI34T8RpvX8YLjfPzcD1NJ9ttw/Mqet3SNy2T/bsLlucfTVP91SYYkBR9I/+0qilaPnzD+lriQsTwrFP4hYuC/TFbo/GRaOsuL5oz9yv70VkzCYvypICuoh3LW/uv37nlulwr90Fn/+fBjKv5RRER9xmtC/LQi/aIT0078=\",\"dtype\":\"float64\",\"shape\":[100]}},\"selected\":{\"id\":\"1780\",\"type\":\"Selection\"},\"selection_policy\":{\"id\":\"1779\",\"type\":\"UnionRenderers\"}},\"id\":\"1753\",\"type\":\"ColumnDataSource\"},{\"attributes\":{\"data_source\":{\"id\":\"1740\",\"type\":\"ColumnDataSource\"},\"glyph\":{\"id\":\"1741\",\"type\":\"X\"},\"hover_glyph\":null,\"muted_glyph\":null,\"nonselection_glyph\":{\"id\":\"1742\",\"type\":\"X\"},\"selection_glyph\":null,\"view\":{\"id\":\"1744\",\"type\":\"CDSView\"}},\"id\":\"1743\",\"type\":\"GlyphRenderer\"},{\"attributes\":{\"axis_label\":\"temps\",\"formatter\":{\"id\":\"1825\",\"type\":\"BasicTickFormatter\"},\"plot\":{\"id\":\"1784\",\"subtype\":\"Figure\",\"type\":\"Plot\"},\"ticker\":{\"id\":\"1795\",\"type\":\"BasicTicker\"}},\"id\":\"1794\",\"type\":\"LinearAxis\"},{\"attributes\":{},\"id\":\"1858\",\"type\":\"UnionRenderers\"},{\"attributes\":{},\"id\":\"1725\",\"type\":\"PanTool\"},{\"attributes\":{},\"id\":\"1795\",\"type\":\"BasicTicker\"},{\"attributes\":{},\"id\":\"1859\",\"type\":\"Selection\"},{\"attributes\":{},\"id\":\"1726\",\"type\":\"WheelZoomTool\"},{\"attributes\":{\"plot\":{\"id\":\"1784\",\"subtype\":\"Figure\",\"type\":\"Plot\"},\"ticker\":{\"id\":\"1795\",\"type\":\"BasicTicker\"}},\"id\":\"1798\",\"type\":\"Grid\"},{\"attributes\":{\"label\":{\"value\":\"solution exacte\"},\"renderers\":[{\"id\":\"1849\",\"type\":\"GlyphRenderer\"}]},\"id\":\"1861\",\"type\":\"LegendItem\"},{\"attributes\":{\"overlay\":{\"id\":\"1733\",\"type\":\"BoxAnnotation\"}},\"id\":\"1727\",\"type\":\"BoxZoomTool\"},{\"attributes\":{\"axis_label\":\"Vitesse\",\"formatter\":{\"id\":\"1827\",\"type\":\"BasicTickFormatter\"},\"plot\":{\"id\":\"1784\",\"subtype\":\"Figure\",\"type\":\"Plot\"},\"ticker\":{\"id\":\"1800\",\"type\":\"BasicTicker\"}},\"id\":\"1799\",\"type\":\"LinearAxis\"},{\"attributes\":{},\"id\":\"1728\",\"type\":\"SaveTool\"},{\"attributes\":{},\"id\":\"1800\",\"type\":\"BasicTicker\"},{\"attributes\":{},\"id\":\"1729\",\"type\":\"ResetTool\"},{\"attributes\":{\"dimension\":1,\"plot\":{\"id\":\"1784\",\"subtype\":\"Figure\",\"type\":\"Plot\"},\"ticker\":{\"id\":\"1800\",\"type\":\"BasicTicker\"}},\"id\":\"1803\",\"type\":\"Grid\"},{\"attributes\":{},\"id\":\"1730\",\"type\":\"HelpTool\"},{\"attributes\":{\"active_drag\":\"auto\",\"active_inspect\":\"auto\",\"active_multi\":null,\"active_scroll\":\"auto\",\"active_tap\":\"auto\",\"tools\":[{\"id\":\"1725\",\"type\":\"PanTool\"},{\"id\":\"1726\",\"type\":\"WheelZoomTool\"},{\"id\":\"1727\",\"type\":\"BoxZoomTool\"},{\"id\":\"1728\",\"type\":\"SaveTool\"},{\"id\":\"1729\",\"type\":\"ResetTool\"},{\"id\":\"1730\",\"type\":\"HelpTool\"}]},\"id\":\"1731\",\"type\":\"Toolbar\"},{\"attributes\":{\"fill_color\":{\"value\":\"red\"},\"line_color\":{\"value\":\"red\"},\"x\":{\"field\":\"x\"},\"y\":{\"field\":\"y\"}},\"id\":\"1820\",\"type\":\"X\"},{\"attributes\":{\"callback\":null,\"data\":{\"x\":{\"__ndarray__\":\"AAAAAAAAAAAxb2dIzNu5PzFvZ0jM28k/ZZNNNtlk0z8xb2dIzNvZP3+lQK1fKeA/ZZNNNtlk4z9LgVq/UqDmPzFvZ0jM2+k/F1100UUX7T9/pUCtXynwP3Icx3Ecx/E/ZZNNNtlk8z9YCtT6lQL1P0uBWr9SoPY/Pvjggw8++D8xb2dIzNv5PyTm7QyJefs/F1100UUX/T8K1PqVArX+P3+lQK1fKQBA+OCDDz74AEByHMdxHMcBQOtXCtT6lQJAZZNNNtlkA0DezpCYtzMEQFgK1PqVAgVA0UUXXXTRBUBLgVq/UqAGQMS8nSExbwdAPvjggw8+CEC3MyTm7QwJQDFvZ0jM2wlAq6qqqqqqCkAk5u0MiXkLQJ4hMW9nSAxAF1100UUXDUCRmLczJOYNQArU+pUCtQ5AhA8++OCDD0B/pUCtXykQQDtDYt7OkBBA+OCDDz74EEC1fqVArV8RQHIcx3EcxxFALrrooosuEkDrVwrU+pUSQKj1KwVq/RJAZZNNNtlkE0AiMW9nSMwTQN7OkJi3MxRAm2yyySabFEBYCtT6lQIVQBWo9SsFahVA0UUXXXTRFUCO4ziO4zgWQEuBWr9SoBZACB988MEHF0DEvJ0hMW8XQIFav1Kg1hdAPvjggw8+GED7lQK1fqUYQLczJObtDBlAdNFFF110GUAxb2dIzNsZQO4MiXk7QxpAq6qqqqqqGkBnSMzbGRIbQCTm7QyJeRtA4YMPPvjgG0CeITFvZ0gcQFq/UqDWrxxAF1100UUXHUDU+pUCtX4dQJGYtzMk5h1ATTbZZJNNHkAK1PqVArUeQMdxHMdxHB9AhA8++OCDH0BArV8pUOsfQH+lQK1fKSBAXXTRRRddIEA7Q2LezpAgQBoS83aGxCBA+OCDDz74IEDXrxSo9SshQLV+pUCtXyFAk0022WSTIUByHMdxHMchQFDrVwrU+iFALrrooosuIkANiXk7Q2IiQOtXCtT6lSJAyiabbLLJIkCo9SsFav0iQIbEvJ0hMSNAZZNNNtlkI0BDYt7OkJgjQCIxb2dIzCNAAAAAAAAAJEA=\",\"dtype\":\"float64\",\"shape\":[100]},\"y\":{\"__ndarray__\":\"AAAAAAAA8D+ZEDbJQq3vP8Bm0Td0Ce8/5o2McQ0X7j8uqNJtTNnsP5HF5JYpVOs/qeO6o0uM6T+ZPqPO+YbnPy+HgZAMSuU/6139C93b4j9GZeRWM0PgPyXU86RnDts/xum+ipde1T/IiqusdQzPP9R9drquKcM/6P1GPFzQrD9yC/mO0tSiv+wgFumHc8C/7mwKtvToy79OtSNwS3zTv1V6DxFuw9i/Dild/eO83b+KIGmxTC7hv/yEutzAS+O/4Gwd1tgx5b/YMHzpOtzmv2DghQUzR+i/qgG8orpv6b+qOV7VflPqv24JP3/k8Oq/o3OCmwpH679AsT+jylXrv10+7Q63Heu/K9NV/Reg6r+XB4kN5t7pv56bv33D3Oi/DHR2pfOc57/PxwnlUCPmv3sG0ihBdOS/9NkkIamU4r8pcZ5T3ongv2ZeZlkws9y/rmN0dcAT2L9Fo8J6A0LTv/d9H9filcy/bBtRkYJ3wr9xJ8cNGYewv8AufN5fto4/kioh3xr2tz/uyL4ct9HFP+D6NyGGVs8/lN4Ow9g41D8RCw18X4bYP2MiQMJcidw/wsmH9hgc4D87xNtlGcXhP7J4cM/cO+M/6LMAHBx95D+Iqc4MI4blPwrJ0r3VVOY/qxi/j7Tn5j/rpddz3j3nP/j73pcRV+c/g4GNdKoz5z8mSTFFodTmP42yHvOFO+Y/xQt/g3pq5T/cgb8ZLGTkP/QDX6TKK+M/jtMUTf/E4T9YpjvI4TPgP3kvH0TZ+dw/XWMzVeFJ2T9+8SpGD2LVP7UXX6IMTdE/jcKzdrgryj+q8VuTeY/BP6kRd/ssuLE/AAOG2xUlVD+MgGJE1Oqwv9GB8nv45sC/VHPuHf4Wyb+uUPOAfHjQv5urLFC9MNS/cpgosyur17+f8bo2ad/av5cygIfixd2/GOF9ffAr4L8q0GrYzEfhvwyeqBUdNOK/luB8Ivnu4r8gFkq4/Xbjv3wPzZtOy+O/e2lfeZfr479Ma5tfC9jjv65rTN1ikeO/EcEPy9gY47/NdmTMJXDiv3MvG5d6meG/duEbE3mX4L8=\",\"dtype\":\"float64\",\"shape\":[100]}},\"selected\":{\"id\":\"1859\",\"type\":\"Selection\"},\"selection_policy\":{\"id\":\"1858\",\"type\":\"UnionRenderers\"}},\"id\":\"1832\",\"type\":\"ColumnDataSource\"}],\"root_ids\":[\"2020\"]},\"title\":\"Bokeh Application\",\"version\":\"1.0.4\"}};\n",
       "  var render_items = [{\"docid\":\"f8c9879c-35d7-440e-8854-53d680b7687a\",\"roots\":{\"2020\":\"01a550ac-a697-41b7-b359-1d07ceb2afc2\"}}];\n",
       "  root.Bokeh.embed.embed_items_notebook(docs_json, render_items);\n",
       "\n",
       "  }\n",
       "  if (root.Bokeh !== undefined) {\n",
       "    embed_document(root);\n",
       "  } else {\n",
       "    var attempts = 0;\n",
       "    var timer = setInterval(function(root) {\n",
       "      if (root.Bokeh !== undefined) {\n",
       "        embed_document(root);\n",
       "        clearInterval(timer);\n",
       "      }\n",
       "      attempts++;\n",
       "      if (attempts > 100) {\n",
       "        console.log(\"Bokeh: ERROR: Unable to run BokehJS code because BokehJS library is missing\");\n",
       "        clearInterval(timer);\n",
       "      }\n",
       "    }, 10, root)\n",
       "  }\n",
       "})(window);"
      ],
      "application/vnd.bokehjs_exec.v0+json": ""
     },
     "metadata": {
      "application/vnd.bokehjs_exec.v0+json": {
       "id": "2020"
      }
     },
     "output_type": "display_data"
    },
    {
     "data": {
      "text/html": [
       "\n",
       "\n",
       "\n",
       "\n",
       "\n",
       "\n",
       "  <div class=\"bk-root\" id=\"da91c9c7-67ae-4bcf-b5a1-54c66c396aba\" data-root-id=\"2239\"></div>\n"
      ]
     },
     "metadata": {},
     "output_type": "display_data"
    },
    {
     "data": {
      "application/javascript": [
       "(function(root) {\n",
       "  function embed_document(root) {\n",
       "    \n",
       "  var docs_json = {\"be6a09e7-a7e2-448a-a02b-7c594341f783\":{\"roots\":{\"references\":[{\"attributes\":{\"children\":[{\"id\":\"1863\",\"subtype\":\"Figure\",\"type\":\"Plot\"},{\"id\":\"1942\",\"subtype\":\"Figure\",\"type\":\"Plot\"}]},\"id\":\"2239\",\"type\":\"Row\"},{\"attributes\":{},\"id\":\"1871\",\"type\":\"LinearScale\"},{\"attributes\":{\"axis_label\":\"temps\",\"formatter\":{\"id\":\"1904\",\"type\":\"BasicTickFormatter\"},\"plot\":{\"id\":\"1863\",\"subtype\":\"Figure\",\"type\":\"Plot\"},\"ticker\":{\"id\":\"1874\",\"type\":\"BasicTicker\"}},\"id\":\"1873\",\"type\":\"LinearAxis\"},{\"attributes\":{},\"id\":\"1874\",\"type\":\"BasicTicker\"},{\"attributes\":{\"plot\":{\"id\":\"1863\",\"subtype\":\"Figure\",\"type\":\"Plot\"},\"ticker\":{\"id\":\"1874\",\"type\":\"BasicTicker\"}},\"id\":\"1877\",\"type\":\"Grid\"},{\"attributes\":{\"axis_label\":\"hamiltonien\",\"formatter\":{\"id\":\"1906\",\"type\":\"BasicTickFormatter\"},\"plot\":{\"id\":\"1863\",\"subtype\":\"Figure\",\"type\":\"Plot\"},\"ticker\":{\"id\":\"1879\",\"type\":\"BasicTicker\"}},\"id\":\"1878\",\"type\":\"LinearAxis\"},{\"attributes\":{},\"id\":\"1879\",\"type\":\"BasicTicker\"},{\"attributes\":{\"dimension\":1,\"plot\":{\"id\":\"1863\",\"subtype\":\"Figure\",\"type\":\"Plot\"},\"ticker\":{\"id\":\"1879\",\"type\":\"BasicTicker\"}},\"id\":\"1882\",\"type\":\"Grid\"},{\"attributes\":{\"fill_color\":{\"value\":\"red\"},\"line_color\":{\"value\":\"red\"},\"x\":{\"field\":\"x\"},\"y\":{\"field\":\"y\"}},\"id\":\"1899\",\"type\":\"X\"},{\"attributes\":{},\"id\":\"1883\",\"type\":\"PanTool\"},{\"attributes\":{},\"id\":\"1884\",\"type\":\"WheelZoomTool\"},{\"attributes\":{\"overlay\":{\"id\":\"1891\",\"type\":\"BoxAnnotation\"}},\"id\":\"1885\",\"type\":\"BoxZoomTool\"},{\"attributes\":{},\"id\":\"1886\",\"type\":\"SaveTool\"},{\"attributes\":{},\"id\":\"1887\",\"type\":\"ResetTool\"},{\"attributes\":{},\"id\":\"1888\",\"type\":\"HelpTool\"},{\"attributes\":{\"active_drag\":\"auto\",\"active_inspect\":\"auto\",\"active_multi\":null,\"active_scroll\":\"auto\",\"active_tap\":\"auto\",\"tools\":[{\"id\":\"1883\",\"type\":\"PanTool\"},{\"id\":\"1884\",\"type\":\"WheelZoomTool\"},{\"id\":\"1885\",\"type\":\"BoxZoomTool\"},{\"id\":\"1886\",\"type\":\"SaveTool\"},{\"id\":\"1887\",\"type\":\"ResetTool\"},{\"id\":\"1888\",\"type\":\"HelpTool\"}]},\"id\":\"1889\",\"type\":\"Toolbar\"},{\"attributes\":{\"fill_alpha\":{\"value\":0.1},\"fill_color\":{\"value\":\"#1f77b4\"},\"line_alpha\":{\"value\":0.1},\"line_color\":{\"value\":\"#1f77b4\"},\"x\":{\"field\":\"x\"},\"y\":{\"field\":\"y\"}},\"id\":\"1900\",\"type\":\"X\"},{\"attributes\":{\"bottom_units\":\"screen\",\"fill_alpha\":{\"value\":0.5},\"fill_color\":{\"value\":\"lightgrey\"},\"left_units\":\"screen\",\"level\":\"overlay\",\"line_alpha\":{\"value\":1.0},\"line_color\":{\"value\":\"black\"},\"line_dash\":[4,4],\"line_width\":{\"value\":2},\"plot\":null,\"render_mode\":\"css\",\"right_units\":\"screen\",\"top_units\":\"screen\"},\"id\":\"1891\",\"type\":\"BoxAnnotation\"},{\"attributes\":{\"data_source\":{\"id\":\"1898\",\"type\":\"ColumnDataSource\"},\"glyph\":{\"id\":\"1899\",\"type\":\"X\"},\"hover_glyph\":null,\"muted_glyph\":null,\"nonselection_glyph\":{\"id\":\"1900\",\"type\":\"X\"},\"selection_glyph\":null,\"view\":{\"id\":\"1902\",\"type\":\"CDSView\"}},\"id\":\"1901\",\"type\":\"GlyphRenderer\"},{\"attributes\":{\"source\":{\"id\":\"1898\",\"type\":\"ColumnDataSource\"}},\"id\":\"1902\",\"type\":\"CDSView\"},{\"attributes\":{},\"id\":\"1904\",\"type\":\"BasicTickFormatter\"},{\"attributes\":{},\"id\":\"1906\",\"type\":\"BasicTickFormatter\"},{\"attributes\":{\"items\":[{\"id\":\"1910\",\"type\":\"LegendItem\"},{\"id\":\"1924\",\"type\":\"LegendItem\"},{\"id\":\"1940\",\"type\":\"LegendItem\"}],\"location\":\"top_left\",\"plot\":{\"id\":\"1863\",\"subtype\":\"Figure\",\"type\":\"Plot\"}},\"id\":\"1909\",\"type\":\"Legend\"},{\"attributes\":{\"label\":{\"value\":\"Euler Explicite\"},\"renderers\":[{\"id\":\"1901\",\"type\":\"GlyphRenderer\"}]},\"id\":\"1910\",\"type\":\"LegendItem\"},{\"attributes\":{\"fill_color\":{\"value\":\"blue\"},\"line_color\":{\"value\":\"blue\"},\"x\":{\"field\":\"x\"},\"y\":{\"field\":\"y\"}},\"id\":\"1912\",\"type\":\"X\"},{\"attributes\":{\"callback\":null,\"data\":{\"x\":{\"__ndarray__\":\"AAAAAAAAAAAxb2dIzNu5PzFvZ0jM28k/ZZNNNtlk0z8xb2dIzNvZP3+lQK1fKeA/ZZNNNtlk4z9LgVq/UqDmPzFvZ0jM2+k/F1100UUX7T9/pUCtXynwP3Icx3Ecx/E/ZZNNNtlk8z9YCtT6lQL1P0uBWr9SoPY/Pvjggw8++D8xb2dIzNv5PyTm7QyJefs/F1100UUX/T8K1PqVArX+P3+lQK1fKQBA+OCDDz74AEByHMdxHMcBQOtXCtT6lQJAZZNNNtlkA0DezpCYtzMEQFgK1PqVAgVA0UUXXXTRBUBLgVq/UqAGQMS8nSExbwdAPvjggw8+CEC3MyTm7QwJQDFvZ0jM2wlAq6qqqqqqCkAk5u0MiXkLQJ4hMW9nSAxAF1100UUXDUCRmLczJOYNQArU+pUCtQ5AhA8++OCDD0B/pUCtXykQQDtDYt7OkBBA+OCDDz74EEC1fqVArV8RQHIcx3EcxxFALrrooosuEkDrVwrU+pUSQKj1KwVq/RJAZZNNNtlkE0AiMW9nSMwTQN7OkJi3MxRAm2yyySabFEBYCtT6lQIVQBWo9SsFahVA0UUXXXTRFUCO4ziO4zgWQEuBWr9SoBZACB988MEHF0DEvJ0hMW8XQIFav1Kg1hdAPvjggw8+GED7lQK1fqUYQLczJObtDBlAdNFFF110GUAxb2dIzNsZQO4MiXk7QxpAq6qqqqqqGkBnSMzbGRIbQCTm7QyJeRtA4YMPPvjgG0CeITFvZ0gcQFq/UqDWrxxAF1100UUXHUDU+pUCtX4dQJGYtzMk5h1ATTbZZJNNHkAK1PqVArUeQMdxHMdxHB9AhA8++OCDH0BArV8pUOsfQH+lQK1fKSBAXXTRRRddIEA7Q2LezpAgQBoS83aGxCBA+OCDDz74IEDXrxSo9SshQLV+pUCtXyFAk0022WSTIUByHMdxHMchQFDrVwrU+iFALrrooosuIkANiXk7Q2IiQOtXCtT6lSJAyiabbLLJIkCo9SsFav0iQIbEvJ0hMSNAZZNNNtlkI0BDYt7OkJgjQCIxb2dIzCNAAAAAAAAAJEA=\",\"dtype\":\"float64\",\"shape\":[100]},\"y\":[0.5,0.5,0.5,0.5,0.5,0.5,0.5,0.4999999999999999,0.5,0.5,0.5,0.5,0.5,0.5000000000000001,0.49999999999999994,0.49999999999999994,0.5,0.5000000000000001,0.5,0.5,0.5,0.5,0.5,0.5,0.5,0.5,0.5,0.4999999999999999,0.5,0.5,0.5,0.5000000000000001,0.5,0.5,0.49999999999999994,0.5,0.5,0.5,0.5,0.5,0.5,0.5,0.5,0.5,0.5,0.5,0.5,0.5,0.5,0.5,0.5,0.49999999999999994,0.5,0.5,0.5,0.4999999999999999,0.5,0.5,0.5,0.49999999999999994,0.49999999999999994,0.5,0.5000000000000001,0.49999999999999994,0.5,0.49999999999999994,0.5,0.5,0.5,0.5,0.5,0.49999999999999994,0.5,0.49999999999999994,0.5,0.5,0.49999999999999994,0.49999999999999994,0.49999999999999994,0.49999999999999994,0.5,0.49999999999999994,0.5,0.5,0.5,0.5,0.49999999999999994,0.5,0.5,0.5,0.5,0.5,0.5,0.5,0.5,0.49999999999999994,0.49999999999999994,0.5,0.49999999999999994,0.5]},\"selected\":{\"id\":\"2329\",\"type\":\"Selection\"},\"selection_policy\":{\"id\":\"2328\",\"type\":\"UnionRenderers\"}},\"id\":\"1925\",\"type\":\"ColumnDataSource\"},{\"attributes\":{\"fill_alpha\":{\"value\":0.1},\"fill_color\":{\"value\":\"#1f77b4\"},\"line_alpha\":{\"value\":0.1},\"line_color\":{\"value\":\"#1f77b4\"},\"x\":{\"field\":\"x\"},\"y\":{\"field\":\"y\"}},\"id\":\"1913\",\"type\":\"X\"},{\"attributes\":{\"data_source\":{\"id\":\"1911\",\"type\":\"ColumnDataSource\"},\"glyph\":{\"id\":\"1912\",\"type\":\"X\"},\"hover_glyph\":null,\"muted_glyph\":null,\"nonselection_glyph\":{\"id\":\"1913\",\"type\":\"X\"},\"selection_glyph\":null,\"view\":{\"id\":\"1915\",\"type\":\"CDSView\"}},\"id\":\"1914\",\"type\":\"GlyphRenderer\"},{\"attributes\":{\"source\":{\"id\":\"1911\",\"type\":\"ColumnDataSource\"}},\"id\":\"1915\",\"type\":\"CDSView\"},{\"attributes\":{},\"id\":\"1921\",\"type\":\"UnionRenderers\"},{\"attributes\":{},\"id\":\"2328\",\"type\":\"UnionRenderers\"},{\"attributes\":{},\"id\":\"1922\",\"type\":\"Selection\"},{\"attributes\":{\"label\":{\"value\":\"Euler Implicite\"},\"renderers\":[{\"id\":\"1914\",\"type\":\"GlyphRenderer\"}]},\"id\":\"1924\",\"type\":\"LegendItem\"},{\"attributes\":{\"callback\":null,\"data\":{\"x\":{\"__ndarray__\":\"AAAAAAAAAAAxb2dIzNu5PzFvZ0jM28k/XhUUhfZT0z8Yd4GDQZjZP2+6CYkQqt8/NrpkmoK84j8JBICBonrlP2iZHgfSB+g/H9gQPOdc6j/mMQMFOHPsP1GMsNCsRO4/Rp0yANLL7z8BMEjo84HwP4RrCUx49PA/NAjolt478T/Rch2r+1bxPxaCKAoVRfE/a4IW4uMF8T+ImaH0lpnwP6/OK1DTAPA/I788q2d57j8eb5QSj53sP9oPEWAdcuo/Uy0Deu375z+KXkcvqkDlP7ry2IjBRuI/8IGu+Ksq3j8vZjpBW2jXPx4rKhY/V9A/NYmaBv4Rwj+4aIU9BgGZP9jgPureAbi/XgK6nCkqy78e7b+pBBrVv5wjgHV6e9y/jJVrJunS4b+dGJJ64kLlv/vzVZVNhOi/PFOn/S+O679iLJvUCFjuv+V+fST0bPC/hKSa5kKG8b8+zzZpqnTyv0xWVOdLNfO/CDL3q7jF878btFiR+SP0v+nLZluVTvS/Pe352ZVE9L8ZOSnCiwX0vyY4VDGRkfO/eX7Uz0rp8r++nseM5w3yv4Ij+u8eAfG/PnJLBVyK77+Hy8umpbnsv3sd7DqNlum/NOvePW0o5r+MWZlad3fiv2QAoWtCGd2/MJvSDR7j1L8KdxjE8MHIv3RZk0EhQq2/XiAdZxXDtD8gzCy7uCbMP5rD26hk6NY/55WbDamY3z9SWqbjiwbkP/4Uiox/F+g/0ADBxyT06z+eBr2j3JHvPzg7OWdIc/E/oTSVqWf08j9U7rx58kf0Px3dc+n6afU/Xgs4GApX9j9QKbp2Kgz3PyNyXtPwhvc/koH3FITF9z/AcRiMo8b3Pw/bzcarifc/0E091pkO9z99l4/5DFb2PyL5maVGYfU/GDfr5Cgy9D94fygQM8vyP2Ga+OJ8L/E/iAId7F/F7j82HVhW/9HqP9hWTTg/juY/kQsPRHEE4j8KARA1cn/aPxxJ3K7il9A/NFXxxnOsuT8kjJNvAWivvxGWdSjCq8y/f6E/8IC02L/Iq46T13bhv+JKPvMqc+a/CrjClOBB678=\",\"dtype\":\"float64\",\"shape\":[100]},\"y\":{\"__ndarray__\":\"AAAAAAAA8D8AAAAAAADwP/ucVqxqrO8/8dYDBUAF7z+HgGJbWgvuPwo/KFJuwOw/QsEnowgn6z8oLdWqiULpP645Xr8eF+c/Mt/4Xrmp5D/zy81GBADiP8JPDxOtQN4/7UINhEkj2D+KAeQH4bbRP05GRcPYFsY/RpFz58rGsD+8tLbIACemv8Pl98vOjMO/izmvIbPA0L+XLdKjdqHXvyYwRyh4Vt6/mX61TeBm4r/t+3qa5Xrlv6BCVjLaXui//EtDyrMK67/txN6i5XbtvwCTnYh1nO+/GCsMxoe68L/KK8gdjH3xv7ntFZXeFPK/Ms2nyoF+8r8fvnR+6rjyvzWuNcQEw/K/8AfICzic8r95IOLxaUTyv1X/kM7/u/G/xwgl+t4D8b8QsXzEax3wvzpi8jsOFe6/K0yh6RWb678YmbSZitLov4KCpzbkweW/lOfg5mdw4r/jsPdOLszdv3r9/Z05V9a/jgqRkOAozb+g7VHSMV26v8i2QLrGvpg/6IfE97iAwz/RWFlnwvDRPwLsweGvB9o/fef+leD34D84uxeH6snkPz8HIVuib+g/sSVWdA3f6z/cB8D4pA7vP+C4Z/G3+vA//pDL8Y1F8j9JmkhpCmTzP61t+DTNUvQ/LpMkCeoO9T89fWFC8ZX1P+fOFoj35fU/LWptKZz99T9RFLIgDtz1P0v1jawPgfU/sMX8cfjs9D+fdZodtiD0P4RCtn7LHfM/iemFGk7m8T9+6c454nzwP7Owtu5qye0/DJASs+9C6j/FRFkKp27mPwzHkjfGVeI/FNVTa5sE3D9q3ZxU4v3SP9csJxj1W8M/gPj5WNA7Zj9rOOBvp9zCv9M/XDaTCdO/NGdFiTCM3L9xP/8Xiu7iv2Rot4Czcee/AWcP22nD67/0txrl49fvvzqSDcPs0fG/itXBS1GO87+G704uKhz1vwVbNKzudva/rnZcmo+a978INPM4g4P4vwcVr83PLvm/R1+d4RSa+b+N3b8Gk8P5v//FWA0yqvm/au+XlIVN+b9ZIHLmz634vyDptRIDzPe/U3vmQcCp9r8=\",\"dtype\":\"float64\",\"shape\":[100]}},\"selected\":{\"id\":\"2001\",\"type\":\"Selection\"},\"selection_policy\":{\"id\":\"2000\",\"type\":\"UnionRenderers\"}},\"id\":\"1977\",\"type\":\"ColumnDataSource\"},{\"attributes\":{\"fill_color\":{\"value\":\"green\"},\"line_color\":{\"value\":\"green\"},\"x\":{\"field\":\"x\"},\"y\":{\"field\":\"y\"}},\"id\":\"1926\",\"type\":\"X\"},{\"attributes\":{\"below\":[{\"id\":\"1952\",\"type\":\"LinearAxis\"}],\"left\":[{\"id\":\"1957\",\"type\":\"LinearAxis\"}],\"plot_height\":300,\"plot_width\":500,\"renderers\":[{\"id\":\"1952\",\"type\":\"LinearAxis\"},{\"id\":\"1956\",\"type\":\"Grid\"},{\"id\":\"1957\",\"type\":\"LinearAxis\"},{\"id\":\"1961\",\"type\":\"Grid\"},{\"id\":\"1970\",\"type\":\"BoxAnnotation\"},{\"id\":\"1988\",\"type\":\"Legend\"},{\"id\":\"1980\",\"type\":\"GlyphRenderer\"},{\"id\":\"1993\",\"type\":\"GlyphRenderer\"},{\"id\":\"2007\",\"type\":\"GlyphRenderer\"}],\"title\":{\"id\":\"1941\",\"type\":\"Title\"},\"toolbar\":{\"id\":\"1968\",\"type\":\"Toolbar\"},\"x_range\":{\"id\":\"1944\",\"type\":\"DataRange1d\"},\"x_scale\":{\"id\":\"1948\",\"type\":\"LinearScale\"},\"y_range\":{\"id\":\"1946\",\"type\":\"DataRange1d\"},\"y_scale\":{\"id\":\"1950\",\"type\":\"LinearScale\"}},\"id\":\"1942\",\"subtype\":\"Figure\",\"type\":\"Plot\"},{\"attributes\":{\"fill_alpha\":{\"value\":0.1},\"fill_color\":{\"value\":\"#1f77b4\"},\"line_alpha\":{\"value\":0.1},\"line_color\":{\"value\":\"#1f77b4\"},\"x\":{\"field\":\"x\"},\"y\":{\"field\":\"y\"}},\"id\":\"1927\",\"type\":\"X\"},{\"attributes\":{\"data_source\":{\"id\":\"1925\",\"type\":\"ColumnDataSource\"},\"glyph\":{\"id\":\"1926\",\"type\":\"X\"},\"hover_glyph\":null,\"muted_glyph\":null,\"nonselection_glyph\":{\"id\":\"1927\",\"type\":\"X\"},\"selection_glyph\":null,\"view\":{\"id\":\"1929\",\"type\":\"CDSView\"}},\"id\":\"1928\",\"type\":\"GlyphRenderer\"},{\"attributes\":{\"source\":{\"id\":\"1925\",\"type\":\"ColumnDataSource\"}},\"id\":\"1929\",\"type\":\"CDSView\"},{\"attributes\":{\"source\":{\"id\":\"1990\",\"type\":\"ColumnDataSource\"}},\"id\":\"1994\",\"type\":\"CDSView\"},{\"attributes\":{},\"id\":\"1937\",\"type\":\"UnionRenderers\"},{\"attributes\":{},\"id\":\"1938\",\"type\":\"Selection\"},{\"attributes\":{},\"id\":\"2000\",\"type\":\"UnionRenderers\"},{\"attributes\":{},\"id\":\"2001\",\"type\":\"Selection\"},{\"attributes\":{\"label\":{\"value\":\"solution exacte\"},\"renderers\":[{\"id\":\"1928\",\"type\":\"GlyphRenderer\"}]},\"id\":\"1940\",\"type\":\"LegendItem\"},{\"attributes\":{\"label\":{\"value\":\"Euler Implicite\"},\"renderers\":[{\"id\":\"1993\",\"type\":\"GlyphRenderer\"}]},\"id\":\"2003\",\"type\":\"LegendItem\"},{\"attributes\":{\"fill_alpha\":{\"value\":0.1},\"fill_color\":{\"value\":\"#1f77b4\"},\"line_alpha\":{\"value\":0.1},\"line_color\":{\"value\":\"#1f77b4\"},\"x\":{\"field\":\"x\"},\"y\":{\"field\":\"y\"}},\"id\":\"1979\",\"type\":\"X\"},{\"attributes\":{\"plot\":null,\"text\":\"Portrait de phase par Euler explicite : 100 points\"},\"id\":\"1941\",\"type\":\"Title\"},{\"attributes\":{\"callback\":null},\"id\":\"1944\",\"type\":\"DataRange1d\"},{\"attributes\":{\"fill_color\":{\"value\":\"green\"},\"line_color\":{\"value\":\"green\"},\"x\":{\"field\":\"x\"},\"y\":{\"field\":\"y\"}},\"id\":\"2005\",\"type\":\"X\"},{\"attributes\":{\"callback\":null},\"id\":\"1946\",\"type\":\"DataRange1d\"},{\"attributes\":{\"fill_alpha\":{\"value\":0.1},\"fill_color\":{\"value\":\"#1f77b4\"},\"line_alpha\":{\"value\":0.1},\"line_color\":{\"value\":\"#1f77b4\"},\"x\":{\"field\":\"x\"},\"y\":{\"field\":\"y\"}},\"id\":\"2006\",\"type\":\"X\"},{\"attributes\":{},\"id\":\"1948\",\"type\":\"LinearScale\"},{\"attributes\":{\"data_source\":{\"id\":\"2004\",\"type\":\"ColumnDataSource\"},\"glyph\":{\"id\":\"2005\",\"type\":\"X\"},\"hover_glyph\":null,\"muted_glyph\":null,\"nonselection_glyph\":{\"id\":\"2006\",\"type\":\"X\"},\"selection_glyph\":null,\"view\":{\"id\":\"2008\",\"type\":\"CDSView\"}},\"id\":\"2007\",\"type\":\"GlyphRenderer\"},{\"attributes\":{},\"id\":\"1950\",\"type\":\"LinearScale\"},{\"attributes\":{\"source\":{\"id\":\"2004\",\"type\":\"ColumnDataSource\"}},\"id\":\"2008\",\"type\":\"CDSView\"},{\"attributes\":{\"axis_label\":\"position\",\"formatter\":{\"id\":\"1983\",\"type\":\"BasicTickFormatter\"},\"plot\":{\"id\":\"1942\",\"subtype\":\"Figure\",\"type\":\"Plot\"},\"ticker\":{\"id\":\"1953\",\"type\":\"BasicTicker\"}},\"id\":\"1952\",\"type\":\"LinearAxis\"},{\"attributes\":{},\"id\":\"2016\",\"type\":\"UnionRenderers\"},{\"attributes\":{},\"id\":\"1953\",\"type\":\"BasicTicker\"},{\"attributes\":{},\"id\":\"2017\",\"type\":\"Selection\"},{\"attributes\":{\"plot\":{\"id\":\"1942\",\"subtype\":\"Figure\",\"type\":\"Plot\"},\"ticker\":{\"id\":\"1953\",\"type\":\"BasicTicker\"}},\"id\":\"1956\",\"type\":\"Grid\"},{\"attributes\":{\"label\":{\"value\":\"Solution exacte\"},\"renderers\":[{\"id\":\"2007\",\"type\":\"GlyphRenderer\"}]},\"id\":\"2019\",\"type\":\"LegendItem\"},{\"attributes\":{\"axis_label\":\"vitesse\",\"formatter\":{\"id\":\"1985\",\"type\":\"BasicTickFormatter\"},\"plot\":{\"id\":\"1942\",\"subtype\":\"Figure\",\"type\":\"Plot\"},\"ticker\":{\"id\":\"1958\",\"type\":\"BasicTicker\"}},\"id\":\"1957\",\"type\":\"LinearAxis\"},{\"attributes\":{},\"id\":\"1958\",\"type\":\"BasicTicker\"},{\"attributes\":{\"dimension\":1,\"plot\":{\"id\":\"1942\",\"subtype\":\"Figure\",\"type\":\"Plot\"},\"ticker\":{\"id\":\"1958\",\"type\":\"BasicTicker\"}},\"id\":\"1961\",\"type\":\"Grid\"},{\"attributes\":{\"fill_color\":{\"value\":\"blue\"},\"line_color\":{\"value\":\"blue\"},\"x\":{\"field\":\"x\"},\"y\":{\"field\":\"y\"}},\"id\":\"1978\",\"type\":\"X\"},{\"attributes\":{\"callback\":null,\"data\":{\"x\":{\"__ndarray__\":\"AAAAAAAAAAC3Q3km8Ji5P1es+OPAVsk/lsXsiIy/0j/KKsdJh5PYPyK6/wXlGN4/dzy4TRWh4T+te9DwdgHkP2kxtID5J+Y/tMuCOaMP6D/C0BC0KbTpP3uQhDj7Ees/UbtSG0Ym7D+wDaIW/u7sPw+Adpffau0/7CNm+3CZ7T/JBfbAAXvtP5lFBrKnEO0/hqLcFDpc7D/e81b1SmDrP00Pj5weIOo/erqzUaGf6D9UnQODW+PmP8nIpXlk8OQ/HF6GvlPM4j/uYF1ZMX3gPxgtJivKEtw/wiyW9Unv1j/TVPJQxp3RPxy9+RPtWMg/aahBi/2muj8Q2ZVg1kCSPwCLG+NBWbG/EsgFH5tuw7+QfUdLhuLNv58mlLgS99O/hA9Ch0a82L90hTQVMDXdv4uTwS2Cq+C/N59lsvqL4r+gQEyMpDfkvzhATIG2quW/b/8gdQPi5r8FEiMMAdvnv9G2CJjMk+i/fM1eRi4L6b91SQKNmkDpvz5Dd9UxNOm/c9WBbL7m6L9sWdK/sFnov2so3/cZj+e/qQ0fAKWJ5r/T9bYTjkzlv3CzSeiY2+O/yzzpkwU74r9MySVOhG/gv+WOs11Q/Ny/pMcnH7LY2L8uzLpsiX/Uv7LfPMg9+c+/Ih7BRRG4xr/if5j3KKi6v3yvrWJJL5+/bF6dDdHnpT9aCbtz12a9P4ZLE7IGr8c/M+YlohUr0D9id9AtqknUP5BWQ0cjKdg/7VcjjSDA2z9rsmVGFQbfP52QGi2u+eA/78uo3qRA4j8SmjaXHFXjP6EPMRHNNOQ/bs1ZZPzd5D/8JEYMgk/lP6k2IG/IiOU/GOiX5MyJ5T89I9JAHlPlPzmC8erZ5eQ/i8KCiqdD5D9U2J9as27jPxaC9TSnaeI/LaH4aaI34T8RpvX8YLjfPzcD1NJ9ttw/Mqet3SNy2T/bsLlucfTVP91SYYkBR9I/+0qilaPnzD+lriQsTwrFP4hYuC/TFbo/GRaOsuL5oz9yv70VkzCYvypICuoh3LW/uv37nlulwr90Fn/+fBjKv5RRER9xmtC/LQi/aIT0078=\",\"dtype\":\"float64\",\"shape\":[100]},\"y\":{\"__ndarray__\":\"AAAAAAAA8D+ZEDbJQq3vP8Bm0Td0Ce8/5o2McQ0X7j8uqNJtTNnsP5HF5JYpVOs/qeO6o0uM6T+ZPqPO+YbnPy+HgZAMSuU/6139C93b4j9GZeRWM0PgPyXU86RnDts/xum+ipde1T/IiqusdQzPP9R9drquKcM/6P1GPFzQrD9yC/mO0tSiv+wgFumHc8C/7mwKtvToy79OtSNwS3zTv1V6DxFuw9i/Dild/eO83b+KIGmxTC7hv/yEutzAS+O/4Gwd1tgx5b/YMHzpOtzmv2DghQUzR+i/qgG8orpv6b+qOV7VflPqv24JP3/k8Oq/o3OCmwpH679AsT+jylXrv10+7Q63Heu/K9NV/Reg6r+XB4kN5t7pv56bv33D3Oi/DHR2pfOc57/PxwnlUCPmv3sG0ihBdOS/9NkkIamU4r8pcZ5T3ongv2ZeZlkws9y/rmN0dcAT2L9Fo8J6A0LTv/d9H9filcy/bBtRkYJ3wr9xJ8cNGYewv8AufN5fto4/kioh3xr2tz/uyL4ct9HFP+D6NyGGVs8/lN4Ow9g41D8RCw18X4bYP2MiQMJcidw/wsmH9hgc4D87xNtlGcXhP7J4cM/cO+M/6LMAHBx95D+Iqc4MI4blPwrJ0r3VVOY/qxi/j7Tn5j/rpddz3j3nP/j73pcRV+c/g4GNdKoz5z8mSTFFodTmP42yHvOFO+Y/xQt/g3pq5T/cgb8ZLGTkP/QDX6TKK+M/jtMUTf/E4T9YpjvI4TPgP3kvH0TZ+dw/XWMzVeFJ2T9+8SpGD2LVP7UXX6IMTdE/jcKzdrgryj+q8VuTeY/BP6kRd/ssuLE/AAOG2xUlVD+MgGJE1Oqwv9GB8nv45sC/VHPuHf4Wyb+uUPOAfHjQv5urLFC9MNS/cpgosyur17+f8bo2ad/av5cygIfixd2/GOF9ffAr4L8q0GrYzEfhvwyeqBUdNOK/luB8Ivnu4r8gFkq4/Xbjv3wPzZtOy+O/e2lfeZfr479Ma5tfC9jjv65rTN1ikeO/EcEPy9gY47/NdmTMJXDiv3MvG5d6meG/duEbE3mX4L8=\",\"dtype\":\"float64\",\"shape\":[100]}},\"selected\":{\"id\":\"2017\",\"type\":\"Selection\"},\"selection_policy\":{\"id\":\"2016\",\"type\":\"UnionRenderers\"}},\"id\":\"1990\",\"type\":\"ColumnDataSource\"},{\"attributes\":{\"data_source\":{\"id\":\"1977\",\"type\":\"ColumnDataSource\"},\"glyph\":{\"id\":\"1978\",\"type\":\"X\"},\"hover_glyph\":null,\"muted_glyph\":null,\"nonselection_glyph\":{\"id\":\"1979\",\"type\":\"X\"},\"selection_glyph\":null,\"view\":{\"id\":\"1981\",\"type\":\"CDSView\"}},\"id\":\"1980\",\"type\":\"GlyphRenderer\"},{\"attributes\":{},\"id\":\"1962\",\"type\":\"PanTool\"},{\"attributes\":{},\"id\":\"1963\",\"type\":\"WheelZoomTool\"},{\"attributes\":{},\"id\":\"2335\",\"type\":\"UnionRenderers\"},{\"attributes\":{\"overlay\":{\"id\":\"1970\",\"type\":\"BoxAnnotation\"}},\"id\":\"1964\",\"type\":\"BoxZoomTool\"},{\"attributes\":{},\"id\":\"2336\",\"type\":\"Selection\"},{\"attributes\":{},\"id\":\"1965\",\"type\":\"SaveTool\"},{\"attributes\":{},\"id\":\"1966\",\"type\":\"ResetTool\"},{\"attributes\":{\"callback\":null,\"data\":{\"x\":{\"__ndarray__\":\"AAAAAAAAAAAxb2dIzNu5PzFvZ0jM28k/ZZNNNtlk0z8xb2dIzNvZP3+lQK1fKeA/ZZNNNtlk4z9LgVq/UqDmPzFvZ0jM2+k/F1100UUX7T9/pUCtXynwP3Icx3Ecx/E/ZZNNNtlk8z9YCtT6lQL1P0uBWr9SoPY/Pvjggw8++D8xb2dIzNv5PyTm7QyJefs/F1100UUX/T8K1PqVArX+P3+lQK1fKQBA+OCDDz74AEByHMdxHMcBQOtXCtT6lQJAZZNNNtlkA0DezpCYtzMEQFgK1PqVAgVA0UUXXXTRBUBLgVq/UqAGQMS8nSExbwdAPvjggw8+CEC3MyTm7QwJQDFvZ0jM2wlAq6qqqqqqCkAk5u0MiXkLQJ4hMW9nSAxAF1100UUXDUCRmLczJOYNQArU+pUCtQ5AhA8++OCDD0B/pUCtXykQQDtDYt7OkBBA+OCDDz74EEC1fqVArV8RQHIcx3EcxxFALrrooosuEkDrVwrU+pUSQKj1KwVq/RJAZZNNNtlkE0AiMW9nSMwTQN7OkJi3MxRAm2yyySabFEBYCtT6lQIVQBWo9SsFahVA0UUXXXTRFUCO4ziO4zgWQEuBWr9SoBZACB988MEHF0DEvJ0hMW8XQIFav1Kg1hdAPvjggw8+GED7lQK1fqUYQLczJObtDBlAdNFFF110GUAxb2dIzNsZQO4MiXk7QxpAq6qqqqqqGkBnSMzbGRIbQCTm7QyJeRtA4YMPPvjgG0CeITFvZ0gcQFq/UqDWrxxAF1100UUXHUDU+pUCtX4dQJGYtzMk5h1ATTbZZJNNHkAK1PqVArUeQMdxHMdxHB9AhA8++OCDH0BArV8pUOsfQH+lQK1fKSBAXXTRRRddIEA7Q2LezpAgQBoS83aGxCBA+OCDDz74IEDXrxSo9SshQLV+pUCtXyFAk0022WSTIUByHMdxHMchQFDrVwrU+iFALrrooosuIkANiXk7Q2IiQOtXCtT6lSJAyiabbLLJIkCo9SsFav0iQIbEvJ0hMSNAZZNNNtlkI0BDYt7OkJgjQCIxb2dIzCNAAAAAAAAAJEA=\",\"dtype\":\"float64\",\"shape\":[100]},\"y\":[0.5,0.49495000504999487,0.48995101499797994,0.48500251469500055,0.4801039941951015,0.47525494870277646,0.4704548785209486,0.4657032889994764,0.46099969048418016,0.4563435982663821,0.45173453253295726,0.4471720183168885,0.4426555854483208,0.4381847685061096,0.4337591067698597,0.42937814417244663,0.4250414292530198,0.42074851511047834,0.4164989593574182,0.4122923240745435,0.40812817576553884,0.40400608531239723,0.39992562793119935,0.39588638312833907,0.3918879346571913,0.3879298704752177,0.38401178270150577,0.38013326757473564,0.37629392541157297,0.37249336056548094,0.36873118138594874,0.36500700017813187,0.3613204331628997,0.35767110043728717,0.354058625935345,0.35048263738938645,0.34694276629162474,0.3434386478561977,0.33996992098157697,0.3365362282133558,0.3331372157074134,0.32977253319345096,0.32644183393889636,0.32314477471317266,0.3198810157523285,0.31665022072402493,0.3134520566928763,0.3102861940861409,0.30715230665975823,0.3040500714647298,0.3009791688138386,0.29793928224870536,0.2949300985071771,0.2919513074910456,0.2890026022340912,0.2860836788704503,0.2831942366033009,0.2803339776738664,0.2775026073307307,0.27469983379946383,0.2719253682525548,0.26917892477964744,0.2664602203580774,0.26376897482370637,0.26110491084205084,0.25846775387970305,0.2558572321760397,0.2532730767152171,0.2507150211984489,0.24818280201656379,0.24567615822284034,0.24319483150611632,0.24073856616416983,0.23830710907736882,0.23590020968258676,0.23351761994738235,0.23115909434443932,0.22882438982626496,0.2265132658001437,0.22422548410334392,0.22196080897857529,0.2197190070496936,0.21749984729765148,0.21530310103669148,0.21312854189078,0.21097594577027926,0.20884509084885433,0.20673575754061424,0.20464772847748303,0.20258078848680042,0.20053472456914762,0.19850932587639789,0.19650438368998843,0.1945196913994118,0.19255504448092461,0.1906102404764713,0.18868507897282036,0.18677936158091224,0.1848928919154147,0.18302547557448534]},\"selected\":{\"id\":\"1938\",\"type\":\"Selection\"},\"selection_policy\":{\"id\":\"1937\",\"type\":\"UnionRenderers\"}},\"id\":\"1911\",\"type\":\"ColumnDataSource\"},{\"attributes\":{},\"id\":\"1967\",\"type\":\"HelpTool\"},{\"attributes\":{},\"id\":\"2329\",\"type\":\"Selection\"},{\"attributes\":{\"active_drag\":\"auto\",\"active_inspect\":\"auto\",\"active_multi\":null,\"active_scroll\":\"auto\",\"active_tap\":\"auto\",\"tools\":[{\"id\":\"1962\",\"type\":\"PanTool\"},{\"id\":\"1963\",\"type\":\"WheelZoomTool\"},{\"id\":\"1964\",\"type\":\"BoxZoomTool\"},{\"id\":\"1965\",\"type\":\"SaveTool\"},{\"id\":\"1966\",\"type\":\"ResetTool\"},{\"id\":\"1967\",\"type\":\"HelpTool\"}]},\"id\":\"1968\",\"type\":\"Toolbar\"},{\"attributes\":{\"bottom_units\":\"screen\",\"fill_alpha\":{\"value\":0.5},\"fill_color\":{\"value\":\"lightgrey\"},\"left_units\":\"screen\",\"level\":\"overlay\",\"line_alpha\":{\"value\":1.0},\"line_color\":{\"value\":\"black\"},\"line_dash\":[4,4],\"line_width\":{\"value\":2},\"plot\":null,\"render_mode\":\"css\",\"right_units\":\"screen\",\"top_units\":\"screen\"},\"id\":\"1970\",\"type\":\"BoxAnnotation\"},{\"attributes\":{\"source\":{\"id\":\"1977\",\"type\":\"ColumnDataSource\"}},\"id\":\"1981\",\"type\":\"CDSView\"},{\"attributes\":{},\"id\":\"1983\",\"type\":\"BasicTickFormatter\"},{\"attributes\":{},\"id\":\"1985\",\"type\":\"BasicTickFormatter\"},{\"attributes\":{\"items\":[{\"id\":\"1989\",\"type\":\"LegendItem\"},{\"id\":\"2003\",\"type\":\"LegendItem\"},{\"id\":\"2019\",\"type\":\"LegendItem\"}],\"location\":\"bottom_left\",\"plot\":{\"id\":\"1942\",\"subtype\":\"Figure\",\"type\":\"Plot\"}},\"id\":\"1988\",\"type\":\"Legend\"},{\"attributes\":{\"plot\":null,\"text\":\"Hamiltonien par Euler explicite : 100 points\"},\"id\":\"1862\",\"type\":\"Title\"},{\"attributes\":{\"below\":[{\"id\":\"1873\",\"type\":\"LinearAxis\"}],\"left\":[{\"id\":\"1878\",\"type\":\"LinearAxis\"}],\"plot_height\":300,\"plot_width\":500,\"renderers\":[{\"id\":\"1873\",\"type\":\"LinearAxis\"},{\"id\":\"1877\",\"type\":\"Grid\"},{\"id\":\"1878\",\"type\":\"LinearAxis\"},{\"id\":\"1882\",\"type\":\"Grid\"},{\"id\":\"1891\",\"type\":\"BoxAnnotation\"},{\"id\":\"1909\",\"type\":\"Legend\"},{\"id\":\"1901\",\"type\":\"GlyphRenderer\"},{\"id\":\"1914\",\"type\":\"GlyphRenderer\"},{\"id\":\"1928\",\"type\":\"GlyphRenderer\"}],\"title\":{\"id\":\"1862\",\"type\":\"Title\"},\"toolbar\":{\"id\":\"1889\",\"type\":\"Toolbar\"},\"x_range\":{\"id\":\"1865\",\"type\":\"DataRange1d\"},\"x_scale\":{\"id\":\"1869\",\"type\":\"LinearScale\"},\"y_range\":{\"id\":\"1867\",\"type\":\"DataRange1d\"},\"y_scale\":{\"id\":\"1871\",\"type\":\"LinearScale\"}},\"id\":\"1863\",\"subtype\":\"Figure\",\"type\":\"Plot\"},{\"attributes\":{\"label\":{\"value\":\"Euler Explicite\"},\"renderers\":[{\"id\":\"1980\",\"type\":\"GlyphRenderer\"}]},\"id\":\"1989\",\"type\":\"LegendItem\"},{\"attributes\":{\"callback\":null,\"data\":{\"x\":{\"__ndarray__\":\"AAAAAAAAAAAxb2dIzNu5PzFvZ0jM28k/ZZNNNtlk0z8xb2dIzNvZP3+lQK1fKeA/ZZNNNtlk4z9LgVq/UqDmPzFvZ0jM2+k/F1100UUX7T9/pUCtXynwP3Icx3Ecx/E/ZZNNNtlk8z9YCtT6lQL1P0uBWr9SoPY/Pvjggw8++D8xb2dIzNv5PyTm7QyJefs/F1100UUX/T8K1PqVArX+P3+lQK1fKQBA+OCDDz74AEByHMdxHMcBQOtXCtT6lQJAZZNNNtlkA0DezpCYtzMEQFgK1PqVAgVA0UUXXXTRBUBLgVq/UqAGQMS8nSExbwdAPvjggw8+CEC3MyTm7QwJQDFvZ0jM2wlAq6qqqqqqCkAk5u0MiXkLQJ4hMW9nSAxAF1100UUXDUCRmLczJOYNQArU+pUCtQ5AhA8++OCDD0B/pUCtXykQQDtDYt7OkBBA+OCDDz74EEC1fqVArV8RQHIcx3EcxxFALrrooosuEkDrVwrU+pUSQKj1KwVq/RJAZZNNNtlkE0AiMW9nSMwTQN7OkJi3MxRAm2yyySabFEBYCtT6lQIVQBWo9SsFahVA0UUXXXTRFUCO4ziO4zgWQEuBWr9SoBZACB988MEHF0DEvJ0hMW8XQIFav1Kg1hdAPvjggw8+GED7lQK1fqUYQLczJObtDBlAdNFFF110GUAxb2dIzNsZQO4MiXk7QxpAq6qqqqqqGkBnSMzbGRIbQCTm7QyJeRtA4YMPPvjgG0CeITFvZ0gcQFq/UqDWrxxAF1100UUXHUDU+pUCtX4dQJGYtzMk5h1ATTbZZJNNHkAK1PqVArUeQMdxHMdxHB9AhA8++OCDH0BArV8pUOsfQH+lQK1fKSBAXXTRRRddIEA7Q2LezpAgQBoS83aGxCBA+OCDDz74IEDXrxSo9SshQLV+pUCtXyFAk0022WSTIUByHMdxHMchQFDrVwrU+iFALrrooosuIkANiXk7Q2IiQOtXCtT6lSJAyiabbLLJIkCo9SsFav0iQIbEvJ0hMSNAZZNNNtlkI0BDYt7OkJgjQCIxb2dIzCNAAAAAAAAAJEA=\",\"dtype\":\"float64\",\"shape\":[100]},\"y\":[0.5,0.5051015202530355,0.5102550915238551,0.5154612448911019,0.5207205168520355,0.5260334493778189,0.5314005899693689,0.5368224917137763,0.5422997133413019,0.5478328192829538,0.5534223797286527,0.5590689706859903,0.5647731740395867,0.5705355776110549,0.5763567752195748,0.5822373667430886,0.5881779581801162,0.5941791617122062,0.600241595767019,0.6063658850820586,0.6125526607690502,0.6188025603789784,0.6251162279677854,0.6314943141627429,0.6379374762294989,0.644446378139809,0.6510216906399601,0.6576640913198905,0.6643742646830155,0.6711529022167673,0.6780007024638519,0.6849183710942351,0.6919066209778618,0.6989661722581174,0.7060977524260402,0.7133020963952885,0.7205799465778749,0.7279320529606713,0.7353591731826964,0.7428620726131901,0.7504415244304863,0.758098309701688,0.7658332174631581,0.7736470448018293,0.7815405969373445,0.789514687305035,0.7975701376397463,0.8057077780605171,0.813928447156125,0.8222329920715021,0.8306222685950355,0.8390971412467552,0.8476584833674241,0.8563071772085364,0.8650441140232341,0.8738701941581515,0.882786327146195,0.8917934318002733,0.9008924363079792,0.9100842783272424,0.9193699050829534,0.9287502734645771,0.9382263501247605,0.9477991115789465,0.9574695443060045,0.9672386448498876,0.9771074199223282,0.9870768865065782,0.9971480719622111,1.007322014130992,1.017599761443827,1.0279823730288065,1.0384709188203463,1.0490664796694469,1.0597701474550751,1.070583025196684,1.0815062271678775,1.0925408790112392,1.103688117854329,1.1149490924268657,1.126324963179104,1.1378169024014193,1.149426094345113,1.1611537353444508,1.1730010339399457,1.184969211002898,1.1970594998612074,1.2092731464264683,1.2216114093223611,1.2340755600143554,1.246666882940734,1.2593866756449554,1.2722362489093668,1.2852169268902804,1.29833004725443,1.3115769613168153,1.3249590341799602,1.3384776448745828,1.3521341865017082,1.3659300663762286]},\"selected\":{\"id\":\"1922\",\"type\":\"Selection\"},\"selection_policy\":{\"id\":\"1921\",\"type\":\"UnionRenderers\"}},\"id\":\"1898\",\"type\":\"ColumnDataSource\"},{\"attributes\":{\"callback\":null,\"data\":{\"x\":{\"__ndarray__\":\"AAAAAAAAAABWWTD1i9C5P1FTX5rcrsk/gsOxNjYZ0z9VYwJ3JinZPxcA895s994/joZ7TnE64j/qrfXjmcnkP2ssuWGCIuc/Iswnjgo/6T+RI+TArxnrP1BTS0Sbrew/3oUw9q727T8Xi+UGkPHuP/kGhbqvm+8/OPqkFVLz7z8TWwZkkvfvP5TacY1lqO8/kSusMpoG7z8wOzaS1hPuPz2qWDqU0uw/jV22kxlG6z8pMUFVcXLpP4gS3/dfXOc/1MdGRVcJ5T/m1IwiaH/iP8q16nZlit8/8e22b6rD2T9j8JxQsrnTPwFWfWl/+Mo/+7miP25uvD8ew57TVQ2FP7c2U+b2Mbe/NJcb8IdkyL+cMtDaNXjSv4gGHUH0jdi/BM5I1Z1j3r8dASM//PThv5J0Xo5MieS/fMX9lQTo5r9AD0Xy9Arpv5gfWUKK7Oq/hEBctduH7L9UjGrat9jtv9nTBZKv2+6/Gw5iBB+O778QwS6FNO7vv7NU4lL1+u+/vLAjJUC0778fSaaDzRrvv6PqleQtMO6/ehV7l8X27L+nYD+HxnHrv2I/nOMnpem/D922x5uV57/CVOv4gkjlv1aewt3ew+K/ZCe00UEO4L8DKjT9e13av93iNNGlWdS/wgS4cmdBzL8fFrKmiwu/v2He8+4MDZW/u4zZNsGStD+7ZD9aihnHP7P36Je11tE/W/DDABjy1z9jyIBZ/M7dP8e6gdUKr+E/qWzMAXFI5D//7Lop6KzmP7yvSOox1ug/Al+5UKq+6j+T7POSVmHsP14AZw7yue0/UWGMa/nE7j/0lfnIs3/vP+x2ENY56O8/b1zFynr97z+a4IMvP7/vP+dX8G0pLu8/1DgMKbRL7j8lnQ9hLhrtP1CyCm21nOs/N08I2izX6T+2POhENM7nPxy7bUkbh+U/z6j/pdMH4z+wXUa44VbgP6UpR/aW9to/VbjOZAz51D8WLl/Qi4nNP2bQXAjp08A//1m7LN2Snz/o7+kO/fKxv37G6czszcW/VIdizLk00b98w03tlVXXvzzw4HCMOd2/Uk/z9Z5o4b8=\",\"dtype\":\"float64\",\"shape\":[100]},\"y\":{\"__ndarray__\":\"AAAAAAAA8D9stRluPtbvP/RmmLFmWe8/yNmrmb6K7j90bjl5YWztPzbnWqc6Aew/j8z94P1M6j92c4WfHVToPyaJpn2/G+Y/HRvGyK6p4z/FGOphTQThPwuuYysGZdw/P1edLVd31j+/pAmUBk/QP2iwSFdM+MM/7bevprZ5rD9YkKJzFDinv17aVrxRq8K/yDeLfeVXz79b+k5oVtnVvxmrjs+0zdu/rIhO3MG84L/ZPI8i+2bjv2WKJcqR3uW/xHL7hxUd6L/miO4Dqxzqv7oIvSEb2Ou/+5JWneBK7b8KVQvXM3Huvxmpz7AUSO+/xNrVYlLN77/eiQ4zkf/vvwtJpABO3u+/bCgymt9p77+JFDjbdaPuv/xDHJMWje2/BTrPPZgp7L+SFtmbmnzqvyQrJD19iui/WpkzF1RY5r+HI49E2uvjv6b++Q9jS+G/urT55JL73L+St69evBTXvzfBGnmp8dC/pYFip7xExb+nyBvUSd2wv99gn3XR9aE/DwVx2NVdwT+otT/F5BDOP6zH8VS+OtU/GTxc6aI12z+D75puwnTgP50A1B/BI+M/I3FapMyg5T+KsJ5zZuXnPyn1T1Oj6+k/rRO9yTqu6z/bvXbnlCjtPwarN0TWVu4/Lo/JD+o17z+6zqEcisPvP7BzOc9E/u8/9UWj4oDl7z82sIr4fnnvPyeNh/BYu+4/+g5/CP+s7T9bjJHNMlHsP3YFyep/q+o/e8ZN6DLA6D92IkfzTZTmPxjSr8t7LeQ/a6g6+gCS4T/04MDpVpHdP3FYjrmBsdc/PNe1B9eT0T9M9n2umZDGP/wzgItDfbM/Ct4dLyRmmb9yg/qw4Q/AvyRGstcTycy/ubDKPZOb1L/MSuOV1Jzav76WZQtRLOC/VVMgkgLg4r8R1we4cWLlv2gZDOQRree/jfWqIui56b9ryVnBmoPrv1i8GUV/Be2/IOTFl6Y77r/r3VNM5yLvvxPBO9/luO+/YY1+3Rr8778NpTzi1uvvv/o5cmBEiO+/UxkvNGfS7r8I82r8Gcztv4T5X0QJeOy/H2sMiazZ6r8=\",\"dtype\":\"float64\",\"shape\":[100]}},\"selected\":{\"id\":\"2336\",\"type\":\"Selection\"},\"selection_policy\":{\"id\":\"2335\",\"type\":\"UnionRenderers\"}},\"id\":\"2004\",\"type\":\"ColumnDataSource\"},{\"attributes\":{\"callback\":null},\"id\":\"1865\",\"type\":\"DataRange1d\"},{\"attributes\":{\"fill_color\":{\"value\":\"red\"},\"line_color\":{\"value\":\"red\"},\"x\":{\"field\":\"x\"},\"y\":{\"field\":\"y\"}},\"id\":\"1991\",\"type\":\"X\"},{\"attributes\":{\"callback\":null},\"id\":\"1867\",\"type\":\"DataRange1d\"},{\"attributes\":{\"fill_alpha\":{\"value\":0.1},\"fill_color\":{\"value\":\"#1f77b4\"},\"line_alpha\":{\"value\":0.1},\"line_color\":{\"value\":\"#1f77b4\"},\"x\":{\"field\":\"x\"},\"y\":{\"field\":\"y\"}},\"id\":\"1992\",\"type\":\"X\"},{\"attributes\":{},\"id\":\"1869\",\"type\":\"LinearScale\"},{\"attributes\":{\"data_source\":{\"id\":\"1990\",\"type\":\"ColumnDataSource\"},\"glyph\":{\"id\":\"1991\",\"type\":\"X\"},\"hover_glyph\":null,\"muted_glyph\":null,\"nonselection_glyph\":{\"id\":\"1992\",\"type\":\"X\"},\"selection_glyph\":null,\"view\":{\"id\":\"1994\",\"type\":\"CDSView\"}},\"id\":\"1993\",\"type\":\"GlyphRenderer\"}],\"root_ids\":[\"2239\"]},\"title\":\"Bokeh Application\",\"version\":\"1.0.4\"}};\n",
       "  var render_items = [{\"docid\":\"be6a09e7-a7e2-448a-a02b-7c594341f783\",\"roots\":{\"2239\":\"da91c9c7-67ae-4bcf-b5a1-54c66c396aba\"}}];\n",
       "  root.Bokeh.embed.embed_items_notebook(docs_json, render_items);\n",
       "\n",
       "  }\n",
       "  if (root.Bokeh !== undefined) {\n",
       "    embed_document(root);\n",
       "  } else {\n",
       "    var attempts = 0;\n",
       "    var timer = setInterval(function(root) {\n",
       "      if (root.Bokeh !== undefined) {\n",
       "        embed_document(root);\n",
       "        clearInterval(timer);\n",
       "      }\n",
       "      attempts++;\n",
       "      if (attempts > 100) {\n",
       "        console.log(\"Bokeh: ERROR: Unable to run BokehJS code because BokehJS library is missing\");\n",
       "        clearInterval(timer);\n",
       "      }\n",
       "    }, 10, root)\n",
       "  }\n",
       "})(window);"
      ],
      "application/vnd.bokehjs_exec.v0+json": ""
     },
     "metadata": {
      "application/vnd.bokehjs_exec.v0+json": {
       "id": "2239"
      }
     },
     "output_type": "display_data"
    },
    {
     "data": {
      "text/html": [
       "\n",
       "\n",
       "\n",
       "\n",
       "\n",
       "\n",
       "  <div class=\"bk-root\" id=\"b4ee1bf4-0a5a-4e6d-8d5c-bb64153c10ad\" data-root-id=\"2483\"></div>\n"
      ]
     },
     "metadata": {},
     "output_type": "display_data"
    },
    {
     "data": {
      "application/javascript": [
       "(function(root) {\n",
       "  function embed_document(root) {\n",
       "    \n",
       "  var docs_json = {\"8e785b13-5c87-4549-b41d-4b9f070056e3\":{\"roots\":{\"references\":[{\"attributes\":{\"below\":[{\"id\":\"2493\",\"type\":\"LogAxis\"}],\"left\":[{\"id\":\"2498\",\"type\":\"LogAxis\"}],\"plot_height\":400,\"plot_width\":990,\"renderers\":[{\"id\":\"2493\",\"type\":\"LogAxis\"},{\"id\":\"2497\",\"type\":\"Grid\"},{\"id\":\"2498\",\"type\":\"LogAxis\"},{\"id\":\"2502\",\"type\":\"Grid\"},{\"id\":\"2511\",\"type\":\"BoxAnnotation\"},{\"id\":\"2529\",\"type\":\"Legend\"},{\"id\":\"2521\",\"type\":\"GlyphRenderer\"},{\"id\":\"2534\",\"type\":\"GlyphRenderer\"},{\"id\":\"2548\",\"type\":\"GlyphRenderer\"}],\"title\":{\"id\":\"2482\",\"type\":\"Title\"},\"toolbar\":{\"id\":\"2509\",\"type\":\"Toolbar\"},\"x_range\":{\"id\":\"2485\",\"type\":\"DataRange1d\"},\"x_scale\":{\"id\":\"2489\",\"type\":\"LogScale\"},\"y_range\":{\"id\":\"2487\",\"type\":\"DataRange1d\"},\"y_scale\":{\"id\":\"2491\",\"type\":\"LogScale\"}},\"id\":\"2483\",\"subtype\":\"Figure\",\"type\":\"Plot\"},{\"attributes\":{\"fill_color\":{\"value\":\"blue\"},\"line_color\":{\"value\":\"blue\"},\"x\":{\"field\":\"x\"},\"y\":{\"field\":\"y\"}},\"id\":\"2532\",\"type\":\"X\"},{\"attributes\":{\"dimension\":1,\"plot\":{\"id\":\"2483\",\"subtype\":\"Figure\",\"type\":\"Plot\"},\"ticker\":{\"id\":\"2499\",\"type\":\"LogTicker\"}},\"id\":\"2502\",\"type\":\"Grid\"},{\"attributes\":{\"line_color\":\"#1f77b4\",\"x\":{\"field\":\"x\"},\"y\":{\"field\":\"y\"}},\"id\":\"2546\",\"type\":\"Line\"},{\"attributes\":{\"fill_alpha\":{\"value\":0.1},\"fill_color\":{\"value\":\"#1f77b4\"},\"line_alpha\":{\"value\":0.1},\"line_color\":{\"value\":\"#1f77b4\"},\"x\":{\"field\":\"x\"},\"y\":{\"field\":\"y\"}},\"id\":\"2520\",\"type\":\"X\"},{\"attributes\":{\"fill_alpha\":{\"value\":0.1},\"fill_color\":{\"value\":\"#1f77b4\"},\"line_alpha\":{\"value\":0.1},\"line_color\":{\"value\":\"#1f77b4\"},\"x\":{\"field\":\"x\"},\"y\":{\"field\":\"y\"}},\"id\":\"2533\",\"type\":\"X\"},{\"attributes\":{\"data_source\":{\"id\":\"2531\",\"type\":\"ColumnDataSource\"},\"glyph\":{\"id\":\"2532\",\"type\":\"X\"},\"hover_glyph\":null,\"muted_glyph\":null,\"nonselection_glyph\":{\"id\":\"2533\",\"type\":\"X\"},\"selection_glyph\":null,\"view\":{\"id\":\"2535\",\"type\":\"CDSView\"}},\"id\":\"2534\",\"type\":\"GlyphRenderer\"},{\"attributes\":{\"fill_color\":{\"value\":\"red\"},\"line_color\":{\"value\":\"red\"},\"x\":{\"field\":\"x\"},\"y\":{\"field\":\"y\"}},\"id\":\"2519\",\"type\":\"X\"},{\"attributes\":{\"callback\":null,\"data\":{\"x\":{\"__ndarray__\":\"ZAAAACwBAAC8AgAA6AMAALgLAABYGwAAECcAAA==\",\"dtype\":\"int32\",\"shape\":[7]},\"y\":[0.33663121010573205,0.1286099717946514,0.05734882995959678,0.04050624813494941,0.013692411327345111,0.005891743780813585,0.004127942911374305]},\"selected\":{\"id\":\"2558\",\"type\":\"Selection\"},\"selection_policy\":{\"id\":\"2557\",\"type\":\"UnionRenderers\"}},\"id\":\"2531\",\"type\":\"ColumnDataSource\"},{\"attributes\":{\"data_source\":{\"id\":\"2518\",\"type\":\"ColumnDataSource\"},\"glyph\":{\"id\":\"2519\",\"type\":\"X\"},\"hover_glyph\":null,\"muted_glyph\":null,\"nonselection_glyph\":{\"id\":\"2520\",\"type\":\"X\"},\"selection_glyph\":null,\"view\":{\"id\":\"2522\",\"type\":\"CDSView\"}},\"id\":\"2521\",\"type\":\"GlyphRenderer\"},{\"attributes\":{\"source\":{\"id\":\"2531\",\"type\":\"ColumnDataSource\"}},\"id\":\"2535\",\"type\":\"CDSView\"},{\"attributes\":{},\"id\":\"2503\",\"type\":\"PanTool\"},{\"attributes\":{},\"id\":\"2541\",\"type\":\"UnionRenderers\"},{\"attributes\":{},\"id\":\"2504\",\"type\":\"WheelZoomTool\"},{\"attributes\":{},\"id\":\"2542\",\"type\":\"Selection\"},{\"attributes\":{\"overlay\":{\"id\":\"2511\",\"type\":\"BoxAnnotation\"}},\"id\":\"2505\",\"type\":\"BoxZoomTool\"},{\"attributes\":{\"label\":{\"value\":\"Erreur pratique - implicite\"},\"renderers\":[{\"id\":\"2534\",\"type\":\"GlyphRenderer\"}]},\"id\":\"2544\",\"type\":\"LegendItem\"},{\"attributes\":{},\"id\":\"2506\",\"type\":\"SaveTool\"},{\"attributes\":{\"num_minor_ticks\":10},\"id\":\"2494\",\"type\":\"LogTicker\"},{\"attributes\":{},\"id\":\"2507\",\"type\":\"ResetTool\"},{\"attributes\":{\"data_source\":{\"id\":\"2545\",\"type\":\"ColumnDataSource\"},\"glyph\":{\"id\":\"2546\",\"type\":\"Line\"},\"hover_glyph\":null,\"muted_glyph\":null,\"nonselection_glyph\":{\"id\":\"2547\",\"type\":\"Line\"},\"selection_glyph\":null,\"view\":{\"id\":\"2549\",\"type\":\"CDSView\"}},\"id\":\"2548\",\"type\":\"GlyphRenderer\"},{\"attributes\":{},\"id\":\"2508\",\"type\":\"HelpTool\"},{\"attributes\":{\"axis_label\":\"nombre de subdivisions\",\"formatter\":{\"id\":\"2524\",\"type\":\"LogTickFormatter\"},\"plot\":{\"id\":\"2483\",\"subtype\":\"Figure\",\"type\":\"Plot\"},\"ticker\":{\"id\":\"2494\",\"type\":\"LogTicker\"}},\"id\":\"2493\",\"type\":\"LogAxis\"},{\"attributes\":{\"source\":{\"id\":\"2545\",\"type\":\"ColumnDataSource\"}},\"id\":\"2549\",\"type\":\"CDSView\"},{\"attributes\":{\"callback\":null,\"data\":{\"x\":{\"__ndarray__\":\"ZAAAACwBAAC8AgAA6AMAALgLAABYGwAAECcAAA==\",\"dtype\":\"int32\",\"shape\":[7]},\"y\":[0.49060285075540444,0.1415165766867209,0.05825971388200468,0.040417765440036946,0.013286357663992554,0.0056716272895774855,0.003966601160944494]},\"selected\":{\"id\":\"2542\",\"type\":\"Selection\"},\"selection_policy\":{\"id\":\"2541\",\"type\":\"UnionRenderers\"}},\"id\":\"2518\",\"type\":\"ColumnDataSource\"},{\"attributes\":{\"active_drag\":\"auto\",\"active_inspect\":\"auto\",\"active_multi\":null,\"active_scroll\":\"auto\",\"active_tap\":\"auto\",\"tools\":[{\"id\":\"2503\",\"type\":\"PanTool\"},{\"id\":\"2504\",\"type\":\"WheelZoomTool\"},{\"id\":\"2505\",\"type\":\"BoxZoomTool\"},{\"id\":\"2506\",\"type\":\"SaveTool\"},{\"id\":\"2507\",\"type\":\"ResetTool\"},{\"id\":\"2508\",\"type\":\"HelpTool\"}]},\"id\":\"2509\",\"type\":\"Toolbar\"},{\"attributes\":{},\"id\":\"2557\",\"type\":\"UnionRenderers\"},{\"attributes\":{\"callback\":null},\"id\":\"2485\",\"type\":\"DataRange1d\"},{\"attributes\":{\"num_minor_ticks\":10},\"id\":\"2499\",\"type\":\"LogTicker\"},{\"attributes\":{},\"id\":\"2558\",\"type\":\"Selection\"},{\"attributes\":{\"bottom_units\":\"screen\",\"fill_alpha\":{\"value\":0.5},\"fill_color\":{\"value\":\"lightgrey\"},\"left_units\":\"screen\",\"level\":\"overlay\",\"line_alpha\":{\"value\":1.0},\"line_color\":{\"value\":\"black\"},\"line_dash\":[4,4],\"line_width\":{\"value\":2},\"plot\":null,\"render_mode\":\"css\",\"right_units\":\"screen\",\"top_units\":\"screen\"},\"id\":\"2511\",\"type\":\"BoxAnnotation\"},{\"attributes\":{\"label\":{\"value\":\"Ordre 1\"},\"renderers\":[{\"id\":\"2548\",\"type\":\"GlyphRenderer\"}]},\"id\":\"2560\",\"type\":\"LegendItem\"},{\"attributes\":{},\"id\":\"2491\",\"type\":\"LogScale\"},{\"attributes\":{\"source\":{\"id\":\"2518\",\"type\":\"ColumnDataSource\"}},\"id\":\"2522\",\"type\":\"CDSView\"},{\"attributes\":{},\"id\":\"2668\",\"type\":\"UnionRenderers\"},{\"attributes\":{\"ticker\":null},\"id\":\"2524\",\"type\":\"LogTickFormatter\"},{\"attributes\":{\"callback\":null},\"id\":\"2487\",\"type\":\"DataRange1d\"},{\"attributes\":{\"callback\":null,\"data\":{\"x\":{\"__ndarray__\":\"ZAAAACwBAAC8AgAA6AMAALgLAABYGwAAECcAAA==\",\"dtype\":\"int32\",\"shape\":[7]},\"y\":{\"__ndarray__\":\"exSuR+F6hD9PG+i0gU5rP7GpNOTcZ1c//Knx0k1iUD+l4uzDZ9g1P45UXYN9uSI/LUMc6+I2Gj8=\",\"dtype\":\"float64\",\"shape\":[7]}},\"selected\":{\"id\":\"2669\",\"type\":\"Selection\"},\"selection_policy\":{\"id\":\"2668\",\"type\":\"UnionRenderers\"}},\"id\":\"2545\",\"type\":\"ColumnDataSource\"},{\"attributes\":{},\"id\":\"2489\",\"type\":\"LogScale\"},{\"attributes\":{},\"id\":\"2669\",\"type\":\"Selection\"},{\"attributes\":{\"ticker\":null},\"id\":\"2526\",\"type\":\"LogTickFormatter\"},{\"attributes\":{\"plot\":null,\"text\":\"Erreur commise sur la m\\u00e9thode d'Euler\"},\"id\":\"2482\",\"type\":\"Title\"},{\"attributes\":{\"items\":[{\"id\":\"2530\",\"type\":\"LegendItem\"},{\"id\":\"2544\",\"type\":\"LegendItem\"},{\"id\":\"2560\",\"type\":\"LegendItem\"}],\"location\":\"top_right\",\"plot\":{\"id\":\"2483\",\"subtype\":\"Figure\",\"type\":\"Plot\"}},\"id\":\"2529\",\"type\":\"Legend\"},{\"attributes\":{\"axis_label\":\"Erreur commise sur la position\",\"formatter\":{\"id\":\"2526\",\"type\":\"LogTickFormatter\"},\"plot\":{\"id\":\"2483\",\"subtype\":\"Figure\",\"type\":\"Plot\"},\"ticker\":{\"id\":\"2499\",\"type\":\"LogTicker\"}},\"id\":\"2498\",\"type\":\"LogAxis\"},{\"attributes\":{\"plot\":{\"id\":\"2483\",\"subtype\":\"Figure\",\"type\":\"Plot\"},\"ticker\":{\"id\":\"2494\",\"type\":\"LogTicker\"}},\"id\":\"2497\",\"type\":\"Grid\"},{\"attributes\":{\"label\":{\"value\":\"Erreur pratique - explicite\"},\"renderers\":[{\"id\":\"2521\",\"type\":\"GlyphRenderer\"}]},\"id\":\"2530\",\"type\":\"LegendItem\"},{\"attributes\":{\"line_alpha\":0.1,\"line_color\":\"#1f77b4\",\"x\":{\"field\":\"x\"},\"y\":{\"field\":\"y\"}},\"id\":\"2547\",\"type\":\"Line\"}],\"root_ids\":[\"2483\"]},\"title\":\"Bokeh Application\",\"version\":\"1.0.4\"}};\n",
       "  var render_items = [{\"docid\":\"8e785b13-5c87-4549-b41d-4b9f070056e3\",\"roots\":{\"2483\":\"b4ee1bf4-0a5a-4e6d-8d5c-bb64153c10ad\"}}];\n",
       "  root.Bokeh.embed.embed_items_notebook(docs_json, render_items);\n",
       "\n",
       "  }\n",
       "  if (root.Bokeh !== undefined) {\n",
       "    embed_document(root);\n",
       "  } else {\n",
       "    var attempts = 0;\n",
       "    var timer = setInterval(function(root) {\n",
       "      if (root.Bokeh !== undefined) {\n",
       "        embed_document(root);\n",
       "        clearInterval(timer);\n",
       "      }\n",
       "      attempts++;\n",
       "      if (attempts > 100) {\n",
       "        console.log(\"Bokeh: ERROR: Unable to run BokehJS code because BokehJS library is missing\");\n",
       "        clearInterval(timer);\n",
       "      }\n",
       "    }, 10, root)\n",
       "  }\n",
       "})(window);"
      ],
      "application/vnd.bokehjs_exec.v0+json": ""
     },
     "metadata": {
      "application/vnd.bokehjs_exec.v0+json": {
       "id": "2483"
      }
     },
     "output_type": "display_data"
    }
   ],
   "source": [
    "def f(t,y):\n",
    "    return(np.array([y[1],-y[0]]))\n",
    "\n",
    "def H(p,q):\n",
    "    return 0.5 * (p*p+q*q)\n",
    "\n",
    "def solutionq(t):\n",
    "    return np.sin(t)\n",
    "\n",
    "def solutionp(t):\n",
    "    return np.cos(t) \n",
    "\n",
    "t0=0\n",
    "y0=np.array([0,1])\n",
    "tf=10\n",
    "nt=100\n",
    "\n",
    "h=(tf-t0)/(nt-1) # attention au nt-1\n",
    "A=1/(1+(h*h)) * np.array([[1,h],[-h,1]]) # définition de A en accord avec ce qui précède.\n",
    "\n",
    "# affichage\n",
    "T=np.linspace(t0,tf,nt)\n",
    "Yrk=euler_explicite(f,t0,tf,nt,y0)\n",
    "Yrki=euler_implicite(A,t0,tf,nt,y0)\n",
    "Ythq=solutionq(T)\n",
    "Ythp=solutionp(T)\n",
    "\n",
    "fig1 = figure(width=500, height=300, title=\"Position par Euler explicite : \"+ str(nt) + \" points\")\n",
    "fig1.x(T,Yrk[:,0],color='red',legend=\"Euler Explicite\")\n",
    "fig1.x(T,Yrki[:,0],color='blue',legend=\"Euler Implicite\")\n",
    "fig1.x(T,Ythq,color=\"green\",legend=\"solution exacte\")\n",
    "fig1.xaxis.axis_label = \"temps\"\n",
    "fig1.yaxis.axis_label = \"position\"\n",
    "\n",
    "fig2 = figure(width=500, height=300, title=\"Vitesse par Euler explicite : \"+ str(nt) + \" points\")\n",
    "fig2.x(T,Yrk[:,1],color='red',legend=\"Euler Explicite\")\n",
    "fig2.x(T,Yrki[:,1],color='blue',legend=\"Euler Implicite\")\n",
    "fig2.x(T,Ythp,color=\"green\",legend=\"solution exacte\")\n",
    "fig2.xaxis.axis_label = \"temps\"\n",
    "fig2.yaxis.axis_label = \"Vitesse\"\n",
    "\n",
    "He=[H(y[0],y[1]) for y in Yrk]\n",
    "Hi=[H(y[0],y[1]) for y in Yrki]\n",
    "Hth=[0.5*(Ythq[k]**2+Ythp[k]**2) for k in range(len(Ythq))]\n",
    "fig3 = figure(width=500, height=300, title=\"Hamiltonien par Euler explicite : \"+ str(nt) + \" points\")\n",
    "fig3.x(T,He,color='red',legend=\"Euler Explicite\")\n",
    "fig3.x(T,Hi,color='blue',legend=\"Euler Implicite\")\n",
    "fig3.x(T,Hth,color=\"green\",legend=\"solution exacte\")\n",
    "\n",
    "fig3.xaxis.axis_label = \"temps\"\n",
    "fig3.yaxis.axis_label = \"hamiltonien\"\n",
    "\n",
    "fig4 = figure(width=500, height=300, title=\"Portrait de phase par Euler explicite : \"+ str(nt) + \" points\")\n",
    "fig4.x(Yrk[:,0],Yrk[:,1],color=\"blue\",legend=\"Euler Explicite\")\n",
    "fig4.x(Yrki[:,0],Yrki[:,1],color=\"red\",legend=\"Euler Implicite\")\n",
    "fig4.x(Ythq,Ythp,color=\"green\",legend=\"Solution exacte\")\n",
    "fig4.xaxis.axis_label = \"position\"\n",
    "fig4.yaxis.axis_label = \"vitesse\"\n",
    "\n",
    "fig1.legend.location = \"bottom_left\"\n",
    "fig2.legend.location = \"bottom_left\"\n",
    "fig3.legend.location = \"top_left\"\n",
    "fig4.legend.location = \"bottom_left\"\n",
    "\n",
    "show(row(fig1,fig2))\n",
    "show(row(fig3,fig4))\n",
    "\n",
    "\n",
    "# étude de l'erreur pour plusieurs n:\n",
    "\n",
    "Nt=10*np.array([10,30,70,100,300,700,1000]) \n",
    "ErrI=[]\n",
    "ErrE=[]\n",
    "for n in Nt:\n",
    "    T=np.linspace(t0,tf,n+1)\n",
    "    YrkE=euler_explicite(f,t0,tf,n+1,y0)  # n+1 points, n intervalles\n",
    "  \n",
    "    h=(tf-t0)/(n-1) # attention au nt-1\n",
    "    A=1/(1+(h*h)) * np.array([[1,h],[-h,1]]) # définition de A en accord avec ce qui précède.\n",
    "    YrkI=euler_implicite(A,t0,tf,n+1,y0)  \n",
    "    \n",
    "    Yth=solutionq(T)\n",
    "    \n",
    "    errE=abs(YrkE[:,0]-Yth)\n",
    "    ErrE.append(np.max(errE))# on ne prend que le max (sera tout le temps le dernier)\n",
    "    \n",
    "    errI=abs(YrkI[:,0]-Yth)\n",
    "    ErrI.append(np.max(errI))\n",
    "\n",
    "\n",
    "\n",
    "fig5 = figure(width=990, height=400,x_axis_type=\"log\",y_axis_type=\"log\",title=\"Erreur commise sur la méthode d'Euler\")\n",
    "fig5.x(Nt, ErrE,legend=\"Erreur pratique - explicite\",color=\"red\")\n",
    "fig5.x(Nt, ErrI,legend=\"Erreur pratique - implicite\",color=\"blue\")\n",
    "fig5.xaxis.axis_label = \"nombre de subdivisions\"\n",
    "fig5.yaxis.axis_label = \"Erreur commise sur la position\"\n",
    "fig5.legend.location = \"top_left\"\n",
    "\n",
    "# tracé de quelques droites: ordres 1, 2, 3 et 4 représentés ici\n",
    "\n",
    "fig5.line(Nt,1/Nt,legend=\"Ordre 1\")\n",
    "fig5.legend.location = \"top_right\"\n",
    "\n",
    "\n",
    "show(fig5)"
   ]
  },
  {
   "cell_type": "markdown",
   "metadata": {},
   "source": [
    "On remarque que les deux méthodes ne proposent pas des convergence très satisfaisantes. Sur le dernier graphe, on confirme la convergence d'ordre 1 (cela dit pas à un nombre de subdivisions trop faible devant les variations de la fonction pour l'intervalle considéré, il faut toujours un mimimum de points. Cela fait penser au critère de Shannon en physique).\n",
    "\n",
    "L'hamiltonien n'est conservé pour aucun des deux schéma. Pour Euler-explicite, on trouve une croissance qui est confortée par l'expression trouvée par le calcul: $H_{n+1}=(1+h^2) H_n$ contre $H_{n+1}=\\frac{1}{1+h^2} H_n$ pour le schéma Euler-explicite, ce qui conforte la décroissance.\n",
    "\n",
    "Afin de tester ces expressions théoriques et la validité de nos résultats, nous allons faire varier le pas et étudier numériquement la dérive de $H_n$ par rapport à $H_0=0.5$ (pour nos conditions initiales), cela donnant donc: $H_{n}=(1+h^2)^n H_0$, donc avec $h=\\frac{1}{n^2}$ $H_{n}-H_0=((1+\\frac{1}{n^2})^n -1) H_0 \\sim \\frac{H_0}{n} $"
   ]
  },
  {
   "cell_type": "code",
   "execution_count": 9,
   "metadata": {},
   "outputs": [
    {
     "data": {
      "text/html": [
       "\n",
       "\n",
       "\n",
       "\n",
       "\n",
       "\n",
       "  <div class=\"bk-root\" id=\"d2e8afeb-ea4d-4478-b3a7-501b0abd063a\" data-root-id=\"2744\"></div>\n"
      ]
     },
     "metadata": {},
     "output_type": "display_data"
    },
    {
     "data": {
      "application/javascript": [
       "(function(root) {\n",
       "  function embed_document(root) {\n",
       "    \n",
       "  var docs_json = {\"398b3048-8d4d-44d3-a517-56986601785a\":{\"roots\":{\"references\":[{\"attributes\":{\"below\":[{\"id\":\"2754\",\"type\":\"LogAxis\"}],\"left\":[{\"id\":\"2759\",\"type\":\"LogAxis\"}],\"plot_height\":400,\"plot_width\":990,\"renderers\":[{\"id\":\"2754\",\"type\":\"LogAxis\"},{\"id\":\"2758\",\"type\":\"Grid\"},{\"id\":\"2759\",\"type\":\"LogAxis\"},{\"id\":\"2763\",\"type\":\"Grid\"},{\"id\":\"2772\",\"type\":\"BoxAnnotation\"},{\"id\":\"2790\",\"type\":\"Legend\"},{\"id\":\"2782\",\"type\":\"GlyphRenderer\"},{\"id\":\"2795\",\"type\":\"GlyphRenderer\"},{\"id\":\"2809\",\"type\":\"GlyphRenderer\"}],\"title\":{\"id\":\"2743\",\"type\":\"Title\"},\"toolbar\":{\"id\":\"2770\",\"type\":\"Toolbar\"},\"x_range\":{\"id\":\"2746\",\"type\":\"DataRange1d\"},\"x_scale\":{\"id\":\"2750\",\"type\":\"LogScale\"},\"y_range\":{\"id\":\"2748\",\"type\":\"DataRange1d\"},\"y_scale\":{\"id\":\"2752\",\"type\":\"LogScale\"}},\"id\":\"2744\",\"subtype\":\"Figure\",\"type\":\"Plot\"},{\"attributes\":{\"label\":{\"value\":\"Erreur pratique - euler implicite\"},\"renderers\":[{\"id\":\"2795\",\"type\":\"GlyphRenderer\"}]},\"id\":\"2805\",\"type\":\"LegendItem\"},{\"attributes\":{\"ticker\":null},\"id\":\"2787\",\"type\":\"LogTickFormatter\"},{\"attributes\":{\"callback\":null,\"data\":{\"x\":{\"__ndarray__\":\"ZAAAACwBAAC8AgAA6AMAALgLAABYGwAAECcAAA==\",\"dtype\":\"int32\",\"shape\":[7]},\"y\":{\"__ndarray__\":\"exSuR+F6hD9PG+i0gU5rP7GpNOTcZ1c//Knx0k1iUD+l4uzDZ9g1P45UXYN9uSI/LUMc6+I2Gj8=\",\"dtype\":\"float64\",\"shape\":[7]}},\"selected\":{\"id\":\"2931\",\"type\":\"Selection\"},\"selection_policy\":{\"id\":\"2930\",\"type\":\"UnionRenderers\"}},\"id\":\"2806\",\"type\":\"ColumnDataSource\"},{\"attributes\":{\"fill_alpha\":{\"value\":0.1},\"fill_color\":{\"value\":\"#1f77b4\"},\"line_alpha\":{\"value\":0.1},\"line_color\":{\"value\":\"#1f77b4\"},\"x\":{\"field\":\"x\"},\"y\":{\"field\":\"y\"}},\"id\":\"2781\",\"type\":\"X\"},{\"attributes\":{\"callback\":null,\"data\":{\"x\":{\"__ndarray__\":\"ZAAAACwBAAC8AgAA6AMAALgLAABYGwAAECcAAA==\",\"dtype\":\"int32\",\"shape\":[7]},\"y\":[0.8524069147107629,0.19767709675835743,0.07677409074445185,0.05258269630161605,0.016947461026475152,0.007194113982034511,0.005025081016955424]},\"selected\":{\"id\":\"2803\",\"type\":\"Selection\"},\"selection_policy\":{\"id\":\"2802\",\"type\":\"UnionRenderers\"}},\"id\":\"2779\",\"type\":\"ColumnDataSource\"},{\"attributes\":{\"line_color\":\"#1f77b4\",\"x\":{\"field\":\"x\"},\"y\":{\"field\":\"y\"}},\"id\":\"2807\",\"type\":\"Line\"},{\"attributes\":{},\"id\":\"2764\",\"type\":\"PanTool\"},{\"attributes\":{},\"id\":\"2765\",\"type\":\"WheelZoomTool\"},{\"attributes\":{\"line_alpha\":0.1,\"line_color\":\"#1f77b4\",\"x\":{\"field\":\"x\"},\"y\":{\"field\":\"y\"}},\"id\":\"2808\",\"type\":\"Line\"},{\"attributes\":{\"fill_color\":{\"value\":\"red\"},\"line_color\":{\"value\":\"red\"},\"x\":{\"field\":\"x\"},\"y\":{\"field\":\"y\"}},\"id\":\"2780\",\"type\":\"X\"},{\"attributes\":{},\"id\":\"2803\",\"type\":\"Selection\"},{\"attributes\":{},\"id\":\"2750\",\"type\":\"LogScale\"},{\"attributes\":{\"data_source\":{\"id\":\"2806\",\"type\":\"ColumnDataSource\"},\"glyph\":{\"id\":\"2807\",\"type\":\"Line\"},\"hover_glyph\":null,\"muted_glyph\":null,\"nonselection_glyph\":{\"id\":\"2808\",\"type\":\"Line\"},\"selection_glyph\":null,\"view\":{\"id\":\"2810\",\"type\":\"CDSView\"}},\"id\":\"2809\",\"type\":\"GlyphRenderer\"},{\"attributes\":{\"overlay\":{\"id\":\"2772\",\"type\":\"BoxAnnotation\"}},\"id\":\"2766\",\"type\":\"BoxZoomTool\"},{\"attributes\":{\"callback\":null},\"id\":\"2746\",\"type\":\"DataRange1d\"},{\"attributes\":{\"ticker\":null},\"id\":\"2785\",\"type\":\"LogTickFormatter\"},{\"attributes\":{\"callback\":null},\"id\":\"2748\",\"type\":\"DataRange1d\"},{\"attributes\":{\"source\":{\"id\":\"2806\",\"type\":\"ColumnDataSource\"}},\"id\":\"2810\",\"type\":\"CDSView\"},{\"attributes\":{},\"id\":\"2767\",\"type\":\"SaveTool\"},{\"attributes\":{},\"id\":\"2768\",\"type\":\"ResetTool\"},{\"attributes\":{\"plot\":null,\"text\":\"Erreur commise sur les m\\u00e9thodes d'Euler\"},\"id\":\"2743\",\"type\":\"Title\"},{\"attributes\":{},\"id\":\"2769\",\"type\":\"HelpTool\"},{\"attributes\":{},\"id\":\"2929\",\"type\":\"Selection\"},{\"attributes\":{\"active_drag\":\"auto\",\"active_inspect\":\"auto\",\"active_multi\":null,\"active_scroll\":\"auto\",\"active_tap\":\"auto\",\"tools\":[{\"id\":\"2764\",\"type\":\"PanTool\"},{\"id\":\"2765\",\"type\":\"WheelZoomTool\"},{\"id\":\"2766\",\"type\":\"BoxZoomTool\"},{\"id\":\"2767\",\"type\":\"SaveTool\"},{\"id\":\"2768\",\"type\":\"ResetTool\"},{\"id\":\"2769\",\"type\":\"HelpTool\"}]},\"id\":\"2770\",\"type\":\"Toolbar\"},{\"attributes\":{},\"id\":\"2930\",\"type\":\"UnionRenderers\"},{\"attributes\":{\"axis_label\":\"nombre de subdivisions\",\"formatter\":{\"id\":\"2785\",\"type\":\"LogTickFormatter\"},\"plot\":{\"id\":\"2744\",\"subtype\":\"Figure\",\"type\":\"Plot\"},\"ticker\":{\"id\":\"2755\",\"type\":\"LogTicker\"}},\"id\":\"2754\",\"type\":\"LogAxis\"},{\"attributes\":{\"items\":[{\"id\":\"2791\",\"type\":\"LegendItem\"},{\"id\":\"2805\",\"type\":\"LegendItem\"}],\"plot\":{\"id\":\"2744\",\"subtype\":\"Figure\",\"type\":\"Plot\"}},\"id\":\"2790\",\"type\":\"Legend\"},{\"attributes\":{},\"id\":\"2931\",\"type\":\"Selection\"},{\"attributes\":{},\"id\":\"2752\",\"type\":\"LogScale\"},{\"attributes\":{\"bottom_units\":\"screen\",\"fill_alpha\":{\"value\":0.5},\"fill_color\":{\"value\":\"lightgrey\"},\"left_units\":\"screen\",\"level\":\"overlay\",\"line_alpha\":{\"value\":1.0},\"line_color\":{\"value\":\"black\"},\"line_dash\":[4,4],\"line_width\":{\"value\":2},\"plot\":null,\"render_mode\":\"css\",\"right_units\":\"screen\",\"top_units\":\"screen\"},\"id\":\"2772\",\"type\":\"BoxAnnotation\"},{\"attributes\":{\"num_minor_ticks\":10},\"id\":\"2755\",\"type\":\"LogTicker\"},{\"attributes\":{\"label\":{\"value\":\"Erreur pratique - euler explicite\"},\"renderers\":[{\"id\":\"2782\",\"type\":\"GlyphRenderer\"}]},\"id\":\"2791\",\"type\":\"LegendItem\"},{\"attributes\":{\"plot\":{\"id\":\"2744\",\"subtype\":\"Figure\",\"type\":\"Plot\"},\"ticker\":{\"id\":\"2755\",\"type\":\"LogTicker\"}},\"id\":\"2758\",\"type\":\"Grid\"},{\"attributes\":{\"axis_label\":\"Erreur commise\",\"formatter\":{\"id\":\"2787\",\"type\":\"LogTickFormatter\"},\"plot\":{\"id\":\"2744\",\"subtype\":\"Figure\",\"type\":\"Plot\"},\"ticker\":{\"id\":\"2760\",\"type\":\"LogTicker\"}},\"id\":\"2759\",\"type\":\"LogAxis\"},{\"attributes\":{\"fill_color\":{\"value\":\"blue\"},\"line_color\":{\"value\":\"blue\"},\"x\":{\"field\":\"x\"},\"y\":{\"field\":\"y\"}},\"id\":\"2793\",\"type\":\"X\"},{\"attributes\":{},\"id\":\"2928\",\"type\":\"UnionRenderers\"},{\"attributes\":{\"source\":{\"id\":\"2779\",\"type\":\"ColumnDataSource\"}},\"id\":\"2783\",\"type\":\"CDSView\"},{\"attributes\":{\"fill_alpha\":{\"value\":0.1},\"fill_color\":{\"value\":\"#1f77b4\"},\"line_alpha\":{\"value\":0.1},\"line_color\":{\"value\":\"#1f77b4\"},\"x\":{\"field\":\"x\"},\"y\":{\"field\":\"y\"}},\"id\":\"2794\",\"type\":\"X\"},{\"attributes\":{\"callback\":null,\"data\":{\"x\":{\"__ndarray__\":\"ZAAAACwBAAC8AgAA6AMAALgLAABYGwAAECcAAA==\",\"dtype\":\"int32\",\"shape\":[7]},\"y\":[0.4346892413395486,0.2470637388967712,0.1266895751433007,0.09249322382880243,0.03295729155556537,0.014400269833087731,0.01012430296496214]},\"selected\":{\"id\":\"2929\",\"type\":\"Selection\"},\"selection_policy\":{\"id\":\"2928\",\"type\":\"UnionRenderers\"}},\"id\":\"2792\",\"type\":\"ColumnDataSource\"},{\"attributes\":{\"data_source\":{\"id\":\"2792\",\"type\":\"ColumnDataSource\"},\"glyph\":{\"id\":\"2793\",\"type\":\"X\"},\"hover_glyph\":null,\"muted_glyph\":null,\"nonselection_glyph\":{\"id\":\"2794\",\"type\":\"X\"},\"selection_glyph\":null,\"view\":{\"id\":\"2796\",\"type\":\"CDSView\"}},\"id\":\"2795\",\"type\":\"GlyphRenderer\"},{\"attributes\":{\"source\":{\"id\":\"2792\",\"type\":\"ColumnDataSource\"}},\"id\":\"2796\",\"type\":\"CDSView\"},{\"attributes\":{},\"id\":\"2802\",\"type\":\"UnionRenderers\"},{\"attributes\":{\"num_minor_ticks\":10},\"id\":\"2760\",\"type\":\"LogTicker\"},{\"attributes\":{\"dimension\":1,\"plot\":{\"id\":\"2744\",\"subtype\":\"Figure\",\"type\":\"Plot\"},\"ticker\":{\"id\":\"2760\",\"type\":\"LogTicker\"}},\"id\":\"2763\",\"type\":\"Grid\"},{\"attributes\":{\"data_source\":{\"id\":\"2779\",\"type\":\"ColumnDataSource\"},\"glyph\":{\"id\":\"2780\",\"type\":\"X\"},\"hover_glyph\":null,\"muted_glyph\":null,\"nonselection_glyph\":{\"id\":\"2781\",\"type\":\"X\"},\"selection_glyph\":null,\"view\":{\"id\":\"2783\",\"type\":\"CDSView\"}},\"id\":\"2782\",\"type\":\"GlyphRenderer\"}],\"root_ids\":[\"2744\"]},\"title\":\"Bokeh Application\",\"version\":\"1.0.4\"}};\n",
       "  var render_items = [{\"docid\":\"398b3048-8d4d-44d3-a517-56986601785a\",\"roots\":{\"2744\":\"d2e8afeb-ea4d-4478-b3a7-501b0abd063a\"}}];\n",
       "  root.Bokeh.embed.embed_items_notebook(docs_json, render_items);\n",
       "\n",
       "  }\n",
       "  if (root.Bokeh !== undefined) {\n",
       "    embed_document(root);\n",
       "  } else {\n",
       "    var attempts = 0;\n",
       "    var timer = setInterval(function(root) {\n",
       "      if (root.Bokeh !== undefined) {\n",
       "        embed_document(root);\n",
       "        clearInterval(timer);\n",
       "      }\n",
       "      attempts++;\n",
       "      if (attempts > 100) {\n",
       "        console.log(\"Bokeh: ERROR: Unable to run BokehJS code because BokehJS library is missing\");\n",
       "        clearInterval(timer);\n",
       "      }\n",
       "    }, 10, root)\n",
       "  }\n",
       "})(window);"
      ],
      "application/vnd.bokehjs_exec.v0+json": ""
     },
     "metadata": {
      "application/vnd.bokehjs_exec.v0+json": {
       "id": "2744"
      }
     },
     "output_type": "display_data"
    }
   ],
   "source": [
    "Nt=10*np.array([10,30,70,100,300,700,1000]) \n",
    "ErrE=[]\n",
    "ErrI=[]\n",
    "Hv=[]\n",
    "H0=0.5 # avec les conditions initiales\n",
    "for n in Nt:\n",
    "    T=np.linspace(t0,tf,n+1)\n",
    "    h=(tf-t0)/n\n",
    "    A=1/(1+(h*h)) * np.array([[1,h],[-h,1-h*h]]) # définition de A en accord avec ce qui précède.\n",
    "    \n",
    "    Yrk=euler_explicite(f,t0,tf,n+1,y0)\n",
    "    Yrki=euler_implicite(A,t0,tf,n+1,y0)\n",
    "    Yth=np.exp(T)\n",
    "    \n",
    "    ye,yi=Yrk[-1],Yrki[-1]\n",
    "    \n",
    "    errE=abs(H(ye[0],ye[1])-H0) # H le hamiltonien\n",
    "    errI=abs(H(yi[0],yi[1])-H0)\n",
    "    \n",
    "    ErrE.append(errE)\n",
    "    ErrI.append(errI)\n",
    "    \n",
    "    Hv.append(h)\n",
    "    \n",
    "Hv=np.array(Hv)\n",
    "\n",
    "\n",
    "fig = figure(width=990, height=400,x_axis_type=\"log\",y_axis_type=\"log\",title=\"Erreur commise sur les méthodes d'Euler\")\n",
    "fig.x(Nt, ErrE,legend=\"Erreur pratique - euler explicite\",color=\"red\")\n",
    "fig.x(Nt, ErrI,legend=\"Erreur pratique - euler implicite\",color=\"blue\")\n",
    "fig.xaxis.axis_label = \"nombre de subdivisions\"\n",
    "fig.yaxis.axis_label = \"Erreur commise\"\n",
    "fig.legend.location = \"top_right\"\n",
    "\n",
    "# tracé de quelques droites: ordres 1, 2, 3 et 4 représentés ici\n",
    "\n",
    "fig.line(Nt,1/Nt)\n",
    "#fig.line(Hv,Hv**2,color=\"green\",legend=\"ordre 2\")\n",
    "#fig.line(Hv,Hv**3)\n",
    "\n",
    "\n",
    "show(fig)"
   ]
  },
  {
   "cell_type": "markdown",
   "metadata": {},
   "source": [
    "On est donc très content d'observer une décroissance d'ordre 1 par rapport au nombre de subdivisions. "
   ]
  },
  {
   "cell_type": "markdown",
   "metadata": {},
   "source": [
    "## Schéma d'ordre élevé"
   ]
  },
  {
   "cell_type": "markdown",
   "metadata": {},
   "source": [
    "**Appliquer le schéma RK2 (décrit dans l'exercice précédent) au système de l'ocillateur harmonique. Comparer les résultats $p_n$, $q_n$ et $\\mathcal{H}(q_n,p_n)$ avec ceux obtenus à la question précédente. Commenter les résultats obtenus.***\n",
    "\n",
    "# A faire: mettre sur un même graphe avec ce qui précède pour pouvoir comparer "
   ]
  },
  {
   "cell_type": "code",
   "execution_count": 10,
   "metadata": {},
   "outputs": [],
   "source": [
    "def update_rk2(f, t, y, h):\n",
    "    \"\"\"retourne l'approximation yn+1 de y au temps tn+1 = tn + h avec une méthode de Runge-Kutta d'ordre 2\n",
    "    \n",
    "    Parameters\n",
    "    ----------\n",
    "    f : fonction f(t,y) second membre de l'EDO\n",
    "    t : temps tn\n",
    "    y : valeur de yn\n",
    "    h : pas de temps\n",
    "    \n",
    "    Returns\n",
    "    -------\n",
    "    ynp1 : valeur de yn+1\n",
    "    \"\"\"\n",
    "    ynp1=y+h*f(t+h*0.5,y+h*f(t,y)*0.5)\n",
    "    \n",
    "    return ynp1\n",
    "\n",
    "\n",
    "def rk2(f, tini, tend, nt, yini):\n",
    "    \"\"\"retourne le vecteur contenant les valeurs des yn en appelant update_rk2\n",
    "    \n",
    "    Parameters\n",
    "    ----------\n",
    "    f : fonction f(t,y) second membre de l'EDO\n",
    "    tini : temps initial\n",
    "    tend : temps final\n",
    "    nt : dimension du vecteur de sortie\n",
    "    yini : valeur initiale y(tini)\n",
    "    \n",
    "    Returns\n",
    "    -------\n",
    "    y : vecteur les nt valeurs yn\n",
    "    \"\"\"\n",
    "    \n",
    "    h=(tend-tini)/(nt-1) # attention nt est la dimension finale du vecteur. \n",
    "                     # Or pour n-1 intervalle il y a n points, il faut donc rentrer n-1 ici \n",
    "    t0=tini\n",
    "    \n",
    "    y=np.zeros((nt,2))\n",
    "    y[0]=yini\n",
    "    \n",
    "    for k in range(1,nt):\n",
    "        y[k]=update_rk2(f,t0,y[k-1],h)\n",
    "        t0=t0+h\n",
    "        \n",
    "    return y"
   ]
  },
  {
   "cell_type": "code",
   "execution_count": 11,
   "metadata": {},
   "outputs": [
    {
     "data": {
      "text/html": [
       "\n",
       "\n",
       "\n",
       "\n",
       "\n",
       "\n",
       "  <div class=\"bk-root\" id=\"16f6d88e-aab4-4294-b6e2-0d5d4cffdfb6\" data-root-id=\"3305\"></div>\n"
      ]
     },
     "metadata": {},
     "output_type": "display_data"
    },
    {
     "data": {
      "application/javascript": [
       "(function(root) {\n",
       "  function embed_document(root) {\n",
       "    \n",
       "  var docs_json = {\"95d1cf2b-be89-4d3d-b7fc-af419dadd1dd\":{\"roots\":{\"references\":[{\"attributes\":{\"children\":[{\"id\":\"3006\",\"subtype\":\"Figure\",\"type\":\"Plot\"},{\"id\":\"3085\",\"subtype\":\"Figure\",\"type\":\"Plot\"}]},\"id\":\"3305\",\"type\":\"Row\"},{\"attributes\":{},\"id\":\"3049\",\"type\":\"BasicTickFormatter\"},{\"attributes\":{\"items\":[{\"id\":\"3053\",\"type\":\"LegendItem\"},{\"id\":\"3067\",\"type\":\"LegendItem\"},{\"id\":\"3083\",\"type\":\"LegendItem\"}],\"location\":\"bottom_left\",\"plot\":{\"id\":\"3006\",\"subtype\":\"Figure\",\"type\":\"Plot\"}},\"id\":\"3052\",\"type\":\"Legend\"},{\"attributes\":{\"label\":{\"value\":\"Euler Explicite\"},\"renderers\":[{\"id\":\"3044\",\"type\":\"GlyphRenderer\"}]},\"id\":\"3053\",\"type\":\"LegendItem\"},{\"attributes\":{\"callback\":null,\"data\":{\"x\":{\"__ndarray__\":\"AAAAAAAAAAAxb2dIzNu5PzFvZ0jM28k/ZZNNNtlk0z8xb2dIzNvZP3+lQK1fKeA/ZZNNNtlk4z9LgVq/UqDmPzFvZ0jM2+k/F1100UUX7T9/pUCtXynwP3Icx3Ecx/E/ZZNNNtlk8z9YCtT6lQL1P0uBWr9SoPY/Pvjggw8++D8xb2dIzNv5PyTm7QyJefs/F1100UUX/T8K1PqVArX+P3+lQK1fKQBA+OCDDz74AEByHMdxHMcBQOtXCtT6lQJAZZNNNtlkA0DezpCYtzMEQFgK1PqVAgVA0UUXXXTRBUBLgVq/UqAGQMS8nSExbwdAPvjggw8+CEC3MyTm7QwJQDFvZ0jM2wlAq6qqqqqqCkAk5u0MiXkLQJ4hMW9nSAxAF1100UUXDUCRmLczJOYNQArU+pUCtQ5AhA8++OCDD0B/pUCtXykQQDtDYt7OkBBA+OCDDz74EEC1fqVArV8RQHIcx3EcxxFALrrooosuEkDrVwrU+pUSQKj1KwVq/RJAZZNNNtlkE0AiMW9nSMwTQN7OkJi3MxRAm2yyySabFEBYCtT6lQIVQBWo9SsFahVA0UUXXXTRFUCO4ziO4zgWQEuBWr9SoBZACB988MEHF0DEvJ0hMW8XQIFav1Kg1hdAPvjggw8+GED7lQK1fqUYQLczJObtDBlAdNFFF110GUAxb2dIzNsZQO4MiXk7QxpAq6qqqqqqGkBnSMzbGRIbQCTm7QyJeRtA4YMPPvjgG0CeITFvZ0gcQFq/UqDWrxxAF1100UUXHUDU+pUCtX4dQJGYtzMk5h1ATTbZZJNNHkAK1PqVArUeQMdxHMdxHB9AhA8++OCDH0BArV8pUOsfQH+lQK1fKSBAXXTRRRddIEA7Q2LezpAgQBoS83aGxCBA+OCDDz74IEDXrxSo9SshQLV+pUCtXyFAk0022WSTIUByHMdxHMchQFDrVwrU+iFALrrooosuIkANiXk7Q2IiQOtXCtT6lSJAyiabbLLJIkCo9SsFav0iQIbEvJ0hMSNAZZNNNtlkI0BDYt7OkJgjQCIxb2dIzCNAAAAAAAAAJEA=\",\"dtype\":\"float64\",\"shape\":[100]},\"y\":{\"__ndarray__\":\"AAAAAAAAAABWWTD1i9C5P1FTX5rcrsk/gsOxNjYZ0z9VYwJ3JinZPxcA895s994/joZ7TnE64j/qrfXjmcnkP2ssuWGCIuc/Iswnjgo/6T+RI+TArxnrP1BTS0Sbrew/3oUw9q727T8Xi+UGkPHuP/kGhbqvm+8/OPqkFVLz7z8TWwZkkvfvP5TacY1lqO8/kSusMpoG7z8wOzaS1hPuPz2qWDqU0uw/jV22kxlG6z8pMUFVcXLpP4gS3/dfXOc/1MdGRVcJ5T/m1IwiaH/iP8q16nZlit8/8e22b6rD2T9j8JxQsrnTPwFWfWl/+Mo/+7miP25uvD8ew57TVQ2FP7c2U+b2Mbe/NJcb8IdkyL+cMtDaNXjSv4gGHUH0jdi/BM5I1Z1j3r8dASM//PThv5J0Xo5MieS/fMX9lQTo5r9AD0Xy9Arpv5gfWUKK7Oq/hEBctduH7L9UjGrat9jtv9nTBZKv2+6/Gw5iBB+O778QwS6FNO7vv7NU4lL1+u+/vLAjJUC0778fSaaDzRrvv6PqleQtMO6/ehV7l8X27L+nYD+HxnHrv2I/nOMnpem/D922x5uV57/CVOv4gkjlv1aewt3ew+K/ZCe00UEO4L8DKjT9e13av93iNNGlWdS/wgS4cmdBzL8fFrKmiwu/v2He8+4MDZW/u4zZNsGStD+7ZD9aihnHP7P36Je11tE/W/DDABjy1z9jyIBZ/M7dP8e6gdUKr+E/qWzMAXFI5D//7Lop6KzmP7yvSOox1ug/Al+5UKq+6j+T7POSVmHsP14AZw7yue0/UWGMa/nE7j/0lfnIs3/vP+x2ENY56O8/b1zFynr97z+a4IMvP7/vP+dX8G0pLu8/1DgMKbRL7j8lnQ9hLhrtP1CyCm21nOs/N08I2izX6T+2POhENM7nPxy7bUkbh+U/z6j/pdMH4z+wXUa44VbgP6UpR/aW9to/VbjOZAz51D8WLl/Qi4nNP2bQXAjp08A//1m7LN2Snz/o7+kO/fKxv37G6czszcW/VIdizLk00b98w03tlVXXvzzw4HCMOd2/Uk/z9Z5o4b8=\",\"dtype\":\"float64\",\"shape\":[100]}},\"selected\":{\"id\":\"3443\",\"type\":\"Selection\"},\"selection_policy\":{\"id\":\"3442\",\"type\":\"UnionRenderers\"}},\"id\":\"3068\",\"type\":\"ColumnDataSource\"},{\"attributes\":{},\"id\":\"3442\",\"type\":\"UnionRenderers\"},{\"attributes\":{\"fill_color\":{\"value\":\"blue\"},\"line_color\":{\"value\":\"blue\"},\"x\":{\"field\":\"x\"},\"y\":{\"field\":\"y\"}},\"id\":\"3055\",\"type\":\"X\"},{\"attributes\":{},\"id\":\"3443\",\"type\":\"Selection\"},{\"attributes\":{\"fill_alpha\":{\"value\":0.1},\"fill_color\":{\"value\":\"#1f77b4\"},\"line_alpha\":{\"value\":0.1},\"line_color\":{\"value\":\"#1f77b4\"},\"x\":{\"field\":\"x\"},\"y\":{\"field\":\"y\"}},\"id\":\"3056\",\"type\":\"X\"},{\"attributes\":{},\"id\":\"3449\",\"type\":\"UnionRenderers\"},{\"attributes\":{\"data_source\":{\"id\":\"3054\",\"type\":\"ColumnDataSource\"},\"glyph\":{\"id\":\"3055\",\"type\":\"X\"},\"hover_glyph\":null,\"muted_glyph\":null,\"nonselection_glyph\":{\"id\":\"3056\",\"type\":\"X\"},\"selection_glyph\":null,\"view\":{\"id\":\"3058\",\"type\":\"CDSView\"}},\"id\":\"3057\",\"type\":\"GlyphRenderer\"},{\"attributes\":{},\"id\":\"3450\",\"type\":\"Selection\"},{\"attributes\":{\"source\":{\"id\":\"3054\",\"type\":\"ColumnDataSource\"}},\"id\":\"3058\",\"type\":\"CDSView\"},{\"attributes\":{},\"id\":\"3064\",\"type\":\"UnionRenderers\"},{\"attributes\":{},\"id\":\"3065\",\"type\":\"Selection\"},{\"attributes\":{\"label\":{\"value\":\"Rk2\"},\"renderers\":[{\"id\":\"3057\",\"type\":\"GlyphRenderer\"}]},\"id\":\"3067\",\"type\":\"LegendItem\"},{\"attributes\":{\"plot\":null,\"text\":\"Vitesse: 100 points\"},\"id\":\"3084\",\"type\":\"Title\"},{\"attributes\":{\"fill_alpha\":{\"value\":0.1},\"fill_color\":{\"value\":\"#1f77b4\"},\"line_alpha\":{\"value\":0.1},\"line_color\":{\"value\":\"#1f77b4\"},\"x\":{\"field\":\"x\"},\"y\":{\"field\":\"y\"}},\"id\":\"3122\",\"type\":\"X\"},{\"attributes\":{\"fill_color\":{\"value\":\"green\"},\"line_color\":{\"value\":\"green\"},\"x\":{\"field\":\"x\"},\"y\":{\"field\":\"y\"}},\"id\":\"3069\",\"type\":\"X\"},{\"attributes\":{\"fill_alpha\":{\"value\":0.1},\"fill_color\":{\"value\":\"#1f77b4\"},\"line_alpha\":{\"value\":0.1},\"line_color\":{\"value\":\"#1f77b4\"},\"x\":{\"field\":\"x\"},\"y\":{\"field\":\"y\"}},\"id\":\"3070\",\"type\":\"X\"},{\"attributes\":{\"data_source\":{\"id\":\"3068\",\"type\":\"ColumnDataSource\"},\"glyph\":{\"id\":\"3069\",\"type\":\"X\"},\"hover_glyph\":null,\"muted_glyph\":null,\"nonselection_glyph\":{\"id\":\"3070\",\"type\":\"X\"},\"selection_glyph\":null,\"view\":{\"id\":\"3072\",\"type\":\"CDSView\"}},\"id\":\"3071\",\"type\":\"GlyphRenderer\"},{\"attributes\":{\"source\":{\"id\":\"3068\",\"type\":\"ColumnDataSource\"}},\"id\":\"3072\",\"type\":\"CDSView\"},{\"attributes\":{},\"id\":\"3080\",\"type\":\"UnionRenderers\"},{\"attributes\":{},\"id\":\"3081\",\"type\":\"Selection\"},{\"attributes\":{\"label\":{\"value\":\"solution exacte\"},\"renderers\":[{\"id\":\"3071\",\"type\":\"GlyphRenderer\"}]},\"id\":\"3083\",\"type\":\"LegendItem\"},{\"attributes\":{\"callback\":null},\"id\":\"3087\",\"type\":\"DataRange1d\"},{\"attributes\":{\"callback\":null},\"id\":\"3089\",\"type\":\"DataRange1d\"},{\"attributes\":{},\"id\":\"3091\",\"type\":\"LinearScale\"},{\"attributes\":{},\"id\":\"3093\",\"type\":\"LinearScale\"},{\"attributes\":{\"below\":[{\"id\":\"3095\",\"type\":\"LinearAxis\"}],\"left\":[{\"id\":\"3100\",\"type\":\"LinearAxis\"}],\"plot_height\":300,\"plot_width\":500,\"renderers\":[{\"id\":\"3095\",\"type\":\"LinearAxis\"},{\"id\":\"3099\",\"type\":\"Grid\"},{\"id\":\"3100\",\"type\":\"LinearAxis\"},{\"id\":\"3104\",\"type\":\"Grid\"},{\"id\":\"3113\",\"type\":\"BoxAnnotation\"},{\"id\":\"3131\",\"type\":\"Legend\"},{\"id\":\"3123\",\"type\":\"GlyphRenderer\"},{\"id\":\"3136\",\"type\":\"GlyphRenderer\"},{\"id\":\"3150\",\"type\":\"GlyphRenderer\"}],\"title\":{\"id\":\"3084\",\"type\":\"Title\"},\"toolbar\":{\"id\":\"3111\",\"type\":\"Toolbar\"},\"x_range\":{\"id\":\"3087\",\"type\":\"DataRange1d\"},\"x_scale\":{\"id\":\"3091\",\"type\":\"LinearScale\"},\"y_range\":{\"id\":\"3089\",\"type\":\"DataRange1d\"},\"y_scale\":{\"id\":\"3093\",\"type\":\"LinearScale\"}},\"id\":\"3085\",\"subtype\":\"Figure\",\"type\":\"Plot\"},{\"attributes\":{\"axis_label\":\"temps\",\"formatter\":{\"id\":\"3126\",\"type\":\"BasicTickFormatter\"},\"plot\":{\"id\":\"3085\",\"subtype\":\"Figure\",\"type\":\"Plot\"},\"ticker\":{\"id\":\"3096\",\"type\":\"BasicTicker\"}},\"id\":\"3095\",\"type\":\"LinearAxis\"},{\"attributes\":{},\"id\":\"3096\",\"type\":\"BasicTicker\"},{\"attributes\":{\"plot\":{\"id\":\"3085\",\"subtype\":\"Figure\",\"type\":\"Plot\"},\"ticker\":{\"id\":\"3096\",\"type\":\"BasicTicker\"}},\"id\":\"3099\",\"type\":\"Grid\"},{\"attributes\":{\"axis_label\":\"Vitesse\",\"formatter\":{\"id\":\"3128\",\"type\":\"BasicTickFormatter\"},\"plot\":{\"id\":\"3085\",\"subtype\":\"Figure\",\"type\":\"Plot\"},\"ticker\":{\"id\":\"3101\",\"type\":\"BasicTicker\"}},\"id\":\"3100\",\"type\":\"LinearAxis\"},{\"attributes\":{},\"id\":\"3101\",\"type\":\"BasicTicker\"},{\"attributes\":{\"dimension\":1,\"plot\":{\"id\":\"3085\",\"subtype\":\"Figure\",\"type\":\"Plot\"},\"ticker\":{\"id\":\"3101\",\"type\":\"BasicTicker\"}},\"id\":\"3104\",\"type\":\"Grid\"},{\"attributes\":{\"callback\":null,\"data\":{\"x\":{\"__ndarray__\":\"AAAAAAAAAAAxb2dIzNu5PzFvZ0jM28k/ZZNNNtlk0z8xb2dIzNvZP3+lQK1fKeA/ZZNNNtlk4z9LgVq/UqDmPzFvZ0jM2+k/F1100UUX7T9/pUCtXynwP3Icx3Ecx/E/ZZNNNtlk8z9YCtT6lQL1P0uBWr9SoPY/Pvjggw8++D8xb2dIzNv5PyTm7QyJefs/F1100UUX/T8K1PqVArX+P3+lQK1fKQBA+OCDDz74AEByHMdxHMcBQOtXCtT6lQJAZZNNNtlkA0DezpCYtzMEQFgK1PqVAgVA0UUXXXTRBUBLgVq/UqAGQMS8nSExbwdAPvjggw8+CEC3MyTm7QwJQDFvZ0jM2wlAq6qqqqqqCkAk5u0MiXkLQJ4hMW9nSAxAF1100UUXDUCRmLczJOYNQArU+pUCtQ5AhA8++OCDD0B/pUCtXykQQDtDYt7OkBBA+OCDDz74EEC1fqVArV8RQHIcx3EcxxFALrrooosuEkDrVwrU+pUSQKj1KwVq/RJAZZNNNtlkE0AiMW9nSMwTQN7OkJi3MxRAm2yyySabFEBYCtT6lQIVQBWo9SsFahVA0UUXXXTRFUCO4ziO4zgWQEuBWr9SoBZACB988MEHF0DEvJ0hMW8XQIFav1Kg1hdAPvjggw8+GED7lQK1fqUYQLczJObtDBlAdNFFF110GUAxb2dIzNsZQO4MiXk7QxpAq6qqqqqqGkBnSMzbGRIbQCTm7QyJeRtA4YMPPvjgG0CeITFvZ0gcQFq/UqDWrxxAF1100UUXHUDU+pUCtX4dQJGYtzMk5h1ATTbZZJNNHkAK1PqVArUeQMdxHMdxHB9AhA8++OCDH0BArV8pUOsfQH+lQK1fKSBAXXTRRRddIEA7Q2LezpAgQBoS83aGxCBA+OCDDz74IEDXrxSo9SshQLV+pUCtXyFAk0022WSTIUByHMdxHMchQFDrVwrU+iFALrrooosuIkANiXk7Q2IiQOtXCtT6lSJAyiabbLLJIkCo9SsFav0iQIbEvJ0hMSNAZZNNNtlkI0BDYt7OkJgjQCIxb2dIzCNAAAAAAAAAJEA=\",\"dtype\":\"float64\",\"shape\":[100]},\"y\":{\"__ndarray__\":\"AAAAAAAA8D8AAAAAAADwP/ucVqxqrO8/8dYDBUAF7z+HgGJbWgvuPwo/KFJuwOw/QsEnowgn6z8oLdWqiULpP645Xr8eF+c/Mt/4Xrmp5D/zy81GBADiP8JPDxOtQN4/7UINhEkj2D+KAeQH4bbRP05GRcPYFsY/RpFz58rGsD+8tLbIACemv8Pl98vOjMO/izmvIbPA0L+XLdKjdqHXvyYwRyh4Vt6/mX61TeBm4r/t+3qa5Xrlv6BCVjLaXui//EtDyrMK67/txN6i5XbtvwCTnYh1nO+/GCsMxoe68L/KK8gdjH3xv7ntFZXeFPK/Ms2nyoF+8r8fvnR+6rjyvzWuNcQEw/K/8AfICzic8r95IOLxaUTyv1X/kM7/u/G/xwgl+t4D8b8QsXzEax3wvzpi8jsOFe6/K0yh6RWb678YmbSZitLov4KCpzbkweW/lOfg5mdw4r/jsPdOLszdv3r9/Z05V9a/jgqRkOAozb+g7VHSMV26v8i2QLrGvpg/6IfE97iAwz/RWFlnwvDRPwLsweGvB9o/fef+leD34D84uxeH6snkPz8HIVuib+g/sSVWdA3f6z/cB8D4pA7vP+C4Z/G3+vA//pDL8Y1F8j9JmkhpCmTzP61t+DTNUvQ/LpMkCeoO9T89fWFC8ZX1P+fOFoj35fU/LWptKZz99T9RFLIgDtz1P0v1jawPgfU/sMX8cfjs9D+fdZodtiD0P4RCtn7LHfM/iemFGk7m8T9+6c454nzwP7Owtu5qye0/DJASs+9C6j/FRFkKp27mPwzHkjfGVeI/FNVTa5sE3D9q3ZxU4v3SP9csJxj1W8M/gPj5WNA7Zj9rOOBvp9zCv9M/XDaTCdO/NGdFiTCM3L9xP/8Xiu7iv2Rot4Czcee/AWcP22nD67/0txrl49fvvzqSDcPs0fG/itXBS1GO87+G704uKhz1vwVbNKzudva/rnZcmo+a978INPM4g4P4vwcVr83PLvm/R1+d4RSa+b+N3b8Gk8P5v//FWA0yqvm/au+XlIVN+b9ZIHLmz634vyDptRIDzPe/U3vmQcCp9r8=\",\"dtype\":\"float64\",\"shape\":[100]}},\"selected\":{\"id\":\"3144\",\"type\":\"Selection\"},\"selection_policy\":{\"id\":\"3143\",\"type\":\"UnionRenderers\"}},\"id\":\"3120\",\"type\":\"ColumnDataSource\"},{\"attributes\":{\"fill_color\":{\"value\":\"red\"},\"line_color\":{\"value\":\"red\"},\"x\":{\"field\":\"x\"},\"y\":{\"field\":\"y\"}},\"id\":\"3121\",\"type\":\"X\"},{\"attributes\":{\"callback\":null,\"data\":{\"x\":{\"__ndarray__\":\"AAAAAAAAAAAxb2dIzNu5PzFvZ0jM28k/ZZNNNtlk0z8xb2dIzNvZP3+lQK1fKeA/ZZNNNtlk4z9LgVq/UqDmPzFvZ0jM2+k/F1100UUX7T9/pUCtXynwP3Icx3Ecx/E/ZZNNNtlk8z9YCtT6lQL1P0uBWr9SoPY/Pvjggw8++D8xb2dIzNv5PyTm7QyJefs/F1100UUX/T8K1PqVArX+P3+lQK1fKQBA+OCDDz74AEByHMdxHMcBQOtXCtT6lQJAZZNNNtlkA0DezpCYtzMEQFgK1PqVAgVA0UUXXXTRBUBLgVq/UqAGQMS8nSExbwdAPvjggw8+CEC3MyTm7QwJQDFvZ0jM2wlAq6qqqqqqCkAk5u0MiXkLQJ4hMW9nSAxAF1100UUXDUCRmLczJOYNQArU+pUCtQ5AhA8++OCDD0B/pUCtXykQQDtDYt7OkBBA+OCDDz74EEC1fqVArV8RQHIcx3EcxxFALrrooosuEkDrVwrU+pUSQKj1KwVq/RJAZZNNNtlkE0AiMW9nSMwTQN7OkJi3MxRAm2yyySabFEBYCtT6lQIVQBWo9SsFahVA0UUXXXTRFUCO4ziO4zgWQEuBWr9SoBZACB988MEHF0DEvJ0hMW8XQIFav1Kg1hdAPvjggw8+GED7lQK1fqUYQLczJObtDBlAdNFFF110GUAxb2dIzNsZQO4MiXk7QxpAq6qqqqqqGkBnSMzbGRIbQCTm7QyJeRtA4YMPPvjgG0CeITFvZ0gcQFq/UqDWrxxAF1100UUXHUDU+pUCtX4dQJGYtzMk5h1ATTbZZJNNHkAK1PqVArUeQMdxHMdxHB9AhA8++OCDH0BArV8pUOsfQH+lQK1fKSBAXXTRRRddIEA7Q2LezpAgQBoS83aGxCBA+OCDDz74IEDXrxSo9SshQLV+pUCtXyFAk0022WSTIUByHMdxHMchQFDrVwrU+iFALrrooosuIkANiXk7Q2IiQOtXCtT6lSJAyiabbLLJIkCo9SsFav0iQIbEvJ0hMSNAZZNNNtlkI0BDYt7OkJgjQCIxb2dIzCNAAAAAAAAAJEA=\",\"dtype\":\"float64\",\"shape\":[100]},\"y\":{\"__ndarray__\":\"AAAAAAAA8D99TitWNdbvP5/uA+0LWe8/OWNK98qJ7j9daxqikGrtP3nklYpM/us/ZRwVD7hI6j83S/ePTE7oP2qulbk3FOY/7LwA9k2g4z+grAMq+/jgP+G9xMpjStw/1h2qZLJY1j8yTMJncizQP/PkNxebq8M/JNTqOOUqqz+msWonHqCovwCve2m/CsO/o5+4DLC7z7863gSozgzWvyfidxwSAty/47Gf8QPX4L/Khe2q6oDjv/j8ZkfD9+W/OftVehk16L/fNbiEDzPqvx2myJJt7Ou/VsonZ69c7b82yNQvEIDuv5mC+GWUU++/a+qjnhHV77+FZgMcmgHwvzEIPtSC3e+/ALGYmF9k77+YUQwuB5nuv7iXcYWNfe2/i0H9Z9gU7L9ccC3il2Lqv/iwAp08a+i/VEbHPuwz5r95Y9Dxc8Ljv96BfjQ5HeG/K1t+NFKW3L8/bs9STKfWv/ITxQrqfNC/oKg7X6BOxL9IKUXdpritvyCn9O9fF6Y/DvzHbXlrwj/a7ZG89CDPPyKJfvGAwtU/dsjA75a72z/3cLrrC7bgP8Eywo6OYuM/WknGmVLc5T+d0VYb3BzoP2d2c/NEHuo/zJgER0zb6z/b+6ZCZE/tPygivgi+du4/TLmMq1NO7z9UfC8Z8NPvP1Y/XHIaA/A/Nb5A3Z3k7z8AiIVpgm/vP7iZf6QUqO4/EaxDPV6Q7T9p0VciOyvsPxJ4bwZSfOo/tMkh0gqI6D/00Jwbg1PmP/EJhcKA5OM/XToP02JB4T+oxsmvIeLcP/gC/YzR9dY/hL6OalfN0D8+ji04pvHEP86jvY5fI7A/9ti7pveNo7/Ws1x/9MvBv+mRILDmhc6/kD5MZAB41b8Hsuf433Tbv9QtStXxlOC/bbW+jwxE478siS+auMDlv3K/cWdyBOi/w39qfksJ6r+HNmMD+snrv5QcZ5LmQe2/JotgRjht7r/z5nPN3kjvv5rJL3Ca0u+/go5E+4AE8L/SBzBbhuvvvyc0iUN0eu+/AxhvOPO27r9aKsGhAqPtv9vxo4x0Qey/Tz8dSuaV6r8=\",\"dtype\":\"float64\",\"shape\":[100]}},\"selected\":{\"id\":\"3160\",\"type\":\"Selection\"},\"selection_policy\":{\"id\":\"3159\",\"type\":\"UnionRenderers\"}},\"id\":\"3133\",\"type\":\"ColumnDataSource\"},{\"attributes\":{},\"id\":\"3105\",\"type\":\"PanTool\"},{\"attributes\":{},\"id\":\"3106\",\"type\":\"WheelZoomTool\"},{\"attributes\":{\"overlay\":{\"id\":\"3113\",\"type\":\"BoxAnnotation\"}},\"id\":\"3107\",\"type\":\"BoxZoomTool\"},{\"attributes\":{},\"id\":\"3108\",\"type\":\"SaveTool\"},{\"attributes\":{},\"id\":\"3109\",\"type\":\"ResetTool\"},{\"attributes\":{},\"id\":\"3110\",\"type\":\"HelpTool\"},{\"attributes\":{\"active_drag\":\"auto\",\"active_inspect\":\"auto\",\"active_multi\":null,\"active_scroll\":\"auto\",\"active_tap\":\"auto\",\"tools\":[{\"id\":\"3105\",\"type\":\"PanTool\"},{\"id\":\"3106\",\"type\":\"WheelZoomTool\"},{\"id\":\"3107\",\"type\":\"BoxZoomTool\"},{\"id\":\"3108\",\"type\":\"SaveTool\"},{\"id\":\"3109\",\"type\":\"ResetTool\"},{\"id\":\"3110\",\"type\":\"HelpTool\"}]},\"id\":\"3111\",\"type\":\"Toolbar\"},{\"attributes\":{\"data_source\":{\"id\":\"3120\",\"type\":\"ColumnDataSource\"},\"glyph\":{\"id\":\"3121\",\"type\":\"X\"},\"hover_glyph\":null,\"muted_glyph\":null,\"nonselection_glyph\":{\"id\":\"3122\",\"type\":\"X\"},\"selection_glyph\":null,\"view\":{\"id\":\"3124\",\"type\":\"CDSView\"}},\"id\":\"3123\",\"type\":\"GlyphRenderer\"},{\"attributes\":{\"bottom_units\":\"screen\",\"fill_alpha\":{\"value\":0.5},\"fill_color\":{\"value\":\"lightgrey\"},\"left_units\":\"screen\",\"level\":\"overlay\",\"line_alpha\":{\"value\":1.0},\"line_color\":{\"value\":\"black\"},\"line_dash\":[4,4],\"line_width\":{\"value\":2},\"plot\":null,\"render_mode\":\"css\",\"right_units\":\"screen\",\"top_units\":\"screen\"},\"id\":\"3113\",\"type\":\"BoxAnnotation\"},{\"attributes\":{\"source\":{\"id\":\"3120\",\"type\":\"ColumnDataSource\"}},\"id\":\"3124\",\"type\":\"CDSView\"},{\"attributes\":{},\"id\":\"3126\",\"type\":\"BasicTickFormatter\"},{\"attributes\":{},\"id\":\"3128\",\"type\":\"BasicTickFormatter\"},{\"attributes\":{\"fill_alpha\":{\"value\":0.1},\"fill_color\":{\"value\":\"#1f77b4\"},\"line_alpha\":{\"value\":0.1},\"line_color\":{\"value\":\"#1f77b4\"},\"x\":{\"field\":\"x\"},\"y\":{\"field\":\"y\"}},\"id\":\"3043\",\"type\":\"X\"},{\"attributes\":{\"items\":[{\"id\":\"3132\",\"type\":\"LegendItem\"},{\"id\":\"3146\",\"type\":\"LegendItem\"},{\"id\":\"3162\",\"type\":\"LegendItem\"}],\"location\":\"bottom_left\",\"plot\":{\"id\":\"3085\",\"subtype\":\"Figure\",\"type\":\"Plot\"}},\"id\":\"3131\",\"type\":\"Legend\"},{\"attributes\":{\"plot\":null,\"text\":\"Position : 100 points\"},\"id\":\"3005\",\"type\":\"Title\"},{\"attributes\":{\"callback\":null,\"data\":{\"x\":{\"__ndarray__\":\"AAAAAAAAAAAxb2dIzNu5PzFvZ0jM28k/ZZNNNtlk0z8xb2dIzNvZP3+lQK1fKeA/ZZNNNtlk4z9LgVq/UqDmPzFvZ0jM2+k/F1100UUX7T9/pUCtXynwP3Icx3Ecx/E/ZZNNNtlk8z9YCtT6lQL1P0uBWr9SoPY/Pvjggw8++D8xb2dIzNv5PyTm7QyJefs/F1100UUX/T8K1PqVArX+P3+lQK1fKQBA+OCDDz74AEByHMdxHMcBQOtXCtT6lQJAZZNNNtlkA0DezpCYtzMEQFgK1PqVAgVA0UUXXXTRBUBLgVq/UqAGQMS8nSExbwdAPvjggw8+CEC3MyTm7QwJQDFvZ0jM2wlAq6qqqqqqCkAk5u0MiXkLQJ4hMW9nSAxAF1100UUXDUCRmLczJOYNQArU+pUCtQ5AhA8++OCDD0B/pUCtXykQQDtDYt7OkBBA+OCDDz74EEC1fqVArV8RQHIcx3EcxxFALrrooosuEkDrVwrU+pUSQKj1KwVq/RJAZZNNNtlkE0AiMW9nSMwTQN7OkJi3MxRAm2yyySabFEBYCtT6lQIVQBWo9SsFahVA0UUXXXTRFUCO4ziO4zgWQEuBWr9SoBZACB988MEHF0DEvJ0hMW8XQIFav1Kg1hdAPvjggw8+GED7lQK1fqUYQLczJObtDBlAdNFFF110GUAxb2dIzNsZQO4MiXk7QxpAq6qqqqqqGkBnSMzbGRIbQCTm7QyJeRtA4YMPPvjgG0CeITFvZ0gcQFq/UqDWrxxAF1100UUXHUDU+pUCtX4dQJGYtzMk5h1ATTbZZJNNHkAK1PqVArUeQMdxHMdxHB9AhA8++OCDH0BArV8pUOsfQH+lQK1fKSBAXXTRRRddIEA7Q2LezpAgQBoS83aGxCBA+OCDDz74IEDXrxSo9SshQLV+pUCtXyFAk0022WSTIUByHMdxHMchQFDrVwrU+iFALrrooosuIkANiXk7Q2IiQOtXCtT6lSJAyiabbLLJIkCo9SsFav0iQIbEvJ0hMSNAZZNNNtlkI0BDYt7OkJgjQCIxb2dIzCNAAAAAAAAAJEA=\",\"dtype\":\"float64\",\"shape\":[100]},\"y\":{\"__ndarray__\":\"AAAAAAAAAAAxb2dIzNu5PzFvZ0jM28k/XhUUhfZT0z8Yd4GDQZjZP2+6CYkQqt8/NrpkmoK84j8JBICBonrlP2iZHgfSB+g/H9gQPOdc6j/mMQMFOHPsP1GMsNCsRO4/Rp0yANLL7z8BMEjo84HwP4RrCUx49PA/NAjolt478T/Rch2r+1bxPxaCKAoVRfE/a4IW4uMF8T+ImaH0lpnwP6/OK1DTAPA/I788q2d57j8eb5QSj53sP9oPEWAdcuo/Uy0Deu375z+KXkcvqkDlP7ry2IjBRuI/8IGu+Ksq3j8vZjpBW2jXPx4rKhY/V9A/NYmaBv4Rwj+4aIU9BgGZP9jgPureAbi/XgK6nCkqy78e7b+pBBrVv5wjgHV6e9y/jJVrJunS4b+dGJJ64kLlv/vzVZVNhOi/PFOn/S+O679iLJvUCFjuv+V+fST0bPC/hKSa5kKG8b8+zzZpqnTyv0xWVOdLNfO/CDL3q7jF878btFiR+SP0v+nLZluVTvS/Pe352ZVE9L8ZOSnCiwX0vyY4VDGRkfO/eX7Uz0rp8r++nseM5w3yv4Ij+u8eAfG/PnJLBVyK77+Hy8umpbnsv3sd7DqNlum/NOvePW0o5r+MWZlad3fiv2QAoWtCGd2/MJvSDR7j1L8KdxjE8MHIv3RZk0EhQq2/XiAdZxXDtD8gzCy7uCbMP5rD26hk6NY/55WbDamY3z9SWqbjiwbkP/4Uiox/F+g/0ADBxyT06z+eBr2j3JHvPzg7OWdIc/E/oTSVqWf08j9U7rx58kf0Px3dc+n6afU/Xgs4GApX9j9QKbp2Kgz3PyNyXtPwhvc/koH3FITF9z/AcRiMo8b3Pw/bzcarifc/0E091pkO9z99l4/5DFb2PyL5maVGYfU/GDfr5Cgy9D94fygQM8vyP2Ga+OJ8L/E/iAId7F/F7j82HVhW/9HqP9hWTTg/juY/kQsPRHEE4j8KARA1cn/aPxxJ3K7il9A/NFXxxnOsuT8kjJNvAWivvxGWdSjCq8y/f6E/8IC02L/Iq46T13bhv+JKPvMqc+a/CrjClOBB678=\",\"dtype\":\"float64\",\"shape\":[100]}},\"selected\":{\"id\":\"3065\",\"type\":\"Selection\"},\"selection_policy\":{\"id\":\"3064\",\"type\":\"UnionRenderers\"}},\"id\":\"3041\",\"type\":\"ColumnDataSource\"},{\"attributes\":{\"label\":{\"value\":\"Euler Explicite\"},\"renderers\":[{\"id\":\"3123\",\"type\":\"GlyphRenderer\"}]},\"id\":\"3132\",\"type\":\"LegendItem\"},{\"attributes\":{\"callback\":null,\"data\":{\"x\":{\"__ndarray__\":\"AAAAAAAAAAAxb2dIzNu5PzFvZ0jM28k/ZZNNNtlk0z8xb2dIzNvZP3+lQK1fKeA/ZZNNNtlk4z9LgVq/UqDmPzFvZ0jM2+k/F1100UUX7T9/pUCtXynwP3Icx3Ecx/E/ZZNNNtlk8z9YCtT6lQL1P0uBWr9SoPY/Pvjggw8++D8xb2dIzNv5PyTm7QyJefs/F1100UUX/T8K1PqVArX+P3+lQK1fKQBA+OCDDz74AEByHMdxHMcBQOtXCtT6lQJAZZNNNtlkA0DezpCYtzMEQFgK1PqVAgVA0UUXXXTRBUBLgVq/UqAGQMS8nSExbwdAPvjggw8+CEC3MyTm7QwJQDFvZ0jM2wlAq6qqqqqqCkAk5u0MiXkLQJ4hMW9nSAxAF1100UUXDUCRmLczJOYNQArU+pUCtQ5AhA8++OCDD0B/pUCtXykQQDtDYt7OkBBA+OCDDz74EEC1fqVArV8RQHIcx3EcxxFALrrooosuEkDrVwrU+pUSQKj1KwVq/RJAZZNNNtlkE0AiMW9nSMwTQN7OkJi3MxRAm2yyySabFEBYCtT6lQIVQBWo9SsFahVA0UUXXXTRFUCO4ziO4zgWQEuBWr9SoBZACB988MEHF0DEvJ0hMW8XQIFav1Kg1hdAPvjggw8+GED7lQK1fqUYQLczJObtDBlAdNFFF110GUAxb2dIzNsZQO4MiXk7QxpAq6qqqqqqGkBnSMzbGRIbQCTm7QyJeRtA4YMPPvjgG0CeITFvZ0gcQFq/UqDWrxxAF1100UUXHUDU+pUCtX4dQJGYtzMk5h1ATTbZZJNNHkAK1PqVArUeQMdxHMdxHB9AhA8++OCDH0BArV8pUOsfQH+lQK1fKSBAXXTRRRddIEA7Q2LezpAgQBoS83aGxCBA+OCDDz74IEDXrxSo9SshQLV+pUCtXyFAk0022WSTIUByHMdxHMchQFDrVwrU+iFALrrooosuIkANiXk7Q2IiQOtXCtT6lSJAyiabbLLJIkCo9SsFav0iQIbEvJ0hMSNAZZNNNtlkI0BDYt7OkJgjQCIxb2dIzCNAAAAAAAAAJEA=\",\"dtype\":\"float64\",\"shape\":[100]},\"y\":{\"__ndarray__\":\"AAAAAAAA8D9stRluPtbvP/RmmLFmWe8/yNmrmb6K7j90bjl5YWztPzbnWqc6Aew/j8z94P1M6j92c4WfHVToPyaJpn2/G+Y/HRvGyK6p4z/FGOphTQThPwuuYysGZdw/P1edLVd31j+/pAmUBk/QP2iwSFdM+MM/7bevprZ5rD9YkKJzFDinv17aVrxRq8K/yDeLfeVXz79b+k5oVtnVvxmrjs+0zdu/rIhO3MG84L/ZPI8i+2bjv2WKJcqR3uW/xHL7hxUd6L/miO4Dqxzqv7oIvSEb2Ou/+5JWneBK7b8KVQvXM3Huvxmpz7AUSO+/xNrVYlLN77/eiQ4zkf/vvwtJpABO3u+/bCgymt9p77+JFDjbdaPuv/xDHJMWje2/BTrPPZgp7L+SFtmbmnzqvyQrJD19iui/WpkzF1RY5r+HI49E2uvjv6b++Q9jS+G/urT55JL73L+St69evBTXvzfBGnmp8dC/pYFip7xExb+nyBvUSd2wv99gn3XR9aE/DwVx2NVdwT+otT/F5BDOP6zH8VS+OtU/GTxc6aI12z+D75puwnTgP50A1B/BI+M/I3FapMyg5T+KsJ5zZuXnPyn1T1Oj6+k/rRO9yTqu6z/bvXbnlCjtPwarN0TWVu4/Lo/JD+o17z+6zqEcisPvP7BzOc9E/u8/9UWj4oDl7z82sIr4fnnvPyeNh/BYu+4/+g5/CP+s7T9bjJHNMlHsP3YFyep/q+o/e8ZN6DLA6D92IkfzTZTmPxjSr8t7LeQ/a6g6+gCS4T/04MDpVpHdP3FYjrmBsdc/PNe1B9eT0T9M9n2umZDGP/wzgItDfbM/Ct4dLyRmmb9yg/qw4Q/AvyRGstcTycy/ubDKPZOb1L/MSuOV1Jzav76WZQtRLOC/VVMgkgLg4r8R1we4cWLlv2gZDOQRree/jfWqIui56b9ryVnBmoPrv1i8GUV/Be2/IOTFl6Y77r/r3VNM5yLvvxPBO9/luO+/YY1+3Rr8778NpTzi1uvvv/o5cmBEiO+/UxkvNGfS7r8I82r8Gcztv4T5X0QJeOy/H2sMiazZ6r8=\",\"dtype\":\"float64\",\"shape\":[100]}},\"selected\":{\"id\":\"3450\",\"type\":\"Selection\"},\"selection_policy\":{\"id\":\"3449\",\"type\":\"UnionRenderers\"}},\"id\":\"3147\",\"type\":\"ColumnDataSource\"},{\"attributes\":{\"callback\":null},\"id\":\"3008\",\"type\":\"DataRange1d\"},{\"attributes\":{\"fill_color\":{\"value\":\"blue\"},\"line_color\":{\"value\":\"blue\"},\"x\":{\"field\":\"x\"},\"y\":{\"field\":\"y\"}},\"id\":\"3134\",\"type\":\"X\"},{\"attributes\":{\"callback\":null},\"id\":\"3010\",\"type\":\"DataRange1d\"},{\"attributes\":{\"below\":[{\"id\":\"3016\",\"type\":\"LinearAxis\"}],\"left\":[{\"id\":\"3021\",\"type\":\"LinearAxis\"}],\"plot_height\":300,\"plot_width\":500,\"renderers\":[{\"id\":\"3016\",\"type\":\"LinearAxis\"},{\"id\":\"3020\",\"type\":\"Grid\"},{\"id\":\"3021\",\"type\":\"LinearAxis\"},{\"id\":\"3025\",\"type\":\"Grid\"},{\"id\":\"3034\",\"type\":\"BoxAnnotation\"},{\"id\":\"3052\",\"type\":\"Legend\"},{\"id\":\"3044\",\"type\":\"GlyphRenderer\"},{\"id\":\"3057\",\"type\":\"GlyphRenderer\"},{\"id\":\"3071\",\"type\":\"GlyphRenderer\"}],\"title\":{\"id\":\"3005\",\"type\":\"Title\"},\"toolbar\":{\"id\":\"3032\",\"type\":\"Toolbar\"},\"x_range\":{\"id\":\"3008\",\"type\":\"DataRange1d\"},\"x_scale\":{\"id\":\"3012\",\"type\":\"LinearScale\"},\"y_range\":{\"id\":\"3010\",\"type\":\"DataRange1d\"},\"y_scale\":{\"id\":\"3014\",\"type\":\"LinearScale\"}},\"id\":\"3006\",\"subtype\":\"Figure\",\"type\":\"Plot\"},{\"attributes\":{\"fill_alpha\":{\"value\":0.1},\"fill_color\":{\"value\":\"#1f77b4\"},\"line_alpha\":{\"value\":0.1},\"line_color\":{\"value\":\"#1f77b4\"},\"x\":{\"field\":\"x\"},\"y\":{\"field\":\"y\"}},\"id\":\"3135\",\"type\":\"X\"},{\"attributes\":{},\"id\":\"3012\",\"type\":\"LinearScale\"},{\"attributes\":{\"data_source\":{\"id\":\"3133\",\"type\":\"ColumnDataSource\"},\"glyph\":{\"id\":\"3134\",\"type\":\"X\"},\"hover_glyph\":null,\"muted_glyph\":null,\"nonselection_glyph\":{\"id\":\"3135\",\"type\":\"X\"},\"selection_glyph\":null,\"view\":{\"id\":\"3137\",\"type\":\"CDSView\"}},\"id\":\"3136\",\"type\":\"GlyphRenderer\"},{\"attributes\":{},\"id\":\"3014\",\"type\":\"LinearScale\"},{\"attributes\":{\"source\":{\"id\":\"3133\",\"type\":\"ColumnDataSource\"}},\"id\":\"3137\",\"type\":\"CDSView\"},{\"attributes\":{\"axis_label\":\"temps\",\"formatter\":{\"id\":\"3047\",\"type\":\"BasicTickFormatter\"},\"plot\":{\"id\":\"3006\",\"subtype\":\"Figure\",\"type\":\"Plot\"},\"ticker\":{\"id\":\"3017\",\"type\":\"BasicTicker\"}},\"id\":\"3016\",\"type\":\"LinearAxis\"},{\"attributes\":{},\"id\":\"3143\",\"type\":\"UnionRenderers\"},{\"attributes\":{},\"id\":\"3017\",\"type\":\"BasicTicker\"},{\"attributes\":{},\"id\":\"3144\",\"type\":\"Selection\"},{\"attributes\":{\"plot\":{\"id\":\"3006\",\"subtype\":\"Figure\",\"type\":\"Plot\"},\"ticker\":{\"id\":\"3017\",\"type\":\"BasicTicker\"}},\"id\":\"3020\",\"type\":\"Grid\"},{\"attributes\":{\"label\":{\"value\":\"Rk2\"},\"renderers\":[{\"id\":\"3136\",\"type\":\"GlyphRenderer\"}]},\"id\":\"3146\",\"type\":\"LegendItem\"},{\"attributes\":{\"axis_label\":\"position\",\"formatter\":{\"id\":\"3049\",\"type\":\"BasicTickFormatter\"},\"plot\":{\"id\":\"3006\",\"subtype\":\"Figure\",\"type\":\"Plot\"},\"ticker\":{\"id\":\"3022\",\"type\":\"BasicTicker\"}},\"id\":\"3021\",\"type\":\"LinearAxis\"},{\"attributes\":{},\"id\":\"3022\",\"type\":\"BasicTicker\"},{\"attributes\":{\"dimension\":1,\"plot\":{\"id\":\"3006\",\"subtype\":\"Figure\",\"type\":\"Plot\"},\"ticker\":{\"id\":\"3022\",\"type\":\"BasicTicker\"}},\"id\":\"3025\",\"type\":\"Grid\"},{\"attributes\":{\"fill_color\":{\"value\":\"green\"},\"line_color\":{\"value\":\"green\"},\"x\":{\"field\":\"x\"},\"y\":{\"field\":\"y\"}},\"id\":\"3148\",\"type\":\"X\"},{\"attributes\":{\"fill_alpha\":{\"value\":0.1},\"fill_color\":{\"value\":\"#1f77b4\"},\"line_alpha\":{\"value\":0.1},\"line_color\":{\"value\":\"#1f77b4\"},\"x\":{\"field\":\"x\"},\"y\":{\"field\":\"y\"}},\"id\":\"3149\",\"type\":\"X\"},{\"attributes\":{\"fill_color\":{\"value\":\"red\"},\"line_color\":{\"value\":\"red\"},\"x\":{\"field\":\"x\"},\"y\":{\"field\":\"y\"}},\"id\":\"3042\",\"type\":\"X\"},{\"attributes\":{\"data_source\":{\"id\":\"3147\",\"type\":\"ColumnDataSource\"},\"glyph\":{\"id\":\"3148\",\"type\":\"X\"},\"hover_glyph\":null,\"muted_glyph\":null,\"nonselection_glyph\":{\"id\":\"3149\",\"type\":\"X\"},\"selection_glyph\":null,\"view\":{\"id\":\"3151\",\"type\":\"CDSView\"}},\"id\":\"3150\",\"type\":\"GlyphRenderer\"},{\"attributes\":{\"callback\":null,\"data\":{\"x\":{\"__ndarray__\":\"AAAAAAAAAAAxb2dIzNu5PzFvZ0jM28k/ZZNNNtlk0z8xb2dIzNvZP3+lQK1fKeA/ZZNNNtlk4z9LgVq/UqDmPzFvZ0jM2+k/F1100UUX7T9/pUCtXynwP3Icx3Ecx/E/ZZNNNtlk8z9YCtT6lQL1P0uBWr9SoPY/Pvjggw8++D8xb2dIzNv5PyTm7QyJefs/F1100UUX/T8K1PqVArX+P3+lQK1fKQBA+OCDDz74AEByHMdxHMcBQOtXCtT6lQJAZZNNNtlkA0DezpCYtzMEQFgK1PqVAgVA0UUXXXTRBUBLgVq/UqAGQMS8nSExbwdAPvjggw8+CEC3MyTm7QwJQDFvZ0jM2wlAq6qqqqqqCkAk5u0MiXkLQJ4hMW9nSAxAF1100UUXDUCRmLczJOYNQArU+pUCtQ5AhA8++OCDD0B/pUCtXykQQDtDYt7OkBBA+OCDDz74EEC1fqVArV8RQHIcx3EcxxFALrrooosuEkDrVwrU+pUSQKj1KwVq/RJAZZNNNtlkE0AiMW9nSMwTQN7OkJi3MxRAm2yyySabFEBYCtT6lQIVQBWo9SsFahVA0UUXXXTRFUCO4ziO4zgWQEuBWr9SoBZACB988MEHF0DEvJ0hMW8XQIFav1Kg1hdAPvjggw8+GED7lQK1fqUYQLczJObtDBlAdNFFF110GUAxb2dIzNsZQO4MiXk7QxpAq6qqqqqqGkBnSMzbGRIbQCTm7QyJeRtA4YMPPvjgG0CeITFvZ0gcQFq/UqDWrxxAF1100UUXHUDU+pUCtX4dQJGYtzMk5h1ATTbZZJNNHkAK1PqVArUeQMdxHMdxHB9AhA8++OCDH0BArV8pUOsfQH+lQK1fKSBAXXTRRRddIEA7Q2LezpAgQBoS83aGxCBA+OCDDz74IEDXrxSo9SshQLV+pUCtXyFAk0022WSTIUByHMdxHMchQFDrVwrU+iFALrrooosuIkANiXk7Q2IiQOtXCtT6lSJAyiabbLLJIkCo9SsFav0iQIbEvJ0hMSNAZZNNNtlkI0BDYt7OkJgjQCIxb2dIzCNAAAAAAAAAJEA=\",\"dtype\":\"float64\",\"shape\":[100]},\"y\":{\"__ndarray__\":\"AAAAAAAAAAAxb2dIzNu5PyRz9OUGusk/ECB9hW8h0z/XqnOozTPZP1hByTE3BN8/2FV/CblB4j8fYvZcjNHkP8xXr+LfKuc/mplhlYxH6T/yiXM4CiLrPzroptV9tew/20kfdcb97T/QTHHuh/fuPyEZZLYzoO8/YPtTkg/27z+ch6YfOvjvPzlfcCOtpu8/QIE7nD0C7z+wxruVmQzuP1J0HsRDyOw/yUBy8ow46z94lldVi2HpP9dJrtgPSOc/ogBAhJnx5D+mQmcYR2TiPyQPuxCOTd8/UKxE+IuA2T8T9I4PuHDTP/l/QSXjW8o/+n+fCXUiuz8Qmpr0nV50P5PCctoimri/eN7Sk/ccyb8KdVQ2mNXSv542glFt69i/5ToJYAvA3r9ROtSoFiLiv3+rbF+wtOS/AhOB3xUR579yFRgaGDHpv7IR9BcmD+u/Jgkajlum7L+gUEaujfLtvwuxvRFW8O6/ShzhoRud778ahixnGffvv40EySxj/e+/hLKI7Oev778cCPH8cQ/vv/xF1wClHe6/9Mjynfnc7L+3QJsFt1Drv1aYnWDqfOm/wu+aNFxm57+T1bLegxLlvyYbP0R5h+K///otvsmX37/PWjme3M3Zv495cD1TwNO/7t4trQ3+yr8tPZIsYWm8v8ge1BCoYIS/fKZN1w5Ytz9XRK7Znn/IP+p8gISSidI/1aWiYtWi2D9S5JxSn3veP1qIhixQAuI/FOT6pqyX5D8oCSnqIPfmP7lf0+V1Guk/gWNe7xH86j+xCB9tB5fsP0XLLb8h5+0/YELtQ/Do7j8VDGdbz5nvP5x+4VHv9+8/cwLHjywB8D9yBd3w8LjvP+nO0XB2HO8/JBSQ1IIu7j8+oT2thPHsP3K/Jou5aOs/nvPKgiWY6T83awOqiITnP4r/xahSM+U/ekkRfpSq4j8ePoU84eHfP21b0ygTG9o/EsomqN4P1D8uYNOxLaDLPzL+bIZisL0/4KUcEPuTjj984DE2khW2vyr+9aj94ce/Z/ll4l490r8oNrtGBlrYvx7802vzNt6/pB/ywGXi4b8=\",\"dtype\":\"float64\",\"shape\":[100]}},\"selected\":{\"id\":\"3081\",\"type\":\"Selection\"},\"selection_policy\":{\"id\":\"3080\",\"type\":\"UnionRenderers\"}},\"id\":\"3054\",\"type\":\"ColumnDataSource\"},{\"attributes\":{\"data_source\":{\"id\":\"3041\",\"type\":\"ColumnDataSource\"},\"glyph\":{\"id\":\"3042\",\"type\":\"X\"},\"hover_glyph\":null,\"muted_glyph\":null,\"nonselection_glyph\":{\"id\":\"3043\",\"type\":\"X\"},\"selection_glyph\":null,\"view\":{\"id\":\"3045\",\"type\":\"CDSView\"}},\"id\":\"3044\",\"type\":\"GlyphRenderer\"},{\"attributes\":{\"source\":{\"id\":\"3147\",\"type\":\"ColumnDataSource\"}},\"id\":\"3151\",\"type\":\"CDSView\"},{\"attributes\":{},\"id\":\"3026\",\"type\":\"PanTool\"},{\"attributes\":{},\"id\":\"3159\",\"type\":\"UnionRenderers\"},{\"attributes\":{},\"id\":\"3027\",\"type\":\"WheelZoomTool\"},{\"attributes\":{},\"id\":\"3160\",\"type\":\"Selection\"},{\"attributes\":{\"overlay\":{\"id\":\"3034\",\"type\":\"BoxAnnotation\"}},\"id\":\"3028\",\"type\":\"BoxZoomTool\"},{\"attributes\":{\"label\":{\"value\":\"solution exacte\"},\"renderers\":[{\"id\":\"3150\",\"type\":\"GlyphRenderer\"}]},\"id\":\"3162\",\"type\":\"LegendItem\"},{\"attributes\":{},\"id\":\"3029\",\"type\":\"SaveTool\"},{\"attributes\":{},\"id\":\"3030\",\"type\":\"ResetTool\"},{\"attributes\":{},\"id\":\"3031\",\"type\":\"HelpTool\"},{\"attributes\":{\"active_drag\":\"auto\",\"active_inspect\":\"auto\",\"active_multi\":null,\"active_scroll\":\"auto\",\"active_tap\":\"auto\",\"tools\":[{\"id\":\"3026\",\"type\":\"PanTool\"},{\"id\":\"3027\",\"type\":\"WheelZoomTool\"},{\"id\":\"3028\",\"type\":\"BoxZoomTool\"},{\"id\":\"3029\",\"type\":\"SaveTool\"},{\"id\":\"3030\",\"type\":\"ResetTool\"},{\"id\":\"3031\",\"type\":\"HelpTool\"}]},\"id\":\"3032\",\"type\":\"Toolbar\"},{\"attributes\":{\"bottom_units\":\"screen\",\"fill_alpha\":{\"value\":0.5},\"fill_color\":{\"value\":\"lightgrey\"},\"left_units\":\"screen\",\"level\":\"overlay\",\"line_alpha\":{\"value\":1.0},\"line_color\":{\"value\":\"black\"},\"line_dash\":[4,4],\"line_width\":{\"value\":2},\"plot\":null,\"render_mode\":\"css\",\"right_units\":\"screen\",\"top_units\":\"screen\"},\"id\":\"3034\",\"type\":\"BoxAnnotation\"},{\"attributes\":{\"source\":{\"id\":\"3041\",\"type\":\"ColumnDataSource\"}},\"id\":\"3045\",\"type\":\"CDSView\"},{\"attributes\":{},\"id\":\"3047\",\"type\":\"BasicTickFormatter\"}],\"root_ids\":[\"3305\"]},\"title\":\"Bokeh Application\",\"version\":\"1.0.4\"}};\n",
       "  var render_items = [{\"docid\":\"95d1cf2b-be89-4d3d-b7fc-af419dadd1dd\",\"roots\":{\"3305\":\"16f6d88e-aab4-4294-b6e2-0d5d4cffdfb6\"}}];\n",
       "  root.Bokeh.embed.embed_items_notebook(docs_json, render_items);\n",
       "\n",
       "  }\n",
       "  if (root.Bokeh !== undefined) {\n",
       "    embed_document(root);\n",
       "  } else {\n",
       "    var attempts = 0;\n",
       "    var timer = setInterval(function(root) {\n",
       "      if (root.Bokeh !== undefined) {\n",
       "        embed_document(root);\n",
       "        clearInterval(timer);\n",
       "      }\n",
       "      attempts++;\n",
       "      if (attempts > 100) {\n",
       "        console.log(\"Bokeh: ERROR: Unable to run BokehJS code because BokehJS library is missing\");\n",
       "        clearInterval(timer);\n",
       "      }\n",
       "    }, 10, root)\n",
       "  }\n",
       "})(window);"
      ],
      "application/vnd.bokehjs_exec.v0+json": ""
     },
     "metadata": {
      "application/vnd.bokehjs_exec.v0+json": {
       "id": "3305"
      }
     },
     "output_type": "display_data"
    },
    {
     "data": {
      "text/html": [
       "\n",
       "\n",
       "\n",
       "\n",
       "\n",
       "\n",
       "  <div class=\"bk-root\" id=\"2c2aee00-5c63-4331-9578-3864e94597a0\" data-root-id=\"3596\"></div>\n"
      ]
     },
     "metadata": {},
     "output_type": "display_data"
    },
    {
     "data": {
      "application/javascript": [
       "(function(root) {\n",
       "  function embed_document(root) {\n",
       "    \n",
       "  var docs_json = {\"c7843bd1-1dd9-4488-93a0-584f269697a9\":{\"roots\":{\"references\":[{\"attributes\":{\"children\":[{\"id\":\"3164\",\"subtype\":\"Figure\",\"type\":\"Plot\"},{\"id\":\"3227\",\"subtype\":\"Figure\",\"type\":\"Plot\"}]},\"id\":\"3596\",\"type\":\"Row\"},{\"attributes\":{\"label\":{\"value\":\"Solution exacte\"},\"renderers\":[{\"id\":\"3292\",\"type\":\"GlyphRenderer\"}]},\"id\":\"3304\",\"type\":\"LegendItem\"},{\"attributes\":{},\"id\":\"3755\",\"type\":\"UnionRenderers\"},{\"attributes\":{},\"id\":\"3762\",\"type\":\"UnionRenderers\"},{\"attributes\":{},\"id\":\"3763\",\"type\":\"Selection\"},{\"attributes\":{},\"id\":\"3756\",\"type\":\"Selection\"},{\"attributes\":{},\"id\":\"3302\",\"type\":\"Selection\"},{\"attributes\":{\"plot\":{\"id\":\"3164\",\"subtype\":\"Figure\",\"type\":\"Plot\"},\"ticker\":{\"id\":\"3175\",\"type\":\"BasicTicker\"}},\"id\":\"3178\",\"type\":\"Grid\"},{\"attributes\":{\"axis_label\":\"hamiltonien\",\"formatter\":{\"id\":\"3207\",\"type\":\"BasicTickFormatter\"},\"plot\":{\"id\":\"3164\",\"subtype\":\"Figure\",\"type\":\"Plot\"},\"ticker\":{\"id\":\"3180\",\"type\":\"BasicTicker\"}},\"id\":\"3179\",\"type\":\"LinearAxis\"},{\"attributes\":{\"plot\":{\"id\":\"3227\",\"subtype\":\"Figure\",\"type\":\"Plot\"},\"ticker\":{\"id\":\"3238\",\"type\":\"BasicTicker\"}},\"id\":\"3241\",\"type\":\"Grid\"},{\"attributes\":{\"axis_label\":\"vitesse\",\"formatter\":{\"id\":\"3270\",\"type\":\"BasicTickFormatter\"},\"plot\":{\"id\":\"3227\",\"subtype\":\"Figure\",\"type\":\"Plot\"},\"ticker\":{\"id\":\"3243\",\"type\":\"BasicTicker\"}},\"id\":\"3242\",\"type\":\"LinearAxis\"},{\"attributes\":{},\"id\":\"3180\",\"type\":\"BasicTicker\"},{\"attributes\":{\"dimension\":1,\"plot\":{\"id\":\"3164\",\"subtype\":\"Figure\",\"type\":\"Plot\"},\"ticker\":{\"id\":\"3180\",\"type\":\"BasicTicker\"}},\"id\":\"3183\",\"type\":\"Grid\"},{\"attributes\":{},\"id\":\"3243\",\"type\":\"BasicTicker\"},{\"attributes\":{\"dimension\":1,\"plot\":{\"id\":\"3227\",\"subtype\":\"Figure\",\"type\":\"Plot\"},\"ticker\":{\"id\":\"3243\",\"type\":\"BasicTicker\"}},\"id\":\"3246\",\"type\":\"Grid\"},{\"attributes\":{\"fill_color\":{\"value\":\"blue\"},\"line_color\":{\"value\":\"blue\"},\"x\":{\"field\":\"x\"},\"y\":{\"field\":\"y\"}},\"id\":\"3200\",\"type\":\"X\"},{\"attributes\":{\"fill_alpha\":{\"value\":0.1},\"fill_color\":{\"value\":\"#1f77b4\"},\"line_alpha\":{\"value\":0.1},\"line_color\":{\"value\":\"#1f77b4\"},\"x\":{\"field\":\"x\"},\"y\":{\"field\":\"y\"}},\"id\":\"3264\",\"type\":\"X\"},{\"attributes\":{\"fill_color\":{\"value\":\"blue\"},\"line_color\":{\"value\":\"blue\"},\"x\":{\"field\":\"x\"},\"y\":{\"field\":\"y\"}},\"id\":\"3263\",\"type\":\"X\"},{\"attributes\":{},\"id\":\"3184\",\"type\":\"PanTool\"},{\"attributes\":{\"data_source\":{\"id\":\"3262\",\"type\":\"ColumnDataSource\"},\"glyph\":{\"id\":\"3263\",\"type\":\"X\"},\"hover_glyph\":null,\"muted_glyph\":null,\"nonselection_glyph\":{\"id\":\"3264\",\"type\":\"X\"},\"selection_glyph\":null,\"view\":{\"id\":\"3266\",\"type\":\"CDSView\"}},\"id\":\"3265\",\"type\":\"GlyphRenderer\"},{\"attributes\":{},\"id\":\"3185\",\"type\":\"WheelZoomTool\"},{\"attributes\":{},\"id\":\"3247\",\"type\":\"PanTool\"},{\"attributes\":{\"overlay\":{\"id\":\"3192\",\"type\":\"BoxAnnotation\"}},\"id\":\"3186\",\"type\":\"BoxZoomTool\"},{\"attributes\":{},\"id\":\"3248\",\"type\":\"WheelZoomTool\"},{\"attributes\":{},\"id\":\"3187\",\"type\":\"SaveTool\"},{\"attributes\":{\"overlay\":{\"id\":\"3255\",\"type\":\"BoxAnnotation\"}},\"id\":\"3249\",\"type\":\"BoxZoomTool\"},{\"attributes\":{},\"id\":\"3188\",\"type\":\"ResetTool\"},{\"attributes\":{},\"id\":\"3250\",\"type\":\"SaveTool\"},{\"attributes\":{},\"id\":\"3189\",\"type\":\"HelpTool\"},{\"attributes\":{},\"id\":\"3251\",\"type\":\"ResetTool\"},{\"attributes\":{\"active_drag\":\"auto\",\"active_inspect\":\"auto\",\"active_multi\":null,\"active_scroll\":\"auto\",\"active_tap\":\"auto\",\"tools\":[{\"id\":\"3184\",\"type\":\"PanTool\"},{\"id\":\"3185\",\"type\":\"WheelZoomTool\"},{\"id\":\"3186\",\"type\":\"BoxZoomTool\"},{\"id\":\"3187\",\"type\":\"SaveTool\"},{\"id\":\"3188\",\"type\":\"ResetTool\"},{\"id\":\"3189\",\"type\":\"HelpTool\"}]},\"id\":\"3190\",\"type\":\"Toolbar\"},{\"attributes\":{},\"id\":\"3252\",\"type\":\"HelpTool\"},{\"attributes\":{\"fill_alpha\":{\"value\":0.1},\"fill_color\":{\"value\":\"#1f77b4\"},\"line_alpha\":{\"value\":0.1},\"line_color\":{\"value\":\"#1f77b4\"},\"x\":{\"field\":\"x\"},\"y\":{\"field\":\"y\"}},\"id\":\"3201\",\"type\":\"X\"},{\"attributes\":{\"active_drag\":\"auto\",\"active_inspect\":\"auto\",\"active_multi\":null,\"active_scroll\":\"auto\",\"active_tap\":\"auto\",\"tools\":[{\"id\":\"3247\",\"type\":\"PanTool\"},{\"id\":\"3248\",\"type\":\"WheelZoomTool\"},{\"id\":\"3249\",\"type\":\"BoxZoomTool\"},{\"id\":\"3250\",\"type\":\"SaveTool\"},{\"id\":\"3251\",\"type\":\"ResetTool\"},{\"id\":\"3252\",\"type\":\"HelpTool\"}]},\"id\":\"3253\",\"type\":\"Toolbar\"},{\"attributes\":{\"bottom_units\":\"screen\",\"fill_alpha\":{\"value\":0.5},\"fill_color\":{\"value\":\"lightgrey\"},\"left_units\":\"screen\",\"level\":\"overlay\",\"line_alpha\":{\"value\":1.0},\"line_color\":{\"value\":\"black\"},\"line_dash\":[4,4],\"line_width\":{\"value\":2},\"plot\":null,\"render_mode\":\"css\",\"right_units\":\"screen\",\"top_units\":\"screen\"},\"id\":\"3192\",\"type\":\"BoxAnnotation\"},{\"attributes\":{\"data_source\":{\"id\":\"3199\",\"type\":\"ColumnDataSource\"},\"glyph\":{\"id\":\"3200\",\"type\":\"X\"},\"hover_glyph\":null,\"muted_glyph\":null,\"nonselection_glyph\":{\"id\":\"3201\",\"type\":\"X\"},\"selection_glyph\":null,\"view\":{\"id\":\"3203\",\"type\":\"CDSView\"}},\"id\":\"3202\",\"type\":\"GlyphRenderer\"},{\"attributes\":{\"bottom_units\":\"screen\",\"fill_alpha\":{\"value\":0.5},\"fill_color\":{\"value\":\"lightgrey\"},\"left_units\":\"screen\",\"level\":\"overlay\",\"line_alpha\":{\"value\":1.0},\"line_color\":{\"value\":\"black\"},\"line_dash\":[4,4],\"line_width\":{\"value\":2},\"plot\":null,\"render_mode\":\"css\",\"right_units\":\"screen\",\"top_units\":\"screen\"},\"id\":\"3255\",\"type\":\"BoxAnnotation\"},{\"attributes\":{\"source\":{\"id\":\"3199\",\"type\":\"ColumnDataSource\"}},\"id\":\"3203\",\"type\":\"CDSView\"},{\"attributes\":{\"source\":{\"id\":\"3262\",\"type\":\"ColumnDataSource\"}},\"id\":\"3266\",\"type\":\"CDSView\"},{\"attributes\":{},\"id\":\"3205\",\"type\":\"BasicTickFormatter\"},{\"attributes\":{},\"id\":\"3268\",\"type\":\"BasicTickFormatter\"},{\"attributes\":{},\"id\":\"3207\",\"type\":\"BasicTickFormatter\"},{\"attributes\":{},\"id\":\"3270\",\"type\":\"BasicTickFormatter\"},{\"attributes\":{\"items\":[{\"id\":\"3274\",\"type\":\"LegendItem\"},{\"id\":\"3288\",\"type\":\"LegendItem\"},{\"id\":\"3304\",\"type\":\"LegendItem\"}],\"plot\":{\"id\":\"3227\",\"subtype\":\"Figure\",\"type\":\"Plot\"}},\"id\":\"3273\",\"type\":\"Legend\"},{\"attributes\":{\"label\":{\"value\":\"Rk2\"},\"renderers\":[{\"id\":\"3202\",\"type\":\"GlyphRenderer\"}]},\"id\":\"3211\",\"type\":\"LegendItem\"},{\"attributes\":{\"callback\":null,\"data\":{\"x\":{\"__ndarray__\":\"AAAAAAAAAAAxb2dIzNu5PzFvZ0jM28k/ZZNNNtlk0z8xb2dIzNvZP3+lQK1fKeA/ZZNNNtlk4z9LgVq/UqDmPzFvZ0jM2+k/F1100UUX7T9/pUCtXynwP3Icx3Ecx/E/ZZNNNtlk8z9YCtT6lQL1P0uBWr9SoPY/Pvjggw8++D8xb2dIzNv5PyTm7QyJefs/F1100UUX/T8K1PqVArX+P3+lQK1fKQBA+OCDDz74AEByHMdxHMcBQOtXCtT6lQJAZZNNNtlkA0DezpCYtzMEQFgK1PqVAgVA0UUXXXTRBUBLgVq/UqAGQMS8nSExbwdAPvjggw8+CEC3MyTm7QwJQDFvZ0jM2wlAq6qqqqqqCkAk5u0MiXkLQJ4hMW9nSAxAF1100UUXDUCRmLczJOYNQArU+pUCtQ5AhA8++OCDD0B/pUCtXykQQDtDYt7OkBBA+OCDDz74EEC1fqVArV8RQHIcx3EcxxFALrrooosuEkDrVwrU+pUSQKj1KwVq/RJAZZNNNtlkE0AiMW9nSMwTQN7OkJi3MxRAm2yyySabFEBYCtT6lQIVQBWo9SsFahVA0UUXXXTRFUCO4ziO4zgWQEuBWr9SoBZACB988MEHF0DEvJ0hMW8XQIFav1Kg1hdAPvjggw8+GED7lQK1fqUYQLczJObtDBlAdNFFF110GUAxb2dIzNsZQO4MiXk7QxpAq6qqqqqqGkBnSMzbGRIbQCTm7QyJeRtA4YMPPvjgG0CeITFvZ0gcQFq/UqDWrxxAF1100UUXHUDU+pUCtX4dQJGYtzMk5h1ATTbZZJNNHkAK1PqVArUeQMdxHMdxHB9AhA8++OCDH0BArV8pUOsfQH+lQK1fKSBAXXTRRRddIEA7Q2LezpAgQBoS83aGxCBA+OCDDz74IEDXrxSo9SshQLV+pUCtXyFAk0022WSTIUByHMdxHMchQFDrVwrU+iFALrrooosuIkANiXk7Q2IiQOtXCtT6lSJAyiabbLLJIkCo9SsFav0iQIbEvJ0hMSNAZZNNNtlkI0BDYt7OkJgjQCIxb2dIzCNAAAAAAAAAJEA=\",\"dtype\":\"float64\",\"shape\":[100]},\"y\":[0.5,0.5,0.5,0.5,0.5,0.5,0.5,0.4999999999999999,0.5,0.5,0.5,0.5,0.5,0.5000000000000001,0.49999999999999994,0.49999999999999994,0.5,0.5000000000000001,0.5,0.5,0.5,0.5,0.5,0.5,0.5,0.5,0.5,0.4999999999999999,0.5,0.5,0.5,0.5000000000000001,0.5,0.5,0.49999999999999994,0.5,0.5,0.5,0.5,0.5,0.5,0.5,0.5,0.5,0.5,0.5,0.5,0.5,0.5,0.5,0.5,0.49999999999999994,0.5,0.5,0.5,0.4999999999999999,0.5,0.5,0.5,0.49999999999999994,0.49999999999999994,0.5,0.5000000000000001,0.49999999999999994,0.5,0.49999999999999994,0.5,0.5,0.5,0.5,0.5,0.49999999999999994,0.5,0.49999999999999994,0.5,0.5,0.49999999999999994,0.49999999999999994,0.49999999999999994,0.49999999999999994,0.5,0.49999999999999994,0.5,0.5,0.5,0.5,0.49999999999999994,0.5,0.5,0.5,0.5,0.5,0.5,0.5,0.5,0.49999999999999994,0.49999999999999994,0.5,0.49999999999999994,0.5]},\"selected\":{\"id\":\"3756\",\"type\":\"Selection\"},\"selection_policy\":{\"id\":\"3755\",\"type\":\"UnionRenderers\"}},\"id\":\"3212\",\"type\":\"ColumnDataSource\"},{\"attributes\":{\"label\":{\"value\":\"Euler Explicite\"},\"renderers\":[{\"id\":\"3265\",\"type\":\"GlyphRenderer\"}]},\"id\":\"3274\",\"type\":\"LegendItem\"},{\"attributes\":{\"callback\":null,\"data\":{\"x\":{\"__ndarray__\":\"AAAAAAAAAAAxb2dIzNu5PyRz9OUGusk/ECB9hW8h0z/XqnOozTPZP1hByTE3BN8/2FV/CblB4j8fYvZcjNHkP8xXr+LfKuc/mplhlYxH6T/yiXM4CiLrPzroptV9tew/20kfdcb97T/QTHHuh/fuPyEZZLYzoO8/YPtTkg/27z+ch6YfOvjvPzlfcCOtpu8/QIE7nD0C7z+wxruVmQzuP1J0HsRDyOw/yUBy8ow46z94lldVi2HpP9dJrtgPSOc/ogBAhJnx5D+mQmcYR2TiPyQPuxCOTd8/UKxE+IuA2T8T9I4PuHDTP/l/QSXjW8o/+n+fCXUiuz8Qmpr0nV50P5PCctoimri/eN7Sk/ccyb8KdVQ2mNXSv542glFt69i/5ToJYAvA3r9ROtSoFiLiv3+rbF+wtOS/AhOB3xUR579yFRgaGDHpv7IR9BcmD+u/Jgkajlum7L+gUEaujfLtvwuxvRFW8O6/ShzhoRud778ahixnGffvv40EySxj/e+/hLKI7Oev778cCPH8cQ/vv/xF1wClHe6/9Mjynfnc7L+3QJsFt1Drv1aYnWDqfOm/wu+aNFxm57+T1bLegxLlvyYbP0R5h+K///otvsmX37/PWjme3M3Zv495cD1TwNO/7t4trQ3+yr8tPZIsYWm8v8ge1BCoYIS/fKZN1w5Ytz9XRK7Znn/IP+p8gISSidI/1aWiYtWi2D9S5JxSn3veP1qIhixQAuI/FOT6pqyX5D8oCSnqIPfmP7lf0+V1Guk/gWNe7xH86j+xCB9tB5fsP0XLLb8h5+0/YELtQ/Do7j8VDGdbz5nvP5x+4VHv9+8/cwLHjywB8D9yBd3w8LjvP+nO0XB2HO8/JBSQ1IIu7j8+oT2thPHsP3K/Jou5aOs/nvPKgiWY6T83awOqiITnP4r/xahSM+U/ekkRfpSq4j8ePoU84eHfP21b0ygTG9o/EsomqN4P1D8uYNOxLaDLPzL+bIZisL0/4KUcEPuTjj984DE2khW2vyr+9aj94ce/Z/ll4l490r8oNrtGBlrYvx7802vzNt6/pB/ywGXi4b8=\",\"dtype\":\"float64\",\"shape\":[100]},\"y\":{\"__ndarray__\":\"AAAAAAAA8D99TitWNdbvP5/uA+0LWe8/OWNK98qJ7j9daxqikGrtP3nklYpM/us/ZRwVD7hI6j83S/ePTE7oP2qulbk3FOY/7LwA9k2g4z+grAMq+/jgP+G9xMpjStw/1h2qZLJY1j8yTMJncizQP/PkNxebq8M/JNTqOOUqqz+msWonHqCovwCve2m/CsO/o5+4DLC7z7863gSozgzWvyfidxwSAty/47Gf8QPX4L/Khe2q6oDjv/j8ZkfD9+W/OftVehk16L/fNbiEDzPqvx2myJJt7Ou/VsonZ69c7b82yNQvEIDuv5mC+GWUU++/a+qjnhHV77+FZgMcmgHwvzEIPtSC3e+/ALGYmF9k77+YUQwuB5nuv7iXcYWNfe2/i0H9Z9gU7L9ccC3il2Lqv/iwAp08a+i/VEbHPuwz5r95Y9Dxc8Ljv96BfjQ5HeG/K1t+NFKW3L8/bs9STKfWv/ITxQrqfNC/oKg7X6BOxL9IKUXdpritvyCn9O9fF6Y/DvzHbXlrwj/a7ZG89CDPPyKJfvGAwtU/dsjA75a72z/3cLrrC7bgP8Eywo6OYuM/WknGmVLc5T+d0VYb3BzoP2d2c/NEHuo/zJgER0zb6z/b+6ZCZE/tPygivgi+du4/TLmMq1NO7z9UfC8Z8NPvP1Y/XHIaA/A/Nb5A3Z3k7z8AiIVpgm/vP7iZf6QUqO4/EaxDPV6Q7T9p0VciOyvsPxJ4bwZSfOo/tMkh0gqI6D/00Jwbg1PmP/EJhcKA5OM/XToP02JB4T+oxsmvIeLcP/gC/YzR9dY/hL6OalfN0D8+ji04pvHEP86jvY5fI7A/9ti7pveNo7/Ws1x/9MvBv+mRILDmhc6/kD5MZAB41b8Hsuf433Tbv9QtStXxlOC/bbW+jwxE478siS+auMDlv3K/cWdyBOi/w39qfksJ6r+HNmMD+snrv5QcZ5LmQe2/JotgRjht7r/z5nPN3kjvv5rJL3Ca0u+/go5E+4AE8L/SBzBbhuvvvyc0iUN0eu+/AxhvOPO27r9aKsGhAqPtv9vxo4x0Qey/Tz8dSuaV6r8=\",\"dtype\":\"float64\",\"shape\":[100]}},\"selected\":{\"id\":\"3302\",\"type\":\"Selection\"},\"selection_policy\":{\"id\":\"3301\",\"type\":\"UnionRenderers\"}},\"id\":\"3275\",\"type\":\"ColumnDataSource\"},{\"attributes\":{\"fill_color\":{\"value\":\"green\"},\"line_color\":{\"value\":\"green\"},\"x\":{\"field\":\"x\"},\"y\":{\"field\":\"y\"}},\"id\":\"3213\",\"type\":\"X\"},{\"attributes\":{\"callback\":null,\"data\":{\"x\":{\"__ndarray__\":\"AAAAAAAAAABWWTD1i9C5P1FTX5rcrsk/gsOxNjYZ0z9VYwJ3JinZPxcA895s994/joZ7TnE64j/qrfXjmcnkP2ssuWGCIuc/Iswnjgo/6T+RI+TArxnrP1BTS0Sbrew/3oUw9q727T8Xi+UGkPHuP/kGhbqvm+8/OPqkFVLz7z8TWwZkkvfvP5TacY1lqO8/kSusMpoG7z8wOzaS1hPuPz2qWDqU0uw/jV22kxlG6z8pMUFVcXLpP4gS3/dfXOc/1MdGRVcJ5T/m1IwiaH/iP8q16nZlit8/8e22b6rD2T9j8JxQsrnTPwFWfWl/+Mo/+7miP25uvD8ew57TVQ2FP7c2U+b2Mbe/NJcb8IdkyL+cMtDaNXjSv4gGHUH0jdi/BM5I1Z1j3r8dASM//PThv5J0Xo5MieS/fMX9lQTo5r9AD0Xy9Arpv5gfWUKK7Oq/hEBctduH7L9UjGrat9jtv9nTBZKv2+6/Gw5iBB+O778QwS6FNO7vv7NU4lL1+u+/vLAjJUC0778fSaaDzRrvv6PqleQtMO6/ehV7l8X27L+nYD+HxnHrv2I/nOMnpem/D922x5uV57/CVOv4gkjlv1aewt3ew+K/ZCe00UEO4L8DKjT9e13av93iNNGlWdS/wgS4cmdBzL8fFrKmiwu/v2He8+4MDZW/u4zZNsGStD+7ZD9aihnHP7P36Je11tE/W/DDABjy1z9jyIBZ/M7dP8e6gdUKr+E/qWzMAXFI5D//7Lop6KzmP7yvSOox1ug/Al+5UKq+6j+T7POSVmHsP14AZw7yue0/UWGMa/nE7j/0lfnIs3/vP+x2ENY56O8/b1zFynr97z+a4IMvP7/vP+dX8G0pLu8/1DgMKbRL7j8lnQ9hLhrtP1CyCm21nOs/N08I2izX6T+2POhENM7nPxy7bUkbh+U/z6j/pdMH4z+wXUa44VbgP6UpR/aW9to/VbjOZAz51D8WLl/Qi4nNP2bQXAjp08A//1m7LN2Snz/o7+kO/fKxv37G6czszcW/VIdizLk00b98w03tlVXXvzzw4HCMOd2/Uk/z9Z5o4b8=\",\"dtype\":\"float64\",\"shape\":[100]},\"y\":{\"__ndarray__\":\"AAAAAAAA8D9stRluPtbvP/RmmLFmWe8/yNmrmb6K7j90bjl5YWztPzbnWqc6Aew/j8z94P1M6j92c4WfHVToPyaJpn2/G+Y/HRvGyK6p4z/FGOphTQThPwuuYysGZdw/P1edLVd31j+/pAmUBk/QP2iwSFdM+MM/7bevprZ5rD9YkKJzFDinv17aVrxRq8K/yDeLfeVXz79b+k5oVtnVvxmrjs+0zdu/rIhO3MG84L/ZPI8i+2bjv2WKJcqR3uW/xHL7hxUd6L/miO4Dqxzqv7oIvSEb2Ou/+5JWneBK7b8KVQvXM3Huvxmpz7AUSO+/xNrVYlLN77/eiQ4zkf/vvwtJpABO3u+/bCgymt9p77+JFDjbdaPuv/xDHJMWje2/BTrPPZgp7L+SFtmbmnzqvyQrJD19iui/WpkzF1RY5r+HI49E2uvjv6b++Q9jS+G/urT55JL73L+St69evBTXvzfBGnmp8dC/pYFip7xExb+nyBvUSd2wv99gn3XR9aE/DwVx2NVdwT+otT/F5BDOP6zH8VS+OtU/GTxc6aI12z+D75puwnTgP50A1B/BI+M/I3FapMyg5T+KsJ5zZuXnPyn1T1Oj6+k/rRO9yTqu6z/bvXbnlCjtPwarN0TWVu4/Lo/JD+o17z+6zqEcisPvP7BzOc9E/u8/9UWj4oDl7z82sIr4fnnvPyeNh/BYu+4/+g5/CP+s7T9bjJHNMlHsP3YFyep/q+o/e8ZN6DLA6D92IkfzTZTmPxjSr8t7LeQ/a6g6+gCS4T/04MDpVpHdP3FYjrmBsdc/PNe1B9eT0T9M9n2umZDGP/wzgItDfbM/Ct4dLyRmmb9yg/qw4Q/AvyRGstcTycy/ubDKPZOb1L/MSuOV1Jzav76WZQtRLOC/VVMgkgLg4r8R1we4cWLlv2gZDOQRree/jfWqIui56b9ryVnBmoPrv1i8GUV/Be2/IOTFl6Y77r/r3VNM5yLvvxPBO9/luO+/YY1+3Rr8778NpTzi1uvvv/o5cmBEiO+/UxkvNGfS7r8I82r8Gcztv4T5X0QJeOy/H2sMiazZ6r8=\",\"dtype\":\"float64\",\"shape\":[100]}},\"selected\":{\"id\":\"3763\",\"type\":\"Selection\"},\"selection_policy\":{\"id\":\"3762\",\"type\":\"UnionRenderers\"}},\"id\":\"3289\",\"type\":\"ColumnDataSource\"},{\"attributes\":{\"below\":[{\"id\":\"3237\",\"type\":\"LinearAxis\"}],\"left\":[{\"id\":\"3242\",\"type\":\"LinearAxis\"}],\"plot_height\":300,\"plot_width\":500,\"renderers\":[{\"id\":\"3237\",\"type\":\"LinearAxis\"},{\"id\":\"3241\",\"type\":\"Grid\"},{\"id\":\"3242\",\"type\":\"LinearAxis\"},{\"id\":\"3246\",\"type\":\"Grid\"},{\"id\":\"3255\",\"type\":\"BoxAnnotation\"},{\"id\":\"3273\",\"type\":\"Legend\"},{\"id\":\"3265\",\"type\":\"GlyphRenderer\"},{\"id\":\"3278\",\"type\":\"GlyphRenderer\"},{\"id\":\"3292\",\"type\":\"GlyphRenderer\"}],\"title\":{\"id\":\"3226\",\"type\":\"Title\"},\"toolbar\":{\"id\":\"3253\",\"type\":\"Toolbar\"},\"x_range\":{\"id\":\"3229\",\"type\":\"DataRange1d\"},\"x_scale\":{\"id\":\"3233\",\"type\":\"LinearScale\"},\"y_range\":{\"id\":\"3231\",\"type\":\"DataRange1d\"},\"y_scale\":{\"id\":\"3235\",\"type\":\"LinearScale\"}},\"id\":\"3227\",\"subtype\":\"Figure\",\"type\":\"Plot\"},{\"attributes\":{\"fill_color\":{\"value\":\"red\"},\"line_color\":{\"value\":\"red\"},\"x\":{\"field\":\"x\"},\"y\":{\"field\":\"y\"}},\"id\":\"3276\",\"type\":\"X\"},{\"attributes\":{\"fill_alpha\":{\"value\":0.1},\"fill_color\":{\"value\":\"#1f77b4\"},\"line_alpha\":{\"value\":0.1},\"line_color\":{\"value\":\"#1f77b4\"},\"x\":{\"field\":\"x\"},\"y\":{\"field\":\"y\"}},\"id\":\"3214\",\"type\":\"X\"},{\"attributes\":{\"fill_alpha\":{\"value\":0.1},\"fill_color\":{\"value\":\"#1f77b4\"},\"line_alpha\":{\"value\":0.1},\"line_color\":{\"value\":\"#1f77b4\"},\"x\":{\"field\":\"x\"},\"y\":{\"field\":\"y\"}},\"id\":\"3277\",\"type\":\"X\"},{\"attributes\":{\"data_source\":{\"id\":\"3212\",\"type\":\"ColumnDataSource\"},\"glyph\":{\"id\":\"3213\",\"type\":\"X\"},\"hover_glyph\":null,\"muted_glyph\":null,\"nonselection_glyph\":{\"id\":\"3214\",\"type\":\"X\"},\"selection_glyph\":null,\"view\":{\"id\":\"3216\",\"type\":\"CDSView\"}},\"id\":\"3215\",\"type\":\"GlyphRenderer\"},{\"attributes\":{\"data_source\":{\"id\":\"3275\",\"type\":\"ColumnDataSource\"},\"glyph\":{\"id\":\"3276\",\"type\":\"X\"},\"hover_glyph\":null,\"muted_glyph\":null,\"nonselection_glyph\":{\"id\":\"3277\",\"type\":\"X\"},\"selection_glyph\":null,\"view\":{\"id\":\"3279\",\"type\":\"CDSView\"}},\"id\":\"3278\",\"type\":\"GlyphRenderer\"},{\"attributes\":{\"source\":{\"id\":\"3212\",\"type\":\"ColumnDataSource\"}},\"id\":\"3216\",\"type\":\"CDSView\"},{\"attributes\":{\"source\":{\"id\":\"3275\",\"type\":\"ColumnDataSource\"}},\"id\":\"3279\",\"type\":\"CDSView\"},{\"attributes\":{},\"id\":\"3222\",\"type\":\"UnionRenderers\"},{\"attributes\":{},\"id\":\"3285\",\"type\":\"UnionRenderers\"},{\"attributes\":{},\"id\":\"3223\",\"type\":\"Selection\"},{\"attributes\":{},\"id\":\"3286\",\"type\":\"Selection\"},{\"attributes\":{\"plot\":null,\"text\":\"Hamiltonien : 100 points\"},\"id\":\"3163\",\"type\":\"Title\"},{\"attributes\":{\"label\":{\"value\":\"solution exacte\"},\"renderers\":[{\"id\":\"3215\",\"type\":\"GlyphRenderer\"}]},\"id\":\"3225\",\"type\":\"LegendItem\"},{\"attributes\":{\"below\":[{\"id\":\"3174\",\"type\":\"LinearAxis\"}],\"left\":[{\"id\":\"3179\",\"type\":\"LinearAxis\"}],\"plot_height\":300,\"plot_width\":500,\"renderers\":[{\"id\":\"3174\",\"type\":\"LinearAxis\"},{\"id\":\"3178\",\"type\":\"Grid\"},{\"id\":\"3179\",\"type\":\"LinearAxis\"},{\"id\":\"3183\",\"type\":\"Grid\"},{\"id\":\"3192\",\"type\":\"BoxAnnotation\"},{\"id\":\"3210\",\"type\":\"Legend\"},{\"id\":\"3202\",\"type\":\"GlyphRenderer\"},{\"id\":\"3215\",\"type\":\"GlyphRenderer\"}],\"title\":{\"id\":\"3163\",\"type\":\"Title\"},\"toolbar\":{\"id\":\"3190\",\"type\":\"Toolbar\"},\"x_range\":{\"id\":\"3166\",\"type\":\"DataRange1d\"},\"x_scale\":{\"id\":\"3170\",\"type\":\"LinearScale\"},\"y_range\":{\"id\":\"3168\",\"type\":\"DataRange1d\"},\"y_scale\":{\"id\":\"3172\",\"type\":\"LinearScale\"}},\"id\":\"3164\",\"subtype\":\"Figure\",\"type\":\"Plot\"},{\"attributes\":{\"label\":{\"value\":\"Rk2\"},\"renderers\":[{\"id\":\"3278\",\"type\":\"GlyphRenderer\"}]},\"id\":\"3288\",\"type\":\"LegendItem\"},{\"attributes\":{\"callback\":null,\"data\":{\"x\":{\"__ndarray__\":\"AAAAAAAAAAAxb2dIzNu5PzFvZ0jM28k/ZZNNNtlk0z8xb2dIzNvZP3+lQK1fKeA/ZZNNNtlk4z9LgVq/UqDmPzFvZ0jM2+k/F1100UUX7T9/pUCtXynwP3Icx3Ecx/E/ZZNNNtlk8z9YCtT6lQL1P0uBWr9SoPY/Pvjggw8++D8xb2dIzNv5PyTm7QyJefs/F1100UUX/T8K1PqVArX+P3+lQK1fKQBA+OCDDz74AEByHMdxHMcBQOtXCtT6lQJAZZNNNtlkA0DezpCYtzMEQFgK1PqVAgVA0UUXXXTRBUBLgVq/UqAGQMS8nSExbwdAPvjggw8+CEC3MyTm7QwJQDFvZ0jM2wlAq6qqqqqqCkAk5u0MiXkLQJ4hMW9nSAxAF1100UUXDUCRmLczJOYNQArU+pUCtQ5AhA8++OCDD0B/pUCtXykQQDtDYt7OkBBA+OCDDz74EEC1fqVArV8RQHIcx3EcxxFALrrooosuEkDrVwrU+pUSQKj1KwVq/RJAZZNNNtlkE0AiMW9nSMwTQN7OkJi3MxRAm2yyySabFEBYCtT6lQIVQBWo9SsFahVA0UUXXXTRFUCO4ziO4zgWQEuBWr9SoBZACB988MEHF0DEvJ0hMW8XQIFav1Kg1hdAPvjggw8+GED7lQK1fqUYQLczJObtDBlAdNFFF110GUAxb2dIzNsZQO4MiXk7QxpAq6qqqqqqGkBnSMzbGRIbQCTm7QyJeRtA4YMPPvjgG0CeITFvZ0gcQFq/UqDWrxxAF1100UUXHUDU+pUCtX4dQJGYtzMk5h1ATTbZZJNNHkAK1PqVArUeQMdxHMdxHB9AhA8++OCDH0BArV8pUOsfQH+lQK1fKSBAXXTRRRddIEA7Q2LezpAgQBoS83aGxCBA+OCDDz74IEDXrxSo9SshQLV+pUCtXyFAk0022WSTIUByHMdxHMchQFDrVwrU+iFALrrooosuIkANiXk7Q2IiQOtXCtT6lSJAyiabbLLJIkCo9SsFav0iQIbEvJ0hMSNAZZNNNtlkI0BDYt7OkJgjQCIxb2dIzCNAAAAAAAAAJEA=\",\"dtype\":\"float64\",\"shape\":[100]},\"y\":[0.5,0.500013012754446,0.5000260258475557,0.5000390392793377,0.5000520530498009,0.500065067158954,0.500078081606806,0.5000910963933657,0.5001041115186418,0.5001171269826431,0.5001301427853785,0.5001431589268567,0.5001561754070867,0.5001691922260771,0.500182209383837,0.5001952268803749,0.5002082447156998,0.5002212628898206,0.500234281402746,0.5002473002544847,0.5002603194450459,0.5002733389744379,0.5002863588426698,0.5002993790497505,0.5003123995956887,0.5003254204804932,0.500338441704173,0.5003514632667366,0.500364485168193,0.5003775074085511,0.5003905299878196,0.5004035529060072,0.5004165761631231,0.5004295997591758,0.5004426236941741,0.5004556479681271,0.5004686725810434,0.5004816975329319,0.5004947228238015,0.5005077484536609,0.5005207744225189,0.5005338007303843,0.500546827377266,0.5005598543631729,0.5005728816881135,0.500585909352097,0.5005989373551322,0.5006119656972278,0.5006249943783925,0.5006380233986353,0.500651052757965,0.5006640824563904,0.5006771124939203,0.5006901428705637,0.5007031735863292,0.5007162046412256,0.5007292360352619,0.5007422677684469,0.5007552998407894,0.5007683322522981,0.5007813650029821,0.5007943980928499,0.5008074315219105,0.5008204652901729,0.5008334993976457,0.5008465338443377,0.5008595686302579,0.500872603755415,0.5008856392198178,0.5008986750234754,0.5009117111663963,0.5009247476485894,0.5009377844700637,0.5009508216308277,0.5009638591308906,0.500976896970261,0.5009899351489479,0.50100297366696,0.5010160125243062,0.5010290517209952,0.501042091257036,0.5010551311324374,0.501068171347208,0.501081211901357,0.5010942527948931,0.5011072940278251,0.5011203356001617,0.5011333775119119,0.5011464197630844,0.5011594623536882,0.5011725052837321,0.501185548553225,0.5011985921621754,0.5012116361105925,0.501224680398485,0.5012377250258617,0.5012507699927314,0.5012638152991031,0.5012768609449856,0.5012899069303876]},\"selected\":{\"id\":\"3223\",\"type\":\"Selection\"},\"selection_policy\":{\"id\":\"3222\",\"type\":\"UnionRenderers\"}},\"id\":\"3199\",\"type\":\"ColumnDataSource\"},{\"attributes\":{\"callback\":null,\"data\":{\"x\":{\"__ndarray__\":\"AAAAAAAAAAAxb2dIzNu5PzFvZ0jM28k/XhUUhfZT0z8Yd4GDQZjZP2+6CYkQqt8/NrpkmoK84j8JBICBonrlP2iZHgfSB+g/H9gQPOdc6j/mMQMFOHPsP1GMsNCsRO4/Rp0yANLL7z8BMEjo84HwP4RrCUx49PA/NAjolt478T/Rch2r+1bxPxaCKAoVRfE/a4IW4uMF8T+ImaH0lpnwP6/OK1DTAPA/I788q2d57j8eb5QSj53sP9oPEWAdcuo/Uy0Deu375z+KXkcvqkDlP7ry2IjBRuI/8IGu+Ksq3j8vZjpBW2jXPx4rKhY/V9A/NYmaBv4Rwj+4aIU9BgGZP9jgPureAbi/XgK6nCkqy78e7b+pBBrVv5wjgHV6e9y/jJVrJunS4b+dGJJ64kLlv/vzVZVNhOi/PFOn/S+O679iLJvUCFjuv+V+fST0bPC/hKSa5kKG8b8+zzZpqnTyv0xWVOdLNfO/CDL3q7jF878btFiR+SP0v+nLZluVTvS/Pe352ZVE9L8ZOSnCiwX0vyY4VDGRkfO/eX7Uz0rp8r++nseM5w3yv4Ij+u8eAfG/PnJLBVyK77+Hy8umpbnsv3sd7DqNlum/NOvePW0o5r+MWZlad3fiv2QAoWtCGd2/MJvSDR7j1L8KdxjE8MHIv3RZk0EhQq2/XiAdZxXDtD8gzCy7uCbMP5rD26hk6NY/55WbDamY3z9SWqbjiwbkP/4Uiox/F+g/0ADBxyT06z+eBr2j3JHvPzg7OWdIc/E/oTSVqWf08j9U7rx58kf0Px3dc+n6afU/Xgs4GApX9j9QKbp2Kgz3PyNyXtPwhvc/koH3FITF9z/AcRiMo8b3Pw/bzcarifc/0E091pkO9z99l4/5DFb2PyL5maVGYfU/GDfr5Cgy9D94fygQM8vyP2Ga+OJ8L/E/iAId7F/F7j82HVhW/9HqP9hWTTg/juY/kQsPRHEE4j8KARA1cn/aPxxJ3K7il9A/NFXxxnOsuT8kjJNvAWivvxGWdSjCq8y/f6E/8IC02L/Iq46T13bhv+JKPvMqc+a/CrjClOBB678=\",\"dtype\":\"float64\",\"shape\":[100]},\"y\":{\"__ndarray__\":\"AAAAAAAA8D8AAAAAAADwP/ucVqxqrO8/8dYDBUAF7z+HgGJbWgvuPwo/KFJuwOw/QsEnowgn6z8oLdWqiULpP645Xr8eF+c/Mt/4Xrmp5D/zy81GBADiP8JPDxOtQN4/7UINhEkj2D+KAeQH4bbRP05GRcPYFsY/RpFz58rGsD+8tLbIACemv8Pl98vOjMO/izmvIbPA0L+XLdKjdqHXvyYwRyh4Vt6/mX61TeBm4r/t+3qa5Xrlv6BCVjLaXui//EtDyrMK67/txN6i5XbtvwCTnYh1nO+/GCsMxoe68L/KK8gdjH3xv7ntFZXeFPK/Ms2nyoF+8r8fvnR+6rjyvzWuNcQEw/K/8AfICzic8r95IOLxaUTyv1X/kM7/u/G/xwgl+t4D8b8QsXzEax3wvzpi8jsOFe6/K0yh6RWb678YmbSZitLov4KCpzbkweW/lOfg5mdw4r/jsPdOLszdv3r9/Z05V9a/jgqRkOAozb+g7VHSMV26v8i2QLrGvpg/6IfE97iAwz/RWFlnwvDRPwLsweGvB9o/fef+leD34D84uxeH6snkPz8HIVuib+g/sSVWdA3f6z/cB8D4pA7vP+C4Z/G3+vA//pDL8Y1F8j9JmkhpCmTzP61t+DTNUvQ/LpMkCeoO9T89fWFC8ZX1P+fOFoj35fU/LWptKZz99T9RFLIgDtz1P0v1jawPgfU/sMX8cfjs9D+fdZodtiD0P4RCtn7LHfM/iemFGk7m8T9+6c454nzwP7Owtu5qye0/DJASs+9C6j/FRFkKp27mPwzHkjfGVeI/FNVTa5sE3D9q3ZxU4v3SP9csJxj1W8M/gPj5WNA7Zj9rOOBvp9zCv9M/XDaTCdO/NGdFiTCM3L9xP/8Xiu7iv2Rot4Czcee/AWcP22nD67/0txrl49fvvzqSDcPs0fG/itXBS1GO87+G704uKhz1vwVbNKzudva/rnZcmo+a978INPM4g4P4vwcVr83PLvm/R1+d4RSa+b+N3b8Gk8P5v//FWA0yqvm/au+XlIVN+b9ZIHLmz634vyDptRIDzPe/U3vmQcCp9r8=\",\"dtype\":\"float64\",\"shape\":[100]}},\"selected\":{\"id\":\"3286\",\"type\":\"Selection\"},\"selection_policy\":{\"id\":\"3285\",\"type\":\"UnionRenderers\"}},\"id\":\"3262\",\"type\":\"ColumnDataSource\"},{\"attributes\":{\"plot\":null,\"text\":\"Portrait de phase : 100 points\"},\"id\":\"3226\",\"type\":\"Title\"},{\"attributes\":{\"callback\":null},\"id\":\"3166\",\"type\":\"DataRange1d\"},{\"attributes\":{\"callback\":null},\"id\":\"3168\",\"type\":\"DataRange1d\"},{\"attributes\":{\"callback\":null},\"id\":\"3229\",\"type\":\"DataRange1d\"},{\"attributes\":{\"fill_color\":{\"value\":\"green\"},\"line_color\":{\"value\":\"green\"},\"x\":{\"field\":\"x\"},\"y\":{\"field\":\"y\"}},\"id\":\"3290\",\"type\":\"X\"},{\"attributes\":{},\"id\":\"3170\",\"type\":\"LinearScale\"},{\"attributes\":{\"callback\":null},\"id\":\"3231\",\"type\":\"DataRange1d\"},{\"attributes\":{\"fill_alpha\":{\"value\":0.1},\"fill_color\":{\"value\":\"#1f77b4\"},\"line_alpha\":{\"value\":0.1},\"line_color\":{\"value\":\"#1f77b4\"},\"x\":{\"field\":\"x\"},\"y\":{\"field\":\"y\"}},\"id\":\"3291\",\"type\":\"X\"},{\"attributes\":{},\"id\":\"3172\",\"type\":\"LinearScale\"},{\"attributes\":{},\"id\":\"3233\",\"type\":\"LinearScale\"},{\"attributes\":{\"data_source\":{\"id\":\"3289\",\"type\":\"ColumnDataSource\"},\"glyph\":{\"id\":\"3290\",\"type\":\"X\"},\"hover_glyph\":null,\"muted_glyph\":null,\"nonselection_glyph\":{\"id\":\"3291\",\"type\":\"X\"},\"selection_glyph\":null,\"view\":{\"id\":\"3293\",\"type\":\"CDSView\"}},\"id\":\"3292\",\"type\":\"GlyphRenderer\"},{\"attributes\":{\"axis_label\":\"temps\",\"formatter\":{\"id\":\"3205\",\"type\":\"BasicTickFormatter\"},\"plot\":{\"id\":\"3164\",\"subtype\":\"Figure\",\"type\":\"Plot\"},\"ticker\":{\"id\":\"3175\",\"type\":\"BasicTicker\"}},\"id\":\"3174\",\"type\":\"LinearAxis\"},{\"attributes\":{\"items\":[{\"id\":\"3211\",\"type\":\"LegendItem\"},{\"id\":\"3225\",\"type\":\"LegendItem\"}],\"location\":\"top_left\",\"plot\":{\"id\":\"3164\",\"subtype\":\"Figure\",\"type\":\"Plot\"}},\"id\":\"3210\",\"type\":\"Legend\"},{\"attributes\":{},\"id\":\"3235\",\"type\":\"LinearScale\"},{\"attributes\":{\"source\":{\"id\":\"3289\",\"type\":\"ColumnDataSource\"}},\"id\":\"3293\",\"type\":\"CDSView\"},{\"attributes\":{\"axis_label\":\"position\",\"formatter\":{\"id\":\"3268\",\"type\":\"BasicTickFormatter\"},\"plot\":{\"id\":\"3227\",\"subtype\":\"Figure\",\"type\":\"Plot\"},\"ticker\":{\"id\":\"3238\",\"type\":\"BasicTicker\"}},\"id\":\"3237\",\"type\":\"LinearAxis\"},{\"attributes\":{},\"id\":\"3175\",\"type\":\"BasicTicker\"},{\"attributes\":{},\"id\":\"3301\",\"type\":\"UnionRenderers\"},{\"attributes\":{},\"id\":\"3238\",\"type\":\"BasicTicker\"}],\"root_ids\":[\"3596\"]},\"title\":\"Bokeh Application\",\"version\":\"1.0.4\"}};\n",
       "  var render_items = [{\"docid\":\"c7843bd1-1dd9-4488-93a0-584f269697a9\",\"roots\":{\"3596\":\"2c2aee00-5c63-4331-9578-3864e94597a0\"}}];\n",
       "  root.Bokeh.embed.embed_items_notebook(docs_json, render_items);\n",
       "\n",
       "  }\n",
       "  if (root.Bokeh !== undefined) {\n",
       "    embed_document(root);\n",
       "  } else {\n",
       "    var attempts = 0;\n",
       "    var timer = setInterval(function(root) {\n",
       "      if (root.Bokeh !== undefined) {\n",
       "        embed_document(root);\n",
       "        clearInterval(timer);\n",
       "      }\n",
       "      attempts++;\n",
       "      if (attempts > 100) {\n",
       "        console.log(\"Bokeh: ERROR: Unable to run BokehJS code because BokehJS library is missing\");\n",
       "        clearInterval(timer);\n",
       "      }\n",
       "    }, 10, root)\n",
       "  }\n",
       "})(window);"
      ],
      "application/vnd.bokehjs_exec.v0+json": ""
     },
     "metadata": {
      "application/vnd.bokehjs_exec.v0+json": {
       "id": "3596"
      }
     },
     "output_type": "display_data"
    },
    {
     "data": {
      "text/html": [
       "\n",
       "\n",
       "\n",
       "\n",
       "\n",
       "\n",
       "  <div class=\"bk-root\" id=\"6df361e5-2378-4fa5-a06a-0e85583acd5f\" data-root-id=\"3898\"></div>\n"
      ]
     },
     "metadata": {},
     "output_type": "display_data"
    },
    {
     "data": {
      "application/javascript": [
       "(function(root) {\n",
       "  function embed_document(root) {\n",
       "    \n",
       "  var docs_json = {\"988a6066-42a9-4bf4-b3a3-7e03cecf87c3\":{\"roots\":{\"references\":[{\"attributes\":{\"below\":[{\"id\":\"3908\",\"type\":\"LogAxis\"}],\"left\":[{\"id\":\"3913\",\"type\":\"LogAxis\"}],\"plot_height\":400,\"plot_width\":990,\"renderers\":[{\"id\":\"3908\",\"type\":\"LogAxis\"},{\"id\":\"3912\",\"type\":\"Grid\"},{\"id\":\"3913\",\"type\":\"LogAxis\"},{\"id\":\"3917\",\"type\":\"Grid\"},{\"id\":\"3926\",\"type\":\"BoxAnnotation\"},{\"id\":\"3944\",\"type\":\"Legend\"},{\"id\":\"3936\",\"type\":\"GlyphRenderer\"},{\"id\":\"3949\",\"type\":\"GlyphRenderer\"},{\"id\":\"3954\",\"type\":\"GlyphRenderer\"},{\"id\":\"3970\",\"type\":\"GlyphRenderer\"}],\"title\":{\"id\":\"3897\",\"type\":\"Title\"},\"toolbar\":{\"id\":\"3924\",\"type\":\"Toolbar\"},\"x_range\":{\"id\":\"3900\",\"type\":\"DataRange1d\"},\"x_scale\":{\"id\":\"3904\",\"type\":\"LogScale\"},\"y_range\":{\"id\":\"3902\",\"type\":\"DataRange1d\"},\"y_scale\":{\"id\":\"3906\",\"type\":\"LogScale\"}},\"id\":\"3898\",\"subtype\":\"Figure\",\"type\":\"Plot\"},{\"attributes\":{},\"id\":\"3904\",\"type\":\"LogScale\"},{\"attributes\":{},\"id\":\"3964\",\"type\":\"Selection\"},{\"attributes\":{\"source\":{\"id\":\"3933\",\"type\":\"ColumnDataSource\"}},\"id\":\"3937\",\"type\":\"CDSView\"},{\"attributes\":{\"callback\":null},\"id\":\"3902\",\"type\":\"DataRange1d\"},{\"attributes\":{},\"id\":\"4149\",\"type\":\"UnionRenderers\"},{\"attributes\":{\"callback\":null,\"data\":{\"x\":{\"__ndarray__\":\"CgAAAB4AAABGAAAAZAAAACwBAAC8AgAA6AMAAA==\",\"dtype\":\"int32\",\"shape\":[7]},\"y\":[2.4989476391106304,0.18179836660692927,0.03254787301122619,0.015912874998090354,0.0017593349670209646,0.00032271166487851666,0.00015807681028509601]},\"selected\":{\"id\":\"3962\",\"type\":\"Selection\"},\"selection_policy\":{\"id\":\"3961\",\"type\":\"UnionRenderers\"}},\"id\":\"3933\",\"type\":\"ColumnDataSource\"},{\"attributes\":{\"ticker\":null},\"id\":\"3939\",\"type\":\"LogTickFormatter\"},{\"attributes\":{\"plot\":null,\"text\":\"Erreur commise par Rk2\"},\"id\":\"3897\",\"type\":\"Title\"},{\"attributes\":{\"bottom_units\":\"screen\",\"fill_alpha\":{\"value\":0.5},\"fill_color\":{\"value\":\"lightgrey\"},\"left_units\":\"screen\",\"level\":\"overlay\",\"line_alpha\":{\"value\":1.0},\"line_color\":{\"value\":\"black\"},\"line_dash\":[4,4],\"line_width\":{\"value\":2},\"plot\":null,\"render_mode\":\"css\",\"right_units\":\"screen\",\"top_units\":\"screen\"},\"id\":\"3926\",\"type\":\"BoxAnnotation\"},{\"attributes\":{\"active_drag\":\"auto\",\"active_inspect\":\"auto\",\"active_multi\":null,\"active_scroll\":\"auto\",\"active_tap\":\"auto\",\"tools\":[{\"id\":\"3918\",\"type\":\"PanTool\"},{\"id\":\"3919\",\"type\":\"WheelZoomTool\"},{\"id\":\"3920\",\"type\":\"BoxZoomTool\"},{\"id\":\"3921\",\"type\":\"SaveTool\"},{\"id\":\"3922\",\"type\":\"ResetTool\"},{\"id\":\"3923\",\"type\":\"HelpTool\"}]},\"id\":\"3924\",\"type\":\"Toolbar\"},{\"attributes\":{\"line_color\":\"#1f77b4\",\"x\":{\"field\":\"x\"},\"y\":{\"field\":\"y\"}},\"id\":\"3968\",\"type\":\"Line\"},{\"attributes\":{\"ticker\":null},\"id\":\"3941\",\"type\":\"LogTickFormatter\"},{\"attributes\":{\"line_alpha\":0.1,\"line_color\":\"#1f77b4\",\"x\":{\"field\":\"x\"},\"y\":{\"field\":\"y\"}},\"id\":\"3969\",\"type\":\"Line\"},{\"attributes\":{\"items\":[{\"id\":\"3945\",\"type\":\"LegendItem\"},{\"id\":\"3966\",\"type\":\"LegendItem\"}],\"location\":\"top_right\",\"plot\":{\"id\":\"3898\",\"subtype\":\"Figure\",\"type\":\"Plot\"}},\"id\":\"3944\",\"type\":\"Legend\"},{\"attributes\":{},\"id\":\"3906\",\"type\":\"LogScale\"},{\"attributes\":{\"data_source\":{\"id\":\"3967\",\"type\":\"ColumnDataSource\"},\"glyph\":{\"id\":\"3968\",\"type\":\"Line\"},\"hover_glyph\":null,\"muted_glyph\":null,\"nonselection_glyph\":{\"id\":\"3969\",\"type\":\"Line\"},\"selection_glyph\":null,\"view\":{\"id\":\"3971\",\"type\":\"CDSView\"}},\"id\":\"3970\",\"type\":\"GlyphRenderer\"},{\"attributes\":{\"label\":{\"value\":\"Erreur pratique - Rk2\"},\"renderers\":[{\"id\":\"3936\",\"type\":\"GlyphRenderer\"}]},\"id\":\"3945\",\"type\":\"LegendItem\"},{\"attributes\":{\"num_minor_ticks\":10},\"id\":\"3914\",\"type\":\"LogTicker\"},{\"attributes\":{\"num_minor_ticks\":10},\"id\":\"3909\",\"type\":\"LogTicker\"},{\"attributes\":{\"source\":{\"id\":\"3967\",\"type\":\"ColumnDataSource\"}},\"id\":\"3971\",\"type\":\"CDSView\"},{\"attributes\":{\"callback\":null,\"data\":{\"x\":{\"__ndarray__\":\"CgAAAB4AAABGAAAAZAAAACwBAAC8AgAA6AMAAA==\",\"dtype\":\"int32\",\"shape\":[7]},\"y\":{\"__ndarray__\":\"mpmZmZmZuT8RERERERGhPx3UQR3UQY0/exSuR+F6hD9PG+i0gU5rP7GpNOTcZ1c//Knx0k1iUD8=\",\"dtype\":\"float64\",\"shape\":[7]}},\"selected\":{\"id\":\"3964\",\"type\":\"Selection\"},\"selection_policy\":{\"id\":\"3963\",\"type\":\"UnionRenderers\"}},\"id\":\"3946\",\"type\":\"ColumnDataSource\"},{\"attributes\":{\"axis_label\":\"pas\",\"formatter\":{\"id\":\"3939\",\"type\":\"LogTickFormatter\"},\"plot\":{\"id\":\"3898\",\"subtype\":\"Figure\",\"type\":\"Plot\"},\"ticker\":{\"id\":\"3909\",\"type\":\"LogTicker\"}},\"id\":\"3908\",\"type\":\"LogAxis\"},{\"attributes\":{\"line_color\":\"#1f77b4\",\"x\":{\"field\":\"x\"},\"y\":{\"field\":\"y\"}},\"id\":\"3947\",\"type\":\"Line\"},{\"attributes\":{},\"id\":\"4150\",\"type\":\"Selection\"},{\"attributes\":{\"line_alpha\":0.1,\"line_color\":\"#1f77b4\",\"x\":{\"field\":\"x\"},\"y\":{\"field\":\"y\"}},\"id\":\"3948\",\"type\":\"Line\"},{\"attributes\":{\"callback\":null},\"id\":\"3900\",\"type\":\"DataRange1d\"},{\"attributes\":{\"axis_label\":\"Erreur commise sur la position\",\"formatter\":{\"id\":\"3941\",\"type\":\"LogTickFormatter\"},\"plot\":{\"id\":\"3898\",\"subtype\":\"Figure\",\"type\":\"Plot\"},\"ticker\":{\"id\":\"3914\",\"type\":\"LogTicker\"}},\"id\":\"3913\",\"type\":\"LogAxis\"},{\"attributes\":{},\"id\":\"4151\",\"type\":\"UnionRenderers\"},{\"attributes\":{\"data_source\":{\"id\":\"3946\",\"type\":\"ColumnDataSource\"},\"glyph\":{\"id\":\"3947\",\"type\":\"Line\"},\"hover_glyph\":null,\"muted_glyph\":null,\"nonselection_glyph\":{\"id\":\"3948\",\"type\":\"Line\"},\"selection_glyph\":null,\"view\":{\"id\":\"3950\",\"type\":\"CDSView\"}},\"id\":\"3949\",\"type\":\"GlyphRenderer\"},{\"attributes\":{\"plot\":{\"id\":\"3898\",\"subtype\":\"Figure\",\"type\":\"Plot\"},\"ticker\":{\"id\":\"3909\",\"type\":\"LogTicker\"}},\"id\":\"3912\",\"type\":\"Grid\"},{\"attributes\":{\"fill_alpha\":{\"value\":0.1},\"fill_color\":{\"value\":\"#1f77b4\"},\"line_alpha\":{\"value\":0.1},\"line_color\":{\"value\":\"#1f77b4\"},\"x\":{\"field\":\"x\"},\"y\":{\"field\":\"y\"}},\"id\":\"3935\",\"type\":\"X\"},{\"attributes\":{},\"id\":\"4152\",\"type\":\"Selection\"},{\"attributes\":{\"source\":{\"id\":\"3946\",\"type\":\"ColumnDataSource\"}},\"id\":\"3950\",\"type\":\"CDSView\"},{\"attributes\":{\"callback\":null,\"data\":{\"x\":{\"__ndarray__\":\"CgAAAB4AAABGAAAAZAAAACwBAAC8AgAA6AMAAA==\",\"dtype\":\"int32\",\"shape\":[7]},\"y\":{\"__ndarray__\":\"fBSuR+F6hD/fvJp4VjRSP6UvPODXvyo/LUMc6+I2Gj8pWKd7O03nPiKP/aOeHsE+je21oPfGsD4=\",\"dtype\":\"float64\",\"shape\":[7]}},\"selected\":{\"id\":\"4150\",\"type\":\"Selection\"},\"selection_policy\":{\"id\":\"4149\",\"type\":\"UnionRenderers\"}},\"id\":\"3951\",\"type\":\"ColumnDataSource\"},{\"attributes\":{\"callback\":null,\"data\":{\"x\":{\"__ndarray__\":\"CgAAAB4AAABGAAAAZAAAACwBAAC8AgAA6AMAAA==\",\"dtype\":\"int32\",\"shape\":[7]},\"y\":{\"__ndarray__\":\"/anx0k1iUD8hdAvnBmsDP54VIaHidMg+ju21oPfGsD4t12XkVOJjPp8qLoIlCyk+ldYm6AsuET4=\",\"dtype\":\"float64\",\"shape\":[7]}},\"selected\":{\"id\":\"4152\",\"type\":\"Selection\"},\"selection_policy\":{\"id\":\"4151\",\"type\":\"UnionRenderers\"}},\"id\":\"3967\",\"type\":\"ColumnDataSource\"},{\"attributes\":{\"line_color\":\"green\",\"x\":{\"field\":\"x\"},\"y\":{\"field\":\"y\"}},\"id\":\"3952\",\"type\":\"Line\"},{\"attributes\":{\"line_alpha\":0.1,\"line_color\":\"#1f77b4\",\"x\":{\"field\":\"x\"},\"y\":{\"field\":\"y\"}},\"id\":\"3953\",\"type\":\"Line\"},{\"attributes\":{\"dimension\":1,\"plot\":{\"id\":\"3898\",\"subtype\":\"Figure\",\"type\":\"Plot\"},\"ticker\":{\"id\":\"3914\",\"type\":\"LogTicker\"}},\"id\":\"3917\",\"type\":\"Grid\"},{\"attributes\":{\"data_source\":{\"id\":\"3951\",\"type\":\"ColumnDataSource\"},\"glyph\":{\"id\":\"3952\",\"type\":\"Line\"},\"hover_glyph\":null,\"muted_glyph\":null,\"nonselection_glyph\":{\"id\":\"3953\",\"type\":\"Line\"},\"selection_glyph\":null,\"view\":{\"id\":\"3955\",\"type\":\"CDSView\"}},\"id\":\"3954\",\"type\":\"GlyphRenderer\"},{\"attributes\":{\"label\":{\"value\":\"ordre 2\"},\"renderers\":[{\"id\":\"3954\",\"type\":\"GlyphRenderer\"}]},\"id\":\"3966\",\"type\":\"LegendItem\"},{\"attributes\":{},\"id\":\"3922\",\"type\":\"ResetTool\"},{\"attributes\":{},\"id\":\"3919\",\"type\":\"WheelZoomTool\"},{\"attributes\":{\"source\":{\"id\":\"3951\",\"type\":\"ColumnDataSource\"}},\"id\":\"3955\",\"type\":\"CDSView\"},{\"attributes\":{},\"id\":\"3923\",\"type\":\"HelpTool\"},{\"attributes\":{\"overlay\":{\"id\":\"3926\",\"type\":\"BoxAnnotation\"}},\"id\":\"3920\",\"type\":\"BoxZoomTool\"},{\"attributes\":{},\"id\":\"3921\",\"type\":\"SaveTool\"},{\"attributes\":{},\"id\":\"3961\",\"type\":\"UnionRenderers\"},{\"attributes\":{\"fill_color\":{\"value\":\"red\"},\"line_color\":{\"value\":\"red\"},\"x\":{\"field\":\"x\"},\"y\":{\"field\":\"y\"}},\"id\":\"3934\",\"type\":\"X\"},{\"attributes\":{\"data_source\":{\"id\":\"3933\",\"type\":\"ColumnDataSource\"},\"glyph\":{\"id\":\"3934\",\"type\":\"X\"},\"hover_glyph\":null,\"muted_glyph\":null,\"nonselection_glyph\":{\"id\":\"3935\",\"type\":\"X\"},\"selection_glyph\":null,\"view\":{\"id\":\"3937\",\"type\":\"CDSView\"}},\"id\":\"3936\",\"type\":\"GlyphRenderer\"},{\"attributes\":{},\"id\":\"3962\",\"type\":\"Selection\"},{\"attributes\":{},\"id\":\"3918\",\"type\":\"PanTool\"},{\"attributes\":{},\"id\":\"3963\",\"type\":\"UnionRenderers\"}],\"root_ids\":[\"3898\"]},\"title\":\"Bokeh Application\",\"version\":\"1.0.4\"}};\n",
       "  var render_items = [{\"docid\":\"988a6066-42a9-4bf4-b3a3-7e03cecf87c3\",\"roots\":{\"3898\":\"6df361e5-2378-4fa5-a06a-0e85583acd5f\"}}];\n",
       "  root.Bokeh.embed.embed_items_notebook(docs_json, render_items);\n",
       "\n",
       "  }\n",
       "  if (root.Bokeh !== undefined) {\n",
       "    embed_document(root);\n",
       "  } else {\n",
       "    var attempts = 0;\n",
       "    var timer = setInterval(function(root) {\n",
       "      if (root.Bokeh !== undefined) {\n",
       "        embed_document(root);\n",
       "        clearInterval(timer);\n",
       "      }\n",
       "      attempts++;\n",
       "      if (attempts > 100) {\n",
       "        console.log(\"Bokeh: ERROR: Unable to run BokehJS code because BokehJS library is missing\");\n",
       "        clearInterval(timer);\n",
       "      }\n",
       "    }, 10, root)\n",
       "  }\n",
       "})(window);"
      ],
      "application/vnd.bokehjs_exec.v0+json": ""
     },
     "metadata": {
      "application/vnd.bokehjs_exec.v0+json": {
       "id": "3898"
      }
     },
     "output_type": "display_data"
    }
   ],
   "source": [
    "def f(t,y):\n",
    "    return(np.array([y[1],-y[0]]))\n",
    "\n",
    "def H(p,q):\n",
    "    return 0.5 * (p*p+q*q)\n",
    "\n",
    "t0=0\n",
    "y0=np.array([0,1])\n",
    "tf=10\n",
    "nt=100\n",
    "\n",
    "\n",
    "T=np.linspace(t0,tf,nt)\n",
    "Yrk=euler_explicite(f,t0,tf,nt,y0)\n",
    "Yrki=rk2(f,t0,tf,nt,y0)\n",
    "Ythq=solutionq(T)\n",
    "Ythp=solutionp(T)\n",
    "\n",
    "fig1 = figure(width=500, height=300, title=\"Position : \"+ str(nt) + \" points\")\n",
    "fig1.x(T,Yrk[:,0],color='red',legend=\"Euler Explicite\")\n",
    "fig1.x(T,Yrki[:,0],color='blue',legend=\"Rk2\")\n",
    "fig1.x(T,Ythq,color=\"green\",legend=\"solution exacte\")\n",
    "fig1.xaxis.axis_label = \"temps\"\n",
    "fig1.yaxis.axis_label = \"position\"\n",
    "\n",
    "fig2 = figure(width=500, height=300, title=\"Vitesse: \"+ str(nt) + \" points\")\n",
    "fig2.x(T,Yrk[:,1],color='red',legend=\"Euler Explicite\")\n",
    "fig2.x(T,Yrki[:,1],color='blue',legend=\"Rk2\")\n",
    "fig2.x(T,Ythp,color=\"green\",legend=\"solution exacte\")\n",
    "fig2.xaxis.axis_label = \"temps\"\n",
    "fig2.yaxis.axis_label = \"Vitesse\"\n",
    "\n",
    "He=[H(y[0],y[1]) for y in Yrk]\n",
    "Hi=[H(y[0],y[1]) for y in Yrki]\n",
    "Hth=[0.5*(Ythq[k]**2+Ythp[k]**2) for k in range(len(Ythq))]\n",
    "fig3 = figure(width=500, height=300, title=\"Hamiltonien : \"+ str(nt) + \" points\")\n",
    "#fig3.x(T,He,color='red',legend=\"Euler Explicite\")\n",
    "fig3.x(T,Hi,color='blue',legend=\"Rk2\")\n",
    "fig3.x(T,Hth,color=\"green\",legend=\"solution exacte\")\n",
    "\n",
    "fig3.xaxis.axis_label = \"temps\"\n",
    "fig3.yaxis.axis_label = \"hamiltonien\"\n",
    "\n",
    "fig4 = figure(width=500, height=300, title=\"Portrait de phase : \"+ str(nt) + \" points\")\n",
    "fig4.x(Yrk[:,0],Yrk[:,1],color=\"blue\",legend=\"Euler Explicite\")\n",
    "fig4.x(Yrki[:,0],Yrki[:,1],color=\"red\",legend=\"Rk2\")\n",
    "fig4.x(Ythq,Ythp,color=\"green\",legend=\"Solution exacte\")\n",
    "fig4.xaxis.axis_label = \"position\"\n",
    "fig4.yaxis.axis_label = \"vitesse\"\n",
    "\n",
    "fig1.legend.location = \"bottom_left\"\n",
    "fig2.legend.location = \"bottom_left\"\n",
    "fig3.legend.location = \"top_left\"\n",
    "fig4.legend.location = \"top_right\"\n",
    "\n",
    "show(row(fig1,fig2))\n",
    "show(row(fig3,fig4))\n",
    "\n",
    "\n",
    "# étude de l'erreur pour plusieurs n:\n",
    "\n",
    "Nt=np.array([10,30,70,100,300,700,1000]) \n",
    "Err=[]\n",
    "\n",
    "for n in Nt:\n",
    "    T=np.linspace(t0,tf,n+1)\n",
    "    Yrk=rk2(f,t0,tf,n+1,y0)  # n+1 points, n intervalles\n",
    "  \n",
    "    Yth=solutionq(T)\n",
    "    \n",
    "    err=abs(Yrk[:,0]-Yth)\n",
    "    Err.append(np.max(err))# on ne prend que le max (sera tout le temps le dernier)\n",
    "  \n",
    "\n",
    "\n",
    "fig5 = figure(width=990, height=400,x_axis_type=\"log\",y_axis_type=\"log\",title=\"Erreur commise par Rk2\")\n",
    "fig5.x(Nt, Err,legend=\"Erreur pratique - Rk2\",color=\"red\")\n",
    "\n",
    "fig5.xaxis.axis_label = \"pas\"\n",
    "fig5.yaxis.axis_label = \"Erreur commise sur la position\"\n",
    "fig5.legend.location = \"top_left\"\n",
    "\n",
    "# tracé de quelques droites: ordres 1, 2, 3 et 4 représentés ici\n",
    "Ht=1/Nt\n",
    "fig5.line(Nt,Ht)\n",
    "fig5.line(Nt,Ht**2,color=\"green\",legend=\"ordre 2\")\n",
    "fig5.line(Nt,Ht**3)\n",
    "fig5.legend.location = \"top_right\"\n",
    "\n",
    "\n",
    "show(fig5)"
   ]
  },
  {
   "cell_type": "markdown",
   "metadata": {},
   "source": [
    "On trouve un schéma plus stable que les précédents avec une convergence de l'erreur en ordre 2. Cependant, comme on le voit sur le graphe du hamiltonien, la divergence de celui-ci est toujours présente bien que beaucoup moins importante. \n",
    "NB: je n'ai pas affiché contrairement aux autre graphes le schéma Euler explicite comme il empêchait de distinguer la divergence de Rk2 vis-à-vis du Hamiltonien."
   ]
  },
  {
   "cell_type": "markdown",
   "metadata": {},
   "source": [
    "## Schéma symplectique\n",
    "\n",
    "Considérez le schéma suivant :\n",
    "\n",
    "\\begin{equation*}\n",
    "  \\label{schema_symp}\n",
    "  y_{n+1} = y_n + h f\\left(t_n+\\frac{h}{2},\\ \\frac{y_n+y_{n+1}}{2}\\right).\n",
    "\\end{equation*}\n",
    "\n",
    "**Implémenter ce schéma pour le système  l'ocillateur harmonique.**"
   ]
  },
  {
   "cell_type": "code",
   "execution_count": 12,
   "metadata": {},
   "outputs": [],
   "source": [
    "def pt_milieu_symplectique(A, tini, tend, nt, yini): # attention cette fois yini est de dimension 2\n",
    "    h=(tend-tini)/(nt-1)\n",
    "    t0=tini\n",
    "    \n",
    "    y=np.zeros((nt,2))\n",
    "    y[0]=yini\n",
    "    \n",
    "    for k in range(1,nt):\n",
    "        y[k]=np.dot(A,y[k-1]) \n",
    "        t0=t0+h\n",
    "\n",
    "    return y\n",
    "\n"
   ]
  },
  {
   "cell_type": "markdown",
   "metadata": {},
   "source": [
    "**Observer numériquement son ordre, ainsi que l'évolution de l'hamiltonien, et commenter les résultats obtenus.**"
   ]
  },
  {
   "cell_type": "markdown",
   "metadata": {},
   "source": [
    "Pour notre fonction on trouve: \n",
    " $$ \\begin{bmatrix}\n",
    "    q_{n+1} \\\\p_{n+1} \n",
    "  \\end{bmatrix} = \\begin{bmatrix}\n",
    "    \\frac{1}{1+\\frac{h^2}{2}} (q_n (1-\\frac{h^2}{4}) + h p_n) \n",
    "    \\\\ \\frac{1}{1+\\frac{h^2}{4}} ( -h q_n + (1-\\frac{h^2}{4} ) p_n\n",
    "  \\end{bmatrix} = \\frac{1}{1+\\frac{h^2}{4}} \\begin{bmatrix}\n",
    "    1-\\frac{h^2}{4} & h \\\\ -h & 1-\\frac{h^2}{4} \n",
    "  \\end{bmatrix}  \\begin{bmatrix}\n",
    "    q_{n} \\\\ p_{n} \n",
    "  \\end{bmatrix}\n",
    " = A_1 \\begin{bmatrix}\n",
    "    q_{n} \\\\ p_{n} \n",
    "  \\end{bmatrix} $$"
   ]
  },
  {
   "cell_type": "code",
   "execution_count": 15,
   "metadata": {},
   "outputs": [
    {
     "data": {
      "text/html": [
       "\n",
       "\n",
       "\n",
       "\n",
       "\n",
       "\n",
       "  <div class=\"bk-root\" id=\"a3b98edf-fd37-471d-91c2-5354d500d0fd\" data-root-id=\"7320\"></div>\n"
      ]
     },
     "metadata": {},
     "output_type": "display_data"
    },
    {
     "data": {
      "application/javascript": [
       "(function(root) {\n",
       "  function embed_document(root) {\n",
       "    \n",
       "  var docs_json = {\"3453f2eb-22e6-4047-9627-4fd5460bdd0c\":{\"roots\":{\"references\":[{\"attributes\":{\"children\":[{\"id\":\"7053\",\"subtype\":\"Figure\",\"type\":\"Plot\"},{\"id\":\"7132\",\"subtype\":\"Figure\",\"type\":\"Plot\"}]},\"id\":\"7320\",\"type\":\"Row\"},{\"attributes\":{},\"id\":\"7140\",\"type\":\"LinearScale\"},{\"attributes\":{},\"id\":\"7143\",\"type\":\"BasicTicker\"},{\"attributes\":{\"plot\":{\"id\":\"7132\",\"subtype\":\"Figure\",\"type\":\"Plot\"},\"ticker\":{\"id\":\"7143\",\"type\":\"BasicTicker\"}},\"id\":\"7146\",\"type\":\"Grid\"},{\"attributes\":{\"axis_label\":\"Vitesse\",\"formatter\":{\"id\":\"7175\",\"type\":\"BasicTickFormatter\"},\"plot\":{\"id\":\"7132\",\"subtype\":\"Figure\",\"type\":\"Plot\"},\"ticker\":{\"id\":\"7148\",\"type\":\"BasicTicker\"}},\"id\":\"7147\",\"type\":\"LinearAxis\"},{\"attributes\":{\"callback\":null,\"data\":{\"x\":{\"__ndarray__\":\"AAAAAAAAAAAxb2dIzNu5PzFvZ0jM28k/ZZNNNtlk0z8xb2dIzNvZP3+lQK1fKeA/ZZNNNtlk4z9LgVq/UqDmPzFvZ0jM2+k/F1100UUX7T9/pUCtXynwP3Icx3Ecx/E/ZZNNNtlk8z9YCtT6lQL1P0uBWr9SoPY/Pvjggw8++D8xb2dIzNv5PyTm7QyJefs/F1100UUX/T8K1PqVArX+P3+lQK1fKQBA+OCDDz74AEByHMdxHMcBQOtXCtT6lQJAZZNNNtlkA0DezpCYtzMEQFgK1PqVAgVA0UUXXXTRBUBLgVq/UqAGQMS8nSExbwdAPvjggw8+CEC3MyTm7QwJQDFvZ0jM2wlAq6qqqqqqCkAk5u0MiXkLQJ4hMW9nSAxAF1100UUXDUCRmLczJOYNQArU+pUCtQ5AhA8++OCDD0B/pUCtXykQQDtDYt7OkBBA+OCDDz74EEC1fqVArV8RQHIcx3EcxxFALrrooosuEkDrVwrU+pUSQKj1KwVq/RJAZZNNNtlkE0AiMW9nSMwTQN7OkJi3MxRAm2yyySabFEBYCtT6lQIVQBWo9SsFahVA0UUXXXTRFUCO4ziO4zgWQEuBWr9SoBZACB988MEHF0DEvJ0hMW8XQIFav1Kg1hdAPvjggw8+GED7lQK1fqUYQLczJObtDBlAdNFFF110GUAxb2dIzNsZQO4MiXk7QxpAq6qqqqqqGkBnSMzbGRIbQCTm7QyJeRtA4YMPPvjgG0CeITFvZ0gcQFq/UqDWrxxAF1100UUXHUDU+pUCtX4dQJGYtzMk5h1ATTbZZJNNHkAK1PqVArUeQMdxHMdxHB9AhA8++OCDH0BArV8pUOsfQH+lQK1fKSBAXXTRRRddIEA7Q2LezpAgQBoS83aGxCBA+OCDDz74IEDXrxSo9SshQLV+pUCtXyFAk0022WSTIUByHMdxHMchQFDrVwrU+iFALrrooosuIkANiXk7Q2IiQOtXCtT6lSJAyiabbLLJIkCo9SsFav0iQIbEvJ0hMSNAZZNNNtlkI0BDYt7OkJgjQCIxb2dIzCNAAAAAAAAAJEA=\",\"dtype\":\"float64\",\"shape\":[100]},\"y\":{\"__ndarray__\":\"AAAAAAAA8D99TitWNdbvP5/uA+0LWe8/OWNK98qJ7j9daxqikGrtP3nklYpM/us/ZRwVD7hI6j83S/ePTE7oP2qulbk3FOY/7LwA9k2g4z+grAMq+/jgP+G9xMpjStw/1h2qZLJY1j8yTMJncizQP/PkNxebq8M/JNTqOOUqqz+msWonHqCovwCve2m/CsO/o5+4DLC7z7863gSozgzWvyfidxwSAty/47Gf8QPX4L/Khe2q6oDjv/j8ZkfD9+W/OftVehk16L/fNbiEDzPqvx2myJJt7Ou/VsonZ69c7b82yNQvEIDuv5mC+GWUU++/a+qjnhHV77+FZgMcmgHwvzEIPtSC3e+/ALGYmF9k77+YUQwuB5nuv7iXcYWNfe2/i0H9Z9gU7L9ccC3il2Lqv/iwAp08a+i/VEbHPuwz5r95Y9Dxc8Ljv96BfjQ5HeG/K1t+NFKW3L8/bs9STKfWv/ITxQrqfNC/oKg7X6BOxL9IKUXdpritvyCn9O9fF6Y/DvzHbXlrwj/a7ZG89CDPPyKJfvGAwtU/dsjA75a72z/3cLrrC7bgP8Eywo6OYuM/WknGmVLc5T+d0VYb3BzoP2d2c/NEHuo/zJgER0zb6z/b+6ZCZE/tPygivgi+du4/TLmMq1NO7z9UfC8Z8NPvP1Y/XHIaA/A/Nb5A3Z3k7z8AiIVpgm/vP7iZf6QUqO4/EaxDPV6Q7T9p0VciOyvsPxJ4bwZSfOo/tMkh0gqI6D/00Jwbg1PmP/EJhcKA5OM/XToP02JB4T+oxsmvIeLcP/gC/YzR9dY/hL6OalfN0D8+ji04pvHEP86jvY5fI7A/9ti7pveNo7/Ws1x/9MvBv+mRILDmhc6/kD5MZAB41b8Hsuf433Tbv9QtStXxlOC/bbW+jwxE478siS+auMDlv3K/cWdyBOi/w39qfksJ6r+HNmMD+snrv5QcZ5LmQe2/JotgRjht7r/z5nPN3kjvv5rJL3Ca0u+/go5E+4AE8L/SBzBbhuvvvyc0iUN0eu+/AxhvOPO27r9aKsGhAqPtv9vxo4x0Qey/Tz8dSuaV6r8=\",\"dtype\":\"float64\",\"shape\":[100]}},\"selected\":{\"id\":\"7191\",\"type\":\"Selection\"},\"selection_policy\":{\"id\":\"7190\",\"type\":\"UnionRenderers\"}},\"id\":\"7167\",\"type\":\"ColumnDataSource\"},{\"attributes\":{},\"id\":\"7148\",\"type\":\"BasicTicker\"},{\"attributes\":{\"callback\":null,\"data\":{\"x\":{\"__ndarray__\":\"AAAAAAAAAAAxb2dIzNu5PzFvZ0jM28k/ZZNNNtlk0z8xb2dIzNvZP3+lQK1fKeA/ZZNNNtlk4z9LgVq/UqDmPzFvZ0jM2+k/F1100UUX7T9/pUCtXynwP3Icx3Ecx/E/ZZNNNtlk8z9YCtT6lQL1P0uBWr9SoPY/Pvjggw8++D8xb2dIzNv5PyTm7QyJefs/F1100UUX/T8K1PqVArX+P3+lQK1fKQBA+OCDDz74AEByHMdxHMcBQOtXCtT6lQJAZZNNNtlkA0DezpCYtzMEQFgK1PqVAgVA0UUXXXTRBUBLgVq/UqAGQMS8nSExbwdAPvjggw8+CEC3MyTm7QwJQDFvZ0jM2wlAq6qqqqqqCkAk5u0MiXkLQJ4hMW9nSAxAF1100UUXDUCRmLczJOYNQArU+pUCtQ5AhA8++OCDD0B/pUCtXykQQDtDYt7OkBBA+OCDDz74EEC1fqVArV8RQHIcx3EcxxFALrrooosuEkDrVwrU+pUSQKj1KwVq/RJAZZNNNtlkE0AiMW9nSMwTQN7OkJi3MxRAm2yyySabFEBYCtT6lQIVQBWo9SsFahVA0UUXXXTRFUCO4ziO4zgWQEuBWr9SoBZACB988MEHF0DEvJ0hMW8XQIFav1Kg1hdAPvjggw8+GED7lQK1fqUYQLczJObtDBlAdNFFF110GUAxb2dIzNsZQO4MiXk7QxpAq6qqqqqqGkBnSMzbGRIbQCTm7QyJeRtA4YMPPvjgG0CeITFvZ0gcQFq/UqDWrxxAF1100UUXHUDU+pUCtX4dQJGYtzMk5h1ATTbZZJNNHkAK1PqVArUeQMdxHMdxHB9AhA8++OCDH0BArV8pUOsfQH+lQK1fKSBAXXTRRRddIEA7Q2LezpAgQBoS83aGxCBA+OCDDz74IEDXrxSo9SshQLV+pUCtXyFAk0022WSTIUByHMdxHMchQFDrVwrU+iFALrrooosuIkANiXk7Q2IiQOtXCtT6lSJAyiabbLLJIkCo9SsFav0iQIbEvJ0hMSNAZZNNNtlkI0BDYt7OkJgjQCIxb2dIzCNAAAAAAAAAJEA=\",\"dtype\":\"float64\",\"shape\":[100]},\"y\":{\"__ndarray__\":\"AAAAAAAA8D/fVZCOUNbvP1N46tSuWe8/6JoWiF+L7j+6pIMpfG3tP8yppY7tAuw/PrJrTGRP6j/5j0waT1foP65a9kXPH+Y/GcG2Vauu4z+ckm78PwrhPza/iAzfctw/AM+K0h+H1j+Uwl1Rr2DQP78Rq/ImH8Q/lGKpLQsirT8wiOQebISmv28VmEsOfMK/JtLr+tgmz797yj1EPcDVv4Y1M+1itNu/JbuhRy2w4L8oVmKnrlrjvwU6iG7D0uW/Z4Xw1PwR6L8SyRI0gBLqvwnEfEcWz+u/sD+jwzhD7b/VkqAfHmvuv0SRKnPDQ++/FPAKT/TK77/bYql7UP/vvyYzsI5P4O+/T450TkJu779GlYTfUaruv+F1f758lu2/rnwYjpE17L//Ls7GJ4vqv/xZY1uWm+i/4zt7auhr5r/ooM0a0AHkv8rCLsSXY+G/2f4oGCMw3b+oCpdAC03Xvz/DUXw+LdG/gCGW3mLBxb8atI5TNd+xvyR2BRusy58/FDjF3irYwD/sxY2Y/YrNP0Lzahts+NQ/sn+947b02j/T192BY1XgPxW+IqndBeM/86BfMciE5T/lbsCDosvnPzThuRl+1Ok/ai5N8Q2a6z/mAX1ctBftP9+t+AePSe4/5qKoGYEs7z8p775MO77vP6/uKvZB/e8/w8jC4fDo7z/koRH+fIHvP+Dub9Lzx+4/6jLNwDi+7T+gp1AaAGfsP4rkoRPIxeo/Dc40q8/e6D/Tck6ZC7fmP3UYlWYZVOQ/DjvPyjC84T9OQ97zJuzdPxJ0PhP3Edg/xhRYOhH50T/mmWYjsGLHP7Y9HwOhLLU/7AmbLSONkr9wypVUHWe+v9BrnyHe7cu/FK8G6LQv1L8VnsIm4zPav5pvIR7N89+/D11j/Tuw4r9Ae+3l4DXlv2cKfipDhOe/1duYpWCV6b9wu9jR1mPrv28DcdHw6uy/6JBBsbMm7r91wYrH6BPvv2EXPRMmsO+/dHoUhtT5779oOBwpNPDvvwHG0BBek++/QT7IG0Tk7r9u3It8ruTtv1gxDBU3l+y/uqLIr0L/6r8=\",\"dtype\":\"float64\",\"shape\":[100]}},\"selected\":{\"id\":\"7631\",\"type\":\"Selection\"},\"selection_policy\":{\"id\":\"7630\",\"type\":\"UnionRenderers\"}},\"id\":\"7180\",\"type\":\"ColumnDataSource\"},{\"attributes\":{\"fill_alpha\":{\"value\":0.1},\"fill_color\":{\"value\":\"#1f77b4\"},\"line_alpha\":{\"value\":0.1},\"line_color\":{\"value\":\"#1f77b4\"},\"x\":{\"field\":\"x\"},\"y\":{\"field\":\"y\"}},\"id\":\"7169\",\"type\":\"X\"},{\"attributes\":{\"data_source\":{\"id\":\"7167\",\"type\":\"ColumnDataSource\"},\"glyph\":{\"id\":\"7168\",\"type\":\"X\"},\"hover_glyph\":null,\"muted_glyph\":null,\"nonselection_glyph\":{\"id\":\"7169\",\"type\":\"X\"},\"selection_glyph\":null,\"view\":{\"id\":\"7171\",\"type\":\"CDSView\"}},\"id\":\"7170\",\"type\":\"GlyphRenderer\"},{\"attributes\":{},\"id\":\"7152\",\"type\":\"PanTool\"},{\"attributes\":{},\"id\":\"7153\",\"type\":\"WheelZoomTool\"},{\"attributes\":{\"overlay\":{\"id\":\"7160\",\"type\":\"BoxAnnotation\"}},\"id\":\"7154\",\"type\":\"BoxZoomTool\"},{\"attributes\":{},\"id\":\"7155\",\"type\":\"SaveTool\"},{\"attributes\":{},\"id\":\"7156\",\"type\":\"ResetTool\"},{\"attributes\":{},\"id\":\"7157\",\"type\":\"HelpTool\"},{\"attributes\":{\"active_drag\":\"auto\",\"active_inspect\":\"auto\",\"active_multi\":null,\"active_scroll\":\"auto\",\"active_tap\":\"auto\",\"tools\":[{\"id\":\"7152\",\"type\":\"PanTool\"},{\"id\":\"7153\",\"type\":\"WheelZoomTool\"},{\"id\":\"7154\",\"type\":\"BoxZoomTool\"},{\"id\":\"7155\",\"type\":\"SaveTool\"},{\"id\":\"7156\",\"type\":\"ResetTool\"},{\"id\":\"7157\",\"type\":\"HelpTool\"}]},\"id\":\"7158\",\"type\":\"Toolbar\"},{\"attributes\":{\"bottom_units\":\"screen\",\"fill_alpha\":{\"value\":0.5},\"fill_color\":{\"value\":\"lightgrey\"},\"left_units\":\"screen\",\"level\":\"overlay\",\"line_alpha\":{\"value\":1.0},\"line_color\":{\"value\":\"black\"},\"line_dash\":[4,4],\"line_width\":{\"value\":2},\"plot\":null,\"render_mode\":\"css\",\"right_units\":\"screen\",\"top_units\":\"screen\"},\"id\":\"7160\",\"type\":\"BoxAnnotation\"},{\"attributes\":{\"source\":{\"id\":\"7167\",\"type\":\"ColumnDataSource\"}},\"id\":\"7171\",\"type\":\"CDSView\"},{\"attributes\":{},\"id\":\"7173\",\"type\":\"BasicTickFormatter\"},{\"attributes\":{},\"id\":\"7175\",\"type\":\"BasicTickFormatter\"},{\"attributes\":{\"items\":[{\"id\":\"7179\",\"type\":\"LegendItem\"},{\"id\":\"7193\",\"type\":\"LegendItem\"}],\"plot\":{\"id\":\"7132\",\"subtype\":\"Figure\",\"type\":\"Plot\"}},\"id\":\"7178\",\"type\":\"Legend\"},{\"attributes\":{\"plot\":null,\"text\":\"Position Sch\\u00e9ma symplectique : 100 points\"},\"id\":\"7052\",\"type\":\"Title\"},{\"attributes\":{\"label\":{\"value\":\"rk2\"},\"renderers\":[{\"id\":\"7170\",\"type\":\"GlyphRenderer\"}]},\"id\":\"7179\",\"type\":\"LegendItem\"},{\"attributes\":{\"fill_color\":{\"value\":\"blue\"},\"line_color\":{\"value\":\"blue\"},\"x\":{\"field\":\"x\"},\"y\":{\"field\":\"y\"}},\"id\":\"7181\",\"type\":\"X\"},{\"attributes\":{\"line_color\":\"green\",\"x\":{\"field\":\"x\"},\"y\":{\"field\":\"y\"}},\"id\":\"7089\",\"type\":\"Line\"},{\"attributes\":{\"below\":[{\"id\":\"7063\",\"type\":\"LinearAxis\"}],\"left\":[{\"id\":\"7068\",\"type\":\"LinearAxis\"}],\"plot_height\":300,\"plot_width\":500,\"renderers\":[{\"id\":\"7063\",\"type\":\"LinearAxis\"},{\"id\":\"7067\",\"type\":\"Grid\"},{\"id\":\"7068\",\"type\":\"LinearAxis\"},{\"id\":\"7072\",\"type\":\"Grid\"},{\"id\":\"7081\",\"type\":\"BoxAnnotation\"},{\"id\":\"7099\",\"type\":\"Legend\"},{\"id\":\"7091\",\"type\":\"GlyphRenderer\"},{\"id\":\"7104\",\"type\":\"GlyphRenderer\"},{\"id\":\"7118\",\"type\":\"GlyphRenderer\"}],\"title\":{\"id\":\"7052\",\"type\":\"Title\"},\"toolbar\":{\"id\":\"7079\",\"type\":\"Toolbar\"},\"x_range\":{\"id\":\"7055\",\"type\":\"DataRange1d\"},\"x_scale\":{\"id\":\"7059\",\"type\":\"LinearScale\"},\"y_range\":{\"id\":\"7057\",\"type\":\"DataRange1d\"},\"y_scale\":{\"id\":\"7061\",\"type\":\"LinearScale\"}},\"id\":\"7053\",\"subtype\":\"Figure\",\"type\":\"Plot\"},{\"attributes\":{\"fill_alpha\":{\"value\":0.1},\"fill_color\":{\"value\":\"#1f77b4\"},\"line_alpha\":{\"value\":0.1},\"line_color\":{\"value\":\"#1f77b4\"},\"x\":{\"field\":\"x\"},\"y\":{\"field\":\"y\"}},\"id\":\"7182\",\"type\":\"X\"},{\"attributes\":{\"callback\":null},\"id\":\"7055\",\"type\":\"DataRange1d\"},{\"attributes\":{\"data_source\":{\"id\":\"7180\",\"type\":\"ColumnDataSource\"},\"glyph\":{\"id\":\"7181\",\"type\":\"X\"},\"hover_glyph\":null,\"muted_glyph\":null,\"nonselection_glyph\":{\"id\":\"7182\",\"type\":\"X\"},\"selection_glyph\":null,\"view\":{\"id\":\"7184\",\"type\":\"CDSView\"}},\"id\":\"7183\",\"type\":\"GlyphRenderer\"},{\"attributes\":{\"callback\":null},\"id\":\"7057\",\"type\":\"DataRange1d\"},{\"attributes\":{\"source\":{\"id\":\"7180\",\"type\":\"ColumnDataSource\"}},\"id\":\"7184\",\"type\":\"CDSView\"},{\"attributes\":{},\"id\":\"7059\",\"type\":\"LinearScale\"},{\"attributes\":{},\"id\":\"7190\",\"type\":\"UnionRenderers\"},{\"attributes\":{},\"id\":\"7061\",\"type\":\"LinearScale\"},{\"attributes\":{},\"id\":\"7191\",\"type\":\"Selection\"},{\"attributes\":{\"axis_label\":\"temps\",\"formatter\":{\"id\":\"7094\",\"type\":\"BasicTickFormatter\"},\"plot\":{\"id\":\"7053\",\"subtype\":\"Figure\",\"type\":\"Plot\"},\"ticker\":{\"id\":\"7064\",\"type\":\"BasicTicker\"}},\"id\":\"7063\",\"type\":\"LinearAxis\"},{\"attributes\":{\"label\":{\"value\":\"Point symplectique\"},\"renderers\":[{\"id\":\"7183\",\"type\":\"GlyphRenderer\"}]},\"id\":\"7193\",\"type\":\"LegendItem\"},{\"attributes\":{},\"id\":\"7064\",\"type\":\"BasicTicker\"},{\"attributes\":{\"plot\":{\"id\":\"7053\",\"subtype\":\"Figure\",\"type\":\"Plot\"},\"ticker\":{\"id\":\"7064\",\"type\":\"BasicTicker\"}},\"id\":\"7067\",\"type\":\"Grid\"},{\"attributes\":{\"axis_label\":\"position\",\"formatter\":{\"id\":\"7096\",\"type\":\"BasicTickFormatter\"},\"plot\":{\"id\":\"7053\",\"subtype\":\"Figure\",\"type\":\"Plot\"},\"ticker\":{\"id\":\"7069\",\"type\":\"BasicTicker\"}},\"id\":\"7068\",\"type\":\"LinearAxis\"},{\"attributes\":{},\"id\":\"7069\",\"type\":\"BasicTicker\"},{\"attributes\":{\"dimension\":1,\"plot\":{\"id\":\"7053\",\"subtype\":\"Figure\",\"type\":\"Plot\"},\"ticker\":{\"id\":\"7069\",\"type\":\"BasicTicker\"}},\"id\":\"7072\",\"type\":\"Grid\"},{\"attributes\":{\"callback\":null,\"data\":{\"x\":{\"__ndarray__\":\"AAAAAAAAAAAxb2dIzNu5PzFvZ0jM28k/ZZNNNtlk0z8xb2dIzNvZP3+lQK1fKeA/ZZNNNtlk4z9LgVq/UqDmPzFvZ0jM2+k/F1100UUX7T9/pUCtXynwP3Icx3Ecx/E/ZZNNNtlk8z9YCtT6lQL1P0uBWr9SoPY/Pvjggw8++D8xb2dIzNv5PyTm7QyJefs/F1100UUX/T8K1PqVArX+P3+lQK1fKQBA+OCDDz74AEByHMdxHMcBQOtXCtT6lQJAZZNNNtlkA0DezpCYtzMEQFgK1PqVAgVA0UUXXXTRBUBLgVq/UqAGQMS8nSExbwdAPvjggw8+CEC3MyTm7QwJQDFvZ0jM2wlAq6qqqqqqCkAk5u0MiXkLQJ4hMW9nSAxAF1100UUXDUCRmLczJOYNQArU+pUCtQ5AhA8++OCDD0B/pUCtXykQQDtDYt7OkBBA+OCDDz74EEC1fqVArV8RQHIcx3EcxxFALrrooosuEkDrVwrU+pUSQKj1KwVq/RJAZZNNNtlkE0AiMW9nSMwTQN7OkJi3MxRAm2yyySabFEBYCtT6lQIVQBWo9SsFahVA0UUXXXTRFUCO4ziO4zgWQEuBWr9SoBZACB988MEHF0DEvJ0hMW8XQIFav1Kg1hdAPvjggw8+GED7lQK1fqUYQLczJObtDBlAdNFFF110GUAxb2dIzNsZQO4MiXk7QxpAq6qqqqqqGkBnSMzbGRIbQCTm7QyJeRtA4YMPPvjgG0CeITFvZ0gcQFq/UqDWrxxAF1100UUXHUDU+pUCtX4dQJGYtzMk5h1ATTbZZJNNHkAK1PqVArUeQMdxHMdxHB9AhA8++OCDH0BArV8pUOsfQH+lQK1fKSBAXXTRRRddIEA7Q2LezpAgQBoS83aGxCBA+OCDDz74IEDXrxSo9SshQLV+pUCtXyFAk0022WSTIUByHMdxHMchQFDrVwrU+iFALrrooosuIkANiXk7Q2IiQOtXCtT6lSJAyiabbLLJIkCo9SsFav0iQIbEvJ0hMSNAZZNNNtlkI0BDYt7OkJgjQCIxb2dIzCNAAAAAAAAAJEA=\",\"dtype\":\"float64\",\"shape\":[100]},\"y\":{\"__ndarray__\":\"AAAAAAAAAAAxb2dIzNu5PyRz9OUGusk/ECB9hW8h0z/XqnOozTPZP1hByTE3BN8/2FV/CblB4j8fYvZcjNHkP8xXr+LfKuc/mplhlYxH6T/yiXM4CiLrPzroptV9tew/20kfdcb97T/QTHHuh/fuPyEZZLYzoO8/YPtTkg/27z+ch6YfOvjvPzlfcCOtpu8/QIE7nD0C7z+wxruVmQzuP1J0HsRDyOw/yUBy8ow46z94lldVi2HpP9dJrtgPSOc/ogBAhJnx5D+mQmcYR2TiPyQPuxCOTd8/UKxE+IuA2T8T9I4PuHDTP/l/QSXjW8o/+n+fCXUiuz8Qmpr0nV50P5PCctoimri/eN7Sk/ccyb8KdVQ2mNXSv542glFt69i/5ToJYAvA3r9ROtSoFiLiv3+rbF+wtOS/AhOB3xUR579yFRgaGDHpv7IR9BcmD+u/Jgkajlum7L+gUEaujfLtvwuxvRFW8O6/ShzhoRud778ahixnGffvv40EySxj/e+/hLKI7Oev778cCPH8cQ/vv/xF1wClHe6/9Mjynfnc7L+3QJsFt1Drv1aYnWDqfOm/wu+aNFxm57+T1bLegxLlvyYbP0R5h+K///otvsmX37/PWjme3M3Zv495cD1TwNO/7t4trQ3+yr8tPZIsYWm8v8ge1BCoYIS/fKZN1w5Ytz9XRK7Znn/IP+p8gISSidI/1aWiYtWi2D9S5JxSn3veP1qIhixQAuI/FOT6pqyX5D8oCSnqIPfmP7lf0+V1Guk/gWNe7xH86j+xCB9tB5fsP0XLLb8h5+0/YELtQ/Do7j8VDGdbz5nvP5x+4VHv9+8/cwLHjywB8D9yBd3w8LjvP+nO0XB2HO8/JBSQ1IIu7j8+oT2thPHsP3K/Jou5aOs/nvPKgiWY6T83awOqiITnP4r/xahSM+U/ekkRfpSq4j8ePoU84eHfP21b0ygTG9o/EsomqN4P1D8uYNOxLaDLPzL+bIZisL0/4KUcEPuTjj984DE2khW2vyr+9aj94ce/Z/ll4l490r8oNrtGBlrYvx7802vzNt6/pB/ywGXi4b8=\",\"dtype\":\"float64\",\"shape\":[100]}},\"selected\":{\"id\":\"7128\",\"type\":\"Selection\"},\"selection_policy\":{\"id\":\"7127\",\"type\":\"UnionRenderers\"}},\"id\":\"7101\",\"type\":\"ColumnDataSource\"},{\"attributes\":{},\"id\":\"7073\",\"type\":\"PanTool\"},{\"attributes\":{},\"id\":\"7074\",\"type\":\"WheelZoomTool\"},{\"attributes\":{\"overlay\":{\"id\":\"7081\",\"type\":\"BoxAnnotation\"}},\"id\":\"7075\",\"type\":\"BoxZoomTool\"},{\"attributes\":{\"callback\":null,\"data\":{\"x\":{\"__ndarray__\":\"AAAAAAAAAAAxb2dIzNu5PzFvZ0jM28k/ZZNNNtlk0z8xb2dIzNvZP3+lQK1fKeA/ZZNNNtlk4z9LgVq/UqDmPzFvZ0jM2+k/F1100UUX7T9/pUCtXynwP3Icx3Ecx/E/ZZNNNtlk8z9YCtT6lQL1P0uBWr9SoPY/Pvjggw8++D8xb2dIzNv5PyTm7QyJefs/F1100UUX/T8K1PqVArX+P3+lQK1fKQBA+OCDDz74AEByHMdxHMcBQOtXCtT6lQJAZZNNNtlkA0DezpCYtzMEQFgK1PqVAgVA0UUXXXTRBUBLgVq/UqAGQMS8nSExbwdAPvjggw8+CEC3MyTm7QwJQDFvZ0jM2wlAq6qqqqqqCkAk5u0MiXkLQJ4hMW9nSAxAF1100UUXDUCRmLczJOYNQArU+pUCtQ5AhA8++OCDD0B/pUCtXykQQDtDYt7OkBBA+OCDDz74EEC1fqVArV8RQHIcx3EcxxFALrrooosuEkDrVwrU+pUSQKj1KwVq/RJAZZNNNtlkE0AiMW9nSMwTQN7OkJi3MxRAm2yyySabFEBYCtT6lQIVQBWo9SsFahVA0UUXXXTRFUCO4ziO4zgWQEuBWr9SoBZACB988MEHF0DEvJ0hMW8XQIFav1Kg1hdAPvjggw8+GED7lQK1fqUYQLczJObtDBlAdNFFF110GUAxb2dIzNsZQO4MiXk7QxpAq6qqqqqqGkBnSMzbGRIbQCTm7QyJeRtA4YMPPvjgG0CeITFvZ0gcQFq/UqDWrxxAF1100UUXHUDU+pUCtX4dQJGYtzMk5h1ATTbZZJNNHkAK1PqVArUeQMdxHMdxHB9AhA8++OCDH0BArV8pUOsfQH+lQK1fKSBAXXTRRRddIEA7Q2LezpAgQBoS83aGxCBA+OCDDz74IEDXrxSo9SshQLV+pUCtXyFAk0022WSTIUByHMdxHMchQFDrVwrU+iFALrrooosuIkANiXk7Q2IiQOtXCtT6lSJAyiabbLLJIkCo9SsFav0iQIbEvJ0hMSNAZZNNNtlkI0BDYt7OkJgjQCIxb2dIzCNAAAAAAAAAJEA=\",\"dtype\":\"float64\",\"shape\":[100]},\"y\":{\"__ndarray__\":\"AAAAAAAAAABWWTD1i9C5P1FTX5rcrsk/gsOxNjYZ0z9VYwJ3JinZPxcA895s994/joZ7TnE64j/qrfXjmcnkP2ssuWGCIuc/Iswnjgo/6T+RI+TArxnrP1BTS0Sbrew/3oUw9q727T8Xi+UGkPHuP/kGhbqvm+8/OPqkFVLz7z8TWwZkkvfvP5TacY1lqO8/kSusMpoG7z8wOzaS1hPuPz2qWDqU0uw/jV22kxlG6z8pMUFVcXLpP4gS3/dfXOc/1MdGRVcJ5T/m1IwiaH/iP8q16nZlit8/8e22b6rD2T9j8JxQsrnTPwFWfWl/+Mo/+7miP25uvD8ew57TVQ2FP7c2U+b2Mbe/NJcb8IdkyL+cMtDaNXjSv4gGHUH0jdi/BM5I1Z1j3r8dASM//PThv5J0Xo5MieS/fMX9lQTo5r9AD0Xy9Arpv5gfWUKK7Oq/hEBctduH7L9UjGrat9jtv9nTBZKv2+6/Gw5iBB+O778QwS6FNO7vv7NU4lL1+u+/vLAjJUC0778fSaaDzRrvv6PqleQtMO6/ehV7l8X27L+nYD+HxnHrv2I/nOMnpem/D922x5uV57/CVOv4gkjlv1aewt3ew+K/ZCe00UEO4L8DKjT9e13av93iNNGlWdS/wgS4cmdBzL8fFrKmiwu/v2He8+4MDZW/u4zZNsGStD+7ZD9aihnHP7P36Je11tE/W/DDABjy1z9jyIBZ/M7dP8e6gdUKr+E/qWzMAXFI5D//7Lop6KzmP7yvSOox1ug/Al+5UKq+6j+T7POSVmHsP14AZw7yue0/UWGMa/nE7j/0lfnIs3/vP+x2ENY56O8/b1zFynr97z+a4IMvP7/vP+dX8G0pLu8/1DgMKbRL7j8lnQ9hLhrtP1CyCm21nOs/N08I2izX6T+2POhENM7nPxy7bUkbh+U/z6j/pdMH4z+wXUa44VbgP6UpR/aW9to/VbjOZAz51D8WLl/Qi4nNP2bQXAjp08A//1m7LN2Snz/o7+kO/fKxv37G6czszcW/VIdizLk00b98w03tlVXXvzzw4HCMOd2/Uk/z9Z5o4b8=\",\"dtype\":\"float64\",\"shape\":[100]}},\"selected\":{\"id\":\"7112\",\"type\":\"Selection\"},\"selection_policy\":{\"id\":\"7111\",\"type\":\"UnionRenderers\"}},\"id\":\"7088\",\"type\":\"ColumnDataSource\"},{\"attributes\":{},\"id\":\"7076\",\"type\":\"SaveTool\"},{\"attributes\":{},\"id\":\"7077\",\"type\":\"ResetTool\"},{\"attributes\":{},\"id\":\"7078\",\"type\":\"HelpTool\"},{\"attributes\":{\"active_drag\":\"auto\",\"active_inspect\":\"auto\",\"active_multi\":null,\"active_scroll\":\"auto\",\"active_tap\":\"auto\",\"tools\":[{\"id\":\"7073\",\"type\":\"PanTool\"},{\"id\":\"7074\",\"type\":\"WheelZoomTool\"},{\"id\":\"7075\",\"type\":\"BoxZoomTool\"},{\"id\":\"7076\",\"type\":\"SaveTool\"},{\"id\":\"7077\",\"type\":\"ResetTool\"},{\"id\":\"7078\",\"type\":\"HelpTool\"}]},\"id\":\"7079\",\"type\":\"Toolbar\"},{\"attributes\":{\"line_alpha\":0.1,\"line_color\":\"#1f77b4\",\"x\":{\"field\":\"x\"},\"y\":{\"field\":\"y\"}},\"id\":\"7090\",\"type\":\"Line\"},{\"attributes\":{\"bottom_units\":\"screen\",\"fill_alpha\":{\"value\":0.5},\"fill_color\":{\"value\":\"lightgrey\"},\"left_units\":\"screen\",\"level\":\"overlay\",\"line_alpha\":{\"value\":1.0},\"line_color\":{\"value\":\"black\"},\"line_dash\":[4,4],\"line_width\":{\"value\":2},\"plot\":null,\"render_mode\":\"css\",\"right_units\":\"screen\",\"top_units\":\"screen\"},\"id\":\"7081\",\"type\":\"BoxAnnotation\"},{\"attributes\":{\"data_source\":{\"id\":\"7088\",\"type\":\"ColumnDataSource\"},\"glyph\":{\"id\":\"7089\",\"type\":\"Line\"},\"hover_glyph\":null,\"muted_glyph\":null,\"nonselection_glyph\":{\"id\":\"7090\",\"type\":\"Line\"},\"selection_glyph\":null,\"view\":{\"id\":\"7092\",\"type\":\"CDSView\"}},\"id\":\"7091\",\"type\":\"GlyphRenderer\"},{\"attributes\":{\"source\":{\"id\":\"7088\",\"type\":\"ColumnDataSource\"}},\"id\":\"7092\",\"type\":\"CDSView\"},{\"attributes\":{},\"id\":\"7094\",\"type\":\"BasicTickFormatter\"},{\"attributes\":{},\"id\":\"7625\",\"type\":\"UnionRenderers\"},{\"attributes\":{},\"id\":\"7096\",\"type\":\"BasicTickFormatter\"},{\"attributes\":{},\"id\":\"7626\",\"type\":\"Selection\"},{\"attributes\":{\"items\":[{\"id\":\"7100\",\"type\":\"LegendItem\"},{\"id\":\"7114\",\"type\":\"LegendItem\"},{\"id\":\"7130\",\"type\":\"LegendItem\"}],\"location\":\"top_left\",\"plot\":{\"id\":\"7053\",\"subtype\":\"Figure\",\"type\":\"Plot\"}},\"id\":\"7099\",\"type\":\"Legend\"},{\"attributes\":{},\"id\":\"7630\",\"type\":\"UnionRenderers\"},{\"attributes\":{\"dimension\":1,\"plot\":{\"id\":\"7132\",\"subtype\":\"Figure\",\"type\":\"Plot\"},\"ticker\":{\"id\":\"7148\",\"type\":\"BasicTicker\"}},\"id\":\"7151\",\"type\":\"Grid\"},{\"attributes\":{\"label\":{\"value\":\"Solution exacte\"},\"renderers\":[{\"id\":\"7091\",\"type\":\"GlyphRenderer\"}]},\"id\":\"7100\",\"type\":\"LegendItem\"},{\"attributes\":{},\"id\":\"7631\",\"type\":\"Selection\"},{\"attributes\":{\"callback\":null,\"data\":{\"x\":{\"__ndarray__\":\"AAAAAAAAAAAxb2dIzNu5PzFvZ0jM28k/ZZNNNtlk0z8xb2dIzNvZP3+lQK1fKeA/ZZNNNtlk4z9LgVq/UqDmPzFvZ0jM2+k/F1100UUX7T9/pUCtXynwP3Icx3Ecx/E/ZZNNNtlk8z9YCtT6lQL1P0uBWr9SoPY/Pvjggw8++D8xb2dIzNv5PyTm7QyJefs/F1100UUX/T8K1PqVArX+P3+lQK1fKQBA+OCDDz74AEByHMdxHMcBQOtXCtT6lQJAZZNNNtlkA0DezpCYtzMEQFgK1PqVAgVA0UUXXXTRBUBLgVq/UqAGQMS8nSExbwdAPvjggw8+CEC3MyTm7QwJQDFvZ0jM2wlAq6qqqqqqCkAk5u0MiXkLQJ4hMW9nSAxAF1100UUXDUCRmLczJOYNQArU+pUCtQ5AhA8++OCDD0B/pUCtXykQQDtDYt7OkBBA+OCDDz74EEC1fqVArV8RQHIcx3EcxxFALrrooosuEkDrVwrU+pUSQKj1KwVq/RJAZZNNNtlkE0AiMW9nSMwTQN7OkJi3MxRAm2yyySabFEBYCtT6lQIVQBWo9SsFahVA0UUXXXTRFUCO4ziO4zgWQEuBWr9SoBZACB988MEHF0DEvJ0hMW8XQIFav1Kg1hdAPvjggw8+GED7lQK1fqUYQLczJObtDBlAdNFFF110GUAxb2dIzNsZQO4MiXk7QxpAq6qqqqqqGkBnSMzbGRIbQCTm7QyJeRtA4YMPPvjgG0CeITFvZ0gcQFq/UqDWrxxAF1100UUXHUDU+pUCtX4dQJGYtzMk5h1ATTbZZJNNHkAK1PqVArUeQMdxHMdxHB9AhA8++OCDH0BArV8pUOsfQH+lQK1fKSBAXXTRRRddIEA7Q2LezpAgQBoS83aGxCBA+OCDDz74IEDXrxSo9SshQLV+pUCtXyFAk0022WSTIUByHMdxHMchQFDrVwrU+iFALrrooosuIkANiXk7Q2IiQOtXCtT6lSJAyiabbLLJIkCo9SsFav0iQIbEvJ0hMSNAZZNNNtlkI0BDYt7OkJgjQCIxb2dIzCNAAAAAAAAAJEA=\",\"dtype\":\"float64\",\"shape\":[100]},\"y\":{\"__ndarray__\":\"AAAAAAAAAABPRLGW9Mq5P0Ho9yNbqck/Hn9jUDAV0z/GyPGD+yPZP3FuMddG8d4/S25JTfo24j8IBR+T3MXkP8uzWAygHuc/lJOSiCc76T8hOJzF8hXrPyggdMQsquw/WhARYLjz7T+n6iwFO+/uP9SDJG8lmu8/BaooU7ry7z/pjmDoEvjvP0UML0Ehqu8/S0B8b7AJ7z8896RzYhjuPxtGcvur2Ow/cqEu/M1N6z8wwoM4zXvpP/RDN8hnZ+c/DfcMvQgW5T9n3v8Euo3iP0XiMV0pqt8/RAvCcF/m2T8Wnm0wG9/TP2quoqoiSMs/NbRb6vUVvT84tw1X+n6KPyWi3VHYfra/dC64HHoJyL8A1cIadErSv9Kfoc2DYNi/wR9M4hA33r96JZnFct/hv566Q4nMdOS/iMxJstrU5r9SY/AQbfnov57K8m7u3Oq/+zcVG3N67L+DuQ+7xc3tv9jvakJy0+6/EcS98c6I778CZNtGA+zvv9z63csM/O+/BuCGuMG4778c3hlf0SLvv3D2l2PCO+6/Iqv/we4F7b/UYu6tfYTrv+wFmVtbu+m/b+yCxy6v57/BZ5OXTWXlvzQJHjWu4+K//VUTRNgw4L+CpKU/p6fav7wo4hMsqNS/oHyr6r7lzL8r6KAW3C/Av/gqEQNpfpq/UcGbR8Uxsz8ujABnkWjGP40Egz/vftE/SagPrgCc1z//STR5j3vdPwlYHS4nh+E/y/64GNwi5D+3QkvjGormPxhUpKKgtug/PWWpacOi6j8k+N4KgUnsP7a+6CSMpu0/tvD/V1e27j/yLyyHHnbvP+pdIg3u4+8/kuIC0qf+7z+76rc0BsbvP4avXcCcOu8/gibcq9Zd7j+hl5sn8zHtP5mC9YL/ues/WhKiOM/56T+edtn28fXnP9ObIb2ns+U/hTC+LtM44z+EtGU96ovgP+KGXKjKZ9s/dFsZXVpw1T9aTtgqHoLOP8BGuqYL1ME/Pk1uHBneoz+IO3Ncv8evv6yVOuCyxsS/koE0d6qy0L/+bO+QetbWv0A90KTKvty/aBxrTxsu4b8=\",\"dtype\":\"float64\",\"shape\":[100]}},\"selected\":{\"id\":\"7626\",\"type\":\"Selection\"},\"selection_policy\":{\"id\":\"7625\",\"type\":\"UnionRenderers\"}},\"id\":\"7115\",\"type\":\"ColumnDataSource\"},{\"attributes\":{\"fill_color\":{\"value\":\"blue\"},\"line_color\":{\"value\":\"blue\"},\"x\":{\"field\":\"x\"},\"y\":{\"field\":\"y\"}},\"id\":\"7102\",\"type\":\"X\"},{\"attributes\":{\"fill_alpha\":{\"value\":0.1},\"fill_color\":{\"value\":\"#1f77b4\"},\"line_alpha\":{\"value\":0.1},\"line_color\":{\"value\":\"#1f77b4\"},\"x\":{\"field\":\"x\"},\"y\":{\"field\":\"y\"}},\"id\":\"7103\",\"type\":\"X\"},{\"attributes\":{\"data_source\":{\"id\":\"7101\",\"type\":\"ColumnDataSource\"},\"glyph\":{\"id\":\"7102\",\"type\":\"X\"},\"hover_glyph\":null,\"muted_glyph\":null,\"nonselection_glyph\":{\"id\":\"7103\",\"type\":\"X\"},\"selection_glyph\":null,\"view\":{\"id\":\"7105\",\"type\":\"CDSView\"}},\"id\":\"7104\",\"type\":\"GlyphRenderer\"},{\"attributes\":{\"source\":{\"id\":\"7101\",\"type\":\"ColumnDataSource\"}},\"id\":\"7105\",\"type\":\"CDSView\"},{\"attributes\":{},\"id\":\"7111\",\"type\":\"UnionRenderers\"},{\"attributes\":{\"axis_label\":\"temps\",\"formatter\":{\"id\":\"7173\",\"type\":\"BasicTickFormatter\"},\"plot\":{\"id\":\"7132\",\"subtype\":\"Figure\",\"type\":\"Plot\"},\"ticker\":{\"id\":\"7143\",\"type\":\"BasicTicker\"}},\"id\":\"7142\",\"type\":\"LinearAxis\"},{\"attributes\":{},\"id\":\"7112\",\"type\":\"Selection\"},{\"attributes\":{\"label\":{\"value\":\"Rk2\"},\"renderers\":[{\"id\":\"7104\",\"type\":\"GlyphRenderer\"}]},\"id\":\"7114\",\"type\":\"LegendItem\"},{\"attributes\":{\"below\":[{\"id\":\"7142\",\"type\":\"LinearAxis\"}],\"left\":[{\"id\":\"7147\",\"type\":\"LinearAxis\"}],\"plot_height\":300,\"plot_width\":500,\"renderers\":[{\"id\":\"7142\",\"type\":\"LinearAxis\"},{\"id\":\"7146\",\"type\":\"Grid\"},{\"id\":\"7147\",\"type\":\"LinearAxis\"},{\"id\":\"7151\",\"type\":\"Grid\"},{\"id\":\"7160\",\"type\":\"BoxAnnotation\"},{\"id\":\"7178\",\"type\":\"Legend\"},{\"id\":\"7170\",\"type\":\"GlyphRenderer\"},{\"id\":\"7183\",\"type\":\"GlyphRenderer\"}],\"title\":{\"id\":\"7131\",\"type\":\"Title\"},\"toolbar\":{\"id\":\"7158\",\"type\":\"Toolbar\"},\"x_range\":{\"id\":\"7134\",\"type\":\"DataRange1d\"},\"x_scale\":{\"id\":\"7138\",\"type\":\"LinearScale\"},\"y_range\":{\"id\":\"7136\",\"type\":\"DataRange1d\"},\"y_scale\":{\"id\":\"7140\",\"type\":\"LinearScale\"}},\"id\":\"7132\",\"subtype\":\"Figure\",\"type\":\"Plot\"},{\"attributes\":{\"fill_color\":{\"value\":\"red\"},\"line_color\":{\"value\":\"red\"},\"x\":{\"field\":\"x\"},\"y\":{\"field\":\"y\"}},\"id\":\"7116\",\"type\":\"X\"},{\"attributes\":{\"fill_alpha\":{\"value\":0.1},\"fill_color\":{\"value\":\"#1f77b4\"},\"line_alpha\":{\"value\":0.1},\"line_color\":{\"value\":\"#1f77b4\"},\"x\":{\"field\":\"x\"},\"y\":{\"field\":\"y\"}},\"id\":\"7117\",\"type\":\"X\"},{\"attributes\":{\"data_source\":{\"id\":\"7115\",\"type\":\"ColumnDataSource\"},\"glyph\":{\"id\":\"7116\",\"type\":\"X\"},\"hover_glyph\":null,\"muted_glyph\":null,\"nonselection_glyph\":{\"id\":\"7117\",\"type\":\"X\"},\"selection_glyph\":null,\"view\":{\"id\":\"7119\",\"type\":\"CDSView\"}},\"id\":\"7118\",\"type\":\"GlyphRenderer\"},{\"attributes\":{\"source\":{\"id\":\"7115\",\"type\":\"ColumnDataSource\"}},\"id\":\"7119\",\"type\":\"CDSView\"},{\"attributes\":{},\"id\":\"7127\",\"type\":\"UnionRenderers\"},{\"attributes\":{},\"id\":\"7128\",\"type\":\"Selection\"},{\"attributes\":{\"label\":{\"value\":\"Point symplectique\"},\"renderers\":[{\"id\":\"7118\",\"type\":\"GlyphRenderer\"}]},\"id\":\"7130\",\"type\":\"LegendItem\"},{\"attributes\":{\"fill_color\":{\"value\":\"red\"},\"line_color\":{\"value\":\"red\"},\"x\":{\"field\":\"x\"},\"y\":{\"field\":\"y\"}},\"id\":\"7168\",\"type\":\"X\"},{\"attributes\":{\"plot\":null,\"text\":\"Vitesse Sch\\u00e9ma symplectique : 100 points\"},\"id\":\"7131\",\"type\":\"Title\"},{\"attributes\":{\"callback\":null},\"id\":\"7134\",\"type\":\"DataRange1d\"},{\"attributes\":{\"callback\":null},\"id\":\"7136\",\"type\":\"DataRange1d\"},{\"attributes\":{},\"id\":\"7138\",\"type\":\"LinearScale\"}],\"root_ids\":[\"7320\"]},\"title\":\"Bokeh Application\",\"version\":\"1.0.4\"}};\n",
       "  var render_items = [{\"docid\":\"3453f2eb-22e6-4047-9627-4fd5460bdd0c\",\"roots\":{\"7320\":\"a3b98edf-fd37-471d-91c2-5354d500d0fd\"}}];\n",
       "  root.Bokeh.embed.embed_items_notebook(docs_json, render_items);\n",
       "\n",
       "  }\n",
       "  if (root.Bokeh !== undefined) {\n",
       "    embed_document(root);\n",
       "  } else {\n",
       "    var attempts = 0;\n",
       "    var timer = setInterval(function(root) {\n",
       "      if (root.Bokeh !== undefined) {\n",
       "        embed_document(root);\n",
       "        clearInterval(timer);\n",
       "      }\n",
       "      attempts++;\n",
       "      if (attempts > 100) {\n",
       "        console.log(\"Bokeh: ERROR: Unable to run BokehJS code because BokehJS library is missing\");\n",
       "        clearInterval(timer);\n",
       "      }\n",
       "    }, 10, root)\n",
       "  }\n",
       "})(window);"
      ],
      "application/vnd.bokehjs_exec.v0+json": ""
     },
     "metadata": {
      "application/vnd.bokehjs_exec.v0+json": {
       "id": "7320"
      }
     },
     "output_type": "display_data"
    },
    {
     "data": {
      "text/html": [
       "\n",
       "\n",
       "\n",
       "\n",
       "\n",
       "\n",
       "  <div class=\"bk-root\" id=\"40d71b0f-d838-4088-aa10-7386e960f259\" data-root-id=\"7765\"></div>\n"
      ]
     },
     "metadata": {},
     "output_type": "display_data"
    },
    {
     "data": {
      "application/javascript": [
       "(function(root) {\n",
       "  function embed_document(root) {\n",
       "    \n",
       "  var docs_json = {\"ab7122e3-4033-4454-98f6-bd358c1ffffe\":{\"roots\":{\"references\":[{\"attributes\":{\"children\":[{\"id\":\"7195\",\"subtype\":\"Figure\",\"type\":\"Plot\"},{\"id\":\"7258\",\"subtype\":\"Figure\",\"type\":\"Plot\"}]},\"id\":\"7765\",\"type\":\"Row\"},{\"attributes\":{\"axis_label\":\"temps\",\"formatter\":{\"id\":\"7236\",\"type\":\"BasicTickFormatter\"},\"plot\":{\"id\":\"7195\",\"subtype\":\"Figure\",\"type\":\"Plot\"},\"ticker\":{\"id\":\"7206\",\"type\":\"BasicTicker\"}},\"id\":\"7205\",\"type\":\"LinearAxis\"},{\"attributes\":{\"fill_color\":{\"value\":\"blue\"},\"line_color\":{\"value\":\"blue\"},\"x\":{\"field\":\"x\"},\"y\":{\"field\":\"y\"}},\"id\":\"7244\",\"type\":\"X\"},{\"attributes\":{},\"id\":\"7206\",\"type\":\"BasicTicker\"},{\"attributes\":{\"plot\":{\"id\":\"7195\",\"subtype\":\"Figure\",\"type\":\"Plot\"},\"ticker\":{\"id\":\"7206\",\"type\":\"BasicTicker\"}},\"id\":\"7209\",\"type\":\"Grid\"},{\"attributes\":{\"axis_label\":\"hamiltonien\",\"formatter\":{\"id\":\"7238\",\"type\":\"BasicTickFormatter\"},\"plot\":{\"id\":\"7195\",\"subtype\":\"Figure\",\"type\":\"Plot\"},\"ticker\":{\"id\":\"7211\",\"type\":\"BasicTicker\"}},\"id\":\"7210\",\"type\":\"LinearAxis\"},{\"attributes\":{},\"id\":\"7211\",\"type\":\"BasicTicker\"},{\"attributes\":{\"label\":{\"value\":\"Point symplectique\"},\"renderers\":[{\"id\":\"7246\",\"type\":\"GlyphRenderer\"}]},\"id\":\"7256\",\"type\":\"LegendItem\"},{\"attributes\":{\"dimension\":1,\"plot\":{\"id\":\"7195\",\"subtype\":\"Figure\",\"type\":\"Plot\"},\"ticker\":{\"id\":\"7211\",\"type\":\"BasicTicker\"}},\"id\":\"7214\",\"type\":\"Grid\"},{\"attributes\":{\"callback\":null},\"id\":\"7260\",\"type\":\"DataRange1d\"},{\"attributes\":{\"fill_color\":{\"value\":\"red\"},\"line_color\":{\"value\":\"red\"},\"x\":{\"field\":\"x\"},\"y\":{\"field\":\"y\"}},\"id\":\"7231\",\"type\":\"X\"},{\"attributes\":{},\"id\":\"7215\",\"type\":\"PanTool\"},{\"attributes\":{},\"id\":\"7216\",\"type\":\"WheelZoomTool\"},{\"attributes\":{\"callback\":null,\"data\":{\"x\":{\"__ndarray__\":\"AAAAAAAAAABPRLGW9Mq5P0Ho9yNbqck/Hn9jUDAV0z/GyPGD+yPZP3FuMddG8d4/S25JTfo24j8IBR+T3MXkP8uzWAygHuc/lJOSiCc76T8hOJzF8hXrPyggdMQsquw/WhARYLjz7T+n6iwFO+/uP9SDJG8lmu8/BaooU7ry7z/pjmDoEvjvP0UML0Ehqu8/S0B8b7AJ7z8896RzYhjuPxtGcvur2Ow/cqEu/M1N6z8wwoM4zXvpP/RDN8hnZ+c/DfcMvQgW5T9n3v8Euo3iP0XiMV0pqt8/RAvCcF/m2T8Wnm0wG9/TP2quoqoiSMs/NbRb6vUVvT84tw1X+n6KPyWi3VHYfra/dC64HHoJyL8A1cIadErSv9Kfoc2DYNi/wR9M4hA33r96JZnFct/hv566Q4nMdOS/iMxJstrU5r9SY/AQbfnov57K8m7u3Oq/+zcVG3N67L+DuQ+7xc3tv9jvakJy0+6/EcS98c6I778CZNtGA+zvv9z63csM/O+/BuCGuMG4778c3hlf0SLvv3D2l2PCO+6/Iqv/we4F7b/UYu6tfYTrv+wFmVtbu+m/b+yCxy6v57/BZ5OXTWXlvzQJHjWu4+K//VUTRNgw4L+CpKU/p6fav7wo4hMsqNS/oHyr6r7lzL8r6KAW3C/Av/gqEQNpfpq/UcGbR8Uxsz8ujABnkWjGP40Egz/vftE/SagPrgCc1z//STR5j3vdPwlYHS4nh+E/y/64GNwi5D+3QkvjGormPxhUpKKgtug/PWWpacOi6j8k+N4KgUnsP7a+6CSMpu0/tvD/V1e27j/yLyyHHnbvP+pdIg3u4+8/kuIC0qf+7z+76rc0BsbvP4avXcCcOu8/gibcq9Zd7j+hl5sn8zHtP5mC9YL/ues/WhKiOM/56T+edtn28fXnP9ObIb2ns+U/hTC+LtM44z+EtGU96ovgP+KGXKjKZ9s/dFsZXVpw1T9aTtgqHoLOP8BGuqYL1ME/Pk1uHBneoz+IO3Ncv8evv6yVOuCyxsS/koE0d6qy0L/+bO+QetbWv0A90KTKvty/aBxrTxsu4b8=\",\"dtype\":\"float64\",\"shape\":[100]},\"y\":{\"__ndarray__\":\"AAAAAAAA8D/fVZCOUNbvP1N46tSuWe8/6JoWiF+L7j+6pIMpfG3tP8yppY7tAuw/PrJrTGRP6j/5j0waT1foP65a9kXPH+Y/GcG2Vauu4z+ckm78PwrhPza/iAzfctw/AM+K0h+H1j+Uwl1Rr2DQP78Rq/ImH8Q/lGKpLQsirT8wiOQebISmv28VmEsOfMK/JtLr+tgmz797yj1EPcDVv4Y1M+1itNu/JbuhRy2w4L8oVmKnrlrjvwU6iG7D0uW/Z4Xw1PwR6L8SyRI0gBLqvwnEfEcWz+u/sD+jwzhD7b/VkqAfHmvuv0SRKnPDQ++/FPAKT/TK77/bYql7UP/vvyYzsI5P4O+/T450TkJu779GlYTfUaruv+F1f758lu2/rnwYjpE17L//Ls7GJ4vqv/xZY1uWm+i/4zt7auhr5r/ooM0a0AHkv8rCLsSXY+G/2f4oGCMw3b+oCpdAC03Xvz/DUXw+LdG/gCGW3mLBxb8atI5TNd+xvyR2BRusy58/FDjF3irYwD/sxY2Y/YrNP0Lzahts+NQ/sn+947b02j/T192BY1XgPxW+IqndBeM/86BfMciE5T/lbsCDosvnPzThuRl+1Ok/ai5N8Q2a6z/mAX1ctBftP9+t+AePSe4/5qKoGYEs7z8p775MO77vP6/uKvZB/e8/w8jC4fDo7z/koRH+fIHvP+Dub9Lzx+4/6jLNwDi+7T+gp1AaAGfsP4rkoRPIxeo/Dc40q8/e6D/Tck6ZC7fmP3UYlWYZVOQ/DjvPyjC84T9OQ97zJuzdPxJ0PhP3Edg/xhRYOhH50T/mmWYjsGLHP7Y9HwOhLLU/7AmbLSONkr9wypVUHWe+v9BrnyHe7cu/FK8G6LQv1L8VnsIm4zPav5pvIR7N89+/D11j/Tuw4r9Ae+3l4DXlv2cKfipDhOe/1duYpWCV6b9wu9jR1mPrv28DcdHw6uy/6JBBsbMm7r91wYrH6BPvv2EXPRMmsO+/dHoUhtT5779oOBwpNPDvvwHG0BBek++/QT7IG0Tk7r9u3It8ruTtv1gxDBU3l+y/uqLIr0L/6r8=\",\"dtype\":\"float64\",\"shape\":[100]}},\"selected\":{\"id\":\"8096\",\"type\":\"Selection\"},\"selection_policy\":{\"id\":\"8095\",\"type\":\"UnionRenderers\"}},\"id\":\"7306\",\"type\":\"ColumnDataSource\"},{\"attributes\":{\"label\":{\"value\":\"rk2\"},\"renderers\":[{\"id\":\"7233\",\"type\":\"GlyphRenderer\"}]},\"id\":\"7242\",\"type\":\"LegendItem\"},{\"attributes\":{\"overlay\":{\"id\":\"7223\",\"type\":\"BoxAnnotation\"}},\"id\":\"7217\",\"type\":\"BoxZoomTool\"},{\"attributes\":{\"callback\":null},\"id\":\"7262\",\"type\":\"DataRange1d\"},{\"attributes\":{},\"id\":\"7218\",\"type\":\"SaveTool\"},{\"attributes\":{},\"id\":\"7264\",\"type\":\"LinearScale\"},{\"attributes\":{},\"id\":\"7219\",\"type\":\"ResetTool\"},{\"attributes\":{},\"id\":\"7220\",\"type\":\"HelpTool\"},{\"attributes\":{\"active_drag\":\"auto\",\"active_inspect\":\"auto\",\"active_multi\":null,\"active_scroll\":\"auto\",\"active_tap\":\"auto\",\"tools\":[{\"id\":\"7215\",\"type\":\"PanTool\"},{\"id\":\"7216\",\"type\":\"WheelZoomTool\"},{\"id\":\"7217\",\"type\":\"BoxZoomTool\"},{\"id\":\"7218\",\"type\":\"SaveTool\"},{\"id\":\"7219\",\"type\":\"ResetTool\"},{\"id\":\"7220\",\"type\":\"HelpTool\"}]},\"id\":\"7221\",\"type\":\"Toolbar\"},{\"attributes\":{\"fill_alpha\":{\"value\":0.1},\"fill_color\":{\"value\":\"#1f77b4\"},\"line_alpha\":{\"value\":0.1},\"line_color\":{\"value\":\"#1f77b4\"},\"x\":{\"field\":\"x\"},\"y\":{\"field\":\"y\"}},\"id\":\"7232\",\"type\":\"X\"},{\"attributes\":{},\"id\":\"7254\",\"type\":\"Selection\"},{\"attributes\":{\"bottom_units\":\"screen\",\"fill_alpha\":{\"value\":0.5},\"fill_color\":{\"value\":\"lightgrey\"},\"left_units\":\"screen\",\"level\":\"overlay\",\"line_alpha\":{\"value\":1.0},\"line_color\":{\"value\":\"black\"},\"line_dash\":[4,4],\"line_width\":{\"value\":2},\"plot\":null,\"render_mode\":\"css\",\"right_units\":\"screen\",\"top_units\":\"screen\"},\"id\":\"7223\",\"type\":\"BoxAnnotation\"},{\"attributes\":{},\"id\":\"7269\",\"type\":\"BasicTicker\"},{\"attributes\":{\"data_source\":{\"id\":\"7230\",\"type\":\"ColumnDataSource\"},\"glyph\":{\"id\":\"7231\",\"type\":\"X\"},\"hover_glyph\":null,\"muted_glyph\":null,\"nonselection_glyph\":{\"id\":\"7232\",\"type\":\"X\"},\"selection_glyph\":null,\"view\":{\"id\":\"7234\",\"type\":\"CDSView\"}},\"id\":\"7233\",\"type\":\"GlyphRenderer\"},{\"attributes\":{\"source\":{\"id\":\"7230\",\"type\":\"ColumnDataSource\"}},\"id\":\"7234\",\"type\":\"CDSView\"},{\"attributes\":{},\"id\":\"7236\",\"type\":\"BasicTickFormatter\"},{\"attributes\":{\"axis_label\":\"vitesse\",\"formatter\":{\"id\":\"7301\",\"type\":\"BasicTickFormatter\"},\"plot\":{\"id\":\"7258\",\"subtype\":\"Figure\",\"type\":\"Plot\"},\"ticker\":{\"id\":\"7274\",\"type\":\"BasicTicker\"}},\"id\":\"7273\",\"type\":\"LinearAxis\"},{\"attributes\":{},\"id\":\"7238\",\"type\":\"BasicTickFormatter\"},{\"attributes\":{\"plot\":{\"id\":\"7258\",\"subtype\":\"Figure\",\"type\":\"Plot\"},\"ticker\":{\"id\":\"7269\",\"type\":\"BasicTicker\"}},\"id\":\"7272\",\"type\":\"Grid\"},{\"attributes\":{\"fill_alpha\":{\"value\":0.1},\"fill_color\":{\"value\":\"#1f77b4\"},\"line_alpha\":{\"value\":0.1},\"line_color\":{\"value\":\"#1f77b4\"},\"x\":{\"field\":\"x\"},\"y\":{\"field\":\"y\"}},\"id\":\"7295\",\"type\":\"X\"},{\"attributes\":{\"items\":[{\"id\":\"7242\",\"type\":\"LegendItem\"},{\"id\":\"7256\",\"type\":\"LegendItem\"}],\"location\":\"top_left\",\"plot\":{\"id\":\"7195\",\"subtype\":\"Figure\",\"type\":\"Plot\"}},\"id\":\"7241\",\"type\":\"Legend\"},{\"attributes\":{\"callback\":null,\"data\":{\"x\":{\"__ndarray__\":\"AAAAAAAAAAAxb2dIzNu5PzFvZ0jM28k/ZZNNNtlk0z8xb2dIzNvZP3+lQK1fKeA/ZZNNNtlk4z9LgVq/UqDmPzFvZ0jM2+k/F1100UUX7T9/pUCtXynwP3Icx3Ecx/E/ZZNNNtlk8z9YCtT6lQL1P0uBWr9SoPY/Pvjggw8++D8xb2dIzNv5PyTm7QyJefs/F1100UUX/T8K1PqVArX+P3+lQK1fKQBA+OCDDz74AEByHMdxHMcBQOtXCtT6lQJAZZNNNtlkA0DezpCYtzMEQFgK1PqVAgVA0UUXXXTRBUBLgVq/UqAGQMS8nSExbwdAPvjggw8+CEC3MyTm7QwJQDFvZ0jM2wlAq6qqqqqqCkAk5u0MiXkLQJ4hMW9nSAxAF1100UUXDUCRmLczJOYNQArU+pUCtQ5AhA8++OCDD0B/pUCtXykQQDtDYt7OkBBA+OCDDz74EEC1fqVArV8RQHIcx3EcxxFALrrooosuEkDrVwrU+pUSQKj1KwVq/RJAZZNNNtlkE0AiMW9nSMwTQN7OkJi3MxRAm2yyySabFEBYCtT6lQIVQBWo9SsFahVA0UUXXXTRFUCO4ziO4zgWQEuBWr9SoBZACB988MEHF0DEvJ0hMW8XQIFav1Kg1hdAPvjggw8+GED7lQK1fqUYQLczJObtDBlAdNFFF110GUAxb2dIzNsZQO4MiXk7QxpAq6qqqqqqGkBnSMzbGRIbQCTm7QyJeRtA4YMPPvjgG0CeITFvZ0gcQFq/UqDWrxxAF1100UUXHUDU+pUCtX4dQJGYtzMk5h1ATTbZZJNNHkAK1PqVArUeQMdxHMdxHB9AhA8++OCDH0BArV8pUOsfQH+lQK1fKSBAXXTRRRddIEA7Q2LezpAgQBoS83aGxCBA+OCDDz74IEDXrxSo9SshQLV+pUCtXyFAk0022WSTIUByHMdxHMchQFDrVwrU+iFALrrooosuIkANiXk7Q2IiQOtXCtT6lSJAyiabbLLJIkCo9SsFav0iQIbEvJ0hMSNAZZNNNtlkI0BDYt7OkJgjQCIxb2dIzCNAAAAAAAAAJEA=\",\"dtype\":\"float64\",\"shape\":[100]},\"y\":[0.5,0.49999999999999994,0.49999999999999994,0.4999999999999999,0.4999999999999998,0.49999999999999983,0.49999999999999967,0.4999999999999997,0.4999999999999998,0.4999999999999998,0.4999999999999998,0.4999999999999997,0.49999999999999967,0.49999999999999967,0.49999999999999956,0.49999999999999956,0.49999999999999956,0.49999999999999956,0.4999999999999995,0.4999999999999995,0.49999999999999956,0.4999999999999996,0.4999999999999996,0.4999999999999995,0.4999999999999994,0.4999999999999994,0.4999999999999994,0.49999999999999933,0.49999999999999933,0.4999999999999992,0.49999999999999917,0.49999999999999917,0.49999999999999917,0.4999999999999993,0.4999999999999993,0.4999999999999993,0.4999999999999993,0.49999999999999933,0.4999999999999994,0.49999999999999944,0.49999999999999944,0.4999999999999995,0.49999999999999944,0.4999999999999994,0.49999999999999944,0.49999999999999944,0.4999999999999994,0.49999999999999944,0.4999999999999994,0.4999999999999994,0.4999999999999994,0.4999999999999994,0.49999999999999944,0.49999999999999933,0.49999999999999933,0.4999999999999992,0.4999999999999992,0.49999999999999917,0.49999999999999906,0.4999999999999991,0.49999999999999917,0.49999999999999917,0.49999999999999906,0.499999999999999,0.499999999999999,0.499999999999999,0.499999999999999,0.499999999999999,0.4999999999999989,0.4999999999999989,0.4999999999999989,0.4999999999999988,0.4999999999999988,0.4999999999999987,0.4999999999999988,0.49999999999999867,0.49999999999999867,0.4999999999999986,0.4999999999999986,0.4999999999999986,0.49999999999999856,0.4999999999999985,0.49999999999999845,0.49999999999999856,0.49999999999999845,0.49999999999999845,0.4999999999999984,0.49999999999999833,0.49999999999999833,0.4999999999999982,0.4999999999999982,0.4999999999999982,0.4999999999999982,0.49999999999999817,0.49999999999999806,0.499999999999998,0.49999999999999795,0.4999999999999979,0.4999999999999979,0.49999999999999795]},\"selected\":{\"id\":\"8091\",\"type\":\"Selection\"},\"selection_policy\":{\"id\":\"8090\",\"type\":\"UnionRenderers\"}},\"id\":\"7243\",\"type\":\"ColumnDataSource\"},{\"attributes\":{\"fill_color\":{\"value\":\"blue\"},\"line_color\":{\"value\":\"blue\"},\"x\":{\"field\":\"x\"},\"y\":{\"field\":\"y\"}},\"id\":\"7294\",\"type\":\"X\"},{\"attributes\":{\"data_source\":{\"id\":\"7293\",\"type\":\"ColumnDataSource\"},\"glyph\":{\"id\":\"7294\",\"type\":\"X\"},\"hover_glyph\":null,\"muted_glyph\":null,\"nonselection_glyph\":{\"id\":\"7295\",\"type\":\"X\"},\"selection_glyph\":null,\"view\":{\"id\":\"7297\",\"type\":\"CDSView\"}},\"id\":\"7296\",\"type\":\"GlyphRenderer\"},{\"attributes\":{},\"id\":\"7278\",\"type\":\"PanTool\"},{\"attributes\":{\"fill_alpha\":{\"value\":0.1},\"fill_color\":{\"value\":\"#1f77b4\"},\"line_alpha\":{\"value\":0.1},\"line_color\":{\"value\":\"#1f77b4\"},\"x\":{\"field\":\"x\"},\"y\":{\"field\":\"y\"}},\"id\":\"7245\",\"type\":\"X\"},{\"attributes\":{},\"id\":\"7279\",\"type\":\"WheelZoomTool\"},{\"attributes\":{\"overlay\":{\"id\":\"7286\",\"type\":\"BoxAnnotation\"}},\"id\":\"7280\",\"type\":\"BoxZoomTool\"},{\"attributes\":{},\"id\":\"7281\",\"type\":\"SaveTool\"},{\"attributes\":{},\"id\":\"7282\",\"type\":\"ResetTool\"},{\"attributes\":{},\"id\":\"7283\",\"type\":\"HelpTool\"},{\"attributes\":{\"plot\":null,\"text\":\"Hamiltonien Sch\\u00e9ma symplectique : 100 points\"},\"id\":\"7194\",\"type\":\"Title\"},{\"attributes\":{\"plot\":null,\"text\":\"Portrait Sch\\u00e9ma symplectique : 100 points\"},\"id\":\"7257\",\"type\":\"Title\"},{\"attributes\":{\"active_drag\":\"auto\",\"active_inspect\":\"auto\",\"active_multi\":null,\"active_scroll\":\"auto\",\"active_tap\":\"auto\",\"tools\":[{\"id\":\"7278\",\"type\":\"PanTool\"},{\"id\":\"7279\",\"type\":\"WheelZoomTool\"},{\"id\":\"7280\",\"type\":\"BoxZoomTool\"},{\"id\":\"7281\",\"type\":\"SaveTool\"},{\"id\":\"7282\",\"type\":\"ResetTool\"},{\"id\":\"7283\",\"type\":\"HelpTool\"}]},\"id\":\"7284\",\"type\":\"Toolbar\"},{\"attributes\":{\"callback\":null,\"data\":{\"x\":{\"__ndarray__\":\"AAAAAAAAAAAxb2dIzNu5PzFvZ0jM28k/ZZNNNtlk0z8xb2dIzNvZP3+lQK1fKeA/ZZNNNtlk4z9LgVq/UqDmPzFvZ0jM2+k/F1100UUX7T9/pUCtXynwP3Icx3Ecx/E/ZZNNNtlk8z9YCtT6lQL1P0uBWr9SoPY/Pvjggw8++D8xb2dIzNv5PyTm7QyJefs/F1100UUX/T8K1PqVArX+P3+lQK1fKQBA+OCDDz74AEByHMdxHMcBQOtXCtT6lQJAZZNNNtlkA0DezpCYtzMEQFgK1PqVAgVA0UUXXXTRBUBLgVq/UqAGQMS8nSExbwdAPvjggw8+CEC3MyTm7QwJQDFvZ0jM2wlAq6qqqqqqCkAk5u0MiXkLQJ4hMW9nSAxAF1100UUXDUCRmLczJOYNQArU+pUCtQ5AhA8++OCDD0B/pUCtXykQQDtDYt7OkBBA+OCDDz74EEC1fqVArV8RQHIcx3EcxxFALrrooosuEkDrVwrU+pUSQKj1KwVq/RJAZZNNNtlkE0AiMW9nSMwTQN7OkJi3MxRAm2yyySabFEBYCtT6lQIVQBWo9SsFahVA0UUXXXTRFUCO4ziO4zgWQEuBWr9SoBZACB988MEHF0DEvJ0hMW8XQIFav1Kg1hdAPvjggw8+GED7lQK1fqUYQLczJObtDBlAdNFFF110GUAxb2dIzNsZQO4MiXk7QxpAq6qqqqqqGkBnSMzbGRIbQCTm7QyJeRtA4YMPPvjgG0CeITFvZ0gcQFq/UqDWrxxAF1100UUXHUDU+pUCtX4dQJGYtzMk5h1ATTbZZJNNHkAK1PqVArUeQMdxHMdxHB9AhA8++OCDH0BArV8pUOsfQH+lQK1fKSBAXXTRRRddIEA7Q2LezpAgQBoS83aGxCBA+OCDDz74IEDXrxSo9SshQLV+pUCtXyFAk0022WSTIUByHMdxHMchQFDrVwrU+iFALrrooosuIkANiXk7Q2IiQOtXCtT6lSJAyiabbLLJIkCo9SsFav0iQIbEvJ0hMSNAZZNNNtlkI0BDYt7OkJgjQCIxb2dIzCNAAAAAAAAAJEA=\",\"dtype\":\"float64\",\"shape\":[100]},\"y\":[0.5,0.500013012754446,0.5000260258475557,0.5000390392793377,0.5000520530498009,0.500065067158954,0.500078081606806,0.5000910963933657,0.5001041115186418,0.5001171269826431,0.5001301427853785,0.5001431589268567,0.5001561754070867,0.5001691922260771,0.500182209383837,0.5001952268803749,0.5002082447156998,0.5002212628898206,0.500234281402746,0.5002473002544847,0.5002603194450459,0.5002733389744379,0.5002863588426698,0.5002993790497505,0.5003123995956887,0.5003254204804932,0.500338441704173,0.5003514632667366,0.500364485168193,0.5003775074085511,0.5003905299878196,0.5004035529060072,0.5004165761631231,0.5004295997591758,0.5004426236941741,0.5004556479681271,0.5004686725810434,0.5004816975329319,0.5004947228238015,0.5005077484536609,0.5005207744225189,0.5005338007303843,0.500546827377266,0.5005598543631729,0.5005728816881135,0.500585909352097,0.5005989373551322,0.5006119656972278,0.5006249943783925,0.5006380233986353,0.500651052757965,0.5006640824563904,0.5006771124939203,0.5006901428705637,0.5007031735863292,0.5007162046412256,0.5007292360352619,0.5007422677684469,0.5007552998407894,0.5007683322522981,0.5007813650029821,0.5007943980928499,0.5008074315219105,0.5008204652901729,0.5008334993976457,0.5008465338443377,0.5008595686302579,0.500872603755415,0.5008856392198178,0.5008986750234754,0.5009117111663963,0.5009247476485894,0.5009377844700637,0.5009508216308277,0.5009638591308906,0.500976896970261,0.5009899351489479,0.50100297366696,0.5010160125243062,0.5010290517209952,0.501042091257036,0.5010551311324374,0.501068171347208,0.501081211901357,0.5010942527948931,0.5011072940278251,0.5011203356001617,0.5011333775119119,0.5011464197630844,0.5011594623536882,0.5011725052837321,0.501185548553225,0.5011985921621754,0.5012116361105925,0.501224680398485,0.5012377250258617,0.5012507699927314,0.5012638152991031,0.5012768609449856,0.5012899069303876]},\"selected\":{\"id\":\"7254\",\"type\":\"Selection\"},\"selection_policy\":{\"id\":\"7253\",\"type\":\"UnionRenderers\"}},\"id\":\"7230\",\"type\":\"ColumnDataSource\"},{\"attributes\":{\"below\":[{\"id\":\"7205\",\"type\":\"LinearAxis\"}],\"left\":[{\"id\":\"7210\",\"type\":\"LinearAxis\"}],\"plot_height\":300,\"plot_width\":500,\"renderers\":[{\"id\":\"7205\",\"type\":\"LinearAxis\"},{\"id\":\"7209\",\"type\":\"Grid\"},{\"id\":\"7210\",\"type\":\"LinearAxis\"},{\"id\":\"7214\",\"type\":\"Grid\"},{\"id\":\"7223\",\"type\":\"BoxAnnotation\"},{\"id\":\"7241\",\"type\":\"Legend\"},{\"id\":\"7233\",\"type\":\"GlyphRenderer\"},{\"id\":\"7246\",\"type\":\"GlyphRenderer\"}],\"title\":{\"id\":\"7194\",\"type\":\"Title\"},\"toolbar\":{\"id\":\"7221\",\"type\":\"Toolbar\"},\"x_range\":{\"id\":\"7197\",\"type\":\"DataRange1d\"},\"x_scale\":{\"id\":\"7201\",\"type\":\"LinearScale\"},\"y_range\":{\"id\":\"7199\",\"type\":\"DataRange1d\"},\"y_scale\":{\"id\":\"7203\",\"type\":\"LinearScale\"}},\"id\":\"7195\",\"subtype\":\"Figure\",\"type\":\"Plot\"},{\"attributes\":{\"bottom_units\":\"screen\",\"fill_alpha\":{\"value\":0.5},\"fill_color\":{\"value\":\"lightgrey\"},\"left_units\":\"screen\",\"level\":\"overlay\",\"line_alpha\":{\"value\":1.0},\"line_color\":{\"value\":\"black\"},\"line_dash\":[4,4],\"line_width\":{\"value\":2},\"plot\":null,\"render_mode\":\"css\",\"right_units\":\"screen\",\"top_units\":\"screen\"},\"id\":\"7286\",\"type\":\"BoxAnnotation\"},{\"attributes\":{\"callback\":null},\"id\":\"7197\",\"type\":\"DataRange1d\"},{\"attributes\":{\"source\":{\"id\":\"7293\",\"type\":\"ColumnDataSource\"}},\"id\":\"7297\",\"type\":\"CDSView\"},{\"attributes\":{\"callback\":null},\"id\":\"7199\",\"type\":\"DataRange1d\"},{\"attributes\":{},\"id\":\"7299\",\"type\":\"BasicTickFormatter\"},{\"attributes\":{},\"id\":\"7201\",\"type\":\"LinearScale\"},{\"attributes\":{},\"id\":\"7301\",\"type\":\"BasicTickFormatter\"},{\"attributes\":{},\"id\":\"7203\",\"type\":\"LinearScale\"},{\"attributes\":{\"items\":[{\"id\":\"7305\",\"type\":\"LegendItem\"},{\"id\":\"7319\",\"type\":\"LegendItem\"}],\"plot\":{\"id\":\"7258\",\"subtype\":\"Figure\",\"type\":\"Plot\"}},\"id\":\"7304\",\"type\":\"Legend\"},{\"attributes\":{\"data_source\":{\"id\":\"7243\",\"type\":\"ColumnDataSource\"},\"glyph\":{\"id\":\"7244\",\"type\":\"X\"},\"hover_glyph\":null,\"muted_glyph\":null,\"nonselection_glyph\":{\"id\":\"7245\",\"type\":\"X\"},\"selection_glyph\":null,\"view\":{\"id\":\"7247\",\"type\":\"CDSView\"}},\"id\":\"7246\",\"type\":\"GlyphRenderer\"},{\"attributes\":{\"label\":{\"value\":\"rk2\"},\"renderers\":[{\"id\":\"7296\",\"type\":\"GlyphRenderer\"}]},\"id\":\"7305\",\"type\":\"LegendItem\"},{\"attributes\":{\"axis_label\":\"position\",\"formatter\":{\"id\":\"7299\",\"type\":\"BasicTickFormatter\"},\"plot\":{\"id\":\"7258\",\"subtype\":\"Figure\",\"type\":\"Plot\"},\"ticker\":{\"id\":\"7269\",\"type\":\"BasicTicker\"}},\"id\":\"7268\",\"type\":\"LinearAxis\"},{\"attributes\":{\"fill_color\":{\"value\":\"red\"},\"line_color\":{\"value\":\"red\"},\"x\":{\"field\":\"x\"},\"y\":{\"field\":\"y\"}},\"id\":\"7307\",\"type\":\"X\"},{\"attributes\":{\"fill_alpha\":{\"value\":0.1},\"fill_color\":{\"value\":\"#1f77b4\"},\"line_alpha\":{\"value\":0.1},\"line_color\":{\"value\":\"#1f77b4\"},\"x\":{\"field\":\"x\"},\"y\":{\"field\":\"y\"}},\"id\":\"7308\",\"type\":\"X\"},{\"attributes\":{\"data_source\":{\"id\":\"7306\",\"type\":\"ColumnDataSource\"},\"glyph\":{\"id\":\"7307\",\"type\":\"X\"},\"hover_glyph\":null,\"muted_glyph\":null,\"nonselection_glyph\":{\"id\":\"7308\",\"type\":\"X\"},\"selection_glyph\":null,\"view\":{\"id\":\"7310\",\"type\":\"CDSView\"}},\"id\":\"7309\",\"type\":\"GlyphRenderer\"},{\"attributes\":{\"source\":{\"id\":\"7306\",\"type\":\"ColumnDataSource\"}},\"id\":\"7310\",\"type\":\"CDSView\"},{\"attributes\":{},\"id\":\"7266\",\"type\":\"LinearScale\"},{\"attributes\":{},\"id\":\"7253\",\"type\":\"UnionRenderers\"},{\"attributes\":{},\"id\":\"7316\",\"type\":\"UnionRenderers\"},{\"attributes\":{},\"id\":\"7317\",\"type\":\"Selection\"},{\"attributes\":{\"label\":{\"value\":\"Point symplectique\"},\"renderers\":[{\"id\":\"7309\",\"type\":\"GlyphRenderer\"}]},\"id\":\"7319\",\"type\":\"LegendItem\"},{\"attributes\":{\"callback\":null,\"data\":{\"x\":{\"__ndarray__\":\"AAAAAAAAAAAxb2dIzNu5PyRz9OUGusk/ECB9hW8h0z/XqnOozTPZP1hByTE3BN8/2FV/CblB4j8fYvZcjNHkP8xXr+LfKuc/mplhlYxH6T/yiXM4CiLrPzroptV9tew/20kfdcb97T/QTHHuh/fuPyEZZLYzoO8/YPtTkg/27z+ch6YfOvjvPzlfcCOtpu8/QIE7nD0C7z+wxruVmQzuP1J0HsRDyOw/yUBy8ow46z94lldVi2HpP9dJrtgPSOc/ogBAhJnx5D+mQmcYR2TiPyQPuxCOTd8/UKxE+IuA2T8T9I4PuHDTP/l/QSXjW8o/+n+fCXUiuz8Qmpr0nV50P5PCctoimri/eN7Sk/ccyb8KdVQ2mNXSv542glFt69i/5ToJYAvA3r9ROtSoFiLiv3+rbF+wtOS/AhOB3xUR579yFRgaGDHpv7IR9BcmD+u/Jgkajlum7L+gUEaujfLtvwuxvRFW8O6/ShzhoRud778ahixnGffvv40EySxj/e+/hLKI7Oev778cCPH8cQ/vv/xF1wClHe6/9Mjynfnc7L+3QJsFt1Drv1aYnWDqfOm/wu+aNFxm57+T1bLegxLlvyYbP0R5h+K///otvsmX37/PWjme3M3Zv495cD1TwNO/7t4trQ3+yr8tPZIsYWm8v8ge1BCoYIS/fKZN1w5Ytz9XRK7Znn/IP+p8gISSidI/1aWiYtWi2D9S5JxSn3veP1qIhixQAuI/FOT6pqyX5D8oCSnqIPfmP7lf0+V1Guk/gWNe7xH86j+xCB9tB5fsP0XLLb8h5+0/YELtQ/Do7j8VDGdbz5nvP5x+4VHv9+8/cwLHjywB8D9yBd3w8LjvP+nO0XB2HO8/JBSQ1IIu7j8+oT2thPHsP3K/Jou5aOs/nvPKgiWY6T83awOqiITnP4r/xahSM+U/ekkRfpSq4j8ePoU84eHfP21b0ygTG9o/EsomqN4P1D8uYNOxLaDLPzL+bIZisL0/4KUcEPuTjj984DE2khW2vyr+9aj94ce/Z/ll4l490r8oNrtGBlrYvx7802vzNt6/pB/ywGXi4b8=\",\"dtype\":\"float64\",\"shape\":[100]},\"y\":{\"__ndarray__\":\"AAAAAAAA8D99TitWNdbvP5/uA+0LWe8/OWNK98qJ7j9daxqikGrtP3nklYpM/us/ZRwVD7hI6j83S/ePTE7oP2qulbk3FOY/7LwA9k2g4z+grAMq+/jgP+G9xMpjStw/1h2qZLJY1j8yTMJncizQP/PkNxebq8M/JNTqOOUqqz+msWonHqCovwCve2m/CsO/o5+4DLC7z7863gSozgzWvyfidxwSAty/47Gf8QPX4L/Khe2q6oDjv/j8ZkfD9+W/OftVehk16L/fNbiEDzPqvx2myJJt7Ou/VsonZ69c7b82yNQvEIDuv5mC+GWUU++/a+qjnhHV77+FZgMcmgHwvzEIPtSC3e+/ALGYmF9k77+YUQwuB5nuv7iXcYWNfe2/i0H9Z9gU7L9ccC3il2Lqv/iwAp08a+i/VEbHPuwz5r95Y9Dxc8Ljv96BfjQ5HeG/K1t+NFKW3L8/bs9STKfWv/ITxQrqfNC/oKg7X6BOxL9IKUXdpritvyCn9O9fF6Y/DvzHbXlrwj/a7ZG89CDPPyKJfvGAwtU/dsjA75a72z/3cLrrC7bgP8Eywo6OYuM/WknGmVLc5T+d0VYb3BzoP2d2c/NEHuo/zJgER0zb6z/b+6ZCZE/tPygivgi+du4/TLmMq1NO7z9UfC8Z8NPvP1Y/XHIaA/A/Nb5A3Z3k7z8AiIVpgm/vP7iZf6QUqO4/EaxDPV6Q7T9p0VciOyvsPxJ4bwZSfOo/tMkh0gqI6D/00Jwbg1PmP/EJhcKA5OM/XToP02JB4T+oxsmvIeLcP/gC/YzR9dY/hL6OalfN0D8+ji04pvHEP86jvY5fI7A/9ti7pveNo7/Ws1x/9MvBv+mRILDmhc6/kD5MZAB41b8Hsuf433Tbv9QtStXxlOC/bbW+jwxE478siS+auMDlv3K/cWdyBOi/w39qfksJ6r+HNmMD+snrv5QcZ5LmQe2/JotgRjht7r/z5nPN3kjvv5rJL3Ca0u+/go5E+4AE8L/SBzBbhuvvvyc0iUN0eu+/AxhvOPO27r9aKsGhAqPtv9vxo4x0Qey/Tz8dSuaV6r8=\",\"dtype\":\"float64\",\"shape\":[100]}},\"selected\":{\"id\":\"7317\",\"type\":\"Selection\"},\"selection_policy\":{\"id\":\"7316\",\"type\":\"UnionRenderers\"}},\"id\":\"7293\",\"type\":\"ColumnDataSource\"},{\"attributes\":{},\"id\":\"7274\",\"type\":\"BasicTicker\"},{\"attributes\":{},\"id\":\"8090\",\"type\":\"UnionRenderers\"},{\"attributes\":{},\"id\":\"8095\",\"type\":\"UnionRenderers\"},{\"attributes\":{},\"id\":\"8096\",\"type\":\"Selection\"},{\"attributes\":{},\"id\":\"8091\",\"type\":\"Selection\"},{\"attributes\":{\"below\":[{\"id\":\"7268\",\"type\":\"LinearAxis\"}],\"left\":[{\"id\":\"7273\",\"type\":\"LinearAxis\"}],\"plot_height\":300,\"plot_width\":500,\"renderers\":[{\"id\":\"7268\",\"type\":\"LinearAxis\"},{\"id\":\"7272\",\"type\":\"Grid\"},{\"id\":\"7273\",\"type\":\"LinearAxis\"},{\"id\":\"7277\",\"type\":\"Grid\"},{\"id\":\"7286\",\"type\":\"BoxAnnotation\"},{\"id\":\"7304\",\"type\":\"Legend\"},{\"id\":\"7296\",\"type\":\"GlyphRenderer\"},{\"id\":\"7309\",\"type\":\"GlyphRenderer\"}],\"title\":{\"id\":\"7257\",\"type\":\"Title\"},\"toolbar\":{\"id\":\"7284\",\"type\":\"Toolbar\"},\"x_range\":{\"id\":\"7260\",\"type\":\"DataRange1d\"},\"x_scale\":{\"id\":\"7264\",\"type\":\"LinearScale\"},\"y_range\":{\"id\":\"7262\",\"type\":\"DataRange1d\"},\"y_scale\":{\"id\":\"7266\",\"type\":\"LinearScale\"}},\"id\":\"7258\",\"subtype\":\"Figure\",\"type\":\"Plot\"},{\"attributes\":{\"source\":{\"id\":\"7243\",\"type\":\"ColumnDataSource\"}},\"id\":\"7247\",\"type\":\"CDSView\"},{\"attributes\":{\"dimension\":1,\"plot\":{\"id\":\"7258\",\"subtype\":\"Figure\",\"type\":\"Plot\"},\"ticker\":{\"id\":\"7274\",\"type\":\"BasicTicker\"}},\"id\":\"7277\",\"type\":\"Grid\"}],\"root_ids\":[\"7765\"]},\"title\":\"Bokeh Application\",\"version\":\"1.0.4\"}};\n",
       "  var render_items = [{\"docid\":\"ab7122e3-4033-4454-98f6-bd358c1ffffe\",\"roots\":{\"7765\":\"40d71b0f-d838-4088-aa10-7386e960f259\"}}];\n",
       "  root.Bokeh.embed.embed_items_notebook(docs_json, render_items);\n",
       "\n",
       "  }\n",
       "  if (root.Bokeh !== undefined) {\n",
       "    embed_document(root);\n",
       "  } else {\n",
       "    var attempts = 0;\n",
       "    var timer = setInterval(function(root) {\n",
       "      if (root.Bokeh !== undefined) {\n",
       "        embed_document(root);\n",
       "        clearInterval(timer);\n",
       "      }\n",
       "      attempts++;\n",
       "      if (attempts > 100) {\n",
       "        console.log(\"Bokeh: ERROR: Unable to run BokehJS code because BokehJS library is missing\");\n",
       "        clearInterval(timer);\n",
       "      }\n",
       "    }, 10, root)\n",
       "  }\n",
       "})(window);"
      ],
      "application/vnd.bokehjs_exec.v0+json": ""
     },
     "metadata": {
      "application/vnd.bokehjs_exec.v0+json": {
       "id": "7765"
      }
     },
     "output_type": "display_data"
    },
    {
     "data": {
      "text/html": [
       "\n",
       "\n",
       "\n",
       "\n",
       "\n",
       "\n",
       "  <div class=\"bk-root\" id=\"a8b25d29-40b2-434f-a58d-79485f8174b8\" data-root-id=\"8219\"></div>\n"
      ]
     },
     "metadata": {},
     "output_type": "display_data"
    },
    {
     "data": {
      "application/javascript": [
       "(function(root) {\n",
       "  function embed_document(root) {\n",
       "    \n",
       "  var docs_json = {\"fbd2b2b5-4474-4d6a-a363-9d27d3936605\":{\"roots\":{\"references\":[{\"attributes\":{\"below\":[{\"id\":\"8229\",\"type\":\"LogAxis\"}],\"left\":[{\"id\":\"8234\",\"type\":\"LogAxis\"}],\"plot_height\":400,\"plot_width\":990,\"renderers\":[{\"id\":\"8229\",\"type\":\"LogAxis\"},{\"id\":\"8233\",\"type\":\"Grid\"},{\"id\":\"8234\",\"type\":\"LogAxis\"},{\"id\":\"8238\",\"type\":\"Grid\"},{\"id\":\"8247\",\"type\":\"BoxAnnotation\"},{\"id\":\"8265\",\"type\":\"Legend\"},{\"id\":\"8257\",\"type\":\"GlyphRenderer\"},{\"id\":\"8270\",\"type\":\"GlyphRenderer\"},{\"id\":\"8275\",\"type\":\"GlyphRenderer\"}],\"title\":{\"id\":\"8218\",\"type\":\"Title\"},\"toolbar\":{\"id\":\"8245\",\"type\":\"Toolbar\"},\"x_range\":{\"id\":\"8221\",\"type\":\"DataRange1d\"},\"x_scale\":{\"id\":\"8225\",\"type\":\"LogScale\"},\"y_range\":{\"id\":\"8223\",\"type\":\"DataRange1d\"},\"y_scale\":{\"id\":\"8227\",\"type\":\"LogScale\"}},\"id\":\"8219\",\"subtype\":\"Figure\",\"type\":\"Plot\"},{\"attributes\":{\"axis_label\":\"Erreur commise sur la position\",\"formatter\":{\"id\":\"8262\",\"type\":\"LogTickFormatter\"},\"plot\":{\"id\":\"8219\",\"subtype\":\"Figure\",\"type\":\"Plot\"},\"ticker\":{\"id\":\"8235\",\"type\":\"LogTicker\"}},\"id\":\"8234\",\"type\":\"LogAxis\"},{\"attributes\":{\"label\":{\"value\":\"Erreur pratique - symplectique\"},\"renderers\":[{\"id\":\"8257\",\"type\":\"GlyphRenderer\"}]},\"id\":\"8266\",\"type\":\"LegendItem\"},{\"attributes\":{\"num_minor_ticks\":10},\"id\":\"8235\",\"type\":\"LogTicker\"},{\"attributes\":{\"dimension\":1,\"plot\":{\"id\":\"8219\",\"subtype\":\"Figure\",\"type\":\"Plot\"},\"ticker\":{\"id\":\"8235\",\"type\":\"LogTicker\"}},\"id\":\"8238\",\"type\":\"Grid\"},{\"attributes\":{\"line_color\":\"#1f77b4\",\"x\":{\"field\":\"x\"},\"y\":{\"field\":\"y\"}},\"id\":\"8268\",\"type\":\"Line\"},{\"attributes\":{\"line_color\":\"green\",\"x\":{\"field\":\"x\"},\"y\":{\"field\":\"y\"}},\"id\":\"8273\",\"type\":\"Line\"},{\"attributes\":{\"fill_alpha\":{\"value\":0.1},\"fill_color\":{\"value\":\"#1f77b4\"},\"line_alpha\":{\"value\":0.1},\"line_color\":{\"value\":\"#1f77b4\"},\"x\":{\"field\":\"x\"},\"y\":{\"field\":\"y\"}},\"id\":\"8256\",\"type\":\"X\"},{\"attributes\":{\"line_alpha\":0.1,\"line_color\":\"#1f77b4\",\"x\":{\"field\":\"x\"},\"y\":{\"field\":\"y\"}},\"id\":\"8269\",\"type\":\"Line\"},{\"attributes\":{\"callback\":null,\"data\":{\"x\":{\"__ndarray__\":\"ZAAAACwBAAC8AgAA6AMAALgLAABYGwAAECcAAA==\",\"dtype\":\"int32\",\"shape\":[7]},\"y\":{\"__ndarray__\":\"LUMc6+I2Gj8pWKd7O03nPiKP/aOeHsE+je21oPfGsD7CwphWf9N9Pkxl6NHA6VU+Ooww4o55RT4=\",\"dtype\":\"float64\",\"shape\":[7]}},\"selected\":{\"id\":\"8630\",\"type\":\"Selection\"},\"selection_policy\":{\"id\":\"8629\",\"type\":\"UnionRenderers\"}},\"id\":\"8272\",\"type\":\"ColumnDataSource\"},{\"attributes\":{\"data_source\":{\"id\":\"8267\",\"type\":\"ColumnDataSource\"},\"glyph\":{\"id\":\"8268\",\"type\":\"Line\"},\"hover_glyph\":null,\"muted_glyph\":null,\"nonselection_glyph\":{\"id\":\"8269\",\"type\":\"Line\"},\"selection_glyph\":null,\"view\":{\"id\":\"8271\",\"type\":\"CDSView\"}},\"id\":\"8270\",\"type\":\"GlyphRenderer\"},{\"attributes\":{\"fill_color\":{\"value\":\"red\"},\"line_color\":{\"value\":\"red\"},\"x\":{\"field\":\"x\"},\"y\":{\"field\":\"y\"}},\"id\":\"8255\",\"type\":\"X\"},{\"attributes\":{\"data_source\":{\"id\":\"8254\",\"type\":\"ColumnDataSource\"},\"glyph\":{\"id\":\"8255\",\"type\":\"X\"},\"hover_glyph\":null,\"muted_glyph\":null,\"nonselection_glyph\":{\"id\":\"8256\",\"type\":\"X\"},\"selection_glyph\":null,\"view\":{\"id\":\"8258\",\"type\":\"CDSView\"}},\"id\":\"8257\",\"type\":\"GlyphRenderer\"},{\"attributes\":{\"source\":{\"id\":\"8267\",\"type\":\"ColumnDataSource\"}},\"id\":\"8271\",\"type\":\"CDSView\"},{\"attributes\":{},\"id\":\"8239\",\"type\":\"PanTool\"},{\"attributes\":{},\"id\":\"8240\",\"type\":\"WheelZoomTool\"},{\"attributes\":{\"line_alpha\":0.1,\"line_color\":\"#1f77b4\",\"x\":{\"field\":\"x\"},\"y\":{\"field\":\"y\"}},\"id\":\"8274\",\"type\":\"Line\"},{\"attributes\":{\"callback\":null},\"id\":\"8221\",\"type\":\"DataRange1d\"},{\"attributes\":{\"overlay\":{\"id\":\"8247\",\"type\":\"BoxAnnotation\"}},\"id\":\"8241\",\"type\":\"BoxZoomTool\"},{\"attributes\":{\"data_source\":{\"id\":\"8272\",\"type\":\"ColumnDataSource\"},\"glyph\":{\"id\":\"8273\",\"type\":\"Line\"},\"hover_glyph\":null,\"muted_glyph\":null,\"nonselection_glyph\":{\"id\":\"8274\",\"type\":\"Line\"},\"selection_glyph\":null,\"view\":{\"id\":\"8276\",\"type\":\"CDSView\"}},\"id\":\"8275\",\"type\":\"GlyphRenderer\"},{\"attributes\":{},\"id\":\"8242\",\"type\":\"SaveTool\"},{\"attributes\":{\"source\":{\"id\":\"8272\",\"type\":\"ColumnDataSource\"}},\"id\":\"8276\",\"type\":\"CDSView\"},{\"attributes\":{},\"id\":\"8225\",\"type\":\"LogScale\"},{\"attributes\":{},\"id\":\"8243\",\"type\":\"ResetTool\"},{\"attributes\":{},\"id\":\"8282\",\"type\":\"UnionRenderers\"},{\"attributes\":{\"callback\":null,\"data\":{\"x\":{\"__ndarray__\":\"ZAAAACwBAAC8AgAA6AMAALgLAABYGwAAECcAAA==\",\"dtype\":\"int32\",\"shape\":[7]},\"y\":{\"__ndarray__\":\"exSuR+F6hD9PG+i0gU5rP7GpNOTcZ1c//Knx0k1iUD+l4uzDZ9g1P45UXYN9uSI/LUMc6+I2Gj8=\",\"dtype\":\"float64\",\"shape\":[7]}},\"selected\":{\"id\":\"8285\",\"type\":\"Selection\"},\"selection_policy\":{\"id\":\"8284\",\"type\":\"UnionRenderers\"}},\"id\":\"8267\",\"type\":\"ColumnDataSource\"},{\"attributes\":{\"callback\":null},\"id\":\"8223\",\"type\":\"DataRange1d\"},{\"attributes\":{},\"id\":\"8244\",\"type\":\"HelpTool\"},{\"attributes\":{\"plot\":{\"id\":\"8219\",\"subtype\":\"Figure\",\"type\":\"Plot\"},\"ticker\":{\"id\":\"8230\",\"type\":\"LogTicker\"}},\"id\":\"8233\",\"type\":\"Grid\"},{\"attributes\":{},\"id\":\"8283\",\"type\":\"Selection\"},{\"attributes\":{\"active_drag\":\"auto\",\"active_inspect\":\"auto\",\"active_multi\":null,\"active_scroll\":\"auto\",\"active_tap\":\"auto\",\"tools\":[{\"id\":\"8239\",\"type\":\"PanTool\"},{\"id\":\"8240\",\"type\":\"WheelZoomTool\"},{\"id\":\"8241\",\"type\":\"BoxZoomTool\"},{\"id\":\"8242\",\"type\":\"SaveTool\"},{\"id\":\"8243\",\"type\":\"ResetTool\"},{\"id\":\"8244\",\"type\":\"HelpTool\"}]},\"id\":\"8245\",\"type\":\"Toolbar\"},{\"attributes\":{\"plot\":null,\"text\":\"Erreur commise\"},\"id\":\"8218\",\"type\":\"Title\"},{\"attributes\":{},\"id\":\"8284\",\"type\":\"UnionRenderers\"},{\"attributes\":{},\"id\":\"8227\",\"type\":\"LogScale\"},{\"attributes\":{},\"id\":\"8285\",\"type\":\"Selection\"},{\"attributes\":{\"bottom_units\":\"screen\",\"fill_alpha\":{\"value\":0.5},\"fill_color\":{\"value\":\"lightgrey\"},\"left_units\":\"screen\",\"level\":\"overlay\",\"line_alpha\":{\"value\":1.0},\"line_color\":{\"value\":\"black\"},\"line_dash\":[4,4],\"line_width\":{\"value\":2},\"plot\":null,\"render_mode\":\"css\",\"right_units\":\"screen\",\"top_units\":\"screen\"},\"id\":\"8247\",\"type\":\"BoxAnnotation\"},{\"attributes\":{\"label\":{\"value\":\"ordre 2\"},\"renderers\":[{\"id\":\"8275\",\"type\":\"GlyphRenderer\"}]},\"id\":\"8287\",\"type\":\"LegendItem\"},{\"attributes\":{\"source\":{\"id\":\"8254\",\"type\":\"ColumnDataSource\"}},\"id\":\"8258\",\"type\":\"CDSView\"},{\"attributes\":{\"callback\":null,\"data\":{\"x\":{\"__ndarray__\":\"ZAAAACwBAAC8AgAA6AMAALgLAABYGwAAECcAAA==\",\"dtype\":\"int32\",\"shape\":[7]},\"y\":[0.007884725101210993,0.0008774159304895945,0.00016117485158491374,7.897658074944303e-05,8.775259938864632e-06,1.6117839862772598e-06,7.897744509766103e-07]},\"selected\":{\"id\":\"8283\",\"type\":\"Selection\"},\"selection_policy\":{\"id\":\"8282\",\"type\":\"UnionRenderers\"}},\"id\":\"8254\",\"type\":\"ColumnDataSource\"},{\"attributes\":{},\"id\":\"8629\",\"type\":\"UnionRenderers\"},{\"attributes\":{\"ticker\":null},\"id\":\"8260\",\"type\":\"LogTickFormatter\"},{\"attributes\":{},\"id\":\"8630\",\"type\":\"Selection\"},{\"attributes\":{\"ticker\":null},\"id\":\"8262\",\"type\":\"LogTickFormatter\"},{\"attributes\":{\"num_minor_ticks\":10},\"id\":\"8230\",\"type\":\"LogTicker\"},{\"attributes\":{\"axis_label\":\"nombre du subdivisions\",\"formatter\":{\"id\":\"8260\",\"type\":\"LogTickFormatter\"},\"plot\":{\"id\":\"8219\",\"subtype\":\"Figure\",\"type\":\"Plot\"},\"ticker\":{\"id\":\"8230\",\"type\":\"LogTicker\"}},\"id\":\"8229\",\"type\":\"LogAxis\"},{\"attributes\":{\"items\":[{\"id\":\"8266\",\"type\":\"LegendItem\"},{\"id\":\"8287\",\"type\":\"LegendItem\"}],\"location\":\"top_right\",\"plot\":{\"id\":\"8219\",\"subtype\":\"Figure\",\"type\":\"Plot\"}},\"id\":\"8265\",\"type\":\"Legend\"}],\"root_ids\":[\"8219\"]},\"title\":\"Bokeh Application\",\"version\":\"1.0.4\"}};\n",
       "  var render_items = [{\"docid\":\"fbd2b2b5-4474-4d6a-a363-9d27d3936605\",\"roots\":{\"8219\":\"a8b25d29-40b2-434f-a58d-79485f8174b8\"}}];\n",
       "  root.Bokeh.embed.embed_items_notebook(docs_json, render_items);\n",
       "\n",
       "  }\n",
       "  if (root.Bokeh !== undefined) {\n",
       "    embed_document(root);\n",
       "  } else {\n",
       "    var attempts = 0;\n",
       "    var timer = setInterval(function(root) {\n",
       "      if (root.Bokeh !== undefined) {\n",
       "        embed_document(root);\n",
       "        clearInterval(timer);\n",
       "      }\n",
       "      attempts++;\n",
       "      if (attempts > 100) {\n",
       "        console.log(\"Bokeh: ERROR: Unable to run BokehJS code because BokehJS library is missing\");\n",
       "        clearInterval(timer);\n",
       "      }\n",
       "    }, 10, root)\n",
       "  }\n",
       "})(window);"
      ],
      "application/vnd.bokehjs_exec.v0+json": ""
     },
     "metadata": {
      "application/vnd.bokehjs_exec.v0+json": {
       "id": "8219"
      }
     },
     "output_type": "display_data"
    }
   ],
   "source": [
    "def f(t,y):\n",
    "    return(np.array([y[1],-y[0]]))\n",
    "\n",
    "def H(p,q):\n",
    "    return 0.5 * (p*p+q*q)\n",
    "\n",
    "def solution(t):\n",
    "    return np.sin(t)\n",
    "\n",
    "\n",
    "t0=0\n",
    "y0=np.array([0,1])\n",
    "tf=10\n",
    "nt=100\n",
    "\n",
    "h=(tf-t0)/(nt-1) # attention au nt-1\n",
    "A=1/(1+h*h/4)*np.array([[1-h*h/4,h],[-h,1-h*h/4]])\n",
    "\n",
    "# affichage\n",
    "T=np.linspace(t0,tf,nt)\n",
    "Yth=solution(T)\n",
    "Yrk=rk2(f,t0,tf,nt,y0)\n",
    "Yrki=pt_milieu_symplectique(A,t0,tf,nt,y0)\n",
    "    \n",
    "fig1 = figure(width=500, height=300, title=\"Position Schéma symplectique : \"+ str(nt) + \" points\")\n",
    "fig1.line(T,Yth,color='green',legend=\"Solution exacte\")\n",
    "fig1.x(T,Yrk[:,0],color='blue',legend=\"Rk2\")\n",
    "fig1.x(T,Yrki[:,0],color='red',legend=\"Point symplectique\")\n",
    "fig1.xaxis.axis_label = \"temps\"\n",
    "fig1.yaxis.axis_label = \"position\"\n",
    "\n",
    "fig2 = figure(width=500, height=300, title=\"Vitesse Schéma symplectique : \"+ str(nt) + \" points\")\n",
    "fig2.x(T,Yrk[:,1],color='red',legend=\"rk2\")\n",
    "fig2.x(T,Yrki[:,1],color='blue',legend=\"Point symplectique\")\n",
    "fig2.xaxis.axis_label = \"temps\"\n",
    "fig2.yaxis.axis_label = \"Vitesse\"\n",
    "\n",
    "He=[H(y[0],y[1]) for y in Yrk]\n",
    "Hi=[H(y[0],y[1]) for y in Yrki]\n",
    "fig3 = figure(width=500, height=300, title=\"Hamiltonien Schéma symplectique : \"+ str(nt) + \" points\")\n",
    "fig3.x(T,He,color='red',legend=\"rk2\")\n",
    "fig3.x(T,Hi,color='blue',legend=\"Point symplectique\")\n",
    "fig3.xaxis.axis_label = \"temps\"\n",
    "fig3.yaxis.axis_label = \"hamiltonien\"\n",
    "\n",
    "fig4 = figure(width=500, height=300, title=\"Portrait Schéma symplectique : \"+ str(nt) + \" points\")\n",
    "fig4.x(Yrk[:,0],Yrk[:,1],color=\"blue\",legend=\"rk2\")\n",
    "fig4.x(Yrki[:,0],Yrki[:,1],color=\"red\",legend=\"Point symplectique\")\n",
    "fig4.xaxis.axis_label = \"position\"\n",
    "fig4.yaxis.axis_label = \"vitesse\"\n",
    "\n",
    "fig1.legend.location = \"top_left\"\n",
    "fig2.legend.location = \"top_right\"\n",
    "fig3.legend.location = \"top_left\"\n",
    "fig4.legend.location = \"top_right\"\n",
    "\n",
    "show(row(fig1,fig2))\n",
    "show(row(fig3,fig4))\n",
    "\n",
    "# étude de l'erreur pour plusieurs n:\n",
    "\n",
    "Nt=10*np.array([10,30,70,100,300,700,1000]) \n",
    "Err=[]\n",
    "\n",
    "for n in Nt:\n",
    "    \n",
    "    T=np.linspace(t0,tf,n+1)\n",
    "    \n",
    "    h=(tf-t0)/n # attention au nt-1\n",
    "    A=1/(1+h*h/4)*np.array([[1-h*h/4,h],[-h,1-h*h/4]])\n",
    "    Yrk=pt_milieu_symplectique(A,t0,tf,n+1,y0)  # n+1 points, n intervalles\n",
    "  \n",
    "    Yth=solutionq(T)\n",
    "    \n",
    "    err=abs(Yrk[:,0]-Yth)\n",
    "    Err.append(np.max(err))# on ne prend que le max (sera tout le temps le dernier)\n",
    "  \n",
    "\n",
    "\n",
    "fig5 = figure(width=990, height=400,x_axis_type=\"log\",y_axis_type=\"log\",title=\"Erreur commise\")\n",
    "fig5.x(Nt, Err,legend=\"Erreur pratique - symplectique\",color=\"red\")\n",
    "\n",
    "fig5.xaxis.axis_label = \"nombre du subdivisions\"\n",
    "fig5.yaxis.axis_label = \"Erreur commise sur la position\"\n",
    "fig5.legend.location = \"top_left\"\n",
    "\n",
    "# tracé de quelques droites: ordres 1, 2, 3 et 4 représentés ici\n",
    "Ht=1/Nt\n",
    "fig5.line(Nt,Ht)\n",
    "fig5.line(Nt,Ht**2,color=\"green\",legend=\"ordre 2\")\n",
    "fig5.legend.location = \"top_right\"\n",
    "\n",
    "\n",
    "show(fig5)"
   ]
  },
  {
   "cell_type": "markdown",
   "metadata": {},
   "source": [
    "L'Hamiltonien demeure cette fois constant au cours du temps en accord avec la partie théorique, la convergence est comme pour Rk2 d'ordre 2 par rapport au nombre de subdivisions. Nous avons donc les avantages des deux."
   ]
  }
 ],
 "metadata": {
  "@webio": {
   "lastCommId": null,
   "lastKernelId": null
  },
  "kernelspec": {
   "display_name": "Python 3",
   "language": "python",
   "name": "python3"
  },
  "language_info": {
   "codemirror_mode": {
    "name": "ipython",
    "version": 3
   },
   "file_extension": ".py",
   "mimetype": "text/x-python",
   "name": "python",
   "nbconvert_exporter": "python",
   "pygments_lexer": "ipython3",
   "version": "3.7.4"
  }
 },
 "nbformat": 4,
 "nbformat_minor": 2
}
